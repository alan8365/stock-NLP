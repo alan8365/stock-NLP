{
 "cells": [
  {
   "cell_type": "code",
   "execution_count": 1,
   "metadata": {},
   "outputs": [
    {
     "name": "stderr",
     "output_type": "stream",
     "text": [
      "Some weights of the model checkpoint at roberta-base were not used when initializing RobertaForSequenceClassification: ['lm_head.bias', 'roberta.pooler.dense.weight', 'lm_head.dense.weight', 'lm_head.dense.bias', 'roberta.pooler.dense.bias', 'lm_head.decoder.weight', 'lm_head.layer_norm.weight', 'lm_head.layer_norm.bias']\n",
      "- This IS expected if you are initializing RobertaForSequenceClassification from the checkpoint of a model trained on another task or with another architecture (e.g. initializing a BertForSequenceClassification model from a BertForPreTraining model).\n",
      "- This IS NOT expected if you are initializing RobertaForSequenceClassification from the checkpoint of a model that you expect to be exactly identical (initializing a BertForSequenceClassification model from a BertForSequenceClassification model).\n",
      "Some weights of RobertaForSequenceClassification were not initialized from the model checkpoint at roberta-base and are newly initialized: ['classifier.out_proj.bias', 'classifier.dense.bias', 'classifier.dense.weight', 'classifier.out_proj.weight']\n",
      "You should probably TRAIN this model on a down-stream task to be able to use it for predictions and inference.\n"
     ]
    },
    {
     "data": {
      "text/plain": [
       "Embedding(64614, 768)"
      ]
     },
     "execution_count": 1,
     "metadata": {},
     "output_type": "execute_result"
    }
   ],
   "source": [
    "from transformers import AutoTokenizer, AutoConfig, AutoModelForSequenceClassification, AutoModelForMaskedLM\n",
    "\n",
    "tokenizer = AutoTokenizer.from_pretrained(\"symbol-vocab\")\n",
    "model = AutoModelForSequenceClassification.from_pretrained(\"roberta-base\", num_labels=2)\n",
    "model.resize_token_embeddings(len(tokenizer))"
   ]
  },
  {
   "cell_type": "code",
   "execution_count": 2,
   "metadata": {},
   "outputs": [],
   "source": [
    "from glob import glob\n",
    "from datasets import Dataset\n",
    "\n",
    "import re\n",
    "import pandas as pd\n",
    "\n",
    "from parse import normalize_except_compony\n",
    "\n",
    "def data_loading(url):\n",
    "    with open(url, 'r', encoding='utf-8') as f:\n",
    "        df = pd.read_json(f)\n",
    "        data = df.copy()\n",
    "        data = data.loc[df['sentiment'].notnull()]\n",
    "        data['body'] = data['body'].apply(normalize_except_compony, args=(tokenizer, ))\n",
    "        data['sentiment'] = pd.Categorical(data['sentiment'])\n",
    "        data['label'] = data['sentiment'].cat.codes\n",
    "        data = data.rename(columns={'sentiment': 'labels', 'body': 'sentense'})\n",
    "\n",
    "        # symbols = set()\n",
    "        # for symbol_list in data['sentense'].str.findall(r'\\$[A-Z]+'):\n",
    "        #     for symbol in symbol_list:\n",
    "        #         symbols.add(symbol)\n",
    "        return data\n",
    "\n",
    "data_url = '../crawler/stock/data/**.json'\n",
    "url = glob(data_url)[-1]\n",
    "data = data_loading(url)\n",
    "\n",
    "dataset = Dataset.from_pandas(data.loc[:, ['label', 'sentense']])\n",
    "dataset = dataset.remove_columns('__index_level_0__')\n",
    "\n",
    "# special_tokens_dict = {'additional_special_tokens': list(symbols)}\n",
    "# tokenizer.add_special_tokens(special_tokens_dict)\n",
    "# model.resize_token_embeddings(len(tokenizer))"
   ]
  },
  {
   "cell_type": "code",
   "execution_count": 3,
   "metadata": {},
   "outputs": [
    {
     "name": "stderr",
     "output_type": "stream",
     "text": [
      "100%|██████████| 16/16 [00:04<00:00,  3.41ba/s]\n"
     ]
    }
   ],
   "source": [
    "def encode(example):\n",
    "    sentense = example['sentense']\n",
    "\n",
    "    result = tokenizer(\n",
    "        sentense,\n",
    "        padding='max_length',\n",
    "        truncation=True,\n",
    "    )\n",
    "    return result\n",
    "\n",
    "encoded_dataset = dataset.map(encode, batched=True)\n",
    "encoded_dataset = encoded_dataset.train_test_split(test_size=0.2)\n",
    "# print(encoded_dataset[0]['sentense'])\n",
    "# print(encoded_dataset[0]['input_ids'])\n",
    "# type(encoded_dataset[0]['labels'])"
   ]
  },
  {
   "cell_type": "code",
   "execution_count": 4,
   "metadata": {},
   "outputs": [
    {
     "name": "stdout",
     "output_type": "stream",
     "text": [
      "env: WANDB_PROJECT=Stocktwit_sentiment_analysis\n"
     ]
    },
    {
     "name": "stderr",
     "output_type": "stream",
     "text": [
      "The following columns in the training set  don't have a corresponding argument in `RobertaForSequenceClassification.forward` and have been ignored: sentense. If sentense are not expected by `RobertaForSequenceClassification.forward`,  you can safely ignore this message.\n",
      "C:\\Users\\douli\\anaconda3\\envs\\stock-nlp\\lib\\site-packages\\transformers\\optimization.py:306: FutureWarning: This implementation of AdamW is deprecated and will be removed in a future version. Use the PyTorch implementation torch.optim.AdamW instead, or set `no_deprecation_warning=True` to disable this warning\n",
      "  warnings.warn(\n",
      "***** Running training *****\n",
      "  Num examples = 12409\n",
      "  Num Epochs = 5\n",
      "  Instantaneous batch size per device = 4\n",
      "  Total train batch size (w. parallel, distributed & accumulation) = 4\n",
      "  Gradient Accumulation steps = 1\n",
      "  Total optimization steps = 15515\n",
      "Automatic Weights & Biases logging enabled, to disable set os.environ[\"WANDB_DISABLED\"] = \"true\"\n",
      "Failed to detect the name of this notebook, you can set it manually with the WANDB_NOTEBOOK_NAME environment variable to enable code saving.\n",
      "\u001b[34m\u001b[1mwandb\u001b[0m: Currently logged in as: \u001b[33malan8365\u001b[0m (use `wandb login --relogin` to force relogin)\n"
     ]
    },
    {
     "data": {
      "text/html": [
       "Tracking run with wandb version 0.12.11"
      ],
      "text/plain": [
       "<IPython.core.display.HTML object>"
      ]
     },
     "metadata": {},
     "output_type": "display_data"
    },
    {
     "data": {
      "text/html": [
       "Run data is saved locally in <code>e:\\Codes\\PycharmProjects\\stock-NLP\\model\\wandb\\run-20220401_111140-x8ophavr</code>"
      ],
      "text/plain": [
       "<IPython.core.display.HTML object>"
      ]
     },
     "metadata": {},
     "output_type": "display_data"
    },
    {
     "data": {
      "text/html": [
       "Syncing run <strong><a href=\"https://wandb.ai/alan8365/Stocktwit_sentiment_analysis/runs/x8ophavr\" target=\"_blank\">roberta-classifier-5-eopch</a></strong> to <a href=\"https://wandb.ai/alan8365/Stocktwit_sentiment_analysis\" target=\"_blank\">Weights & Biases</a> (<a href=\"https://wandb.me/run\" target=\"_blank\">docs</a>)<br/>"
      ],
      "text/plain": [
       "<IPython.core.display.HTML object>"
      ]
     },
     "metadata": {},
     "output_type": "display_data"
    },
    {
     "name": "stderr",
     "output_type": "stream",
     "text": [
      "  1%|          | 100/15515 [00:12<26:07,  9.83it/s]The following columns in the evaluation set  don't have a corresponding argument in `RobertaForSequenceClassification.forward` and have been ignored: sentense. If sentense are not expected by `RobertaForSequenceClassification.forward`,  you can safely ignore this message.\n",
      "***** Running Evaluation *****\n",
      "  Num examples = 3103\n",
      "  Batch size = 8\n",
      "\n",
      "  1%|          | 102/15515 [00:29<16:08:12,  3.77s/it]"
     ]
    },
    {
     "name": "stdout",
     "output_type": "stream",
     "text": [
      "{'eval_loss': 0.537808358669281, 'eval_recall': 1.0, 'eval_precision': 0.7831131163390267, 'eval_accuracy': 0.7831131163390267, 'eval_runtime': 17.4675, 'eval_samples_per_second': 177.644, 'eval_steps_per_second': 22.213, 'epoch': 0.03}\n"
     ]
    },
    {
     "name": "stderr",
     "output_type": "stream",
     "text": [
      "  1%|▏         | 200/15515 [00:39<26:32,  9.62it/s]   The following columns in the evaluation set  don't have a corresponding argument in `RobertaForSequenceClassification.forward` and have been ignored: sentense. If sentense are not expected by `RobertaForSequenceClassification.forward`,  you can safely ignore this message.\n",
      "***** Running Evaluation *****\n",
      "  Num examples = 3103\n",
      "  Batch size = 8\n",
      "\n",
      "  1%|▏         | 202/15515 [00:57<16:11:30,  3.81s/it]"
     ]
    },
    {
     "name": "stdout",
     "output_type": "stream",
     "text": [
      "{'eval_loss': 0.5431541204452515, 'eval_recall': 1.0, 'eval_precision': 0.7831131163390267, 'eval_accuracy': 0.7831131163390267, 'eval_runtime': 17.638, 'eval_samples_per_second': 175.927, 'eval_steps_per_second': 21.998, 'epoch': 0.06}\n"
     ]
    },
    {
     "name": "stderr",
     "output_type": "stream",
     "text": [
      "  2%|▏         | 300/15515 [01:07<26:16,  9.65it/s]   The following columns in the evaluation set  don't have a corresponding argument in `RobertaForSequenceClassification.forward` and have been ignored: sentense. If sentense are not expected by `RobertaForSequenceClassification.forward`,  you can safely ignore this message.\n",
      "***** Running Evaluation *****\n",
      "  Num examples = 3103\n",
      "  Batch size = 8\n",
      "                                                   \n",
      "  2%|▏         | 301/15515 [01:25<22:46:20,  5.39s/it]"
     ]
    },
    {
     "name": "stdout",
     "output_type": "stream",
     "text": [
      "{'eval_loss': 0.5803355574607849, 'eval_recall': 1.0, 'eval_precision': 0.7831131163390267, 'eval_accuracy': 0.7831131163390267, 'eval_runtime': 17.613, 'eval_samples_per_second': 176.177, 'eval_steps_per_second': 22.029, 'epoch': 0.1}\n"
     ]
    },
    {
     "name": "stderr",
     "output_type": "stream",
     "text": [
      "  3%|▎         | 400/15515 [01:35<26:03,  9.67it/s]   The following columns in the evaluation set  don't have a corresponding argument in `RobertaForSequenceClassification.forward` and have been ignored: sentense. If sentense are not expected by `RobertaForSequenceClassification.forward`,  you can safely ignore this message.\n",
      "***** Running Evaluation *****\n",
      "  Num examples = 3103\n",
      "  Batch size = 8\n",
      "                                                   \n",
      "  3%|▎         | 402/15515 [01:53<15:58:04,  3.80s/it]"
     ]
    },
    {
     "name": "stdout",
     "output_type": "stream",
     "text": [
      "{'eval_loss': 0.5229426622390747, 'eval_recall': 1.0, 'eval_precision': 0.7831131163390267, 'eval_accuracy': 0.7831131163390267, 'eval_runtime': 17.631, 'eval_samples_per_second': 175.997, 'eval_steps_per_second': 22.007, 'epoch': 0.13}\n"
     ]
    },
    {
     "name": "stderr",
     "output_type": "stream",
     "text": [
      "  3%|▎         | 500/15515 [02:04<54:12,  4.62it/s]   The following columns in the evaluation set  don't have a corresponding argument in `RobertaForSequenceClassification.forward` and have been ignored: sentense. If sentense are not expected by `RobertaForSequenceClassification.forward`,  you can safely ignore this message.\n",
      "***** Running Evaluation *****\n",
      "  Num examples = 3103\n",
      "  Batch size = 8\n"
     ]
    },
    {
     "name": "stdout",
     "output_type": "stream",
     "text": [
      "{'loss': 0.6031, 'learning_rate': 4.838865613922011e-05, 'epoch': 0.16}\n"
     ]
    },
    {
     "name": "stderr",
     "output_type": "stream",
     "text": [
      "                                                   \n",
      "  3%|▎         | 501/15515 [02:21<21:38:49,  5.19s/it]"
     ]
    },
    {
     "name": "stdout",
     "output_type": "stream",
     "text": [
      "{'eval_loss': 0.524303674697876, 'eval_recall': 1.0, 'eval_precision': 0.7831131163390267, 'eval_accuracy': 0.7831131163390267, 'eval_runtime': 16.682, 'eval_samples_per_second': 186.009, 'eval_steps_per_second': 23.259, 'epoch': 0.16}\n"
     ]
    },
    {
     "name": "stderr",
     "output_type": "stream",
     "text": [
      "  4%|▍         | 599/15515 [02:30<24:29, 10.15it/s]   The following columns in the evaluation set  don't have a corresponding argument in `RobertaForSequenceClassification.forward` and have been ignored: sentense. If sentense are not expected by `RobertaForSequenceClassification.forward`,  you can safely ignore this message.\n",
      "***** Running Evaluation *****\n",
      "  Num examples = 3103\n",
      "  Batch size = 8\n",
      "                                                   \n",
      "  4%|▍         | 601/15515 [02:47<10:44:34,  2.59s/it]"
     ]
    },
    {
     "name": "stdout",
     "output_type": "stream",
     "text": [
      "{'eval_loss': 0.5231636762619019, 'eval_recall': 1.0, 'eval_precision': 0.7831131163390267, 'eval_accuracy': 0.7831131163390267, 'eval_runtime': 16.641, 'eval_samples_per_second': 186.467, 'eval_steps_per_second': 23.316, 'epoch': 0.19}\n"
     ]
    },
    {
     "name": "stderr",
     "output_type": "stream",
     "text": [
      "  5%|▍         | 699/15515 [02:57<24:01, 10.27it/s]   The following columns in the evaluation set  don't have a corresponding argument in `RobertaForSequenceClassification.forward` and have been ignored: sentense. If sentense are not expected by `RobertaForSequenceClassification.forward`,  you can safely ignore this message.\n",
      "***** Running Evaluation *****\n",
      "  Num examples = 3103\n",
      "  Batch size = 8\n",
      "                                                   \n",
      "  5%|▍         | 701/15515 [03:13<10:41:04,  2.60s/it]"
     ]
    },
    {
     "name": "stdout",
     "output_type": "stream",
     "text": [
      "{'eval_loss': 0.5394071340560913, 'eval_recall': 1.0, 'eval_precision': 0.7831131163390267, 'eval_accuracy': 0.7831131163390267, 'eval_runtime': 16.6646, 'eval_samples_per_second': 186.203, 'eval_steps_per_second': 23.283, 'epoch': 0.23}\n"
     ]
    },
    {
     "name": "stderr",
     "output_type": "stream",
     "text": [
      "  5%|▌         | 799/15515 [03:23<24:16, 10.11it/s]   The following columns in the evaluation set  don't have a corresponding argument in `RobertaForSequenceClassification.forward` and have been ignored: sentense. If sentense are not expected by `RobertaForSequenceClassification.forward`,  you can safely ignore this message.\n",
      "***** Running Evaluation *****\n",
      "  Num examples = 3103\n",
      "  Batch size = 8\n",
      "                                                   \n",
      "  5%|▌         | 801/15515 [03:40<10:36:55,  2.60s/it]"
     ]
    },
    {
     "name": "stdout",
     "output_type": "stream",
     "text": [
      "{'eval_loss': 0.5730288624763489, 'eval_recall': 1.0, 'eval_precision': 0.7831131163390267, 'eval_accuracy': 0.7831131163390267, 'eval_runtime': 16.6519, 'eval_samples_per_second': 186.345, 'eval_steps_per_second': 23.301, 'epoch': 0.26}\n"
     ]
    },
    {
     "name": "stderr",
     "output_type": "stream",
     "text": [
      "  6%|▌         | 899/15515 [03:49<23:53, 10.19it/s]   The following columns in the evaluation set  don't have a corresponding argument in `RobertaForSequenceClassification.forward` and have been ignored: sentense. If sentense are not expected by `RobertaForSequenceClassification.forward`,  you can safely ignore this message.\n",
      "***** Running Evaluation *****\n",
      "  Num examples = 3103\n",
      "  Batch size = 8\n",
      "                                                   \n",
      "  6%|▌         | 901/15515 [04:06<10:32:11,  2.60s/it]"
     ]
    },
    {
     "name": "stdout",
     "output_type": "stream",
     "text": [
      "{'eval_loss': 0.5438029766082764, 'eval_recall': 1.0, 'eval_precision': 0.7831131163390267, 'eval_accuracy': 0.7831131163390267, 'eval_runtime': 16.656, 'eval_samples_per_second': 186.299, 'eval_steps_per_second': 23.295, 'epoch': 0.29}\n"
     ]
    },
    {
     "name": "stderr",
     "output_type": "stream",
     "text": [
      "  6%|▋         | 1000/15515 [04:16<23:44, 10.19it/s]  The following columns in the evaluation set  don't have a corresponding argument in `RobertaForSequenceClassification.forward` and have been ignored: sentense. If sentense are not expected by `RobertaForSequenceClassification.forward`,  you can safely ignore this message.\n",
      "***** Running Evaluation *****\n",
      "  Num examples = 3103\n",
      "  Batch size = 8\n"
     ]
    },
    {
     "name": "stdout",
     "output_type": "stream",
     "text": [
      "{'loss': 0.5561, 'learning_rate': 4.6777312278440224e-05, 'epoch': 0.32}\n"
     ]
    },
    {
     "name": "stderr",
     "output_type": "stream",
     "text": [
      "                                                    \n",
      "  6%|▋         | 1001/15515 [04:33<10:42:06,  2.65s/it]"
     ]
    },
    {
     "name": "stdout",
     "output_type": "stream",
     "text": [
      "{'eval_loss': 0.5234882235527039, 'eval_recall': 1.0, 'eval_precision': 0.7831131163390267, 'eval_accuracy': 0.7831131163390267, 'eval_runtime': 16.7313, 'eval_samples_per_second': 185.46, 'eval_steps_per_second': 23.19, 'epoch': 0.32}\n"
     ]
    },
    {
     "name": "stderr",
     "output_type": "stream",
     "text": [
      "  7%|▋         | 1099/15515 [04:43<23:32, 10.20it/s]   The following columns in the evaluation set  don't have a corresponding argument in `RobertaForSequenceClassification.forward` and have been ignored: sentense. If sentense are not expected by `RobertaForSequenceClassification.forward`,  you can safely ignore this message.\n",
      "***** Running Evaluation *****\n",
      "  Num examples = 3103\n",
      "  Batch size = 8\n",
      "                                                    \n",
      "  7%|▋         | 1101/15515 [05:00<10:23:59,  2.60s/it]"
     ]
    },
    {
     "name": "stdout",
     "output_type": "stream",
     "text": [
      "{'eval_loss': 0.529078483581543, 'eval_recall': 1.0, 'eval_precision': 0.7831131163390267, 'eval_accuracy': 0.7831131163390267, 'eval_runtime': 16.672, 'eval_samples_per_second': 186.12, 'eval_steps_per_second': 23.273, 'epoch': 0.35}\n"
     ]
    },
    {
     "name": "stderr",
     "output_type": "stream",
     "text": [
      "  8%|▊         | 1199/15515 [05:09<23:38, 10.09it/s]   The following columns in the evaluation set  don't have a corresponding argument in `RobertaForSequenceClassification.forward` and have been ignored: sentense. If sentense are not expected by `RobertaForSequenceClassification.forward`,  you can safely ignore this message.\n",
      "***** Running Evaluation *****\n",
      "  Num examples = 3103\n",
      "  Batch size = 8\n",
      "                                                    \n",
      "  8%|▊         | 1201/15515 [05:26<10:19:18,  2.60s/it]"
     ]
    },
    {
     "name": "stdout",
     "output_type": "stream",
     "text": [
      "{'eval_loss': 0.5245766043663025, 'eval_recall': 1.0, 'eval_precision': 0.7831131163390267, 'eval_accuracy': 0.7831131163390267, 'eval_runtime': 16.655, 'eval_samples_per_second': 186.31, 'eval_steps_per_second': 23.296, 'epoch': 0.39}\n"
     ]
    },
    {
     "name": "stderr",
     "output_type": "stream",
     "text": [
      "  8%|▊         | 1299/15515 [05:36<23:12, 10.21it/s]   The following columns in the evaluation set  don't have a corresponding argument in `RobertaForSequenceClassification.forward` and have been ignored: sentense. If sentense are not expected by `RobertaForSequenceClassification.forward`,  you can safely ignore this message.\n",
      "***** Running Evaluation *****\n",
      "  Num examples = 3103\n",
      "  Batch size = 8\n",
      "                                                    \n",
      "  8%|▊         | 1301/15515 [05:53<10:15:38,  2.60s/it]"
     ]
    },
    {
     "name": "stdout",
     "output_type": "stream",
     "text": [
      "{'eval_loss': 0.5422257781028748, 'eval_recall': 1.0, 'eval_precision': 0.7831131163390267, 'eval_accuracy': 0.7831131163390267, 'eval_runtime': 16.68, 'eval_samples_per_second': 186.031, 'eval_steps_per_second': 23.261, 'epoch': 0.42}\n"
     ]
    },
    {
     "name": "stderr",
     "output_type": "stream",
     "text": [
      "  9%|▉         | 1399/15515 [06:02<23:04, 10.20it/s]   The following columns in the evaluation set  don't have a corresponding argument in `RobertaForSequenceClassification.forward` and have been ignored: sentense. If sentense are not expected by `RobertaForSequenceClassification.forward`,  you can safely ignore this message.\n",
      "***** Running Evaluation *****\n",
      "  Num examples = 3103\n",
      "  Batch size = 8\n",
      "                                                    \n",
      "  9%|▉         | 1401/15515 [06:19<10:12:44,  2.60s/it]"
     ]
    },
    {
     "name": "stdout",
     "output_type": "stream",
     "text": [
      "{'eval_loss': 0.5308597683906555, 'eval_recall': 1.0, 'eval_precision': 0.7831131163390267, 'eval_accuracy': 0.7831131163390267, 'eval_runtime': 16.719, 'eval_samples_per_second': 185.597, 'eval_steps_per_second': 23.207, 'epoch': 0.45}\n"
     ]
    },
    {
     "name": "stderr",
     "output_type": "stream",
     "text": [
      " 10%|▉         | 1500/15515 [06:29<22:55, 10.19it/s]   The following columns in the evaluation set  don't have a corresponding argument in `RobertaForSequenceClassification.forward` and have been ignored: sentense. If sentense are not expected by `RobertaForSequenceClassification.forward`,  you can safely ignore this message.\n",
      "***** Running Evaluation *****\n",
      "  Num examples = 3103\n",
      "  Batch size = 8\n"
     ]
    },
    {
     "name": "stdout",
     "output_type": "stream",
     "text": [
      "{'loss': 0.5383, 'learning_rate': 4.516596841766033e-05, 'epoch': 0.48}\n"
     ]
    },
    {
     "name": "stderr",
     "output_type": "stream",
     "text": [
      "                                                    \n",
      " 10%|▉         | 1501/15515 [06:46<10:19:56,  2.65s/it]"
     ]
    },
    {
     "name": "stdout",
     "output_type": "stream",
     "text": [
      "{'eval_loss': 0.5308651924133301, 'eval_recall': 1.0, 'eval_precision': 0.7831131163390267, 'eval_accuracy': 0.7831131163390267, 'eval_runtime': 16.77, 'eval_samples_per_second': 185.033, 'eval_steps_per_second': 23.137, 'epoch': 0.48}\n"
     ]
    },
    {
     "name": "stderr",
     "output_type": "stream",
     "text": [
      " 10%|█         | 1599/15515 [06:56<22:44, 10.20it/s]   The following columns in the evaluation set  don't have a corresponding argument in `RobertaForSequenceClassification.forward` and have been ignored: sentense. If sentense are not expected by `RobertaForSequenceClassification.forward`,  you can safely ignore this message.\n",
      "***** Running Evaluation *****\n",
      "  Num examples = 3103\n",
      "  Batch size = 8\n",
      "                                                    \n",
      " 10%|█         | 1602/15515 [07:13<8:22:03,  2.17s/it] "
     ]
    },
    {
     "name": "stdout",
     "output_type": "stream",
     "text": [
      "{'eval_loss': 0.5240959525108337, 'eval_recall': 1.0, 'eval_precision': 0.7831131163390267, 'eval_accuracy': 0.7831131163390267, 'eval_runtime': 16.74, 'eval_samples_per_second': 185.364, 'eval_steps_per_second': 23.178, 'epoch': 0.52}\n"
     ]
    },
    {
     "name": "stderr",
     "output_type": "stream",
     "text": [
      " 11%|█         | 1700/15515 [07:22<22:35, 10.19it/s]  The following columns in the evaluation set  don't have a corresponding argument in `RobertaForSequenceClassification.forward` and have been ignored: sentense. If sentense are not expected by `RobertaForSequenceClassification.forward`,  you can safely ignore this message.\n",
      "***** Running Evaluation *****\n",
      "  Num examples = 3103\n",
      "  Batch size = 8\n",
      "                                                    \n",
      " 11%|█         | 1701/15515 [07:39<11:41:42,  3.05s/it]"
     ]
    },
    {
     "name": "stdout",
     "output_type": "stream",
     "text": [
      "{'eval_loss': 0.6232403516769409, 'eval_recall': 1.0, 'eval_precision': 0.7831131163390267, 'eval_accuracy': 0.7831131163390267, 'eval_runtime': 16.7242, 'eval_samples_per_second': 185.539, 'eval_steps_per_second': 23.2, 'epoch': 0.55}\n"
     ]
    },
    {
     "name": "stderr",
     "output_type": "stream",
     "text": [
      " 12%|█▏        | 1799/15515 [07:49<22:18, 10.25it/s]   The following columns in the evaluation set  don't have a corresponding argument in `RobertaForSequenceClassification.forward` and have been ignored: sentense. If sentense are not expected by `RobertaForSequenceClassification.forward`,  you can safely ignore this message.\n",
      "***** Running Evaluation *****\n",
      "  Num examples = 3103\n",
      "  Batch size = 8\n",
      "                                                    \n",
      " 12%|█▏        | 1801/15515 [08:06<9:54:31,  2.60s/it]"
     ]
    },
    {
     "name": "stdout",
     "output_type": "stream",
     "text": [
      "{'eval_loss': 0.5252262353897095, 'eval_recall': 1.0, 'eval_precision': 0.7831131163390267, 'eval_accuracy': 0.7831131163390267, 'eval_runtime': 16.698, 'eval_samples_per_second': 185.831, 'eval_steps_per_second': 23.236, 'epoch': 0.58}\n"
     ]
    },
    {
     "name": "stderr",
     "output_type": "stream",
     "text": [
      " 12%|█▏        | 1899/15515 [08:15<22:25, 10.12it/s]  The following columns in the evaluation set  don't have a corresponding argument in `RobertaForSequenceClassification.forward` and have been ignored: sentense. If sentense are not expected by `RobertaForSequenceClassification.forward`,  you can safely ignore this message.\n",
      "***** Running Evaluation *****\n",
      "  Num examples = 3103\n",
      "  Batch size = 8\n",
      "                                                    \n",
      " 12%|█▏        | 1901/15515 [08:32<9:53:11,  2.61s/it]"
     ]
    },
    {
     "name": "stdout",
     "output_type": "stream",
     "text": [
      "{'eval_loss': 0.5238810181617737, 'eval_recall': 1.0, 'eval_precision': 0.7831131163390267, 'eval_accuracy': 0.7831131163390267, 'eval_runtime': 16.7747, 'eval_samples_per_second': 184.981, 'eval_steps_per_second': 23.13, 'epoch': 0.61}\n"
     ]
    },
    {
     "name": "stderr",
     "output_type": "stream",
     "text": [
      " 13%|█▎        | 2000/15515 [08:42<22:10, 10.16it/s]  The following columns in the evaluation set  don't have a corresponding argument in `RobertaForSequenceClassification.forward` and have been ignored: sentense. If sentense are not expected by `RobertaForSequenceClassification.forward`,  you can safely ignore this message.\n",
      "***** Running Evaluation *****\n",
      "  Num examples = 3103\n",
      "  Batch size = 8\n"
     ]
    },
    {
     "name": "stdout",
     "output_type": "stream",
     "text": [
      "{'loss': 0.5689, 'learning_rate': 4.355462455688044e-05, 'epoch': 0.64}\n"
     ]
    },
    {
     "name": "stderr",
     "output_type": "stream",
     "text": [
      "                                                    \n",
      " 13%|█▎        | 2001/15515 [08:59<9:55:30,  2.64s/it]"
     ]
    },
    {
     "name": "stdout",
     "output_type": "stream",
     "text": [
      "{'eval_loss': 0.5318583846092224, 'eval_recall': 1.0, 'eval_precision': 0.7831131163390267, 'eval_accuracy': 0.7831131163390267, 'eval_runtime': 16.704, 'eval_samples_per_second': 185.764, 'eval_steps_per_second': 23.228, 'epoch': 0.64}\n"
     ]
    },
    {
     "name": "stderr",
     "output_type": "stream",
     "text": [
      " 14%|█▎        | 2099/15515 [09:09<21:49, 10.24it/s]  The following columns in the evaluation set  don't have a corresponding argument in `RobertaForSequenceClassification.forward` and have been ignored: sentense. If sentense are not expected by `RobertaForSequenceClassification.forward`,  you can safely ignore this message.\n",
      "***** Running Evaluation *****\n",
      "  Num examples = 3103\n",
      "  Batch size = 8\n",
      "                                                    \n",
      " 14%|█▎        | 2101/15515 [09:25<9:41:59,  2.60s/it]"
     ]
    },
    {
     "name": "stdout",
     "output_type": "stream",
     "text": [
      "{'eval_loss': 0.5248246788978577, 'eval_recall': 1.0, 'eval_precision': 0.7831131163390267, 'eval_accuracy': 0.7831131163390267, 'eval_runtime': 16.708, 'eval_samples_per_second': 185.719, 'eval_steps_per_second': 23.222, 'epoch': 0.68}\n"
     ]
    },
    {
     "name": "stderr",
     "output_type": "stream",
     "text": [
      " 14%|█▍        | 2199/15515 [09:35<21:37, 10.26it/s]  The following columns in the evaluation set  don't have a corresponding argument in `RobertaForSequenceClassification.forward` and have been ignored: sentense. If sentense are not expected by `RobertaForSequenceClassification.forward`,  you can safely ignore this message.\n",
      "***** Running Evaluation *****\n",
      "  Num examples = 3103\n",
      "  Batch size = 8\n",
      "                                                    \n",
      " 14%|█▍        | 2202/15515 [09:52<8:00:48,  2.17s/it]"
     ]
    },
    {
     "name": "stdout",
     "output_type": "stream",
     "text": [
      "{'eval_loss': 0.5276216268539429, 'eval_recall': 1.0, 'eval_precision': 0.7831131163390267, 'eval_accuracy': 0.7831131163390267, 'eval_runtime': 16.752, 'eval_samples_per_second': 185.232, 'eval_steps_per_second': 23.161, 'epoch': 0.71}\n"
     ]
    },
    {
     "name": "stderr",
     "output_type": "stream",
     "text": [
      " 15%|█▍        | 2299/15515 [10:02<21:41, 10.15it/s]  The following columns in the evaluation set  don't have a corresponding argument in `RobertaForSequenceClassification.forward` and have been ignored: sentense. If sentense are not expected by `RobertaForSequenceClassification.forward`,  you can safely ignore this message.\n",
      "***** Running Evaluation *****\n",
      "  Num examples = 3103\n",
      "  Batch size = 8\n",
      "                                                    \n",
      " 15%|█▍        | 2301/15515 [10:19<9:38:09,  2.63s/it]"
     ]
    },
    {
     "name": "stdout",
     "output_type": "stream",
     "text": [
      "{'eval_loss': 0.5313460826873779, 'eval_recall': 1.0, 'eval_precision': 0.7831131163390267, 'eval_accuracy': 0.7831131163390267, 'eval_runtime': 16.76, 'eval_samples_per_second': 185.143, 'eval_steps_per_second': 23.15, 'epoch': 0.74}\n"
     ]
    },
    {
     "name": "stderr",
     "output_type": "stream",
     "text": [
      " 15%|█▌        | 2399/15515 [10:28<21:22, 10.23it/s]  The following columns in the evaluation set  don't have a corresponding argument in `RobertaForSequenceClassification.forward` and have been ignored: sentense. If sentense are not expected by `RobertaForSequenceClassification.forward`,  you can safely ignore this message.\n",
      "***** Running Evaluation *****\n",
      "  Num examples = 3103\n",
      "  Batch size = 8\n",
      "                                                    \n",
      " 15%|█▌        | 2402/15515 [10:45<7:52:12,  2.16s/it]"
     ]
    },
    {
     "name": "stdout",
     "output_type": "stream",
     "text": [
      "{'eval_loss': 0.5557842254638672, 'eval_recall': 1.0, 'eval_precision': 0.7831131163390267, 'eval_accuracy': 0.7831131163390267, 'eval_runtime': 16.703, 'eval_samples_per_second': 185.775, 'eval_steps_per_second': 23.229, 'epoch': 0.77}\n"
     ]
    },
    {
     "name": "stderr",
     "output_type": "stream",
     "text": [
      " 16%|█▌        | 2500/15515 [10:55<29:19,  7.40it/s]  The following columns in the evaluation set  don't have a corresponding argument in `RobertaForSequenceClassification.forward` and have been ignored: sentense. If sentense are not expected by `RobertaForSequenceClassification.forward`,  you can safely ignore this message.\n",
      "***** Running Evaluation *****\n",
      "  Num examples = 3103\n",
      "  Batch size = 8\n"
     ]
    },
    {
     "name": "stdout",
     "output_type": "stream",
     "text": [
      "{'loss': 0.5682, 'learning_rate': 4.1943280696100554e-05, 'epoch': 0.81}\n"
     ]
    },
    {
     "name": "stderr",
     "output_type": "stream",
     "text": [
      "                                                    \n",
      " 16%|█▌        | 2501/15515 [11:12<11:07:45,  3.08s/it]"
     ]
    },
    {
     "name": "stdout",
     "output_type": "stream",
     "text": [
      "{'eval_loss': 0.524583637714386, 'eval_recall': 1.0, 'eval_precision': 0.7831131163390267, 'eval_accuracy': 0.7831131163390267, 'eval_runtime': 16.703, 'eval_samples_per_second': 185.775, 'eval_steps_per_second': 23.229, 'epoch': 0.81}\n"
     ]
    },
    {
     "name": "stderr",
     "output_type": "stream",
     "text": [
      " 17%|█▋        | 2599/15515 [11:21<21:08, 10.18it/s]   The following columns in the evaluation set  don't have a corresponding argument in `RobertaForSequenceClassification.forward` and have been ignored: sentense. If sentense are not expected by `RobertaForSequenceClassification.forward`,  you can safely ignore this message.\n",
      "***** Running Evaluation *****\n",
      "  Num examples = 3103\n",
      "  Batch size = 8\n",
      "                                                    \n",
      " 17%|█▋        | 2601/15515 [11:38<9:20:14,  2.60s/it]"
     ]
    },
    {
     "name": "stdout",
     "output_type": "stream",
     "text": [
      "{'eval_loss': 0.5230537056922913, 'eval_recall': 1.0, 'eval_precision': 0.7831131163390267, 'eval_accuracy': 0.7831131163390267, 'eval_runtime': 16.7057, 'eval_samples_per_second': 185.745, 'eval_steps_per_second': 23.226, 'epoch': 0.84}\n"
     ]
    },
    {
     "name": "stderr",
     "output_type": "stream",
     "text": [
      " 17%|█▋        | 2699/15515 [11:48<21:00, 10.17it/s]  The following columns in the evaluation set  don't have a corresponding argument in `RobertaForSequenceClassification.forward` and have been ignored: sentense. If sentense are not expected by `RobertaForSequenceClassification.forward`,  you can safely ignore this message.\n",
      "***** Running Evaluation *****\n",
      "  Num examples = 3103\n",
      "  Batch size = 8\n",
      "                                                    \n",
      " 17%|█▋        | 2701/15515 [12:05<9:15:59,  2.60s/it]"
     ]
    },
    {
     "name": "stdout",
     "output_type": "stream",
     "text": [
      "{'eval_loss': 0.5237769484519958, 'eval_recall': 1.0, 'eval_precision': 0.7831131163390267, 'eval_accuracy': 0.7831131163390267, 'eval_runtime': 16.708, 'eval_samples_per_second': 185.719, 'eval_steps_per_second': 23.222, 'epoch': 0.87}\n"
     ]
    },
    {
     "name": "stderr",
     "output_type": "stream",
     "text": [
      " 18%|█▊        | 2799/15515 [12:15<20:41, 10.24it/s]  The following columns in the evaluation set  don't have a corresponding argument in `RobertaForSequenceClassification.forward` and have been ignored: sentense. If sentense are not expected by `RobertaForSequenceClassification.forward`,  you can safely ignore this message.\n",
      "***** Running Evaluation *****\n",
      "  Num examples = 3103\n",
      "  Batch size = 8\n",
      "                                                    \n",
      " 18%|█▊        | 2801/15515 [12:31<9:10:53,  2.60s/it]"
     ]
    },
    {
     "name": "stdout",
     "output_type": "stream",
     "text": [
      "{'eval_loss': 0.5327578186988831, 'eval_recall': 1.0, 'eval_precision': 0.7831131163390267, 'eval_accuracy': 0.7831131163390267, 'eval_runtime': 16.6871, 'eval_samples_per_second': 185.952, 'eval_steps_per_second': 23.252, 'epoch': 0.9}\n"
     ]
    },
    {
     "name": "stderr",
     "output_type": "stream",
     "text": [
      " 19%|█▊        | 2899/15515 [12:41<20:36, 10.20it/s]  The following columns in the evaluation set  don't have a corresponding argument in `RobertaForSequenceClassification.forward` and have been ignored: sentense. If sentense are not expected by `RobertaForSequenceClassification.forward`,  you can safely ignore this message.\n",
      "***** Running Evaluation *****\n",
      "  Num examples = 3103\n",
      "  Batch size = 8\n",
      "                                                    \n",
      " 19%|█▊        | 2901/15515 [12:58<9:07:08,  2.60s/it]"
     ]
    },
    {
     "name": "stdout",
     "output_type": "stream",
     "text": [
      "{'eval_loss': 0.5311117768287659, 'eval_recall': 1.0, 'eval_precision': 0.7831131163390267, 'eval_accuracy': 0.7831131163390267, 'eval_runtime': 16.705, 'eval_samples_per_second': 185.753, 'eval_steps_per_second': 23.227, 'epoch': 0.93}\n"
     ]
    },
    {
     "name": "stderr",
     "output_type": "stream",
     "text": [
      " 19%|█▉        | 3000/15515 [13:08<20:33, 10.14it/s]  The following columns in the evaluation set  don't have a corresponding argument in `RobertaForSequenceClassification.forward` and have been ignored: sentense. If sentense are not expected by `RobertaForSequenceClassification.forward`,  you can safely ignore this message.\n",
      "***** Running Evaluation *****\n",
      "  Num examples = 3103\n",
      "  Batch size = 8\n"
     ]
    },
    {
     "name": "stdout",
     "output_type": "stream",
     "text": [
      "{'loss': 0.5516, 'learning_rate': 4.033193683532066e-05, 'epoch': 0.97}\n"
     ]
    },
    {
     "name": "stderr",
     "output_type": "stream",
     "text": [
      "                                                    \n",
      " 19%|█▉        | 3002/15515 [13:25<7:36:51,  2.19s/it]"
     ]
    },
    {
     "name": "stdout",
     "output_type": "stream",
     "text": [
      "{'eval_loss': 0.6604861617088318, 'eval_recall': 1.0, 'eval_precision': 0.7831131163390267, 'eval_accuracy': 0.7831131163390267, 'eval_runtime': 16.6675, 'eval_samples_per_second': 186.171, 'eval_steps_per_second': 23.279, 'epoch': 0.97}\n"
     ]
    },
    {
     "name": "stderr",
     "output_type": "stream",
     "text": [
      " 20%|█▉        | 3100/15515 [13:34<20:21, 10.17it/s]  The following columns in the evaluation set  don't have a corresponding argument in `RobertaForSequenceClassification.forward` and have been ignored: sentense. If sentense are not expected by `RobertaForSequenceClassification.forward`,  you can safely ignore this message.\n",
      "***** Running Evaluation *****\n",
      "  Num examples = 3103\n",
      "  Batch size = 8\n",
      "                                                    \n",
      " 20%|█▉        | 3102/15515 [13:51<8:27:07,  2.45s/it] "
     ]
    },
    {
     "name": "stdout",
     "output_type": "stream",
     "text": [
      "{'eval_loss': 0.5466869473457336, 'eval_recall': 1.0, 'eval_precision': 0.7831131163390267, 'eval_accuracy': 0.7831131163390267, 'eval_runtime': 16.698, 'eval_samples_per_second': 185.831, 'eval_steps_per_second': 23.236, 'epoch': 1.0}\n"
     ]
    },
    {
     "name": "stderr",
     "output_type": "stream",
     "text": [
      " 21%|██        | 3200/15515 [14:01<20:05, 10.21it/s]  The following columns in the evaluation set  don't have a corresponding argument in `RobertaForSequenceClassification.forward` and have been ignored: sentense. If sentense are not expected by `RobertaForSequenceClassification.forward`,  you can safely ignore this message.\n",
      "***** Running Evaluation *****\n",
      "  Num examples = 3103\n",
      "  Batch size = 8\n",
      "                                                    \n",
      " 21%|██        | 3201/15515 [14:18<10:24:56,  3.04s/it]"
     ]
    },
    {
     "name": "stdout",
     "output_type": "stream",
     "text": [
      "{'eval_loss': 0.5251371264457703, 'eval_recall': 1.0, 'eval_precision': 0.7831131163390267, 'eval_accuracy': 0.7831131163390267, 'eval_runtime': 16.704, 'eval_samples_per_second': 185.764, 'eval_steps_per_second': 23.228, 'epoch': 1.03}\n"
     ]
    },
    {
     "name": "stderr",
     "output_type": "stream",
     "text": [
      " 21%|██▏       | 3299/15515 [14:27<19:52, 10.25it/s]   The following columns in the evaluation set  don't have a corresponding argument in `RobertaForSequenceClassification.forward` and have been ignored: sentense. If sentense are not expected by `RobertaForSequenceClassification.forward`,  you can safely ignore this message.\n",
      "***** Running Evaluation *****\n",
      "  Num examples = 3103\n",
      "  Batch size = 8\n",
      "                                                    \n",
      " 21%|██▏       | 3302/15515 [14:44<7:20:08,  2.16s/it]"
     ]
    },
    {
     "name": "stdout",
     "output_type": "stream",
     "text": [
      "{'eval_loss': 0.5236926674842834, 'eval_recall': 1.0, 'eval_precision': 0.7831131163390267, 'eval_accuracy': 0.7831131163390267, 'eval_runtime': 16.717, 'eval_samples_per_second': 185.619, 'eval_steps_per_second': 23.21, 'epoch': 1.06}\n"
     ]
    },
    {
     "name": "stderr",
     "output_type": "stream",
     "text": [
      " 22%|██▏       | 3400/15515 [14:54<20:02, 10.07it/s]  The following columns in the evaluation set  don't have a corresponding argument in `RobertaForSequenceClassification.forward` and have been ignored: sentense. If sentense are not expected by `RobertaForSequenceClassification.forward`,  you can safely ignore this message.\n",
      "***** Running Evaluation *****\n",
      "  Num examples = 3103\n",
      "  Batch size = 8\n",
      "                                                    \n",
      " 22%|██▏       | 3402/15515 [15:11<8:16:00,  2.46s/it] "
     ]
    },
    {
     "name": "stdout",
     "output_type": "stream",
     "text": [
      "{'eval_loss': 0.6266982555389404, 'eval_recall': 1.0, 'eval_precision': 0.7831131163390267, 'eval_accuracy': 0.7831131163390267, 'eval_runtime': 16.736, 'eval_samples_per_second': 185.409, 'eval_steps_per_second': 23.184, 'epoch': 1.1}\n"
     ]
    },
    {
     "name": "stderr",
     "output_type": "stream",
     "text": [
      " 23%|██▎       | 3500/15515 [15:21<27:47,  7.21it/s]  The following columns in the evaluation set  don't have a corresponding argument in `RobertaForSequenceClassification.forward` and have been ignored: sentense. If sentense are not expected by `RobertaForSequenceClassification.forward`,  you can safely ignore this message.\n",
      "***** Running Evaluation *****\n",
      "  Num examples = 3103\n",
      "  Batch size = 8\n"
     ]
    },
    {
     "name": "stdout",
     "output_type": "stream",
     "text": [
      "{'loss': 0.5481, 'learning_rate': 3.872059297454077e-05, 'epoch': 1.13}\n"
     ]
    },
    {
     "name": "stderr",
     "output_type": "stream",
     "text": [
      "                                                    \n",
      " 23%|██▎       | 3501/15515 [15:38<10:17:19,  3.08s/it]"
     ]
    },
    {
     "name": "stdout",
     "output_type": "stream",
     "text": [
      "{'eval_loss': 0.5231412053108215, 'eval_recall': 1.0, 'eval_precision': 0.7831131163390267, 'eval_accuracy': 0.7831131163390267, 'eval_runtime': 16.71, 'eval_samples_per_second': 185.697, 'eval_steps_per_second': 23.22, 'epoch': 1.13}\n"
     ]
    },
    {
     "name": "stderr",
     "output_type": "stream",
     "text": [
      " 23%|██▎       | 3599/15515 [15:47<19:31, 10.17it/s]   The following columns in the evaluation set  don't have a corresponding argument in `RobertaForSequenceClassification.forward` and have been ignored: sentense. If sentense are not expected by `RobertaForSequenceClassification.forward`,  you can safely ignore this message.\n",
      "***** Running Evaluation *****\n",
      "  Num examples = 3103\n",
      "  Batch size = 8\n",
      "                                                    \n",
      " 23%|██▎       | 3601/15515 [16:04<8:36:58,  2.60s/it]"
     ]
    },
    {
     "name": "stdout",
     "output_type": "stream",
     "text": [
      "{'eval_loss': 0.5353499054908752, 'eval_recall': 1.0, 'eval_precision': 0.7831131163390267, 'eval_accuracy': 0.7831131163390267, 'eval_runtime': 16.707, 'eval_samples_per_second': 185.731, 'eval_steps_per_second': 23.224, 'epoch': 1.16}\n"
     ]
    },
    {
     "name": "stderr",
     "output_type": "stream",
     "text": [
      " 24%|██▍       | 3699/15515 [16:14<19:29, 10.10it/s]  The following columns in the evaluation set  don't have a corresponding argument in `RobertaForSequenceClassification.forward` and have been ignored: sentense. If sentense are not expected by `RobertaForSequenceClassification.forward`,  you can safely ignore this message.\n",
      "***** Running Evaluation *****\n",
      "  Num examples = 3103\n",
      "  Batch size = 8\n",
      "                                                    \n",
      " 24%|██▍       | 3701/15515 [16:31<8:32:20,  2.60s/it]"
     ]
    },
    {
     "name": "stdout",
     "output_type": "stream",
     "text": [
      "{'eval_loss': 0.5245245099067688, 'eval_recall': 1.0, 'eval_precision': 0.7831131163390267, 'eval_accuracy': 0.7831131163390267, 'eval_runtime': 16.6963, 'eval_samples_per_second': 185.849, 'eval_steps_per_second': 23.239, 'epoch': 1.19}\n"
     ]
    },
    {
     "name": "stderr",
     "output_type": "stream",
     "text": [
      " 24%|██▍       | 3799/15515 [16:40<19:13, 10.16it/s]  The following columns in the evaluation set  don't have a corresponding argument in `RobertaForSequenceClassification.forward` and have been ignored: sentense. If sentense are not expected by `RobertaForSequenceClassification.forward`,  you can safely ignore this message.\n",
      "***** Running Evaluation *****\n",
      "  Num examples = 3103\n",
      "  Batch size = 8\n",
      "                                                    \n",
      " 24%|██▍       | 3801/15515 [16:57<8:27:45,  2.60s/it]"
     ]
    },
    {
     "name": "stdout",
     "output_type": "stream",
     "text": [
      "{'eval_loss': 0.5251052379608154, 'eval_recall': 1.0, 'eval_precision': 0.7831131163390267, 'eval_accuracy': 0.7831131163390267, 'eval_runtime': 16.688, 'eval_samples_per_second': 185.942, 'eval_steps_per_second': 23.25, 'epoch': 1.22}\n"
     ]
    },
    {
     "name": "stderr",
     "output_type": "stream",
     "text": [
      " 25%|██▌       | 3899/15515 [17:07<19:04, 10.15it/s]  The following columns in the evaluation set  don't have a corresponding argument in `RobertaForSequenceClassification.forward` and have been ignored: sentense. If sentense are not expected by `RobertaForSequenceClassification.forward`,  you can safely ignore this message.\n",
      "***** Running Evaluation *****\n",
      "  Num examples = 3103\n",
      "  Batch size = 8\n",
      "                                                    \n",
      " 25%|██▌       | 3901/15515 [17:24<8:23:39,  2.60s/it]"
     ]
    },
    {
     "name": "stdout",
     "output_type": "stream",
     "text": [
      "{'eval_loss': 0.5244811177253723, 'eval_recall': 1.0, 'eval_precision': 0.7831131163390267, 'eval_accuracy': 0.7831131163390267, 'eval_runtime': 16.699, 'eval_samples_per_second': 185.819, 'eval_steps_per_second': 23.235, 'epoch': 1.26}\n"
     ]
    },
    {
     "name": "stderr",
     "output_type": "stream",
     "text": [
      " 26%|██▌       | 4000/15515 [17:34<18:44, 10.24it/s]  The following columns in the evaluation set  don't have a corresponding argument in `RobertaForSequenceClassification.forward` and have been ignored: sentense. If sentense are not expected by `RobertaForSequenceClassification.forward`,  you can safely ignore this message.\n",
      "***** Running Evaluation *****\n",
      "  Num examples = 3103\n",
      "  Batch size = 8\n"
     ]
    },
    {
     "name": "stdout",
     "output_type": "stream",
     "text": [
      "{'loss': 0.5486, 'learning_rate': 3.710924911376088e-05, 'epoch': 1.29}\n"
     ]
    },
    {
     "name": "stderr",
     "output_type": "stream",
     "text": [
      "                                                    \n",
      " 26%|██▌       | 4001/15515 [17:50<8:26:43,  2.64s/it]"
     ]
    },
    {
     "name": "stdout",
     "output_type": "stream",
     "text": [
      "{'eval_loss': 0.541239857673645, 'eval_recall': 1.0, 'eval_precision': 0.7831131163390267, 'eval_accuracy': 0.7831131163390267, 'eval_runtime': 16.691, 'eval_samples_per_second': 185.909, 'eval_steps_per_second': 23.246, 'epoch': 1.29}\n"
     ]
    },
    {
     "name": "stderr",
     "output_type": "stream",
     "text": [
      " 26%|██▋       | 4099/15515 [18:00<18:47, 10.12it/s]  The following columns in the evaluation set  don't have a corresponding argument in `RobertaForSequenceClassification.forward` and have been ignored: sentense. If sentense are not expected by `RobertaForSequenceClassification.forward`,  you can safely ignore this message.\n",
      "***** Running Evaluation *****\n",
      "  Num examples = 3103\n",
      "  Batch size = 8\n",
      "                                                    \n",
      " 26%|██▋       | 4102/15515 [18:17<6:50:47,  2.16s/it]"
     ]
    },
    {
     "name": "stdout",
     "output_type": "stream",
     "text": [
      "{'eval_loss': 0.5231148600578308, 'eval_recall': 1.0, 'eval_precision': 0.7831131163390267, 'eval_accuracy': 0.7831131163390267, 'eval_runtime': 16.687, 'eval_samples_per_second': 185.953, 'eval_steps_per_second': 23.252, 'epoch': 1.32}\n"
     ]
    },
    {
     "name": "stderr",
     "output_type": "stream",
     "text": [
      " 27%|██▋       | 4200/15515 [18:27<18:28, 10.20it/s]  The following columns in the evaluation set  don't have a corresponding argument in `RobertaForSequenceClassification.forward` and have been ignored: sentense. If sentense are not expected by `RobertaForSequenceClassification.forward`,  you can safely ignore this message.\n",
      "***** Running Evaluation *****\n",
      "  Num examples = 3103\n",
      "  Batch size = 8\n",
      "                                                    \n",
      " 27%|██▋       | 4201/15515 [18:43<9:32:53,  3.04s/it]"
     ]
    },
    {
     "name": "stdout",
     "output_type": "stream",
     "text": [
      "{'eval_loss': 0.5251612067222595, 'eval_recall': 1.0, 'eval_precision': 0.7831131163390267, 'eval_accuracy': 0.7831131163390267, 'eval_runtime': 16.6659, 'eval_samples_per_second': 186.188, 'eval_steps_per_second': 23.281, 'epoch': 1.35}\n"
     ]
    },
    {
     "name": "stderr",
     "output_type": "stream",
     "text": [
      " 28%|██▊       | 4299/15515 [18:53<18:09, 10.30it/s]  The following columns in the evaluation set  don't have a corresponding argument in `RobertaForSequenceClassification.forward` and have been ignored: sentense. If sentense are not expected by `RobertaForSequenceClassification.forward`,  you can safely ignore this message.\n",
      "***** Running Evaluation *****\n",
      "  Num examples = 3103\n",
      "  Batch size = 8\n",
      "                                                    \n",
      " 28%|██▊       | 4301/15515 [19:10<8:01:06,  2.57s/it]"
     ]
    },
    {
     "name": "stdout",
     "output_type": "stream",
     "text": [
      "{'eval_loss': 0.5237477421760559, 'eval_recall': 1.0, 'eval_precision': 0.7831131163390267, 'eval_accuracy': 0.7831131163390267, 'eval_runtime': 16.522, 'eval_samples_per_second': 187.81, 'eval_steps_per_second': 23.484, 'epoch': 1.39}\n"
     ]
    },
    {
     "name": "stderr",
     "output_type": "stream",
     "text": [
      " 28%|██▊       | 4399/15515 [19:19<17:52, 10.37it/s]  The following columns in the evaluation set  don't have a corresponding argument in `RobertaForSequenceClassification.forward` and have been ignored: sentense. If sentense are not expected by `RobertaForSequenceClassification.forward`,  you can safely ignore this message.\n",
      "***** Running Evaluation *****\n",
      "  Num examples = 3103\n",
      "  Batch size = 8\n",
      "                                                    \n",
      " 28%|██▊       | 4401/15515 [19:36<7:57:15,  2.58s/it]"
     ]
    },
    {
     "name": "stdout",
     "output_type": "stream",
     "text": [
      "{'eval_loss': 0.5362764000892639, 'eval_recall': 1.0, 'eval_precision': 0.7831131163390267, 'eval_accuracy': 0.7831131163390267, 'eval_runtime': 16.5395, 'eval_samples_per_second': 187.612, 'eval_steps_per_second': 23.459, 'epoch': 1.42}\n"
     ]
    },
    {
     "name": "stderr",
     "output_type": "stream",
     "text": [
      " 29%|██▉       | 4500/15515 [19:46<17:51, 10.28it/s]  The following columns in the evaluation set  don't have a corresponding argument in `RobertaForSequenceClassification.forward` and have been ignored: sentense. If sentense are not expected by `RobertaForSequenceClassification.forward`,  you can safely ignore this message.\n",
      "***** Running Evaluation *****\n",
      "  Num examples = 3103\n",
      "  Batch size = 8\n"
     ]
    },
    {
     "name": "stdout",
     "output_type": "stream",
     "text": [
      "{'loss': 0.5402, 'learning_rate': 3.549790525298099e-05, 'epoch': 1.45}\n"
     ]
    },
    {
     "name": "stderr",
     "output_type": "stream",
     "text": [
      "                                                    \n",
      " 29%|██▉       | 4501/15515 [20:02<7:59:52,  2.61s/it]"
     ]
    },
    {
     "name": "stdout",
     "output_type": "stream",
     "text": [
      "{'eval_loss': 0.5348420739173889, 'eval_recall': 1.0, 'eval_precision': 0.7831131163390267, 'eval_accuracy': 0.7831131163390267, 'eval_runtime': 16.51, 'eval_samples_per_second': 187.947, 'eval_steps_per_second': 23.501, 'epoch': 1.45}\n"
     ]
    },
    {
     "name": "stderr",
     "output_type": "stream",
     "text": [
      " 30%|██▉       | 4599/15515 [20:12<17:36, 10.33it/s]  The following columns in the evaluation set  don't have a corresponding argument in `RobertaForSequenceClassification.forward` and have been ignored: sentense. If sentense are not expected by `RobertaForSequenceClassification.forward`,  you can safely ignore this message.\n",
      "***** Running Evaluation *****\n",
      "  Num examples = 3103\n",
      "  Batch size = 8\n",
      "                                                    \n",
      " 30%|██▉       | 4601/15515 [20:29<7:48:08,  2.57s/it]"
     ]
    },
    {
     "name": "stdout",
     "output_type": "stream",
     "text": [
      "{'eval_loss': 0.5258827209472656, 'eval_recall': 1.0, 'eval_precision': 0.7831131163390267, 'eval_accuracy': 0.7831131163390267, 'eval_runtime': 16.5198, 'eval_samples_per_second': 187.835, 'eval_steps_per_second': 23.487, 'epoch': 1.48}\n"
     ]
    },
    {
     "name": "stderr",
     "output_type": "stream",
     "text": [
      " 30%|███       | 4699/15515 [20:38<17:27, 10.33it/s]  The following columns in the evaluation set  don't have a corresponding argument in `RobertaForSequenceClassification.forward` and have been ignored: sentense. If sentense are not expected by `RobertaForSequenceClassification.forward`,  you can safely ignore this message.\n",
      "***** Running Evaluation *****\n",
      "  Num examples = 3103\n",
      "  Batch size = 8\n",
      "                                                    \n",
      " 30%|███       | 4701/15515 [20:55<7:44:03,  2.57s/it]"
     ]
    },
    {
     "name": "stdout",
     "output_type": "stream",
     "text": [
      "{'eval_loss': 0.5333750247955322, 'eval_recall': 1.0, 'eval_precision': 0.7831131163390267, 'eval_accuracy': 0.7831131163390267, 'eval_runtime': 16.524, 'eval_samples_per_second': 187.787, 'eval_steps_per_second': 23.481, 'epoch': 1.51}\n"
     ]
    },
    {
     "name": "stderr",
     "output_type": "stream",
     "text": [
      " 31%|███       | 4799/15515 [21:04<17:15, 10.35it/s]  The following columns in the evaluation set  don't have a corresponding argument in `RobertaForSequenceClassification.forward` and have been ignored: sentense. If sentense are not expected by `RobertaForSequenceClassification.forward`,  you can safely ignore this message.\n",
      "***** Running Evaluation *****\n",
      "  Num examples = 3103\n",
      "  Batch size = 8\n",
      "                                                    \n",
      " 31%|███       | 4801/15515 [21:21<7:40:37,  2.58s/it]"
     ]
    },
    {
     "name": "stdout",
     "output_type": "stream",
     "text": [
      "{'eval_loss': 0.5239048600196838, 'eval_recall': 1.0, 'eval_precision': 0.7831131163390267, 'eval_accuracy': 0.7831131163390267, 'eval_runtime': 16.559, 'eval_samples_per_second': 187.391, 'eval_steps_per_second': 23.431, 'epoch': 1.55}\n"
     ]
    },
    {
     "name": "stderr",
     "output_type": "stream",
     "text": [
      " 32%|███▏      | 4899/15515 [21:31<17:16, 10.25it/s]  The following columns in the evaluation set  don't have a corresponding argument in `RobertaForSequenceClassification.forward` and have been ignored: sentense. If sentense are not expected by `RobertaForSequenceClassification.forward`,  you can safely ignore this message.\n",
      "***** Running Evaluation *****\n",
      "  Num examples = 3103\n",
      "  Batch size = 8\n",
      "                                                    \n",
      " 32%|███▏      | 4901/15515 [21:47<7:36:12,  2.58s/it]"
     ]
    },
    {
     "name": "stdout",
     "output_type": "stream",
     "text": [
      "{'eval_loss': 0.523180365562439, 'eval_recall': 1.0, 'eval_precision': 0.7831131163390267, 'eval_accuracy': 0.7831131163390267, 'eval_runtime': 16.55, 'eval_samples_per_second': 187.492, 'eval_steps_per_second': 23.444, 'epoch': 1.58}\n"
     ]
    },
    {
     "name": "stderr",
     "output_type": "stream",
     "text": [
      " 32%|███▏      | 5000/15515 [21:57<17:05, 10.26it/s]  The following columns in the evaluation set  don't have a corresponding argument in `RobertaForSequenceClassification.forward` and have been ignored: sentense. If sentense are not expected by `RobertaForSequenceClassification.forward`,  you can safely ignore this message.\n",
      "***** Running Evaluation *****\n",
      "  Num examples = 3103\n",
      "  Batch size = 8\n"
     ]
    },
    {
     "name": "stdout",
     "output_type": "stream",
     "text": [
      "{'loss': 0.5434, 'learning_rate': 3.38865613922011e-05, 'epoch': 1.61}\n"
     ]
    },
    {
     "name": "stderr",
     "output_type": "stream",
     "text": [
      "                                                    \n",
      " 32%|███▏      | 5000/15515 [22:14<17:05, 10.26it/s]Saving model checkpoint to roberta-classifier-5-eopch-trainer\\checkpoint-5000\n",
      "Configuration saved in roberta-classifier-5-eopch-trainer\\checkpoint-5000\\config.json\n"
     ]
    },
    {
     "name": "stdout",
     "output_type": "stream",
     "text": [
      "{'eval_loss': 0.523313581943512, 'eval_recall': 1.0, 'eval_precision': 0.7831131163390267, 'eval_accuracy': 0.7831131163390267, 'eval_runtime': 16.537, 'eval_samples_per_second': 187.64, 'eval_steps_per_second': 23.463, 'epoch': 1.61}\n"
     ]
    },
    {
     "name": "stderr",
     "output_type": "stream",
     "text": [
      "Model weights saved in roberta-classifier-5-eopch-trainer\\checkpoint-5000\\pytorch_model.bin\n",
      " 33%|███▎      | 5100/15515 [22:39<16:42, 10.39it/s]   The following columns in the evaluation set  don't have a corresponding argument in `RobertaForSequenceClassification.forward` and have been ignored: sentense. If sentense are not expected by `RobertaForSequenceClassification.forward`,  you can safely ignore this message.\n",
      "***** Running Evaluation *****\n",
      "  Num examples = 3103\n",
      "  Batch size = 8\n",
      "                                                    \n",
      " 33%|███▎      | 5102/15515 [22:55<7:26:10,  2.57s/it]"
     ]
    },
    {
     "name": "stdout",
     "output_type": "stream",
     "text": [
      "{'eval_loss': 0.5242179036140442, 'eval_recall': 1.0, 'eval_precision': 0.7831131163390267, 'eval_accuracy': 0.7831131163390267, 'eval_runtime': 16.5017, 'eval_samples_per_second': 188.042, 'eval_steps_per_second': 23.513, 'epoch': 1.64}\n"
     ]
    },
    {
     "name": "stderr",
     "output_type": "stream",
     "text": [
      " 34%|███▎      | 5200/15515 [23:05<16:43, 10.28it/s]  The following columns in the evaluation set  don't have a corresponding argument in `RobertaForSequenceClassification.forward` and have been ignored: sentense. If sentense are not expected by `RobertaForSequenceClassification.forward`,  you can safely ignore this message.\n",
      "***** Running Evaluation *****\n",
      "  Num examples = 3103\n",
      "  Batch size = 8\n",
      "                                                    \n",
      " 34%|███▎      | 5201/15515 [23:21<8:38:03,  3.01s/it]"
     ]
    },
    {
     "name": "stdout",
     "output_type": "stream",
     "text": [
      "{'eval_loss': 0.5230124592781067, 'eval_recall': 1.0, 'eval_precision': 0.7831131163390267, 'eval_accuracy': 0.7831131163390267, 'eval_runtime': 16.532, 'eval_samples_per_second': 187.697, 'eval_steps_per_second': 23.47, 'epoch': 1.68}\n"
     ]
    },
    {
     "name": "stderr",
     "output_type": "stream",
     "text": [
      " 34%|███▍      | 5299/15515 [23:31<16:32, 10.29it/s]  The following columns in the evaluation set  don't have a corresponding argument in `RobertaForSequenceClassification.forward` and have been ignored: sentense. If sentense are not expected by `RobertaForSequenceClassification.forward`,  you can safely ignore this message.\n",
      "***** Running Evaluation *****\n",
      "  Num examples = 3103\n",
      "  Batch size = 8\n",
      "                                                    \n",
      " 34%|███▍      | 5301/15515 [23:48<7:18:46,  2.58s/it]"
     ]
    },
    {
     "name": "stdout",
     "output_type": "stream",
     "text": [
      "{'eval_loss': 0.5230359435081482, 'eval_recall': 1.0, 'eval_precision': 0.7831131163390267, 'eval_accuracy': 0.7831131163390267, 'eval_runtime': 16.541, 'eval_samples_per_second': 187.594, 'eval_steps_per_second': 23.457, 'epoch': 1.71}\n"
     ]
    },
    {
     "name": "stderr",
     "output_type": "stream",
     "text": [
      " 35%|███▍      | 5399/15515 [23:57<16:21, 10.30it/s]  The following columns in the evaluation set  don't have a corresponding argument in `RobertaForSequenceClassification.forward` and have been ignored: sentense. If sentense are not expected by `RobertaForSequenceClassification.forward`,  you can safely ignore this message.\n",
      "***** Running Evaluation *****\n",
      "  Num examples = 3103\n",
      "  Batch size = 8\n",
      "                                                    \n",
      " 35%|███▍      | 5401/15515 [24:14<7:15:07,  2.58s/it]"
     ]
    },
    {
     "name": "stdout",
     "output_type": "stream",
     "text": [
      "{'eval_loss': 0.5336148738861084, 'eval_recall': 1.0, 'eval_precision': 0.7831131163390267, 'eval_accuracy': 0.7831131163390267, 'eval_runtime': 16.565, 'eval_samples_per_second': 187.323, 'eval_steps_per_second': 23.423, 'epoch': 1.74}\n"
     ]
    },
    {
     "name": "stderr",
     "output_type": "stream",
     "text": [
      " 35%|███▌      | 5500/15515 [24:24<16:07, 10.35it/s]  The following columns in the evaluation set  don't have a corresponding argument in `RobertaForSequenceClassification.forward` and have been ignored: sentense. If sentense are not expected by `RobertaForSequenceClassification.forward`,  you can safely ignore this message.\n",
      "***** Running Evaluation *****\n",
      "  Num examples = 3103\n",
      "  Batch size = 8\n"
     ]
    },
    {
     "name": "stdout",
     "output_type": "stream",
     "text": [
      "{'loss': 0.5629, 'learning_rate': 3.227521753142121e-05, 'epoch': 1.77}\n"
     ]
    },
    {
     "name": "stderr",
     "output_type": "stream",
     "text": [
      "                                                    \n",
      " 35%|███▌      | 5501/15515 [24:40<7:16:52,  2.62s/it]"
     ]
    },
    {
     "name": "stdout",
     "output_type": "stream",
     "text": [
      "{'eval_loss': 0.5230180621147156, 'eval_recall': 1.0, 'eval_precision': 0.7831131163390267, 'eval_accuracy': 0.7831131163390267, 'eval_runtime': 16.5436, 'eval_samples_per_second': 187.565, 'eval_steps_per_second': 23.453, 'epoch': 1.77}\n"
     ]
    },
    {
     "name": "stderr",
     "output_type": "stream",
     "text": [
      " 36%|███▌      | 5599/15515 [24:50<16:05, 10.27it/s]  The following columns in the evaluation set  don't have a corresponding argument in `RobertaForSequenceClassification.forward` and have been ignored: sentense. If sentense are not expected by `RobertaForSequenceClassification.forward`,  you can safely ignore this message.\n",
      "***** Running Evaluation *****\n",
      "  Num examples = 3103\n",
      "  Batch size = 8\n",
      "                                                    \n",
      " 36%|███▌      | 5601/15515 [25:07<7:05:57,  2.58s/it]"
     ]
    },
    {
     "name": "stdout",
     "output_type": "stream",
     "text": [
      "{'eval_loss': 0.5230734944343567, 'eval_recall': 1.0, 'eval_precision': 0.7831131163390267, 'eval_accuracy': 0.7831131163390267, 'eval_runtime': 16.542, 'eval_samples_per_second': 187.583, 'eval_steps_per_second': 23.455, 'epoch': 1.8}\n"
     ]
    },
    {
     "name": "stderr",
     "output_type": "stream",
     "text": [
      " 37%|███▋      | 5699/15515 [25:16<15:54, 10.28it/s]  The following columns in the evaluation set  don't have a corresponding argument in `RobertaForSequenceClassification.forward` and have been ignored: sentense. If sentense are not expected by `RobertaForSequenceClassification.forward`,  you can safely ignore this message.\n",
      "***** Running Evaluation *****\n",
      "  Num examples = 3103\n",
      "  Batch size = 8\n",
      "                                                    \n",
      " 37%|███▋      | 5701/15515 [25:33<7:01:46,  2.58s/it]"
     ]
    },
    {
     "name": "stdout",
     "output_type": "stream",
     "text": [
      "{'eval_loss': 0.5329747200012207, 'eval_recall': 1.0, 'eval_precision': 0.7831131163390267, 'eval_accuracy': 0.7831131163390267, 'eval_runtime': 16.5471, 'eval_samples_per_second': 187.525, 'eval_steps_per_second': 23.448, 'epoch': 1.84}\n"
     ]
    },
    {
     "name": "stderr",
     "output_type": "stream",
     "text": [
      " 37%|███▋      | 5799/15515 [25:42<15:39, 10.34it/s]  The following columns in the evaluation set  don't have a corresponding argument in `RobertaForSequenceClassification.forward` and have been ignored: sentense. If sentense are not expected by `RobertaForSequenceClassification.forward`,  you can safely ignore this message.\n",
      "***** Running Evaluation *****\n",
      "  Num examples = 3103\n",
      "  Batch size = 8\n",
      "                                                    \n",
      " 37%|███▋      | 5801/15515 [25:59<6:57:24,  2.58s/it]"
     ]
    },
    {
     "name": "stdout",
     "output_type": "stream",
     "text": [
      "{'eval_loss': 0.5266794562339783, 'eval_recall': 1.0, 'eval_precision': 0.7831131163390267, 'eval_accuracy': 0.7831131163390267, 'eval_runtime': 16.5505, 'eval_samples_per_second': 187.487, 'eval_steps_per_second': 23.443, 'epoch': 1.87}\n"
     ]
    },
    {
     "name": "stderr",
     "output_type": "stream",
     "text": [
      " 38%|███▊      | 5899/15515 [26:09<15:29, 10.34it/s]  The following columns in the evaluation set  don't have a corresponding argument in `RobertaForSequenceClassification.forward` and have been ignored: sentense. If sentense are not expected by `RobertaForSequenceClassification.forward`,  you can safely ignore this message.\n",
      "***** Running Evaluation *****\n",
      "  Num examples = 3103\n",
      "  Batch size = 8\n",
      "                                                    \n",
      " 38%|███▊      | 5901/15515 [26:25<6:53:09,  2.58s/it]"
     ]
    },
    {
     "name": "stdout",
     "output_type": "stream",
     "text": [
      "{'eval_loss': 0.5248172283172607, 'eval_recall': 1.0, 'eval_precision': 0.7831131163390267, 'eval_accuracy': 0.7831131163390267, 'eval_runtime': 16.552, 'eval_samples_per_second': 187.47, 'eval_steps_per_second': 23.441, 'epoch': 1.9}\n"
     ]
    },
    {
     "name": "stderr",
     "output_type": "stream",
     "text": [
      " 39%|███▊      | 6000/15515 [26:35<15:20, 10.33it/s]  The following columns in the evaluation set  don't have a corresponding argument in `RobertaForSequenceClassification.forward` and have been ignored: sentense. If sentense are not expected by `RobertaForSequenceClassification.forward`,  you can safely ignore this message.\n",
      "***** Running Evaluation *****\n",
      "  Num examples = 3103\n",
      "  Batch size = 8\n"
     ]
    },
    {
     "name": "stdout",
     "output_type": "stream",
     "text": [
      "{'loss': 0.5545, 'learning_rate': 3.066387367064132e-05, 'epoch': 1.93}\n"
     ]
    },
    {
     "name": "stderr",
     "output_type": "stream",
     "text": [
      "                                                    \n",
      " 39%|███▊      | 6001/15515 [26:52<6:55:03,  2.62s/it]"
     ]
    },
    {
     "name": "stdout",
     "output_type": "stream",
     "text": [
      "{'eval_loss': 0.5241234302520752, 'eval_recall': 1.0, 'eval_precision': 0.7831131163390267, 'eval_accuracy': 0.7831131163390267, 'eval_runtime': 16.535, 'eval_samples_per_second': 187.663, 'eval_steps_per_second': 23.465, 'epoch': 1.93}\n"
     ]
    },
    {
     "name": "stderr",
     "output_type": "stream",
     "text": [
      " 39%|███▉      | 6099/15515 [27:01<15:14, 10.30it/s]  The following columns in the evaluation set  don't have a corresponding argument in `RobertaForSequenceClassification.forward` and have been ignored: sentense. If sentense are not expected by `RobertaForSequenceClassification.forward`,  you can safely ignore this message.\n",
      "***** Running Evaluation *****\n",
      "  Num examples = 3103\n",
      "  Batch size = 8\n",
      "                                                    \n",
      " 39%|███▉      | 6101/15515 [27:18<6:44:58,  2.58s/it]"
     ]
    },
    {
     "name": "stdout",
     "output_type": "stream",
     "text": [
      "{'eval_loss': 0.562370777130127, 'eval_recall': 1.0, 'eval_precision': 0.7831131163390267, 'eval_accuracy': 0.7831131163390267, 'eval_runtime': 16.568, 'eval_samples_per_second': 187.289, 'eval_steps_per_second': 23.419, 'epoch': 1.97}\n"
     ]
    },
    {
     "name": "stderr",
     "output_type": "stream",
     "text": [
      " 40%|███▉      | 6199/15515 [27:28<15:06, 10.28it/s]  The following columns in the evaluation set  don't have a corresponding argument in `RobertaForSequenceClassification.forward` and have been ignored: sentense. If sentense are not expected by `RobertaForSequenceClassification.forward`,  you can safely ignore this message.\n",
      "***** Running Evaluation *****\n",
      "  Num examples = 3103\n",
      "  Batch size = 8\n",
      "                                                    \n",
      " 40%|███▉      | 6201/15515 [27:44<6:40:38,  2.58s/it]"
     ]
    },
    {
     "name": "stdout",
     "output_type": "stream",
     "text": [
      "{'eval_loss': 0.5306665301322937, 'eval_recall': 1.0, 'eval_precision': 0.7831131163390267, 'eval_accuracy': 0.7831131163390267, 'eval_runtime': 16.5631, 'eval_samples_per_second': 187.345, 'eval_steps_per_second': 23.426, 'epoch': 2.0}\n"
     ]
    },
    {
     "name": "stderr",
     "output_type": "stream",
     "text": [
      " 41%|████      | 6299/15515 [27:54<14:52, 10.32it/s]  The following columns in the evaluation set  don't have a corresponding argument in `RobertaForSequenceClassification.forward` and have been ignored: sentense. If sentense are not expected by `RobertaForSequenceClassification.forward`,  you can safely ignore this message.\n",
      "***** Running Evaluation *****\n",
      "  Num examples = 3103\n",
      "  Batch size = 8\n",
      "                                                    \n",
      " 41%|████      | 6301/15515 [28:11<6:36:30,  2.58s/it]"
     ]
    },
    {
     "name": "stdout",
     "output_type": "stream",
     "text": [
      "{'eval_loss': 0.5241084098815918, 'eval_recall': 1.0, 'eval_precision': 0.7831131163390267, 'eval_accuracy': 0.7831131163390267, 'eval_runtime': 16.573, 'eval_samples_per_second': 187.232, 'eval_steps_per_second': 23.412, 'epoch': 2.03}\n"
     ]
    },
    {
     "name": "stderr",
     "output_type": "stream",
     "text": [
      " 41%|████      | 6399/15515 [28:20<14:47, 10.27it/s]  The following columns in the evaluation set  don't have a corresponding argument in `RobertaForSequenceClassification.forward` and have been ignored: sentense. If sentense are not expected by `RobertaForSequenceClassification.forward`,  you can safely ignore this message.\n",
      "***** Running Evaluation *****\n",
      "  Num examples = 3103\n",
      "  Batch size = 8\n",
      "                                                    \n",
      " 41%|████▏     | 6401/15515 [28:37<6:31:21,  2.58s/it]"
     ]
    },
    {
     "name": "stdout",
     "output_type": "stream",
     "text": [
      "{'eval_loss': 0.5305193662643433, 'eval_recall': 1.0, 'eval_precision': 0.7831131163390267, 'eval_accuracy': 0.7831131163390267, 'eval_runtime': 16.5268, 'eval_samples_per_second': 187.755, 'eval_steps_per_second': 23.477, 'epoch': 2.06}\n"
     ]
    },
    {
     "name": "stderr",
     "output_type": "stream",
     "text": [
      " 42%|████▏     | 6500/15515 [28:47<14:33, 10.32it/s]  The following columns in the evaluation set  don't have a corresponding argument in `RobertaForSequenceClassification.forward` and have been ignored: sentense. If sentense are not expected by `RobertaForSequenceClassification.forward`,  you can safely ignore this message.\n",
      "***** Running Evaluation *****\n",
      "  Num examples = 3103\n",
      "  Batch size = 8\n"
     ]
    },
    {
     "name": "stdout",
     "output_type": "stream",
     "text": [
      "{'loss': 0.5506, 'learning_rate': 2.9052529809861428e-05, 'epoch': 2.09}\n"
     ]
    },
    {
     "name": "stderr",
     "output_type": "stream",
     "text": [
      "                                                    \n",
      " 42%|████▏     | 6502/15515 [29:04<5:25:49,  2.17s/it]"
     ]
    },
    {
     "name": "stdout",
     "output_type": "stream",
     "text": [
      "{'eval_loss': 0.5229394435882568, 'eval_recall': 1.0, 'eval_precision': 0.7831131163390267, 'eval_accuracy': 0.7831131163390267, 'eval_runtime': 16.512, 'eval_samples_per_second': 187.924, 'eval_steps_per_second': 23.498, 'epoch': 2.09}\n"
     ]
    },
    {
     "name": "stderr",
     "output_type": "stream",
     "text": [
      " 43%|████▎     | 6600/15515 [29:13<14:26, 10.29it/s]  The following columns in the evaluation set  don't have a corresponding argument in `RobertaForSequenceClassification.forward` and have been ignored: sentense. If sentense are not expected by `RobertaForSequenceClassification.forward`,  you can safely ignore this message.\n",
      "***** Running Evaluation *****\n",
      "  Num examples = 3103\n",
      "  Batch size = 8\n",
      "                                                    \n",
      " 43%|████▎     | 6601/15515 [29:30<7:28:15,  3.02s/it]"
     ]
    },
    {
     "name": "stdout",
     "output_type": "stream",
     "text": [
      "{'eval_loss': 0.5229398012161255, 'eval_recall': 1.0, 'eval_precision': 0.7831131163390267, 'eval_accuracy': 0.7831131163390267, 'eval_runtime': 16.5554, 'eval_samples_per_second': 187.431, 'eval_steps_per_second': 23.436, 'epoch': 2.13}\n"
     ]
    },
    {
     "name": "stderr",
     "output_type": "stream",
     "text": [
      " 43%|████▎     | 6699/15515 [29:39<14:12, 10.34it/s]  The following columns in the evaluation set  don't have a corresponding argument in `RobertaForSequenceClassification.forward` and have been ignored: sentense. If sentense are not expected by `RobertaForSequenceClassification.forward`,  you can safely ignore this message.\n",
      "***** Running Evaluation *****\n",
      "  Num examples = 3103\n",
      "  Batch size = 8\n",
      "                                                    \n",
      " 43%|████▎     | 6701/15515 [29:56<6:19:07,  2.58s/it]"
     ]
    },
    {
     "name": "stdout",
     "output_type": "stream",
     "text": [
      "{'eval_loss': 0.5244604349136353, 'eval_recall': 1.0, 'eval_precision': 0.7831131163390267, 'eval_accuracy': 0.7831131163390267, 'eval_runtime': 16.568, 'eval_samples_per_second': 187.289, 'eval_steps_per_second': 23.419, 'epoch': 2.16}\n"
     ]
    },
    {
     "name": "stderr",
     "output_type": "stream",
     "text": [
      " 44%|████▍     | 6799/15515 [30:05<14:06, 10.30it/s]  The following columns in the evaluation set  don't have a corresponding argument in `RobertaForSequenceClassification.forward` and have been ignored: sentense. If sentense are not expected by `RobertaForSequenceClassification.forward`,  you can safely ignore this message.\n",
      "***** Running Evaluation *****\n",
      "  Num examples = 3103\n",
      "  Batch size = 8\n",
      "                                                    \n",
      " 44%|████▍     | 6801/15515 [30:22<6:14:19,  2.58s/it]"
     ]
    },
    {
     "name": "stdout",
     "output_type": "stream",
     "text": [
      "{'eval_loss': 0.5233895182609558, 'eval_recall': 1.0, 'eval_precision': 0.7831131163390267, 'eval_accuracy': 0.7831131163390267, 'eval_runtime': 16.542, 'eval_samples_per_second': 187.583, 'eval_steps_per_second': 23.455, 'epoch': 2.19}\n"
     ]
    },
    {
     "name": "stderr",
     "output_type": "stream",
     "text": [
      " 44%|████▍     | 6899/15515 [30:32<13:56, 10.30it/s]  The following columns in the evaluation set  don't have a corresponding argument in `RobertaForSequenceClassification.forward` and have been ignored: sentense. If sentense are not expected by `RobertaForSequenceClassification.forward`,  you can safely ignore this message.\n",
      "***** Running Evaluation *****\n",
      "  Num examples = 3103\n",
      "  Batch size = 8\n",
      "                                                    \n",
      " 44%|████▍     | 6901/15515 [30:48<6:10:00,  2.58s/it]"
     ]
    },
    {
     "name": "stdout",
     "output_type": "stream",
     "text": [
      "{'eval_loss': 0.5260810852050781, 'eval_recall': 1.0, 'eval_precision': 0.7831131163390267, 'eval_accuracy': 0.7831131163390267, 'eval_runtime': 16.5424, 'eval_samples_per_second': 187.578, 'eval_steps_per_second': 23.455, 'epoch': 2.22}\n"
     ]
    },
    {
     "name": "stderr",
     "output_type": "stream",
     "text": [
      " 45%|████▌     | 7000/15515 [30:58<13:43, 10.34it/s]  The following columns in the evaluation set  don't have a corresponding argument in `RobertaForSequenceClassification.forward` and have been ignored: sentense. If sentense are not expected by `RobertaForSequenceClassification.forward`,  you can safely ignore this message.\n",
      "***** Running Evaluation *****\n",
      "  Num examples = 3103\n",
      "  Batch size = 8\n"
     ]
    },
    {
     "name": "stdout",
     "output_type": "stream",
     "text": [
      "{'loss': 0.5502, 'learning_rate': 2.7441185949081532e-05, 'epoch': 2.26}\n"
     ]
    },
    {
     "name": "stderr",
     "output_type": "stream",
     "text": [
      "                                                    \n",
      " 45%|████▌     | 7001/15515 [31:15<6:11:18,  2.62s/it]"
     ]
    },
    {
     "name": "stdout",
     "output_type": "stream",
     "text": [
      "{'eval_loss': 0.5229954719543457, 'eval_recall': 1.0, 'eval_precision': 0.7831131163390267, 'eval_accuracy': 0.7831131163390267, 'eval_runtime': 16.536, 'eval_samples_per_second': 187.651, 'eval_steps_per_second': 23.464, 'epoch': 2.26}\n"
     ]
    },
    {
     "name": "stderr",
     "output_type": "stream",
     "text": [
      " 46%|████▌     | 7099/15515 [31:24<13:41, 10.24it/s]  The following columns in the evaluation set  don't have a corresponding argument in `RobertaForSequenceClassification.forward` and have been ignored: sentense. If sentense are not expected by `RobertaForSequenceClassification.forward`,  you can safely ignore this message.\n",
      "***** Running Evaluation *****\n",
      "  Num examples = 3103\n",
      "  Batch size = 8\n",
      "                                                    \n",
      " 46%|████▌     | 7102/15515 [31:41<5:00:04,  2.14s/it]"
     ]
    },
    {
     "name": "stdout",
     "output_type": "stream",
     "text": [
      "{'eval_loss': 0.5231334567070007, 'eval_recall': 1.0, 'eval_precision': 0.7831131163390267, 'eval_accuracy': 0.7831131163390267, 'eval_runtime': 16.5394, 'eval_samples_per_second': 187.613, 'eval_steps_per_second': 23.459, 'epoch': 2.29}\n"
     ]
    },
    {
     "name": "stderr",
     "output_type": "stream",
     "text": [
      " 46%|████▋     | 7200/15515 [31:51<13:25, 10.32it/s]  The following columns in the evaluation set  don't have a corresponding argument in `RobertaForSequenceClassification.forward` and have been ignored: sentense. If sentense are not expected by `RobertaForSequenceClassification.forward`,  you can safely ignore this message.\n",
      "***** Running Evaluation *****\n",
      "  Num examples = 3103\n",
      "  Batch size = 8\n",
      "                                                    \n",
      " 46%|████▋     | 7202/15515 [32:07<5:56:49,  2.58s/it]"
     ]
    },
    {
     "name": "stdout",
     "output_type": "stream",
     "text": [
      "{'eval_loss': 0.5236755609512329, 'eval_recall': 1.0, 'eval_precision': 0.7831131163390267, 'eval_accuracy': 0.7831131163390267, 'eval_runtime': 16.5262, 'eval_samples_per_second': 187.763, 'eval_steps_per_second': 23.478, 'epoch': 2.32}\n"
     ]
    },
    {
     "name": "stderr",
     "output_type": "stream",
     "text": [
      " 47%|████▋     | 7300/15515 [32:17<13:15, 10.32it/s]  The following columns in the evaluation set  don't have a corresponding argument in `RobertaForSequenceClassification.forward` and have been ignored: sentense. If sentense are not expected by `RobertaForSequenceClassification.forward`,  you can safely ignore this message.\n",
      "***** Running Evaluation *****\n",
      "  Num examples = 3103\n",
      "  Batch size = 8\n",
      "                                                    \n",
      " 47%|████▋     | 7301/15515 [32:34<6:52:15,  3.01s/it]"
     ]
    },
    {
     "name": "stdout",
     "output_type": "stream",
     "text": [
      "{'eval_loss': 0.526551365852356, 'eval_recall': 1.0, 'eval_precision': 0.7831131163390267, 'eval_accuracy': 0.7831131163390267, 'eval_runtime': 16.5223, 'eval_samples_per_second': 187.807, 'eval_steps_per_second': 23.483, 'epoch': 2.35}\n"
     ]
    },
    {
     "name": "stderr",
     "output_type": "stream",
     "text": [
      " 48%|████▊     | 7399/15515 [32:43<13:05, 10.33it/s]  The following columns in the evaluation set  don't have a corresponding argument in `RobertaForSequenceClassification.forward` and have been ignored: sentense. If sentense are not expected by `RobertaForSequenceClassification.forward`,  you can safely ignore this message.\n",
      "***** Running Evaluation *****\n",
      "  Num examples = 3103\n",
      "  Batch size = 8\n",
      "                                                    \n",
      " 48%|████▊     | 7401/15515 [33:00<5:48:18,  2.58s/it]"
     ]
    },
    {
     "name": "stdout",
     "output_type": "stream",
     "text": [
      "{'eval_loss': 0.5229666233062744, 'eval_recall': 1.0, 'eval_precision': 0.7831131163390267, 'eval_accuracy': 0.7831131163390267, 'eval_runtime': 16.5338, 'eval_samples_per_second': 187.676, 'eval_steps_per_second': 23.467, 'epoch': 2.38}\n"
     ]
    },
    {
     "name": "stderr",
     "output_type": "stream",
     "text": [
      " 48%|████▊     | 7500/15515 [33:10<12:54, 10.35it/s]  The following columns in the evaluation set  don't have a corresponding argument in `RobertaForSequenceClassification.forward` and have been ignored: sentense. If sentense are not expected by `RobertaForSequenceClassification.forward`,  you can safely ignore this message.\n",
      "***** Running Evaluation *****\n",
      "  Num examples = 3103\n",
      "  Batch size = 8\n"
     ]
    },
    {
     "name": "stdout",
     "output_type": "stream",
     "text": [
      "{'loss': 0.545, 'learning_rate': 2.5829842088301643e-05, 'epoch': 2.42}\n"
     ]
    },
    {
     "name": "stderr",
     "output_type": "stream",
     "text": [
      "                                                    \n",
      " 48%|████▊     | 7501/15515 [33:26<5:49:03,  2.61s/it]"
     ]
    },
    {
     "name": "stdout",
     "output_type": "stream",
     "text": [
      "{'eval_loss': 0.5456684231758118, 'eval_recall': 1.0, 'eval_precision': 0.7831131163390267, 'eval_accuracy': 0.7831131163390267, 'eval_runtime': 16.517, 'eval_samples_per_second': 187.867, 'eval_steps_per_second': 23.491, 'epoch': 2.42}\n"
     ]
    },
    {
     "name": "stderr",
     "output_type": "stream",
     "text": [
      " 49%|████▉     | 7599/15515 [33:36<12:44, 10.36it/s]  The following columns in the evaluation set  don't have a corresponding argument in `RobertaForSequenceClassification.forward` and have been ignored: sentense. If sentense are not expected by `RobertaForSequenceClassification.forward`,  you can safely ignore this message.\n",
      "***** Running Evaluation *****\n",
      "  Num examples = 3103\n",
      "  Batch size = 8\n",
      "                                                    \n",
      " 49%|████▉     | 7601/15515 [33:52<5:39:42,  2.58s/it]"
     ]
    },
    {
     "name": "stdout",
     "output_type": "stream",
     "text": [
      "{'eval_loss': 0.5233517289161682, 'eval_recall': 1.0, 'eval_precision': 0.7831131163390267, 'eval_accuracy': 0.7831131163390267, 'eval_runtime': 16.526, 'eval_samples_per_second': 187.765, 'eval_steps_per_second': 23.478, 'epoch': 2.45}\n"
     ]
    },
    {
     "name": "stderr",
     "output_type": "stream",
     "text": [
      " 50%|████▉     | 7699/15515 [34:02<12:40, 10.28it/s]  The following columns in the evaluation set  don't have a corresponding argument in `RobertaForSequenceClassification.forward` and have been ignored: sentense. If sentense are not expected by `RobertaForSequenceClassification.forward`,  you can safely ignore this message.\n",
      "***** Running Evaluation *****\n",
      "  Num examples = 3103\n",
      "  Batch size = 8\n",
      "                                                    \n",
      " 50%|████▉     | 7701/15515 [34:19<5:35:30,  2.58s/it]"
     ]
    },
    {
     "name": "stdout",
     "output_type": "stream",
     "text": [
      "{'eval_loss': 0.5296287536621094, 'eval_recall': 1.0, 'eval_precision': 0.7831131163390267, 'eval_accuracy': 0.7831131163390267, 'eval_runtime': 16.534, 'eval_samples_per_second': 187.674, 'eval_steps_per_second': 23.467, 'epoch': 2.48}\n"
     ]
    },
    {
     "name": "stderr",
     "output_type": "stream",
     "text": [
      " 50%|█████     | 7799/15515 [34:28<12:25, 10.35it/s]  The following columns in the evaluation set  don't have a corresponding argument in `RobertaForSequenceClassification.forward` and have been ignored: sentense. If sentense are not expected by `RobertaForSequenceClassification.forward`,  you can safely ignore this message.\n",
      "***** Running Evaluation *****\n",
      "  Num examples = 3103\n",
      "  Batch size = 8\n",
      "                                                    \n",
      " 50%|█████     | 7801/15515 [34:45<5:31:04,  2.58s/it]"
     ]
    },
    {
     "name": "stdout",
     "output_type": "stream",
     "text": [
      "{'eval_loss': 0.5237559676170349, 'eval_recall': 1.0, 'eval_precision': 0.7831131163390267, 'eval_accuracy': 0.7831131163390267, 'eval_runtime': 16.529, 'eval_samples_per_second': 187.731, 'eval_steps_per_second': 23.474, 'epoch': 2.51}\n"
     ]
    },
    {
     "name": "stderr",
     "output_type": "stream",
     "text": [
      " 51%|█████     | 7899/15515 [34:54<12:17, 10.32it/s]  The following columns in the evaluation set  don't have a corresponding argument in `RobertaForSequenceClassification.forward` and have been ignored: sentense. If sentense are not expected by `RobertaForSequenceClassification.forward`,  you can safely ignore this message.\n",
      "***** Running Evaluation *****\n",
      "  Num examples = 3103\n",
      "  Batch size = 8\n",
      "                                                    \n",
      " 51%|█████     | 7901/15515 [35:11<5:26:29,  2.57s/it]"
     ]
    },
    {
     "name": "stdout",
     "output_type": "stream",
     "text": [
      "{'eval_loss': 0.5268904566764832, 'eval_recall': 1.0, 'eval_precision': 0.7831131163390267, 'eval_accuracy': 0.7831131163390267, 'eval_runtime': 16.512, 'eval_samples_per_second': 187.924, 'eval_steps_per_second': 23.498, 'epoch': 2.55}\n"
     ]
    },
    {
     "name": "stderr",
     "output_type": "stream",
     "text": [
      " 52%|█████▏    | 8000/15515 [35:21<12:10, 10.28it/s]  The following columns in the evaluation set  don't have a corresponding argument in `RobertaForSequenceClassification.forward` and have been ignored: sentense. If sentense are not expected by `RobertaForSequenceClassification.forward`,  you can safely ignore this message.\n",
      "***** Running Evaluation *****\n",
      "  Num examples = 3103\n",
      "  Batch size = 8\n"
     ]
    },
    {
     "name": "stdout",
     "output_type": "stream",
     "text": [
      "{'loss': 0.5447, 'learning_rate': 2.4218498227521754e-05, 'epoch': 2.58}\n"
     ]
    },
    {
     "name": "stderr",
     "output_type": "stream",
     "text": [
      "                                                    \n",
      " 52%|█████▏    | 8001/15515 [35:38<5:28:25,  2.62s/it]"
     ]
    },
    {
     "name": "stdout",
     "output_type": "stream",
     "text": [
      "{'eval_loss': 0.5237256288528442, 'eval_recall': 1.0, 'eval_precision': 0.7831131163390267, 'eval_accuracy': 0.7831131163390267, 'eval_runtime': 16.5705, 'eval_samples_per_second': 187.26, 'eval_steps_per_second': 23.415, 'epoch': 2.58}\n"
     ]
    },
    {
     "name": "stderr",
     "output_type": "stream",
     "text": [
      " 52%|█████▏    | 8099/15515 [35:47<11:57, 10.33it/s]  The following columns in the evaluation set  don't have a corresponding argument in `RobertaForSequenceClassification.forward` and have been ignored: sentense. If sentense are not expected by `RobertaForSequenceClassification.forward`,  you can safely ignore this message.\n",
      "***** Running Evaluation *****\n",
      "  Num examples = 3103\n",
      "  Batch size = 8\n",
      "                                                    \n",
      " 52%|█████▏    | 8101/15515 [36:04<5:18:01,  2.57s/it]"
     ]
    },
    {
     "name": "stdout",
     "output_type": "stream",
     "text": [
      "{'eval_loss': 0.5301653146743774, 'eval_recall': 1.0, 'eval_precision': 0.7831131163390267, 'eval_accuracy': 0.7831131163390267, 'eval_runtime': 16.514, 'eval_samples_per_second': 187.901, 'eval_steps_per_second': 23.495, 'epoch': 2.61}\n"
     ]
    },
    {
     "name": "stderr",
     "output_type": "stream",
     "text": [
      " 53%|█████▎    | 8199/15515 [36:13<11:45, 10.37it/s]  The following columns in the evaluation set  don't have a corresponding argument in `RobertaForSequenceClassification.forward` and have been ignored: sentense. If sentense are not expected by `RobertaForSequenceClassification.forward`,  you can safely ignore this message.\n",
      "***** Running Evaluation *****\n",
      "  Num examples = 3103\n",
      "  Batch size = 8\n",
      "                                                    \n",
      " 53%|█████▎    | 8201/15515 [36:30<5:14:09,  2.58s/it]"
     ]
    },
    {
     "name": "stdout",
     "output_type": "stream",
     "text": [
      "{'eval_loss': 0.5234925746917725, 'eval_recall': 1.0, 'eval_precision': 0.7831131163390267, 'eval_accuracy': 0.7831131163390267, 'eval_runtime': 16.5427, 'eval_samples_per_second': 187.576, 'eval_steps_per_second': 23.454, 'epoch': 2.64}\n"
     ]
    },
    {
     "name": "stderr",
     "output_type": "stream",
     "text": [
      " 53%|█████▎    | 8299/15515 [36:40<11:42, 10.27it/s]  The following columns in the evaluation set  don't have a corresponding argument in `RobertaForSequenceClassification.forward` and have been ignored: sentense. If sentense are not expected by `RobertaForSequenceClassification.forward`,  you can safely ignore this message.\n",
      "***** Running Evaluation *****\n",
      "  Num examples = 3103\n",
      "  Batch size = 8\n",
      "                                                    \n",
      " 54%|█████▎    | 8301/15515 [36:56<5:09:30,  2.57s/it]"
     ]
    },
    {
     "name": "stdout",
     "output_type": "stream",
     "text": [
      "{'eval_loss': 0.5240874290466309, 'eval_recall': 1.0, 'eval_precision': 0.7831131163390267, 'eval_accuracy': 0.7831131163390267, 'eval_runtime': 16.519, 'eval_samples_per_second': 187.844, 'eval_steps_per_second': 23.488, 'epoch': 2.67}\n"
     ]
    },
    {
     "name": "stderr",
     "output_type": "stream",
     "text": [
      " 54%|█████▍    | 8399/15515 [37:06<11:27, 10.35it/s]  The following columns in the evaluation set  don't have a corresponding argument in `RobertaForSequenceClassification.forward` and have been ignored: sentense. If sentense are not expected by `RobertaForSequenceClassification.forward`,  you can safely ignore this message.\n",
      "***** Running Evaluation *****\n",
      "  Num examples = 3103\n",
      "  Batch size = 8\n",
      "                                                    \n",
      " 54%|█████▍    | 8401/15515 [37:23<5:05:39,  2.58s/it]"
     ]
    },
    {
     "name": "stdout",
     "output_type": "stream",
     "text": [
      "{'eval_loss': 0.5233429074287415, 'eval_recall': 1.0, 'eval_precision': 0.7831131163390267, 'eval_accuracy': 0.7831131163390267, 'eval_runtime': 16.546, 'eval_samples_per_second': 187.538, 'eval_steps_per_second': 23.45, 'epoch': 2.71}\n"
     ]
    },
    {
     "name": "stderr",
     "output_type": "stream",
     "text": [
      " 55%|█████▍    | 8500/15515 [37:32<11:19, 10.32it/s]  The following columns in the evaluation set  don't have a corresponding argument in `RobertaForSequenceClassification.forward` and have been ignored: sentense. If sentense are not expected by `RobertaForSequenceClassification.forward`,  you can safely ignore this message.\n",
      "***** Running Evaluation *****\n",
      "  Num examples = 3103\n",
      "  Batch size = 8\n"
     ]
    },
    {
     "name": "stdout",
     "output_type": "stream",
     "text": [
      "{'loss': 0.5434, 'learning_rate': 2.2607154366741864e-05, 'epoch': 2.74}\n"
     ]
    },
    {
     "name": "stderr",
     "output_type": "stream",
     "text": [
      "                                                    \n",
      " 55%|█████▍    | 8501/15515 [37:49<5:05:34,  2.61s/it]"
     ]
    },
    {
     "name": "stdout",
     "output_type": "stream",
     "text": [
      "{'eval_loss': 0.5241462588310242, 'eval_recall': 1.0, 'eval_precision': 0.7831131163390267, 'eval_accuracy': 0.7831131163390267, 'eval_runtime': 16.513, 'eval_samples_per_second': 187.913, 'eval_steps_per_second': 23.497, 'epoch': 2.74}\n"
     ]
    },
    {
     "name": "stderr",
     "output_type": "stream",
     "text": [
      " 55%|█████▌    | 8599/15515 [37:58<11:09, 10.33it/s]  The following columns in the evaluation set  don't have a corresponding argument in `RobertaForSequenceClassification.forward` and have been ignored: sentense. If sentense are not expected by `RobertaForSequenceClassification.forward`,  you can safely ignore this message.\n",
      "***** Running Evaluation *****\n",
      "  Num examples = 3103\n",
      "  Batch size = 8\n",
      "                                                    \n",
      " 55%|█████▌    | 8601/15515 [38:15<4:56:33,  2.57s/it]"
     ]
    },
    {
     "name": "stdout",
     "output_type": "stream",
     "text": [
      "{'eval_loss': 0.5229522585868835, 'eval_recall': 1.0, 'eval_precision': 0.7831131163390267, 'eval_accuracy': 0.7831131163390267, 'eval_runtime': 16.517, 'eval_samples_per_second': 187.867, 'eval_steps_per_second': 23.491, 'epoch': 2.77}\n"
     ]
    },
    {
     "name": "stderr",
     "output_type": "stream",
     "text": [
      " 56%|█████▌    | 8699/15515 [38:25<11:05, 10.25it/s]  The following columns in the evaluation set  don't have a corresponding argument in `RobertaForSequenceClassification.forward` and have been ignored: sentense. If sentense are not expected by `RobertaForSequenceClassification.forward`,  you can safely ignore this message.\n",
      "***** Running Evaluation *****\n",
      "  Num examples = 3103\n",
      "  Batch size = 8\n",
      "                                                    \n",
      " 56%|█████▌    | 8701/15515 [38:41<4:52:23,  2.57s/it]"
     ]
    },
    {
     "name": "stdout",
     "output_type": "stream",
     "text": [
      "{'eval_loss': 0.5255640149116516, 'eval_recall': 1.0, 'eval_precision': 0.7831131163390267, 'eval_accuracy': 0.7831131163390267, 'eval_runtime': 16.5215, 'eval_samples_per_second': 187.816, 'eval_steps_per_second': 23.485, 'epoch': 2.8}\n"
     ]
    },
    {
     "name": "stderr",
     "output_type": "stream",
     "text": [
      " 57%|█████▋    | 8799/15515 [38:51<10:52, 10.29it/s]  The following columns in the evaluation set  don't have a corresponding argument in `RobertaForSequenceClassification.forward` and have been ignored: sentense. If sentense are not expected by `RobertaForSequenceClassification.forward`,  you can safely ignore this message.\n",
      "***** Running Evaluation *****\n",
      "  Num examples = 3103\n",
      "  Batch size = 8\n",
      "                                                    \n",
      " 57%|█████▋    | 8801/15515 [39:08<4:48:12,  2.58s/it]"
     ]
    },
    {
     "name": "stdout",
     "output_type": "stream",
     "text": [
      "{'eval_loss': 0.5229610800743103, 'eval_recall': 1.0, 'eval_precision': 0.7831131163390267, 'eval_accuracy': 0.7831131163390267, 'eval_runtime': 16.529, 'eval_samples_per_second': 187.731, 'eval_steps_per_second': 23.474, 'epoch': 2.84}\n"
     ]
    },
    {
     "name": "stderr",
     "output_type": "stream",
     "text": [
      " 57%|█████▋    | 8899/15515 [39:17<10:42, 10.30it/s]  The following columns in the evaluation set  don't have a corresponding argument in `RobertaForSequenceClassification.forward` and have been ignored: sentense. If sentense are not expected by `RobertaForSequenceClassification.forward`,  you can safely ignore this message.\n",
      "***** Running Evaluation *****\n",
      "  Num examples = 3103\n",
      "  Batch size = 8\n",
      "                                                    \n",
      " 57%|█████▋    | 8901/15515 [39:34<4:44:03,  2.58s/it]"
     ]
    },
    {
     "name": "stdout",
     "output_type": "stream",
     "text": [
      "{'eval_loss': 0.5231422781944275, 'eval_recall': 1.0, 'eval_precision': 0.7831131163390267, 'eval_accuracy': 0.7831131163390267, 'eval_runtime': 16.5402, 'eval_samples_per_second': 187.604, 'eval_steps_per_second': 23.458, 'epoch': 2.87}\n"
     ]
    },
    {
     "name": "stderr",
     "output_type": "stream",
     "text": [
      " 58%|█████▊    | 9000/15515 [39:44<10:28, 10.37it/s]  The following columns in the evaluation set  don't have a corresponding argument in `RobertaForSequenceClassification.forward` and have been ignored: sentense. If sentense are not expected by `RobertaForSequenceClassification.forward`,  you can safely ignore this message.\n",
      "***** Running Evaluation *****\n",
      "  Num examples = 3103\n",
      "  Batch size = 8\n"
     ]
    },
    {
     "name": "stdout",
     "output_type": "stream",
     "text": [
      "{'loss': 0.5333, 'learning_rate': 2.0995810505961975e-05, 'epoch': 2.9}\n"
     ]
    },
    {
     "name": "stderr",
     "output_type": "stream",
     "text": [
      "                                                    \n",
      " 58%|█████▊    | 9001/15515 [40:00<4:44:11,  2.62s/it]"
     ]
    },
    {
     "name": "stdout",
     "output_type": "stream",
     "text": [
      "{'eval_loss': 0.535455048084259, 'eval_recall': 1.0, 'eval_precision': 0.7831131163390267, 'eval_accuracy': 0.7831131163390267, 'eval_runtime': 16.542, 'eval_samples_per_second': 187.583, 'eval_steps_per_second': 23.455, 'epoch': 2.9}\n"
     ]
    },
    {
     "name": "stderr",
     "output_type": "stream",
     "text": [
      " 59%|█████▊    | 9099/15515 [40:10<10:25, 10.26it/s]  The following columns in the evaluation set  don't have a corresponding argument in `RobertaForSequenceClassification.forward` and have been ignored: sentense. If sentense are not expected by `RobertaForSequenceClassification.forward`,  you can safely ignore this message.\n",
      "***** Running Evaluation *****\n",
      "  Num examples = 3103\n",
      "  Batch size = 8\n",
      "                                                    \n",
      " 59%|█████▊    | 9101/15515 [40:27<4:35:36,  2.58s/it]"
     ]
    },
    {
     "name": "stdout",
     "output_type": "stream",
     "text": [
      "{'eval_loss': 0.5317092537879944, 'eval_recall': 1.0, 'eval_precision': 0.7831131163390267, 'eval_accuracy': 0.7831131163390267, 'eval_runtime': 16.539, 'eval_samples_per_second': 187.617, 'eval_steps_per_second': 23.46, 'epoch': 2.93}\n"
     ]
    },
    {
     "name": "stderr",
     "output_type": "stream",
     "text": [
      " 59%|█████▉    | 9199/15515 [40:36<10:13, 10.29it/s]  The following columns in the evaluation set  don't have a corresponding argument in `RobertaForSequenceClassification.forward` and have been ignored: sentense. If sentense are not expected by `RobertaForSequenceClassification.forward`,  you can safely ignore this message.\n",
      "***** Running Evaluation *****\n",
      "  Num examples = 3103\n",
      "  Batch size = 8\n",
      "                                                    \n",
      " 59%|█████▉    | 9201/15515 [40:53<4:31:01,  2.58s/it]"
     ]
    },
    {
     "name": "stdout",
     "output_type": "stream",
     "text": [
      "{'eval_loss': 0.523225724697113, 'eval_recall': 1.0, 'eval_precision': 0.7831131163390267, 'eval_accuracy': 0.7831131163390267, 'eval_runtime': 16.528, 'eval_samples_per_second': 187.742, 'eval_steps_per_second': 23.475, 'epoch': 2.96}\n"
     ]
    },
    {
     "name": "stderr",
     "output_type": "stream",
     "text": [
      " 60%|█████▉    | 9299/15515 [41:02<10:03, 10.30it/s]  The following columns in the evaluation set  don't have a corresponding argument in `RobertaForSequenceClassification.forward` and have been ignored: sentense. If sentense are not expected by `RobertaForSequenceClassification.forward`,  you can safely ignore this message.\n",
      "***** Running Evaluation *****\n",
      "  Num examples = 3103\n",
      "  Batch size = 8\n",
      "                                                    \n",
      " 60%|█████▉    | 9301/15515 [41:19<4:26:47,  2.58s/it]"
     ]
    },
    {
     "name": "stdout",
     "output_type": "stream",
     "text": [
      "{'eval_loss': 0.5270931720733643, 'eval_recall': 1.0, 'eval_precision': 0.7831131163390267, 'eval_accuracy': 0.7831131163390267, 'eval_runtime': 16.528, 'eval_samples_per_second': 187.742, 'eval_steps_per_second': 23.475, 'epoch': 3.0}\n"
     ]
    },
    {
     "name": "stderr",
     "output_type": "stream",
     "text": [
      " 61%|██████    | 9399/15515 [41:29<09:52, 10.32it/s]  The following columns in the evaluation set  don't have a corresponding argument in `RobertaForSequenceClassification.forward` and have been ignored: sentense. If sentense are not expected by `RobertaForSequenceClassification.forward`,  you can safely ignore this message.\n",
      "***** Running Evaluation *****\n",
      "  Num examples = 3103\n",
      "  Batch size = 8\n",
      "                                                    \n",
      " 61%|██████    | 9401/15515 [41:45<4:22:33,  2.58s/it]"
     ]
    },
    {
     "name": "stdout",
     "output_type": "stream",
     "text": [
      "{'eval_loss': 0.5293388962745667, 'eval_recall': 1.0, 'eval_precision': 0.7831131163390267, 'eval_accuracy': 0.7831131163390267, 'eval_runtime': 16.54, 'eval_samples_per_second': 187.606, 'eval_steps_per_second': 23.458, 'epoch': 3.03}\n"
     ]
    },
    {
     "name": "stderr",
     "output_type": "stream",
     "text": [
      " 61%|██████    | 9500/15515 [41:55<09:46, 10.26it/s]  The following columns in the evaluation set  don't have a corresponding argument in `RobertaForSequenceClassification.forward` and have been ignored: sentense. If sentense are not expected by `RobertaForSequenceClassification.forward`,  you can safely ignore this message.\n",
      "***** Running Evaluation *****\n",
      "  Num examples = 3103\n",
      "  Batch size = 8\n"
     ]
    },
    {
     "name": "stdout",
     "output_type": "stream",
     "text": [
      "{'loss': 0.5397, 'learning_rate': 1.9384466645182083e-05, 'epoch': 3.06}\n"
     ]
    },
    {
     "name": "stderr",
     "output_type": "stream",
     "text": [
      "                                                    \n",
      " 61%|██████    | 9501/15515 [42:12<4:22:25,  2.62s/it]"
     ]
    },
    {
     "name": "stdout",
     "output_type": "stream",
     "text": [
      "{'eval_loss': 0.5251155495643616, 'eval_recall': 1.0, 'eval_precision': 0.7831131163390267, 'eval_accuracy': 0.7831131163390267, 'eval_runtime': 16.542, 'eval_samples_per_second': 187.583, 'eval_steps_per_second': 23.455, 'epoch': 3.06}\n"
     ]
    },
    {
     "name": "stderr",
     "output_type": "stream",
     "text": [
      " 62%|██████▏   | 9599/15515 [42:21<09:33, 10.31it/s]  The following columns in the evaluation set  don't have a corresponding argument in `RobertaForSequenceClassification.forward` and have been ignored: sentense. If sentense are not expected by `RobertaForSequenceClassification.forward`,  you can safely ignore this message.\n",
      "***** Running Evaluation *****\n",
      "  Num examples = 3103\n",
      "  Batch size = 8\n",
      "                                                    \n",
      " 62%|██████▏   | 9601/15515 [42:38<4:13:44,  2.57s/it]"
     ]
    },
    {
     "name": "stdout",
     "output_type": "stream",
     "text": [
      "{'eval_loss': 0.5240171551704407, 'eval_recall': 1.0, 'eval_precision': 0.7831131163390267, 'eval_accuracy': 0.7831131163390267, 'eval_runtime': 16.5225, 'eval_samples_per_second': 187.804, 'eval_steps_per_second': 23.483, 'epoch': 3.09}\n"
     ]
    },
    {
     "name": "stderr",
     "output_type": "stream",
     "text": [
      " 63%|██████▎   | 9699/15515 [42:48<09:21, 10.36it/s]  The following columns in the evaluation set  don't have a corresponding argument in `RobertaForSequenceClassification.forward` and have been ignored: sentense. If sentense are not expected by `RobertaForSequenceClassification.forward`,  you can safely ignore this message.\n",
      "***** Running Evaluation *****\n",
      "  Num examples = 3103\n",
      "  Batch size = 8\n",
      "                                                    \n",
      " 63%|██████▎   | 9701/15515 [43:04<4:09:13,  2.57s/it]"
     ]
    },
    {
     "name": "stdout",
     "output_type": "stream",
     "text": [
      "{'eval_loss': 0.5229420065879822, 'eval_recall': 1.0, 'eval_precision': 0.7831131163390267, 'eval_accuracy': 0.7831131163390267, 'eval_runtime': 16.507, 'eval_samples_per_second': 187.981, 'eval_steps_per_second': 23.505, 'epoch': 3.13}\n"
     ]
    },
    {
     "name": "stderr",
     "output_type": "stream",
     "text": [
      " 63%|██████▎   | 9799/15515 [43:14<09:13, 10.34it/s]  The following columns in the evaluation set  don't have a corresponding argument in `RobertaForSequenceClassification.forward` and have been ignored: sentense. If sentense are not expected by `RobertaForSequenceClassification.forward`,  you can safely ignore this message.\n",
      "***** Running Evaluation *****\n",
      "  Num examples = 3103\n",
      "  Batch size = 8\n",
      "                                                    \n",
      " 63%|██████▎   | 9801/15515 [43:30<4:04:56,  2.57s/it]"
     ]
    },
    {
     "name": "stdout",
     "output_type": "stream",
     "text": [
      "{'eval_loss': 0.5253169536590576, 'eval_recall': 1.0, 'eval_precision': 0.7831131163390267, 'eval_accuracy': 0.7831131163390267, 'eval_runtime': 16.5098, 'eval_samples_per_second': 187.949, 'eval_steps_per_second': 23.501, 'epoch': 3.16}\n"
     ]
    },
    {
     "name": "stderr",
     "output_type": "stream",
     "text": [
      " 64%|██████▍   | 9899/15515 [43:40<09:04, 10.32it/s]  The following columns in the evaluation set  don't have a corresponding argument in `RobertaForSequenceClassification.forward` and have been ignored: sentense. If sentense are not expected by `RobertaForSequenceClassification.forward`,  you can safely ignore this message.\n",
      "***** Running Evaluation *****\n",
      "  Num examples = 3103\n",
      "  Batch size = 8\n",
      "                                                    \n",
      " 64%|██████▍   | 9901/15515 [43:57<4:01:07,  2.58s/it]"
     ]
    },
    {
     "name": "stdout",
     "output_type": "stream",
     "text": [
      "{'eval_loss': 0.5229409337043762, 'eval_recall': 1.0, 'eval_precision': 0.7831131163390267, 'eval_accuracy': 0.7831131163390267, 'eval_runtime': 16.5393, 'eval_samples_per_second': 187.614, 'eval_steps_per_second': 23.459, 'epoch': 3.19}\n"
     ]
    },
    {
     "name": "stderr",
     "output_type": "stream",
     "text": [
      " 64%|██████▍   | 10000/15515 [44:07<08:56, 10.28it/s] The following columns in the evaluation set  don't have a corresponding argument in `RobertaForSequenceClassification.forward` and have been ignored: sentense. If sentense are not expected by `RobertaForSequenceClassification.forward`,  you can safely ignore this message.\n",
      "***** Running Evaluation *****\n",
      "  Num examples = 3103\n",
      "  Batch size = 8\n"
     ]
    },
    {
     "name": "stdout",
     "output_type": "stream",
     "text": [
      "{'loss': 0.5599, 'learning_rate': 1.7773122784402194e-05, 'epoch': 3.22}\n"
     ]
    },
    {
     "name": "stderr",
     "output_type": "stream",
     "text": [
      "                                                     \n",
      " 64%|██████▍   | 10000/15515 [44:23<08:56, 10.28it/s]Saving model checkpoint to roberta-classifier-5-eopch-trainer\\checkpoint-10000\n",
      "Configuration saved in roberta-classifier-5-eopch-trainer\\checkpoint-10000\\config.json\n"
     ]
    },
    {
     "name": "stdout",
     "output_type": "stream",
     "text": [
      "{'eval_loss': 0.5251191854476929, 'eval_recall': 1.0, 'eval_precision': 0.7831131163390267, 'eval_accuracy': 0.7831131163390267, 'eval_runtime': 16.525, 'eval_samples_per_second': 187.776, 'eval_steps_per_second': 23.48, 'epoch': 3.22}\n"
     ]
    },
    {
     "name": "stderr",
     "output_type": "stream",
     "text": [
      "Model weights saved in roberta-classifier-5-eopch-trainer\\checkpoint-10000\\pytorch_model.bin\n",
      " 65%|██████▌   | 10099/15515 [44:47<08:44, 10.33it/s]  The following columns in the evaluation set  don't have a corresponding argument in `RobertaForSequenceClassification.forward` and have been ignored: sentense. If sentense are not expected by `RobertaForSequenceClassification.forward`,  you can safely ignore this message.\n",
      "***** Running Evaluation *****\n",
      "  Num examples = 3103\n",
      "  Batch size = 8\n",
      "                                                     \n",
      " 65%|██████▌   | 10101/15515 [45:04<3:51:08,  2.56s/it]"
     ]
    },
    {
     "name": "stdout",
     "output_type": "stream",
     "text": [
      "{'eval_loss': 0.5258103013038635, 'eval_recall': 1.0, 'eval_precision': 0.7831131163390267, 'eval_accuracy': 0.7831131163390267, 'eval_runtime': 16.44, 'eval_samples_per_second': 188.747, 'eval_steps_per_second': 23.601, 'epoch': 3.25}\n"
     ]
    },
    {
     "name": "stderr",
     "output_type": "stream",
     "text": [
      " 66%|██████▌   | 10199/15515 [45:13<08:36, 10.29it/s]  The following columns in the evaluation set  don't have a corresponding argument in `RobertaForSequenceClassification.forward` and have been ignored: sentense. If sentense are not expected by `RobertaForSequenceClassification.forward`,  you can safely ignore this message.\n",
      "***** Running Evaluation *****\n",
      "  Num examples = 3103\n",
      "  Batch size = 8\n",
      "                                                     \n",
      " 66%|██████▌   | 10201/15515 [45:30<3:47:16,  2.57s/it]"
     ]
    },
    {
     "name": "stdout",
     "output_type": "stream",
     "text": [
      "{'eval_loss': 0.5230772495269775, 'eval_recall': 1.0, 'eval_precision': 0.7831131163390267, 'eval_accuracy': 0.7831131163390267, 'eval_runtime': 16.4653, 'eval_samples_per_second': 188.457, 'eval_steps_per_second': 23.565, 'epoch': 3.29}\n"
     ]
    },
    {
     "name": "stderr",
     "output_type": "stream",
     "text": [
      " 66%|██████▋   | 10299/15515 [45:39<08:26, 10.31it/s]  The following columns in the evaluation set  don't have a corresponding argument in `RobertaForSequenceClassification.forward` and have been ignored: sentense. If sentense are not expected by `RobertaForSequenceClassification.forward`,  you can safely ignore this message.\n",
      "***** Running Evaluation *****\n",
      "  Num examples = 3103\n",
      "  Batch size = 8\n",
      "                                                     \n",
      " 66%|██████▋   | 10301/15515 [45:56<3:43:35,  2.57s/it]"
     ]
    },
    {
     "name": "stdout",
     "output_type": "stream",
     "text": [
      "{'eval_loss': 0.5229844450950623, 'eval_recall': 1.0, 'eval_precision': 0.7831131163390267, 'eval_accuracy': 0.7831131163390267, 'eval_runtime': 16.515, 'eval_samples_per_second': 187.89, 'eval_steps_per_second': 23.494, 'epoch': 3.32}\n"
     ]
    },
    {
     "name": "stderr",
     "output_type": "stream",
     "text": [
      " 67%|██████▋   | 10399/15515 [46:06<08:15, 10.32it/s]  The following columns in the evaluation set  don't have a corresponding argument in `RobertaForSequenceClassification.forward` and have been ignored: sentense. If sentense are not expected by `RobertaForSequenceClassification.forward`,  you can safely ignore this message.\n",
      "***** Running Evaluation *****\n",
      "  Num examples = 3103\n",
      "  Batch size = 8\n",
      "                                                     \n",
      " 67%|██████▋   | 10401/15515 [46:22<3:39:21,  2.57s/it]"
     ]
    },
    {
     "name": "stdout",
     "output_type": "stream",
     "text": [
      "{'eval_loss': 0.5257036089897156, 'eval_recall': 1.0, 'eval_precision': 0.7831131163390267, 'eval_accuracy': 0.7831131163390267, 'eval_runtime': 16.522, 'eval_samples_per_second': 187.81, 'eval_steps_per_second': 23.484, 'epoch': 3.35}\n"
     ]
    },
    {
     "name": "stderr",
     "output_type": "stream",
     "text": [
      " 68%|██████▊   | 10500/15515 [46:32<08:04, 10.34it/s]  The following columns in the evaluation set  don't have a corresponding argument in `RobertaForSequenceClassification.forward` and have been ignored: sentense. If sentense are not expected by `RobertaForSequenceClassification.forward`,  you can safely ignore this message.\n",
      "***** Running Evaluation *****\n",
      "  Num examples = 3103\n",
      "  Batch size = 8\n"
     ]
    },
    {
     "name": "stdout",
     "output_type": "stream",
     "text": [
      "{'loss': 0.5489, 'learning_rate': 1.61617789236223e-05, 'epoch': 3.38}\n"
     ]
    },
    {
     "name": "stderr",
     "output_type": "stream",
     "text": [
      "                                                     \n",
      " 68%|██████▊   | 10501/15515 [46:49<3:38:30,  2.61s/it]"
     ]
    },
    {
     "name": "stdout",
     "output_type": "stream",
     "text": [
      "{'eval_loss': 0.5251941084861755, 'eval_recall': 1.0, 'eval_precision': 0.7831131163390267, 'eval_accuracy': 0.7831131163390267, 'eval_runtime': 16.526, 'eval_samples_per_second': 187.765, 'eval_steps_per_second': 23.478, 'epoch': 3.38}\n"
     ]
    },
    {
     "name": "stderr",
     "output_type": "stream",
     "text": [
      " 68%|██████▊   | 10599/15515 [46:58<07:58, 10.28it/s]  The following columns in the evaluation set  don't have a corresponding argument in `RobertaForSequenceClassification.forward` and have been ignored: sentense. If sentense are not expected by `RobertaForSequenceClassification.forward`,  you can safely ignore this message.\n",
      "***** Running Evaluation *****\n",
      "  Num examples = 3103\n",
      "  Batch size = 8\n",
      "                                                     \n",
      " 68%|██████▊   | 10601/15515 [47:15<3:30:52,  2.57s/it]"
     ]
    },
    {
     "name": "stdout",
     "output_type": "stream",
     "text": [
      "{'eval_loss': 0.5264371633529663, 'eval_recall': 1.0, 'eval_precision': 0.7831131163390267, 'eval_accuracy': 0.7831131163390267, 'eval_runtime': 16.523, 'eval_samples_per_second': 187.799, 'eval_steps_per_second': 23.482, 'epoch': 3.42}\n"
     ]
    },
    {
     "name": "stderr",
     "output_type": "stream",
     "text": [
      " 69%|██████▉   | 10699/15515 [47:25<07:47, 10.30it/s]  The following columns in the evaluation set  don't have a corresponding argument in `RobertaForSequenceClassification.forward` and have been ignored: sentense. If sentense are not expected by `RobertaForSequenceClassification.forward`,  you can safely ignore this message.\n",
      "***** Running Evaluation *****\n",
      "  Num examples = 3103\n",
      "  Batch size = 8\n",
      "                                                     \n",
      " 69%|██████▉   | 10701/15515 [47:41<3:26:41,  2.58s/it]"
     ]
    },
    {
     "name": "stdout",
     "output_type": "stream",
     "text": [
      "{'eval_loss': 0.5299040079116821, 'eval_recall': 1.0, 'eval_precision': 0.7831131163390267, 'eval_accuracy': 0.7831131163390267, 'eval_runtime': 16.5327, 'eval_samples_per_second': 187.688, 'eval_steps_per_second': 23.469, 'epoch': 3.45}\n"
     ]
    },
    {
     "name": "stderr",
     "output_type": "stream",
     "text": [
      " 70%|██████▉   | 10799/15515 [47:51<07:37, 10.30it/s]  The following columns in the evaluation set  don't have a corresponding argument in `RobertaForSequenceClassification.forward` and have been ignored: sentense. If sentense are not expected by `RobertaForSequenceClassification.forward`,  you can safely ignore this message.\n",
      "***** Running Evaluation *****\n",
      "  Num examples = 3103\n",
      "  Batch size = 8\n",
      "                                                     \n",
      " 70%|██████▉   | 10802/15515 [48:08<2:48:02,  2.14s/it]"
     ]
    },
    {
     "name": "stdout",
     "output_type": "stream",
     "text": [
      "{'eval_loss': 0.5283558964729309, 'eval_recall': 1.0, 'eval_precision': 0.7831131163390267, 'eval_accuracy': 0.7831131163390267, 'eval_runtime': 16.532, 'eval_samples_per_second': 187.697, 'eval_steps_per_second': 23.47, 'epoch': 3.48}\n"
     ]
    },
    {
     "name": "stderr",
     "output_type": "stream",
     "text": [
      " 70%|███████   | 10900/15515 [48:17<07:26, 10.34it/s]  The following columns in the evaluation set  don't have a corresponding argument in `RobertaForSequenceClassification.forward` and have been ignored: sentense. If sentense are not expected by `RobertaForSequenceClassification.forward`,  you can safely ignore this message.\n",
      "***** Running Evaluation *****\n",
      "  Num examples = 3103\n",
      "  Batch size = 8\n",
      "                                                     \n",
      " 70%|███████   | 10901/15515 [48:34<3:51:49,  3.01s/it]"
     ]
    },
    {
     "name": "stdout",
     "output_type": "stream",
     "text": [
      "{'eval_loss': 0.5248820185661316, 'eval_recall': 1.0, 'eval_precision': 0.7831131163390267, 'eval_accuracy': 0.7831131163390267, 'eval_runtime': 16.5411, 'eval_samples_per_second': 187.593, 'eval_steps_per_second': 23.457, 'epoch': 3.51}\n"
     ]
    },
    {
     "name": "stderr",
     "output_type": "stream",
     "text": [
      " 71%|███████   | 11000/15515 [48:44<07:21, 10.22it/s]  The following columns in the evaluation set  don't have a corresponding argument in `RobertaForSequenceClassification.forward` and have been ignored: sentense. If sentense are not expected by `RobertaForSequenceClassification.forward`,  you can safely ignore this message.\n",
      "***** Running Evaluation *****\n",
      "  Num examples = 3103\n",
      "  Batch size = 8\n"
     ]
    },
    {
     "name": "stdout",
     "output_type": "stream",
     "text": [
      "{'loss': 0.5227, 'learning_rate': 1.455043506284241e-05, 'epoch': 3.54}\n"
     ]
    },
    {
     "name": "stderr",
     "output_type": "stream",
     "text": [
      "                                                     \n",
      " 71%|███████   | 11001/15515 [49:00<3:16:37,  2.61s/it]"
     ]
    },
    {
     "name": "stdout",
     "output_type": "stream",
     "text": [
      "{'eval_loss': 0.5367060899734497, 'eval_recall': 1.0, 'eval_precision': 0.7831131163390267, 'eval_accuracy': 0.7831131163390267, 'eval_runtime': 16.508, 'eval_samples_per_second': 187.969, 'eval_steps_per_second': 23.504, 'epoch': 3.54}\n"
     ]
    },
    {
     "name": "stderr",
     "output_type": "stream",
     "text": [
      " 72%|███████▏  | 11099/15515 [49:10<07:08, 10.31it/s]  The following columns in the evaluation set  don't have a corresponding argument in `RobertaForSequenceClassification.forward` and have been ignored: sentense. If sentense are not expected by `RobertaForSequenceClassification.forward`,  you can safely ignore this message.\n",
      "***** Running Evaluation *****\n",
      "  Num examples = 3103\n",
      "  Batch size = 8\n",
      "                                                     \n",
      " 72%|███████▏  | 11101/15515 [49:27<3:09:23,  2.57s/it]"
     ]
    },
    {
     "name": "stdout",
     "output_type": "stream",
     "text": [
      "{'eval_loss': 0.5232730507850647, 'eval_recall': 1.0, 'eval_precision': 0.7831131163390267, 'eval_accuracy': 0.7831131163390267, 'eval_runtime': 16.521, 'eval_samples_per_second': 187.822, 'eval_steps_per_second': 23.485, 'epoch': 3.58}\n"
     ]
    },
    {
     "name": "stderr",
     "output_type": "stream",
     "text": [
      " 72%|███████▏  | 11199/15515 [49:36<07:00, 10.26it/s]  The following columns in the evaluation set  don't have a corresponding argument in `RobertaForSequenceClassification.forward` and have been ignored: sentense. If sentense are not expected by `RobertaForSequenceClassification.forward`,  you can safely ignore this message.\n",
      "***** Running Evaluation *****\n",
      "  Num examples = 3103\n",
      "  Batch size = 8\n",
      "                                                     \n",
      " 72%|███████▏  | 11201/15515 [49:53<3:05:03,  2.57s/it]"
     ]
    },
    {
     "name": "stdout",
     "output_type": "stream",
     "text": [
      "{'eval_loss': 0.524492084980011, 'eval_recall': 1.0, 'eval_precision': 0.7831131163390267, 'eval_accuracy': 0.7831131163390267, 'eval_runtime': 16.5165, 'eval_samples_per_second': 187.873, 'eval_steps_per_second': 23.492, 'epoch': 3.61}\n"
     ]
    },
    {
     "name": "stderr",
     "output_type": "stream",
     "text": [
      " 73%|███████▎  | 11299/15515 [50:02<06:51, 10.25it/s]  The following columns in the evaluation set  don't have a corresponding argument in `RobertaForSequenceClassification.forward` and have been ignored: sentense. If sentense are not expected by `RobertaForSequenceClassification.forward`,  you can safely ignore this message.\n",
      "***** Running Evaluation *****\n",
      "  Num examples = 3103\n",
      "  Batch size = 8\n",
      "                                                     \n",
      " 73%|███████▎  | 11301/15515 [50:19<3:01:02,  2.58s/it]"
     ]
    },
    {
     "name": "stdout",
     "output_type": "stream",
     "text": [
      "{'eval_loss': 0.5296507477760315, 'eval_recall': 1.0, 'eval_precision': 0.7831131163390267, 'eval_accuracy': 0.7831131163390267, 'eval_runtime': 16.542, 'eval_samples_per_second': 187.583, 'eval_steps_per_second': 23.455, 'epoch': 3.64}\n"
     ]
    },
    {
     "name": "stderr",
     "output_type": "stream",
     "text": [
      " 73%|███████▎  | 11399/15515 [50:29<06:39, 10.30it/s]  The following columns in the evaluation set  don't have a corresponding argument in `RobertaForSequenceClassification.forward` and have been ignored: sentense. If sentense are not expected by `RobertaForSequenceClassification.forward`,  you can safely ignore this message.\n",
      "***** Running Evaluation *****\n",
      "  Num examples = 3103\n",
      "  Batch size = 8\n",
      "                                                     \n",
      " 73%|███████▎  | 11402/15515 [50:45<2:26:45,  2.14s/it]"
     ]
    },
    {
     "name": "stdout",
     "output_type": "stream",
     "text": [
      "{'eval_loss': 0.5276921987533569, 'eval_recall': 1.0, 'eval_precision': 0.7831131163390267, 'eval_accuracy': 0.7831131163390267, 'eval_runtime': 16.5467, 'eval_samples_per_second': 187.53, 'eval_steps_per_second': 23.449, 'epoch': 3.67}\n"
     ]
    },
    {
     "name": "stderr",
     "output_type": "stream",
     "text": [
      " 74%|███████▍  | 11500/15515 [50:55<08:56,  7.48it/s]  The following columns in the evaluation set  don't have a corresponding argument in `RobertaForSequenceClassification.forward` and have been ignored: sentense. If sentense are not expected by `RobertaForSequenceClassification.forward`,  you can safely ignore this message.\n",
      "***** Running Evaluation *****\n",
      "  Num examples = 3103\n",
      "  Batch size = 8\n"
     ]
    },
    {
     "name": "stdout",
     "output_type": "stream",
     "text": [
      "{'loss': 0.547, 'learning_rate': 1.293909120206252e-05, 'epoch': 3.71}\n"
     ]
    },
    {
     "name": "stderr",
     "output_type": "stream",
     "text": [
      "                                                     \n",
      " 74%|███████▍  | 11501/15515 [51:12<3:23:50,  3.05s/it]"
     ]
    },
    {
     "name": "stdout",
     "output_type": "stream",
     "text": [
      "{'eval_loss': 0.5256922245025635, 'eval_recall': 1.0, 'eval_precision': 0.7831131163390267, 'eval_accuracy': 0.7831131163390267, 'eval_runtime': 16.531, 'eval_samples_per_second': 187.708, 'eval_steps_per_second': 23.471, 'epoch': 3.71}\n"
     ]
    },
    {
     "name": "stderr",
     "output_type": "stream",
     "text": [
      " 75%|███████▍  | 11599/15515 [51:21<06:20, 10.29it/s]  The following columns in the evaluation set  don't have a corresponding argument in `RobertaForSequenceClassification.forward` and have been ignored: sentense. If sentense are not expected by `RobertaForSequenceClassification.forward`,  you can safely ignore this message.\n",
      "***** Running Evaluation *****\n",
      "  Num examples = 3103\n",
      "  Batch size = 8\n",
      "                                                     \n",
      " 75%|███████▍  | 11601/15515 [51:38<2:48:06,  2.58s/it]"
     ]
    },
    {
     "name": "stdout",
     "output_type": "stream",
     "text": [
      "{'eval_loss': 0.5244079232215881, 'eval_recall': 1.0, 'eval_precision': 0.7831131163390267, 'eval_accuracy': 0.7831131163390267, 'eval_runtime': 16.5391, 'eval_samples_per_second': 187.616, 'eval_steps_per_second': 23.46, 'epoch': 3.74}\n"
     ]
    },
    {
     "name": "stderr",
     "output_type": "stream",
     "text": [
      " 75%|███████▌  | 11699/15515 [51:48<06:12, 10.24it/s]  The following columns in the evaluation set  don't have a corresponding argument in `RobertaForSequenceClassification.forward` and have been ignored: sentense. If sentense are not expected by `RobertaForSequenceClassification.forward`,  you can safely ignore this message.\n",
      "***** Running Evaluation *****\n",
      "  Num examples = 3103\n",
      "  Batch size = 8\n",
      "                                                     \n",
      " 75%|███████▌  | 11701/15515 [52:04<2:43:52,  2.58s/it]"
     ]
    },
    {
     "name": "stdout",
     "output_type": "stream",
     "text": [
      "{'eval_loss': 0.5282517075538635, 'eval_recall': 1.0, 'eval_precision': 0.7831131163390267, 'eval_accuracy': 0.7831131163390267, 'eval_runtime': 16.54, 'eval_samples_per_second': 187.606, 'eval_steps_per_second': 23.458, 'epoch': 3.77}\n"
     ]
    },
    {
     "name": "stderr",
     "output_type": "stream",
     "text": [
      " 76%|███████▌  | 11799/15515 [52:14<06:01, 10.27it/s]  The following columns in the evaluation set  don't have a corresponding argument in `RobertaForSequenceClassification.forward` and have been ignored: sentense. If sentense are not expected by `RobertaForSequenceClassification.forward`,  you can safely ignore this message.\n",
      "***** Running Evaluation *****\n",
      "  Num examples = 3103\n",
      "  Batch size = 8\n",
      "                                                     \n",
      " 76%|███████▌  | 11801/15515 [52:31<2:39:20,  2.57s/it]"
     ]
    },
    {
     "name": "stdout",
     "output_type": "stream",
     "text": [
      "{'eval_loss': 0.5238817930221558, 'eval_recall': 1.0, 'eval_precision': 0.7831131163390267, 'eval_accuracy': 0.7831131163390267, 'eval_runtime': 16.5179, 'eval_samples_per_second': 187.857, 'eval_steps_per_second': 23.49, 'epoch': 3.8}\n"
     ]
    },
    {
     "name": "stderr",
     "output_type": "stream",
     "text": [
      " 77%|███████▋  | 11899/15515 [52:40<05:53, 10.24it/s]  The following columns in the evaluation set  don't have a corresponding argument in `RobertaForSequenceClassification.forward` and have been ignored: sentense. If sentense are not expected by `RobertaForSequenceClassification.forward`,  you can safely ignore this message.\n",
      "***** Running Evaluation *****\n",
      "  Num examples = 3103\n",
      "  Batch size = 8\n",
      "                                                     \n",
      " 77%|███████▋  | 11901/15515 [52:57<2:35:11,  2.58s/it]"
     ]
    },
    {
     "name": "stdout",
     "output_type": "stream",
     "text": [
      "{'eval_loss': 0.5230499505996704, 'eval_recall': 1.0, 'eval_precision': 0.7831131163390267, 'eval_accuracy': 0.7831131163390267, 'eval_runtime': 16.535, 'eval_samples_per_second': 187.663, 'eval_steps_per_second': 23.465, 'epoch': 3.83}\n"
     ]
    },
    {
     "name": "stderr",
     "output_type": "stream",
     "text": [
      " 77%|███████▋  | 12000/15515 [53:07<05:39, 10.35it/s]  The following columns in the evaluation set  don't have a corresponding argument in `RobertaForSequenceClassification.forward` and have been ignored: sentense. If sentense are not expected by `RobertaForSequenceClassification.forward`,  you can safely ignore this message.\n",
      "***** Running Evaluation *****\n",
      "  Num examples = 3103\n",
      "  Batch size = 8\n"
     ]
    },
    {
     "name": "stdout",
     "output_type": "stream",
     "text": [
      "{'loss': 0.5512, 'learning_rate': 1.1327747341282629e-05, 'epoch': 3.87}\n"
     ]
    },
    {
     "name": "stderr",
     "output_type": "stream",
     "text": [
      "                                                     \n",
      " 77%|███████▋  | 12001/15515 [53:23<2:32:59,  2.61s/it]"
     ]
    },
    {
     "name": "stdout",
     "output_type": "stream",
     "text": [
      "{'eval_loss': 0.5250022411346436, 'eval_recall': 1.0, 'eval_precision': 0.7831131163390267, 'eval_accuracy': 0.7831131163390267, 'eval_runtime': 16.5076, 'eval_samples_per_second': 187.974, 'eval_steps_per_second': 23.504, 'epoch': 3.87}\n"
     ]
    },
    {
     "name": "stderr",
     "output_type": "stream",
     "text": [
      " 78%|███████▊  | 12099/15515 [53:33<05:31, 10.32it/s]  The following columns in the evaluation set  don't have a corresponding argument in `RobertaForSequenceClassification.forward` and have been ignored: sentense. If sentense are not expected by `RobertaForSequenceClassification.forward`,  you can safely ignore this message.\n",
      "***** Running Evaluation *****\n",
      "  Num examples = 3103\n",
      "  Batch size = 8\n",
      "                                                     \n",
      " 78%|███████▊  | 12101/15515 [53:49<2:26:32,  2.58s/it]"
     ]
    },
    {
     "name": "stdout",
     "output_type": "stream",
     "text": [
      "{'eval_loss': 0.5232987999916077, 'eval_recall': 1.0, 'eval_precision': 0.7831131163390267, 'eval_accuracy': 0.7831131163390267, 'eval_runtime': 16.528, 'eval_samples_per_second': 187.742, 'eval_steps_per_second': 23.475, 'epoch': 3.9}\n"
     ]
    },
    {
     "name": "stderr",
     "output_type": "stream",
     "text": [
      " 79%|███████▊  | 12199/15515 [53:59<05:20, 10.34it/s]  The following columns in the evaluation set  don't have a corresponding argument in `RobertaForSequenceClassification.forward` and have been ignored: sentense. If sentense are not expected by `RobertaForSequenceClassification.forward`,  you can safely ignore this message.\n",
      "***** Running Evaluation *****\n",
      "  Num examples = 3103\n",
      "  Batch size = 8\n",
      "                                                     \n",
      " 79%|███████▊  | 12201/15515 [54:16<2:22:10,  2.57s/it]"
     ]
    },
    {
     "name": "stdout",
     "output_type": "stream",
     "text": [
      "{'eval_loss': 0.5244614481925964, 'eval_recall': 1.0, 'eval_precision': 0.7831131163390267, 'eval_accuracy': 0.7831131163390267, 'eval_runtime': 16.52, 'eval_samples_per_second': 187.833, 'eval_steps_per_second': 23.487, 'epoch': 3.93}\n"
     ]
    },
    {
     "name": "stderr",
     "output_type": "stream",
     "text": [
      " 79%|███████▉  | 12299/15515 [54:25<05:12, 10.28it/s]  The following columns in the evaluation set  don't have a corresponding argument in `RobertaForSequenceClassification.forward` and have been ignored: sentense. If sentense are not expected by `RobertaForSequenceClassification.forward`,  you can safely ignore this message.\n",
      "***** Running Evaluation *****\n",
      "  Num examples = 3103\n",
      "  Batch size = 8\n",
      "                                                     \n",
      " 79%|███████▉  | 12301/15515 [54:42<2:17:53,  2.57s/it]"
     ]
    },
    {
     "name": "stdout",
     "output_type": "stream",
     "text": [
      "{'eval_loss': 0.5232843160629272, 'eval_recall': 1.0, 'eval_precision': 0.7831131163390267, 'eval_accuracy': 0.7831131163390267, 'eval_runtime': 16.5235, 'eval_samples_per_second': 187.793, 'eval_steps_per_second': 23.482, 'epoch': 3.96}\n"
     ]
    },
    {
     "name": "stderr",
     "output_type": "stream",
     "text": [
      " 80%|███████▉  | 12399/15515 [54:51<05:00, 10.36it/s]  The following columns in the evaluation set  don't have a corresponding argument in `RobertaForSequenceClassification.forward` and have been ignored: sentense. If sentense are not expected by `RobertaForSequenceClassification.forward`,  you can safely ignore this message.\n",
      "***** Running Evaluation *****\n",
      "  Num examples = 3103\n",
      "  Batch size = 8\n",
      "                                                     \n",
      " 80%|███████▉  | 12401/15515 [55:08<2:13:43,  2.58s/it]"
     ]
    },
    {
     "name": "stdout",
     "output_type": "stream",
     "text": [
      "{'eval_loss': 0.5237380266189575, 'eval_recall': 1.0, 'eval_precision': 0.7831131163390267, 'eval_accuracy': 0.7831131163390267, 'eval_runtime': 16.54, 'eval_samples_per_second': 187.605, 'eval_steps_per_second': 23.458, 'epoch': 4.0}\n"
     ]
    },
    {
     "name": "stderr",
     "output_type": "stream",
     "text": [
      " 81%|████████  | 12500/15515 [55:18<04:54, 10.25it/s]  The following columns in the evaluation set  don't have a corresponding argument in `RobertaForSequenceClassification.forward` and have been ignored: sentense. If sentense are not expected by `RobertaForSequenceClassification.forward`,  you can safely ignore this message.\n",
      "***** Running Evaluation *****\n",
      "  Num examples = 3103\n",
      "  Batch size = 8\n"
     ]
    },
    {
     "name": "stdout",
     "output_type": "stream",
     "text": [
      "{'loss': 0.5331, 'learning_rate': 9.71640348050274e-06, 'epoch': 4.03}\n"
     ]
    },
    {
     "name": "stderr",
     "output_type": "stream",
     "text": [
      "                                                     \n",
      " 81%|████████  | 12501/15515 [55:35<2:11:28,  2.62s/it]"
     ]
    },
    {
     "name": "stdout",
     "output_type": "stream",
     "text": [
      "{'eval_loss': 0.5289430022239685, 'eval_recall': 1.0, 'eval_precision': 0.7831131163390267, 'eval_accuracy': 0.7831131163390267, 'eval_runtime': 16.5314, 'eval_samples_per_second': 187.703, 'eval_steps_per_second': 23.47, 'epoch': 4.03}\n"
     ]
    },
    {
     "name": "stderr",
     "output_type": "stream",
     "text": [
      " 81%|████████  | 12599/15515 [55:44<04:42, 10.32it/s]  The following columns in the evaluation set  don't have a corresponding argument in `RobertaForSequenceClassification.forward` and have been ignored: sentense. If sentense are not expected by `RobertaForSequenceClassification.forward`,  you can safely ignore this message.\n",
      "***** Running Evaluation *****\n",
      "  Num examples = 3103\n",
      "  Batch size = 8\n",
      "                                                     \n",
      " 81%|████████  | 12601/15515 [56:01<2:05:09,  2.58s/it]"
     ]
    },
    {
     "name": "stdout",
     "output_type": "stream",
     "text": [
      "{'eval_loss': 0.5331312417984009, 'eval_recall': 1.0, 'eval_precision': 0.7831131163390267, 'eval_accuracy': 0.7831131163390267, 'eval_runtime': 16.5422, 'eval_samples_per_second': 187.581, 'eval_steps_per_second': 23.455, 'epoch': 4.06}\n"
     ]
    },
    {
     "name": "stderr",
     "output_type": "stream",
     "text": [
      " 82%|████████▏ | 12699/15515 [56:10<04:33, 10.30it/s]  The following columns in the evaluation set  don't have a corresponding argument in `RobertaForSequenceClassification.forward` and have been ignored: sentense. If sentense are not expected by `RobertaForSequenceClassification.forward`,  you can safely ignore this message.\n",
      "***** Running Evaluation *****\n",
      "  Num examples = 3103\n",
      "  Batch size = 8\n",
      "                                                     \n",
      " 82%|████████▏ | 12701/15515 [56:27<2:00:51,  2.58s/it]"
     ]
    },
    {
     "name": "stdout",
     "output_type": "stream",
     "text": [
      "{'eval_loss': 0.5243402719497681, 'eval_recall': 1.0, 'eval_precision': 0.7831131163390267, 'eval_accuracy': 0.7831131163390267, 'eval_runtime': 16.539, 'eval_samples_per_second': 187.617, 'eval_steps_per_second': 23.46, 'epoch': 4.09}\n"
     ]
    },
    {
     "name": "stderr",
     "output_type": "stream",
     "text": [
      " 82%|████████▏ | 12799/15515 [56:37<04:21, 10.38it/s]  The following columns in the evaluation set  don't have a corresponding argument in `RobertaForSequenceClassification.forward` and have been ignored: sentense. If sentense are not expected by `RobertaForSequenceClassification.forward`,  you can safely ignore this message.\n",
      "***** Running Evaluation *****\n",
      "  Num examples = 3103\n",
      "  Batch size = 8\n",
      "                                                     \n",
      " 83%|████████▎ | 12801/15515 [56:53<1:56:40,  2.58s/it]"
     ]
    },
    {
     "name": "stdout",
     "output_type": "stream",
     "text": [
      "{'eval_loss': 0.5229665040969849, 'eval_recall': 1.0, 'eval_precision': 0.7831131163390267, 'eval_accuracy': 0.7831131163390267, 'eval_runtime': 16.559, 'eval_samples_per_second': 187.391, 'eval_steps_per_second': 23.431, 'epoch': 4.13}\n"
     ]
    },
    {
     "name": "stderr",
     "output_type": "stream",
     "text": [
      " 83%|████████▎ | 12899/15515 [57:03<04:15, 10.22it/s]  The following columns in the evaluation set  don't have a corresponding argument in `RobertaForSequenceClassification.forward` and have been ignored: sentense. If sentense are not expected by `RobertaForSequenceClassification.forward`,  you can safely ignore this message.\n",
      "***** Running Evaluation *****\n",
      "  Num examples = 3103\n",
      "  Batch size = 8\n",
      "                                                     \n",
      " 83%|████████▎ | 12901/15515 [57:20<1:52:18,  2.58s/it]"
     ]
    },
    {
     "name": "stdout",
     "output_type": "stream",
     "text": [
      "{'eval_loss': 0.5231021046638489, 'eval_recall': 1.0, 'eval_precision': 0.7831131163390267, 'eval_accuracy': 0.7831131163390267, 'eval_runtime': 16.5339, 'eval_samples_per_second': 187.675, 'eval_steps_per_second': 23.467, 'epoch': 4.16}\n"
     ]
    },
    {
     "name": "stderr",
     "output_type": "stream",
     "text": [
      " 84%|████████▍ | 13000/15515 [57:30<04:03, 10.33it/s]  The following columns in the evaluation set  don't have a corresponding argument in `RobertaForSequenceClassification.forward` and have been ignored: sentense. If sentense are not expected by `RobertaForSequenceClassification.forward`,  you can safely ignore this message.\n",
      "***** Running Evaluation *****\n",
      "  Num examples = 3103\n",
      "  Batch size = 8\n"
     ]
    },
    {
     "name": "stdout",
     "output_type": "stream",
     "text": [
      "{'loss': 0.5503, 'learning_rate': 8.10505961972285e-06, 'epoch': 4.19}\n"
     ]
    },
    {
     "name": "stderr",
     "output_type": "stream",
     "text": [
      "                                                     \n",
      " 84%|████████▍ | 13001/15515 [57:46<1:49:36,  2.62s/it]"
     ]
    },
    {
     "name": "stdout",
     "output_type": "stream",
     "text": [
      "{'eval_loss': 0.5235148668289185, 'eval_recall': 1.0, 'eval_precision': 0.7831131163390267, 'eval_accuracy': 0.7831131163390267, 'eval_runtime': 16.532, 'eval_samples_per_second': 187.696, 'eval_steps_per_second': 23.47, 'epoch': 4.19}\n"
     ]
    },
    {
     "name": "stderr",
     "output_type": "stream",
     "text": [
      " 84%|████████▍ | 13099/15515 [57:56<03:54, 10.30it/s]  The following columns in the evaluation set  don't have a corresponding argument in `RobertaForSequenceClassification.forward` and have been ignored: sentense. If sentense are not expected by `RobertaForSequenceClassification.forward`,  you can safely ignore this message.\n",
      "***** Running Evaluation *****\n",
      "  Num examples = 3103\n",
      "  Batch size = 8\n",
      "                                                     \n",
      " 84%|████████▍ | 13101/15515 [58:12<1:43:42,  2.58s/it]"
     ]
    },
    {
     "name": "stdout",
     "output_type": "stream",
     "text": [
      "{'eval_loss': 0.5237367153167725, 'eval_recall': 1.0, 'eval_precision': 0.7831131163390267, 'eval_accuracy': 0.7831131163390267, 'eval_runtime': 16.543, 'eval_samples_per_second': 187.572, 'eval_steps_per_second': 23.454, 'epoch': 4.22}\n"
     ]
    },
    {
     "name": "stderr",
     "output_type": "stream",
     "text": [
      " 85%|████████▌ | 13199/15515 [58:22<03:44, 10.30it/s]  The following columns in the evaluation set  don't have a corresponding argument in `RobertaForSequenceClassification.forward` and have been ignored: sentense. If sentense are not expected by `RobertaForSequenceClassification.forward`,  you can safely ignore this message.\n",
      "***** Running Evaluation *****\n",
      "  Num examples = 3103\n",
      "  Batch size = 8\n",
      "                                                     \n",
      " 85%|████████▌ | 13201/15515 [58:39<1:39:18,  2.57s/it]"
     ]
    },
    {
     "name": "stdout",
     "output_type": "stream",
     "text": [
      "{'eval_loss': 0.5275091528892517, 'eval_recall': 1.0, 'eval_precision': 0.7831131163390267, 'eval_accuracy': 0.7831131163390267, 'eval_runtime': 16.5274, 'eval_samples_per_second': 187.749, 'eval_steps_per_second': 23.476, 'epoch': 4.25}\n"
     ]
    },
    {
     "name": "stderr",
     "output_type": "stream",
     "text": [
      " 86%|████████▌ | 13299/15515 [58:48<03:38, 10.16it/s]  The following columns in the evaluation set  don't have a corresponding argument in `RobertaForSequenceClassification.forward` and have been ignored: sentense. If sentense are not expected by `RobertaForSequenceClassification.forward`,  you can safely ignore this message.\n",
      "***** Running Evaluation *****\n",
      "  Num examples = 3103\n",
      "  Batch size = 8\n",
      "                                                     \n",
      " 86%|████████▌ | 13301/15515 [59:05<1:35:05,  2.58s/it]"
     ]
    },
    {
     "name": "stdout",
     "output_type": "stream",
     "text": [
      "{'eval_loss': 0.5253857374191284, 'eval_recall': 1.0, 'eval_precision': 0.7831131163390267, 'eval_accuracy': 0.7831131163390267, 'eval_runtime': 16.534, 'eval_samples_per_second': 187.674, 'eval_steps_per_second': 23.467, 'epoch': 4.29}\n"
     ]
    },
    {
     "name": "stderr",
     "output_type": "stream",
     "text": [
      " 86%|████████▋ | 13399/15515 [59:14<03:25, 10.31it/s]  The following columns in the evaluation set  don't have a corresponding argument in `RobertaForSequenceClassification.forward` and have been ignored: sentense. If sentense are not expected by `RobertaForSequenceClassification.forward`,  you can safely ignore this message.\n",
      "***** Running Evaluation *****\n",
      "  Num examples = 3103\n",
      "  Batch size = 8\n",
      "                                                     \n",
      " 86%|████████▋ | 13401/15515 [59:31<1:30:45,  2.58s/it]"
     ]
    },
    {
     "name": "stdout",
     "output_type": "stream",
     "text": [
      "{'eval_loss': 0.5283666849136353, 'eval_recall': 1.0, 'eval_precision': 0.7831131163390267, 'eval_accuracy': 0.7831131163390267, 'eval_runtime': 16.5332, 'eval_samples_per_second': 187.683, 'eval_steps_per_second': 23.468, 'epoch': 4.32}\n"
     ]
    },
    {
     "name": "stderr",
     "output_type": "stream",
     "text": [
      " 87%|████████▋ | 13500/15515 [59:41<03:15, 10.31it/s]  The following columns in the evaluation set  don't have a corresponding argument in `RobertaForSequenceClassification.forward` and have been ignored: sentense. If sentense are not expected by `RobertaForSequenceClassification.forward`,  you can safely ignore this message.\n",
      "***** Running Evaluation *****\n",
      "  Num examples = 3103\n",
      "  Batch size = 8\n"
     ]
    },
    {
     "name": "stdout",
     "output_type": "stream",
     "text": [
      "{'loss': 0.5325, 'learning_rate': 6.4937157589429585e-06, 'epoch': 4.35}\n"
     ]
    },
    {
     "name": "stderr",
     "output_type": "stream",
     "text": [
      "                                                     \n",
      " 87%|████████▋ | 13501/15515 [59:58<1:27:50,  2.62s/it]"
     ]
    },
    {
     "name": "stdout",
     "output_type": "stream",
     "text": [
      "{'eval_loss': 0.5247374773025513, 'eval_recall': 1.0, 'eval_precision': 0.7831131163390267, 'eval_accuracy': 0.7831131163390267, 'eval_runtime': 16.533, 'eval_samples_per_second': 187.685, 'eval_steps_per_second': 23.468, 'epoch': 4.35}\n"
     ]
    },
    {
     "name": "stderr",
     "output_type": "stream",
     "text": [
      " 88%|████████▊ | 13599/15515 [1:00:07<03:05, 10.35it/s]The following columns in the evaluation set  don't have a corresponding argument in `RobertaForSequenceClassification.forward` and have been ignored: sentense. If sentense are not expected by `RobertaForSequenceClassification.forward`,  you can safely ignore this message.\n",
      "***** Running Evaluation *****\n",
      "  Num examples = 3103\n",
      "  Batch size = 8\n",
      "                                                       \n",
      " 88%|████████▊ | 13601/15515 [1:00:24<1:22:09,  2.58s/it]"
     ]
    },
    {
     "name": "stdout",
     "output_type": "stream",
     "text": [
      "{'eval_loss': 0.5245465040206909, 'eval_recall': 1.0, 'eval_precision': 0.7831131163390267, 'eval_accuracy': 0.7831131163390267, 'eval_runtime': 16.532, 'eval_samples_per_second': 187.697, 'eval_steps_per_second': 23.47, 'epoch': 4.38}\n"
     ]
    },
    {
     "name": "stderr",
     "output_type": "stream",
     "text": [
      " 88%|████████▊ | 13699/15515 [1:00:33<02:57, 10.24it/s]  The following columns in the evaluation set  don't have a corresponding argument in `RobertaForSequenceClassification.forward` and have been ignored: sentense. If sentense are not expected by `RobertaForSequenceClassification.forward`,  you can safely ignore this message.\n",
      "***** Running Evaluation *****\n",
      "  Num examples = 3103\n",
      "  Batch size = 8\n",
      "                                                       \n",
      " 88%|████████▊ | 13701/15515 [1:00:50<1:17:50,  2.57s/it]"
     ]
    },
    {
     "name": "stdout",
     "output_type": "stream",
     "text": [
      "{'eval_loss': 0.5234259963035583, 'eval_recall': 1.0, 'eval_precision': 0.7831131163390267, 'eval_accuracy': 0.7831131163390267, 'eval_runtime': 16.521, 'eval_samples_per_second': 187.822, 'eval_steps_per_second': 23.485, 'epoch': 4.42}\n"
     ]
    },
    {
     "name": "stderr",
     "output_type": "stream",
     "text": [
      " 89%|████████▉ | 13799/15515 [1:01:00<02:46, 10.31it/s]  The following columns in the evaluation set  don't have a corresponding argument in `RobertaForSequenceClassification.forward` and have been ignored: sentense. If sentense are not expected by `RobertaForSequenceClassification.forward`,  you can safely ignore this message.\n",
      "***** Running Evaluation *****\n",
      "  Num examples = 3103\n",
      "  Batch size = 8\n",
      "                                                       \n",
      " 89%|████████▉ | 13801/15515 [1:01:16<1:13:33,  2.58s/it]"
     ]
    },
    {
     "name": "stdout",
     "output_type": "stream",
     "text": [
      "{'eval_loss': 0.5229406952857971, 'eval_recall': 1.0, 'eval_precision': 0.7831131163390267, 'eval_accuracy': 0.7831131163390267, 'eval_runtime': 16.5244, 'eval_samples_per_second': 187.782, 'eval_steps_per_second': 23.48, 'epoch': 4.45}\n"
     ]
    },
    {
     "name": "stderr",
     "output_type": "stream",
     "text": [
      " 90%|████████▉ | 13899/15515 [1:01:26<02:36, 10.30it/s]  The following columns in the evaluation set  don't have a corresponding argument in `RobertaForSequenceClassification.forward` and have been ignored: sentense. If sentense are not expected by `RobertaForSequenceClassification.forward`,  you can safely ignore this message.\n",
      "***** Running Evaluation *****\n",
      "  Num examples = 3103\n",
      "  Batch size = 8\n",
      "                                                       \n",
      " 90%|████████▉ | 13901/15515 [1:01:43<1:09:12,  2.57s/it]"
     ]
    },
    {
     "name": "stdout",
     "output_type": "stream",
     "text": [
      "{'eval_loss': 0.524787425994873, 'eval_recall': 1.0, 'eval_precision': 0.7831131163390267, 'eval_accuracy': 0.7831131163390267, 'eval_runtime': 16.5109, 'eval_samples_per_second': 187.936, 'eval_steps_per_second': 23.5, 'epoch': 4.48}\n"
     ]
    },
    {
     "name": "stderr",
     "output_type": "stream",
     "text": [
      " 90%|█████████ | 14000/15515 [1:01:52<02:26, 10.34it/s]  The following columns in the evaluation set  don't have a corresponding argument in `RobertaForSequenceClassification.forward` and have been ignored: sentense. If sentense are not expected by `RobertaForSequenceClassification.forward`,  you can safely ignore this message.\n",
      "***** Running Evaluation *****\n",
      "  Num examples = 3103\n",
      "  Batch size = 8\n"
     ]
    },
    {
     "name": "stdout",
     "output_type": "stream",
     "text": [
      "{'loss': 0.5475, 'learning_rate': 4.882371898163069e-06, 'epoch': 4.51}\n"
     ]
    },
    {
     "name": "stderr",
     "output_type": "stream",
     "text": [
      "                                                       \n",
      " 90%|█████████ | 14001/15515 [1:02:09<1:05:55,  2.61s/it]"
     ]
    },
    {
     "name": "stdout",
     "output_type": "stream",
     "text": [
      "{'eval_loss': 0.5230788588523865, 'eval_recall': 1.0, 'eval_precision': 0.7831131163390267, 'eval_accuracy': 0.7831131163390267, 'eval_runtime': 16.51, 'eval_samples_per_second': 187.947, 'eval_steps_per_second': 23.501, 'epoch': 4.51}\n"
     ]
    },
    {
     "name": "stderr",
     "output_type": "stream",
     "text": [
      " 91%|█████████ | 14099/15515 [1:02:18<02:16, 10.34it/s]  The following columns in the evaluation set  don't have a corresponding argument in `RobertaForSequenceClassification.forward` and have been ignored: sentense. If sentense are not expected by `RobertaForSequenceClassification.forward`,  you can safely ignore this message.\n",
      "***** Running Evaluation *****\n",
      "  Num examples = 3103\n",
      "  Batch size = 8\n",
      "                                                       \n",
      " 91%|█████████ | 14102/15515 [1:02:35<50:18,  2.14s/it]  "
     ]
    },
    {
     "name": "stdout",
     "output_type": "stream",
     "text": [
      "{'eval_loss': 0.5230542421340942, 'eval_recall': 1.0, 'eval_precision': 0.7831131163390267, 'eval_accuracy': 0.7831131163390267, 'eval_runtime': 16.5126, 'eval_samples_per_second': 187.917, 'eval_steps_per_second': 23.497, 'epoch': 4.54}\n"
     ]
    },
    {
     "name": "stderr",
     "output_type": "stream",
     "text": [
      " 92%|█████████▏| 14200/15515 [1:02:45<02:07, 10.30it/s]The following columns in the evaluation set  don't have a corresponding argument in `RobertaForSequenceClassification.forward` and have been ignored: sentense. If sentense are not expected by `RobertaForSequenceClassification.forward`,  you can safely ignore this message.\n",
      "***** Running Evaluation *****\n",
      "  Num examples = 3103\n",
      "  Batch size = 8\n",
      "                                                       \n",
      " 92%|█████████▏| 14201/15515 [1:03:01<1:06:07,  3.02s/it]"
     ]
    },
    {
     "name": "stdout",
     "output_type": "stream",
     "text": [
      "{'eval_loss': 0.5229980945587158, 'eval_recall': 1.0, 'eval_precision': 0.7831131163390267, 'eval_accuracy': 0.7831131163390267, 'eval_runtime': 16.567, 'eval_samples_per_second': 187.3, 'eval_steps_per_second': 23.42, 'epoch': 4.58}\n"
     ]
    },
    {
     "name": "stderr",
     "output_type": "stream",
     "text": [
      " 92%|█████████▏| 14299/15515 [1:03:11<01:57, 10.35it/s]  The following columns in the evaluation set  don't have a corresponding argument in `RobertaForSequenceClassification.forward` and have been ignored: sentense. If sentense are not expected by `RobertaForSequenceClassification.forward`,  you can safely ignore this message.\n",
      "***** Running Evaluation *****\n",
      "  Num examples = 3103\n",
      "  Batch size = 8\n",
      "                                                       \n",
      " 92%|█████████▏| 14301/15515 [1:03:28<52:13,  2.58s/it]"
     ]
    },
    {
     "name": "stdout",
     "output_type": "stream",
     "text": [
      "{'eval_loss': 0.5230568647384644, 'eval_recall': 1.0, 'eval_precision': 0.7831131163390267, 'eval_accuracy': 0.7831131163390267, 'eval_runtime': 16.566, 'eval_samples_per_second': 187.311, 'eval_steps_per_second': 23.421, 'epoch': 4.61}\n"
     ]
    },
    {
     "name": "stderr",
     "output_type": "stream",
     "text": [
      " 93%|█████████▎| 14399/15515 [1:03:37<01:48, 10.25it/s]The following columns in the evaluation set  don't have a corresponding argument in `RobertaForSequenceClassification.forward` and have been ignored: sentense. If sentense are not expected by `RobertaForSequenceClassification.forward`,  you can safely ignore this message.\n",
      "***** Running Evaluation *****\n",
      "  Num examples = 3103\n",
      "  Batch size = 8\n",
      "                                                       \n",
      " 93%|█████████▎| 14401/15515 [1:03:54<47:55,  2.58s/it]"
     ]
    },
    {
     "name": "stdout",
     "output_type": "stream",
     "text": [
      "{'eval_loss': 0.5249493718147278, 'eval_recall': 1.0, 'eval_precision': 0.7831131163390267, 'eval_accuracy': 0.7831131163390267, 'eval_runtime': 16.564, 'eval_samples_per_second': 187.334, 'eval_steps_per_second': 23.424, 'epoch': 4.64}\n"
     ]
    },
    {
     "name": "stderr",
     "output_type": "stream",
     "text": [
      " 93%|█████████▎| 14500/15515 [1:04:04<01:38, 10.27it/s]The following columns in the evaluation set  don't have a corresponding argument in `RobertaForSequenceClassification.forward` and have been ignored: sentense. If sentense are not expected by `RobertaForSequenceClassification.forward`,  you can safely ignore this message.\n",
      "***** Running Evaluation *****\n",
      "  Num examples = 3103\n",
      "  Batch size = 8\n"
     ]
    },
    {
     "name": "stdout",
     "output_type": "stream",
     "text": [
      "{'loss': 0.5458, 'learning_rate': 3.2710280373831774e-06, 'epoch': 4.67}\n"
     ]
    },
    {
     "name": "stderr",
     "output_type": "stream",
     "text": [
      "                                                       \n",
      " 93%|█████████▎| 14501/15515 [1:04:21<44:15,  2.62s/it]"
     ]
    },
    {
     "name": "stdout",
     "output_type": "stream",
     "text": [
      "{'eval_loss': 0.5242639183998108, 'eval_recall': 1.0, 'eval_precision': 0.7831131163390267, 'eval_accuracy': 0.7831131163390267, 'eval_runtime': 16.54, 'eval_samples_per_second': 187.606, 'eval_steps_per_second': 23.458, 'epoch': 4.67}\n"
     ]
    },
    {
     "name": "stderr",
     "output_type": "stream",
     "text": [
      " 94%|█████████▍| 14599/15515 [1:04:30<01:28, 10.32it/s]The following columns in the evaluation set  don't have a corresponding argument in `RobertaForSequenceClassification.forward` and have been ignored: sentense. If sentense are not expected by `RobertaForSequenceClassification.forward`,  you can safely ignore this message.\n",
      "***** Running Evaluation *****\n",
      "  Num examples = 3103\n",
      "  Batch size = 8\n",
      "                                                       \n",
      " 94%|█████████▍| 14601/15515 [1:04:47<39:16,  2.58s/it]"
     ]
    },
    {
     "name": "stdout",
     "output_type": "stream",
     "text": [
      "{'eval_loss': 0.524345338344574, 'eval_recall': 1.0, 'eval_precision': 0.7831131163390267, 'eval_accuracy': 0.7831131163390267, 'eval_runtime': 16.5517, 'eval_samples_per_second': 187.474, 'eval_steps_per_second': 23.442, 'epoch': 4.71}\n"
     ]
    },
    {
     "name": "stderr",
     "output_type": "stream",
     "text": [
      " 95%|█████████▍| 14699/15515 [1:04:56<01:19, 10.33it/s]The following columns in the evaluation set  don't have a corresponding argument in `RobertaForSequenceClassification.forward` and have been ignored: sentense. If sentense are not expected by `RobertaForSequenceClassification.forward`,  you can safely ignore this message.\n",
      "***** Running Evaluation *****\n",
      "  Num examples = 3103\n",
      "  Batch size = 8\n",
      "                                                       \n",
      " 95%|█████████▍| 14701/15515 [1:05:13<35:01,  2.58s/it]"
     ]
    },
    {
     "name": "stdout",
     "output_type": "stream",
     "text": [
      "{'eval_loss': 0.524742841720581, 'eval_recall': 1.0, 'eval_precision': 0.7831131163390267, 'eval_accuracy': 0.7831131163390267, 'eval_runtime': 16.5708, 'eval_samples_per_second': 187.257, 'eval_steps_per_second': 23.415, 'epoch': 4.74}\n"
     ]
    },
    {
     "name": "stderr",
     "output_type": "stream",
     "text": [
      " 95%|█████████▌| 14799/15515 [1:05:23<01:09, 10.24it/s]The following columns in the evaluation set  don't have a corresponding argument in `RobertaForSequenceClassification.forward` and have been ignored: sentense. If sentense are not expected by `RobertaForSequenceClassification.forward`,  you can safely ignore this message.\n",
      "***** Running Evaluation *****\n",
      "  Num examples = 3103\n",
      "  Batch size = 8\n",
      "                                                       \n",
      " 95%|█████████▌| 14801/15515 [1:05:39<30:42,  2.58s/it]"
     ]
    },
    {
     "name": "stdout",
     "output_type": "stream",
     "text": [
      "{'eval_loss': 0.5236583352088928, 'eval_recall': 1.0, 'eval_precision': 0.7831131163390267, 'eval_accuracy': 0.7831131163390267, 'eval_runtime': 16.5545, 'eval_samples_per_second': 187.442, 'eval_steps_per_second': 23.438, 'epoch': 4.77}\n"
     ]
    },
    {
     "name": "stderr",
     "output_type": "stream",
     "text": [
      " 96%|█████████▌| 14899/15515 [1:05:49<00:59, 10.28it/s]The following columns in the evaluation set  don't have a corresponding argument in `RobertaForSequenceClassification.forward` and have been ignored: sentense. If sentense are not expected by `RobertaForSequenceClassification.forward`,  you can safely ignore this message.\n",
      "***** Running Evaluation *****\n",
      "  Num examples = 3103\n",
      "  Batch size = 8\n",
      "                                                       \n",
      " 96%|█████████▌| 14901/15515 [1:06:06<26:24,  2.58s/it]"
     ]
    },
    {
     "name": "stdout",
     "output_type": "stream",
     "text": [
      "{'eval_loss': 0.5232756733894348, 'eval_recall': 1.0, 'eval_precision': 0.7831131163390267, 'eval_accuracy': 0.7831131163390267, 'eval_runtime': 16.557, 'eval_samples_per_second': 187.413, 'eval_steps_per_second': 23.434, 'epoch': 4.8}\n"
     ]
    },
    {
     "name": "stderr",
     "output_type": "stream",
     "text": [
      " 97%|█████████▋| 15000/15515 [1:06:16<00:50, 10.23it/s]The following columns in the evaluation set  don't have a corresponding argument in `RobertaForSequenceClassification.forward` and have been ignored: sentense. If sentense are not expected by `RobertaForSequenceClassification.forward`,  you can safely ignore this message.\n",
      "***** Running Evaluation *****\n",
      "  Num examples = 3103\n",
      "  Batch size = 8\n"
     ]
    },
    {
     "name": "stdout",
     "output_type": "stream",
     "text": [
      "{'loss': 0.5411, 'learning_rate': 1.659684176603287e-06, 'epoch': 4.83}\n"
     ]
    },
    {
     "name": "stderr",
     "output_type": "stream",
     "text": [
      "                                                       \n",
      " 97%|█████████▋| 15000/15515 [1:06:32<00:50, 10.23it/s]Saving model checkpoint to roberta-classifier-5-eopch-trainer\\checkpoint-15000\n",
      "Configuration saved in roberta-classifier-5-eopch-trainer\\checkpoint-15000\\config.json\n"
     ]
    },
    {
     "name": "stdout",
     "output_type": "stream",
     "text": [
      "{'eval_loss': 0.5231757164001465, 'eval_recall': 1.0, 'eval_precision': 0.7831131163390267, 'eval_accuracy': 0.7831131163390267, 'eval_runtime': 16.5175, 'eval_samples_per_second': 187.861, 'eval_steps_per_second': 23.49, 'epoch': 4.83}\n"
     ]
    },
    {
     "name": "stderr",
     "output_type": "stream",
     "text": [
      "Model weights saved in roberta-classifier-5-eopch-trainer\\checkpoint-15000\\pytorch_model.bin\n",
      " 97%|█████████▋| 15100/15515 [1:06:53<00:40, 10.37it/s]The following columns in the evaluation set  don't have a corresponding argument in `RobertaForSequenceClassification.forward` and have been ignored: sentense. If sentense are not expected by `RobertaForSequenceClassification.forward`,  you can safely ignore this message.\n",
      "***** Running Evaluation *****\n",
      "  Num examples = 3103\n",
      "  Batch size = 8\n",
      "                                                       \n",
      " 97%|█████████▋| 15101/15515 [1:07:10<20:41,  3.00s/it]"
     ]
    },
    {
     "name": "stdout",
     "output_type": "stream",
     "text": [
      "{'eval_loss': 0.5230070352554321, 'eval_recall': 1.0, 'eval_precision': 0.7831131163390267, 'eval_accuracy': 0.7831131163390267, 'eval_runtime': 16.449, 'eval_samples_per_second': 188.644, 'eval_steps_per_second': 23.588, 'epoch': 4.87}\n"
     ]
    },
    {
     "name": "stderr",
     "output_type": "stream",
     "text": [
      " 98%|█████████▊| 15199/15515 [1:07:19<00:30, 10.29it/s]The following columns in the evaluation set  don't have a corresponding argument in `RobertaForSequenceClassification.forward` and have been ignored: sentense. If sentense are not expected by `RobertaForSequenceClassification.forward`,  you can safely ignore this message.\n",
      "***** Running Evaluation *****\n",
      "  Num examples = 3103\n",
      "  Batch size = 8\n",
      "                                                       \n",
      " 98%|█████████▊| 15201/15515 [1:07:36<13:27,  2.57s/it]"
     ]
    },
    {
     "name": "stdout",
     "output_type": "stream",
     "text": [
      "{'eval_loss': 0.5231272578239441, 'eval_recall': 1.0, 'eval_precision': 0.7831131163390267, 'eval_accuracy': 0.7831131163390267, 'eval_runtime': 16.4921, 'eval_samples_per_second': 188.15, 'eval_steps_per_second': 23.526, 'epoch': 4.9}\n"
     ]
    },
    {
     "name": "stderr",
     "output_type": "stream",
     "text": [
      " 99%|█████████▊| 15299/15515 [1:07:46<00:20, 10.32it/s]The following columns in the evaluation set  don't have a corresponding argument in `RobertaForSequenceClassification.forward` and have been ignored: sentense. If sentense are not expected by `RobertaForSequenceClassification.forward`,  you can safely ignore this message.\n",
      "***** Running Evaluation *****\n",
      "  Num examples = 3103\n",
      "  Batch size = 8\n",
      "                                                       \n",
      " 99%|█████████▊| 15301/15515 [1:08:02<09:11,  2.58s/it]"
     ]
    },
    {
     "name": "stdout",
     "output_type": "stream",
     "text": [
      "{'eval_loss': 0.5232869982719421, 'eval_recall': 1.0, 'eval_precision': 0.7831131163390267, 'eval_accuracy': 0.7831131163390267, 'eval_runtime': 16.539, 'eval_samples_per_second': 187.617, 'eval_steps_per_second': 23.46, 'epoch': 4.93}\n"
     ]
    },
    {
     "name": "stderr",
     "output_type": "stream",
     "text": [
      " 99%|█████████▉| 15399/15515 [1:08:12<00:11, 10.34it/s]The following columns in the evaluation set  don't have a corresponding argument in `RobertaForSequenceClassification.forward` and have been ignored: sentense. If sentense are not expected by `RobertaForSequenceClassification.forward`,  you can safely ignore this message.\n",
      "***** Running Evaluation *****\n",
      "  Num examples = 3103\n",
      "  Batch size = 8\n",
      "                                                       \n",
      " 99%|█████████▉| 15401/15515 [1:08:29<04:53,  2.58s/it]"
     ]
    },
    {
     "name": "stdout",
     "output_type": "stream",
     "text": [
      "{'eval_loss': 0.523446798324585, 'eval_recall': 1.0, 'eval_precision': 0.7831131163390267, 'eval_accuracy': 0.7831131163390267, 'eval_runtime': 16.543, 'eval_samples_per_second': 187.572, 'eval_steps_per_second': 23.454, 'epoch': 4.96}\n"
     ]
    },
    {
     "name": "stderr",
     "output_type": "stream",
     "text": [
      "100%|█████████▉| 15500/15515 [1:08:39<00:01, 10.32it/s]The following columns in the evaluation set  don't have a corresponding argument in `RobertaForSequenceClassification.forward` and have been ignored: sentense. If sentense are not expected by `RobertaForSequenceClassification.forward`,  you can safely ignore this message.\n",
      "***** Running Evaluation *****\n",
      "  Num examples = 3103\n",
      "  Batch size = 8\n"
     ]
    },
    {
     "name": "stdout",
     "output_type": "stream",
     "text": [
      "{'loss': 0.5473, 'learning_rate': 4.834031582339672e-08, 'epoch': 5.0}\n"
     ]
    },
    {
     "name": "stderr",
     "output_type": "stream",
     "text": [
      "                                                       \n",
      "100%|█████████▉| 15501/15515 [1:08:55<00:36,  2.62s/it]"
     ]
    },
    {
     "name": "stdout",
     "output_type": "stream",
     "text": [
      "{'eval_loss': 0.5234593749046326, 'eval_recall': 1.0, 'eval_precision': 0.7831131163390267, 'eval_accuracy': 0.7831131163390267, 'eval_runtime': 16.533, 'eval_samples_per_second': 187.685, 'eval_steps_per_second': 23.468, 'epoch': 5.0}\n"
     ]
    },
    {
     "name": "stderr",
     "output_type": "stream",
     "text": [
      "100%|██████████| 15515/15515 [1:08:57<00:00,  3.34it/s]\n",
      "\n",
      "Training completed. Do not forget to share your model on huggingface.co/models =)\n",
      "\n",
      "\n",
      "100%|██████████| 15515/15515 [1:08:57<00:00,  3.75it/s]\n"
     ]
    },
    {
     "name": "stdout",
     "output_type": "stream",
     "text": [
      "{'train_runtime': 4139.8506, 'train_samples_per_second': 14.987, 'train_steps_per_second': 3.748, 'train_loss': 0.5491651629080052, 'epoch': 5.0}\n",
      "\n"
     ]
    },
    {
     "data": {
      "text/html": [
       "Waiting for W&B process to finish... <strong style=\"color:green\">(success).</strong>"
      ],
      "text/plain": [
       "<IPython.core.display.HTML object>"
      ]
     },
     "metadata": {},
     "output_type": "display_data"
    },
    {
     "data": {
      "application/vnd.jupyter.widget-view+json": {
       "model_id": "5af2bbf12c37497f8724305c5755e167",
       "version_major": 2,
       "version_minor": 0
      },
      "text/plain": [
       "VBox(children=(Label(value='0.001 MB of 0.001 MB uploaded (0.000 MB deduped)\\r'), FloatProgress(value=1.0, max…"
      ]
     },
     "metadata": {},
     "output_type": "display_data"
    },
    {
     "data": {
      "text/html": [
       "<style>\n",
       "    table.wandb td:nth-child(1) { padding: 0 10px; text-align: right }\n",
       "    .wandb-row { display: flex; flex-direction: row; flex-wrap: wrap; width: 100% }\n",
       "    .wandb-col { display: flex; flex-direction: column; flex-basis: 100%; flex: 1; padding: 10px; }\n",
       "    </style>\n",
       "<div class=\"wandb-row\"><div class=\"wandb-col\"><h3>Run history:</h3><br/><table class=\"wandb\"><tr><td>eval/accuracy</td><td>▁▁▁▁▁▁▁▁▁▁▁▁▁▁▁▁▁▁▁▁▁▁▁▁▁▁▁▁▁▁▁▁▁▁▁▁▁▁▁▁</td></tr><tr><td>eval/loss</td><td>▄▁█▁▁▂▆▂▁▃▄▃▁▁▁▁▂▁▁▁▁▁▁▃▂▁▁▁▃▂▁▁▂▁▂▁▁▁▁▁</td></tr><tr><td>eval/precision</td><td>▁▁▁▁▁▁▁▁▁▁▁▁▁▁▁▁▁▁▁▁▁▁▁▁▁▁▁▁▁▁▁▁▁▁▁▁▁▁▁▁</td></tr><tr><td>eval/recall</td><td>▁▁▁▁▁▁▁▁▁▁▁▁▁▁▁▁▁▁▁▁▁▁▁▁▁▁▁▁▁▁▁▁▁▁▁▁▁▁▁▁</td></tr><tr><td>eval/runtime</td><td>██▂▂▃▂▂▂▂▂▂▁▂▁▁▁▁▁▁▁▁▁▁▁▁▁▁▁▁▁▁▁▁▁▁▁▂▂▁▁</td></tr><tr><td>eval/samples_per_second</td><td>▁▁▇▇▆▆▇▇▆▆▇█▇████████████████▇██████▇▇██</td></tr><tr><td>eval/steps_per_second</td><td>▁▁▇▇▆▆▆▇▆▆▇█▇████████████████▇██████▇▇██</td></tr><tr><td>train/epoch</td><td>▁▁▁▂▂▂▂▂▂▃▃▃▃▃▄▄▄▄▄▄▅▅▅▅▅▅▆▆▆▆▆▇▇▇▇▇▇███</td></tr><tr><td>train/global_step</td><td>▁▁▁▂▂▂▂▂▂▃▃▃▃▃▄▄▄▄▄▄▅▅▅▅▅▅▆▆▆▆▆▇▇▇▇▇▇███</td></tr><tr><td>train/learning_rate</td><td>███▇▇▇▇▆▆▆▆▅▅▅▅▄▄▄▄▄▃▃▃▃▂▂▂▂▁▁▁</td></tr><tr><td>train/loss</td><td>█▄▂▅▅▄▃▃▃▃▅▄▃▃▃▃▃▂▂▄▃▁▃▃▂▃▂▃▃▃▃</td></tr><tr><td>train/total_flos</td><td>▁</td></tr><tr><td>train/train_loss</td><td>▁</td></tr><tr><td>train/train_runtime</td><td>▁</td></tr><tr><td>train/train_samples_per_second</td><td>▁</td></tr><tr><td>train/train_steps_per_second</td><td>▁</td></tr></table><br/></div><div class=\"wandb-col\"><h3>Run summary:</h3><br/><table class=\"wandb\"><tr><td>eval/accuracy</td><td>0.78311</td></tr><tr><td>eval/loss</td><td>0.52346</td></tr><tr><td>eval/precision</td><td>0.78311</td></tr><tr><td>eval/recall</td><td>1.0</td></tr><tr><td>eval/runtime</td><td>16.533</td></tr><tr><td>eval/samples_per_second</td><td>187.685</td></tr><tr><td>eval/steps_per_second</td><td>23.468</td></tr><tr><td>train/epoch</td><td>5.0</td></tr><tr><td>train/global_step</td><td>15515</td></tr><tr><td>train/learning_rate</td><td>0.0</td></tr><tr><td>train/loss</td><td>0.5473</td></tr><tr><td>train/total_flos</td><td>4081181357452800.0</td></tr><tr><td>train/train_loss</td><td>0.54917</td></tr><tr><td>train/train_runtime</td><td>4139.8506</td></tr><tr><td>train/train_samples_per_second</td><td>14.987</td></tr><tr><td>train/train_steps_per_second</td><td>3.748</td></tr></table><br/></div></div>"
      ],
      "text/plain": [
       "<IPython.core.display.HTML object>"
      ]
     },
     "metadata": {},
     "output_type": "display_data"
    },
    {
     "data": {
      "text/html": [
       "Synced <strong style=\"color:#cdcd00\">roberta-classifier-5-eopch</strong>: <a href=\"https://wandb.ai/alan8365/Stocktwit_sentiment_analysis/runs/x8ophavr\" target=\"_blank\">https://wandb.ai/alan8365/Stocktwit_sentiment_analysis/runs/x8ophavr</a><br/>Synced 5 W&B file(s), 0 media file(s), 0 artifact file(s) and 0 other file(s)"
      ],
      "text/plain": [
       "<IPython.core.display.HTML object>"
      ]
     },
     "metadata": {},
     "output_type": "display_data"
    },
    {
     "data": {
      "text/html": [
       "Find logs at: <code>.\\wandb\\run-20220401_111140-x8ophavr\\logs</code>"
      ],
      "text/plain": [
       "<IPython.core.display.HTML object>"
      ]
     },
     "metadata": {},
     "output_type": "display_data"
    }
   ],
   "source": [
    "from transformers import TrainingArguments, Trainer\n",
    "from datasets import load_metric\n",
    "\n",
    "import numpy as np\n",
    "import wandb\n",
    "\n",
    "run_name = \"roberta-classifier-5-eopch\"\n",
    "%env WANDB_PROJECT=Stocktwit_sentiment_analysis\n",
    "training_args = TrainingArguments(\n",
    "    output_dir=f\"{run_name}-trainer\",\n",
    "    evaluation_strategy=\"steps\",\n",
    "    eval_steps=100,\n",
    "    num_train_epochs=5,\n",
    "    save_steps=5000,\n",
    "    per_device_train_batch_size=4,\n",
    "    report_to=\"wandb\",\n",
    "    run_name=run_name\n",
    ")\n",
    "\n",
    "recall_metric = load_metric(\"recall\")\n",
    "precision_metric = load_metric(\"precision\")\n",
    "accuracy_metric = load_metric(\"accuracy\")\n",
    "\n",
    "def compute_metrics(eval_pred):\n",
    "    logits, labels = eval_pred\n",
    "    predictions = np.argmax(logits, axis=-1)\n",
    "    recall_result = recall_metric.compute(predictions=predictions, references=labels)\n",
    "    precision_result = precision_metric.compute(predictions=predictions, references=labels)\n",
    "    accuracy_result = accuracy_metric.compute(predictions=predictions, references=labels)\n",
    "    return {**recall_result, **precision_result, **accuracy_result}\n",
    "\n",
    "trainer = Trainer(\n",
    "    model=model,\n",
    "    args=training_args,\n",
    "    train_dataset=encoded_dataset['train'],\n",
    "    eval_dataset=encoded_dataset['test'],\n",
    "    compute_metrics=compute_metrics,\n",
    ")\n",
    "\n",
    "trainer.train()\n",
    "\n",
    "wandb.finish()"
   ]
  }
 ],
 "metadata": {
  "interpreter": {
   "hash": "152c7e0fd5b2c01bebd317ef10822ff01094aee6d45d80a66ab90147e1c50abf"
  },
  "kernelspec": {
   "display_name": "Python 3.8.12 ('stock-nlp')",
   "language": "python",
   "name": "python3"
  },
  "language_info": {
   "codemirror_mode": {
    "name": "ipython",
    "version": 3
   },
   "file_extension": ".py",
   "mimetype": "text/x-python",
   "name": "python",
   "nbconvert_exporter": "python",
   "pygments_lexer": "ipython3",
   "version": "3.9.7"
  },
  "orig_nbformat": 4
 },
 "nbformat": 4,
 "nbformat_minor": 2
}
