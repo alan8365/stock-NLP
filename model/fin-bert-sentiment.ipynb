{
 "cells": [
  {
   "cell_type": "code",
   "execution_count": 1,
   "metadata": {},
   "outputs": [
    {
     "ename": "OSError",
     "evalue": "./symbol-masked-trainer/checkpoint-50000 is not a local folder and is not a valid model identifier listed on 'https://huggingface.co/models'\nIf this is a private repository, make sure to pass a token having permission to this repo with `use_auth_token` or log in with `huggingface-cli login` and pass `use_auth_token=True`.",
     "output_type": "error",
     "traceback": [
      "\u001b[1;31m---------------------------------------------------------------------------\u001b[0m",
      "\u001b[1;31mRepositoryNotFoundError\u001b[0m                   Traceback (most recent call last)",
      "\u001b[1;32m~\\anaconda3\\envs\\stock-nlp\\lib\\site-packages\\transformers\\configuration_utils.py\u001b[0m in \u001b[0;36m_get_config_dict\u001b[1;34m(cls, pretrained_model_name_or_path, **kwargs)\u001b[0m\n\u001b[0;32m    593\u001b[0m             \u001b[1;31m# Load from URL or cache if already cached\u001b[0m\u001b[1;33m\u001b[0m\u001b[1;33m\u001b[0m\u001b[1;33m\u001b[0m\u001b[0m\n\u001b[1;32m--> 594\u001b[1;33m             resolved_config_file = cached_path(\n\u001b[0m\u001b[0;32m    595\u001b[0m                 \u001b[0mconfig_file\u001b[0m\u001b[1;33m,\u001b[0m\u001b[1;33m\u001b[0m\u001b[1;33m\u001b[0m\u001b[0m\n",
      "\u001b[1;32m~\\anaconda3\\envs\\stock-nlp\\lib\\site-packages\\transformers\\file_utils.py\u001b[0m in \u001b[0;36mcached_path\u001b[1;34m(url_or_filename, cache_dir, force_download, proxies, resume_download, user_agent, extract_compressed_file, force_extract, use_auth_token, local_files_only)\u001b[0m\n\u001b[0;32m   1920\u001b[0m         \u001b[1;31m# URL, so get it from the cache (downloading if necessary)\u001b[0m\u001b[1;33m\u001b[0m\u001b[1;33m\u001b[0m\u001b[1;33m\u001b[0m\u001b[0m\n\u001b[1;32m-> 1921\u001b[1;33m         output_path = get_from_cache(\n\u001b[0m\u001b[0;32m   1922\u001b[0m             \u001b[0murl_or_filename\u001b[0m\u001b[1;33m,\u001b[0m\u001b[1;33m\u001b[0m\u001b[1;33m\u001b[0m\u001b[0m\n",
      "\u001b[1;32m~\\anaconda3\\envs\\stock-nlp\\lib\\site-packages\\transformers\\file_utils.py\u001b[0m in \u001b[0;36mget_from_cache\u001b[1;34m(url, cache_dir, force_download, proxies, etag_timeout, resume_download, user_agent, use_auth_token, local_files_only)\u001b[0m\n\u001b[0;32m   2124\u001b[0m             \u001b[0mr\u001b[0m \u001b[1;33m=\u001b[0m \u001b[0mrequests\u001b[0m\u001b[1;33m.\u001b[0m\u001b[0mhead\u001b[0m\u001b[1;33m(\u001b[0m\u001b[0murl\u001b[0m\u001b[1;33m,\u001b[0m \u001b[0mheaders\u001b[0m\u001b[1;33m=\u001b[0m\u001b[0mheaders\u001b[0m\u001b[1;33m,\u001b[0m \u001b[0mallow_redirects\u001b[0m\u001b[1;33m=\u001b[0m\u001b[1;32mFalse\u001b[0m\u001b[1;33m,\u001b[0m \u001b[0mproxies\u001b[0m\u001b[1;33m=\u001b[0m\u001b[0mproxies\u001b[0m\u001b[1;33m,\u001b[0m \u001b[0mtimeout\u001b[0m\u001b[1;33m=\u001b[0m\u001b[0metag_timeout\u001b[0m\u001b[1;33m)\u001b[0m\u001b[1;33m\u001b[0m\u001b[1;33m\u001b[0m\u001b[0m\n\u001b[1;32m-> 2125\u001b[1;33m             \u001b[0m_raise_for_status\u001b[0m\u001b[1;33m(\u001b[0m\u001b[0mr\u001b[0m\u001b[1;33m)\u001b[0m\u001b[1;33m\u001b[0m\u001b[1;33m\u001b[0m\u001b[0m\n\u001b[0m\u001b[0;32m   2126\u001b[0m             \u001b[0metag\u001b[0m \u001b[1;33m=\u001b[0m \u001b[0mr\u001b[0m\u001b[1;33m.\u001b[0m\u001b[0mheaders\u001b[0m\u001b[1;33m.\u001b[0m\u001b[0mget\u001b[0m\u001b[1;33m(\u001b[0m\u001b[1;34m\"X-Linked-Etag\"\u001b[0m\u001b[1;33m)\u001b[0m \u001b[1;32mor\u001b[0m \u001b[0mr\u001b[0m\u001b[1;33m.\u001b[0m\u001b[0mheaders\u001b[0m\u001b[1;33m.\u001b[0m\u001b[0mget\u001b[0m\u001b[1;33m(\u001b[0m\u001b[1;34m\"ETag\"\u001b[0m\u001b[1;33m)\u001b[0m\u001b[1;33m\u001b[0m\u001b[1;33m\u001b[0m\u001b[0m\n",
      "\u001b[1;32m~\\anaconda3\\envs\\stock-nlp\\lib\\site-packages\\transformers\\file_utils.py\u001b[0m in \u001b[0;36m_raise_for_status\u001b[1;34m(request)\u001b[0m\n\u001b[0;32m   2045\u001b[0m         \u001b[1;32mif\u001b[0m \u001b[0merror_code\u001b[0m \u001b[1;33m==\u001b[0m \u001b[1;34m\"RepoNotFound\"\u001b[0m\u001b[1;33m:\u001b[0m\u001b[1;33m\u001b[0m\u001b[1;33m\u001b[0m\u001b[0m\n\u001b[1;32m-> 2046\u001b[1;33m             \u001b[1;32mraise\u001b[0m \u001b[0mRepositoryNotFoundError\u001b[0m\u001b[1;33m(\u001b[0m\u001b[1;34mf\"404 Client Error: Repository Not Found for url: {request.url}\"\u001b[0m\u001b[1;33m)\u001b[0m\u001b[1;33m\u001b[0m\u001b[1;33m\u001b[0m\u001b[0m\n\u001b[0m\u001b[0;32m   2047\u001b[0m         \u001b[1;32melif\u001b[0m \u001b[0merror_code\u001b[0m \u001b[1;33m==\u001b[0m \u001b[1;34m\"EntryNotFound\"\u001b[0m\u001b[1;33m:\u001b[0m\u001b[1;33m\u001b[0m\u001b[1;33m\u001b[0m\u001b[0m\n",
      "\u001b[1;31mRepositoryNotFoundError\u001b[0m: 404 Client Error: Repository Not Found for url: https://huggingface.co/symbol-masked-trainer/checkpoint-50000/resolve/main/config.json",
      "\nDuring handling of the above exception, another exception occurred:\n",
      "\u001b[1;31mOSError\u001b[0m                                   Traceback (most recent call last)",
      "\u001b[1;32m~\\AppData\\Local\\Temp/ipykernel_23332/4036853065.py\u001b[0m in \u001b[0;36m<module>\u001b[1;34m\u001b[0m\n\u001b[0;32m      2\u001b[0m \u001b[1;33m\u001b[0m\u001b[0m\n\u001b[0;32m      3\u001b[0m \u001b[0mtokenizer\u001b[0m \u001b[1;33m=\u001b[0m \u001b[0mBertTokenizer\u001b[0m\u001b[1;33m.\u001b[0m\u001b[0mfrom_pretrained\u001b[0m\u001b[1;33m(\u001b[0m\u001b[1;34m\"symbol-vocab\"\u001b[0m\u001b[1;33m)\u001b[0m\u001b[1;33m\u001b[0m\u001b[1;33m\u001b[0m\u001b[0m\n\u001b[1;32m----> 4\u001b[1;33m \u001b[0mmask_model\u001b[0m \u001b[1;33m=\u001b[0m \u001b[0mAutoModelForMaskedLM\u001b[0m\u001b[1;33m.\u001b[0m\u001b[0mfrom_pretrained\u001b[0m\u001b[1;33m(\u001b[0m\u001b[1;34m\"./symbol-masked-trainer/checkpoint-50000\"\u001b[0m\u001b[1;33m)\u001b[0m\u001b[1;33m\u001b[0m\u001b[1;33m\u001b[0m\u001b[0m\n\u001b[0m\u001b[0;32m      5\u001b[0m \u001b[0mmodel\u001b[0m \u001b[1;33m=\u001b[0m \u001b[0mAutoModelForSequenceClassification\u001b[0m\u001b[1;33m.\u001b[0m\u001b[0mfrom_pretrained\u001b[0m\u001b[1;33m(\u001b[0m\u001b[1;34m\"./symbol-masked-trainer/checkpoint-50000\"\u001b[0m\u001b[1;33m,\u001b[0m \u001b[0mnum_labels\u001b[0m\u001b[1;33m=\u001b[0m\u001b[1;36m2\u001b[0m\u001b[1;33m)\u001b[0m\u001b[1;33m\u001b[0m\u001b[1;33m\u001b[0m\u001b[0m\n\u001b[0;32m      6\u001b[0m \u001b[1;31m# model.bert = mask_model\u001b[0m\u001b[1;33m\u001b[0m\u001b[1;33m\u001b[0m\u001b[1;33m\u001b[0m\u001b[0m\n",
      "\u001b[1;32m~\\anaconda3\\envs\\stock-nlp\\lib\\site-packages\\transformers\\models\\auto\\auto_factory.py\u001b[0m in \u001b[0;36mfrom_pretrained\u001b[1;34m(cls, pretrained_model_name_or_path, *model_args, **kwargs)\u001b[0m\n\u001b[0;32m    422\u001b[0m         \u001b[0mkwargs\u001b[0m\u001b[1;33m[\u001b[0m\u001b[1;34m\"_from_auto\"\u001b[0m\u001b[1;33m]\u001b[0m \u001b[1;33m=\u001b[0m \u001b[1;32mTrue\u001b[0m\u001b[1;33m\u001b[0m\u001b[1;33m\u001b[0m\u001b[0m\n\u001b[0;32m    423\u001b[0m         \u001b[1;32mif\u001b[0m \u001b[1;32mnot\u001b[0m \u001b[0misinstance\u001b[0m\u001b[1;33m(\u001b[0m\u001b[0mconfig\u001b[0m\u001b[1;33m,\u001b[0m \u001b[0mPretrainedConfig\u001b[0m\u001b[1;33m)\u001b[0m\u001b[1;33m:\u001b[0m\u001b[1;33m\u001b[0m\u001b[1;33m\u001b[0m\u001b[0m\n\u001b[1;32m--> 424\u001b[1;33m             config, kwargs = AutoConfig.from_pretrained(\n\u001b[0m\u001b[0;32m    425\u001b[0m                 \u001b[0mpretrained_model_name_or_path\u001b[0m\u001b[1;33m,\u001b[0m \u001b[0mreturn_unused_kwargs\u001b[0m\u001b[1;33m=\u001b[0m\u001b[1;32mTrue\u001b[0m\u001b[1;33m,\u001b[0m \u001b[0mtrust_remote_code\u001b[0m\u001b[1;33m=\u001b[0m\u001b[0mtrust_remote_code\u001b[0m\u001b[1;33m,\u001b[0m \u001b[1;33m**\u001b[0m\u001b[0mkwargs\u001b[0m\u001b[1;33m\u001b[0m\u001b[1;33m\u001b[0m\u001b[0m\n\u001b[0;32m    426\u001b[0m             )\n",
      "\u001b[1;32m~\\anaconda3\\envs\\stock-nlp\\lib\\site-packages\\transformers\\models\\auto\\configuration_auto.py\u001b[0m in \u001b[0;36mfrom_pretrained\u001b[1;34m(cls, pretrained_model_name_or_path, **kwargs)\u001b[0m\n\u001b[0;32m    635\u001b[0m         \u001b[0mkwargs\u001b[0m\u001b[1;33m[\u001b[0m\u001b[1;34m\"name_or_path\"\u001b[0m\u001b[1;33m]\u001b[0m \u001b[1;33m=\u001b[0m \u001b[0mpretrained_model_name_or_path\u001b[0m\u001b[1;33m\u001b[0m\u001b[1;33m\u001b[0m\u001b[0m\n\u001b[0;32m    636\u001b[0m         \u001b[0mtrust_remote_code\u001b[0m \u001b[1;33m=\u001b[0m \u001b[0mkwargs\u001b[0m\u001b[1;33m.\u001b[0m\u001b[0mpop\u001b[0m\u001b[1;33m(\u001b[0m\u001b[1;34m\"trust_remote_code\"\u001b[0m\u001b[1;33m,\u001b[0m \u001b[1;32mFalse\u001b[0m\u001b[1;33m)\u001b[0m\u001b[1;33m\u001b[0m\u001b[1;33m\u001b[0m\u001b[0m\n\u001b[1;32m--> 637\u001b[1;33m         \u001b[0mconfig_dict\u001b[0m\u001b[1;33m,\u001b[0m \u001b[0m_\u001b[0m \u001b[1;33m=\u001b[0m \u001b[0mPretrainedConfig\u001b[0m\u001b[1;33m.\u001b[0m\u001b[0mget_config_dict\u001b[0m\u001b[1;33m(\u001b[0m\u001b[0mpretrained_model_name_or_path\u001b[0m\u001b[1;33m,\u001b[0m \u001b[1;33m**\u001b[0m\u001b[0mkwargs\u001b[0m\u001b[1;33m)\u001b[0m\u001b[1;33m\u001b[0m\u001b[1;33m\u001b[0m\u001b[0m\n\u001b[0m\u001b[0;32m    638\u001b[0m         \u001b[1;32mif\u001b[0m \u001b[1;34m\"auto_map\"\u001b[0m \u001b[1;32min\u001b[0m \u001b[0mconfig_dict\u001b[0m \u001b[1;32mand\u001b[0m \u001b[1;34m\"AutoConfig\"\u001b[0m \u001b[1;32min\u001b[0m \u001b[0mconfig_dict\u001b[0m\u001b[1;33m[\u001b[0m\u001b[1;34m\"auto_map\"\u001b[0m\u001b[1;33m]\u001b[0m\u001b[1;33m:\u001b[0m\u001b[1;33m\u001b[0m\u001b[1;33m\u001b[0m\u001b[0m\n\u001b[0;32m    639\u001b[0m             \u001b[1;32mif\u001b[0m \u001b[1;32mnot\u001b[0m \u001b[0mtrust_remote_code\u001b[0m\u001b[1;33m:\u001b[0m\u001b[1;33m\u001b[0m\u001b[1;33m\u001b[0m\u001b[0m\n",
      "\u001b[1;32m~\\anaconda3\\envs\\stock-nlp\\lib\\site-packages\\transformers\\configuration_utils.py\u001b[0m in \u001b[0;36mget_config_dict\u001b[1;34m(cls, pretrained_model_name_or_path, **kwargs)\u001b[0m\n\u001b[0;32m    544\u001b[0m         \u001b[0moriginal_kwargs\u001b[0m \u001b[1;33m=\u001b[0m \u001b[0mcopy\u001b[0m\u001b[1;33m.\u001b[0m\u001b[0mdeepcopy\u001b[0m\u001b[1;33m(\u001b[0m\u001b[0mkwargs\u001b[0m\u001b[1;33m)\u001b[0m\u001b[1;33m\u001b[0m\u001b[1;33m\u001b[0m\u001b[0m\n\u001b[0;32m    545\u001b[0m         \u001b[1;31m# Get config dict associated with the base config file\u001b[0m\u001b[1;33m\u001b[0m\u001b[1;33m\u001b[0m\u001b[1;33m\u001b[0m\u001b[0m\n\u001b[1;32m--> 546\u001b[1;33m         \u001b[0mconfig_dict\u001b[0m\u001b[1;33m,\u001b[0m \u001b[0mkwargs\u001b[0m \u001b[1;33m=\u001b[0m \u001b[0mcls\u001b[0m\u001b[1;33m.\u001b[0m\u001b[0m_get_config_dict\u001b[0m\u001b[1;33m(\u001b[0m\u001b[0mpretrained_model_name_or_path\u001b[0m\u001b[1;33m,\u001b[0m \u001b[1;33m**\u001b[0m\u001b[0mkwargs\u001b[0m\u001b[1;33m)\u001b[0m\u001b[1;33m\u001b[0m\u001b[1;33m\u001b[0m\u001b[0m\n\u001b[0m\u001b[0;32m    547\u001b[0m \u001b[1;33m\u001b[0m\u001b[0m\n\u001b[0;32m    548\u001b[0m         \u001b[1;31m# That config file may point us toward another config file to use.\u001b[0m\u001b[1;33m\u001b[0m\u001b[1;33m\u001b[0m\u001b[1;33m\u001b[0m\u001b[0m\n",
      "\u001b[1;32m~\\anaconda3\\envs\\stock-nlp\\lib\\site-packages\\transformers\\configuration_utils.py\u001b[0m in \u001b[0;36m_get_config_dict\u001b[1;34m(cls, pretrained_model_name_or_path, **kwargs)\u001b[0m\n\u001b[0;32m    604\u001b[0m \u001b[1;33m\u001b[0m\u001b[0m\n\u001b[0;32m    605\u001b[0m         \u001b[1;32mexcept\u001b[0m \u001b[0mRepositoryNotFoundError\u001b[0m\u001b[1;33m:\u001b[0m\u001b[1;33m\u001b[0m\u001b[1;33m\u001b[0m\u001b[0m\n\u001b[1;32m--> 606\u001b[1;33m             raise EnvironmentError(\n\u001b[0m\u001b[0;32m    607\u001b[0m                 \u001b[1;34mf\"{pretrained_model_name_or_path} is not a local folder and is not a valid model identifier listed on \"\u001b[0m\u001b[1;33m\u001b[0m\u001b[1;33m\u001b[0m\u001b[0m\n\u001b[0;32m    608\u001b[0m                 \u001b[1;34m\"'https://huggingface.co/models'\\nIf this is a private repository, make sure to pass a token having \"\u001b[0m\u001b[1;33m\u001b[0m\u001b[1;33m\u001b[0m\u001b[0m\n",
      "\u001b[1;31mOSError\u001b[0m: ./symbol-masked-trainer/checkpoint-50000 is not a local folder and is not a valid model identifier listed on 'https://huggingface.co/models'\nIf this is a private repository, make sure to pass a token having permission to this repo with `use_auth_token` or log in with `huggingface-cli login` and pass `use_auth_token=True`."
     ]
    }
   ],
   "source": [
    "from transformers import BertTokenizer, AutoConfig, AutoModelForSequenceClassification, AutoModelForMaskedLM\n",
    "\n",
    "tokenizer = BertTokenizer.from_pretrained(\"symbol-vocab\")\n",
    "mask_model = AutoModelForMaskedLM.from_pretrained(\"./symbol-masked-trainer/checkpoint-50000\")\n",
    "model = AutoModelForSequenceClassification.from_pretrained(\"./symbol-masked-trainer/checkpoint-50000\", num_labels=2)\n",
    "# model.bert = mask_model"
   ]
  },
  {
   "cell_type": "code",
   "execution_count": 2,
   "metadata": {},
   "outputs": [],
   "source": [
    "from glob import glob\n",
    "from datasets import Dataset\n",
    "\n",
    "import re\n",
    "import pandas as pd\n",
    "\n",
    "def data_loading(url):\n",
    "    with open(url, 'r', encoding='utf-8') as f:\n",
    "        # data = json.loads(f.read())\n",
    "        df = pd.read_json(f)\n",
    "        data = df.copy()\n",
    "        # data = df.loc[:, ['sentiment', 'body']]\n",
    "        data = data.loc[df['sentiment'].notnull()]\n",
    "        data['sentiment'] = pd.Categorical(data['sentiment'])\n",
    "        data['label'] = data['sentiment'].cat.codes\n",
    "        data = data.rename(columns={'sentiment': 'labels', 'body': 'sentense'})\n",
    "\n",
    "        symbols = set()\n",
    "        for symbol_list in data['sentense'].str.findall(r'\\$[A-Z]+'):\n",
    "            for symbol in symbol_list:\n",
    "                symbols.add(symbol)\n",
    "        return data, symbols\n",
    "\n",
    "data_url = '../crawler/stock/data/**.json'\n",
    "url = glob(data_url)[-1]\n",
    "data, symbols = data_loading(url)\n",
    "\n",
    "dataset = Dataset.from_pandas(data.loc[:, ['label', 'sentense']])\n",
    "dataset = dataset.remove_columns('__index_level_0__')\n",
    "\n",
    "# special_tokens_dict = {'additional_special_tokens': list(symbols)}\n",
    "# tokenizer.add_special_tokens(special_tokens_dict)\n",
    "# model.resize_token_embeddings(len(tokenizer))"
   ]
  },
  {
   "cell_type": "code",
   "execution_count": 3,
   "metadata": {},
   "outputs": [
    {
     "name": "stderr",
     "output_type": "stream",
     "text": [
      "100%|██████████| 15/15 [00:10<00:00,  1.40ba/s]\n"
     ]
    }
   ],
   "source": [
    "from parse import normalize_except_compony\n",
    "\n",
    "def encode(example):\n",
    "    sentense = normalize_except_compony(example['sentense'])\n",
    "\n",
    "    result = tokenizer(\n",
    "        sentense,\n",
    "        padding='max_length',\n",
    "        truncation=True,\n",
    "    )\n",
    "    return result\n",
    "\n",
    "encoded_dataset = dataset.map(encode, batched=True)\n",
    "encoded_dataset = encoded_dataset.train_test_split(test_size=0.2)\n",
    "# print(encoded_dataset[0]['sentense'])\n",
    "# print(encoded_dataset[0]['input_ids'])\n",
    "# type(encoded_dataset[0]['labels'])"
   ]
  },
  {
   "cell_type": "code",
   "execution_count": 4,
   "metadata": {},
   "outputs": [
    {
     "name": "stdout",
     "output_type": "stream",
     "text": [
      "env: WANDB_PROJECT=Stocktwit_sentiment_analysis\n"
     ]
    },
    {
     "name": "stderr",
     "output_type": "stream",
     "text": [
      "The following columns in the training set  don't have a corresponding argument in `BertForSequenceClassification.forward` and have been ignored: sentense. If sentense are not expected by `BertForSequenceClassification.forward`,  you can safely ignore this message.\n",
      "C:\\Users\\douli\\anaconda3\\envs\\stock-nlp\\lib\\site-packages\\transformers\\optimization.py:306: FutureWarning: This implementation of AdamW is deprecated and will be removed in a future version. Use the PyTorch implementation torch.optim.AdamW instead, or set `no_deprecation_warning=True` to disable this warning\n",
      "  warnings.warn(\n",
      "***** Running training *****\n",
      "  Num examples = 11353\n",
      "  Num Epochs = 20\n",
      "  Instantaneous batch size per device = 4\n",
      "  Total train batch size (w. parallel, distributed & accumulation) = 4\n",
      "  Gradient Accumulation steps = 1\n",
      "  Total optimization steps = 56780\n",
      "Automatic Weights & Biases logging enabled, to disable set os.environ[\"WANDB_DISABLED\"] = \"true\"\n",
      "Failed to detect the name of this notebook, you can set it manually with the WANDB_NOTEBOOK_NAME environment variable to enable code saving.\n",
      "\u001b[34m\u001b[1mwandb\u001b[0m: Currently logged in as: \u001b[33malan8365\u001b[0m (use `wandb login --relogin` to force relogin)\n"
     ]
    },
    {
     "data": {
      "text/html": [
       "Tracking run with wandb version 0.12.11"
      ],
      "text/plain": [
       "<IPython.core.display.HTML object>"
      ]
     },
     "metadata": {},
     "output_type": "display_data"
    },
    {
     "data": {
      "text/html": [
       "Run data is saved locally in <code>e:\\Codes\\PycharmProjects\\stock-NLP\\model\\wandb\\run-20220324_025651-roscy0vb</code>"
      ],
      "text/plain": [
       "<IPython.core.display.HTML object>"
      ]
     },
     "metadata": {},
     "output_type": "display_data"
    },
    {
     "data": {
      "text/html": [
       "Syncing run <strong><a href=\"https://wandb.ai/alan8365/Stocktwit_sentiment_analysis/runs/roscy0vb\" target=\"_blank\">fin-bert-sentiment-classifier-20-epoch</a></strong> to <a href=\"https://wandb.ai/alan8365/Stocktwit_sentiment_analysis\" target=\"_blank\">Weights & Biases</a> (<a href=\"https://wandb.me/run\" target=\"_blank\">docs</a>)<br/>"
      ],
      "text/plain": [
       "<IPython.core.display.HTML object>"
      ]
     },
     "metadata": {},
     "output_type": "display_data"
    },
    {
     "name": "stderr",
     "output_type": "stream",
     "text": [
      "  0%|          | 100/56780 [00:30<4:33:08,  3.46it/s]The following columns in the evaluation set  don't have a corresponding argument in `BertForSequenceClassification.forward` and have been ignored: sentense. If sentense are not expected by `BertForSequenceClassification.forward`,  you can safely ignore this message.\n",
      "***** Running Evaluation *****\n",
      "  Num examples = 2839\n",
      "  Batch size = 8\n",
      "\n",
      "  0%|          | 100/56780 [01:38<4:33:08,  3.46it/s]"
     ]
    },
    {
     "name": "stdout",
     "output_type": "stream",
     "text": [
      "{'eval_loss': 0.6357525587081909, 'eval_recall': 1.0, 'eval_precision': 0.6660796054948925, 'eval_runtime': 67.5249, 'eval_samples_per_second': 42.044, 'eval_steps_per_second': 5.257, 'epoch': 0.04}\n"
     ]
    },
    {
     "name": "stderr",
     "output_type": "stream",
     "text": [
      "  0%|          | 200/56780 [02:06<4:23:11,  3.58it/s]  The following columns in the evaluation set  don't have a corresponding argument in `BertForSequenceClassification.forward` and have been ignored: sentense. If sentense are not expected by `BertForSequenceClassification.forward`,  you can safely ignore this message.\n",
      "***** Running Evaluation *****\n",
      "  Num examples = 2839\n",
      "  Batch size = 8\n",
      "\n",
      "  0%|          | 200/56780 [03:10<4:23:11,  3.58it/s]"
     ]
    },
    {
     "name": "stdout",
     "output_type": "stream",
     "text": [
      "{'eval_loss': 0.6458144783973694, 'eval_recall': 1.0, 'eval_precision': 0.6660796054948925, 'eval_runtime': 64.4815, 'eval_samples_per_second': 44.028, 'eval_steps_per_second': 5.505, 'epoch': 0.07}\n"
     ]
    },
    {
     "name": "stderr",
     "output_type": "stream",
     "text": [
      "  1%|          | 300/56780 [03:38<4:23:04,  3.58it/s]  The following columns in the evaluation set  don't have a corresponding argument in `BertForSequenceClassification.forward` and have been ignored: sentense. If sentense are not expected by `BertForSequenceClassification.forward`,  you can safely ignore this message.\n",
      "***** Running Evaluation *****\n",
      "  Num examples = 2839\n",
      "  Batch size = 8\n",
      "\n",
      "  1%|          | 300/56780 [04:43<4:23:04,  3.58it/s]"
     ]
    },
    {
     "name": "stdout",
     "output_type": "stream",
     "text": [
      "{'eval_loss': 0.6298052668571472, 'eval_recall': 1.0, 'eval_precision': 0.6660796054948925, 'eval_runtime': 64.4538, 'eval_samples_per_second': 44.047, 'eval_steps_per_second': 5.508, 'epoch': 0.11}\n"
     ]
    },
    {
     "name": "stderr",
     "output_type": "stream",
     "text": [
      "  1%|          | 400/56780 [05:11<4:23:32,  3.57it/s]  The following columns in the evaluation set  don't have a corresponding argument in `BertForSequenceClassification.forward` and have been ignored: sentense. If sentense are not expected by `BertForSequenceClassification.forward`,  you can safely ignore this message.\n",
      "***** Running Evaluation *****\n",
      "  Num examples = 2839\n",
      "  Batch size = 8\n",
      "                                                     \n",
      "  1%|          | 400/56780 [06:15<4:23:32,  3.57it/s]"
     ]
    },
    {
     "name": "stdout",
     "output_type": "stream",
     "text": [
      "{'eval_loss': 0.6976125836372375, 'eval_recall': 0.9910100475938657, 'eval_precision': 0.6680926916221034, 'eval_runtime': 64.6185, 'eval_samples_per_second': 43.935, 'eval_steps_per_second': 5.494, 'epoch': 0.14}\n"
     ]
    },
    {
     "name": "stderr",
     "output_type": "stream",
     "text": [
      "  1%|          | 500/56780 [06:43<5:19:40,  2.93it/s]  The following columns in the evaluation set  don't have a corresponding argument in `BertForSequenceClassification.forward` and have been ignored: sentense. If sentense are not expected by `BertForSequenceClassification.forward`,  you can safely ignore this message.\n",
      "***** Running Evaluation *****\n",
      "  Num examples = 2839\n",
      "  Batch size = 8\n"
     ]
    },
    {
     "name": "stdout",
     "output_type": "stream",
     "text": [
      "{'loss': 0.6766, 'learning_rate': 4.955970412116943e-05, 'epoch': 0.18}\n"
     ]
    },
    {
     "name": "stderr",
     "output_type": "stream",
     "text": [
      "                                                     \n",
      "  1%|          | 500/56780 [07:48<5:19:40,  2.93it/s]"
     ]
    },
    {
     "name": "stdout",
     "output_type": "stream",
     "text": [
      "{'eval_loss': 0.645258903503418, 'eval_recall': 1.0, 'eval_precision': 0.6660796054948925, 'eval_runtime': 64.6474, 'eval_samples_per_second': 43.915, 'eval_steps_per_second': 5.491, 'epoch': 0.18}\n"
     ]
    },
    {
     "name": "stderr",
     "output_type": "stream",
     "text": [
      "  1%|          | 600/56780 [08:16<4:22:10,  3.57it/s]  The following columns in the evaluation set  don't have a corresponding argument in `BertForSequenceClassification.forward` and have been ignored: sentense. If sentense are not expected by `BertForSequenceClassification.forward`,  you can safely ignore this message.\n",
      "***** Running Evaluation *****\n",
      "  Num examples = 2839\n",
      "  Batch size = 8\n",
      "                                                     \n",
      "  1%|          | 600/56780 [09:21<4:22:10,  3.57it/s]"
     ]
    },
    {
     "name": "stdout",
     "output_type": "stream",
     "text": [
      "{'eval_loss': 0.6277322769165039, 'eval_recall': 1.0, 'eval_precision': 0.6660796054948925, 'eval_runtime': 64.6521, 'eval_samples_per_second': 43.912, 'eval_steps_per_second': 5.491, 'epoch': 0.21}\n"
     ]
    },
    {
     "name": "stderr",
     "output_type": "stream",
     "text": [
      "  1%|          | 700/56780 [09:49<4:21:30,  3.57it/s]  The following columns in the evaluation set  don't have a corresponding argument in `BertForSequenceClassification.forward` and have been ignored: sentense. If sentense are not expected by `BertForSequenceClassification.forward`,  you can safely ignore this message.\n",
      "***** Running Evaluation *****\n",
      "  Num examples = 2839\n",
      "  Batch size = 8\n",
      "                                                     \n",
      "  1%|          | 700/56780 [10:53<4:21:30,  3.57it/s]"
     ]
    },
    {
     "name": "stdout",
     "output_type": "stream",
     "text": [
      "{'eval_loss': 0.6271296143531799, 'eval_recall': 0.8693812797461661, 'eval_precision': 0.7104580812445981, 'eval_runtime': 64.6181, 'eval_samples_per_second': 43.935, 'eval_steps_per_second': 5.494, 'epoch': 0.25}\n"
     ]
    },
    {
     "name": "stderr",
     "output_type": "stream",
     "text": [
      "  1%|▏         | 800/56780 [11:21<4:21:48,  3.56it/s]  The following columns in the evaluation set  don't have a corresponding argument in `BertForSequenceClassification.forward` and have been ignored: sentense. If sentense are not expected by `BertForSequenceClassification.forward`,  you can safely ignore this message.\n",
      "***** Running Evaluation *****\n",
      "  Num examples = 2839\n",
      "  Batch size = 8\n",
      "                                                     \n",
      "  1%|▏         | 800/56780 [12:26<4:21:48,  3.56it/s]"
     ]
    },
    {
     "name": "stdout",
     "output_type": "stream",
     "text": [
      "{'eval_loss': 0.6214668154716492, 'eval_recall': 0.9941829719725013, 'eval_precision': 0.6738351254480287, 'eval_runtime': 64.6163, 'eval_samples_per_second': 43.936, 'eval_steps_per_second': 5.494, 'epoch': 0.28}\n"
     ]
    },
    {
     "name": "stderr",
     "output_type": "stream",
     "text": [
      "  2%|▏         | 900/56780 [12:54<4:21:20,  3.56it/s]  The following columns in the evaluation set  don't have a corresponding argument in `BertForSequenceClassification.forward` and have been ignored: sentense. If sentense are not expected by `BertForSequenceClassification.forward`,  you can safely ignore this message.\n",
      "***** Running Evaluation *****\n",
      "  Num examples = 2839\n",
      "  Batch size = 8\n",
      "                                                     \n",
      "  2%|▏         | 900/56780 [13:59<4:21:20,  3.56it/s]"
     ]
    },
    {
     "name": "stdout",
     "output_type": "stream",
     "text": [
      "{'eval_loss': 0.7131310701370239, 'eval_recall': 0.8688524590163934, 'eval_precision': 0.7221978021978022, 'eval_runtime': 64.6436, 'eval_samples_per_second': 43.918, 'eval_steps_per_second': 5.492, 'epoch': 0.32}\n"
     ]
    },
    {
     "name": "stderr",
     "output_type": "stream",
     "text": [
      "  2%|▏         | 1000/56780 [14:27<5:16:47,  2.93it/s] The following columns in the evaluation set  don't have a corresponding argument in `BertForSequenceClassification.forward` and have been ignored: sentense. If sentense are not expected by `BertForSequenceClassification.forward`,  you can safely ignore this message.\n",
      "***** Running Evaluation *****\n",
      "  Num examples = 2839\n",
      "  Batch size = 8\n"
     ]
    },
    {
     "name": "stdout",
     "output_type": "stream",
     "text": [
      "{'loss': 0.6596, 'learning_rate': 4.9119408242338855e-05, 'epoch': 0.35}\n"
     ]
    },
    {
     "name": "stderr",
     "output_type": "stream",
     "text": [
      "                                                      \n",
      "  2%|▏         | 1000/56780 [15:31<5:16:47,  2.93it/s]"
     ]
    },
    {
     "name": "stdout",
     "output_type": "stream",
     "text": [
      "{'eval_loss': 0.6142913699150085, 'eval_recall': 0.8635642517186674, 'eval_precision': 0.718117854001759, 'eval_runtime': 64.6496, 'eval_samples_per_second': 43.914, 'eval_steps_per_second': 5.491, 'epoch': 0.35}\n"
     ]
    },
    {
     "name": "stderr",
     "output_type": "stream",
     "text": [
      "  2%|▏         | 1100/56780 [15:59<4:15:01,  3.64it/s]  The following columns in the evaluation set  don't have a corresponding argument in `BertForSequenceClassification.forward` and have been ignored: sentense. If sentense are not expected by `BertForSequenceClassification.forward`,  you can safely ignore this message.\n",
      "***** Running Evaluation *****\n",
      "  Num examples = 2839\n",
      "  Batch size = 8\n",
      "                                                      \n",
      "  2%|▏         | 1100/56780 [17:02<4:15:01,  3.64it/s]"
     ]
    },
    {
     "name": "stdout",
     "output_type": "stream",
     "text": [
      "{'eval_loss': 0.6220465898513794, 'eval_recall': 0.9883659439450027, 'eval_precision': 0.6764386536373507, 'eval_runtime': 63.4773, 'eval_samples_per_second': 44.725, 'eval_steps_per_second': 5.593, 'epoch': 0.39}\n"
     ]
    },
    {
     "name": "stderr",
     "output_type": "stream",
     "text": [
      "  2%|▏         | 1200/56780 [17:30<4:15:51,  3.62it/s]  The following columns in the evaluation set  don't have a corresponding argument in `BertForSequenceClassification.forward` and have been ignored: sentense. If sentense are not expected by `BertForSequenceClassification.forward`,  you can safely ignore this message.\n",
      "***** Running Evaluation *****\n",
      "  Num examples = 2839\n",
      "  Batch size = 8\n",
      "                                                      \n",
      "  2%|▏         | 1200/56780 [18:34<4:15:51,  3.62it/s]"
     ]
    },
    {
     "name": "stdout",
     "output_type": "stream",
     "text": [
      "{'eval_loss': 0.6007498502731323, 'eval_recall': 0.891062929666843, 'eval_precision': 0.7288062283737025, 'eval_runtime': 63.5074, 'eval_samples_per_second': 44.703, 'eval_steps_per_second': 5.59, 'epoch': 0.42}\n"
     ]
    },
    {
     "name": "stderr",
     "output_type": "stream",
     "text": [
      "  2%|▏         | 1300/56780 [19:01<4:14:33,  3.63it/s]  The following columns in the evaluation set  don't have a corresponding argument in `BertForSequenceClassification.forward` and have been ignored: sentense. If sentense are not expected by `BertForSequenceClassification.forward`,  you can safely ignore this message.\n",
      "***** Running Evaluation *****\n",
      "  Num examples = 2839\n",
      "  Batch size = 8\n",
      "                                                      \n",
      "  2%|▏         | 1300/56780 [20:05<4:14:33,  3.63it/s]"
     ]
    },
    {
     "name": "stdout",
     "output_type": "stream",
     "text": [
      "{'eval_loss': 0.6253265142440796, 'eval_recall': 0.8778424114225277, 'eval_precision': 0.7312775330396476, 'eval_runtime': 63.5554, 'eval_samples_per_second': 44.67, 'eval_steps_per_second': 5.586, 'epoch': 0.46}\n"
     ]
    },
    {
     "name": "stderr",
     "output_type": "stream",
     "text": [
      "  2%|▏         | 1400/56780 [20:32<4:14:09,  3.63it/s]  The following columns in the evaluation set  don't have a corresponding argument in `BertForSequenceClassification.forward` and have been ignored: sentense. If sentense are not expected by `BertForSequenceClassification.forward`,  you can safely ignore this message.\n",
      "***** Running Evaluation *****\n",
      "  Num examples = 2839\n",
      "  Batch size = 8\n",
      "                                                      \n",
      "  2%|▏         | 1400/56780 [21:36<4:14:09,  3.63it/s]"
     ]
    },
    {
     "name": "stdout",
     "output_type": "stream",
     "text": [
      "{'eval_loss': 0.7174955010414124, 'eval_recall': 0.3744050766790058, 'eval_precision': 0.8602673147023087, 'eval_runtime': 63.6232, 'eval_samples_per_second': 44.622, 'eval_steps_per_second': 5.58, 'epoch': 0.49}\n"
     ]
    },
    {
     "name": "stderr",
     "output_type": "stream",
     "text": [
      "  3%|▎         | 1500/56780 [22:04<5:10:03,  2.97it/s]  The following columns in the evaluation set  don't have a corresponding argument in `BertForSequenceClassification.forward` and have been ignored: sentense. If sentense are not expected by `BertForSequenceClassification.forward`,  you can safely ignore this message.\n",
      "***** Running Evaluation *****\n",
      "  Num examples = 2839\n",
      "  Batch size = 8\n"
     ]
    },
    {
     "name": "stdout",
     "output_type": "stream",
     "text": [
      "{'loss': 0.6318, 'learning_rate': 4.867911236350828e-05, 'epoch': 0.53}\n"
     ]
    },
    {
     "name": "stderr",
     "output_type": "stream",
     "text": [
      "                                                      \n",
      "  3%|▎         | 1500/56780 [23:07<5:10:03,  2.97it/s]"
     ]
    },
    {
     "name": "stdout",
     "output_type": "stream",
     "text": [
      "{'eval_loss': 0.6129050254821777, 'eval_recall': 0.9915388683236382, 'eval_precision': 0.6686875891583453, 'eval_runtime': 63.4686, 'eval_samples_per_second': 44.731, 'eval_steps_per_second': 5.593, 'epoch': 0.53}\n"
     ]
    },
    {
     "name": "stderr",
     "output_type": "stream",
     "text": [
      "  3%|▎         | 1600/56780 [23:35<4:13:17,  3.63it/s]  The following columns in the evaluation set  don't have a corresponding argument in `BertForSequenceClassification.forward` and have been ignored: sentense. If sentense are not expected by `BertForSequenceClassification.forward`,  you can safely ignore this message.\n",
      "***** Running Evaluation *****\n",
      "  Num examples = 2839\n",
      "  Batch size = 8\n",
      "                                                      \n",
      "  3%|▎         | 1600/56780 [24:38<4:13:17,  3.63it/s]"
     ]
    },
    {
     "name": "stdout",
     "output_type": "stream",
     "text": [
      "{'eval_loss': 0.6519149541854858, 'eval_recall': 0.9888947646747752, 'eval_precision': 0.6650071123755334, 'eval_runtime': 63.4881, 'eval_samples_per_second': 44.717, 'eval_steps_per_second': 5.592, 'epoch': 0.56}\n"
     ]
    },
    {
     "name": "stderr",
     "output_type": "stream",
     "text": [
      "  3%|▎         | 1700/56780 [25:06<4:13:32,  3.62it/s]  The following columns in the evaluation set  don't have a corresponding argument in `BertForSequenceClassification.forward` and have been ignored: sentense. If sentense are not expected by `BertForSequenceClassification.forward`,  you can safely ignore this message.\n",
      "***** Running Evaluation *****\n",
      "  Num examples = 2839\n",
      "  Batch size = 8\n",
      "                                                      \n",
      "  3%|▎         | 1700/56780 [26:09<4:13:32,  3.62it/s]"
     ]
    },
    {
     "name": "stdout",
     "output_type": "stream",
     "text": [
      "{'eval_loss': 0.6159044504165649, 'eval_recall': 0.9354838709677419, 'eval_precision': 0.6793394777265745, 'eval_runtime': 63.486, 'eval_samples_per_second': 44.719, 'eval_steps_per_second': 5.592, 'epoch': 0.6}\n"
     ]
    },
    {
     "name": "stderr",
     "output_type": "stream",
     "text": [
      "  3%|▎         | 1800/56780 [26:37<4:13:12,  3.62it/s]  The following columns in the evaluation set  don't have a corresponding argument in `BertForSequenceClassification.forward` and have been ignored: sentense. If sentense are not expected by `BertForSequenceClassification.forward`,  you can safely ignore this message.\n",
      "***** Running Evaluation *****\n",
      "  Num examples = 2839\n",
      "  Batch size = 8\n",
      "                                                      \n",
      "  3%|▎         | 1800/56780 [27:40<4:13:12,  3.62it/s]"
     ]
    },
    {
     "name": "stdout",
     "output_type": "stream",
     "text": [
      "{'eval_loss': 0.6100670099258423, 'eval_recall': 0.9910100475938657, 'eval_precision': 0.6676166726042038, 'eval_runtime': 63.442, 'eval_samples_per_second': 44.75, 'eval_steps_per_second': 5.596, 'epoch': 0.63}\n"
     ]
    },
    {
     "name": "stderr",
     "output_type": "stream",
     "text": [
      "  3%|▎         | 1900/56780 [28:08<4:11:54,  3.63it/s]  The following columns in the evaluation set  don't have a corresponding argument in `BertForSequenceClassification.forward` and have been ignored: sentense. If sentense are not expected by `BertForSequenceClassification.forward`,  you can safely ignore this message.\n",
      "***** Running Evaluation *****\n",
      "  Num examples = 2839\n",
      "  Batch size = 8\n",
      "                                                      \n",
      "  3%|▎         | 1900/56780 [29:11<4:11:54,  3.63it/s]"
     ]
    },
    {
     "name": "stdout",
     "output_type": "stream",
     "text": [
      "{'eval_loss': 0.6394301652908325, 'eval_recall': 0.997355896351137, 'eval_precision': 0.6671383091616555, 'eval_runtime': 63.2996, 'eval_samples_per_second': 44.85, 'eval_steps_per_second': 5.608, 'epoch': 0.67}\n"
     ]
    },
    {
     "name": "stderr",
     "output_type": "stream",
     "text": [
      "  4%|▎         | 2000/56780 [29:39<5:06:12,  2.98it/s]  The following columns in the evaluation set  don't have a corresponding argument in `BertForSequenceClassification.forward` and have been ignored: sentense. If sentense are not expected by `BertForSequenceClassification.forward`,  you can safely ignore this message.\n",
      "***** Running Evaluation *****\n",
      "  Num examples = 2839\n",
      "  Batch size = 8\n"
     ]
    },
    {
     "name": "stdout",
     "output_type": "stream",
     "text": [
      "{'loss': 0.6298, 'learning_rate': 4.823881648467771e-05, 'epoch': 0.7}\n"
     ]
    },
    {
     "name": "stderr",
     "output_type": "stream",
     "text": [
      "                                                      \n",
      "  4%|▎         | 2000/56780 [30:42<5:06:12,  2.98it/s]"
     ]
    },
    {
     "name": "stdout",
     "output_type": "stream",
     "text": [
      "{'eval_loss': 0.6130141615867615, 'eval_recall': 0.9561078794288737, 'eval_precision': 0.6691339748334567, 'eval_runtime': 63.3562, 'eval_samples_per_second': 44.81, 'eval_steps_per_second': 5.603, 'epoch': 0.7}\n"
     ]
    },
    {
     "name": "stderr",
     "output_type": "stream",
     "text": [
      "  4%|▎         | 2100/56780 [31:10<4:12:10,  3.61it/s]  The following columns in the evaluation set  don't have a corresponding argument in `BertForSequenceClassification.forward` and have been ignored: sentense. If sentense are not expected by `BertForSequenceClassification.forward`,  you can safely ignore this message.\n",
      "***** Running Evaluation *****\n",
      "  Num examples = 2839\n",
      "  Batch size = 8\n",
      "                                                      \n",
      "  4%|▎         | 2100/56780 [32:13<4:12:10,  3.61it/s]"
     ]
    },
    {
     "name": "stdout",
     "output_type": "stream",
     "text": [
      "{'eval_loss': 0.6449192762374878, 'eval_recall': 0.955579058699101, 'eval_precision': 0.6939324116743472, 'eval_runtime': 63.4, 'eval_samples_per_second': 44.779, 'eval_steps_per_second': 5.599, 'epoch': 0.74}\n"
     ]
    },
    {
     "name": "stderr",
     "output_type": "stream",
     "text": [
      "  4%|▍         | 2200/56780 [32:41<4:10:18,  3.63it/s]  The following columns in the evaluation set  don't have a corresponding argument in `BertForSequenceClassification.forward` and have been ignored: sentense. If sentense are not expected by `BertForSequenceClassification.forward`,  you can safely ignore this message.\n",
      "***** Running Evaluation *****\n",
      "  Num examples = 2839\n",
      "  Batch size = 8\n",
      "                                                      \n",
      "  4%|▍         | 2200/56780 [33:44<4:10:18,  3.63it/s]"
     ]
    },
    {
     "name": "stdout",
     "output_type": "stream",
     "text": [
      "{'eval_loss': 0.6123430132865906, 'eval_recall': 0.9323109465891063, 'eval_precision': 0.7080321285140563, 'eval_runtime': 63.4416, 'eval_samples_per_second': 44.75, 'eval_steps_per_second': 5.596, 'epoch': 0.77}\n"
     ]
    },
    {
     "name": "stderr",
     "output_type": "stream",
     "text": [
      "  4%|▍         | 2300/56780 [34:12<4:10:08,  3.63it/s]  The following columns in the evaluation set  don't have a corresponding argument in `BertForSequenceClassification.forward` and have been ignored: sentense. If sentense are not expected by `BertForSequenceClassification.forward`,  you can safely ignore this message.\n",
      "***** Running Evaluation *****\n",
      "  Num examples = 2839\n",
      "  Batch size = 8\n",
      "                                                      \n",
      "  4%|▍         | 2300/56780 [35:15<4:10:08,  3.63it/s]"
     ]
    },
    {
     "name": "stdout",
     "output_type": "stream",
     "text": [
      "{'eval_loss': 0.625880241394043, 'eval_recall': 0.9069275515600211, 'eval_precision': 0.7208911307271963, 'eval_runtime': 63.3409, 'eval_samples_per_second': 44.821, 'eval_steps_per_second': 5.605, 'epoch': 0.81}\n"
     ]
    },
    {
     "name": "stderr",
     "output_type": "stream",
     "text": [
      "  4%|▍         | 2400/56780 [35:43<4:10:04,  3.62it/s]  The following columns in the evaluation set  don't have a corresponding argument in `BertForSequenceClassification.forward` and have been ignored: sentense. If sentense are not expected by `BertForSequenceClassification.forward`,  you can safely ignore this message.\n",
      "***** Running Evaluation *****\n",
      "  Num examples = 2839\n",
      "  Batch size = 8\n",
      "                                                      \n",
      "  4%|▍         | 2400/56780 [36:46<4:10:04,  3.62it/s]"
     ]
    },
    {
     "name": "stdout",
     "output_type": "stream",
     "text": [
      "{'eval_loss': 0.603622317314148, 'eval_recall': 1.0, 'eval_precision': 0.6660796054948925, 'eval_runtime': 63.3424, 'eval_samples_per_second': 44.82, 'eval_steps_per_second': 5.604, 'epoch': 0.85}\n"
     ]
    },
    {
     "name": "stderr",
     "output_type": "stream",
     "text": [
      "  4%|▍         | 2500/56780 [37:14<5:05:50,  2.96it/s]  The following columns in the evaluation set  don't have a corresponding argument in `BertForSequenceClassification.forward` and have been ignored: sentense. If sentense are not expected by `BertForSequenceClassification.forward`,  you can safely ignore this message.\n",
      "***** Running Evaluation *****\n",
      "  Num examples = 2839\n",
      "  Batch size = 8\n"
     ]
    },
    {
     "name": "stdout",
     "output_type": "stream",
     "text": [
      "{'loss': 0.6161, 'learning_rate': 4.779852060584713e-05, 'epoch': 0.88}\n"
     ]
    },
    {
     "name": "stderr",
     "output_type": "stream",
     "text": [
      "                                                      \n",
      "  4%|▍         | 2500/56780 [38:17<5:05:50,  2.96it/s]"
     ]
    },
    {
     "name": "stdout",
     "output_type": "stream",
     "text": [
      "{'eval_loss': 0.6016351580619812, 'eval_recall': 0.9989423585404548, 'eval_precision': 0.6658442016214311, 'eval_runtime': 63.3538, 'eval_samples_per_second': 44.812, 'eval_steps_per_second': 5.603, 'epoch': 0.88}\n"
     ]
    },
    {
     "name": "stderr",
     "output_type": "stream",
     "text": [
      "  5%|▍         | 2600/56780 [38:45<4:08:41,  3.63it/s]  The following columns in the evaluation set  don't have a corresponding argument in `BertForSequenceClassification.forward` and have been ignored: sentense. If sentense are not expected by `BertForSequenceClassification.forward`,  you can safely ignore this message.\n",
      "***** Running Evaluation *****\n",
      "  Num examples = 2839\n",
      "  Batch size = 8\n",
      "                                                      \n",
      "  5%|▍         | 2600/56780 [39:48<4:08:41,  3.63it/s]"
     ]
    },
    {
     "name": "stdout",
     "output_type": "stream",
     "text": [
      "{'eval_loss': 0.6605567932128906, 'eval_recall': 0.7969328397673189, 'eval_precision': 0.7764039155074703, 'eval_runtime': 63.4622, 'eval_samples_per_second': 44.735, 'eval_steps_per_second': 5.594, 'epoch': 0.92}\n"
     ]
    },
    {
     "name": "stderr",
     "output_type": "stream",
     "text": [
      "  5%|▍         | 2700/56780 [40:16<4:08:18,  3.63it/s]  The following columns in the evaluation set  don't have a corresponding argument in `BertForSequenceClassification.forward` and have been ignored: sentense. If sentense are not expected by `BertForSequenceClassification.forward`,  you can safely ignore this message.\n",
      "***** Running Evaluation *****\n",
      "  Num examples = 2839\n",
      "  Batch size = 8\n",
      "                                                      \n",
      "  5%|▍         | 2700/56780 [41:19<4:08:18,  3.63it/s]"
     ]
    },
    {
     "name": "stdout",
     "output_type": "stream",
     "text": [
      "{'eval_loss': 0.6512562036514282, 'eval_recall': 0.9101004759386568, 'eval_precision': 0.725548060708263, 'eval_runtime': 63.262, 'eval_samples_per_second': 44.877, 'eval_steps_per_second': 5.612, 'epoch': 0.95}\n"
     ]
    },
    {
     "name": "stderr",
     "output_type": "stream",
     "text": [
      "  5%|▍         | 2800/56780 [41:47<4:07:53,  3.63it/s]  The following columns in the evaluation set  don't have a corresponding argument in `BertForSequenceClassification.forward` and have been ignored: sentense. If sentense are not expected by `BertForSequenceClassification.forward`,  you can safely ignore this message.\n",
      "***** Running Evaluation *****\n",
      "  Num examples = 2839\n",
      "  Batch size = 8\n",
      "                                                      \n",
      "  5%|▍         | 2800/56780 [42:50<4:07:53,  3.63it/s]"
     ]
    },
    {
     "name": "stdout",
     "output_type": "stream",
     "text": [
      "{'eval_loss': 0.5950655341148376, 'eval_recall': 0.8159703860391327, 'eval_precision': 0.7688091679123069, 'eval_runtime': 63.3154, 'eval_samples_per_second': 44.839, 'eval_steps_per_second': 5.607, 'epoch': 0.99}\n"
     ]
    },
    {
     "name": "stderr",
     "output_type": "stream",
     "text": [
      "  5%|▌         | 2900/56780 [43:17<4:07:33,  3.63it/s]  The following columns in the evaluation set  don't have a corresponding argument in `BertForSequenceClassification.forward` and have been ignored: sentense. If sentense are not expected by `BertForSequenceClassification.forward`,  you can safely ignore this message.\n",
      "***** Running Evaluation *****\n",
      "  Num examples = 2839\n",
      "  Batch size = 8\n",
      "                                                      \n",
      "  5%|▌         | 2900/56780 [44:21<4:07:33,  3.63it/s]"
     ]
    },
    {
     "name": "stdout",
     "output_type": "stream",
     "text": [
      "{'eval_loss': 0.8275887966156006, 'eval_recall': 0.9212057112638815, 'eval_precision': 0.7124744376278118, 'eval_runtime': 63.2789, 'eval_samples_per_second': 44.865, 'eval_steps_per_second': 5.61, 'epoch': 1.02}\n"
     ]
    },
    {
     "name": "stderr",
     "output_type": "stream",
     "text": [
      "  5%|▌         | 3000/56780 [44:49<5:01:33,  2.97it/s]  The following columns in the evaluation set  don't have a corresponding argument in `BertForSequenceClassification.forward` and have been ignored: sentense. If sentense are not expected by `BertForSequenceClassification.forward`,  you can safely ignore this message.\n",
      "***** Running Evaluation *****\n",
      "  Num examples = 2839\n",
      "  Batch size = 8\n"
     ]
    },
    {
     "name": "stdout",
     "output_type": "stream",
     "text": [
      "{'loss': 0.6028, 'learning_rate': 4.735822472701656e-05, 'epoch': 1.06}\n"
     ]
    },
    {
     "name": "stderr",
     "output_type": "stream",
     "text": [
      "                                                      \n",
      "  5%|▌         | 3000/56780 [45:52<5:01:33,  2.97it/s]"
     ]
    },
    {
     "name": "stdout",
     "output_type": "stream",
     "text": [
      "{'eval_loss': 0.5948630571365356, 'eval_recall': 0.9005817028027499, 'eval_precision': 0.7302744425385935, 'eval_runtime': 63.3319, 'eval_samples_per_second': 44.827, 'eval_steps_per_second': 5.605, 'epoch': 1.06}\n"
     ]
    },
    {
     "name": "stderr",
     "output_type": "stream",
     "text": [
      "  5%|▌         | 3100/56780 [46:19<4:06:12,  3.63it/s]  The following columns in the evaluation set  don't have a corresponding argument in `BertForSequenceClassification.forward` and have been ignored: sentense. If sentense are not expected by `BertForSequenceClassification.forward`,  you can safely ignore this message.\n",
      "***** Running Evaluation *****\n",
      "  Num examples = 2839\n",
      "  Batch size = 8\n",
      "                                                      \n",
      "  5%|▌         | 3100/56780 [47:23<4:06:12,  3.63it/s]"
     ]
    },
    {
     "name": "stdout",
     "output_type": "stream",
     "text": [
      "{'eval_loss': 0.7050689458847046, 'eval_recall': 0.7265996827075621, 'eval_precision': 0.8053927315357562, 'eval_runtime': 63.3237, 'eval_samples_per_second': 44.833, 'eval_steps_per_second': 5.606, 'epoch': 1.09}\n"
     ]
    },
    {
     "name": "stderr",
     "output_type": "stream",
     "text": [
      "  6%|▌         | 3200/56780 [47:50<4:06:29,  3.62it/s]  The following columns in the evaluation set  don't have a corresponding argument in `BertForSequenceClassification.forward` and have been ignored: sentense. If sentense are not expected by `BertForSequenceClassification.forward`,  you can safely ignore this message.\n",
      "***** Running Evaluation *****\n",
      "  Num examples = 2839\n",
      "  Batch size = 8\n",
      "                                                      \n",
      "  6%|▌         | 3200/56780 [48:54<4:06:29,  3.62it/s]"
     ]
    },
    {
     "name": "stdout",
     "output_type": "stream",
     "text": [
      "{'eval_loss': 0.6037078499794006, 'eval_recall': 0.8133262823902697, 'eval_precision': 0.7724761426418885, 'eval_runtime': 63.2627, 'eval_samples_per_second': 44.876, 'eval_steps_per_second': 5.612, 'epoch': 1.13}\n"
     ]
    },
    {
     "name": "stderr",
     "output_type": "stream",
     "text": [
      "  6%|▌         | 3300/56780 [49:21<4:05:35,  3.63it/s]  The following columns in the evaluation set  don't have a corresponding argument in `BertForSequenceClassification.forward` and have been ignored: sentense. If sentense are not expected by `BertForSequenceClassification.forward`,  you can safely ignore this message.\n",
      "***** Running Evaluation *****\n",
      "  Num examples = 2839\n",
      "  Batch size = 8\n",
      "                                                      \n",
      "  6%|▌         | 3300/56780 [50:24<4:05:35,  3.63it/s]"
     ]
    },
    {
     "name": "stdout",
     "output_type": "stream",
     "text": [
      "{'eval_loss': 0.6302201151847839, 'eval_recall': 0.960867265996827, 'eval_precision': 0.6935114503816794, 'eval_runtime': 63.2255, 'eval_samples_per_second': 44.903, 'eval_steps_per_second': 5.615, 'epoch': 1.16}\n"
     ]
    },
    {
     "name": "stderr",
     "output_type": "stream",
     "text": [
      "  6%|▌         | 3400/56780 [50:52<4:05:25,  3.62it/s]  The following columns in the evaluation set  don't have a corresponding argument in `BertForSequenceClassification.forward` and have been ignored: sentense. If sentense are not expected by `BertForSequenceClassification.forward`,  you can safely ignore this message.\n",
      "***** Running Evaluation *****\n",
      "  Num examples = 2839\n",
      "  Batch size = 8\n",
      "                                                      \n",
      "  6%|▌         | 3400/56780 [51:55<4:05:25,  3.62it/s]"
     ]
    },
    {
     "name": "stdout",
     "output_type": "stream",
     "text": [
      "{'eval_loss': 0.6098348498344421, 'eval_recall': 0.8180856689582232, 'eval_precision': 0.7579617834394905, 'eval_runtime': 63.2918, 'eval_samples_per_second': 44.856, 'eval_steps_per_second': 5.609, 'epoch': 1.2}\n"
     ]
    },
    {
     "name": "stderr",
     "output_type": "stream",
     "text": [
      "  6%|▌         | 3500/56780 [52:23<5:04:41,  2.91it/s]  The following columns in the evaluation set  don't have a corresponding argument in `BertForSequenceClassification.forward` and have been ignored: sentense. If sentense are not expected by `BertForSequenceClassification.forward`,  you can safely ignore this message.\n",
      "***** Running Evaluation *****\n",
      "  Num examples = 2839\n",
      "  Batch size = 8\n"
     ]
    },
    {
     "name": "stdout",
     "output_type": "stream",
     "text": [
      "{'loss': 0.5944, 'learning_rate': 4.691792884818598e-05, 'epoch': 1.23}\n"
     ]
    },
    {
     "name": "stderr",
     "output_type": "stream",
     "text": [
      "                                                      \n",
      "  6%|▌         | 3500/56780 [53:26<5:04:41,  2.91it/s]"
     ]
    },
    {
     "name": "stdout",
     "output_type": "stream",
     "text": [
      "{'eval_loss': 0.604328453540802, 'eval_recall': 1.0, 'eval_precision': 0.6660796054948925, 'eval_runtime': 63.298, 'eval_samples_per_second': 44.851, 'eval_steps_per_second': 5.608, 'epoch': 1.23}\n"
     ]
    },
    {
     "name": "stderr",
     "output_type": "stream",
     "text": [
      "  6%|▋         | 3600/56780 [53:54<4:03:46,  3.64it/s]  The following columns in the evaluation set  don't have a corresponding argument in `BertForSequenceClassification.forward` and have been ignored: sentense. If sentense are not expected by `BertForSequenceClassification.forward`,  you can safely ignore this message.\n",
      "***** Running Evaluation *****\n",
      "  Num examples = 2839\n",
      "  Batch size = 8\n",
      "                                                      \n",
      "  6%|▋         | 3600/56780 [54:57<4:03:46,  3.64it/s]"
     ]
    },
    {
     "name": "stdout",
     "output_type": "stream",
     "text": [
      "{'eval_loss': 0.6297085285186768, 'eval_recall': 0.8635642517186674, 'eval_precision': 0.7412619155696777, 'eval_runtime': 63.3309, 'eval_samples_per_second': 44.828, 'eval_steps_per_second': 5.605, 'epoch': 1.27}\n"
     ]
    },
    {
     "name": "stderr",
     "output_type": "stream",
     "text": [
      "  7%|▋         | 3700/56780 [55:25<4:03:24,  3.63it/s]  The following columns in the evaluation set  don't have a corresponding argument in `BertForSequenceClassification.forward` and have been ignored: sentense. If sentense are not expected by `BertForSequenceClassification.forward`,  you can safely ignore this message.\n",
      "***** Running Evaluation *****\n",
      "  Num examples = 2839\n",
      "  Batch size = 8\n",
      "                                                      \n",
      "  7%|▋         | 3700/56780 [56:28<4:03:24,  3.63it/s]"
     ]
    },
    {
     "name": "stdout",
     "output_type": "stream",
     "text": [
      "{'eval_loss': 0.6472550630569458, 'eval_recall': 0.9508196721311475, 'eval_precision': 0.6918045402077723, 'eval_runtime': 63.3154, 'eval_samples_per_second': 44.839, 'eval_steps_per_second': 5.607, 'epoch': 1.3}\n"
     ]
    },
    {
     "name": "stderr",
     "output_type": "stream",
     "text": [
      "  7%|▋         | 3800/56780 [56:56<4:03:12,  3.63it/s]  The following columns in the evaluation set  don't have a corresponding argument in `BertForSequenceClassification.forward` and have been ignored: sentense. If sentense are not expected by `BertForSequenceClassification.forward`,  you can safely ignore this message.\n",
      "***** Running Evaluation *****\n",
      "  Num examples = 2839\n",
      "  Batch size = 8\n",
      "                                                      \n",
      "  7%|▋         | 3800/56780 [57:59<4:03:12,  3.63it/s]"
     ]
    },
    {
     "name": "stdout",
     "output_type": "stream",
     "text": [
      "{'eval_loss': 0.5843100547790527, 'eval_recall': 0.8032786885245902, 'eval_precision': 0.7730279898218829, 'eval_runtime': 63.2929, 'eval_samples_per_second': 44.855, 'eval_steps_per_second': 5.609, 'epoch': 1.34}\n"
     ]
    },
    {
     "name": "stderr",
     "output_type": "stream",
     "text": [
      "  7%|▋         | 3900/56780 [58:27<4:03:33,  3.62it/s]  The following columns in the evaluation set  don't have a corresponding argument in `BertForSequenceClassification.forward` and have been ignored: sentense. If sentense are not expected by `BertForSequenceClassification.forward`,  you can safely ignore this message.\n",
      "***** Running Evaluation *****\n",
      "  Num examples = 2839\n",
      "  Batch size = 8\n",
      "                                                      \n",
      "  7%|▋         | 3900/56780 [59:30<4:03:33,  3.62it/s]"
     ]
    },
    {
     "name": "stdout",
     "output_type": "stream",
     "text": [
      "{'eval_loss': 0.5773897171020508, 'eval_recall': 1.0, 'eval_precision': 0.6663143058491896, 'eval_runtime': 63.3307, 'eval_samples_per_second': 44.828, 'eval_steps_per_second': 5.605, 'epoch': 1.37}\n"
     ]
    },
    {
     "name": "stderr",
     "output_type": "stream",
     "text": [
      "  7%|▋         | 4000/56780 [59:58<4:57:19,  2.96it/s]  The following columns in the evaluation set  don't have a corresponding argument in `BertForSequenceClassification.forward` and have been ignored: sentense. If sentense are not expected by `BertForSequenceClassification.forward`,  you can safely ignore this message.\n",
      "***** Running Evaluation *****\n",
      "  Num examples = 2839\n",
      "  Batch size = 8\n"
     ]
    },
    {
     "name": "stdout",
     "output_type": "stream",
     "text": [
      "{'loss': 0.584, 'learning_rate': 4.647763296935541e-05, 'epoch': 1.41}\n"
     ]
    },
    {
     "name": "stderr",
     "output_type": "stream",
     "text": [
      "                                                      \n",
      "  7%|▋         | 4000/56780 [1:01:01<4:57:19,  2.96it/s]"
     ]
    },
    {
     "name": "stdout",
     "output_type": "stream",
     "text": [
      "{'eval_loss': 0.6485453248023987, 'eval_recall': 0.9106292966684294, 'eval_precision': 0.7214076246334311, 'eval_runtime': 63.1658, 'eval_samples_per_second': 44.945, 'eval_steps_per_second': 5.62, 'epoch': 1.41}\n"
     ]
    },
    {
     "name": "stderr",
     "output_type": "stream",
     "text": [
      "  7%|▋         | 4100/56780 [1:01:28<4:01:31,  3.64it/s]  The following columns in the evaluation set  don't have a corresponding argument in `BertForSequenceClassification.forward` and have been ignored: sentense. If sentense are not expected by `BertForSequenceClassification.forward`,  you can safely ignore this message.\n",
      "***** Running Evaluation *****\n",
      "  Num examples = 2839\n",
      "  Batch size = 8\n",
      "                                                        \n",
      "  7%|▋         | 4100/56780 [1:02:32<4:01:31,  3.64it/s]"
     ]
    },
    {
     "name": "stdout",
     "output_type": "stream",
     "text": [
      "{'eval_loss': 0.6112478971481323, 'eval_recall': 0.9058699101004759, 'eval_precision': 0.7246192893401016, 'eval_runtime': 63.1962, 'eval_samples_per_second': 44.924, 'eval_steps_per_second': 5.617, 'epoch': 1.44}\n"
     ]
    },
    {
     "name": "stderr",
     "output_type": "stream",
     "text": [
      "  7%|▋         | 4200/56780 [1:02:59<4:00:55,  3.64it/s]  The following columns in the evaluation set  don't have a corresponding argument in `BertForSequenceClassification.forward` and have been ignored: sentense. If sentense are not expected by `BertForSequenceClassification.forward`,  you can safely ignore this message.\n",
      "***** Running Evaluation *****\n",
      "  Num examples = 2839\n",
      "  Batch size = 8\n",
      "                                                        \n",
      "  7%|▋         | 4200/56780 [1:04:02<4:00:55,  3.64it/s]"
     ]
    },
    {
     "name": "stdout",
     "output_type": "stream",
     "text": [
      "{'eval_loss': 0.5937555432319641, 'eval_recall': 0.6991010047593865, 'eval_precision': 0.8060975609756098, 'eval_runtime': 63.3035, 'eval_samples_per_second': 44.847, 'eval_steps_per_second': 5.608, 'epoch': 1.48}\n"
     ]
    },
    {
     "name": "stderr",
     "output_type": "stream",
     "text": [
      "  8%|▊         | 4300/56780 [1:04:30<4:00:37,  3.63it/s]  The following columns in the evaluation set  don't have a corresponding argument in `BertForSequenceClassification.forward` and have been ignored: sentense. If sentense are not expected by `BertForSequenceClassification.forward`,  you can safely ignore this message.\n",
      "***** Running Evaluation *****\n",
      "  Num examples = 2839\n",
      "  Batch size = 8\n",
      "                                                        \n",
      "  8%|▊         | 4300/56780 [1:05:33<4:00:37,  3.63it/s]"
     ]
    },
    {
     "name": "stdout",
     "output_type": "stream",
     "text": [
      "{'eval_loss': 0.5750129818916321, 'eval_recall': 0.6848228450555262, 'eval_precision': 0.7993827160493827, 'eval_runtime': 63.2366, 'eval_samples_per_second': 44.895, 'eval_steps_per_second': 5.614, 'epoch': 1.51}\n"
     ]
    },
    {
     "name": "stderr",
     "output_type": "stream",
     "text": [
      "  8%|▊         | 4400/56780 [1:06:01<4:00:26,  3.63it/s]  The following columns in the evaluation set  don't have a corresponding argument in `BertForSequenceClassification.forward` and have been ignored: sentense. If sentense are not expected by `BertForSequenceClassification.forward`,  you can safely ignore this message.\n",
      "***** Running Evaluation *****\n",
      "  Num examples = 2839\n",
      "  Batch size = 8\n",
      "                                                        \n",
      "  8%|▊         | 4400/56780 [1:07:04<4:00:26,  3.63it/s]"
     ]
    },
    {
     "name": "stdout",
     "output_type": "stream",
     "text": [
      "{'eval_loss': 0.6072636842727661, 'eval_recall': 1.0, 'eval_precision': 0.6660796054948925, 'eval_runtime': 63.1938, 'eval_samples_per_second': 44.925, 'eval_steps_per_second': 5.618, 'epoch': 1.55}\n"
     ]
    },
    {
     "name": "stderr",
     "output_type": "stream",
     "text": [
      "  8%|▊         | 4500/56780 [1:07:32<4:53:07,  2.97it/s]  The following columns in the evaluation set  don't have a corresponding argument in `BertForSequenceClassification.forward` and have been ignored: sentense. If sentense are not expected by `BertForSequenceClassification.forward`,  you can safely ignore this message.\n",
      "***** Running Evaluation *****\n",
      "  Num examples = 2839\n",
      "  Batch size = 8\n"
     ]
    },
    {
     "name": "stdout",
     "output_type": "stream",
     "text": [
      "{'loss': 0.5616, 'learning_rate': 4.603733709052483e-05, 'epoch': 1.59}\n"
     ]
    },
    {
     "name": "stderr",
     "output_type": "stream",
     "text": [
      "                                                        \n",
      "  8%|▊         | 4500/56780 [1:08:35<4:53:07,  2.97it/s]"
     ]
    },
    {
     "name": "stdout",
     "output_type": "stream",
     "text": [
      "{'eval_loss': 0.6187003254890442, 'eval_recall': 0.85193019566367, 'eval_precision': 0.7574047954866009, 'eval_runtime': 63.1875, 'eval_samples_per_second': 44.93, 'eval_steps_per_second': 5.618, 'epoch': 1.59}\n"
     ]
    },
    {
     "name": "stderr",
     "output_type": "stream",
     "text": [
      "  8%|▊         | 4600/56780 [1:09:03<3:59:43,  3.63it/s]  The following columns in the evaluation set  don't have a corresponding argument in `BertForSequenceClassification.forward` and have been ignored: sentense. If sentense are not expected by `BertForSequenceClassification.forward`,  you can safely ignore this message.\n",
      "***** Running Evaluation *****\n",
      "  Num examples = 2839\n",
      "  Batch size = 8\n",
      "                                                        \n",
      "  8%|▊         | 4600/56780 [1:10:06<3:59:43,  3.63it/s]"
     ]
    },
    {
     "name": "stdout",
     "output_type": "stream",
     "text": [
      "{'eval_loss': 0.6228978633880615, 'eval_recall': 0.9545214172395557, 'eval_precision': 0.6955684007707129, 'eval_runtime': 63.0867, 'eval_samples_per_second': 45.002, 'eval_steps_per_second': 5.627, 'epoch': 1.62}\n"
     ]
    },
    {
     "name": "stderr",
     "output_type": "stream",
     "text": [
      "  8%|▊         | 4700/56780 [1:10:33<3:58:36,  3.64it/s]  The following columns in the evaluation set  don't have a corresponding argument in `BertForSequenceClassification.forward` and have been ignored: sentense. If sentense are not expected by `BertForSequenceClassification.forward`,  you can safely ignore this message.\n",
      "***** Running Evaluation *****\n",
      "  Num examples = 2839\n",
      "  Batch size = 8\n",
      "                                                        \n",
      "  8%|▊         | 4700/56780 [1:11:36<3:58:36,  3.64it/s]"
     ]
    },
    {
     "name": "stdout",
     "output_type": "stream",
     "text": [
      "{'eval_loss': 0.617774248123169, 'eval_recall': 0.9471179270227393, 'eval_precision': 0.707345971563981, 'eval_runtime': 63.0746, 'eval_samples_per_second': 45.01, 'eval_steps_per_second': 5.628, 'epoch': 1.66}\n"
     ]
    },
    {
     "name": "stderr",
     "output_type": "stream",
     "text": [
      "  8%|▊         | 4800/56780 [1:12:04<3:58:07,  3.64it/s]  The following columns in the evaluation set  don't have a corresponding argument in `BertForSequenceClassification.forward` and have been ignored: sentense. If sentense are not expected by `BertForSequenceClassification.forward`,  you can safely ignore this message.\n",
      "***** Running Evaluation *****\n",
      "  Num examples = 2839\n",
      "  Batch size = 8\n",
      "                                                        \n",
      "  8%|▊         | 4800/56780 [1:13:07<3:58:07,  3.64it/s]"
     ]
    },
    {
     "name": "stdout",
     "output_type": "stream",
     "text": [
      "{'eval_loss': 0.6041410565376282, 'eval_recall': 0.9418297197250132, 'eval_precision': 0.7115461446264483, 'eval_runtime': 63.1804, 'eval_samples_per_second': 44.935, 'eval_steps_per_second': 5.619, 'epoch': 1.69}\n"
     ]
    },
    {
     "name": "stderr",
     "output_type": "stream",
     "text": [
      "  9%|▊         | 4900/56780 [1:13:35<3:57:44,  3.64it/s]  The following columns in the evaluation set  don't have a corresponding argument in `BertForSequenceClassification.forward` and have been ignored: sentense. If sentense are not expected by `BertForSequenceClassification.forward`,  you can safely ignore this message.\n",
      "***** Running Evaluation *****\n",
      "  Num examples = 2839\n",
      "  Batch size = 8\n",
      "                                                        \n",
      "  9%|▊         | 4900/56780 [1:14:38<3:57:44,  3.64it/s]"
     ]
    },
    {
     "name": "stdout",
     "output_type": "stream",
     "text": [
      "{'eval_loss': 0.6057707667350769, 'eval_recall': 0.9391856160761501, 'eval_precision': 0.7167070217917676, 'eval_runtime': 63.1807, 'eval_samples_per_second': 44.935, 'eval_steps_per_second': 5.619, 'epoch': 1.73}\n"
     ]
    },
    {
     "name": "stderr",
     "output_type": "stream",
     "text": [
      "  9%|▉         | 5000/56780 [1:15:05<4:53:11,  2.94it/s]  The following columns in the evaluation set  don't have a corresponding argument in `BertForSequenceClassification.forward` and have been ignored: sentense. If sentense are not expected by `BertForSequenceClassification.forward`,  you can safely ignore this message.\n",
      "***** Running Evaluation *****\n",
      "  Num examples = 2839\n",
      "  Batch size = 8\n"
     ]
    },
    {
     "name": "stdout",
     "output_type": "stream",
     "text": [
      "{'loss': 0.5989, 'learning_rate': 4.559704121169426e-05, 'epoch': 1.76}\n"
     ]
    },
    {
     "name": "stderr",
     "output_type": "stream",
     "text": [
      "                                                        \n",
      "  9%|▉         | 5000/56780 [1:16:09<4:53:11,  2.94it/s]Saving model checkpoint to bert-classifier-trainer\\checkpoint-5000\n",
      "Configuration saved in bert-classifier-trainer\\checkpoint-5000\\config.json\n"
     ]
    },
    {
     "name": "stdout",
     "output_type": "stream",
     "text": [
      "{'eval_loss': 0.6357219219207764, 'eval_recall': 0.8947646747752512, 'eval_precision': 0.7476800707026071, 'eval_runtime': 63.197, 'eval_samples_per_second': 44.923, 'eval_steps_per_second': 5.617, 'epoch': 1.76}\n"
     ]
    },
    {
     "name": "stderr",
     "output_type": "stream",
     "text": [
      "Model weights saved in bert-classifier-trainer\\checkpoint-5000\\pytorch_model.bin\n",
      "  9%|▉         | 5100/56780 [1:16:47<3:56:39,  3.64it/s]  The following columns in the evaluation set  don't have a corresponding argument in `BertForSequenceClassification.forward` and have been ignored: sentense. If sentense are not expected by `BertForSequenceClassification.forward`,  you can safely ignore this message.\n",
      "***** Running Evaluation *****\n",
      "  Num examples = 2839\n",
      "  Batch size = 8\n",
      "                                                        \n",
      "  9%|▉         | 5100/56780 [1:17:50<3:56:39,  3.64it/s]"
     ]
    },
    {
     "name": "stdout",
     "output_type": "stream",
     "text": [
      "{'eval_loss': 0.590007483959198, 'eval_recall': 0.9016393442622951, 'eval_precision': 0.7361830742659758, 'eval_runtime': 63.0531, 'eval_samples_per_second': 45.026, 'eval_steps_per_second': 5.63, 'epoch': 1.8}\n"
     ]
    },
    {
     "name": "stderr",
     "output_type": "stream",
     "text": [
      "  9%|▉         | 5200/56780 [1:18:17<3:56:58,  3.63it/s]  The following columns in the evaluation set  don't have a corresponding argument in `BertForSequenceClassification.forward` and have been ignored: sentense. If sentense are not expected by `BertForSequenceClassification.forward`,  you can safely ignore this message.\n",
      "***** Running Evaluation *****\n",
      "  Num examples = 2839\n",
      "  Batch size = 8\n",
      "                                                        \n",
      "  9%|▉         | 5200/56780 [1:19:20<3:56:58,  3.63it/s]"
     ]
    },
    {
     "name": "stdout",
     "output_type": "stream",
     "text": [
      "{'eval_loss': 0.5920897722244263, 'eval_recall': 0.9106292966684294, 'eval_precision': 0.7321428571428571, 'eval_runtime': 63.211, 'eval_samples_per_second': 44.913, 'eval_steps_per_second': 5.616, 'epoch': 1.83}\n"
     ]
    },
    {
     "name": "stderr",
     "output_type": "stream",
     "text": [
      "  9%|▉         | 5300/56780 [1:19:48<3:57:00,  3.62it/s]  The following columns in the evaluation set  don't have a corresponding argument in `BertForSequenceClassification.forward` and have been ignored: sentense. If sentense are not expected by `BertForSequenceClassification.forward`,  you can safely ignore this message.\n",
      "***** Running Evaluation *****\n",
      "  Num examples = 2839\n",
      "  Batch size = 8\n",
      "                                                        \n",
      "  9%|▉         | 5300/56780 [1:20:51<3:57:00,  3.62it/s]"
     ]
    },
    {
     "name": "stdout",
     "output_type": "stream",
     "text": [
      "{'eval_loss': 0.6100631952285767, 'eval_recall': 0.8974087784241143, 'eval_precision': 0.7381470204436712, 'eval_runtime': 63.304, 'eval_samples_per_second': 44.847, 'eval_steps_per_second': 5.608, 'epoch': 1.87}\n"
     ]
    },
    {
     "name": "stderr",
     "output_type": "stream",
     "text": [
      " 10%|▉         | 5400/56780 [1:21:19<3:55:42,  3.63it/s]  The following columns in the evaluation set  don't have a corresponding argument in `BertForSequenceClassification.forward` and have been ignored: sentense. If sentense are not expected by `BertForSequenceClassification.forward`,  you can safely ignore this message.\n",
      "***** Running Evaluation *****\n",
      "  Num examples = 2839\n",
      "  Batch size = 8\n",
      "                                                        \n",
      " 10%|▉         | 5400/56780 [1:22:22<3:55:42,  3.63it/s]"
     ]
    },
    {
     "name": "stdout",
     "output_type": "stream",
     "text": [
      "{'eval_loss': 0.6396071910858154, 'eval_recall': 0.9550502379693284, 'eval_precision': 0.70464299648849, 'eval_runtime': 63.1785, 'eval_samples_per_second': 44.936, 'eval_steps_per_second': 5.619, 'epoch': 1.9}\n"
     ]
    },
    {
     "name": "stderr",
     "output_type": "stream",
     "text": [
      " 10%|▉         | 5500/56780 [1:22:50<4:48:31,  2.96it/s]  The following columns in the evaluation set  don't have a corresponding argument in `BertForSequenceClassification.forward` and have been ignored: sentense. If sentense are not expected by `BertForSequenceClassification.forward`,  you can safely ignore this message.\n",
      "***** Running Evaluation *****\n",
      "  Num examples = 2839\n",
      "  Batch size = 8\n"
     ]
    },
    {
     "name": "stdout",
     "output_type": "stream",
     "text": [
      "{'loss': 0.5911, 'learning_rate': 4.5156745332863684e-05, 'epoch': 1.94}\n"
     ]
    },
    {
     "name": "stderr",
     "output_type": "stream",
     "text": [
      "                                                        \n",
      " 10%|▉         | 5500/56780 [1:23:53<4:48:31,  2.96it/s]"
     ]
    },
    {
     "name": "stdout",
     "output_type": "stream",
     "text": [
      "{'eval_loss': 0.6021230816841125, 'eval_recall': 0.9095716552088842, 'eval_precision': 0.7291225095379398, 'eval_runtime': 63.1777, 'eval_samples_per_second': 44.937, 'eval_steps_per_second': 5.619, 'epoch': 1.94}\n"
     ]
    },
    {
     "name": "stderr",
     "output_type": "stream",
     "text": [
      " 10%|▉         | 5600/56780 [1:24:21<3:55:07,  3.63it/s]  The following columns in the evaluation set  don't have a corresponding argument in `BertForSequenceClassification.forward` and have been ignored: sentense. If sentense are not expected by `BertForSequenceClassification.forward`,  you can safely ignore this message.\n",
      "***** Running Evaluation *****\n",
      "  Num examples = 2839\n",
      "  Batch size = 8\n",
      "                                                        \n",
      " 10%|▉         | 5600/56780 [1:25:24<3:55:07,  3.63it/s]"
     ]
    },
    {
     "name": "stdout",
     "output_type": "stream",
     "text": [
      "{'eval_loss': 0.6084025502204895, 'eval_recall': 0.9264939185616076, 'eval_precision': 0.7183271832718328, 'eval_runtime': 63.1278, 'eval_samples_per_second': 44.972, 'eval_steps_per_second': 5.624, 'epoch': 1.97}\n"
     ]
    },
    {
     "name": "stderr",
     "output_type": "stream",
     "text": [
      " 10%|█         | 5700/56780 [1:25:51<3:53:46,  3.64it/s]  The following columns in the evaluation set  don't have a corresponding argument in `BertForSequenceClassification.forward` and have been ignored: sentense. If sentense are not expected by `BertForSequenceClassification.forward`,  you can safely ignore this message.\n",
      "***** Running Evaluation *****\n",
      "  Num examples = 2839\n",
      "  Batch size = 8\n",
      "                                                        \n",
      " 10%|█         | 5700/56780 [1:26:54<3:53:46,  3.64it/s]"
     ]
    },
    {
     "name": "stdout",
     "output_type": "stream",
     "text": [
      "{'eval_loss': 0.608129620552063, 'eval_recall': 0.9487043892120571, 'eval_precision': 0.7062992125984252, 'eval_runtime': 63.1095, 'eval_samples_per_second': 44.985, 'eval_steps_per_second': 5.625, 'epoch': 2.01}\n"
     ]
    },
    {
     "name": "stderr",
     "output_type": "stream",
     "text": [
      " 10%|█         | 5800/56780 [1:27:22<3:54:10,  3.63it/s]  The following columns in the evaluation set  don't have a corresponding argument in `BertForSequenceClassification.forward` and have been ignored: sentense. If sentense are not expected by `BertForSequenceClassification.forward`,  you can safely ignore this message.\n",
      "***** Running Evaluation *****\n",
      "  Num examples = 2839\n",
      "  Batch size = 8\n",
      "                                                        \n",
      " 10%|█         | 5800/56780 [1:28:25<3:54:10,  3.63it/s]"
     ]
    },
    {
     "name": "stdout",
     "output_type": "stream",
     "text": [
      "{'eval_loss': 0.6206944584846497, 'eval_recall': 0.9037546271813856, 'eval_precision': 0.7259983007646559, 'eval_runtime': 63.1455, 'eval_samples_per_second': 44.96, 'eval_steps_per_second': 5.622, 'epoch': 2.04}\n"
     ]
    },
    {
     "name": "stderr",
     "output_type": "stream",
     "text": [
      " 10%|█         | 5900/56780 [1:28:53<3:54:11,  3.62it/s]  The following columns in the evaluation set  don't have a corresponding argument in `BertForSequenceClassification.forward` and have been ignored: sentense. If sentense are not expected by `BertForSequenceClassification.forward`,  you can safely ignore this message.\n",
      "***** Running Evaluation *****\n",
      "  Num examples = 2839\n",
      "  Batch size = 8\n",
      "                                                        \n",
      " 10%|█         | 5900/56780 [1:29:56<3:54:11,  3.62it/s]"
     ]
    },
    {
     "name": "stdout",
     "output_type": "stream",
     "text": [
      "{'eval_loss': 0.5926263928413391, 'eval_recall': 0.8572184029613961, 'eval_precision': 0.7473490087597972, 'eval_runtime': 63.1879, 'eval_samples_per_second': 44.929, 'eval_steps_per_second': 5.618, 'epoch': 2.08}\n"
     ]
    },
    {
     "name": "stderr",
     "output_type": "stream",
     "text": [
      " 11%|█         | 6000/56780 [1:30:24<4:44:55,  2.97it/s]  The following columns in the evaluation set  don't have a corresponding argument in `BertForSequenceClassification.forward` and have been ignored: sentense. If sentense are not expected by `BertForSequenceClassification.forward`,  you can safely ignore this message.\n",
      "***** Running Evaluation *****\n",
      "  Num examples = 2839\n",
      "  Batch size = 8\n"
     ]
    },
    {
     "name": "stdout",
     "output_type": "stream",
     "text": [
      "{'loss': 0.6088, 'learning_rate': 4.471644945403311e-05, 'epoch': 2.11}\n"
     ]
    },
    {
     "name": "stderr",
     "output_type": "stream",
     "text": [
      "                                                        \n",
      " 11%|█         | 6000/56780 [1:31:27<4:44:55,  2.97it/s]"
     ]
    },
    {
     "name": "stdout",
     "output_type": "stream",
     "text": [
      "{'eval_loss': 0.6332032084465027, 'eval_recall': 0.8926493918561608, 'eval_precision': 0.732957012592271, 'eval_runtime': 63.1861, 'eval_samples_per_second': 44.931, 'eval_steps_per_second': 5.618, 'epoch': 2.11}\n"
     ]
    },
    {
     "name": "stderr",
     "output_type": "stream",
     "text": [
      " 11%|█         | 6100/56780 [1:31:54<3:53:03,  3.62it/s]  The following columns in the evaluation set  don't have a corresponding argument in `BertForSequenceClassification.forward` and have been ignored: sentense. If sentense are not expected by `BertForSequenceClassification.forward`,  you can safely ignore this message.\n",
      "***** Running Evaluation *****\n",
      "  Num examples = 2839\n",
      "  Batch size = 8\n",
      "                                                        \n",
      " 11%|█         | 6100/56780 [1:32:58<3:53:03,  3.62it/s]"
     ]
    },
    {
     "name": "stdout",
     "output_type": "stream",
     "text": [
      "{'eval_loss': 0.6228673458099365, 'eval_recall': 0.9196192490745637, 'eval_precision': 0.7251876563803169, 'eval_runtime': 63.139, 'eval_samples_per_second': 44.964, 'eval_steps_per_second': 5.623, 'epoch': 2.15}\n"
     ]
    },
    {
     "name": "stderr",
     "output_type": "stream",
     "text": [
      " 11%|█         | 6200/56780 [1:33:25<3:52:29,  3.63it/s]  The following columns in the evaluation set  don't have a corresponding argument in `BertForSequenceClassification.forward` and have been ignored: sentense. If sentense are not expected by `BertForSequenceClassification.forward`,  you can safely ignore this message.\n",
      "***** Running Evaluation *****\n",
      "  Num examples = 2839\n",
      "  Batch size = 8\n",
      "                                                        \n",
      " 11%|█         | 6200/56780 [1:34:28<3:52:29,  3.63it/s]"
     ]
    },
    {
     "name": "stdout",
     "output_type": "stream",
     "text": [
      "{'eval_loss': 0.6024389266967773, 'eval_recall': 0.9249074563722898, 'eval_precision': 0.7224287484510533, 'eval_runtime': 63.1418, 'eval_samples_per_second': 44.962, 'eval_steps_per_second': 5.622, 'epoch': 2.18}\n"
     ]
    },
    {
     "name": "stderr",
     "output_type": "stream",
     "text": [
      " 11%|█         | 6300/56780 [1:34:56<3:52:00,  3.63it/s]  The following columns in the evaluation set  don't have a corresponding argument in `BertForSequenceClassification.forward` and have been ignored: sentense. If sentense are not expected by `BertForSequenceClassification.forward`,  you can safely ignore this message.\n",
      "***** Running Evaluation *****\n",
      "  Num examples = 2839\n",
      "  Batch size = 8\n",
      "                                                        \n",
      " 11%|█         | 6300/56780 [1:35:59<3:52:00,  3.63it/s]"
     ]
    },
    {
     "name": "stdout",
     "output_type": "stream",
     "text": [
      "{'eval_loss': 0.6177383661270142, 'eval_recall': 0.923320994182972, 'eval_precision': 0.7223831195697146, 'eval_runtime': 63.1343, 'eval_samples_per_second': 44.968, 'eval_steps_per_second': 5.623, 'epoch': 2.22}\n"
     ]
    },
    {
     "name": "stderr",
     "output_type": "stream",
     "text": [
      " 11%|█▏        | 6400/56780 [1:36:26<3:51:10,  3.63it/s]  The following columns in the evaluation set  don't have a corresponding argument in `BertForSequenceClassification.forward` and have been ignored: sentense. If sentense are not expected by `BertForSequenceClassification.forward`,  you can safely ignore this message.\n",
      "***** Running Evaluation *****\n",
      "  Num examples = 2839\n",
      "  Batch size = 8\n",
      "                                                        \n",
      " 11%|█▏        | 6400/56780 [1:37:30<3:51:10,  3.63it/s]"
     ]
    },
    {
     "name": "stdout",
     "output_type": "stream",
     "text": [
      "{'eval_loss': 0.6249030232429504, 'eval_recall': 0.923320994182972, 'eval_precision': 0.7235806050559469, 'eval_runtime': 63.1137, 'eval_samples_per_second': 44.982, 'eval_steps_per_second': 5.625, 'epoch': 2.25}\n"
     ]
    },
    {
     "name": "stderr",
     "output_type": "stream",
     "text": [
      " 11%|█▏        | 6500/56780 [1:37:57<4:42:04,  2.97it/s]  The following columns in the evaluation set  don't have a corresponding argument in `BertForSequenceClassification.forward` and have been ignored: sentense. If sentense are not expected by `BertForSequenceClassification.forward`,  you can safely ignore this message.\n",
      "***** Running Evaluation *****\n",
      "  Num examples = 2839\n",
      "  Batch size = 8\n"
     ]
    },
    {
     "name": "stdout",
     "output_type": "stream",
     "text": [
      "{'loss': 0.593, 'learning_rate': 4.427615357520254e-05, 'epoch': 2.29}\n"
     ]
    },
    {
     "name": "stderr",
     "output_type": "stream",
     "text": [
      "                                                        \n",
      " 11%|█▏        | 6500/56780 [1:39:01<4:42:04,  2.97it/s]"
     ]
    },
    {
     "name": "stdout",
     "output_type": "stream",
     "text": [
      "{'eval_loss': 0.6076042056083679, 'eval_recall': 0.9243786356425172, 'eval_precision': 0.7226126498553122, 'eval_runtime': 63.0996, 'eval_samples_per_second': 44.992, 'eval_steps_per_second': 5.626, 'epoch': 2.29}\n"
     ]
    },
    {
     "name": "stderr",
     "output_type": "stream",
     "text": [
      " 12%|█▏        | 6600/56780 [1:39:28<3:50:49,  3.62it/s]  The following columns in the evaluation set  don't have a corresponding argument in `BertForSequenceClassification.forward` and have been ignored: sentense. If sentense are not expected by `BertForSequenceClassification.forward`,  you can safely ignore this message.\n",
      "***** Running Evaluation *****\n",
      "  Num examples = 2839\n",
      "  Batch size = 8\n",
      "                                                        \n",
      " 12%|█▏        | 6600/56780 [1:40:31<3:50:49,  3.62it/s]"
     ]
    },
    {
     "name": "stdout",
     "output_type": "stream",
     "text": [
      "{'eval_loss': 0.6008034348487854, 'eval_recall': 0.9169751454257007, 'eval_precision': 0.7288776796973518, 'eval_runtime': 63.1679, 'eval_samples_per_second': 44.944, 'eval_steps_per_second': 5.62, 'epoch': 2.32}\n"
     ]
    },
    {
     "name": "stderr",
     "output_type": "stream",
     "text": [
      " 12%|█▏        | 6700/56780 [1:40:59<3:49:42,  3.63it/s]  The following columns in the evaluation set  don't have a corresponding argument in `BertForSequenceClassification.forward` and have been ignored: sentense. If sentense are not expected by `BertForSequenceClassification.forward`,  you can safely ignore this message.\n",
      "***** Running Evaluation *****\n",
      "  Num examples = 2839\n",
      "  Batch size = 8\n",
      "                                                        \n",
      " 12%|█▏        | 6700/56780 [1:42:02<3:49:42,  3.63it/s]"
     ]
    },
    {
     "name": "stdout",
     "output_type": "stream",
     "text": [
      "{'eval_loss': 0.6085318922996521, 'eval_recall': 0.9085140137493389, 'eval_precision': 0.7304421768707483, 'eval_runtime': 63.2163, 'eval_samples_per_second': 44.909, 'eval_steps_per_second': 5.616, 'epoch': 2.36}\n"
     ]
    },
    {
     "name": "stderr",
     "output_type": "stream",
     "text": [
      " 12%|█▏        | 6800/56780 [1:42:30<3:49:27,  3.63it/s]  The following columns in the evaluation set  don't have a corresponding argument in `BertForSequenceClassification.forward` and have been ignored: sentense. If sentense are not expected by `BertForSequenceClassification.forward`,  you can safely ignore this message.\n",
      "***** Running Evaluation *****\n",
      "  Num examples = 2839\n",
      "  Batch size = 8\n",
      "                                                        \n",
      " 12%|█▏        | 6800/56780 [1:43:33<3:49:27,  3.63it/s]"
     ]
    },
    {
     "name": "stdout",
     "output_type": "stream",
     "text": [
      "{'eval_loss': 0.6079124808311462, 'eval_recall': 0.8947646747752512, 'eval_precision': 0.7299396031061259, 'eval_runtime': 63.2007, 'eval_samples_per_second': 44.92, 'eval_steps_per_second': 5.617, 'epoch': 2.4}\n"
     ]
    },
    {
     "name": "stderr",
     "output_type": "stream",
     "text": [
      " 12%|█▏        | 6900/56780 [1:44:00<3:48:17,  3.64it/s]  The following columns in the evaluation set  don't have a corresponding argument in `BertForSequenceClassification.forward` and have been ignored: sentense. If sentense are not expected by `BertForSequenceClassification.forward`,  you can safely ignore this message.\n",
      "***** Running Evaluation *****\n",
      "  Num examples = 2839\n",
      "  Batch size = 8\n",
      "                                                        \n",
      " 12%|█▏        | 6900/56780 [1:45:04<3:48:17,  3.64it/s]"
     ]
    },
    {
     "name": "stdout",
     "output_type": "stream",
     "text": [
      "{'eval_loss': 0.6031978726387024, 'eval_recall': 0.9238498149127445, 'eval_precision': 0.7213047068538398, 'eval_runtime': 63.1299, 'eval_samples_per_second': 44.971, 'eval_steps_per_second': 5.623, 'epoch': 2.43}\n"
     ]
    },
    {
     "name": "stderr",
     "output_type": "stream",
     "text": [
      " 12%|█▏        | 7000/56780 [1:45:31<4:39:23,  2.97it/s]  The following columns in the evaluation set  don't have a corresponding argument in `BertForSequenceClassification.forward` and have been ignored: sentense. If sentense are not expected by `BertForSequenceClassification.forward`,  you can safely ignore this message.\n",
      "***** Running Evaluation *****\n",
      "  Num examples = 2839\n",
      "  Batch size = 8\n"
     ]
    },
    {
     "name": "stdout",
     "output_type": "stream",
     "text": [
      "{'loss': 0.5918, 'learning_rate': 4.383585769637196e-05, 'epoch': 2.47}\n"
     ]
    },
    {
     "name": "stderr",
     "output_type": "stream",
     "text": [
      "                                                        \n",
      " 12%|█▏        | 7000/56780 [1:46:34<4:39:23,  2.97it/s]"
     ]
    },
    {
     "name": "stdout",
     "output_type": "stream",
     "text": [
      "{'eval_loss': 0.611577033996582, 'eval_recall': 0.9312533051295611, 'eval_precision': 0.7190690077582687, 'eval_runtime': 63.0857, 'eval_samples_per_second': 45.002, 'eval_steps_per_second': 5.627, 'epoch': 2.47}\n"
     ]
    },
    {
     "name": "stderr",
     "output_type": "stream",
     "text": [
      " 13%|█▎        | 7100/56780 [1:47:02<3:48:51,  3.62it/s]  The following columns in the evaluation set  don't have a corresponding argument in `BertForSequenceClassification.forward` and have been ignored: sentense. If sentense are not expected by `BertForSequenceClassification.forward`,  you can safely ignore this message.\n",
      "***** Running Evaluation *****\n",
      "  Num examples = 2839\n",
      "  Batch size = 8\n",
      "                                                        \n",
      " 13%|█▎        | 7100/56780 [1:48:05<3:48:51,  3.62it/s]"
     ]
    },
    {
     "name": "stdout",
     "output_type": "stream",
     "text": [
      "{'eval_loss': 0.614301860332489, 'eval_recall': 0.9328397673188789, 'eval_precision': 0.7161997563946407, 'eval_runtime': 63.1482, 'eval_samples_per_second': 44.958, 'eval_steps_per_second': 5.622, 'epoch': 2.5}\n"
     ]
    },
    {
     "name": "stderr",
     "output_type": "stream",
     "text": [
      " 13%|█▎        | 7200/56780 [1:48:33<3:47:40,  3.63it/s]  The following columns in the evaluation set  don't have a corresponding argument in `BertForSequenceClassification.forward` and have been ignored: sentense. If sentense are not expected by `BertForSequenceClassification.forward`,  you can safely ignore this message.\n",
      "***** Running Evaluation *****\n",
      "  Num examples = 2839\n",
      "  Batch size = 8\n",
      "                                                        \n",
      " 13%|█▎        | 7200/56780 [1:49:36<3:47:40,  3.63it/s]"
     ]
    },
    {
     "name": "stdout",
     "output_type": "stream",
     "text": [
      "{'eval_loss': 0.6068922877311707, 'eval_recall': 0.9344262295081968, 'eval_precision': 0.7142279708973323, 'eval_runtime': 63.1364, 'eval_samples_per_second': 44.966, 'eval_steps_per_second': 5.623, 'epoch': 2.54}\n"
     ]
    },
    {
     "name": "stderr",
     "output_type": "stream",
     "text": [
      " 13%|█▎        | 7300/56780 [1:50:03<3:47:20,  3.63it/s]  The following columns in the evaluation set  don't have a corresponding argument in `BertForSequenceClassification.forward` and have been ignored: sentense. If sentense are not expected by `BertForSequenceClassification.forward`,  you can safely ignore this message.\n",
      "***** Running Evaluation *****\n",
      "  Num examples = 2839\n",
      "  Batch size = 8\n",
      "                                                        \n",
      " 13%|█▎        | 7300/56780 [1:51:06<3:47:20,  3.63it/s]"
     ]
    },
    {
     "name": "stdout",
     "output_type": "stream",
     "text": [
      "{'eval_loss': 0.6077151298522949, 'eval_recall': 0.9344262295081968, 'eval_precision': 0.7150951031970862, 'eval_runtime': 63.0529, 'eval_samples_per_second': 45.026, 'eval_steps_per_second': 5.63, 'epoch': 2.57}\n"
     ]
    },
    {
     "name": "stderr",
     "output_type": "stream",
     "text": [
      " 13%|█▎        | 7400/56780 [1:51:34<3:46:34,  3.63it/s]  The following columns in the evaluation set  don't have a corresponding argument in `BertForSequenceClassification.forward` and have been ignored: sentense. If sentense are not expected by `BertForSequenceClassification.forward`,  you can safely ignore this message.\n",
      "***** Running Evaluation *****\n",
      "  Num examples = 2839\n",
      "  Batch size = 8\n",
      "                                                        \n",
      " 13%|█▎        | 7400/56780 [1:52:37<3:46:34,  3.63it/s]"
     ]
    },
    {
     "name": "stdout",
     "output_type": "stream",
     "text": [
      "{'eval_loss': 0.6033673882484436, 'eval_recall': 0.9344262295081968, 'eval_precision': 0.7150951031970862, 'eval_runtime': 63.0275, 'eval_samples_per_second': 45.044, 'eval_steps_per_second': 5.632, 'epoch': 2.61}\n"
     ]
    },
    {
     "name": "stderr",
     "output_type": "stream",
     "text": [
      " 13%|█▎        | 7500/56780 [1:53:05<4:38:22,  2.95it/s]  The following columns in the evaluation set  don't have a corresponding argument in `BertForSequenceClassification.forward` and have been ignored: sentense. If sentense are not expected by `BertForSequenceClassification.forward`,  you can safely ignore this message.\n",
      "***** Running Evaluation *****\n",
      "  Num examples = 2839\n",
      "  Batch size = 8\n"
     ]
    },
    {
     "name": "stdout",
     "output_type": "stream",
     "text": [
      "{'loss': 0.6019, 'learning_rate': 4.339556181754139e-05, 'epoch': 2.64}\n"
     ]
    },
    {
     "name": "stderr",
     "output_type": "stream",
     "text": [
      "                                                        \n",
      " 13%|█▎        | 7500/56780 [1:54:08<4:38:22,  2.95it/s]"
     ]
    },
    {
     "name": "stdout",
     "output_type": "stream",
     "text": [
      "{'eval_loss': 0.6245843768119812, 'eval_recall': 0.9338974087784241, 'eval_precision': 0.7152693398136898, 'eval_runtime': 63.0653, 'eval_samples_per_second': 45.017, 'eval_steps_per_second': 5.629, 'epoch': 2.64}\n"
     ]
    },
    {
     "name": "stderr",
     "output_type": "stream",
     "text": [
      " 13%|█▎        | 7600/56780 [1:54:35<3:46:17,  3.62it/s]  The following columns in the evaluation set  don't have a corresponding argument in `BertForSequenceClassification.forward` and have been ignored: sentense. If sentense are not expected by `BertForSequenceClassification.forward`,  you can safely ignore this message.\n",
      "***** Running Evaluation *****\n",
      "  Num examples = 2839\n",
      "  Batch size = 8\n",
      "                                                        \n",
      " 13%|█▎        | 7600/56780 [1:55:39<3:46:17,  3.62it/s]"
     ]
    },
    {
     "name": "stdout",
     "output_type": "stream",
     "text": [
      "{'eval_loss': 0.6041334867477417, 'eval_recall': 0.9338974087784241, 'eval_precision': 0.7152693398136898, 'eval_runtime': 63.0716, 'eval_samples_per_second': 45.012, 'eval_steps_per_second': 5.629, 'epoch': 2.68}\n"
     ]
    },
    {
     "name": "stderr",
     "output_type": "stream",
     "text": [
      " 14%|█▎        | 7700/56780 [1:56:06<3:44:57,  3.64it/s]  The following columns in the evaluation set  don't have a corresponding argument in `BertForSequenceClassification.forward` and have been ignored: sentense. If sentense are not expected by `BertForSequenceClassification.forward`,  you can safely ignore this message.\n",
      "***** Running Evaluation *****\n",
      "  Num examples = 2839\n",
      "  Batch size = 8\n",
      "                                                        \n",
      " 14%|█▎        | 7700/56780 [1:57:09<3:44:57,  3.64it/s]"
     ]
    },
    {
     "name": "stdout",
     "output_type": "stream",
     "text": [
      "{'eval_loss': 0.6110106110572815, 'eval_recall': 0.9153886832363829, 'eval_precision': 0.7218515429524603, 'eval_runtime': 63.1183, 'eval_samples_per_second': 44.979, 'eval_steps_per_second': 5.624, 'epoch': 2.71}\n"
     ]
    },
    {
     "name": "stderr",
     "output_type": "stream",
     "text": [
      " 14%|█▎        | 7800/56780 [1:57:37<3:44:51,  3.63it/s]  The following columns in the evaluation set  don't have a corresponding argument in `BertForSequenceClassification.forward` and have been ignored: sentense. If sentense are not expected by `BertForSequenceClassification.forward`,  you can safely ignore this message.\n",
      "***** Running Evaluation *****\n",
      "  Num examples = 2839\n",
      "  Batch size = 8\n",
      "                                                        \n",
      " 14%|█▎        | 7800/56780 [1:58:40<3:44:51,  3.63it/s]"
     ]
    },
    {
     "name": "stdout",
     "output_type": "stream",
     "text": [
      "{'eval_loss': 0.6021723747253418, 'eval_recall': 0.9058699101004759, 'eval_precision': 0.7255400254129606, 'eval_runtime': 63.1076, 'eval_samples_per_second': 44.987, 'eval_steps_per_second': 5.625, 'epoch': 2.75}\n"
     ]
    },
    {
     "name": "stderr",
     "output_type": "stream",
     "text": [
      " 14%|█▍        | 7900/56780 [1:59:07<3:44:11,  3.63it/s]  The following columns in the evaluation set  don't have a corresponding argument in `BertForSequenceClassification.forward` and have been ignored: sentense. If sentense are not expected by `BertForSequenceClassification.forward`,  you can safely ignore this message.\n",
      "***** Running Evaluation *****\n",
      "  Num examples = 2839\n",
      "  Batch size = 8\n",
      "                                                        \n",
      " 14%|█▍        | 7900/56780 [2:00:11<3:44:11,  3.63it/s]"
     ]
    },
    {
     "name": "stdout",
     "output_type": "stream",
     "text": [
      "{'eval_loss': 0.6123896837234497, 'eval_recall': 0.9053410893707033, 'eval_precision': 0.7254237288135593, 'eval_runtime': 63.0705, 'eval_samples_per_second': 45.013, 'eval_steps_per_second': 5.629, 'epoch': 2.78}\n"
     ]
    },
    {
     "name": "stderr",
     "output_type": "stream",
     "text": [
      " 14%|█▍        | 8000/56780 [2:00:38<4:34:24,  2.96it/s]  The following columns in the evaluation set  don't have a corresponding argument in `BertForSequenceClassification.forward` and have been ignored: sentense. If sentense are not expected by `BertForSequenceClassification.forward`,  you can safely ignore this message.\n",
      "***** Running Evaluation *****\n",
      "  Num examples = 2839\n",
      "  Batch size = 8\n"
     ]
    },
    {
     "name": "stdout",
     "output_type": "stream",
     "text": [
      "{'loss': 0.6132, 'learning_rate': 4.2955265938710816e-05, 'epoch': 2.82}\n"
     ]
    },
    {
     "name": "stderr",
     "output_type": "stream",
     "text": [
      "                                                        \n",
      " 14%|█▍        | 8000/56780 [2:01:41<4:34:24,  2.96it/s]"
     ]
    },
    {
     "name": "stdout",
     "output_type": "stream",
     "text": [
      "{'eval_loss': 0.6066865921020508, 'eval_recall': 0.9048122686409307, 'eval_precision': 0.7256149279050043, 'eval_runtime': 63.0691, 'eval_samples_per_second': 45.014, 'eval_steps_per_second': 5.629, 'epoch': 2.82}\n"
     ]
    },
    {
     "name": "stderr",
     "output_type": "stream",
     "text": [
      " 14%|█▍        | 8100/56780 [2:02:09<3:43:29,  3.63it/s]  The following columns in the evaluation set  don't have a corresponding argument in `BertForSequenceClassification.forward` and have been ignored: sentense. If sentense are not expected by `BertForSequenceClassification.forward`,  you can safely ignore this message.\n",
      "***** Running Evaluation *****\n",
      "  Num examples = 2839\n",
      "  Batch size = 8\n",
      "                                                        \n",
      " 14%|█▍        | 8100/56780 [2:03:12<3:43:29,  3.63it/s]"
     ]
    },
    {
     "name": "stdout",
     "output_type": "stream",
     "text": [
      "{'eval_loss': 0.6034998297691345, 'eval_recall': 0.8889476467477525, 'eval_precision': 0.7299174989144595, 'eval_runtime': 63.2564, 'eval_samples_per_second': 44.881, 'eval_steps_per_second': 5.612, 'epoch': 2.85}\n"
     ]
    },
    {
     "name": "stderr",
     "output_type": "stream",
     "text": [
      " 14%|█▍        | 8200/56780 [2:03:40<3:43:14,  3.63it/s]  The following columns in the evaluation set  don't have a corresponding argument in `BertForSequenceClassification.forward` and have been ignored: sentense. If sentense are not expected by `BertForSequenceClassification.forward`,  you can safely ignore this message.\n",
      "***** Running Evaluation *****\n",
      "  Num examples = 2839\n",
      "  Batch size = 8\n",
      "                                                        \n",
      " 14%|█▍        | 8200/56780 [2:04:43<3:43:14,  3.63it/s]"
     ]
    },
    {
     "name": "stdout",
     "output_type": "stream",
     "text": [
      "{'eval_loss': 0.6322125792503357, 'eval_recall': 0.733474352194606, 'eval_precision': 0.7761611639619473, 'eval_runtime': 63.3218, 'eval_samples_per_second': 44.834, 'eval_steps_per_second': 5.606, 'epoch': 2.89}\n"
     ]
    },
    {
     "name": "stderr",
     "output_type": "stream",
     "text": [
      " 15%|█▍        | 8300/56780 [2:05:11<3:43:56,  3.61it/s]  The following columns in the evaluation set  don't have a corresponding argument in `BertForSequenceClassification.forward` and have been ignored: sentense. If sentense are not expected by `BertForSequenceClassification.forward`,  you can safely ignore this message.\n",
      "***** Running Evaluation *****\n",
      "  Num examples = 2839\n",
      "  Batch size = 8\n",
      "                                                        \n",
      " 15%|█▍        | 8300/56780 [2:06:14<3:43:56,  3.61it/s]"
     ]
    },
    {
     "name": "stdout",
     "output_type": "stream",
     "text": [
      "{'eval_loss': 0.6119150519371033, 'eval_recall': 0.9291380222104707, 'eval_precision': 0.7145180967873119, 'eval_runtime': 63.2427, 'eval_samples_per_second': 44.891, 'eval_steps_per_second': 5.613, 'epoch': 2.92}\n"
     ]
    },
    {
     "name": "stderr",
     "output_type": "stream",
     "text": [
      " 15%|█▍        | 8400/56780 [2:06:42<3:42:04,  3.63it/s]  The following columns in the evaluation set  don't have a corresponding argument in `BertForSequenceClassification.forward` and have been ignored: sentense. If sentense are not expected by `BertForSequenceClassification.forward`,  you can safely ignore this message.\n",
      "***** Running Evaluation *****\n",
      "  Num examples = 2839\n",
      "  Batch size = 8\n",
      "                                                        \n",
      " 15%|█▍        | 8400/56780 [2:07:45<3:42:04,  3.63it/s]"
     ]
    },
    {
     "name": "stdout",
     "output_type": "stream",
     "text": [
      "{'eval_loss': 0.6092108488082886, 'eval_recall': 0.9328397673188789, 'eval_precision': 0.7124394184168013, 'eval_runtime': 63.1807, 'eval_samples_per_second': 44.935, 'eval_steps_per_second': 5.619, 'epoch': 2.96}\n"
     ]
    },
    {
     "name": "stderr",
     "output_type": "stream",
     "text": [
      " 15%|█▍        | 8500/56780 [2:08:13<4:38:12,  2.89it/s]  The following columns in the evaluation set  don't have a corresponding argument in `BertForSequenceClassification.forward` and have been ignored: sentense. If sentense are not expected by `BertForSequenceClassification.forward`,  you can safely ignore this message.\n",
      "***** Running Evaluation *****\n",
      "  Num examples = 2839\n",
      "  Batch size = 8\n"
     ]
    },
    {
     "name": "stdout",
     "output_type": "stream",
     "text": [
      "{'loss': 0.593, 'learning_rate': 4.251497005988024e-05, 'epoch': 2.99}\n"
     ]
    },
    {
     "name": "stderr",
     "output_type": "stream",
     "text": [
      "                                                        \n",
      " 15%|█▍        | 8500/56780 [2:09:16<4:38:12,  2.89it/s]"
     ]
    },
    {
     "name": "stdout",
     "output_type": "stream",
     "text": [
      "{'eval_loss': 0.6176619529724121, 'eval_recall': 0.9613960867265997, 'eval_precision': 0.6938931297709924, 'eval_runtime': 63.0495, 'eval_samples_per_second': 45.028, 'eval_steps_per_second': 5.63, 'epoch': 2.99}\n"
     ]
    },
    {
     "name": "stderr",
     "output_type": "stream",
     "text": [
      " 15%|█▌        | 8600/56780 [2:09:43<3:42:17,  3.61it/s]  The following columns in the evaluation set  don't have a corresponding argument in `BertForSequenceClassification.forward` and have been ignored: sentense. If sentense are not expected by `BertForSequenceClassification.forward`,  you can safely ignore this message.\n",
      "***** Running Evaluation *****\n",
      "  Num examples = 2839\n",
      "  Batch size = 8\n",
      "                                                        \n",
      " 15%|█▌        | 8600/56780 [2:10:46<3:42:17,  3.61it/s]"
     ]
    },
    {
     "name": "stdout",
     "output_type": "stream",
     "text": [
      "{'eval_loss': 0.6294620633125305, 'eval_recall': 0.9635113696456901, 'eval_precision': 0.6925123527175979, 'eval_runtime': 63.0517, 'eval_samples_per_second': 45.027, 'eval_steps_per_second': 5.63, 'epoch': 3.03}\n"
     ]
    },
    {
     "name": "stderr",
     "output_type": "stream",
     "text": [
      " 15%|█▌        | 8700/56780 [2:11:14<3:41:19,  3.62it/s]  The following columns in the evaluation set  don't have a corresponding argument in `BertForSequenceClassification.forward` and have been ignored: sentense. If sentense are not expected by `BertForSequenceClassification.forward`,  you can safely ignore this message.\n",
      "***** Running Evaluation *****\n",
      "  Num examples = 2839\n",
      "  Batch size = 8\n",
      "                                                        \n",
      " 15%|█▌        | 8700/56780 [2:12:17<3:41:19,  3.62it/s]"
     ]
    },
    {
     "name": "stdout",
     "output_type": "stream",
     "text": [
      "{'eval_loss': 0.6370015740394592, 'eval_recall': 0.9820200951877314, 'eval_precision': 0.6797218155197657, 'eval_runtime': 63.0223, 'eval_samples_per_second': 45.048, 'eval_steps_per_second': 5.633, 'epoch': 3.06}\n"
     ]
    },
    {
     "name": "stderr",
     "output_type": "stream",
     "text": [
      " 15%|█▌        | 8800/56780 [2:12:44<3:42:03,  3.60it/s]  The following columns in the evaluation set  don't have a corresponding argument in `BertForSequenceClassification.forward` and have been ignored: sentense. If sentense are not expected by `BertForSequenceClassification.forward`,  you can safely ignore this message.\n",
      "***** Running Evaluation *****\n",
      "  Num examples = 2839\n",
      "  Batch size = 8\n",
      "                                                        \n",
      " 15%|█▌        | 8800/56780 [2:13:47<3:42:03,  3.60it/s]"
     ]
    },
    {
     "name": "stdout",
     "output_type": "stream",
     "text": [
      "{'eval_loss': 0.6278601288795471, 'eval_recall': 0.9820200951877314, 'eval_precision': 0.6802197802197802, 'eval_runtime': 63.0181, 'eval_samples_per_second': 45.051, 'eval_steps_per_second': 5.633, 'epoch': 3.1}\n"
     ]
    },
    {
     "name": "stderr",
     "output_type": "stream",
     "text": [
      " 16%|█▌        | 8900/56780 [2:14:15<3:39:43,  3.63it/s]  The following columns in the evaluation set  don't have a corresponding argument in `BertForSequenceClassification.forward` and have been ignored: sentense. If sentense are not expected by `BertForSequenceClassification.forward`,  you can safely ignore this message.\n",
      "***** Running Evaluation *****\n",
      "  Num examples = 2839\n",
      "  Batch size = 8\n",
      "                                                        \n",
      " 16%|█▌        | 8900/56780 [2:15:18<3:39:43,  3.63it/s]"
     ]
    },
    {
     "name": "stdout",
     "output_type": "stream",
     "text": [
      "{'eval_loss': 0.6282579302787781, 'eval_recall': 0.9820200951877314, 'eval_precision': 0.6802197802197802, 'eval_runtime': 63.0056, 'eval_samples_per_second': 45.059, 'eval_steps_per_second': 5.634, 'epoch': 3.13}\n"
     ]
    },
    {
     "name": "stderr",
     "output_type": "stream",
     "text": [
      " 16%|█▌        | 9000/56780 [2:15:46<4:28:32,  2.97it/s]  The following columns in the evaluation set  don't have a corresponding argument in `BertForSequenceClassification.forward` and have been ignored: sentense. If sentense are not expected by `BertForSequenceClassification.forward`,  you can safely ignore this message.\n",
      "***** Running Evaluation *****\n",
      "  Num examples = 2839\n",
      "  Batch size = 8\n"
     ]
    },
    {
     "name": "stdout",
     "output_type": "stream",
     "text": [
      "{'loss': 0.634, 'learning_rate': 4.207467418104967e-05, 'epoch': 3.17}\n"
     ]
    },
    {
     "name": "stderr",
     "output_type": "stream",
     "text": [
      "                                                        \n",
      " 16%|█▌        | 9000/56780 [2:16:49<4:28:32,  2.97it/s]"
     ]
    },
    {
     "name": "stdout",
     "output_type": "stream",
     "text": [
      "{'eval_loss': 0.6280168294906616, 'eval_recall': 0.9820200951877314, 'eval_precision': 0.6802197802197802, 'eval_runtime': 62.9904, 'eval_samples_per_second': 45.07, 'eval_steps_per_second': 5.636, 'epoch': 3.17}\n"
     ]
    },
    {
     "name": "stderr",
     "output_type": "stream",
     "text": [
      " 16%|█▌        | 9100/56780 [2:17:16<3:38:17,  3.64it/s]  The following columns in the evaluation set  don't have a corresponding argument in `BertForSequenceClassification.forward` and have been ignored: sentense. If sentense are not expected by `BertForSequenceClassification.forward`,  you can safely ignore this message.\n",
      "***** Running Evaluation *****\n",
      "  Num examples = 2839\n",
      "  Batch size = 8\n",
      "                                                        \n",
      " 16%|█▌        | 9100/56780 [2:18:19<3:38:17,  3.64it/s]"
     ]
    },
    {
     "name": "stdout",
     "output_type": "stream",
     "text": [
      "{'eval_loss': 0.6270173788070679, 'eval_recall': 0.9820200951877314, 'eval_precision': 0.6802197802197802, 'eval_runtime': 62.9747, 'eval_samples_per_second': 45.082, 'eval_steps_per_second': 5.637, 'epoch': 3.21}\n"
     ]
    },
    {
     "name": "stderr",
     "output_type": "stream",
     "text": [
      " 16%|█▌        | 9200/56780 [2:18:47<3:37:50,  3.64it/s]  The following columns in the evaluation set  don't have a corresponding argument in `BertForSequenceClassification.forward` and have been ignored: sentense. If sentense are not expected by `BertForSequenceClassification.forward`,  you can safely ignore this message.\n",
      "***** Running Evaluation *****\n",
      "  Num examples = 2839\n",
      "  Batch size = 8\n",
      "                                                        \n",
      " 16%|█▌        | 9200/56780 [2:19:50<3:37:50,  3.64it/s]"
     ]
    },
    {
     "name": "stdout",
     "output_type": "stream",
     "text": [
      "{'eval_loss': 0.629596471786499, 'eval_recall': 0.9814912744579588, 'eval_precision': 0.6803519061583577, 'eval_runtime': 62.9965, 'eval_samples_per_second': 45.066, 'eval_steps_per_second': 5.635, 'epoch': 3.24}\n"
     ]
    },
    {
     "name": "stderr",
     "output_type": "stream",
     "text": [
      " 16%|█▋        | 9300/56780 [2:20:17<3:38:30,  3.62it/s]  The following columns in the evaluation set  don't have a corresponding argument in `BertForSequenceClassification.forward` and have been ignored: sentense. If sentense are not expected by `BertForSequenceClassification.forward`,  you can safely ignore this message.\n",
      "***** Running Evaluation *****\n",
      "  Num examples = 2839\n",
      "  Batch size = 8\n",
      "                                                        \n",
      " 16%|█▋        | 9300/56780 [2:21:20<3:38:30,  3.62it/s]"
     ]
    },
    {
     "name": "stdout",
     "output_type": "stream",
     "text": [
      "{'eval_loss': 0.6259849071502686, 'eval_recall': 0.9809624537281861, 'eval_precision': 0.6824871228844739, 'eval_runtime': 63.1603, 'eval_samples_per_second': 44.949, 'eval_steps_per_second': 5.621, 'epoch': 3.28}\n"
     ]
    },
    {
     "name": "stderr",
     "output_type": "stream",
     "text": [
      " 17%|█▋        | 9400/56780 [2:21:48<3:37:33,  3.63it/s]  The following columns in the evaluation set  don't have a corresponding argument in `BertForSequenceClassification.forward` and have been ignored: sentense. If sentense are not expected by `BertForSequenceClassification.forward`,  you can safely ignore this message.\n",
      "***** Running Evaluation *****\n",
      "  Num examples = 2839\n",
      "  Batch size = 8\n",
      "                                                        \n",
      " 17%|█▋        | 9400/56780 [2:22:51<3:37:33,  3.63it/s]"
     ]
    },
    {
     "name": "stdout",
     "output_type": "stream",
     "text": [
      "{'eval_loss': 0.6243188381195068, 'eval_recall': 0.9809624537281861, 'eval_precision': 0.6827383143172617, 'eval_runtime': 63.1906, 'eval_samples_per_second': 44.928, 'eval_steps_per_second': 5.618, 'epoch': 3.31}\n"
     ]
    },
    {
     "name": "stderr",
     "output_type": "stream",
     "text": [
      " 17%|█▋        | 9500/56780 [2:23:19<4:28:03,  2.94it/s]  The following columns in the evaluation set  don't have a corresponding argument in `BertForSequenceClassification.forward` and have been ignored: sentense. If sentense are not expected by `BertForSequenceClassification.forward`,  you can safely ignore this message.\n",
      "***** Running Evaluation *****\n",
      "  Num examples = 2839\n",
      "  Batch size = 8\n"
     ]
    },
    {
     "name": "stdout",
     "output_type": "stream",
     "text": [
      "{'loss': 0.6358, 'learning_rate': 4.1634378302219095e-05, 'epoch': 3.35}\n"
     ]
    },
    {
     "name": "stderr",
     "output_type": "stream",
     "text": [
      "                                                        \n",
      " 17%|█▋        | 9500/56780 [2:24:22<4:28:03,  2.94it/s]"
     ]
    },
    {
     "name": "stdout",
     "output_type": "stream",
     "text": [
      "{'eval_loss': 0.6254088282585144, 'eval_recall': 0.9576943416181914, 'eval_precision': 0.6965384615384616, 'eval_runtime': 63.1366, 'eval_samples_per_second': 44.966, 'eval_steps_per_second': 5.623, 'epoch': 3.35}\n"
     ]
    },
    {
     "name": "stderr",
     "output_type": "stream",
     "text": [
      " 17%|█▋        | 9600/56780 [2:24:50<3:36:11,  3.64it/s]  The following columns in the evaluation set  don't have a corresponding argument in `BertForSequenceClassification.forward` and have been ignored: sentense. If sentense are not expected by `BertForSequenceClassification.forward`,  you can safely ignore this message.\n",
      "***** Running Evaluation *****\n",
      "  Num examples = 2839\n",
      "  Batch size = 8\n",
      "                                                        \n",
      " 17%|█▋        | 9600/56780 [2:25:53<3:36:11,  3.64it/s]"
     ]
    },
    {
     "name": "stdout",
     "output_type": "stream",
     "text": [
      "{'eval_loss': 0.6233921647071838, 'eval_recall': 0.9561078794288737, 'eval_precision': 0.697261858850752, 'eval_runtime': 63.1982, 'eval_samples_per_second': 44.922, 'eval_steps_per_second': 5.617, 'epoch': 3.38}\n"
     ]
    },
    {
     "name": "stderr",
     "output_type": "stream",
     "text": [
      " 17%|█▋        | 9700/56780 [2:26:21<3:37:02,  3.62it/s]  The following columns in the evaluation set  don't have a corresponding argument in `BertForSequenceClassification.forward` and have been ignored: sentense. If sentense are not expected by `BertForSequenceClassification.forward`,  you can safely ignore this message.\n",
      "***** Running Evaluation *****\n",
      "  Num examples = 2839\n",
      "  Batch size = 8\n",
      "                                                        \n",
      " 17%|█▋        | 9700/56780 [2:27:24<3:37:02,  3.62it/s]"
     ]
    },
    {
     "name": "stdout",
     "output_type": "stream",
     "text": [
      "{'eval_loss': 0.6169482469558716, 'eval_recall': 0.9561078794288737, 'eval_precision': 0.6975308641975309, 'eval_runtime': 63.0655, 'eval_samples_per_second': 45.017, 'eval_steps_per_second': 5.629, 'epoch': 3.42}\n"
     ]
    },
    {
     "name": "stderr",
     "output_type": "stream",
     "text": [
      " 17%|█▋        | 9800/56780 [2:27:51<3:35:33,  3.63it/s]  The following columns in the evaluation set  don't have a corresponding argument in `BertForSequenceClassification.forward` and have been ignored: sentense. If sentense are not expected by `BertForSequenceClassification.forward`,  you can safely ignore this message.\n",
      "***** Running Evaluation *****\n",
      "  Num examples = 2839\n",
      "  Batch size = 8\n",
      "                                                        \n",
      " 17%|█▋        | 9800/56780 [2:28:54<3:35:33,  3.63it/s]"
     ]
    },
    {
     "name": "stdout",
     "output_type": "stream",
     "text": [
      "{'eval_loss': 0.6208638548851013, 'eval_recall': 0.9571655208884188, 'eval_precision': 0.697495183044316, 'eval_runtime': 63.0408, 'eval_samples_per_second': 45.034, 'eval_steps_per_second': 5.631, 'epoch': 3.45}\n"
     ]
    },
    {
     "name": "stderr",
     "output_type": "stream",
     "text": [
      " 17%|█▋        | 9900/56780 [2:29:22<3:35:25,  3.63it/s]  The following columns in the evaluation set  don't have a corresponding argument in `BertForSequenceClassification.forward` and have been ignored: sentense. If sentense are not expected by `BertForSequenceClassification.forward`,  you can safely ignore this message.\n",
      "***** Running Evaluation *****\n",
      "  Num examples = 2839\n",
      "  Batch size = 8\n",
      "                                                        \n",
      " 17%|█▋        | 9900/56780 [2:30:25<3:35:25,  3.63it/s]"
     ]
    },
    {
     "name": "stdout",
     "output_type": "stream",
     "text": [
      "{'eval_loss': 0.6247556209564209, 'eval_recall': 0.9883659439450027, 'eval_precision': 0.6808743169398908, 'eval_runtime': 63.1089, 'eval_samples_per_second': 44.986, 'eval_steps_per_second': 5.625, 'epoch': 3.49}\n"
     ]
    },
    {
     "name": "stderr",
     "output_type": "stream",
     "text": [
      " 18%|█▊        | 10000/56780 [2:30:53<4:24:49,  2.94it/s] The following columns in the evaluation set  don't have a corresponding argument in `BertForSequenceClassification.forward` and have been ignored: sentense. If sentense are not expected by `BertForSequenceClassification.forward`,  you can safely ignore this message.\n",
      "***** Running Evaluation *****\n",
      "  Num examples = 2839\n",
      "  Batch size = 8\n"
     ]
    },
    {
     "name": "stdout",
     "output_type": "stream",
     "text": [
      "{'loss': 0.6214, 'learning_rate': 4.119408242338852e-05, 'epoch': 3.52}\n"
     ]
    },
    {
     "name": "stderr",
     "output_type": "stream",
     "text": [
      "                                                         \n",
      " 18%|█▊        | 10000/56780 [2:31:56<4:24:49,  2.94it/s]Saving model checkpoint to bert-classifier-trainer\\checkpoint-10000\n",
      "Configuration saved in bert-classifier-trainer\\checkpoint-10000\\config.json\n"
     ]
    },
    {
     "name": "stdout",
     "output_type": "stream",
     "text": [
      "{'eval_loss': 0.6272595524787903, 'eval_recall': 0.9867794817556849, 'eval_precision': 0.6815193571950329, 'eval_runtime': 63.1283, 'eval_samples_per_second': 44.972, 'eval_steps_per_second': 5.623, 'epoch': 3.52}\n"
     ]
    },
    {
     "name": "stderr",
     "output_type": "stream",
     "text": [
      "Model weights saved in bert-classifier-trainer\\checkpoint-10000\\pytorch_model.bin\n",
      " 18%|█▊        | 10100/56780 [2:32:30<3:34:07,  3.63it/s]  The following columns in the evaluation set  don't have a corresponding argument in `BertForSequenceClassification.forward` and have been ignored: sentense. If sentense are not expected by `BertForSequenceClassification.forward`,  you can safely ignore this message.\n",
      "***** Running Evaluation *****\n",
      "  Num examples = 2839\n",
      "  Batch size = 8\n",
      "                                                         \n",
      " 18%|█▊        | 10100/56780 [2:33:33<3:34:07,  3.63it/s]"
     ]
    },
    {
     "name": "stdout",
     "output_type": "stream",
     "text": [
      "{'eval_loss': 0.6291751861572266, 'eval_recall': 0.9873083024854574, 'eval_precision': 0.6806416332482683, 'eval_runtime': 62.9844, 'eval_samples_per_second': 45.075, 'eval_steps_per_second': 5.636, 'epoch': 3.56}\n"
     ]
    },
    {
     "name": "stderr",
     "output_type": "stream",
     "text": [
      " 18%|█▊        | 10200/56780 [2:34:00<3:33:46,  3.63it/s]  The following columns in the evaluation set  don't have a corresponding argument in `BertForSequenceClassification.forward` and have been ignored: sentense. If sentense are not expected by `BertForSequenceClassification.forward`,  you can safely ignore this message.\n",
      "***** Running Evaluation *****\n",
      "  Num examples = 2839\n",
      "  Batch size = 8\n",
      "                                                         \n",
      " 18%|█▊        | 10200/56780 [2:35:03<3:33:46,  3.63it/s]"
     ]
    },
    {
     "name": "stdout",
     "output_type": "stream",
     "text": [
      "{'eval_loss': 0.6386358141899109, 'eval_recall': 0.9936541512427287, 'eval_precision': 0.6717912048623526, 'eval_runtime': 62.8242, 'eval_samples_per_second': 45.19, 'eval_steps_per_second': 5.651, 'epoch': 3.59}\n"
     ]
    },
    {
     "name": "stderr",
     "output_type": "stream",
     "text": [
      " 18%|█▊        | 10300/56780 [2:35:31<3:33:59,  3.62it/s]  The following columns in the evaluation set  don't have a corresponding argument in `BertForSequenceClassification.forward` and have been ignored: sentense. If sentense are not expected by `BertForSequenceClassification.forward`,  you can safely ignore this message.\n",
      "***** Running Evaluation *****\n",
      "  Num examples = 2839\n",
      "  Batch size = 8\n",
      "                                                         \n",
      " 18%|█▊        | 10300/56780 [2:36:34<3:33:59,  3.62it/s]"
     ]
    },
    {
     "name": "stdout",
     "output_type": "stream",
     "text": [
      "{'eval_loss': 0.6533493399620056, 'eval_recall': 0.9936541512427287, 'eval_precision': 0.6693979337370859, 'eval_runtime': 62.8673, 'eval_samples_per_second': 45.159, 'eval_steps_per_second': 5.647, 'epoch': 3.63}\n"
     ]
    },
    {
     "name": "stderr",
     "output_type": "stream",
     "text": [
      " 18%|█▊        | 10400/56780 [2:37:01<3:33:14,  3.63it/s]  The following columns in the evaluation set  don't have a corresponding argument in `BertForSequenceClassification.forward` and have been ignored: sentense. If sentense are not expected by `BertForSequenceClassification.forward`,  you can safely ignore this message.\n",
      "***** Running Evaluation *****\n",
      "  Num examples = 2839\n",
      "  Batch size = 8\n",
      "                                                         \n",
      " 18%|█▊        | 10400/56780 [2:38:04<3:33:14,  3.63it/s]"
     ]
    },
    {
     "name": "stdout",
     "output_type": "stream",
     "text": [
      "{'eval_loss': 0.6411307454109192, 'eval_recall': 0.9936541512427287, 'eval_precision': 0.6693979337370859, 'eval_runtime': 62.8798, 'eval_samples_per_second': 45.15, 'eval_steps_per_second': 5.646, 'epoch': 3.66}\n"
     ]
    },
    {
     "name": "stderr",
     "output_type": "stream",
     "text": [
      " 18%|█▊        | 10500/56780 [2:38:32<4:22:01,  2.94it/s]  The following columns in the evaluation set  don't have a corresponding argument in `BertForSequenceClassification.forward` and have been ignored: sentense. If sentense are not expected by `BertForSequenceClassification.forward`,  you can safely ignore this message.\n",
      "***** Running Evaluation *****\n",
      "  Num examples = 2839\n",
      "  Batch size = 8\n"
     ]
    },
    {
     "name": "stdout",
     "output_type": "stream",
     "text": [
      "{'loss': 0.6271, 'learning_rate': 4.075378654455794e-05, 'epoch': 3.7}\n"
     ]
    },
    {
     "name": "stderr",
     "output_type": "stream",
     "text": [
      "                                                         \n",
      " 18%|█▊        | 10500/56780 [2:39:35<4:22:01,  2.94it/s]"
     ]
    },
    {
     "name": "stdout",
     "output_type": "stream",
     "text": [
      "{'eval_loss': 0.6570956110954285, 'eval_recall': 0.9936541512427287, 'eval_precision': 0.6693979337370859, 'eval_runtime': 62.9035, 'eval_samples_per_second': 45.133, 'eval_steps_per_second': 5.644, 'epoch': 3.7}\n"
     ]
    },
    {
     "name": "stderr",
     "output_type": "stream",
     "text": [
      " 19%|█▊        | 10600/56780 [2:40:02<3:32:26,  3.62it/s]  The following columns in the evaluation set  don't have a corresponding argument in `BertForSequenceClassification.forward` and have been ignored: sentense. If sentense are not expected by `BertForSequenceClassification.forward`,  you can safely ignore this message.\n",
      "***** Running Evaluation *****\n",
      "  Num examples = 2839\n",
      "  Batch size = 8\n",
      "                                                         \n",
      " 19%|█▊        | 10600/56780 [2:41:05<3:32:26,  3.62it/s]"
     ]
    },
    {
     "name": "stdout",
     "output_type": "stream",
     "text": [
      "{'eval_loss': 0.6408771872520447, 'eval_recall': 0.9936541512427287, 'eval_precision': 0.6693979337370859, 'eval_runtime': 63.0484, 'eval_samples_per_second': 45.029, 'eval_steps_per_second': 5.631, 'epoch': 3.73}\n"
     ]
    },
    {
     "name": "stderr",
     "output_type": "stream",
     "text": [
      " 19%|█▉        | 10700/56780 [2:41:33<3:31:57,  3.62it/s]  The following columns in the evaluation set  don't have a corresponding argument in `BertForSequenceClassification.forward` and have been ignored: sentense. If sentense are not expected by `BertForSequenceClassification.forward`,  you can safely ignore this message.\n",
      "***** Running Evaluation *****\n",
      "  Num examples = 2839\n",
      "  Batch size = 8\n",
      "                                                         \n",
      " 19%|█▉        | 10700/56780 [2:42:36<3:31:57,  3.62it/s]"
     ]
    },
    {
     "name": "stdout",
     "output_type": "stream",
     "text": [
      "{'eval_loss': 0.6469817161560059, 'eval_recall': 0.9936541512427287, 'eval_precision': 0.6693979337370859, 'eval_runtime': 63.1845, 'eval_samples_per_second': 44.932, 'eval_steps_per_second': 5.618, 'epoch': 3.77}\n"
     ]
    },
    {
     "name": "stderr",
     "output_type": "stream",
     "text": [
      " 19%|█▉        | 10800/56780 [2:43:04<3:32:29,  3.61it/s]  The following columns in the evaluation set  don't have a corresponding argument in `BertForSequenceClassification.forward` and have been ignored: sentense. If sentense are not expected by `BertForSequenceClassification.forward`,  you can safely ignore this message.\n",
      "***** Running Evaluation *****\n",
      "  Num examples = 2839\n",
      "  Batch size = 8\n",
      "                                                         \n",
      " 19%|█▉        | 10800/56780 [2:44:07<3:32:29,  3.61it/s]"
     ]
    },
    {
     "name": "stdout",
     "output_type": "stream",
     "text": [
      "{'eval_loss': 0.6366258263587952, 'eval_recall': 0.9936541512427287, 'eval_precision': 0.6693979337370859, 'eval_runtime': 63.3152, 'eval_samples_per_second': 44.839, 'eval_steps_per_second': 5.607, 'epoch': 3.8}\n"
     ]
    },
    {
     "name": "stderr",
     "output_type": "stream",
     "text": [
      " 19%|█▉        | 10900/56780 [2:44:35<3:31:26,  3.62it/s]  The following columns in the evaluation set  don't have a corresponding argument in `BertForSequenceClassification.forward` and have been ignored: sentense. If sentense are not expected by `BertForSequenceClassification.forward`,  you can safely ignore this message.\n",
      "***** Running Evaluation *****\n",
      "  Num examples = 2839\n",
      "  Batch size = 8\n",
      "                                                         \n",
      " 19%|█▉        | 10900/56780 [2:45:38<3:31:26,  3.62it/s]"
     ]
    },
    {
     "name": "stdout",
     "output_type": "stream",
     "text": [
      "{'eval_loss': 0.6590144634246826, 'eval_recall': 0.9936541512427287, 'eval_precision': 0.6693979337370859, 'eval_runtime': 63.2645, 'eval_samples_per_second': 44.875, 'eval_steps_per_second': 5.611, 'epoch': 3.84}\n"
     ]
    },
    {
     "name": "stderr",
     "output_type": "stream",
     "text": [
      " 19%|█▉        | 11000/56780 [2:46:06<4:19:45,  2.94it/s]  The following columns in the evaluation set  don't have a corresponding argument in `BertForSequenceClassification.forward` and have been ignored: sentense. If sentense are not expected by `BertForSequenceClassification.forward`,  you can safely ignore this message.\n",
      "***** Running Evaluation *****\n",
      "  Num examples = 2839\n",
      "  Batch size = 8\n"
     ]
    },
    {
     "name": "stdout",
     "output_type": "stream",
     "text": [
      "{'loss': 0.635, 'learning_rate': 4.031349066572737e-05, 'epoch': 3.87}\n"
     ]
    },
    {
     "name": "stderr",
     "output_type": "stream",
     "text": [
      "                                                         \n",
      " 19%|█▉        | 11000/56780 [2:47:09<4:19:45,  2.94it/s]"
     ]
    },
    {
     "name": "stdout",
     "output_type": "stream",
     "text": [
      "{'eval_loss': 0.6638168692588806, 'eval_recall': 0.9936541512427287, 'eval_precision': 0.6693979337370859, 'eval_runtime': 63.1095, 'eval_samples_per_second': 44.985, 'eval_steps_per_second': 5.625, 'epoch': 3.87}\n"
     ]
    },
    {
     "name": "stderr",
     "output_type": "stream",
     "text": [
      " 20%|█▉        | 11100/56780 [2:47:37<3:29:54,  3.63it/s]  The following columns in the evaluation set  don't have a corresponding argument in `BertForSequenceClassification.forward` and have been ignored: sentense. If sentense are not expected by `BertForSequenceClassification.forward`,  you can safely ignore this message.\n",
      "***** Running Evaluation *****\n",
      "  Num examples = 2839\n",
      "  Batch size = 8\n",
      "                                                         \n",
      " 20%|█▉        | 11100/56780 [2:48:40<3:29:54,  3.63it/s]"
     ]
    },
    {
     "name": "stdout",
     "output_type": "stream",
     "text": [
      "{'eval_loss': 0.6395952701568604, 'eval_recall': 0.9936541512427287, 'eval_precision': 0.6693979337370859, 'eval_runtime': 63.1543, 'eval_samples_per_second': 44.953, 'eval_steps_per_second': 5.621, 'epoch': 3.91}\n"
     ]
    },
    {
     "name": "stderr",
     "output_type": "stream",
     "text": [
      " 20%|█▉        | 11200/56780 [2:49:07<3:29:51,  3.62it/s]  The following columns in the evaluation set  don't have a corresponding argument in `BertForSequenceClassification.forward` and have been ignored: sentense. If sentense are not expected by `BertForSequenceClassification.forward`,  you can safely ignore this message.\n",
      "***** Running Evaluation *****\n",
      "  Num examples = 2839\n",
      "  Batch size = 8\n",
      "                                                         \n",
      " 20%|█▉        | 11200/56780 [2:50:11<3:29:51,  3.62it/s]"
     ]
    },
    {
     "name": "stdout",
     "output_type": "stream",
     "text": [
      "{'eval_loss': 0.6405702829360962, 'eval_recall': 0.9936541512427287, 'eval_precision': 0.6693979337370859, 'eval_runtime': 63.1604, 'eval_samples_per_second': 44.949, 'eval_steps_per_second': 5.621, 'epoch': 3.95}\n"
     ]
    },
    {
     "name": "stderr",
     "output_type": "stream",
     "text": [
      " 20%|█▉        | 11300/56780 [2:50:38<3:30:00,  3.61it/s]  The following columns in the evaluation set  don't have a corresponding argument in `BertForSequenceClassification.forward` and have been ignored: sentense. If sentense are not expected by `BertForSequenceClassification.forward`,  you can safely ignore this message.\n",
      "***** Running Evaluation *****\n",
      "  Num examples = 2839\n",
      "  Batch size = 8\n",
      "                                                         \n",
      " 20%|█▉        | 11300/56780 [2:51:41<3:30:00,  3.61it/s]"
     ]
    },
    {
     "name": "stdout",
     "output_type": "stream",
     "text": [
      "{'eval_loss': 0.6439218521118164, 'eval_recall': 0.9936541512427287, 'eval_precision': 0.6693979337370859, 'eval_runtime': 63.1497, 'eval_samples_per_second': 44.957, 'eval_steps_per_second': 5.622, 'epoch': 3.98}\n"
     ]
    },
    {
     "name": "stderr",
     "output_type": "stream",
     "text": [
      " 20%|██        | 11400/56780 [2:52:09<3:28:56,  3.62it/s]  The following columns in the evaluation set  don't have a corresponding argument in `BertForSequenceClassification.forward` and have been ignored: sentense. If sentense are not expected by `BertForSequenceClassification.forward`,  you can safely ignore this message.\n",
      "***** Running Evaluation *****\n",
      "  Num examples = 2839\n",
      "  Batch size = 8\n",
      "                                                         \n",
      " 20%|██        | 11400/56780 [2:53:12<3:28:56,  3.62it/s]"
     ]
    },
    {
     "name": "stdout",
     "output_type": "stream",
     "text": [
      "{'eval_loss': 0.6379479765892029, 'eval_recall': 0.9936541512427287, 'eval_precision': 0.6693979337370859, 'eval_runtime': 63.1028, 'eval_samples_per_second': 44.99, 'eval_steps_per_second': 5.626, 'epoch': 4.02}\n"
     ]
    },
    {
     "name": "stderr",
     "output_type": "stream",
     "text": [
      " 20%|██        | 11500/56780 [2:53:40<4:15:51,  2.95it/s]  The following columns in the evaluation set  don't have a corresponding argument in `BertForSequenceClassification.forward` and have been ignored: sentense. If sentense are not expected by `BertForSequenceClassification.forward`,  you can safely ignore this message.\n",
      "***** Running Evaluation *****\n",
      "  Num examples = 2839\n",
      "  Batch size = 8\n"
     ]
    },
    {
     "name": "stdout",
     "output_type": "stream",
     "text": [
      "{'loss': 0.6343, 'learning_rate': 3.987319478689679e-05, 'epoch': 4.05}\n"
     ]
    },
    {
     "name": "stderr",
     "output_type": "stream",
     "text": [
      "                                                         \n",
      " 20%|██        | 11500/56780 [2:54:43<4:15:51,  2.95it/s]"
     ]
    },
    {
     "name": "stdout",
     "output_type": "stream",
     "text": [
      "{'eval_loss': 0.6499205827713013, 'eval_recall': 0.9936541512427287, 'eval_precision': 0.6693979337370859, 'eval_runtime': 63.1791, 'eval_samples_per_second': 44.936, 'eval_steps_per_second': 5.619, 'epoch': 4.05}\n"
     ]
    },
    {
     "name": "stderr",
     "output_type": "stream",
     "text": [
      " 20%|██        | 11600/56780 [2:55:10<3:27:52,  3.62it/s]  The following columns in the evaluation set  don't have a corresponding argument in `BertForSequenceClassification.forward` and have been ignored: sentense. If sentense are not expected by `BertForSequenceClassification.forward`,  you can safely ignore this message.\n",
      "***** Running Evaluation *****\n",
      "  Num examples = 2839\n",
      "  Batch size = 8\n",
      "                                                         \n",
      " 20%|██        | 11600/56780 [2:56:14<3:27:52,  3.62it/s]"
     ]
    },
    {
     "name": "stdout",
     "output_type": "stream",
     "text": [
      "{'eval_loss': 0.6423940658569336, 'eval_recall': 0.9936541512427287, 'eval_precision': 0.6693979337370859, 'eval_runtime': 63.1769, 'eval_samples_per_second': 44.937, 'eval_steps_per_second': 5.619, 'epoch': 4.09}\n"
     ]
    },
    {
     "name": "stderr",
     "output_type": "stream",
     "text": [
      " 21%|██        | 11700/56780 [2:56:41<3:27:25,  3.62it/s]  The following columns in the evaluation set  don't have a corresponding argument in `BertForSequenceClassification.forward` and have been ignored: sentense. If sentense are not expected by `BertForSequenceClassification.forward`,  you can safely ignore this message.\n",
      "***** Running Evaluation *****\n",
      "  Num examples = 2839\n",
      "  Batch size = 8\n",
      "                                                         \n",
      " 21%|██        | 11700/56780 [2:57:44<3:27:25,  3.62it/s]"
     ]
    },
    {
     "name": "stdout",
     "output_type": "stream",
     "text": [
      "{'eval_loss': 0.6349221467971802, 'eval_recall': 0.9936541512427287, 'eval_precision': 0.6693979337370859, 'eval_runtime': 63.0048, 'eval_samples_per_second': 45.06, 'eval_steps_per_second': 5.634, 'epoch': 4.12}\n"
     ]
    },
    {
     "name": "stderr",
     "output_type": "stream",
     "text": [
      " 21%|██        | 11800/56780 [2:58:12<3:26:15,  3.63it/s]  The following columns in the evaluation set  don't have a corresponding argument in `BertForSequenceClassification.forward` and have been ignored: sentense. If sentense are not expected by `BertForSequenceClassification.forward`,  you can safely ignore this message.\n",
      "***** Running Evaluation *****\n",
      "  Num examples = 2839\n",
      "  Batch size = 8\n",
      "                                                         \n",
      " 21%|██        | 11800/56780 [2:59:15<3:26:15,  3.63it/s]"
     ]
    },
    {
     "name": "stdout",
     "output_type": "stream",
     "text": [
      "{'eval_loss': 0.6475291848182678, 'eval_recall': 0.9936541512427287, 'eval_precision': 0.6693979337370859, 'eval_runtime': 63.0061, 'eval_samples_per_second': 45.059, 'eval_steps_per_second': 5.634, 'epoch': 4.16}\n"
     ]
    },
    {
     "name": "stderr",
     "output_type": "stream",
     "text": [
      " 21%|██        | 11900/56780 [2:59:42<3:26:09,  3.63it/s]  The following columns in the evaluation set  don't have a corresponding argument in `BertForSequenceClassification.forward` and have been ignored: sentense. If sentense are not expected by `BertForSequenceClassification.forward`,  you can safely ignore this message.\n",
      "***** Running Evaluation *****\n",
      "  Num examples = 2839\n",
      "  Batch size = 8\n",
      "                                                         \n",
      " 21%|██        | 11900/56780 [3:00:45<3:26:09,  3.63it/s]"
     ]
    },
    {
     "name": "stdout",
     "output_type": "stream",
     "text": [
      "{'eval_loss': 0.6404547095298767, 'eval_recall': 0.9936541512427287, 'eval_precision': 0.6693979337370859, 'eval_runtime': 62.9752, 'eval_samples_per_second': 45.081, 'eval_steps_per_second': 5.637, 'epoch': 4.19}\n"
     ]
    },
    {
     "name": "stderr",
     "output_type": "stream",
     "text": [
      " 21%|██        | 12000/56780 [3:01:13<4:13:42,  2.94it/s]  The following columns in the evaluation set  don't have a corresponding argument in `BertForSequenceClassification.forward` and have been ignored: sentense. If sentense are not expected by `BertForSequenceClassification.forward`,  you can safely ignore this message.\n",
      "***** Running Evaluation *****\n",
      "  Num examples = 2839\n",
      "  Batch size = 8\n"
     ]
    },
    {
     "name": "stdout",
     "output_type": "stream",
     "text": [
      "{'loss': 0.6475, 'learning_rate': 3.9432898908066226e-05, 'epoch': 4.23}\n"
     ]
    },
    {
     "name": "stderr",
     "output_type": "stream",
     "text": [
      "                                                         \n",
      " 21%|██        | 12000/56780 [3:02:16<4:13:42,  2.94it/s]"
     ]
    },
    {
     "name": "stdout",
     "output_type": "stream",
     "text": [
      "{'eval_loss': 0.635599672794342, 'eval_recall': 0.9936541512427287, 'eval_precision': 0.6693979337370859, 'eval_runtime': 62.9673, 'eval_samples_per_second': 45.087, 'eval_steps_per_second': 5.638, 'epoch': 4.23}\n"
     ]
    },
    {
     "name": "stderr",
     "output_type": "stream",
     "text": [
      " 21%|██▏       | 12100/56780 [3:02:44<3:24:54,  3.63it/s]  The following columns in the evaluation set  don't have a corresponding argument in `BertForSequenceClassification.forward` and have been ignored: sentense. If sentense are not expected by `BertForSequenceClassification.forward`,  you can safely ignore this message.\n",
      "***** Running Evaluation *****\n",
      "  Num examples = 2839\n",
      "  Batch size = 8\n",
      "                                                         \n",
      " 21%|██▏       | 12100/56780 [3:03:47<3:24:54,  3.63it/s]"
     ]
    },
    {
     "name": "stdout",
     "output_type": "stream",
     "text": [
      "{'eval_loss': 0.6434394717216492, 'eval_recall': 0.9936541512427287, 'eval_precision': 0.6693979337370859, 'eval_runtime': 62.968, 'eval_samples_per_second': 45.086, 'eval_steps_per_second': 5.638, 'epoch': 4.26}\n"
     ]
    },
    {
     "name": "stderr",
     "output_type": "stream",
     "text": [
      " 21%|██▏       | 12200/56780 [3:04:14<3:24:36,  3.63it/s]  The following columns in the evaluation set  don't have a corresponding argument in `BertForSequenceClassification.forward` and have been ignored: sentense. If sentense are not expected by `BertForSequenceClassification.forward`,  you can safely ignore this message.\n",
      "***** Running Evaluation *****\n",
      "  Num examples = 2839\n",
      "  Batch size = 8\n",
      "                                                         \n",
      " 21%|██▏       | 12200/56780 [3:05:17<3:24:36,  3.63it/s]"
     ]
    },
    {
     "name": "stdout",
     "output_type": "stream",
     "text": [
      "{'eval_loss': 0.6447765231132507, 'eval_recall': 0.9936541512427287, 'eval_precision': 0.6693979337370859, 'eval_runtime': 62.9685, 'eval_samples_per_second': 45.086, 'eval_steps_per_second': 5.638, 'epoch': 4.3}\n"
     ]
    },
    {
     "name": "stderr",
     "output_type": "stream",
     "text": [
      " 22%|██▏       | 12300/56780 [3:05:45<3:23:52,  3.64it/s]  The following columns in the evaluation set  don't have a corresponding argument in `BertForSequenceClassification.forward` and have been ignored: sentense. If sentense are not expected by `BertForSequenceClassification.forward`,  you can safely ignore this message.\n",
      "***** Running Evaluation *****\n",
      "  Num examples = 2839\n",
      "  Batch size = 8\n",
      "                                                         \n",
      " 22%|██▏       | 12300/56780 [3:06:48<3:23:52,  3.64it/s]"
     ]
    },
    {
     "name": "stdout",
     "output_type": "stream",
     "text": [
      "{'eval_loss': 0.630161464214325, 'eval_recall': 0.9809624537281861, 'eval_precision': 0.677007299270073, 'eval_runtime': 62.9852, 'eval_samples_per_second': 45.074, 'eval_steps_per_second': 5.636, 'epoch': 4.33}\n"
     ]
    },
    {
     "name": "stderr",
     "output_type": "stream",
     "text": [
      " 22%|██▏       | 12400/56780 [3:07:15<3:23:49,  3.63it/s]  The following columns in the evaluation set  don't have a corresponding argument in `BertForSequenceClassification.forward` and have been ignored: sentense. If sentense are not expected by `BertForSequenceClassification.forward`,  you can safely ignore this message.\n",
      "***** Running Evaluation *****\n",
      "  Num examples = 2839\n",
      "  Batch size = 8\n",
      "                                                         \n",
      " 22%|██▏       | 12400/56780 [3:08:18<3:23:49,  3.63it/s]"
     ]
    },
    {
     "name": "stdout",
     "output_type": "stream",
     "text": [
      "{'eval_loss': 0.6470035314559937, 'eval_recall': 0.9693283976731888, 'eval_precision': 0.6816660468575678, 'eval_runtime': 62.9705, 'eval_samples_per_second': 45.085, 'eval_steps_per_second': 5.638, 'epoch': 4.37}\n"
     ]
    },
    {
     "name": "stderr",
     "output_type": "stream",
     "text": [
      " 22%|██▏       | 12500/56780 [3:08:46<4:14:21,  2.90it/s]  The following columns in the evaluation set  don't have a corresponding argument in `BertForSequenceClassification.forward` and have been ignored: sentense. If sentense are not expected by `BertForSequenceClassification.forward`,  you can safely ignore this message.\n",
      "***** Running Evaluation *****\n",
      "  Num examples = 2839\n",
      "  Batch size = 8\n"
     ]
    },
    {
     "name": "stdout",
     "output_type": "stream",
     "text": [
      "{'loss': 0.6431, 'learning_rate': 3.8992603029235645e-05, 'epoch': 4.4}\n"
     ]
    },
    {
     "name": "stderr",
     "output_type": "stream",
     "text": [
      "                                                         \n",
      " 22%|██▏       | 12500/56780 [3:09:49<4:14:21,  2.90it/s]"
     ]
    },
    {
     "name": "stdout",
     "output_type": "stream",
     "text": [
      "{'eval_loss': 0.6270243525505066, 'eval_recall': 0.9603384452670545, 'eval_precision': 0.6876183263915183, 'eval_runtime': 62.9542, 'eval_samples_per_second': 45.096, 'eval_steps_per_second': 5.639, 'epoch': 4.4}\n"
     ]
    },
    {
     "name": "stderr",
     "output_type": "stream",
     "text": [
      " 22%|██▏       | 12600/56780 [3:10:16<3:22:35,  3.63it/s]  The following columns in the evaluation set  don't have a corresponding argument in `BertForSequenceClassification.forward` and have been ignored: sentense. If sentense are not expected by `BertForSequenceClassification.forward`,  you can safely ignore this message.\n",
      "***** Running Evaluation *****\n",
      "  Num examples = 2839\n",
      "  Batch size = 8\n",
      "                                                         \n",
      " 22%|██▏       | 12600/56780 [3:11:19<3:22:35,  3.63it/s]"
     ]
    },
    {
     "name": "stdout",
     "output_type": "stream",
     "text": [
      "{'eval_loss': 0.6254236698150635, 'eval_recall': 0.9603384452670545, 'eval_precision': 0.6873580620741863, 'eval_runtime': 62.9629, 'eval_samples_per_second': 45.09, 'eval_steps_per_second': 5.638, 'epoch': 4.44}\n"
     ]
    },
    {
     "name": "stderr",
     "output_type": "stream",
     "text": [
      " 22%|██▏       | 12700/56780 [3:11:47<3:23:02,  3.62it/s]  The following columns in the evaluation set  don't have a corresponding argument in `BertForSequenceClassification.forward` and have been ignored: sentense. If sentense are not expected by `BertForSequenceClassification.forward`,  you can safely ignore this message.\n",
      "***** Running Evaluation *****\n",
      "  Num examples = 2839\n",
      "  Batch size = 8\n",
      "                                                         \n",
      " 22%|██▏       | 12700/56780 [3:12:50<3:23:02,  3.62it/s]"
     ]
    },
    {
     "name": "stdout",
     "output_type": "stream",
     "text": [
      "{'eval_loss': 0.6268623471260071, 'eval_recall': 0.9598096245372819, 'eval_precision': 0.6875, 'eval_runtime': 63.1206, 'eval_samples_per_second': 44.977, 'eval_steps_per_second': 5.624, 'epoch': 4.47}\n"
     ]
    },
    {
     "name": "stderr",
     "output_type": "stream",
     "text": [
      " 23%|██▎       | 12800/56780 [3:13:18<3:21:59,  3.63it/s]  The following columns in the evaluation set  don't have a corresponding argument in `BertForSequenceClassification.forward` and have been ignored: sentense. If sentense are not expected by `BertForSequenceClassification.forward`,  you can safely ignore this message.\n",
      "***** Running Evaluation *****\n",
      "  Num examples = 2839\n",
      "  Batch size = 8\n",
      "                                                         \n",
      " 23%|██▎       | 12800/56780 [3:14:21<3:21:59,  3.63it/s]"
     ]
    },
    {
     "name": "stdout",
     "output_type": "stream",
     "text": [
      "{'eval_loss': 0.646772563457489, 'eval_recall': 0.9598096245372819, 'eval_precision': 0.6877605153467222, 'eval_runtime': 63.0567, 'eval_samples_per_second': 45.023, 'eval_steps_per_second': 5.63, 'epoch': 4.51}\n"
     ]
    },
    {
     "name": "stderr",
     "output_type": "stream",
     "text": [
      " 23%|██▎       | 12900/56780 [3:14:48<3:21:44,  3.63it/s]  The following columns in the evaluation set  don't have a corresponding argument in `BertForSequenceClassification.forward` and have been ignored: sentense. If sentense are not expected by `BertForSequenceClassification.forward`,  you can safely ignore this message.\n",
      "***** Running Evaluation *****\n",
      "  Num examples = 2839\n",
      "  Batch size = 8\n",
      "                                                         \n",
      " 23%|██▎       | 12900/56780 [3:15:52<3:21:44,  3.63it/s]"
     ]
    },
    {
     "name": "stdout",
     "output_type": "stream",
     "text": [
      "{'eval_loss': 0.625625729560852, 'eval_recall': 0.9587519830777367, 'eval_precision': 0.6880455407969639, 'eval_runtime': 63.2266, 'eval_samples_per_second': 44.902, 'eval_steps_per_second': 5.615, 'epoch': 4.54}\n"
     ]
    },
    {
     "name": "stderr",
     "output_type": "stream",
     "text": [
      " 23%|██▎       | 13000/56780 [3:16:19<4:05:23,  2.97it/s]  The following columns in the evaluation set  don't have a corresponding argument in `BertForSequenceClassification.forward` and have been ignored: sentense. If sentense are not expected by `BertForSequenceClassification.forward`,  you can safely ignore this message.\n",
      "***** Running Evaluation *****\n",
      "  Num examples = 2839\n",
      "  Batch size = 8\n"
     ]
    },
    {
     "name": "stdout",
     "output_type": "stream",
     "text": [
      "{'loss': 0.6173, 'learning_rate': 3.855230715040508e-05, 'epoch': 4.58}\n"
     ]
    },
    {
     "name": "stderr",
     "output_type": "stream",
     "text": [
      "                                                         \n",
      " 23%|██▎       | 13000/56780 [3:17:23<4:05:23,  2.97it/s]"
     ]
    },
    {
     "name": "stdout",
     "output_type": "stream",
     "text": [
      "{'eval_loss': 0.6236241459846497, 'eval_recall': 0.9492332099418297, 'eval_precision': 0.6981719175418125, 'eval_runtime': 63.1608, 'eval_samples_per_second': 44.949, 'eval_steps_per_second': 5.621, 'epoch': 4.58}\n"
     ]
    },
    {
     "name": "stderr",
     "output_type": "stream",
     "text": [
      " 23%|██▎       | 13100/56780 [3:17:50<3:21:23,  3.61it/s]  The following columns in the evaluation set  don't have a corresponding argument in `BertForSequenceClassification.forward` and have been ignored: sentense. If sentense are not expected by `BertForSequenceClassification.forward`,  you can safely ignore this message.\n",
      "***** Running Evaluation *****\n",
      "  Num examples = 2839\n",
      "  Batch size = 8\n",
      "                                                         \n",
      " 23%|██▎       | 13100/56780 [3:18:53<3:21:23,  3.61it/s]"
     ]
    },
    {
     "name": "stdout",
     "output_type": "stream",
     "text": [
      "{'eval_loss': 0.6257799863815308, 'eval_recall': 0.9719725013220518, 'eval_precision': 0.6855650876538605, 'eval_runtime': 63.0386, 'eval_samples_per_second': 45.036, 'eval_steps_per_second': 5.631, 'epoch': 4.61}\n"
     ]
    },
    {
     "name": "stderr",
     "output_type": "stream",
     "text": [
      " 23%|██▎       | 13200/56780 [3:19:21<3:20:15,  3.63it/s]  The following columns in the evaluation set  don't have a corresponding argument in `BertForSequenceClassification.forward` and have been ignored: sentense. If sentense are not expected by `BertForSequenceClassification.forward`,  you can safely ignore this message.\n",
      "***** Running Evaluation *****\n",
      "  Num examples = 2839\n",
      "  Batch size = 8\n",
      "                                                         \n",
      " 23%|██▎       | 13200/56780 [3:20:24<3:20:15,  3.63it/s]"
     ]
    },
    {
     "name": "stdout",
     "output_type": "stream",
     "text": [
      "{'eval_loss': 0.6272591352462769, 'eval_recall': 0.9719725013220518, 'eval_precision': 0.6853094705443699, 'eval_runtime': 63.0118, 'eval_samples_per_second': 45.055, 'eval_steps_per_second': 5.634, 'epoch': 4.65}\n"
     ]
    },
    {
     "name": "stderr",
     "output_type": "stream",
     "text": [
      " 23%|██▎       | 13300/56780 [3:20:51<3:19:29,  3.63it/s]  The following columns in the evaluation set  don't have a corresponding argument in `BertForSequenceClassification.forward` and have been ignored: sentense. If sentense are not expected by `BertForSequenceClassification.forward`,  you can safely ignore this message.\n",
      "***** Running Evaluation *****\n",
      "  Num examples = 2839\n",
      "  Batch size = 8\n",
      "                                                         \n",
      " 23%|██▎       | 13300/56780 [3:21:54<3:19:29,  3.63it/s]"
     ]
    },
    {
     "name": "stdout",
     "output_type": "stream",
     "text": [
      "{'eval_loss': 0.633822500705719, 'eval_recall': 0.9719725013220518, 'eval_precision': 0.6853094705443699, 'eval_runtime': 62.9557, 'eval_samples_per_second': 45.095, 'eval_steps_per_second': 5.639, 'epoch': 4.68}\n"
     ]
    },
    {
     "name": "stderr",
     "output_type": "stream",
     "text": [
      " 24%|██▎       | 13400/56780 [3:22:22<3:19:34,  3.62it/s]  The following columns in the evaluation set  don't have a corresponding argument in `BertForSequenceClassification.forward` and have been ignored: sentense. If sentense are not expected by `BertForSequenceClassification.forward`,  you can safely ignore this message.\n",
      "***** Running Evaluation *****\n",
      "  Num examples = 2839\n",
      "  Batch size = 8\n",
      "                                                         \n",
      " 24%|██▎       | 13400/56780 [3:23:25<3:19:34,  3.62it/s]"
     ]
    },
    {
     "name": "stdout",
     "output_type": "stream",
     "text": [
      "{'eval_loss': 0.624504029750824, 'eval_recall': 0.9719725013220518, 'eval_precision': 0.6853094705443699, 'eval_runtime': 62.922, 'eval_samples_per_second': 45.119, 'eval_steps_per_second': 5.642, 'epoch': 4.72}\n"
     ]
    },
    {
     "name": "stderr",
     "output_type": "stream",
     "text": [
      " 24%|██▍       | 13500/56780 [3:23:53<4:08:31,  2.90it/s]  The following columns in the evaluation set  don't have a corresponding argument in `BertForSequenceClassification.forward` and have been ignored: sentense. If sentense are not expected by `BertForSequenceClassification.forward`,  you can safely ignore this message.\n",
      "***** Running Evaluation *****\n",
      "  Num examples = 2839\n",
      "  Batch size = 8\n"
     ]
    },
    {
     "name": "stdout",
     "output_type": "stream",
     "text": [
      "{'loss': 0.6183, 'learning_rate': 3.81120112715745e-05, 'epoch': 4.76}\n"
     ]
    },
    {
     "name": "stderr",
     "output_type": "stream",
     "text": [
      "                                                         \n",
      " 24%|██▍       | 13500/56780 [3:24:56<4:08:31,  2.90it/s]"
     ]
    },
    {
     "name": "stdout",
     "output_type": "stream",
     "text": [
      "{'eval_loss': 0.6478755474090576, 'eval_recall': 0.9846641988365944, 'eval_precision': 0.6773372135321936, 'eval_runtime': 62.8776, 'eval_samples_per_second': 45.151, 'eval_steps_per_second': 5.646, 'epoch': 4.76}\n"
     ]
    },
    {
     "name": "stderr",
     "output_type": "stream",
     "text": [
      " 24%|██▍       | 13600/56780 [3:25:23<3:18:58,  3.62it/s]  The following columns in the evaluation set  don't have a corresponding argument in `BertForSequenceClassification.forward` and have been ignored: sentense. If sentense are not expected by `BertForSequenceClassification.forward`,  you can safely ignore this message.\n",
      "***** Running Evaluation *****\n",
      "  Num examples = 2839\n",
      "  Batch size = 8\n",
      "                                                         \n",
      " 24%|██▍       | 13600/56780 [3:26:26<3:18:58,  3.62it/s]"
     ]
    },
    {
     "name": "stdout",
     "output_type": "stream",
     "text": [
      "{'eval_loss': 0.6360903382301331, 'eval_recall': 0.9846641988365944, 'eval_precision': 0.6773372135321936, 'eval_runtime': 62.8853, 'eval_samples_per_second': 45.146, 'eval_steps_per_second': 5.645, 'epoch': 4.79}\n"
     ]
    },
    {
     "name": "stderr",
     "output_type": "stream",
     "text": [
      " 24%|██▍       | 13700/56780 [3:26:54<3:18:12,  3.62it/s]  The following columns in the evaluation set  don't have a corresponding argument in `BertForSequenceClassification.forward` and have been ignored: sentense. If sentense are not expected by `BertForSequenceClassification.forward`,  you can safely ignore this message.\n",
      "***** Running Evaluation *****\n",
      "  Num examples = 2839\n",
      "  Batch size = 8\n",
      "                                                         \n",
      " 24%|██▍       | 13700/56780 [3:27:57<3:18:12,  3.62it/s]"
     ]
    },
    {
     "name": "stdout",
     "output_type": "stream",
     "text": [
      "{'eval_loss': 0.6028404831886292, 'eval_recall': 0.9439450026441036, 'eval_precision': 0.7125748502994012, 'eval_runtime': 63.0105, 'eval_samples_per_second': 45.056, 'eval_steps_per_second': 5.634, 'epoch': 4.83}\n"
     ]
    },
    {
     "name": "stderr",
     "output_type": "stream",
     "text": [
      " 24%|██▍       | 13800/56780 [3:28:24<3:17:30,  3.63it/s]  The following columns in the evaluation set  don't have a corresponding argument in `BertForSequenceClassification.forward` and have been ignored: sentense. If sentense are not expected by `BertForSequenceClassification.forward`,  you can safely ignore this message.\n",
      "***** Running Evaluation *****\n",
      "  Num examples = 2839\n",
      "  Batch size = 8\n",
      "                                                         \n",
      " 24%|██▍       | 13800/56780 [3:29:27<3:17:30,  3.63it/s]"
     ]
    },
    {
     "name": "stdout",
     "output_type": "stream",
     "text": [
      "{'eval_loss': 0.6084409356117249, 'eval_recall': 0.9476467477525119, 'eval_precision': 0.706346078044935, 'eval_runtime': 63.0964, 'eval_samples_per_second': 44.995, 'eval_steps_per_second': 5.626, 'epoch': 4.86}\n"
     ]
    },
    {
     "name": "stderr",
     "output_type": "stream",
     "text": [
      " 24%|██▍       | 13900/56780 [3:29:55<3:17:36,  3.62it/s]  The following columns in the evaluation set  don't have a corresponding argument in `BertForSequenceClassification.forward` and have been ignored: sentense. If sentense are not expected by `BertForSequenceClassification.forward`,  you can safely ignore this message.\n",
      "***** Running Evaluation *****\n",
      "  Num examples = 2839\n",
      "  Batch size = 8\n",
      "                                                         \n",
      " 24%|██▍       | 13900/56780 [3:30:58<3:17:36,  3.62it/s]"
     ]
    },
    {
     "name": "stdout",
     "output_type": "stream",
     "text": [
      "{'eval_loss': 0.6170204877853394, 'eval_recall': 0.9476467477525119, 'eval_precision': 0.7066246056782335, 'eval_runtime': 63.1706, 'eval_samples_per_second': 44.942, 'eval_steps_per_second': 5.62, 'epoch': 4.9}\n"
     ]
    },
    {
     "name": "stderr",
     "output_type": "stream",
     "text": [
      " 25%|██▍       | 14000/56780 [3:31:26<4:01:41,  2.95it/s]  The following columns in the evaluation set  don't have a corresponding argument in `BertForSequenceClassification.forward` and have been ignored: sentense. If sentense are not expected by `BertForSequenceClassification.forward`,  you can safely ignore this message.\n",
      "***** Running Evaluation *****\n",
      "  Num examples = 2839\n",
      "  Batch size = 8\n"
     ]
    },
    {
     "name": "stdout",
     "output_type": "stream",
     "text": [
      "{'loss': 0.6117, 'learning_rate': 3.767171539274393e-05, 'epoch': 4.93}\n"
     ]
    },
    {
     "name": "stderr",
     "output_type": "stream",
     "text": [
      "                                                         \n",
      " 25%|██▍       | 14000/56780 [3:32:29<4:01:41,  2.95it/s]"
     ]
    },
    {
     "name": "stdout",
     "output_type": "stream",
     "text": [
      "{'eval_loss': 0.6244511604309082, 'eval_recall': 0.9476467477525119, 'eval_precision': 0.7066246056782335, 'eval_runtime': 63.1249, 'eval_samples_per_second': 44.974, 'eval_steps_per_second': 5.624, 'epoch': 4.93}\n"
     ]
    },
    {
     "name": "stderr",
     "output_type": "stream",
     "text": [
      " 25%|██▍       | 14100/56780 [3:32:57<3:15:32,  3.64it/s]  The following columns in the evaluation set  don't have a corresponding argument in `BertForSequenceClassification.forward` and have been ignored: sentense. If sentense are not expected by `BertForSequenceClassification.forward`,  you can safely ignore this message.\n",
      "***** Running Evaluation *****\n",
      "  Num examples = 2839\n",
      "  Batch size = 8\n",
      "                                                         \n",
      " 25%|██▍       | 14100/56780 [3:34:00<3:15:32,  3.64it/s]"
     ]
    },
    {
     "name": "stdout",
     "output_type": "stream",
     "text": [
      "{'eval_loss': 0.6098856329917908, 'eval_recall': 0.9476467477525119, 'eval_precision': 0.706346078044935, 'eval_runtime': 63.1708, 'eval_samples_per_second': 44.942, 'eval_steps_per_second': 5.62, 'epoch': 4.97}\n"
     ]
    },
    {
     "name": "stderr",
     "output_type": "stream",
     "text": [
      " 25%|██▌       | 14200/56780 [3:34:27<3:07:15,  3.79it/s]  The following columns in the evaluation set  don't have a corresponding argument in `BertForSequenceClassification.forward` and have been ignored: sentense. If sentense are not expected by `BertForSequenceClassification.forward`,  you can safely ignore this message.\n",
      "***** Running Evaluation *****\n",
      "  Num examples = 2839\n",
      "  Batch size = 8\n",
      "                                                         \n",
      " 25%|██▌       | 14200/56780 [3:35:30<3:07:15,  3.79it/s]"
     ]
    },
    {
     "name": "stdout",
     "output_type": "stream",
     "text": [
      "{'eval_loss': 0.6315286755561829, 'eval_recall': 0.9476467477525119, 'eval_precision': 0.7066246056782335, 'eval_runtime': 63.0601, 'eval_samples_per_second': 45.021, 'eval_steps_per_second': 5.63, 'epoch': 5.0}\n"
     ]
    },
    {
     "name": "stderr",
     "output_type": "stream",
     "text": [
      " 25%|██▌       | 14300/56780 [3:35:58<3:15:32,  3.62it/s]  The following columns in the evaluation set  don't have a corresponding argument in `BertForSequenceClassification.forward` and have been ignored: sentense. If sentense are not expected by `BertForSequenceClassification.forward`,  you can safely ignore this message.\n",
      "***** Running Evaluation *****\n",
      "  Num examples = 2839\n",
      "  Batch size = 8\n",
      "                                                         \n",
      " 25%|██▌       | 14300/56780 [3:37:01<3:15:32,  3.62it/s]"
     ]
    },
    {
     "name": "stdout",
     "output_type": "stream",
     "text": [
      "{'eval_loss': 0.6179183721542358, 'eval_recall': 0.9476467477525119, 'eval_precision': 0.706346078044935, 'eval_runtime': 63.1873, 'eval_samples_per_second': 44.93, 'eval_steps_per_second': 5.618, 'epoch': 5.04}\n"
     ]
    },
    {
     "name": "stderr",
     "output_type": "stream",
     "text": [
      " 25%|██▌       | 14400/56780 [3:37:29<3:15:47,  3.61it/s]  The following columns in the evaluation set  don't have a corresponding argument in `BertForSequenceClassification.forward` and have been ignored: sentense. If sentense are not expected by `BertForSequenceClassification.forward`,  you can safely ignore this message.\n",
      "***** Running Evaluation *****\n",
      "  Num examples = 2839\n",
      "  Batch size = 8\n",
      "                                                         \n",
      " 25%|██▌       | 14400/56780 [3:38:32<3:15:47,  3.61it/s]"
     ]
    },
    {
     "name": "stdout",
     "output_type": "stream",
     "text": [
      "{'eval_loss': 0.617371678352356, 'eval_recall': 0.9476467477525119, 'eval_precision': 0.7066246056782335, 'eval_runtime': 63.1586, 'eval_samples_per_second': 44.95, 'eval_steps_per_second': 5.621, 'epoch': 5.07}\n"
     ]
    },
    {
     "name": "stderr",
     "output_type": "stream",
     "text": [
      " 26%|██▌       | 14500/56780 [3:39:00<3:58:15,  2.96it/s]  The following columns in the evaluation set  don't have a corresponding argument in `BertForSequenceClassification.forward` and have been ignored: sentense. If sentense are not expected by `BertForSequenceClassification.forward`,  you can safely ignore this message.\n",
      "***** Running Evaluation *****\n",
      "  Num examples = 2839\n",
      "  Batch size = 8\n"
     ]
    },
    {
     "name": "stdout",
     "output_type": "stream",
     "text": [
      "{'loss': 0.6029, 'learning_rate': 3.723141951391335e-05, 'epoch': 5.11}\n"
     ]
    },
    {
     "name": "stderr",
     "output_type": "stream",
     "text": [
      "                                                         \n",
      " 26%|██▌       | 14500/56780 [3:40:03<3:58:15,  2.96it/s]"
     ]
    },
    {
     "name": "stdout",
     "output_type": "stream",
     "text": [
      "{'eval_loss': 0.6123878359794617, 'eval_recall': 0.9476467477525119, 'eval_precision': 0.7071823204419889, 'eval_runtime': 63.0631, 'eval_samples_per_second': 45.018, 'eval_steps_per_second': 5.629, 'epoch': 5.11}\n"
     ]
    },
    {
     "name": "stderr",
     "output_type": "stream",
     "text": [
      " 26%|██▌       | 14600/56780 [3:40:30<3:13:51,  3.63it/s]  The following columns in the evaluation set  don't have a corresponding argument in `BertForSequenceClassification.forward` and have been ignored: sentense. If sentense are not expected by `BertForSequenceClassification.forward`,  you can safely ignore this message.\n",
      "***** Running Evaluation *****\n",
      "  Num examples = 2839\n",
      "  Batch size = 8\n",
      "                                                         \n",
      " 26%|██▌       | 14600/56780 [3:41:33<3:13:51,  3.63it/s]"
     ]
    },
    {
     "name": "stdout",
     "output_type": "stream",
     "text": [
      "{'eval_loss': 0.6159244179725647, 'eval_recall': 0.9460602855631941, 'eval_precision': 0.7071146245059289, 'eval_runtime': 63.0199, 'eval_samples_per_second': 45.049, 'eval_steps_per_second': 5.633, 'epoch': 5.14}\n"
     ]
    },
    {
     "name": "stderr",
     "output_type": "stream",
     "text": [
      " 26%|██▌       | 14700/56780 [3:42:01<3:13:44,  3.62it/s]  The following columns in the evaluation set  don't have a corresponding argument in `BertForSequenceClassification.forward` and have been ignored: sentense. If sentense are not expected by `BertForSequenceClassification.forward`,  you can safely ignore this message.\n",
      "***** Running Evaluation *****\n",
      "  Num examples = 2839\n",
      "  Batch size = 8\n",
      "                                                         \n",
      " 26%|██▌       | 14700/56780 [3:43:04<3:13:44,  3.62it/s]"
     ]
    },
    {
     "name": "stdout",
     "output_type": "stream",
     "text": [
      "{'eval_loss': 0.6112451553344727, 'eval_recall': 0.9460602855631941, 'eval_precision': 0.7071146245059289, 'eval_runtime': 63.073, 'eval_samples_per_second': 45.011, 'eval_steps_per_second': 5.628, 'epoch': 5.18}\n"
     ]
    },
    {
     "name": "stderr",
     "output_type": "stream",
     "text": [
      " 26%|██▌       | 14800/56780 [3:43:32<3:12:48,  3.63it/s]  The following columns in the evaluation set  don't have a corresponding argument in `BertForSequenceClassification.forward` and have been ignored: sentense. If sentense are not expected by `BertForSequenceClassification.forward`,  you can safely ignore this message.\n",
      "***** Running Evaluation *****\n",
      "  Num examples = 2839\n",
      "  Batch size = 8\n",
      "                                                         \n",
      " 26%|██▌       | 14800/56780 [3:44:35<3:12:48,  3.63it/s]"
     ]
    },
    {
     "name": "stdout",
     "output_type": "stream",
     "text": [
      "{'eval_loss': 0.6032751202583313, 'eval_recall': 0.7810682178741407, 'eval_precision': 0.7749213011542497, 'eval_runtime': 63.0071, 'eval_samples_per_second': 45.058, 'eval_steps_per_second': 5.634, 'epoch': 5.21}\n"
     ]
    },
    {
     "name": "stderr",
     "output_type": "stream",
     "text": [
      " 26%|██▌       | 14900/56780 [3:45:02<3:13:24,  3.61it/s]  The following columns in the evaluation set  don't have a corresponding argument in `BertForSequenceClassification.forward` and have been ignored: sentense. If sentense are not expected by `BertForSequenceClassification.forward`,  you can safely ignore this message.\n",
      "***** Running Evaluation *****\n",
      "  Num examples = 2839\n",
      "  Batch size = 8\n",
      "                                                         \n",
      " 26%|██▌       | 14900/56780 [3:46:05<3:13:24,  3.61it/s]"
     ]
    },
    {
     "name": "stdout",
     "output_type": "stream",
     "text": [
      "{'eval_loss': 0.6179401278495789, 'eval_recall': 0.9513484928609202, 'eval_precision': 0.701091192517537, 'eval_runtime': 62.9275, 'eval_samples_per_second': 45.115, 'eval_steps_per_second': 5.641, 'epoch': 5.25}\n"
     ]
    },
    {
     "name": "stderr",
     "output_type": "stream",
     "text": [
      " 26%|██▋       | 15000/56780 [3:46:33<3:56:15,  2.95it/s]  The following columns in the evaluation set  don't have a corresponding argument in `BertForSequenceClassification.forward` and have been ignored: sentense. If sentense are not expected by `BertForSequenceClassification.forward`,  you can safely ignore this message.\n",
      "***** Running Evaluation *****\n",
      "  Num examples = 2839\n",
      "  Batch size = 8\n"
     ]
    },
    {
     "name": "stdout",
     "output_type": "stream",
     "text": [
      "{'loss': 0.6086, 'learning_rate': 3.6791123635082777e-05, 'epoch': 5.28}\n"
     ]
    },
    {
     "name": "stderr",
     "output_type": "stream",
     "text": [
      "                                                         \n",
      " 26%|██▋       | 15000/56780 [3:47:36<3:56:15,  2.95it/s]Saving model checkpoint to bert-classifier-trainer\\checkpoint-15000\n",
      "Configuration saved in bert-classifier-trainer\\checkpoint-15000\\config.json\n"
     ]
    },
    {
     "name": "stdout",
     "output_type": "stream",
     "text": [
      "{'eval_loss': 0.629691481590271, 'eval_recall': 0.9513484928609202, 'eval_precision': 0.701091192517537, 'eval_runtime': 62.9228, 'eval_samples_per_second': 45.119, 'eval_steps_per_second': 5.642, 'epoch': 5.28}\n"
     ]
    },
    {
     "name": "stderr",
     "output_type": "stream",
     "text": [
      "Model weights saved in bert-classifier-trainer\\checkpoint-15000\\pytorch_model.bin\n",
      " 27%|██▋       | 15100/56780 [3:48:13<3:10:43,  3.64it/s]  The following columns in the evaluation set  don't have a corresponding argument in `BertForSequenceClassification.forward` and have been ignored: sentense. If sentense are not expected by `BertForSequenceClassification.forward`,  you can safely ignore this message.\n",
      "***** Running Evaluation *****\n",
      "  Num examples = 2839\n",
      "  Batch size = 8\n",
      "                                                         \n",
      " 27%|██▋       | 15100/56780 [3:49:15<3:10:43,  3.64it/s]"
     ]
    },
    {
     "name": "stdout",
     "output_type": "stream",
     "text": [
      "{'eval_loss': 0.6449670195579529, 'eval_recall': 0.9513484928609202, 'eval_precision': 0.701091192517537, 'eval_runtime': 62.617, 'eval_samples_per_second': 45.339, 'eval_steps_per_second': 5.669, 'epoch': 5.32}\n"
     ]
    },
    {
     "name": "stderr",
     "output_type": "stream",
     "text": [
      " 27%|██▋       | 15200/56780 [3:49:43<3:10:46,  3.63it/s]  The following columns in the evaluation set  don't have a corresponding argument in `BertForSequenceClassification.forward` and have been ignored: sentense. If sentense are not expected by `BertForSequenceClassification.forward`,  you can safely ignore this message.\n",
      "***** Running Evaluation *****\n",
      "  Num examples = 2839\n",
      "  Batch size = 8\n",
      "                                                         \n",
      " 27%|██▋       | 15200/56780 [3:50:46<3:10:46,  3.63it/s]"
     ]
    },
    {
     "name": "stdout",
     "output_type": "stream",
     "text": [
      "{'eval_loss': 0.6164580583572388, 'eval_recall': 0.9513484928609202, 'eval_precision': 0.701091192517537, 'eval_runtime': 62.936, 'eval_samples_per_second': 45.109, 'eval_steps_per_second': 5.641, 'epoch': 5.35}\n"
     ]
    },
    {
     "name": "stderr",
     "output_type": "stream",
     "text": [
      " 27%|██▋       | 15300/56780 [3:51:13<3:10:44,  3.62it/s]  The following columns in the evaluation set  don't have a corresponding argument in `BertForSequenceClassification.forward` and have been ignored: sentense. If sentense are not expected by `BertForSequenceClassification.forward`,  you can safely ignore this message.\n",
      "***** Running Evaluation *****\n",
      "  Num examples = 2839\n",
      "  Batch size = 8\n",
      "                                                         \n",
      " 27%|██▋       | 15300/56780 [3:52:16<3:10:44,  3.62it/s]"
     ]
    },
    {
     "name": "stdout",
     "output_type": "stream",
     "text": [
      "{'eval_loss': 0.6182668209075928, 'eval_recall': 0.9513484928609202, 'eval_precision': 0.701091192517537, 'eval_runtime': 62.9955, 'eval_samples_per_second': 45.067, 'eval_steps_per_second': 5.635, 'epoch': 5.39}\n"
     ]
    },
    {
     "name": "stderr",
     "output_type": "stream",
     "text": [
      " 27%|██▋       | 15400/56780 [3:52:44<3:10:16,  3.62it/s]  The following columns in the evaluation set  don't have a corresponding argument in `BertForSequenceClassification.forward` and have been ignored: sentense. If sentense are not expected by `BertForSequenceClassification.forward`,  you can safely ignore this message.\n",
      "***** Running Evaluation *****\n",
      "  Num examples = 2839\n",
      "  Batch size = 8\n",
      "                                                         \n",
      " 27%|██▋       | 15400/56780 [3:53:47<3:10:16,  3.62it/s]"
     ]
    },
    {
     "name": "stdout",
     "output_type": "stream",
     "text": [
      "{'eval_loss': 0.6159716844558716, 'eval_recall': 0.9513484928609202, 'eval_precision': 0.701091192517537, 'eval_runtime': 62.9604, 'eval_samples_per_second': 45.092, 'eval_steps_per_second': 5.638, 'epoch': 5.42}\n"
     ]
    },
    {
     "name": "stderr",
     "output_type": "stream",
     "text": [
      " 27%|██▋       | 15500/56780 [3:54:15<3:52:56,  2.95it/s]  The following columns in the evaluation set  don't have a corresponding argument in `BertForSequenceClassification.forward` and have been ignored: sentense. If sentense are not expected by `BertForSequenceClassification.forward`,  you can safely ignore this message.\n",
      "***** Running Evaluation *****\n",
      "  Num examples = 2839\n",
      "  Batch size = 8\n"
     ]
    },
    {
     "name": "stdout",
     "output_type": "stream",
     "text": [
      "{'loss': 0.6095, 'learning_rate': 3.63508277562522e-05, 'epoch': 5.46}\n"
     ]
    },
    {
     "name": "stderr",
     "output_type": "stream",
     "text": [
      "                                                         \n",
      " 27%|██▋       | 15500/56780 [3:55:18<3:52:56,  2.95it/s]"
     ]
    },
    {
     "name": "stdout",
     "output_type": "stream",
     "text": [
      "{'eval_loss': 0.622572124004364, 'eval_recall': 0.9513484928609202, 'eval_precision': 0.701091192517537, 'eval_runtime': 62.9548, 'eval_samples_per_second': 45.096, 'eval_steps_per_second': 5.639, 'epoch': 5.46}\n"
     ]
    },
    {
     "name": "stderr",
     "output_type": "stream",
     "text": [
      " 27%|██▋       | 15600/56780 [3:55:45<3:09:39,  3.62it/s]  The following columns in the evaluation set  don't have a corresponding argument in `BertForSequenceClassification.forward` and have been ignored: sentense. If sentense are not expected by `BertForSequenceClassification.forward`,  you can safely ignore this message.\n",
      "***** Running Evaluation *****\n",
      "  Num examples = 2839\n",
      "  Batch size = 8\n",
      "                                                         \n",
      " 27%|██▋       | 15600/56780 [3:56:48<3:09:39,  3.62it/s]"
     ]
    },
    {
     "name": "stdout",
     "output_type": "stream",
     "text": [
      "{'eval_loss': 0.6257381439208984, 'eval_recall': 0.9513484928609202, 'eval_precision': 0.701091192517537, 'eval_runtime': 62.9761, 'eval_samples_per_second': 45.081, 'eval_steps_per_second': 5.637, 'epoch': 5.49}\n"
     ]
    },
    {
     "name": "stderr",
     "output_type": "stream",
     "text": [
      " 28%|██▊       | 15700/56780 [3:57:16<3:09:08,  3.62it/s]  The following columns in the evaluation set  don't have a corresponding argument in `BertForSequenceClassification.forward` and have been ignored: sentense. If sentense are not expected by `BertForSequenceClassification.forward`,  you can safely ignore this message.\n",
      "***** Running Evaluation *****\n",
      "  Num examples = 2839\n",
      "  Batch size = 8\n",
      "                                                         \n",
      " 28%|██▊       | 15700/56780 [3:58:19<3:09:08,  3.62it/s]"
     ]
    },
    {
     "name": "stdout",
     "output_type": "stream",
     "text": [
      "{'eval_loss': 0.6160141825675964, 'eval_recall': 0.9513484928609202, 'eval_precision': 0.701091192517537, 'eval_runtime': 63.1642, 'eval_samples_per_second': 44.946, 'eval_steps_per_second': 5.62, 'epoch': 5.53}\n"
     ]
    },
    {
     "name": "stderr",
     "output_type": "stream",
     "text": [
      " 28%|██▊       | 15800/56780 [3:58:47<3:08:11,  3.63it/s]  The following columns in the evaluation set  don't have a corresponding argument in `BertForSequenceClassification.forward` and have been ignored: sentense. If sentense are not expected by `BertForSequenceClassification.forward`,  you can safely ignore this message.\n",
      "***** Running Evaluation *****\n",
      "  Num examples = 2839\n",
      "  Batch size = 8\n",
      "                                                         \n",
      " 28%|██▊       | 15800/56780 [3:59:50<3:08:11,  3.63it/s]"
     ]
    },
    {
     "name": "stdout",
     "output_type": "stream",
     "text": [
      "{'eval_loss': 0.6152196526527405, 'eval_recall': 0.9513484928609202, 'eval_precision': 0.701091192517537, 'eval_runtime': 63.0157, 'eval_samples_per_second': 45.052, 'eval_steps_per_second': 5.634, 'epoch': 5.57}\n"
     ]
    },
    {
     "name": "stderr",
     "output_type": "stream",
     "text": [
      " 28%|██▊       | 15900/56780 [4:00:17<3:08:49,  3.61it/s]  The following columns in the evaluation set  don't have a corresponding argument in `BertForSequenceClassification.forward` and have been ignored: sentense. If sentense are not expected by `BertForSequenceClassification.forward`,  you can safely ignore this message.\n",
      "***** Running Evaluation *****\n",
      "  Num examples = 2839\n",
      "  Batch size = 8\n",
      "                                                         \n",
      " 28%|██▊       | 15900/56780 [4:01:20<3:08:49,  3.61it/s]"
     ]
    },
    {
     "name": "stdout",
     "output_type": "stream",
     "text": [
      "{'eval_loss': 0.6226871013641357, 'eval_recall': 0.9513484928609202, 'eval_precision': 0.701091192517537, 'eval_runtime': 62.9545, 'eval_samples_per_second': 45.096, 'eval_steps_per_second': 5.639, 'epoch': 5.6}\n"
     ]
    },
    {
     "name": "stderr",
     "output_type": "stream",
     "text": [
      " 28%|██▊       | 16000/56780 [4:01:48<3:50:38,  2.95it/s]  The following columns in the evaluation set  don't have a corresponding argument in `BertForSequenceClassification.forward` and have been ignored: sentense. If sentense are not expected by `BertForSequenceClassification.forward`,  you can safely ignore this message.\n",
      "***** Running Evaluation *****\n",
      "  Num examples = 2839\n",
      "  Batch size = 8\n"
     ]
    },
    {
     "name": "stdout",
     "output_type": "stream",
     "text": [
      "{'loss': 0.5952, 'learning_rate': 3.591053187742163e-05, 'epoch': 5.64}\n"
     ]
    },
    {
     "name": "stderr",
     "output_type": "stream",
     "text": [
      "                                                         \n",
      " 28%|██▊       | 16000/56780 [4:02:51<3:50:38,  2.95it/s]"
     ]
    },
    {
     "name": "stdout",
     "output_type": "stream",
     "text": [
      "{'eval_loss': 0.6203534007072449, 'eval_recall': 0.9513484928609202, 'eval_precision': 0.701091192517537, 'eval_runtime': 62.877, 'eval_samples_per_second': 45.152, 'eval_steps_per_second': 5.646, 'epoch': 5.64}\n"
     ]
    },
    {
     "name": "stderr",
     "output_type": "stream",
     "text": [
      " 28%|██▊       | 16100/56780 [4:03:19<3:06:35,  3.63it/s]  The following columns in the evaluation set  don't have a corresponding argument in `BertForSequenceClassification.forward` and have been ignored: sentense. If sentense are not expected by `BertForSequenceClassification.forward`,  you can safely ignore this message.\n",
      "***** Running Evaluation *****\n",
      "  Num examples = 2839\n",
      "  Batch size = 8\n",
      "                                                         \n",
      " 28%|██▊       | 16100/56780 [4:04:21<3:06:35,  3.63it/s]"
     ]
    },
    {
     "name": "stdout",
     "output_type": "stream",
     "text": [
      "{'eval_loss': 0.6173036694526672, 'eval_recall': 0.9513484928609202, 'eval_precision': 0.701091192517537, 'eval_runtime': 62.8802, 'eval_samples_per_second': 45.149, 'eval_steps_per_second': 5.646, 'epoch': 5.67}\n"
     ]
    },
    {
     "name": "stderr",
     "output_type": "stream",
     "text": [
      " 29%|██▊       | 16200/56780 [4:04:49<3:06:35,  3.62it/s]  The following columns in the evaluation set  don't have a corresponding argument in `BertForSequenceClassification.forward` and have been ignored: sentense. If sentense are not expected by `BertForSequenceClassification.forward`,  you can safely ignore this message.\n",
      "***** Running Evaluation *****\n",
      "  Num examples = 2839\n",
      "  Batch size = 8\n",
      "                                                         \n",
      " 29%|██▊       | 16200/56780 [4:05:52<3:06:35,  3.62it/s]"
     ]
    },
    {
     "name": "stdout",
     "output_type": "stream",
     "text": [
      "{'eval_loss': 0.6253274083137512, 'eval_recall': 0.9513484928609202, 'eval_precision': 0.701091192517537, 'eval_runtime': 62.9077, 'eval_samples_per_second': 45.13, 'eval_steps_per_second': 5.643, 'epoch': 5.71}\n"
     ]
    },
    {
     "name": "stderr",
     "output_type": "stream",
     "text": [
      " 29%|██▊       | 16300/56780 [4:06:20<3:05:35,  3.64it/s]  The following columns in the evaluation set  don't have a corresponding argument in `BertForSequenceClassification.forward` and have been ignored: sentense. If sentense are not expected by `BertForSequenceClassification.forward`,  you can safely ignore this message.\n",
      "***** Running Evaluation *****\n",
      "  Num examples = 2839\n",
      "  Batch size = 8\n",
      "                                                         \n",
      " 29%|██▊       | 16300/56780 [4:07:22<3:05:35,  3.64it/s]"
     ]
    },
    {
     "name": "stdout",
     "output_type": "stream",
     "text": [
      "{'eval_loss': 0.6138554215431213, 'eval_recall': 0.9513484928609202, 'eval_precision': 0.701091192517537, 'eval_runtime': 62.8568, 'eval_samples_per_second': 45.166, 'eval_steps_per_second': 5.648, 'epoch': 5.74}\n"
     ]
    },
    {
     "name": "stderr",
     "output_type": "stream",
     "text": [
      " 29%|██▉       | 16400/56780 [4:07:50<3:05:23,  3.63it/s]  The following columns in the evaluation set  don't have a corresponding argument in `BertForSequenceClassification.forward` and have been ignored: sentense. If sentense are not expected by `BertForSequenceClassification.forward`,  you can safely ignore this message.\n",
      "***** Running Evaluation *****\n",
      "  Num examples = 2839\n",
      "  Batch size = 8\n",
      "                                                         \n",
      " 29%|██▉       | 16400/56780 [4:08:53<3:05:23,  3.63it/s]"
     ]
    },
    {
     "name": "stdout",
     "output_type": "stream",
     "text": [
      "{'eval_loss': 0.6258609890937805, 'eval_recall': 0.9513484928609202, 'eval_precision': 0.701091192517537, 'eval_runtime': 62.832, 'eval_samples_per_second': 45.184, 'eval_steps_per_second': 5.65, 'epoch': 5.78}\n"
     ]
    },
    {
     "name": "stderr",
     "output_type": "stream",
     "text": [
      " 29%|██▉       | 16500/56780 [4:09:21<3:46:57,  2.96it/s]  The following columns in the evaluation set  don't have a corresponding argument in `BertForSequenceClassification.forward` and have been ignored: sentense. If sentense are not expected by `BertForSequenceClassification.forward`,  you can safely ignore this message.\n",
      "***** Running Evaluation *****\n",
      "  Num examples = 2839\n",
      "  Batch size = 8\n"
     ]
    },
    {
     "name": "stdout",
     "output_type": "stream",
     "text": [
      "{'loss': 0.6128, 'learning_rate': 3.5470235998591055e-05, 'epoch': 5.81}\n"
     ]
    },
    {
     "name": "stderr",
     "output_type": "stream",
     "text": [
      "                                                         \n",
      " 29%|██▉       | 16500/56780 [4:10:23<3:46:57,  2.96it/s]"
     ]
    },
    {
     "name": "stdout",
     "output_type": "stream",
     "text": [
      "{'eval_loss': 0.6177188754081726, 'eval_recall': 0.9513484928609202, 'eval_precision': 0.701091192517537, 'eval_runtime': 62.8244, 'eval_samples_per_second': 45.189, 'eval_steps_per_second': 5.651, 'epoch': 5.81}\n"
     ]
    },
    {
     "name": "stderr",
     "output_type": "stream",
     "text": [
      " 29%|██▉       | 16600/56780 [4:10:51<3:04:48,  3.62it/s]  The following columns in the evaluation set  don't have a corresponding argument in `BertForSequenceClassification.forward` and have been ignored: sentense. If sentense are not expected by `BertForSequenceClassification.forward`,  you can safely ignore this message.\n",
      "***** Running Evaluation *****\n",
      "  Num examples = 2839\n",
      "  Batch size = 8\n",
      "                                                         \n",
      " 29%|██▉       | 16600/56780 [4:11:54<3:04:48,  3.62it/s]"
     ]
    },
    {
     "name": "stdout",
     "output_type": "stream",
     "text": [
      "{'eval_loss': 0.6334309577941895, 'eval_recall': 0.9513484928609202, 'eval_precision': 0.701091192517537, 'eval_runtime': 62.8745, 'eval_samples_per_second': 45.153, 'eval_steps_per_second': 5.646, 'epoch': 5.85}\n"
     ]
    },
    {
     "name": "stderr",
     "output_type": "stream",
     "text": [
      " 29%|██▉       | 16700/56780 [4:12:21<3:03:39,  3.64it/s]  The following columns in the evaluation set  don't have a corresponding argument in `BertForSequenceClassification.forward` and have been ignored: sentense. If sentense are not expected by `BertForSequenceClassification.forward`,  you can safely ignore this message.\n",
      "***** Running Evaluation *****\n",
      "  Num examples = 2839\n",
      "  Batch size = 8\n",
      "                                                         \n",
      " 29%|██▉       | 16700/56780 [4:13:24<3:03:39,  3.64it/s]"
     ]
    },
    {
     "name": "stdout",
     "output_type": "stream",
     "text": [
      "{'eval_loss': 0.6191021203994751, 'eval_recall': 0.9513484928609202, 'eval_precision': 0.701091192517537, 'eval_runtime': 62.7947, 'eval_samples_per_second': 45.211, 'eval_steps_per_second': 5.653, 'epoch': 5.88}\n"
     ]
    },
    {
     "name": "stderr",
     "output_type": "stream",
     "text": [
      " 30%|██▉       | 16800/56780 [4:13:52<3:03:31,  3.63it/s]  The following columns in the evaluation set  don't have a corresponding argument in `BertForSequenceClassification.forward` and have been ignored: sentense. If sentense are not expected by `BertForSequenceClassification.forward`,  you can safely ignore this message.\n",
      "***** Running Evaluation *****\n",
      "  Num examples = 2839\n",
      "  Batch size = 8\n",
      "                                                         \n",
      " 30%|██▉       | 16800/56780 [4:14:55<3:03:31,  3.63it/s]"
     ]
    },
    {
     "name": "stdout",
     "output_type": "stream",
     "text": [
      "{'eval_loss': 0.6258288025856018, 'eval_recall': 0.9513484928609202, 'eval_precision': 0.701091192517537, 'eval_runtime': 62.8292, 'eval_samples_per_second': 45.186, 'eval_steps_per_second': 5.65, 'epoch': 5.92}\n"
     ]
    },
    {
     "name": "stderr",
     "output_type": "stream",
     "text": [
      " 30%|██▉       | 16900/56780 [4:15:22<3:03:09,  3.63it/s]  The following columns in the evaluation set  don't have a corresponding argument in `BertForSequenceClassification.forward` and have been ignored: sentense. If sentense are not expected by `BertForSequenceClassification.forward`,  you can safely ignore this message.\n",
      "***** Running Evaluation *****\n",
      "  Num examples = 2839\n",
      "  Batch size = 8\n",
      "                                                         \n",
      " 30%|██▉       | 16900/56780 [4:16:25<3:03:09,  3.63it/s]"
     ]
    },
    {
     "name": "stdout",
     "output_type": "stream",
     "text": [
      "{'eval_loss': 0.6156287789344788, 'eval_recall': 0.9513484928609202, 'eval_precision': 0.701091192517537, 'eval_runtime': 62.8605, 'eval_samples_per_second': 45.164, 'eval_steps_per_second': 5.647, 'epoch': 5.95}\n"
     ]
    },
    {
     "name": "stderr",
     "output_type": "stream",
     "text": [
      " 30%|██▉       | 17000/56780 [4:16:53<3:45:54,  2.93it/s]  The following columns in the evaluation set  don't have a corresponding argument in `BertForSequenceClassification.forward` and have been ignored: sentense. If sentense are not expected by `BertForSequenceClassification.forward`,  you can safely ignore this message.\n",
      "***** Running Evaluation *****\n",
      "  Num examples = 2839\n",
      "  Batch size = 8\n"
     ]
    },
    {
     "name": "stdout",
     "output_type": "stream",
     "text": [
      "{'loss': 0.5968, 'learning_rate': 3.502994011976048e-05, 'epoch': 5.99}\n"
     ]
    },
    {
     "name": "stderr",
     "output_type": "stream",
     "text": [
      "                                                         \n",
      " 30%|██▉       | 17000/56780 [4:17:56<3:45:54,  2.93it/s]"
     ]
    },
    {
     "name": "stdout",
     "output_type": "stream",
     "text": [
      "{'eval_loss': 0.6164537072181702, 'eval_recall': 0.9513484928609202, 'eval_precision': 0.701091192517537, 'eval_runtime': 62.8598, 'eval_samples_per_second': 45.164, 'eval_steps_per_second': 5.647, 'epoch': 5.99}\n"
     ]
    },
    {
     "name": "stderr",
     "output_type": "stream",
     "text": [
      " 30%|███       | 17100/56780 [4:18:23<3:02:20,  3.63it/s]  The following columns in the evaluation set  don't have a corresponding argument in `BertForSequenceClassification.forward` and have been ignored: sentense. If sentense are not expected by `BertForSequenceClassification.forward`,  you can safely ignore this message.\n",
      "***** Running Evaluation *****\n",
      "  Num examples = 2839\n",
      "  Batch size = 8\n",
      "                                                         \n",
      " 30%|███       | 17100/56780 [4:19:26<3:02:20,  3.63it/s]"
     ]
    },
    {
     "name": "stdout",
     "output_type": "stream",
     "text": [
      "{'eval_loss': 0.6441256403923035, 'eval_recall': 0.9513484928609202, 'eval_precision': 0.701091192517537, 'eval_runtime': 62.9636, 'eval_samples_per_second': 45.09, 'eval_steps_per_second': 5.638, 'epoch': 6.02}\n"
     ]
    },
    {
     "name": "stderr",
     "output_type": "stream",
     "text": [
      " 30%|███       | 17200/56780 [4:19:54<3:01:49,  3.63it/s]  The following columns in the evaluation set  don't have a corresponding argument in `BertForSequenceClassification.forward` and have been ignored: sentense. If sentense are not expected by `BertForSequenceClassification.forward`,  you can safely ignore this message.\n",
      "***** Running Evaluation *****\n",
      "  Num examples = 2839\n",
      "  Batch size = 8\n",
      "                                                         \n",
      " 30%|███       | 17200/56780 [4:20:57<3:01:49,  3.63it/s]"
     ]
    },
    {
     "name": "stdout",
     "output_type": "stream",
     "text": [
      "{'eval_loss': 0.6151926517486572, 'eval_recall': 0.9513484928609202, 'eval_precision': 0.701091192517537, 'eval_runtime': 62.9207, 'eval_samples_per_second': 45.12, 'eval_steps_per_second': 5.642, 'epoch': 6.06}\n"
     ]
    },
    {
     "name": "stderr",
     "output_type": "stream",
     "text": [
      " 30%|███       | 17300/56780 [4:21:24<3:01:52,  3.62it/s]  The following columns in the evaluation set  don't have a corresponding argument in `BertForSequenceClassification.forward` and have been ignored: sentense. If sentense are not expected by `BertForSequenceClassification.forward`,  you can safely ignore this message.\n",
      "***** Running Evaluation *****\n",
      "  Num examples = 2839\n",
      "  Batch size = 8\n",
      "                                                         \n",
      " 30%|███       | 17300/56780 [4:22:27<3:01:52,  3.62it/s]"
     ]
    },
    {
     "name": "stdout",
     "output_type": "stream",
     "text": [
      "{'eval_loss': 0.6176044344902039, 'eval_recall': 0.9513484928609202, 'eval_precision': 0.701091192517537, 'eval_runtime': 62.8746, 'eval_samples_per_second': 45.153, 'eval_steps_per_second': 5.646, 'epoch': 6.09}\n"
     ]
    },
    {
     "name": "stderr",
     "output_type": "stream",
     "text": [
      " 31%|███       | 17400/56780 [4:22:55<3:00:22,  3.64it/s]  The following columns in the evaluation set  don't have a corresponding argument in `BertForSequenceClassification.forward` and have been ignored: sentense. If sentense are not expected by `BertForSequenceClassification.forward`,  you can safely ignore this message.\n",
      "***** Running Evaluation *****\n",
      "  Num examples = 2839\n",
      "  Batch size = 8\n",
      "                                                         \n",
      " 31%|███       | 17400/56780 [4:23:57<3:00:22,  3.64it/s]"
     ]
    },
    {
     "name": "stdout",
     "output_type": "stream",
     "text": [
      "{'eval_loss': 0.625140368938446, 'eval_recall': 0.9513484928609202, 'eval_precision': 0.701091192517537, 'eval_runtime': 62.8876, 'eval_samples_per_second': 45.144, 'eval_steps_per_second': 5.645, 'epoch': 6.13}\n"
     ]
    },
    {
     "name": "stderr",
     "output_type": "stream",
     "text": [
      " 31%|███       | 17500/56780 [4:24:25<3:42:17,  2.95it/s]  The following columns in the evaluation set  don't have a corresponding argument in `BertForSequenceClassification.forward` and have been ignored: sentense. If sentense are not expected by `BertForSequenceClassification.forward`,  you can safely ignore this message.\n",
      "***** Running Evaluation *****\n",
      "  Num examples = 2839\n",
      "  Batch size = 8\n"
     ]
    },
    {
     "name": "stdout",
     "output_type": "stream",
     "text": [
      "{'loss': 0.5839, 'learning_rate': 3.458964424092991e-05, 'epoch': 6.16}\n"
     ]
    },
    {
     "name": "stderr",
     "output_type": "stream",
     "text": [
      "                                                         \n",
      " 31%|███       | 17500/56780 [4:25:28<3:42:17,  2.95it/s]"
     ]
    },
    {
     "name": "stdout",
     "output_type": "stream",
     "text": [
      "{'eval_loss': 0.6178848743438721, 'eval_recall': 0.9513484928609202, 'eval_precision': 0.701091192517537, 'eval_runtime': 63.0005, 'eval_samples_per_second': 45.063, 'eval_steps_per_second': 5.635, 'epoch': 6.16}\n"
     ]
    },
    {
     "name": "stderr",
     "output_type": "stream",
     "text": [
      " 31%|███       | 17600/56780 [4:25:56<3:00:02,  3.63it/s]  The following columns in the evaluation set  don't have a corresponding argument in `BertForSequenceClassification.forward` and have been ignored: sentense. If sentense are not expected by `BertForSequenceClassification.forward`,  you can safely ignore this message.\n",
      "***** Running Evaluation *****\n",
      "  Num examples = 2839\n",
      "  Batch size = 8\n",
      "                                                         \n",
      " 31%|███       | 17600/56780 [4:26:59<3:00:02,  3.63it/s]"
     ]
    },
    {
     "name": "stdout",
     "output_type": "stream",
     "text": [
      "{'eval_loss': 0.6222096085548401, 'eval_recall': 0.9513484928609202, 'eval_precision': 0.701091192517537, 'eval_runtime': 62.8816, 'eval_samples_per_second': 45.148, 'eval_steps_per_second': 5.646, 'epoch': 6.2}\n"
     ]
    },
    {
     "name": "stderr",
     "output_type": "stream",
     "text": [
      " 31%|███       | 17700/56780 [4:27:26<2:59:16,  3.63it/s]  The following columns in the evaluation set  don't have a corresponding argument in `BertForSequenceClassification.forward` and have been ignored: sentense. If sentense are not expected by `BertForSequenceClassification.forward`,  you can safely ignore this message.\n",
      "***** Running Evaluation *****\n",
      "  Num examples = 2839\n",
      "  Batch size = 8\n",
      "                                                         \n",
      " 31%|███       | 17700/56780 [4:28:29<2:59:16,  3.63it/s]"
     ]
    },
    {
     "name": "stdout",
     "output_type": "stream",
     "text": [
      "{'eval_loss': 0.6306679248809814, 'eval_recall': 0.9513484928609202, 'eval_precision': 0.701091192517537, 'eval_runtime': 62.8289, 'eval_samples_per_second': 45.186, 'eval_steps_per_second': 5.65, 'epoch': 6.23}\n"
     ]
    },
    {
     "name": "stderr",
     "output_type": "stream",
     "text": [
      " 31%|███▏      | 17800/56780 [4:28:57<2:59:46,  3.61it/s]  The following columns in the evaluation set  don't have a corresponding argument in `BertForSequenceClassification.forward` and have been ignored: sentense. If sentense are not expected by `BertForSequenceClassification.forward`,  you can safely ignore this message.\n",
      "***** Running Evaluation *****\n",
      "  Num examples = 2839\n",
      "  Batch size = 8\n",
      "                                                         \n",
      " 31%|███▏      | 17800/56780 [4:29:59<2:59:46,  3.61it/s]"
     ]
    },
    {
     "name": "stdout",
     "output_type": "stream",
     "text": [
      "{'eval_loss': 0.621249258518219, 'eval_recall': 0.9513484928609202, 'eval_precision': 0.701091192517537, 'eval_runtime': 62.8337, 'eval_samples_per_second': 45.183, 'eval_steps_per_second': 5.65, 'epoch': 6.27}\n"
     ]
    },
    {
     "name": "stderr",
     "output_type": "stream",
     "text": [
      " 32%|███▏      | 17900/56780 [4:30:27<2:58:24,  3.63it/s]  The following columns in the evaluation set  don't have a corresponding argument in `BertForSequenceClassification.forward` and have been ignored: sentense. If sentense are not expected by `BertForSequenceClassification.forward`,  you can safely ignore this message.\n",
      "***** Running Evaluation *****\n",
      "  Num examples = 2839\n",
      "  Batch size = 8\n",
      "                                                         \n",
      " 32%|███▏      | 17900/56780 [4:31:30<2:58:24,  3.63it/s]"
     ]
    },
    {
     "name": "stdout",
     "output_type": "stream",
     "text": [
      "{'eval_loss': 0.6403132081031799, 'eval_recall': 0.9513484928609202, 'eval_precision': 0.701091192517537, 'eval_runtime': 62.8654, 'eval_samples_per_second': 45.16, 'eval_steps_per_second': 5.647, 'epoch': 6.31}\n"
     ]
    },
    {
     "name": "stderr",
     "output_type": "stream",
     "text": [
      " 32%|███▏      | 18000/56780 [4:31:58<3:40:05,  2.94it/s]  The following columns in the evaluation set  don't have a corresponding argument in `BertForSequenceClassification.forward` and have been ignored: sentense. If sentense are not expected by `BertForSequenceClassification.forward`,  you can safely ignore this message.\n",
      "***** Running Evaluation *****\n",
      "  Num examples = 2839\n",
      "  Batch size = 8\n"
     ]
    },
    {
     "name": "stdout",
     "output_type": "stream",
     "text": [
      "{'loss': 0.604, 'learning_rate': 3.4149348362099334e-05, 'epoch': 6.34}\n"
     ]
    },
    {
     "name": "stderr",
     "output_type": "stream",
     "text": [
      "                                                         \n",
      " 32%|███▏      | 18000/56780 [4:33:01<3:40:05,  2.94it/s]"
     ]
    },
    {
     "name": "stdout",
     "output_type": "stream",
     "text": [
      "{'eval_loss': 0.6169983148574829, 'eval_recall': 0.9513484928609202, 'eval_precision': 0.701091192517537, 'eval_runtime': 62.8658, 'eval_samples_per_second': 45.16, 'eval_steps_per_second': 5.647, 'epoch': 6.34}\n"
     ]
    },
    {
     "name": "stderr",
     "output_type": "stream",
     "text": [
      " 32%|███▏      | 18100/56780 [4:33:28<2:57:34,  3.63it/s]  The following columns in the evaluation set  don't have a corresponding argument in `BertForSequenceClassification.forward` and have been ignored: sentense. If sentense are not expected by `BertForSequenceClassification.forward`,  you can safely ignore this message.\n",
      "***** Running Evaluation *****\n",
      "  Num examples = 2839\n",
      "  Batch size = 8\n",
      "                                                         \n",
      " 32%|███▏      | 18100/56780 [4:34:31<2:57:34,  3.63it/s]"
     ]
    },
    {
     "name": "stdout",
     "output_type": "stream",
     "text": [
      "{'eval_loss': 0.6128847002983093, 'eval_recall': 0.9513484928609202, 'eval_precision': 0.701091192517537, 'eval_runtime': 62.8668, 'eval_samples_per_second': 45.159, 'eval_steps_per_second': 5.647, 'epoch': 6.38}\n"
     ]
    },
    {
     "name": "stderr",
     "output_type": "stream",
     "text": [
      " 32%|███▏      | 18200/56780 [4:34:59<2:56:45,  3.64it/s]  The following columns in the evaluation set  don't have a corresponding argument in `BertForSequenceClassification.forward` and have been ignored: sentense. If sentense are not expected by `BertForSequenceClassification.forward`,  you can safely ignore this message.\n",
      "***** Running Evaluation *****\n",
      "  Num examples = 2839\n",
      "  Batch size = 8\n",
      "                                                         \n",
      " 32%|███▏      | 18200/56780 [4:36:01<2:56:45,  3.64it/s]"
     ]
    },
    {
     "name": "stdout",
     "output_type": "stream",
     "text": [
      "{'eval_loss': 0.6192952394485474, 'eval_recall': 0.9513484928609202, 'eval_precision': 0.701091192517537, 'eval_runtime': 62.9097, 'eval_samples_per_second': 45.128, 'eval_steps_per_second': 5.643, 'epoch': 6.41}\n"
     ]
    },
    {
     "name": "stderr",
     "output_type": "stream",
     "text": [
      " 32%|███▏      | 18300/56780 [4:36:29<2:57:18,  3.62it/s]  The following columns in the evaluation set  don't have a corresponding argument in `BertForSequenceClassification.forward` and have been ignored: sentense. If sentense are not expected by `BertForSequenceClassification.forward`,  you can safely ignore this message.\n",
      "***** Running Evaluation *****\n",
      "  Num examples = 2839\n",
      "  Batch size = 8\n",
      "                                                         \n",
      " 32%|███▏      | 18300/56780 [4:37:32<2:57:18,  3.62it/s]"
     ]
    },
    {
     "name": "stdout",
     "output_type": "stream",
     "text": [
      "{'eval_loss': 0.6280229687690735, 'eval_recall': 0.9513484928609202, 'eval_precision': 0.701091192517537, 'eval_runtime': 62.884, 'eval_samples_per_second': 45.147, 'eval_steps_per_second': 5.645, 'epoch': 6.45}\n"
     ]
    },
    {
     "name": "stderr",
     "output_type": "stream",
     "text": [
      " 32%|███▏      | 18400/56780 [4:38:00<2:56:28,  3.62it/s]  The following columns in the evaluation set  don't have a corresponding argument in `BertForSequenceClassification.forward` and have been ignored: sentense. If sentense are not expected by `BertForSequenceClassification.forward`,  you can safely ignore this message.\n",
      "***** Running Evaluation *****\n",
      "  Num examples = 2839\n",
      "  Batch size = 8\n",
      "                                                         \n",
      " 32%|███▏      | 18400/56780 [4:39:03<2:56:28,  3.62it/s]"
     ]
    },
    {
     "name": "stdout",
     "output_type": "stream",
     "text": [
      "{'eval_loss': 0.6145726442337036, 'eval_recall': 0.9513484928609202, 'eval_precision': 0.701091192517537, 'eval_runtime': 63.0149, 'eval_samples_per_second': 45.053, 'eval_steps_per_second': 5.634, 'epoch': 6.48}\n"
     ]
    },
    {
     "name": "stderr",
     "output_type": "stream",
     "text": [
      " 33%|███▎      | 18500/56780 [4:39:30<3:37:40,  2.93it/s]  The following columns in the evaluation set  don't have a corresponding argument in `BertForSequenceClassification.forward` and have been ignored: sentense. If sentense are not expected by `BertForSequenceClassification.forward`,  you can safely ignore this message.\n",
      "***** Running Evaluation *****\n",
      "  Num examples = 2839\n",
      "  Batch size = 8\n"
     ]
    },
    {
     "name": "stdout",
     "output_type": "stream",
     "text": [
      "{'loss': 0.6053, 'learning_rate': 3.370905248326876e-05, 'epoch': 6.52}\n"
     ]
    },
    {
     "name": "stderr",
     "output_type": "stream",
     "text": [
      "                                                         \n",
      " 33%|███▎      | 18500/56780 [4:40:33<3:37:40,  2.93it/s]"
     ]
    },
    {
     "name": "stdout",
     "output_type": "stream",
     "text": [
      "{'eval_loss': 0.613944947719574, 'eval_recall': 0.9513484928609202, 'eval_precision': 0.701091192517537, 'eval_runtime': 62.9957, 'eval_samples_per_second': 45.067, 'eval_steps_per_second': 5.635, 'epoch': 6.52}\n"
     ]
    },
    {
     "name": "stderr",
     "output_type": "stream",
     "text": [
      " 33%|███▎      | 18600/56780 [4:41:01<2:55:24,  3.63it/s]  The following columns in the evaluation set  don't have a corresponding argument in `BertForSequenceClassification.forward` and have been ignored: sentense. If sentense are not expected by `BertForSequenceClassification.forward`,  you can safely ignore this message.\n",
      "***** Running Evaluation *****\n",
      "  Num examples = 2839\n",
      "  Batch size = 8\n",
      "                                                         \n",
      " 33%|███▎      | 18600/56780 [4:42:04<2:55:24,  3.63it/s]"
     ]
    },
    {
     "name": "stdout",
     "output_type": "stream",
     "text": [
      "{'eval_loss': 0.6184768080711365, 'eval_recall': 0.9513484928609202, 'eval_precision': 0.701091192517537, 'eval_runtime': 62.9385, 'eval_samples_per_second': 45.108, 'eval_steps_per_second': 5.64, 'epoch': 6.55}\n"
     ]
    },
    {
     "name": "stderr",
     "output_type": "stream",
     "text": [
      " 33%|███▎      | 18700/56780 [4:42:32<2:54:44,  3.63it/s]  The following columns in the evaluation set  don't have a corresponding argument in `BertForSequenceClassification.forward` and have been ignored: sentense. If sentense are not expected by `BertForSequenceClassification.forward`,  you can safely ignore this message.\n",
      "***** Running Evaluation *****\n",
      "  Num examples = 2839\n",
      "  Batch size = 8\n",
      "                                                         \n",
      " 33%|███▎      | 18700/56780 [4:43:35<2:54:44,  3.63it/s]"
     ]
    },
    {
     "name": "stdout",
     "output_type": "stream",
     "text": [
      "{'eval_loss': 0.6149088740348816, 'eval_recall': 0.9513484928609202, 'eval_precision': 0.701091192517537, 'eval_runtime': 63.0728, 'eval_samples_per_second': 45.011, 'eval_steps_per_second': 5.628, 'epoch': 6.59}\n"
     ]
    },
    {
     "name": "stderr",
     "output_type": "stream",
     "text": [
      " 33%|███▎      | 18800/56780 [4:44:02<2:54:35,  3.63it/s]  The following columns in the evaluation set  don't have a corresponding argument in `BertForSequenceClassification.forward` and have been ignored: sentense. If sentense are not expected by `BertForSequenceClassification.forward`,  you can safely ignore this message.\n",
      "***** Running Evaluation *****\n",
      "  Num examples = 2839\n",
      "  Batch size = 8\n",
      "                                                         \n",
      " 33%|███▎      | 18800/56780 [4:45:05<2:54:35,  3.63it/s]"
     ]
    },
    {
     "name": "stdout",
     "output_type": "stream",
     "text": [
      "{'eval_loss': 0.6130234599113464, 'eval_recall': 0.9513484928609202, 'eval_precision': 0.701091192517537, 'eval_runtime': 62.9994, 'eval_samples_per_second': 45.064, 'eval_steps_per_second': 5.635, 'epoch': 6.62}\n"
     ]
    },
    {
     "name": "stderr",
     "output_type": "stream",
     "text": [
      " 33%|███▎      | 18900/56780 [4:45:33<2:54:37,  3.62it/s]  The following columns in the evaluation set  don't have a corresponding argument in `BertForSequenceClassification.forward` and have been ignored: sentense. If sentense are not expected by `BertForSequenceClassification.forward`,  you can safely ignore this message.\n",
      "***** Running Evaluation *****\n",
      "  Num examples = 2839\n",
      "  Batch size = 8\n",
      "                                                         \n",
      " 33%|███▎      | 18900/56780 [4:46:36<2:54:37,  3.62it/s]"
     ]
    },
    {
     "name": "stdout",
     "output_type": "stream",
     "text": [
      "{'eval_loss': 0.6176029443740845, 'eval_recall': 0.9513484928609202, 'eval_precision': 0.701091192517537, 'eval_runtime': 63.06, 'eval_samples_per_second': 45.021, 'eval_steps_per_second': 5.63, 'epoch': 6.66}\n"
     ]
    },
    {
     "name": "stderr",
     "output_type": "stream",
     "text": [
      " 33%|███▎      | 19000/56780 [4:47:04<3:33:15,  2.95it/s]  The following columns in the evaluation set  don't have a corresponding argument in `BertForSequenceClassification.forward` and have been ignored: sentense. If sentense are not expected by `BertForSequenceClassification.forward`,  you can safely ignore this message.\n",
      "***** Running Evaluation *****\n",
      "  Num examples = 2839\n",
      "  Batch size = 8\n"
     ]
    },
    {
     "name": "stdout",
     "output_type": "stream",
     "text": [
      "{'loss': 0.6251, 'learning_rate': 3.326875660443819e-05, 'epoch': 6.69}\n"
     ]
    },
    {
     "name": "stderr",
     "output_type": "stream",
     "text": [
      "                                                         \n",
      " 33%|███▎      | 19000/56780 [4:48:07<3:33:15,  2.95it/s]"
     ]
    },
    {
     "name": "stdout",
     "output_type": "stream",
     "text": [
      "{'eval_loss': 0.6134359836578369, 'eval_recall': 0.9518773135906927, 'eval_precision': 0.7012076353720296, 'eval_runtime': 62.8965, 'eval_samples_per_second': 45.138, 'eval_steps_per_second': 5.644, 'epoch': 6.69}\n"
     ]
    },
    {
     "name": "stderr",
     "output_type": "stream",
     "text": [
      " 34%|███▎      | 19100/56780 [4:48:34<2:53:53,  3.61it/s]  The following columns in the evaluation set  don't have a corresponding argument in `BertForSequenceClassification.forward` and have been ignored: sentense. If sentense are not expected by `BertForSequenceClassification.forward`,  you can safely ignore this message.\n",
      "***** Running Evaluation *****\n",
      "  Num examples = 2839\n",
      "  Batch size = 8\n",
      "                                                         \n",
      " 34%|███▎      | 19100/56780 [4:49:37<2:53:53,  3.61it/s]"
     ]
    },
    {
     "name": "stdout",
     "output_type": "stream",
     "text": [
      "{'eval_loss': 0.6162896156311035, 'eval_recall': 0.9518773135906927, 'eval_precision': 0.7012076353720296, 'eval_runtime': 62.925, 'eval_samples_per_second': 45.117, 'eval_steps_per_second': 5.642, 'epoch': 6.73}\n"
     ]
    },
    {
     "name": "stderr",
     "output_type": "stream",
     "text": [
      " 34%|███▍      | 19200/56780 [4:50:05<2:52:53,  3.62it/s]  The following columns in the evaluation set  don't have a corresponding argument in `BertForSequenceClassification.forward` and have been ignored: sentense. If sentense are not expected by `BertForSequenceClassification.forward`,  you can safely ignore this message.\n",
      "***** Running Evaluation *****\n",
      "  Num examples = 2839\n",
      "  Batch size = 8\n",
      "                                                         \n",
      " 34%|███▍      | 19200/56780 [4:51:08<2:52:53,  3.62it/s]"
     ]
    },
    {
     "name": "stdout",
     "output_type": "stream",
     "text": [
      "{'eval_loss': 0.6200365424156189, 'eval_recall': 0.9518773135906927, 'eval_precision': 0.7012076353720296, 'eval_runtime': 62.9553, 'eval_samples_per_second': 45.096, 'eval_steps_per_second': 5.639, 'epoch': 6.76}\n"
     ]
    },
    {
     "name": "stderr",
     "output_type": "stream",
     "text": [
      " 34%|███▍      | 19300/56780 [4:51:35<2:52:17,  3.63it/s]  The following columns in the evaluation set  don't have a corresponding argument in `BertForSequenceClassification.forward` and have been ignored: sentense. If sentense are not expected by `BertForSequenceClassification.forward`,  you can safely ignore this message.\n",
      "***** Running Evaluation *****\n",
      "  Num examples = 2839\n",
      "  Batch size = 8\n",
      "                                                         \n",
      " 34%|███▍      | 19300/56780 [4:52:38<2:52:17,  3.63it/s]"
     ]
    },
    {
     "name": "stdout",
     "output_type": "stream",
     "text": [
      "{'eval_loss': 0.61346435546875, 'eval_recall': 0.9518773135906927, 'eval_precision': 0.7012076353720296, 'eval_runtime': 62.8365, 'eval_samples_per_second': 45.181, 'eval_steps_per_second': 5.65, 'epoch': 6.8}\n"
     ]
    },
    {
     "name": "stderr",
     "output_type": "stream",
     "text": [
      " 34%|███▍      | 19400/56780 [4:53:06<2:51:44,  3.63it/s]  The following columns in the evaluation set  don't have a corresponding argument in `BertForSequenceClassification.forward` and have been ignored: sentense. If sentense are not expected by `BertForSequenceClassification.forward`,  you can safely ignore this message.\n",
      "***** Running Evaluation *****\n",
      "  Num examples = 2839\n",
      "  Batch size = 8\n",
      "                                                         \n",
      " 34%|███▍      | 19400/56780 [4:54:09<2:51:44,  3.63it/s]"
     ]
    },
    {
     "name": "stdout",
     "output_type": "stream",
     "text": [
      "{'eval_loss': 0.6128708720207214, 'eval_recall': 0.9518773135906927, 'eval_precision': 0.7012076353720296, 'eval_runtime': 62.8554, 'eval_samples_per_second': 45.167, 'eval_steps_per_second': 5.648, 'epoch': 6.83}\n"
     ]
    },
    {
     "name": "stderr",
     "output_type": "stream",
     "text": [
      " 34%|███▍      | 19500/56780 [4:54:36<3:30:27,  2.95it/s]  The following columns in the evaluation set  don't have a corresponding argument in `BertForSequenceClassification.forward` and have been ignored: sentense. If sentense are not expected by `BertForSequenceClassification.forward`,  you can safely ignore this message.\n",
      "***** Running Evaluation *****\n",
      "  Num examples = 2839\n",
      "  Batch size = 8\n"
     ]
    },
    {
     "name": "stdout",
     "output_type": "stream",
     "text": [
      "{'loss': 0.6065, 'learning_rate': 3.282846072560761e-05, 'epoch': 6.87}\n"
     ]
    },
    {
     "name": "stderr",
     "output_type": "stream",
     "text": [
      "                                                         \n",
      " 34%|███▍      | 19500/56780 [4:55:39<3:30:27,  2.95it/s]"
     ]
    },
    {
     "name": "stdout",
     "output_type": "stream",
     "text": [
      "{'eval_loss': 0.6167258024215698, 'eval_recall': 0.9518773135906927, 'eval_precision': 0.7012076353720296, 'eval_runtime': 62.7813, 'eval_samples_per_second': 45.22, 'eval_steps_per_second': 5.655, 'epoch': 6.87}\n"
     ]
    },
    {
     "name": "stderr",
     "output_type": "stream",
     "text": [
      " 35%|███▍      | 19600/56780 [4:56:07<2:50:40,  3.63it/s]  The following columns in the evaluation set  don't have a corresponding argument in `BertForSequenceClassification.forward` and have been ignored: sentense. If sentense are not expected by `BertForSequenceClassification.forward`,  you can safely ignore this message.\n",
      "***** Running Evaluation *****\n",
      "  Num examples = 2839\n",
      "  Batch size = 8\n",
      "                                                         \n",
      " 35%|███▍      | 19600/56780 [4:57:09<2:50:40,  3.63it/s]"
     ]
    },
    {
     "name": "stdout",
     "output_type": "stream",
     "text": [
      "{'eval_loss': 0.6188759207725525, 'eval_recall': 0.9518773135906927, 'eval_precision': 0.7012076353720296, 'eval_runtime': 62.8342, 'eval_samples_per_second': 45.182, 'eval_steps_per_second': 5.65, 'epoch': 6.9}\n"
     ]
    },
    {
     "name": "stderr",
     "output_type": "stream",
     "text": [
      " 35%|███▍      | 19700/56780 [4:57:37<2:50:34,  3.62it/s]  The following columns in the evaluation set  don't have a corresponding argument in `BertForSequenceClassification.forward` and have been ignored: sentense. If sentense are not expected by `BertForSequenceClassification.forward`,  you can safely ignore this message.\n",
      "***** Running Evaluation *****\n",
      "  Num examples = 2839\n",
      "  Batch size = 8\n",
      "                                                         \n",
      " 35%|███▍      | 19700/56780 [4:58:40<2:50:34,  3.62it/s]"
     ]
    },
    {
     "name": "stdout",
     "output_type": "stream",
     "text": [
      "{'eval_loss': 0.6160776615142822, 'eval_recall': 0.9518773135906927, 'eval_precision': 0.7012076353720296, 'eval_runtime': 62.9134, 'eval_samples_per_second': 45.126, 'eval_steps_per_second': 5.643, 'epoch': 6.94}\n"
     ]
    },
    {
     "name": "stderr",
     "output_type": "stream",
     "text": [
      " 35%|███▍      | 19800/56780 [4:59:08<2:49:34,  3.63it/s]  The following columns in the evaluation set  don't have a corresponding argument in `BertForSequenceClassification.forward` and have been ignored: sentense. If sentense are not expected by `BertForSequenceClassification.forward`,  you can safely ignore this message.\n",
      "***** Running Evaluation *****\n",
      "  Num examples = 2839\n",
      "  Batch size = 8\n",
      "                                                         \n",
      " 35%|███▍      | 19800/56780 [5:00:10<2:49:34,  3.63it/s]"
     ]
    },
    {
     "name": "stdout",
     "output_type": "stream",
     "text": [
      "{'eval_loss': 0.6208704113960266, 'eval_recall': 0.9518773135906927, 'eval_precision': 0.7012076353720296, 'eval_runtime': 62.9603, 'eval_samples_per_second': 45.092, 'eval_steps_per_second': 5.638, 'epoch': 6.97}\n"
     ]
    },
    {
     "name": "stderr",
     "output_type": "stream",
     "text": [
      " 35%|███▌      | 19900/56780 [5:00:38<2:50:17,  3.61it/s]  The following columns in the evaluation set  don't have a corresponding argument in `BertForSequenceClassification.forward` and have been ignored: sentense. If sentense are not expected by `BertForSequenceClassification.forward`,  you can safely ignore this message.\n",
      "***** Running Evaluation *****\n",
      "  Num examples = 2839\n",
      "  Batch size = 8\n",
      "                                                         \n",
      " 35%|███▌      | 19900/56780 [5:01:41<2:50:17,  3.61it/s]"
     ]
    },
    {
     "name": "stdout",
     "output_type": "stream",
     "text": [
      "{'eval_loss': 0.6208853125572205, 'eval_recall': 0.9518773135906927, 'eval_precision': 0.7012076353720296, 'eval_runtime': 62.9889, 'eval_samples_per_second': 45.071, 'eval_steps_per_second': 5.636, 'epoch': 7.01}\n"
     ]
    },
    {
     "name": "stderr",
     "output_type": "stream",
     "text": [
      " 35%|███▌      | 20000/56780 [5:02:09<3:31:25,  2.90it/s]  The following columns in the evaluation set  don't have a corresponding argument in `BertForSequenceClassification.forward` and have been ignored: sentense. If sentense are not expected by `BertForSequenceClassification.forward`,  you can safely ignore this message.\n",
      "***** Running Evaluation *****\n",
      "  Num examples = 2839\n",
      "  Batch size = 8\n"
     ]
    },
    {
     "name": "stdout",
     "output_type": "stream",
     "text": [
      "{'loss': 0.599, 'learning_rate': 3.238816484677704e-05, 'epoch': 7.04}\n"
     ]
    },
    {
     "name": "stderr",
     "output_type": "stream",
     "text": [
      "                                                         \n",
      " 35%|███▌      | 20000/56780 [5:03:12<3:31:25,  2.90it/s]Saving model checkpoint to bert-classifier-trainer\\checkpoint-20000\n",
      "Configuration saved in bert-classifier-trainer\\checkpoint-20000\\config.json\n"
     ]
    },
    {
     "name": "stdout",
     "output_type": "stream",
     "text": [
      "{'eval_loss': 0.6450797319412231, 'eval_recall': 0.9518773135906927, 'eval_precision': 0.7012076353720296, 'eval_runtime': 62.9893, 'eval_samples_per_second': 45.071, 'eval_steps_per_second': 5.636, 'epoch': 7.04}\n"
     ]
    },
    {
     "name": "stderr",
     "output_type": "stream",
     "text": [
      "Model weights saved in bert-classifier-trainer\\checkpoint-20000\\pytorch_model.bin\n",
      " 35%|███▌      | 20100/56780 [5:03:44<2:47:51,  3.64it/s]  The following columns in the evaluation set  don't have a corresponding argument in `BertForSequenceClassification.forward` and have been ignored: sentense. If sentense are not expected by `BertForSequenceClassification.forward`,  you can safely ignore this message.\n",
      "***** Running Evaluation *****\n",
      "  Num examples = 2839\n",
      "  Batch size = 8\n",
      "                                                         \n",
      " 35%|███▌      | 20100/56780 [5:04:47<2:47:51,  3.64it/s]"
     ]
    },
    {
     "name": "stdout",
     "output_type": "stream",
     "text": [
      "{'eval_loss': 0.6497597098350525, 'eval_recall': 0.9518773135906927, 'eval_precision': 0.7012076353720296, 'eval_runtime': 63.0037, 'eval_samples_per_second': 45.061, 'eval_steps_per_second': 5.635, 'epoch': 7.08}\n"
     ]
    },
    {
     "name": "stderr",
     "output_type": "stream",
     "text": [
      " 36%|███▌      | 20200/56780 [5:05:15<2:51:01,  3.56it/s]  The following columns in the evaluation set  don't have a corresponding argument in `BertForSequenceClassification.forward` and have been ignored: sentense. If sentense are not expected by `BertForSequenceClassification.forward`,  you can safely ignore this message.\n",
      "***** Running Evaluation *****\n",
      "  Num examples = 2839\n",
      "  Batch size = 8\n",
      "                                                         \n",
      " 36%|███▌      | 20200/56780 [5:06:19<2:51:01,  3.56it/s]"
     ]
    },
    {
     "name": "stdout",
     "output_type": "stream",
     "text": [
      "{'eval_loss': 0.6163952350616455, 'eval_recall': 0.9518773135906927, 'eval_precision': 0.7012076353720296, 'eval_runtime': 63.7697, 'eval_samples_per_second': 44.52, 'eval_steps_per_second': 5.567, 'epoch': 7.12}\n"
     ]
    },
    {
     "name": "stderr",
     "output_type": "stream",
     "text": [
      " 36%|███▌      | 20300/56780 [5:06:47<2:49:27,  3.59it/s]  The following columns in the evaluation set  don't have a corresponding argument in `BertForSequenceClassification.forward` and have been ignored: sentense. If sentense are not expected by `BertForSequenceClassification.forward`,  you can safely ignore this message.\n",
      "***** Running Evaluation *****\n",
      "  Num examples = 2839\n",
      "  Batch size = 8\n",
      "                                                         \n",
      " 36%|███▌      | 20300/56780 [5:07:51<2:49:27,  3.59it/s]"
     ]
    },
    {
     "name": "stdout",
     "output_type": "stream",
     "text": [
      "{'eval_loss': 0.6139208674430847, 'eval_recall': 0.9518773135906927, 'eval_precision': 0.7012076353720296, 'eval_runtime': 63.7217, 'eval_samples_per_second': 44.553, 'eval_steps_per_second': 5.571, 'epoch': 7.15}\n"
     ]
    },
    {
     "name": "stderr",
     "output_type": "stream",
     "text": [
      " 36%|███▌      | 20400/56780 [5:08:19<2:49:37,  3.57it/s]  The following columns in the evaluation set  don't have a corresponding argument in `BertForSequenceClassification.forward` and have been ignored: sentense. If sentense are not expected by `BertForSequenceClassification.forward`,  you can safely ignore this message.\n",
      "***** Running Evaluation *****\n",
      "  Num examples = 2839\n",
      "  Batch size = 8\n",
      "                                                         \n",
      " 36%|███▌      | 20400/56780 [5:09:23<2:49:37,  3.57it/s]"
     ]
    },
    {
     "name": "stdout",
     "output_type": "stream",
     "text": [
      "{'eval_loss': 0.6126718521118164, 'eval_recall': 0.9518773135906927, 'eval_precision': 0.7012076353720296, 'eval_runtime': 63.842, 'eval_samples_per_second': 44.469, 'eval_steps_per_second': 5.561, 'epoch': 7.19}\n"
     ]
    },
    {
     "name": "stderr",
     "output_type": "stream",
     "text": [
      " 36%|███▌      | 20500/56780 [5:09:51<3:28:10,  2.90it/s]  The following columns in the evaluation set  don't have a corresponding argument in `BertForSequenceClassification.forward` and have been ignored: sentense. If sentense are not expected by `BertForSequenceClassification.forward`,  you can safely ignore this message.\n",
      "***** Running Evaluation *****\n",
      "  Num examples = 2839\n",
      "  Batch size = 8\n"
     ]
    },
    {
     "name": "stdout",
     "output_type": "stream",
     "text": [
      "{'loss': 0.607, 'learning_rate': 3.194786896794646e-05, 'epoch': 7.22}\n"
     ]
    },
    {
     "name": "stderr",
     "output_type": "stream",
     "text": [
      "                                                         \n",
      " 36%|███▌      | 20500/56780 [5:10:55<3:28:10,  2.90it/s]"
     ]
    },
    {
     "name": "stdout",
     "output_type": "stream",
     "text": [
      "{'eval_loss': 0.6256365180015564, 'eval_recall': 0.9518773135906927, 'eval_precision': 0.7012076353720296, 'eval_runtime': 63.8559, 'eval_samples_per_second': 44.459, 'eval_steps_per_second': 5.559, 'epoch': 7.22}\n"
     ]
    },
    {
     "name": "stderr",
     "output_type": "stream",
     "text": [
      " 36%|███▋      | 20600/56780 [5:11:23<2:48:52,  3.57it/s]  The following columns in the evaluation set  don't have a corresponding argument in `BertForSequenceClassification.forward` and have been ignored: sentense. If sentense are not expected by `BertForSequenceClassification.forward`,  you can safely ignore this message.\n",
      "***** Running Evaluation *****\n",
      "  Num examples = 2839\n",
      "  Batch size = 8\n",
      "                                                         \n",
      " 36%|███▋      | 20600/56780 [5:12:27<2:48:52,  3.57it/s]"
     ]
    },
    {
     "name": "stdout",
     "output_type": "stream",
     "text": [
      "{'eval_loss': 0.6137489080429077, 'eval_recall': 0.9524061343204654, 'eval_precision': 0.7013239875389408, 'eval_runtime': 63.8316, 'eval_samples_per_second': 44.476, 'eval_steps_per_second': 5.562, 'epoch': 7.26}\n"
     ]
    },
    {
     "name": "stderr",
     "output_type": "stream",
     "text": [
      " 36%|███▋      | 20700/56780 [5:12:54<2:47:53,  3.58it/s]  The following columns in the evaluation set  don't have a corresponding argument in `BertForSequenceClassification.forward` and have been ignored: sentense. If sentense are not expected by `BertForSequenceClassification.forward`,  you can safely ignore this message.\n",
      "***** Running Evaluation *****\n",
      "  Num examples = 2839\n",
      "  Batch size = 8\n",
      "                                                         \n",
      " 36%|███▋      | 20700/56780 [5:13:58<2:47:53,  3.58it/s]"
     ]
    },
    {
     "name": "stdout",
     "output_type": "stream",
     "text": [
      "{'eval_loss': 0.6133012771606445, 'eval_recall': 0.9524061343204654, 'eval_precision': 0.7013239875389408, 'eval_runtime': 63.7753, 'eval_samples_per_second': 44.516, 'eval_steps_per_second': 5.566, 'epoch': 7.29}\n"
     ]
    },
    {
     "name": "stderr",
     "output_type": "stream",
     "text": [
      " 37%|███▋      | 20800/56780 [5:14:26<2:47:53,  3.57it/s]  The following columns in the evaluation set  don't have a corresponding argument in `BertForSequenceClassification.forward` and have been ignored: sentense. If sentense are not expected by `BertForSequenceClassification.forward`,  you can safely ignore this message.\n",
      "***** Running Evaluation *****\n",
      "  Num examples = 2839\n",
      "  Batch size = 8\n",
      "                                                         \n",
      " 37%|███▋      | 20800/56780 [5:15:30<2:47:53,  3.57it/s]"
     ]
    },
    {
     "name": "stdout",
     "output_type": "stream",
     "text": [
      "{'eval_loss': 0.6138468384742737, 'eval_recall': 0.9524061343204654, 'eval_precision': 0.7013239875389408, 'eval_runtime': 63.8921, 'eval_samples_per_second': 44.434, 'eval_steps_per_second': 5.556, 'epoch': 7.33}\n"
     ]
    },
    {
     "name": "stderr",
     "output_type": "stream",
     "text": [
      " 37%|███▋      | 20900/56780 [5:15:58<2:47:17,  3.57it/s]  The following columns in the evaluation set  don't have a corresponding argument in `BertForSequenceClassification.forward` and have been ignored: sentense. If sentense are not expected by `BertForSequenceClassification.forward`,  you can safely ignore this message.\n",
      "***** Running Evaluation *****\n",
      "  Num examples = 2839\n",
      "  Batch size = 8\n",
      "                                                         \n",
      " 37%|███▋      | 20900/56780 [5:17:02<2:47:17,  3.57it/s]"
     ]
    },
    {
     "name": "stdout",
     "output_type": "stream",
     "text": [
      "{'eval_loss': 0.6152880191802979, 'eval_recall': 0.9524061343204654, 'eval_precision': 0.7013239875389408, 'eval_runtime': 63.8975, 'eval_samples_per_second': 44.431, 'eval_steps_per_second': 5.556, 'epoch': 7.36}\n"
     ]
    },
    {
     "name": "stderr",
     "output_type": "stream",
     "text": [
      " 37%|███▋      | 21000/56780 [5:17:30<3:26:10,  2.89it/s]  The following columns in the evaluation set  don't have a corresponding argument in `BertForSequenceClassification.forward` and have been ignored: sentense. If sentense are not expected by `BertForSequenceClassification.forward`,  you can safely ignore this message.\n",
      "***** Running Evaluation *****\n",
      "  Num examples = 2839\n",
      "  Batch size = 8\n"
     ]
    },
    {
     "name": "stdout",
     "output_type": "stream",
     "text": [
      "{'loss': 0.6078, 'learning_rate': 3.1507573089115885e-05, 'epoch': 7.4}\n"
     ]
    },
    {
     "name": "stderr",
     "output_type": "stream",
     "text": [
      "                                                         \n",
      " 37%|███▋      | 21000/56780 [5:18:34<3:26:10,  2.89it/s]"
     ]
    },
    {
     "name": "stdout",
     "output_type": "stream",
     "text": [
      "{'eval_loss': 0.6236860156059265, 'eval_recall': 0.9524061343204654, 'eval_precision': 0.7013239875389408, 'eval_runtime': 63.8932, 'eval_samples_per_second': 44.434, 'eval_steps_per_second': 5.556, 'epoch': 7.4}\n"
     ]
    },
    {
     "name": "stderr",
     "output_type": "stream",
     "text": [
      " 37%|███▋      | 21100/56780 [5:19:02<2:46:35,  3.57it/s]  The following columns in the evaluation set  don't have a corresponding argument in `BertForSequenceClassification.forward` and have been ignored: sentense. If sentense are not expected by `BertForSequenceClassification.forward`,  you can safely ignore this message.\n",
      "***** Running Evaluation *****\n",
      "  Num examples = 2839\n",
      "  Batch size = 8\n",
      "                                                         \n",
      " 37%|███▋      | 21100/56780 [5:20:06<2:46:35,  3.57it/s]"
     ]
    },
    {
     "name": "stdout",
     "output_type": "stream",
     "text": [
      "{'eval_loss': 0.6137123703956604, 'eval_recall': 0.9524061343204654, 'eval_precision': 0.7013239875389408, 'eval_runtime': 63.8424, 'eval_samples_per_second': 44.469, 'eval_steps_per_second': 5.561, 'epoch': 7.43}\n"
     ]
    },
    {
     "name": "stderr",
     "output_type": "stream",
     "text": [
      " 37%|███▋      | 21200/56780 [5:20:34<2:46:17,  3.57it/s]  The following columns in the evaluation set  don't have a corresponding argument in `BertForSequenceClassification.forward` and have been ignored: sentense. If sentense are not expected by `BertForSequenceClassification.forward`,  you can safely ignore this message.\n",
      "***** Running Evaluation *****\n",
      "  Num examples = 2839\n",
      "  Batch size = 8\n",
      "                                                         \n",
      " 37%|███▋      | 21200/56780 [5:21:38<2:46:17,  3.57it/s]"
     ]
    },
    {
     "name": "stdout",
     "output_type": "stream",
     "text": [
      "{'eval_loss': 0.6140037178993225, 'eval_recall': 0.9524061343204654, 'eval_precision': 0.7013239875389408, 'eval_runtime': 63.9145, 'eval_samples_per_second': 44.419, 'eval_steps_per_second': 5.554, 'epoch': 7.47}\n"
     ]
    },
    {
     "name": "stderr",
     "output_type": "stream",
     "text": [
      " 38%|███▊      | 21300/56780 [5:22:06<2:45:53,  3.56it/s]  The following columns in the evaluation set  don't have a corresponding argument in `BertForSequenceClassification.forward` and have been ignored: sentense. If sentense are not expected by `BertForSequenceClassification.forward`,  you can safely ignore this message.\n",
      "***** Running Evaluation *****\n",
      "  Num examples = 2839\n",
      "  Batch size = 8\n",
      "                                                         \n",
      " 38%|███▊      | 21300/56780 [5:23:10<2:45:53,  3.56it/s]"
     ]
    },
    {
     "name": "stdout",
     "output_type": "stream",
     "text": [
      "{'eval_loss': 0.6278296113014221, 'eval_recall': 0.9524061343204654, 'eval_precision': 0.7013239875389408, 'eval_runtime': 63.9161, 'eval_samples_per_second': 44.418, 'eval_steps_per_second': 5.554, 'epoch': 7.5}\n"
     ]
    },
    {
     "name": "stderr",
     "output_type": "stream",
     "text": [
      " 38%|███▊      | 21400/56780 [5:23:38<2:45:19,  3.57it/s]  The following columns in the evaluation set  don't have a corresponding argument in `BertForSequenceClassification.forward` and have been ignored: sentense. If sentense are not expected by `BertForSequenceClassification.forward`,  you can safely ignore this message.\n",
      "***** Running Evaluation *****\n",
      "  Num examples = 2839\n",
      "  Batch size = 8\n",
      "                                                         \n",
      " 38%|███▊      | 21400/56780 [5:24:42<2:45:19,  3.57it/s]"
     ]
    },
    {
     "name": "stdout",
     "output_type": "stream",
     "text": [
      "{'eval_loss': 0.6199977993965149, 'eval_recall': 0.9524061343204654, 'eval_precision': 0.7013239875389408, 'eval_runtime': 63.9106, 'eval_samples_per_second': 44.421, 'eval_steps_per_second': 5.555, 'epoch': 7.54}\n"
     ]
    },
    {
     "name": "stderr",
     "output_type": "stream",
     "text": [
      " 38%|███▊      | 21500/56780 [5:25:10<3:22:03,  2.91it/s]  The following columns in the evaluation set  don't have a corresponding argument in `BertForSequenceClassification.forward` and have been ignored: sentense. If sentense are not expected by `BertForSequenceClassification.forward`,  you can safely ignore this message.\n",
      "***** Running Evaluation *****\n",
      "  Num examples = 2839\n",
      "  Batch size = 8\n"
     ]
    },
    {
     "name": "stdout",
     "output_type": "stream",
     "text": [
      "{'loss': 0.6166, 'learning_rate': 3.106727721028531e-05, 'epoch': 7.57}\n"
     ]
    },
    {
     "name": "stderr",
     "output_type": "stream",
     "text": [
      "                                                         \n",
      " 38%|███▊      | 21500/56780 [5:26:14<3:22:03,  2.91it/s]"
     ]
    },
    {
     "name": "stdout",
     "output_type": "stream",
     "text": [
      "{'eval_loss': 0.6148809790611267, 'eval_recall': 0.9524061343204654, 'eval_precision': 0.7013239875389408, 'eval_runtime': 63.8578, 'eval_samples_per_second': 44.458, 'eval_steps_per_second': 5.559, 'epoch': 7.57}\n"
     ]
    },
    {
     "name": "stderr",
     "output_type": "stream",
     "text": [
      " 38%|███▊      | 21600/56780 [5:26:42<2:44:04,  3.57it/s]  The following columns in the evaluation set  don't have a corresponding argument in `BertForSequenceClassification.forward` and have been ignored: sentense. If sentense are not expected by `BertForSequenceClassification.forward`,  you can safely ignore this message.\n",
      "***** Running Evaluation *****\n",
      "  Num examples = 2839\n",
      "  Batch size = 8\n",
      "                                                         \n",
      " 38%|███▊      | 21600/56780 [5:27:45<2:44:04,  3.57it/s]"
     ]
    },
    {
     "name": "stdout",
     "output_type": "stream",
     "text": [
      "{'eval_loss': 0.624782145023346, 'eval_recall': 0.9524061343204654, 'eval_precision': 0.7013239875389408, 'eval_runtime': 63.7386, 'eval_samples_per_second': 44.541, 'eval_steps_per_second': 5.57, 'epoch': 7.61}\n"
     ]
    },
    {
     "name": "stderr",
     "output_type": "stream",
     "text": [
      " 38%|███▊      | 21700/56780 [5:28:13<2:43:35,  3.57it/s]  The following columns in the evaluation set  don't have a corresponding argument in `BertForSequenceClassification.forward` and have been ignored: sentense. If sentense are not expected by `BertForSequenceClassification.forward`,  you can safely ignore this message.\n",
      "***** Running Evaluation *****\n",
      "  Num examples = 2839\n",
      "  Batch size = 8\n",
      "                                                         \n",
      " 38%|███▊      | 21700/56780 [5:29:17<2:43:35,  3.57it/s]"
     ]
    },
    {
     "name": "stdout",
     "output_type": "stream",
     "text": [
      "{'eval_loss': 0.6135144829750061, 'eval_recall': 0.9524061343204654, 'eval_precision': 0.7013239875389408, 'eval_runtime': 63.7548, 'eval_samples_per_second': 44.53, 'eval_steps_per_second': 5.568, 'epoch': 7.64}\n"
     ]
    },
    {
     "name": "stderr",
     "output_type": "stream",
     "text": [
      " 38%|███▊      | 21800/56780 [5:29:45<2:42:39,  3.58it/s]  The following columns in the evaluation set  don't have a corresponding argument in `BertForSequenceClassification.forward` and have been ignored: sentense. If sentense are not expected by `BertForSequenceClassification.forward`,  you can safely ignore this message.\n",
      "***** Running Evaluation *****\n",
      "  Num examples = 2839\n",
      "  Batch size = 8\n",
      "                                                         \n",
      " 38%|███▊      | 21800/56780 [5:30:49<2:42:39,  3.58it/s]"
     ]
    },
    {
     "name": "stdout",
     "output_type": "stream",
     "text": [
      "{'eval_loss': 0.6193951964378357, 'eval_recall': 0.9524061343204654, 'eval_precision': 0.7013239875389408, 'eval_runtime': 63.7427, 'eval_samples_per_second': 44.538, 'eval_steps_per_second': 5.569, 'epoch': 7.68}\n"
     ]
    },
    {
     "name": "stderr",
     "output_type": "stream",
     "text": [
      " 39%|███▊      | 21900/56780 [5:31:17<2:42:59,  3.57it/s]  The following columns in the evaluation set  don't have a corresponding argument in `BertForSequenceClassification.forward` and have been ignored: sentense. If sentense are not expected by `BertForSequenceClassification.forward`,  you can safely ignore this message.\n",
      "***** Running Evaluation *****\n",
      "  Num examples = 2839\n",
      "  Batch size = 8\n",
      "                                                         \n",
      " 39%|███▊      | 21900/56780 [5:32:21<2:42:59,  3.57it/s]"
     ]
    },
    {
     "name": "stdout",
     "output_type": "stream",
     "text": [
      "{'eval_loss': 0.6320516467094421, 'eval_recall': 0.9524061343204654, 'eval_precision': 0.7013239875389408, 'eval_runtime': 63.7664, 'eval_samples_per_second': 44.522, 'eval_steps_per_second': 5.567, 'epoch': 7.71}\n"
     ]
    },
    {
     "name": "stderr",
     "output_type": "stream",
     "text": [
      " 39%|███▊      | 22000/56780 [5:32:49<3:19:37,  2.90it/s]  The following columns in the evaluation set  don't have a corresponding argument in `BertForSequenceClassification.forward` and have been ignored: sentense. If sentense are not expected by `BertForSequenceClassification.forward`,  you can safely ignore this message.\n",
      "***** Running Evaluation *****\n",
      "  Num examples = 2839\n",
      "  Batch size = 8\n"
     ]
    },
    {
     "name": "stdout",
     "output_type": "stream",
     "text": [
      "{'loss': 0.6148, 'learning_rate': 3.062698133145474e-05, 'epoch': 7.75}\n"
     ]
    },
    {
     "name": "stderr",
     "output_type": "stream",
     "text": [
      "                                                         \n",
      " 39%|███▊      | 22000/56780 [5:33:53<3:19:37,  2.90it/s]"
     ]
    },
    {
     "name": "stdout",
     "output_type": "stream",
     "text": [
      "{'eval_loss': 0.6164170503616333, 'eval_recall': 0.9524061343204654, 'eval_precision': 0.7013239875389408, 'eval_runtime': 63.7652, 'eval_samples_per_second': 44.523, 'eval_steps_per_second': 5.567, 'epoch': 7.75}\n"
     ]
    },
    {
     "name": "stderr",
     "output_type": "stream",
     "text": [
      " 39%|███▉      | 22100/56780 [5:34:20<2:41:19,  3.58it/s]  The following columns in the evaluation set  don't have a corresponding argument in `BertForSequenceClassification.forward` and have been ignored: sentense. If sentense are not expected by `BertForSequenceClassification.forward`,  you can safely ignore this message.\n",
      "***** Running Evaluation *****\n",
      "  Num examples = 2839\n",
      "  Batch size = 8\n",
      "                                                         \n",
      " 39%|███▉      | 22100/56780 [5:35:24<2:41:19,  3.58it/s]"
     ]
    },
    {
     "name": "stdout",
     "output_type": "stream",
     "text": [
      "{'eval_loss': 0.6139862537384033, 'eval_recall': 0.9524061343204654, 'eval_precision': 0.7013239875389408, 'eval_runtime': 63.7711, 'eval_samples_per_second': 44.519, 'eval_steps_per_second': 5.567, 'epoch': 7.78}\n"
     ]
    },
    {
     "name": "stderr",
     "output_type": "stream",
     "text": [
      " 39%|███▉      | 22200/56780 [5:35:52<2:40:58,  3.58it/s]  The following columns in the evaluation set  don't have a corresponding argument in `BertForSequenceClassification.forward` and have been ignored: sentense. If sentense are not expected by `BertForSequenceClassification.forward`,  you can safely ignore this message.\n",
      "***** Running Evaluation *****\n",
      "  Num examples = 2839\n",
      "  Batch size = 8\n",
      "                                                         \n",
      " 39%|███▉      | 22200/56780 [5:36:56<2:40:58,  3.58it/s]"
     ]
    },
    {
     "name": "stdout",
     "output_type": "stream",
     "text": [
      "{'eval_loss': 0.6312158703804016, 'eval_recall': 0.9524061343204654, 'eval_precision': 0.7013239875389408, 'eval_runtime': 63.7408, 'eval_samples_per_second': 44.54, 'eval_steps_per_second': 5.569, 'epoch': 7.82}\n"
     ]
    },
    {
     "name": "stderr",
     "output_type": "stream",
     "text": [
      " 39%|███▉      | 22300/56780 [5:37:24<2:40:20,  3.58it/s]  The following columns in the evaluation set  don't have a corresponding argument in `BertForSequenceClassification.forward` and have been ignored: sentense. If sentense are not expected by `BertForSequenceClassification.forward`,  you can safely ignore this message.\n",
      "***** Running Evaluation *****\n",
      "  Num examples = 2839\n",
      "  Batch size = 8\n",
      "                                                         \n",
      " 39%|███▉      | 22300/56780 [5:38:28<2:40:20,  3.58it/s]"
     ]
    },
    {
     "name": "stdout",
     "output_type": "stream",
     "text": [
      "{'eval_loss': 0.626304030418396, 'eval_recall': 0.9524061343204654, 'eval_precision': 0.7013239875389408, 'eval_runtime': 63.8042, 'eval_samples_per_second': 44.495, 'eval_steps_per_second': 5.564, 'epoch': 7.85}\n"
     ]
    },
    {
     "name": "stderr",
     "output_type": "stream",
     "text": [
      " 39%|███▉      | 22400/56780 [5:38:56<2:40:02,  3.58it/s]  The following columns in the evaluation set  don't have a corresponding argument in `BertForSequenceClassification.forward` and have been ignored: sentense. If sentense are not expected by `BertForSequenceClassification.forward`,  you can safely ignore this message.\n",
      "***** Running Evaluation *****\n",
      "  Num examples = 2839\n",
      "  Batch size = 8\n",
      "                                                         \n",
      " 39%|███▉      | 22400/56780 [5:40:00<2:40:02,  3.58it/s]"
     ]
    },
    {
     "name": "stdout",
     "output_type": "stream",
     "text": [
      "{'eval_loss': 0.6146103739738464, 'eval_recall': 0.9524061343204654, 'eval_precision': 0.7013239875389408, 'eval_runtime': 63.8451, 'eval_samples_per_second': 44.467, 'eval_steps_per_second': 5.56, 'epoch': 7.89}\n"
     ]
    },
    {
     "name": "stderr",
     "output_type": "stream",
     "text": [
      " 40%|███▉      | 22500/56780 [5:40:28<3:15:55,  2.92it/s]  The following columns in the evaluation set  don't have a corresponding argument in `BertForSequenceClassification.forward` and have been ignored: sentense. If sentense are not expected by `BertForSequenceClassification.forward`,  you can safely ignore this message.\n",
      "***** Running Evaluation *****\n",
      "  Num examples = 2839\n",
      "  Batch size = 8\n"
     ]
    },
    {
     "name": "stdout",
     "output_type": "stream",
     "text": [
      "{'loss': 0.595, 'learning_rate': 3.0186685452624164e-05, 'epoch': 7.93}\n"
     ]
    },
    {
     "name": "stderr",
     "output_type": "stream",
     "text": [
      "                                                         \n",
      " 40%|███▉      | 22500/56780 [5:41:32<3:15:55,  2.92it/s]"
     ]
    },
    {
     "name": "stdout",
     "output_type": "stream",
     "text": [
      "{'eval_loss': 0.6182430982589722, 'eval_recall': 0.9524061343204654, 'eval_precision': 0.7013239875389408, 'eval_runtime': 63.8463, 'eval_samples_per_second': 44.466, 'eval_steps_per_second': 5.56, 'epoch': 7.93}\n"
     ]
    },
    {
     "name": "stderr",
     "output_type": "stream",
     "text": [
      " 40%|███▉      | 22600/56780 [5:42:00<2:39:38,  3.57it/s]  The following columns in the evaluation set  don't have a corresponding argument in `BertForSequenceClassification.forward` and have been ignored: sentense. If sentense are not expected by `BertForSequenceClassification.forward`,  you can safely ignore this message.\n",
      "***** Running Evaluation *****\n",
      "  Num examples = 2839\n",
      "  Batch size = 8\n",
      "                                                         \n",
      " 40%|███▉      | 22600/56780 [5:43:03<2:39:38,  3.57it/s]"
     ]
    },
    {
     "name": "stdout",
     "output_type": "stream",
     "text": [
      "{'eval_loss': 0.6386451125144958, 'eval_recall': 0.9793759915388683, 'eval_precision': 0.6816341553183658, 'eval_runtime': 63.7856, 'eval_samples_per_second': 44.509, 'eval_steps_per_second': 5.566, 'epoch': 7.96}\n"
     ]
    },
    {
     "name": "stderr",
     "output_type": "stream",
     "text": [
      " 40%|███▉      | 22700/56780 [5:43:31<2:38:38,  3.58it/s]  The following columns in the evaluation set  don't have a corresponding argument in `BertForSequenceClassification.forward` and have been ignored: sentense. If sentense are not expected by `BertForSequenceClassification.forward`,  you can safely ignore this message.\n",
      "***** Running Evaluation *****\n",
      "  Num examples = 2839\n",
      "  Batch size = 8\n",
      "                                                         \n",
      " 40%|███▉      | 22700/56780 [5:44:35<2:38:38,  3.58it/s]"
     ]
    },
    {
     "name": "stdout",
     "output_type": "stream",
     "text": [
      "{'eval_loss': 0.6372237801551819, 'eval_recall': 0.9793759915388683, 'eval_precision': 0.6816341553183658, 'eval_runtime': 63.7687, 'eval_samples_per_second': 44.52, 'eval_steps_per_second': 5.567, 'epoch': 8.0}\n"
     ]
    },
    {
     "name": "stderr",
     "output_type": "stream",
     "text": [
      " 40%|████      | 22800/56780 [5:45:03<2:38:03,  3.58it/s]  The following columns in the evaluation set  don't have a corresponding argument in `BertForSequenceClassification.forward` and have been ignored: sentense. If sentense are not expected by `BertForSequenceClassification.forward`,  you can safely ignore this message.\n",
      "***** Running Evaluation *****\n",
      "  Num examples = 2839\n",
      "  Batch size = 8\n",
      "                                                         \n",
      " 40%|████      | 22800/56780 [5:46:07<2:38:03,  3.58it/s]"
     ]
    },
    {
     "name": "stdout",
     "output_type": "stream",
     "text": [
      "{'eval_loss': 0.6387900114059448, 'eval_recall': 0.9793759915388683, 'eval_precision': 0.6816341553183658, 'eval_runtime': 63.8035, 'eval_samples_per_second': 44.496, 'eval_steps_per_second': 5.564, 'epoch': 8.03}\n"
     ]
    },
    {
     "name": "stderr",
     "output_type": "stream",
     "text": [
      " 40%|████      | 22900/56780 [5:46:35<2:37:31,  3.58it/s]  The following columns in the evaluation set  don't have a corresponding argument in `BertForSequenceClassification.forward` and have been ignored: sentense. If sentense are not expected by `BertForSequenceClassification.forward`,  you can safely ignore this message.\n",
      "***** Running Evaluation *****\n",
      "  Num examples = 2839\n",
      "  Batch size = 8\n",
      "                                                         \n",
      " 40%|████      | 22900/56780 [5:47:38<2:37:31,  3.58it/s]"
     ]
    },
    {
     "name": "stdout",
     "output_type": "stream",
     "text": [
      "{'eval_loss': 0.6303906440734863, 'eval_recall': 0.9793759915388683, 'eval_precision': 0.6816341553183658, 'eval_runtime': 63.797, 'eval_samples_per_second': 44.501, 'eval_steps_per_second': 5.565, 'epoch': 8.07}\n"
     ]
    },
    {
     "name": "stderr",
     "output_type": "stream",
     "text": [
      " 41%|████      | 23000/56780 [5:48:07<3:13:40,  2.91it/s]  The following columns in the evaluation set  don't have a corresponding argument in `BertForSequenceClassification.forward` and have been ignored: sentense. If sentense are not expected by `BertForSequenceClassification.forward`,  you can safely ignore this message.\n",
      "***** Running Evaluation *****\n",
      "  Num examples = 2839\n",
      "  Batch size = 8\n"
     ]
    },
    {
     "name": "stdout",
     "output_type": "stream",
     "text": [
      "{'loss': 0.6201, 'learning_rate': 2.9746389573793593e-05, 'epoch': 8.1}\n"
     ]
    },
    {
     "name": "stderr",
     "output_type": "stream",
     "text": [
      "                                                         \n",
      " 41%|████      | 23000/56780 [5:49:11<3:13:40,  2.91it/s]"
     ]
    },
    {
     "name": "stdout",
     "output_type": "stream",
     "text": [
      "{'eval_loss': 0.628281831741333, 'eval_recall': 0.9767318878900053, 'eval_precision': 0.681549815498155, 'eval_runtime': 63.773, 'eval_samples_per_second': 44.517, 'eval_steps_per_second': 5.567, 'epoch': 8.1}\n"
     ]
    },
    {
     "name": "stderr",
     "output_type": "stream",
     "text": [
      " 41%|████      | 23100/56780 [5:49:38<2:36:44,  3.58it/s]  The following columns in the evaluation set  don't have a corresponding argument in `BertForSequenceClassification.forward` and have been ignored: sentense. If sentense are not expected by `BertForSequenceClassification.forward`,  you can safely ignore this message.\n",
      "***** Running Evaluation *****\n",
      "  Num examples = 2839\n",
      "  Batch size = 8\n",
      "                                                         \n",
      " 41%|████      | 23100/56780 [5:50:42<2:36:44,  3.58it/s]"
     ]
    },
    {
     "name": "stdout",
     "output_type": "stream",
     "text": [
      "{'eval_loss': 0.6340809464454651, 'eval_recall': 0.9767318878900053, 'eval_precision': 0.681549815498155, 'eval_runtime': 63.7616, 'eval_samples_per_second': 44.525, 'eval_steps_per_second': 5.568, 'epoch': 8.14}\n"
     ]
    },
    {
     "name": "stderr",
     "output_type": "stream",
     "text": [
      " 41%|████      | 23200/56780 [5:51:10<2:36:58,  3.57it/s]  The following columns in the evaluation set  don't have a corresponding argument in `BertForSequenceClassification.forward` and have been ignored: sentense. If sentense are not expected by `BertForSequenceClassification.forward`,  you can safely ignore this message.\n",
      "***** Running Evaluation *****\n",
      "  Num examples = 2839\n",
      "  Batch size = 8\n",
      "                                                         \n",
      " 41%|████      | 23200/56780 [5:52:14<2:36:58,  3.57it/s]"
     ]
    },
    {
     "name": "stdout",
     "output_type": "stream",
     "text": [
      "{'eval_loss': 0.6288489103317261, 'eval_recall': 0.9767318878900053, 'eval_precision': 0.681549815498155, 'eval_runtime': 63.7395, 'eval_samples_per_second': 44.541, 'eval_steps_per_second': 5.57, 'epoch': 8.17}\n"
     ]
    },
    {
     "name": "stderr",
     "output_type": "stream",
     "text": [
      " 41%|████      | 23300/56780 [5:52:42<2:36:05,  3.57it/s]  The following columns in the evaluation set  don't have a corresponding argument in `BertForSequenceClassification.forward` and have been ignored: sentense. If sentense are not expected by `BertForSequenceClassification.forward`,  you can safely ignore this message.\n",
      "***** Running Evaluation *****\n",
      "  Num examples = 2839\n",
      "  Batch size = 8\n",
      "                                                         \n",
      " 41%|████      | 23300/56780 [5:53:46<2:36:05,  3.57it/s]"
     ]
    },
    {
     "name": "stdout",
     "output_type": "stream",
     "text": [
      "{'eval_loss': 0.6284321546554565, 'eval_recall': 0.9767318878900053, 'eval_precision': 0.681549815498155, 'eval_runtime': 63.7384, 'eval_samples_per_second': 44.541, 'eval_steps_per_second': 5.57, 'epoch': 8.21}\n"
     ]
    },
    {
     "name": "stderr",
     "output_type": "stream",
     "text": [
      " 41%|████      | 23400/56780 [5:54:14<2:36:16,  3.56it/s]  The following columns in the evaluation set  don't have a corresponding argument in `BertForSequenceClassification.forward` and have been ignored: sentense. If sentense are not expected by `BertForSequenceClassification.forward`,  you can safely ignore this message.\n",
      "***** Running Evaluation *****\n",
      "  Num examples = 2839\n",
      "  Batch size = 8\n",
      "                                                         \n",
      " 41%|████      | 23400/56780 [5:55:17<2:36:16,  3.56it/s]"
     ]
    },
    {
     "name": "stdout",
     "output_type": "stream",
     "text": [
      "{'eval_loss': 0.6267837882041931, 'eval_recall': 0.9767318878900053, 'eval_precision': 0.681549815498155, 'eval_runtime': 63.7793, 'eval_samples_per_second': 44.513, 'eval_steps_per_second': 5.566, 'epoch': 8.24}\n"
     ]
    },
    {
     "name": "stderr",
     "output_type": "stream",
     "text": [
      " 41%|████▏     | 23500/56780 [5:55:46<3:11:14,  2.90it/s]  The following columns in the evaluation set  don't have a corresponding argument in `BertForSequenceClassification.forward` and have been ignored: sentense. If sentense are not expected by `BertForSequenceClassification.forward`,  you can safely ignore this message.\n",
      "***** Running Evaluation *****\n",
      "  Num examples = 2839\n",
      "  Batch size = 8\n"
     ]
    },
    {
     "name": "stdout",
     "output_type": "stream",
     "text": [
      "{'loss': 0.6373, 'learning_rate': 2.9306093694963016e-05, 'epoch': 8.28}\n"
     ]
    },
    {
     "name": "stderr",
     "output_type": "stream",
     "text": [
      "                                                         \n",
      " 41%|████▏     | 23500/56780 [5:56:49<3:11:14,  2.90it/s]"
     ]
    },
    {
     "name": "stdout",
     "output_type": "stream",
     "text": [
      "{'eval_loss': 0.6311390399932861, 'eval_recall': 0.9767318878900053, 'eval_precision': 0.681549815498155, 'eval_runtime': 63.7162, 'eval_samples_per_second': 44.557, 'eval_steps_per_second': 5.572, 'epoch': 8.28}\n"
     ]
    },
    {
     "name": "stderr",
     "output_type": "stream",
     "text": [
      " 42%|████▏     | 23600/56780 [5:57:17<2:35:01,  3.57it/s]  The following columns in the evaluation set  don't have a corresponding argument in `BertForSequenceClassification.forward` and have been ignored: sentense. If sentense are not expected by `BertForSequenceClassification.forward`,  you can safely ignore this message.\n",
      "***** Running Evaluation *****\n",
      "  Num examples = 2839\n",
      "  Batch size = 8\n",
      "                                                         \n",
      " 42%|████▏     | 23600/56780 [5:58:21<2:35:01,  3.57it/s]"
     ]
    },
    {
     "name": "stdout",
     "output_type": "stream",
     "text": [
      "{'eval_loss': 0.6344192624092102, 'eval_recall': 0.9767318878900053, 'eval_precision': 0.681549815498155, 'eval_runtime': 63.7409, 'eval_samples_per_second': 44.54, 'eval_steps_per_second': 5.569, 'epoch': 8.31}\n"
     ]
    },
    {
     "name": "stderr",
     "output_type": "stream",
     "text": [
      " 42%|████▏     | 23700/56780 [5:58:49<2:33:57,  3.58it/s]  The following columns in the evaluation set  don't have a corresponding argument in `BertForSequenceClassification.forward` and have been ignored: sentense. If sentense are not expected by `BertForSequenceClassification.forward`,  you can safely ignore this message.\n",
      "***** Running Evaluation *****\n",
      "  Num examples = 2839\n",
      "  Batch size = 8\n",
      "                                                         \n",
      " 42%|████▏     | 23700/56780 [5:59:53<2:33:57,  3.58it/s]"
     ]
    },
    {
     "name": "stdout",
     "output_type": "stream",
     "text": [
      "{'eval_loss': 0.6294361352920532, 'eval_recall': 0.9767318878900053, 'eval_precision': 0.681549815498155, 'eval_runtime': 63.694, 'eval_samples_per_second': 44.572, 'eval_steps_per_second': 5.574, 'epoch': 8.35}\n"
     ]
    },
    {
     "name": "stderr",
     "output_type": "stream",
     "text": [
      " 42%|████▏     | 23800/56780 [6:00:21<2:33:29,  3.58it/s]  The following columns in the evaluation set  don't have a corresponding argument in `BertForSequenceClassification.forward` and have been ignored: sentense. If sentense are not expected by `BertForSequenceClassification.forward`,  you can safely ignore this message.\n",
      "***** Running Evaluation *****\n",
      "  Num examples = 2839\n",
      "  Batch size = 8\n",
      "                                                         \n",
      " 42%|████▏     | 23800/56780 [6:01:24<2:33:29,  3.58it/s]"
     ]
    },
    {
     "name": "stdout",
     "output_type": "stream",
     "text": [
      "{'eval_loss': 0.6333856582641602, 'eval_recall': 0.9767318878900053, 'eval_precision': 0.681549815498155, 'eval_runtime': 63.7711, 'eval_samples_per_second': 44.519, 'eval_steps_per_second': 5.567, 'epoch': 8.38}\n"
     ]
    },
    {
     "name": "stderr",
     "output_type": "stream",
     "text": [
      " 42%|████▏     | 23900/56780 [6:01:52<2:33:03,  3.58it/s]  The following columns in the evaluation set  don't have a corresponding argument in `BertForSequenceClassification.forward` and have been ignored: sentense. If sentense are not expected by `BertForSequenceClassification.forward`,  you can safely ignore this message.\n",
      "***** Running Evaluation *****\n",
      "  Num examples = 2839\n",
      "  Batch size = 8\n",
      "                                                         \n",
      " 42%|████▏     | 23900/56780 [6:02:56<2:33:03,  3.58it/s]"
     ]
    },
    {
     "name": "stdout",
     "output_type": "stream",
     "text": [
      "{'eval_loss': 0.6367045044898987, 'eval_recall': 0.9767318878900053, 'eval_precision': 0.681549815498155, 'eval_runtime': 63.8308, 'eval_samples_per_second': 44.477, 'eval_steps_per_second': 5.562, 'epoch': 8.42}\n"
     ]
    },
    {
     "name": "stderr",
     "output_type": "stream",
     "text": [
      " 42%|████▏     | 24000/56780 [6:03:24<3:07:09,  2.92it/s]  The following columns in the evaluation set  don't have a corresponding argument in `BertForSequenceClassification.forward` and have been ignored: sentense. If sentense are not expected by `BertForSequenceClassification.forward`,  you can safely ignore this message.\n",
      "***** Running Evaluation *****\n",
      "  Num examples = 2839\n",
      "  Batch size = 8\n"
     ]
    },
    {
     "name": "stdout",
     "output_type": "stream",
     "text": [
      "{'loss': 0.6152, 'learning_rate': 2.8865797816132446e-05, 'epoch': 8.45}\n"
     ]
    },
    {
     "name": "stderr",
     "output_type": "stream",
     "text": [
      "                                                         \n",
      " 42%|████▏     | 24000/56780 [6:04:28<3:07:09,  2.92it/s]"
     ]
    },
    {
     "name": "stdout",
     "output_type": "stream",
     "text": [
      "{'eval_loss': 0.6283925771713257, 'eval_recall': 0.9767318878900053, 'eval_precision': 0.681549815498155, 'eval_runtime': 63.8356, 'eval_samples_per_second': 44.474, 'eval_steps_per_second': 5.561, 'epoch': 8.45}\n"
     ]
    },
    {
     "name": "stderr",
     "output_type": "stream",
     "text": [
      " 42%|████▏     | 24100/56780 [6:04:56<2:32:27,  3.57it/s]  The following columns in the evaluation set  don't have a corresponding argument in `BertForSequenceClassification.forward` and have been ignored: sentense. If sentense are not expected by `BertForSequenceClassification.forward`,  you can safely ignore this message.\n",
      "***** Running Evaluation *****\n",
      "  Num examples = 2839\n",
      "  Batch size = 8\n",
      "                                                         \n",
      " 42%|████▏     | 24100/56780 [6:06:00<2:32:27,  3.57it/s]"
     ]
    },
    {
     "name": "stdout",
     "output_type": "stream",
     "text": [
      "{'eval_loss': 0.6345758438110352, 'eval_recall': 0.9767318878900053, 'eval_precision': 0.681549815498155, 'eval_runtime': 63.7928, 'eval_samples_per_second': 44.503, 'eval_steps_per_second': 5.565, 'epoch': 8.49}\n"
     ]
    },
    {
     "name": "stderr",
     "output_type": "stream",
     "text": [
      " 43%|████▎     | 24200/56780 [6:06:28<2:31:34,  3.58it/s]  The following columns in the evaluation set  don't have a corresponding argument in `BertForSequenceClassification.forward` and have been ignored: sentense. If sentense are not expected by `BertForSequenceClassification.forward`,  you can safely ignore this message.\n",
      "***** Running Evaluation *****\n",
      "  Num examples = 2839\n",
      "  Batch size = 8\n",
      "                                                         \n",
      " 43%|████▎     | 24200/56780 [6:07:32<2:31:34,  3.58it/s]"
     ]
    },
    {
     "name": "stdout",
     "output_type": "stream",
     "text": [
      "{'eval_loss': 0.6294071674346924, 'eval_recall': 0.9767318878900053, 'eval_precision': 0.681549815498155, 'eval_runtime': 63.7178, 'eval_samples_per_second': 44.556, 'eval_steps_per_second': 5.571, 'epoch': 8.52}\n"
     ]
    },
    {
     "name": "stderr",
     "output_type": "stream",
     "text": [
      " 43%|████▎     | 24300/56780 [6:08:00<2:30:53,  3.59it/s]  The following columns in the evaluation set  don't have a corresponding argument in `BertForSequenceClassification.forward` and have been ignored: sentense. If sentense are not expected by `BertForSequenceClassification.forward`,  you can safely ignore this message.\n",
      "***** Running Evaluation *****\n",
      "  Num examples = 2839\n",
      "  Batch size = 8\n",
      "                                                         \n",
      " 43%|████▎     | 24300/56780 [6:09:03<2:30:53,  3.59it/s]"
     ]
    },
    {
     "name": "stdout",
     "output_type": "stream",
     "text": [
      "{'eval_loss': 0.6267700791358948, 'eval_recall': 0.9767318878900053, 'eval_precision': 0.681549815498155, 'eval_runtime': 63.7204, 'eval_samples_per_second': 44.554, 'eval_steps_per_second': 5.571, 'epoch': 8.56}\n"
     ]
    },
    {
     "name": "stderr",
     "output_type": "stream",
     "text": [
      " 43%|████▎     | 24400/56780 [6:09:31<2:30:37,  3.58it/s]  The following columns in the evaluation set  don't have a corresponding argument in `BertForSequenceClassification.forward` and have been ignored: sentense. If sentense are not expected by `BertForSequenceClassification.forward`,  you can safely ignore this message.\n",
      "***** Running Evaluation *****\n",
      "  Num examples = 2839\n",
      "  Batch size = 8\n",
      "                                                         \n",
      " 43%|████▎     | 24400/56780 [6:10:35<2:30:37,  3.58it/s]"
     ]
    },
    {
     "name": "stdout",
     "output_type": "stream",
     "text": [
      "{'eval_loss': 0.631165087223053, 'eval_recall': 0.9767318878900053, 'eval_precision': 0.681549815498155, 'eval_runtime': 63.7371, 'eval_samples_per_second': 44.542, 'eval_steps_per_second': 5.57, 'epoch': 8.59}\n"
     ]
    },
    {
     "name": "stderr",
     "output_type": "stream",
     "text": [
      " 43%|████▎     | 24500/56780 [6:11:03<3:03:59,  2.92it/s]  The following columns in the evaluation set  don't have a corresponding argument in `BertForSequenceClassification.forward` and have been ignored: sentense. If sentense are not expected by `BertForSequenceClassification.forward`,  you can safely ignore this message.\n",
      "***** Running Evaluation *****\n",
      "  Num examples = 2839\n",
      "  Batch size = 8\n"
     ]
    },
    {
     "name": "stdout",
     "output_type": "stream",
     "text": [
      "{'loss': 0.6274, 'learning_rate': 2.842550193730187e-05, 'epoch': 8.63}\n"
     ]
    },
    {
     "name": "stderr",
     "output_type": "stream",
     "text": [
      "                                                         \n",
      " 43%|████▎     | 24500/56780 [6:12:07<3:03:59,  2.92it/s]"
     ]
    },
    {
     "name": "stdout",
     "output_type": "stream",
     "text": [
      "{'eval_loss': 0.6436094045639038, 'eval_recall': 0.9767318878900053, 'eval_precision': 0.681549815498155, 'eval_runtime': 63.7103, 'eval_samples_per_second': 44.561, 'eval_steps_per_second': 5.572, 'epoch': 8.63}\n"
     ]
    },
    {
     "name": "stderr",
     "output_type": "stream",
     "text": [
      " 43%|████▎     | 24600/56780 [6:12:35<2:29:47,  3.58it/s]  The following columns in the evaluation set  don't have a corresponding argument in `BertForSequenceClassification.forward` and have been ignored: sentense. If sentense are not expected by `BertForSequenceClassification.forward`,  you can safely ignore this message.\n",
      "***** Running Evaluation *****\n",
      "  Num examples = 2839\n",
      "  Batch size = 8\n",
      "                                                         \n",
      " 43%|████▎     | 24600/56780 [6:13:39<2:29:47,  3.58it/s]"
     ]
    },
    {
     "name": "stdout",
     "output_type": "stream",
     "text": [
      "{'eval_loss': 0.6304194927215576, 'eval_recall': 0.9767318878900053, 'eval_precision': 0.681549815498155, 'eval_runtime': 63.6568, 'eval_samples_per_second': 44.599, 'eval_steps_per_second': 5.577, 'epoch': 8.67}\n"
     ]
    },
    {
     "name": "stderr",
     "output_type": "stream",
     "text": [
      " 44%|████▎     | 24700/56780 [6:14:07<2:29:48,  3.57it/s]  The following columns in the evaluation set  don't have a corresponding argument in `BertForSequenceClassification.forward` and have been ignored: sentense. If sentense are not expected by `BertForSequenceClassification.forward`,  you can safely ignore this message.\n",
      "***** Running Evaluation *****\n",
      "  Num examples = 2839\n",
      "  Batch size = 8\n",
      "                                                         \n",
      " 44%|████▎     | 24700/56780 [6:15:10<2:29:48,  3.57it/s]"
     ]
    },
    {
     "name": "stdout",
     "output_type": "stream",
     "text": [
      "{'eval_loss': 0.6315380334854126, 'eval_recall': 0.9767318878900053, 'eval_precision': 0.681549815498155, 'eval_runtime': 63.7069, 'eval_samples_per_second': 44.563, 'eval_steps_per_second': 5.572, 'epoch': 8.7}\n"
     ]
    },
    {
     "name": "stderr",
     "output_type": "stream",
     "text": [
      " 44%|████▎     | 24800/56780 [6:15:38<2:29:21,  3.57it/s]  The following columns in the evaluation set  don't have a corresponding argument in `BertForSequenceClassification.forward` and have been ignored: sentense. If sentense are not expected by `BertForSequenceClassification.forward`,  you can safely ignore this message.\n",
      "***** Running Evaluation *****\n",
      "  Num examples = 2839\n",
      "  Batch size = 8\n",
      "                                                         \n",
      " 44%|████▎     | 24800/56780 [6:16:42<2:29:21,  3.57it/s]"
     ]
    },
    {
     "name": "stdout",
     "output_type": "stream",
     "text": [
      "{'eval_loss': 0.628540575504303, 'eval_recall': 0.9767318878900053, 'eval_precision': 0.681549815498155, 'eval_runtime': 63.6541, 'eval_samples_per_second': 44.6, 'eval_steps_per_second': 5.577, 'epoch': 8.74}\n"
     ]
    },
    {
     "name": "stderr",
     "output_type": "stream",
     "text": [
      " 44%|████▍     | 24900/56780 [6:17:10<2:28:30,  3.58it/s]  The following columns in the evaluation set  don't have a corresponding argument in `BertForSequenceClassification.forward` and have been ignored: sentense. If sentense are not expected by `BertForSequenceClassification.forward`,  you can safely ignore this message.\n",
      "***** Running Evaluation *****\n",
      "  Num examples = 2839\n",
      "  Batch size = 8\n",
      "                                                         \n",
      " 44%|████▍     | 24900/56780 [6:18:14<2:28:30,  3.58it/s]"
     ]
    },
    {
     "name": "stdout",
     "output_type": "stream",
     "text": [
      "{'eval_loss': 0.6339792609214783, 'eval_recall': 0.9767318878900053, 'eval_precision': 0.681549815498155, 'eval_runtime': 63.6843, 'eval_samples_per_second': 44.579, 'eval_steps_per_second': 5.574, 'epoch': 8.77}\n"
     ]
    },
    {
     "name": "stderr",
     "output_type": "stream",
     "text": [
      " 44%|████▍     | 25000/56780 [6:18:42<3:02:20,  2.90it/s]  The following columns in the evaluation set  don't have a corresponding argument in `BertForSequenceClassification.forward` and have been ignored: sentense. If sentense are not expected by `BertForSequenceClassification.forward`,  you can safely ignore this message.\n",
      "***** Running Evaluation *****\n",
      "  Num examples = 2839\n",
      "  Batch size = 8\n"
     ]
    },
    {
     "name": "stdout",
     "output_type": "stream",
     "text": [
      "{'loss': 0.6267, 'learning_rate': 2.798520605847129e-05, 'epoch': 8.81}\n"
     ]
    },
    {
     "name": "stderr",
     "output_type": "stream",
     "text": [
      "                                                         \n",
      " 44%|████▍     | 25000/56780 [6:19:46<3:02:20,  2.90it/s]Saving model checkpoint to bert-classifier-trainer\\checkpoint-25000\n",
      "Configuration saved in bert-classifier-trainer\\checkpoint-25000\\config.json\n"
     ]
    },
    {
     "name": "stdout",
     "output_type": "stream",
     "text": [
      "{'eval_loss': 0.6438005566596985, 'eval_recall': 0.9767318878900053, 'eval_precision': 0.681549815498155, 'eval_runtime': 63.7525, 'eval_samples_per_second': 44.532, 'eval_steps_per_second': 5.568, 'epoch': 8.81}\n"
     ]
    },
    {
     "name": "stderr",
     "output_type": "stream",
     "text": [
      "Model weights saved in bert-classifier-trainer\\checkpoint-25000\\pytorch_model.bin\n",
      " 44%|████▍     | 25100/56780 [6:20:23<2:27:15,  3.59it/s]  The following columns in the evaluation set  don't have a corresponding argument in `BertForSequenceClassification.forward` and have been ignored: sentense. If sentense are not expected by `BertForSequenceClassification.forward`,  you can safely ignore this message.\n",
      "***** Running Evaluation *****\n",
      "  Num examples = 2839\n",
      "  Batch size = 8\n",
      "                                                         \n",
      " 44%|████▍     | 25100/56780 [6:21:27<2:27:15,  3.59it/s]"
     ]
    },
    {
     "name": "stdout",
     "output_type": "stream",
     "text": [
      "{'eval_loss': 0.6297518610954285, 'eval_recall': 0.9767318878900053, 'eval_precision': 0.681549815498155, 'eval_runtime': 63.5977, 'eval_samples_per_second': 44.64, 'eval_steps_per_second': 5.582, 'epoch': 8.84}\n"
     ]
    },
    {
     "name": "stderr",
     "output_type": "stream",
     "text": [
      " 44%|████▍     | 25200/56780 [6:21:54<2:27:15,  3.57it/s]  The following columns in the evaluation set  don't have a corresponding argument in `BertForSequenceClassification.forward` and have been ignored: sentense. If sentense are not expected by `BertForSequenceClassification.forward`,  you can safely ignore this message.\n",
      "***** Running Evaluation *****\n",
      "  Num examples = 2839\n",
      "  Batch size = 8\n",
      "                                                         \n",
      " 44%|████▍     | 25200/56780 [6:22:58<2:27:15,  3.57it/s]"
     ]
    },
    {
     "name": "stdout",
     "output_type": "stream",
     "text": [
      "{'eval_loss': 0.6350262761116028, 'eval_recall': 0.9762030671602326, 'eval_precision': 0.6814322628276117, 'eval_runtime': 63.8333, 'eval_samples_per_second': 44.475, 'eval_steps_per_second': 5.561, 'epoch': 8.88}\n"
     ]
    },
    {
     "name": "stderr",
     "output_type": "stream",
     "text": [
      " 45%|████▍     | 25300/56780 [6:23:26<2:27:05,  3.57it/s]  The following columns in the evaluation set  don't have a corresponding argument in `BertForSequenceClassification.forward` and have been ignored: sentense. If sentense are not expected by `BertForSequenceClassification.forward`,  you can safely ignore this message.\n",
      "***** Running Evaluation *****\n",
      "  Num examples = 2839\n",
      "  Batch size = 8\n",
      "                                                         \n",
      " 45%|████▍     | 25300/56780 [6:24:30<2:27:05,  3.57it/s]"
     ]
    },
    {
     "name": "stdout",
     "output_type": "stream",
     "text": [
      "{'eval_loss': 0.6282547116279602, 'eval_recall': 0.9767318878900053, 'eval_precision': 0.681549815498155, 'eval_runtime': 63.9031, 'eval_samples_per_second': 44.427, 'eval_steps_per_second': 5.555, 'epoch': 8.91}\n"
     ]
    },
    {
     "name": "stderr",
     "output_type": "stream",
     "text": [
      " 45%|████▍     | 25400/56780 [6:24:58<2:26:15,  3.58it/s]  The following columns in the evaluation set  don't have a corresponding argument in `BertForSequenceClassification.forward` and have been ignored: sentense. If sentense are not expected by `BertForSequenceClassification.forward`,  you can safely ignore this message.\n",
      "***** Running Evaluation *****\n",
      "  Num examples = 2839\n",
      "  Batch size = 8\n",
      "                                                         \n",
      " 45%|████▍     | 25400/56780 [6:26:02<2:26:15,  3.58it/s]"
     ]
    },
    {
     "name": "stdout",
     "output_type": "stream",
     "text": [
      "{'eval_loss': 0.62939453125, 'eval_recall': 0.9767318878900053, 'eval_precision': 0.681549815498155, 'eval_runtime': 63.8598, 'eval_samples_per_second': 44.457, 'eval_steps_per_second': 5.559, 'epoch': 8.95}\n"
     ]
    },
    {
     "name": "stderr",
     "output_type": "stream",
     "text": [
      " 45%|████▍     | 25500/56780 [6:26:30<2:59:52,  2.90it/s]  The following columns in the evaluation set  don't have a corresponding argument in `BertForSequenceClassification.forward` and have been ignored: sentense. If sentense are not expected by `BertForSequenceClassification.forward`,  you can safely ignore this message.\n",
      "***** Running Evaluation *****\n",
      "  Num examples = 2839\n",
      "  Batch size = 8\n"
     ]
    },
    {
     "name": "stdout",
     "output_type": "stream",
     "text": [
      "{'loss': 0.6311, 'learning_rate': 2.754491017964072e-05, 'epoch': 8.98}\n"
     ]
    },
    {
     "name": "stderr",
     "output_type": "stream",
     "text": [
      "                                                         \n",
      " 45%|████▍     | 25500/56780 [6:27:34<2:59:52,  2.90it/s]"
     ]
    },
    {
     "name": "stdout",
     "output_type": "stream",
     "text": [
      "{'eval_loss': 0.6355080008506775, 'eval_recall': 0.9767318878900053, 'eval_precision': 0.681549815498155, 'eval_runtime': 63.8598, 'eval_samples_per_second': 44.457, 'eval_steps_per_second': 5.559, 'epoch': 8.98}\n"
     ]
    },
    {
     "name": "stderr",
     "output_type": "stream",
     "text": [
      " 45%|████▌     | 25600/56780 [6:28:02<2:25:57,  3.56it/s]  The following columns in the evaluation set  don't have a corresponding argument in `BertForSequenceClassification.forward` and have been ignored: sentense. If sentense are not expected by `BertForSequenceClassification.forward`,  you can safely ignore this message.\n",
      "***** Running Evaluation *****\n",
      "  Num examples = 2839\n",
      "  Batch size = 8\n",
      "                                                         \n",
      " 45%|████▌     | 25600/56780 [6:29:06<2:25:57,  3.56it/s]"
     ]
    },
    {
     "name": "stdout",
     "output_type": "stream",
     "text": [
      "{'eval_loss': 0.6327419877052307, 'eval_recall': 0.9767318878900053, 'eval_precision': 0.681549815498155, 'eval_runtime': 63.8947, 'eval_samples_per_second': 44.432, 'eval_steps_per_second': 5.556, 'epoch': 9.02}\n"
     ]
    },
    {
     "name": "stderr",
     "output_type": "stream",
     "text": [
      " 45%|████▌     | 25700/56780 [6:29:34<2:25:05,  3.57it/s]  The following columns in the evaluation set  don't have a corresponding argument in `BertForSequenceClassification.forward` and have been ignored: sentense. If sentense are not expected by `BertForSequenceClassification.forward`,  you can safely ignore this message.\n",
      "***** Running Evaluation *****\n",
      "  Num examples = 2839\n",
      "  Batch size = 8\n",
      "                                                         \n",
      " 45%|████▌     | 25700/56780 [6:30:38<2:25:05,  3.57it/s]"
     ]
    },
    {
     "name": "stdout",
     "output_type": "stream",
     "text": [
      "{'eval_loss': 0.6264870166778564, 'eval_recall': 0.9767318878900053, 'eval_precision': 0.681549815498155, 'eval_runtime': 63.8695, 'eval_samples_per_second': 44.45, 'eval_steps_per_second': 5.558, 'epoch': 9.05}\n"
     ]
    },
    {
     "name": "stderr",
     "output_type": "stream",
     "text": [
      " 45%|████▌     | 25800/56780 [6:31:06<2:24:43,  3.57it/s]  The following columns in the evaluation set  don't have a corresponding argument in `BertForSequenceClassification.forward` and have been ignored: sentense. If sentense are not expected by `BertForSequenceClassification.forward`,  you can safely ignore this message.\n",
      "***** Running Evaluation *****\n",
      "  Num examples = 2839\n",
      "  Batch size = 8\n",
      "                                                         \n",
      " 45%|████▌     | 25800/56780 [6:32:10<2:24:43,  3.57it/s]"
     ]
    },
    {
     "name": "stdout",
     "output_type": "stream",
     "text": [
      "{'eval_loss': 0.632344663143158, 'eval_recall': 0.9767318878900053, 'eval_precision': 0.681549815498155, 'eval_runtime': 63.8581, 'eval_samples_per_second': 44.458, 'eval_steps_per_second': 5.559, 'epoch': 9.09}\n"
     ]
    },
    {
     "name": "stderr",
     "output_type": "stream",
     "text": [
      " 46%|████▌     | 25900/56780 [6:32:38<2:24:32,  3.56it/s]  The following columns in the evaluation set  don't have a corresponding argument in `BertForSequenceClassification.forward` and have been ignored: sentense. If sentense are not expected by `BertForSequenceClassification.forward`,  you can safely ignore this message.\n",
      "***** Running Evaluation *****\n",
      "  Num examples = 2839\n",
      "  Batch size = 8\n",
      "                                                         \n",
      " 46%|████▌     | 25900/56780 [6:33:41<2:24:32,  3.56it/s]"
     ]
    },
    {
     "name": "stdout",
     "output_type": "stream",
     "text": [
      "{'eval_loss': 0.6289321184158325, 'eval_recall': 0.9772607086197779, 'eval_precision': 0.6816672814459609, 'eval_runtime': 63.9051, 'eval_samples_per_second': 44.425, 'eval_steps_per_second': 5.555, 'epoch': 9.12}\n"
     ]
    },
    {
     "name": "stderr",
     "output_type": "stream",
     "text": [
      " 46%|████▌     | 26000/56780 [6:34:10<2:55:53,  2.92it/s]  The following columns in the evaluation set  don't have a corresponding argument in `BertForSequenceClassification.forward` and have been ignored: sentense. If sentense are not expected by `BertForSequenceClassification.forward`,  you can safely ignore this message.\n",
      "***** Running Evaluation *****\n",
      "  Num examples = 2839\n",
      "  Batch size = 8\n"
     ]
    },
    {
     "name": "stdout",
     "output_type": "stream",
     "text": [
      "{'loss': 0.6218, 'learning_rate': 2.7104614300810144e-05, 'epoch': 9.16}\n"
     ]
    },
    {
     "name": "stderr",
     "output_type": "stream",
     "text": [
      "                                                         \n",
      " 46%|████▌     | 26000/56780 [6:35:14<2:55:53,  2.92it/s]"
     ]
    },
    {
     "name": "stdout",
     "output_type": "stream",
     "text": [
      "{'eval_loss': 0.6297746896743774, 'eval_recall': 0.9772607086197779, 'eval_precision': 0.6816672814459609, 'eval_runtime': 63.8712, 'eval_samples_per_second': 44.449, 'eval_steps_per_second': 5.558, 'epoch': 9.16}\n"
     ]
    },
    {
     "name": "stderr",
     "output_type": "stream",
     "text": [
      " 46%|████▌     | 26100/56780 [6:35:42<2:22:45,  3.58it/s]  The following columns in the evaluation set  don't have a corresponding argument in `BertForSequenceClassification.forward` and have been ignored: sentense. If sentense are not expected by `BertForSequenceClassification.forward`,  you can safely ignore this message.\n",
      "***** Running Evaluation *****\n",
      "  Num examples = 2839\n",
      "  Batch size = 8\n",
      "                                                         \n",
      " 46%|████▌     | 26100/56780 [6:36:45<2:22:45,  3.58it/s]"
     ]
    },
    {
     "name": "stdout",
     "output_type": "stream",
     "text": [
      "{'eval_loss': 0.6346914172172546, 'eval_recall': 0.9772607086197779, 'eval_precision': 0.6816672814459609, 'eval_runtime': 63.7945, 'eval_samples_per_second': 44.502, 'eval_steps_per_second': 5.565, 'epoch': 9.19}\n"
     ]
    },
    {
     "name": "stderr",
     "output_type": "stream",
     "text": [
      " 46%|████▌     | 26200/56780 [6:37:13<2:22:22,  3.58it/s]  The following columns in the evaluation set  don't have a corresponding argument in `BertForSequenceClassification.forward` and have been ignored: sentense. If sentense are not expected by `BertForSequenceClassification.forward`,  you can safely ignore this message.\n",
      "***** Running Evaluation *****\n",
      "  Num examples = 2839\n",
      "  Batch size = 8\n",
      "                                                         \n",
      " 46%|████▌     | 26200/56780 [6:38:17<2:22:22,  3.58it/s]"
     ]
    },
    {
     "name": "stdout",
     "output_type": "stream",
     "text": [
      "{'eval_loss': 0.6309909224510193, 'eval_recall': 0.9772607086197779, 'eval_precision': 0.6816672814459609, 'eval_runtime': 63.7849, 'eval_samples_per_second': 44.509, 'eval_steps_per_second': 5.566, 'epoch': 9.23}\n"
     ]
    },
    {
     "name": "stderr",
     "output_type": "stream",
     "text": [
      " 46%|████▋     | 26300/56780 [6:38:45<2:22:10,  3.57it/s]  The following columns in the evaluation set  don't have a corresponding argument in `BertForSequenceClassification.forward` and have been ignored: sentense. If sentense are not expected by `BertForSequenceClassification.forward`,  you can safely ignore this message.\n",
      "***** Running Evaluation *****\n",
      "  Num examples = 2839\n",
      "  Batch size = 8\n",
      "                                                         \n",
      " 46%|████▋     | 26300/56780 [6:39:49<2:22:10,  3.57it/s]"
     ]
    },
    {
     "name": "stdout",
     "output_type": "stream",
     "text": [
      "{'eval_loss': 0.6453794836997986, 'eval_recall': 0.9772607086197779, 'eval_precision': 0.6816672814459609, 'eval_runtime': 63.7204, 'eval_samples_per_second': 44.554, 'eval_steps_per_second': 5.571, 'epoch': 9.26}\n"
     ]
    },
    {
     "name": "stderr",
     "output_type": "stream",
     "text": [
      " 46%|████▋     | 26400/56780 [6:40:17<2:21:31,  3.58it/s]  The following columns in the evaluation set  don't have a corresponding argument in `BertForSequenceClassification.forward` and have been ignored: sentense. If sentense are not expected by `BertForSequenceClassification.forward`,  you can safely ignore this message.\n",
      "***** Running Evaluation *****\n",
      "  Num examples = 2839\n",
      "  Batch size = 8\n",
      "                                                         \n",
      " 46%|████▋     | 26400/56780 [6:41:20<2:21:31,  3.58it/s]"
     ]
    },
    {
     "name": "stdout",
     "output_type": "stream",
     "text": [
      "{'eval_loss': 0.6323233842849731, 'eval_recall': 0.9772607086197779, 'eval_precision': 0.6816672814459609, 'eval_runtime': 63.7438, 'eval_samples_per_second': 44.538, 'eval_steps_per_second': 5.569, 'epoch': 9.3}\n"
     ]
    },
    {
     "name": "stderr",
     "output_type": "stream",
     "text": [
      " 47%|████▋     | 26500/56780 [6:41:49<2:53:41,  2.91it/s]  The following columns in the evaluation set  don't have a corresponding argument in `BertForSequenceClassification.forward` and have been ignored: sentense. If sentense are not expected by `BertForSequenceClassification.forward`,  you can safely ignore this message.\n",
      "***** Running Evaluation *****\n",
      "  Num examples = 2839\n",
      "  Batch size = 8\n"
     ]
    },
    {
     "name": "stdout",
     "output_type": "stream",
     "text": [
      "{'loss': 0.6063, 'learning_rate': 2.6664318421979574e-05, 'epoch': 9.33}\n"
     ]
    },
    {
     "name": "stderr",
     "output_type": "stream",
     "text": [
      "                                                         \n",
      " 47%|████▋     | 26500/56780 [6:42:52<2:53:41,  2.91it/s]"
     ]
    },
    {
     "name": "stdout",
     "output_type": "stream",
     "text": [
      "{'eval_loss': 0.6325181126594543, 'eval_recall': 0.9772607086197779, 'eval_precision': 0.6816672814459609, 'eval_runtime': 63.7377, 'eval_samples_per_second': 44.542, 'eval_steps_per_second': 5.57, 'epoch': 9.33}\n"
     ]
    },
    {
     "name": "stderr",
     "output_type": "stream",
     "text": [
      " 47%|████▋     | 26600/56780 [6:43:20<2:20:22,  3.58it/s]  The following columns in the evaluation set  don't have a corresponding argument in `BertForSequenceClassification.forward` and have been ignored: sentense. If sentense are not expected by `BertForSequenceClassification.forward`,  you can safely ignore this message.\n",
      "***** Running Evaluation *****\n",
      "  Num examples = 2839\n",
      "  Batch size = 8\n",
      "                                                         \n",
      " 47%|████▋     | 26600/56780 [6:44:24<2:20:22,  3.58it/s]"
     ]
    },
    {
     "name": "stdout",
     "output_type": "stream",
     "text": [
      "{'eval_loss': 0.6359652280807495, 'eval_recall': 0.9772607086197779, 'eval_precision': 0.6816672814459609, 'eval_runtime': 63.7508, 'eval_samples_per_second': 44.533, 'eval_steps_per_second': 5.569, 'epoch': 9.37}\n"
     ]
    },
    {
     "name": "stderr",
     "output_type": "stream",
     "text": [
      " 47%|████▋     | 26700/56780 [6:44:52<2:20:41,  3.56it/s]  The following columns in the evaluation set  don't have a corresponding argument in `BertForSequenceClassification.forward` and have been ignored: sentense. If sentense are not expected by `BertForSequenceClassification.forward`,  you can safely ignore this message.\n",
      "***** Running Evaluation *****\n",
      "  Num examples = 2839\n",
      "  Batch size = 8\n",
      "                                                         \n",
      " 47%|████▋     | 26700/56780 [6:45:56<2:20:41,  3.56it/s]"
     ]
    },
    {
     "name": "stdout",
     "output_type": "stream",
     "text": [
      "{'eval_loss': 0.6277672648429871, 'eval_recall': 0.9772607086197779, 'eval_precision': 0.6816672814459609, 'eval_runtime': 63.7366, 'eval_samples_per_second': 44.543, 'eval_steps_per_second': 5.57, 'epoch': 9.4}\n"
     ]
    },
    {
     "name": "stderr",
     "output_type": "stream",
     "text": [
      " 47%|████▋     | 26800/56780 [6:46:24<2:19:09,  3.59it/s]  The following columns in the evaluation set  don't have a corresponding argument in `BertForSequenceClassification.forward` and have been ignored: sentense. If sentense are not expected by `BertForSequenceClassification.forward`,  you can safely ignore this message.\n",
      "***** Running Evaluation *****\n",
      "  Num examples = 2839\n",
      "  Batch size = 8\n",
      "                                                         \n",
      " 47%|████▋     | 26800/56780 [6:47:27<2:19:09,  3.59it/s]"
     ]
    },
    {
     "name": "stdout",
     "output_type": "stream",
     "text": [
      "{'eval_loss': 0.6356339454650879, 'eval_recall': 0.9772607086197779, 'eval_precision': 0.6816672814459609, 'eval_runtime': 63.725, 'eval_samples_per_second': 44.551, 'eval_steps_per_second': 5.571, 'epoch': 9.44}\n"
     ]
    },
    {
     "name": "stderr",
     "output_type": "stream",
     "text": [
      " 47%|████▋     | 26900/56780 [6:47:55<2:19:11,  3.58it/s]  The following columns in the evaluation set  don't have a corresponding argument in `BertForSequenceClassification.forward` and have been ignored: sentense. If sentense are not expected by `BertForSequenceClassification.forward`,  you can safely ignore this message.\n",
      "***** Running Evaluation *****\n",
      "  Num examples = 2839\n",
      "  Batch size = 8\n",
      "                                                         \n",
      " 47%|████▋     | 26900/56780 [6:48:59<2:19:11,  3.58it/s]"
     ]
    },
    {
     "name": "stdout",
     "output_type": "stream",
     "text": [
      "{'eval_loss': 0.6385056972503662, 'eval_recall': 0.9772607086197779, 'eval_precision': 0.6819188191881919, 'eval_runtime': 63.8281, 'eval_samples_per_second': 44.479, 'eval_steps_per_second': 5.562, 'epoch': 9.48}\n"
     ]
    },
    {
     "name": "stderr",
     "output_type": "stream",
     "text": [
      " 48%|████▊     | 27000/56780 [6:49:27<2:52:10,  2.88it/s]  The following columns in the evaluation set  don't have a corresponding argument in `BertForSequenceClassification.forward` and have been ignored: sentense. If sentense are not expected by `BertForSequenceClassification.forward`,  you can safely ignore this message.\n",
      "***** Running Evaluation *****\n",
      "  Num examples = 2839\n",
      "  Batch size = 8\n"
     ]
    },
    {
     "name": "stdout",
     "output_type": "stream",
     "text": [
      "{'loss': 0.6297, 'learning_rate': 2.6224022543148997e-05, 'epoch': 9.51}\n"
     ]
    },
    {
     "name": "stderr",
     "output_type": "stream",
     "text": [
      "                                                         \n",
      " 48%|████▊     | 27000/56780 [6:50:31<2:52:10,  2.88it/s]"
     ]
    },
    {
     "name": "stdout",
     "output_type": "stream",
     "text": [
      "{'eval_loss': 0.6324881315231323, 'eval_recall': 0.9772607086197779, 'eval_precision': 0.6819188191881919, 'eval_runtime': 63.7592, 'eval_samples_per_second': 44.527, 'eval_steps_per_second': 5.568, 'epoch': 9.51}\n"
     ]
    },
    {
     "name": "stderr",
     "output_type": "stream",
     "text": [
      " 48%|████▊     | 27100/56780 [6:50:59<2:18:10,  3.58it/s]  The following columns in the evaluation set  don't have a corresponding argument in `BertForSequenceClassification.forward` and have been ignored: sentense. If sentense are not expected by `BertForSequenceClassification.forward`,  you can safely ignore this message.\n",
      "***** Running Evaluation *****\n",
      "  Num examples = 2839\n",
      "  Batch size = 8\n",
      "                                                         \n",
      " 48%|████▊     | 27100/56780 [6:52:03<2:18:10,  3.58it/s]"
     ]
    },
    {
     "name": "stdout",
     "output_type": "stream",
     "text": [
      "{'eval_loss': 0.6296000480651855, 'eval_recall': 0.9772607086197779, 'eval_precision': 0.6819188191881919, 'eval_runtime': 63.8424, 'eval_samples_per_second': 44.469, 'eval_steps_per_second': 5.561, 'epoch': 9.55}\n"
     ]
    },
    {
     "name": "stderr",
     "output_type": "stream",
     "text": [
      " 48%|████▊     | 27200/56780 [6:52:31<2:17:47,  3.58it/s]  The following columns in the evaluation set  don't have a corresponding argument in `BertForSequenceClassification.forward` and have been ignored: sentense. If sentense are not expected by `BertForSequenceClassification.forward`,  you can safely ignore this message.\n",
      "***** Running Evaluation *****\n",
      "  Num examples = 2839\n",
      "  Batch size = 8\n",
      "                                                         \n",
      " 48%|████▊     | 27200/56780 [6:53:35<2:17:47,  3.58it/s]"
     ]
    },
    {
     "name": "stdout",
     "output_type": "stream",
     "text": [
      "{'eval_loss': 0.6335127353668213, 'eval_recall': 0.9772607086197779, 'eval_precision': 0.6819188191881919, 'eval_runtime': 63.8232, 'eval_samples_per_second': 44.482, 'eval_steps_per_second': 5.562, 'epoch': 9.58}\n"
     ]
    },
    {
     "name": "stderr",
     "output_type": "stream",
     "text": [
      " 48%|████▊     | 27300/56780 [6:54:03<2:17:24,  3.58it/s]  The following columns in the evaluation set  don't have a corresponding argument in `BertForSequenceClassification.forward` and have been ignored: sentense. If sentense are not expected by `BertForSequenceClassification.forward`,  you can safely ignore this message.\n",
      "***** Running Evaluation *****\n",
      "  Num examples = 2839\n",
      "  Batch size = 8\n",
      "                                                         \n",
      " 48%|████▊     | 27300/56780 [6:55:07<2:17:24,  3.58it/s]"
     ]
    },
    {
     "name": "stdout",
     "output_type": "stream",
     "text": [
      "{'eval_loss': 0.638990581035614, 'eval_recall': 0.9772607086197779, 'eval_precision': 0.6819188191881919, 'eval_runtime': 63.7942, 'eval_samples_per_second': 44.502, 'eval_steps_per_second': 5.565, 'epoch': 9.62}\n"
     ]
    },
    {
     "name": "stderr",
     "output_type": "stream",
     "text": [
      " 48%|████▊     | 27400/56780 [6:55:35<2:16:50,  3.58it/s]  The following columns in the evaluation set  don't have a corresponding argument in `BertForSequenceClassification.forward` and have been ignored: sentense. If sentense are not expected by `BertForSequenceClassification.forward`,  you can safely ignore this message.\n",
      "***** Running Evaluation *****\n",
      "  Num examples = 2839\n",
      "  Batch size = 8\n",
      "                                                         \n",
      " 48%|████▊     | 27400/56780 [6:56:39<2:16:50,  3.58it/s]"
     ]
    },
    {
     "name": "stdout",
     "output_type": "stream",
     "text": [
      "{'eval_loss': 0.6322349309921265, 'eval_recall': 0.9772607086197779, 'eval_precision': 0.6819188191881919, 'eval_runtime': 63.8545, 'eval_samples_per_second': 44.46, 'eval_steps_per_second': 5.56, 'epoch': 9.65}\n"
     ]
    },
    {
     "name": "stderr",
     "output_type": "stream",
     "text": [
      " 48%|████▊     | 27500/56780 [6:57:07<2:47:17,  2.92it/s]  The following columns in the evaluation set  don't have a corresponding argument in `BertForSequenceClassification.forward` and have been ignored: sentense. If sentense are not expected by `BertForSequenceClassification.forward`,  you can safely ignore this message.\n",
      "***** Running Evaluation *****\n",
      "  Num examples = 2839\n",
      "  Batch size = 8\n"
     ]
    },
    {
     "name": "stdout",
     "output_type": "stream",
     "text": [
      "{'loss': 0.6278, 'learning_rate': 2.5783726664318426e-05, 'epoch': 9.69}\n"
     ]
    },
    {
     "name": "stderr",
     "output_type": "stream",
     "text": [
      "                                                         \n",
      " 48%|████▊     | 27500/56780 [6:58:11<2:47:17,  2.92it/s]"
     ]
    },
    {
     "name": "stdout",
     "output_type": "stream",
     "text": [
      "{'eval_loss': 0.6327235102653503, 'eval_recall': 0.9777895293495505, 'eval_precision': 0.6820361490225009, 'eval_runtime': 63.8669, 'eval_samples_per_second': 44.452, 'eval_steps_per_second': 5.558, 'epoch': 9.69}\n"
     ]
    },
    {
     "name": "stderr",
     "output_type": "stream",
     "text": [
      " 49%|████▊     | 27600/56780 [6:58:39<2:15:57,  3.58it/s]  The following columns in the evaluation set  don't have a corresponding argument in `BertForSequenceClassification.forward` and have been ignored: sentense. If sentense are not expected by `BertForSequenceClassification.forward`,  you can safely ignore this message.\n",
      "***** Running Evaluation *****\n",
      "  Num examples = 2839\n",
      "  Batch size = 8\n",
      "                                                         \n",
      " 49%|████▊     | 27600/56780 [6:59:42<2:15:57,  3.58it/s]"
     ]
    },
    {
     "name": "stdout",
     "output_type": "stream",
     "text": [
      "{'eval_loss': 0.6357781291007996, 'eval_recall': 0.9772607086197779, 'eval_precision': 0.6816672814459609, 'eval_runtime': 63.8036, 'eval_samples_per_second': 44.496, 'eval_steps_per_second': 5.564, 'epoch': 9.72}\n"
     ]
    },
    {
     "name": "stderr",
     "output_type": "stream",
     "text": [
      " 49%|████▉     | 27700/56780 [7:00:10<2:15:56,  3.57it/s]  The following columns in the evaluation set  don't have a corresponding argument in `BertForSequenceClassification.forward` and have been ignored: sentense. If sentense are not expected by `BertForSequenceClassification.forward`,  you can safely ignore this message.\n",
      "***** Running Evaluation *****\n",
      "  Num examples = 2839\n",
      "  Batch size = 8\n",
      "                                                         \n",
      " 49%|████▉     | 27700/56780 [7:01:14<2:15:56,  3.57it/s]"
     ]
    },
    {
     "name": "stdout",
     "output_type": "stream",
     "text": [
      "{'eval_loss': 0.6292495727539062, 'eval_recall': 0.9772607086197779, 'eval_precision': 0.6816672814459609, 'eval_runtime': 63.7953, 'eval_samples_per_second': 44.502, 'eval_steps_per_second': 5.565, 'epoch': 9.76}\n"
     ]
    },
    {
     "name": "stderr",
     "output_type": "stream",
     "text": [
      " 49%|████▉     | 27800/56780 [7:01:42<2:15:20,  3.57it/s]  The following columns in the evaluation set  don't have a corresponding argument in `BertForSequenceClassification.forward` and have been ignored: sentense. If sentense are not expected by `BertForSequenceClassification.forward`,  you can safely ignore this message.\n",
      "***** Running Evaluation *****\n",
      "  Num examples = 2839\n",
      "  Batch size = 8\n",
      "                                                         \n",
      " 49%|████▉     | 27800/56780 [7:02:46<2:15:20,  3.57it/s]"
     ]
    },
    {
     "name": "stdout",
     "output_type": "stream",
     "text": [
      "{'eval_loss': 0.6269328594207764, 'eval_recall': 0.9772607086197779, 'eval_precision': 0.6816672814459609, 'eval_runtime': 63.7799, 'eval_samples_per_second': 44.512, 'eval_steps_per_second': 5.566, 'epoch': 9.79}\n"
     ]
    },
    {
     "name": "stderr",
     "output_type": "stream",
     "text": [
      " 49%|████▉     | 27900/56780 [7:03:14<2:14:55,  3.57it/s]  The following columns in the evaluation set  don't have a corresponding argument in `BertForSequenceClassification.forward` and have been ignored: sentense. If sentense are not expected by `BertForSequenceClassification.forward`,  you can safely ignore this message.\n",
      "***** Running Evaluation *****\n",
      "  Num examples = 2839\n",
      "  Batch size = 8\n",
      "                                                         \n",
      " 49%|████▉     | 27900/56780 [7:04:18<2:14:55,  3.57it/s]"
     ]
    },
    {
     "name": "stdout",
     "output_type": "stream",
     "text": [
      "{'eval_loss': 0.6265905499458313, 'eval_recall': 0.9772607086197779, 'eval_precision': 0.6816672814459609, 'eval_runtime': 63.8459, 'eval_samples_per_second': 44.466, 'eval_steps_per_second': 5.56, 'epoch': 9.83}\n"
     ]
    },
    {
     "name": "stderr",
     "output_type": "stream",
     "text": [
      " 49%|████▉     | 28000/56780 [7:04:46<2:45:04,  2.91it/s]  The following columns in the evaluation set  don't have a corresponding argument in `BertForSequenceClassification.forward` and have been ignored: sentense. If sentense are not expected by `BertForSequenceClassification.forward`,  you can safely ignore this message.\n",
      "***** Running Evaluation *****\n",
      "  Num examples = 2839\n",
      "  Batch size = 8\n"
     ]
    },
    {
     "name": "stdout",
     "output_type": "stream",
     "text": [
      "{'loss': 0.6304, 'learning_rate': 2.534343078548785e-05, 'epoch': 9.86}\n"
     ]
    },
    {
     "name": "stderr",
     "output_type": "stream",
     "text": [
      "                                                         \n",
      " 49%|████▉     | 28000/56780 [7:05:50<2:45:04,  2.91it/s]"
     ]
    },
    {
     "name": "stdout",
     "output_type": "stream",
     "text": [
      "{'eval_loss': 0.6277465224266052, 'eval_recall': 0.9772607086197779, 'eval_precision': 0.6816672814459609, 'eval_runtime': 63.8091, 'eval_samples_per_second': 44.492, 'eval_steps_per_second': 5.563, 'epoch': 9.86}\n"
     ]
    },
    {
     "name": "stderr",
     "output_type": "stream",
     "text": [
      " 49%|████▉     | 28100/56780 [7:06:18<2:14:26,  3.56it/s]  The following columns in the evaluation set  don't have a corresponding argument in `BertForSequenceClassification.forward` and have been ignored: sentense. If sentense are not expected by `BertForSequenceClassification.forward`,  you can safely ignore this message.\n",
      "***** Running Evaluation *****\n",
      "  Num examples = 2839\n",
      "  Batch size = 8\n",
      "                                                         \n",
      " 49%|████▉     | 28100/56780 [7:07:22<2:14:26,  3.56it/s]"
     ]
    },
    {
     "name": "stdout",
     "output_type": "stream",
     "text": [
      "{'eval_loss': 0.6316962242126465, 'eval_recall': 0.9772607086197779, 'eval_precision': 0.6816672814459609, 'eval_runtime': 63.853, 'eval_samples_per_second': 44.461, 'eval_steps_per_second': 5.56, 'epoch': 9.9}\n"
     ]
    },
    {
     "name": "stderr",
     "output_type": "stream",
     "text": [
      " 50%|████▉     | 28200/56780 [7:07:50<2:13:36,  3.57it/s]  The following columns in the evaluation set  don't have a corresponding argument in `BertForSequenceClassification.forward` and have been ignored: sentense. If sentense are not expected by `BertForSequenceClassification.forward`,  you can safely ignore this message.\n",
      "***** Running Evaluation *****\n",
      "  Num examples = 2839\n",
      "  Batch size = 8\n",
      "                                                         \n",
      " 50%|████▉     | 28200/56780 [7:08:53<2:13:36,  3.57it/s]"
     ]
    },
    {
     "name": "stdout",
     "output_type": "stream",
     "text": [
      "{'eval_loss': 0.6342899203300476, 'eval_recall': 0.9772607086197779, 'eval_precision': 0.6816672814459609, 'eval_runtime': 63.8369, 'eval_samples_per_second': 44.473, 'eval_steps_per_second': 5.561, 'epoch': 9.93}\n"
     ]
    },
    {
     "name": "stderr",
     "output_type": "stream",
     "text": [
      " 50%|████▉     | 28300/56780 [7:09:21<2:13:03,  3.57it/s]  The following columns in the evaluation set  don't have a corresponding argument in `BertForSequenceClassification.forward` and have been ignored: sentense. If sentense are not expected by `BertForSequenceClassification.forward`,  you can safely ignore this message.\n",
      "***** Running Evaluation *****\n",
      "  Num examples = 2839\n",
      "  Batch size = 8\n",
      "                                                         \n",
      " 50%|████▉     | 28300/56780 [7:10:25<2:13:03,  3.57it/s]"
     ]
    },
    {
     "name": "stdout",
     "output_type": "stream",
     "text": [
      "{'eval_loss': 0.6271340250968933, 'eval_recall': 0.9772607086197779, 'eval_precision': 0.6816672814459609, 'eval_runtime': 63.8537, 'eval_samples_per_second': 44.461, 'eval_steps_per_second': 5.56, 'epoch': 9.97}\n"
     ]
    },
    {
     "name": "stderr",
     "output_type": "stream",
     "text": [
      " 50%|█████     | 28400/56780 [7:10:53<2:11:42,  3.59it/s]  The following columns in the evaluation set  don't have a corresponding argument in `BertForSequenceClassification.forward` and have been ignored: sentense. If sentense are not expected by `BertForSequenceClassification.forward`,  you can safely ignore this message.\n",
      "***** Running Evaluation *****\n",
      "  Num examples = 2839\n",
      "  Batch size = 8\n",
      "                                                         \n",
      " 50%|█████     | 28400/56780 [7:11:57<2:11:42,  3.59it/s]"
     ]
    },
    {
     "name": "stdout",
     "output_type": "stream",
     "text": [
      "{'eval_loss': 0.6337777972221375, 'eval_recall': 0.9772607086197779, 'eval_precision': 0.6816672814459609, 'eval_runtime': 63.85, 'eval_samples_per_second': 44.464, 'eval_steps_per_second': 5.56, 'epoch': 10.0}\n"
     ]
    },
    {
     "name": "stderr",
     "output_type": "stream",
     "text": [
      " 50%|█████     | 28500/56780 [7:12:25<2:41:57,  2.91it/s]  The following columns in the evaluation set  don't have a corresponding argument in `BertForSequenceClassification.forward` and have been ignored: sentense. If sentense are not expected by `BertForSequenceClassification.forward`,  you can safely ignore this message.\n",
      "***** Running Evaluation *****\n",
      "  Num examples = 2839\n",
      "  Batch size = 8\n"
     ]
    },
    {
     "name": "stdout",
     "output_type": "stream",
     "text": [
      "{'loss': 0.6249, 'learning_rate': 2.4903134906657275e-05, 'epoch': 10.04}\n"
     ]
    },
    {
     "name": "stderr",
     "output_type": "stream",
     "text": [
      "                                                         \n",
      " 50%|█████     | 28500/56780 [7:13:29<2:41:57,  2.91it/s]"
     ]
    },
    {
     "name": "stdout",
     "output_type": "stream",
     "text": [
      "{'eval_loss': 0.6340889930725098, 'eval_recall': 0.9772607086197779, 'eval_precision': 0.6816672814459609, 'eval_runtime': 63.9119, 'eval_samples_per_second': 44.421, 'eval_steps_per_second': 5.555, 'epoch': 10.04}\n"
     ]
    },
    {
     "name": "stderr",
     "output_type": "stream",
     "text": [
      " 50%|█████     | 28600/56780 [7:13:57<2:11:29,  3.57it/s]  The following columns in the evaluation set  don't have a corresponding argument in `BertForSequenceClassification.forward` and have been ignored: sentense. If sentense are not expected by `BertForSequenceClassification.forward`,  you can safely ignore this message.\n",
      "***** Running Evaluation *****\n",
      "  Num examples = 2839\n",
      "  Batch size = 8\n",
      "                                                         \n",
      " 50%|█████     | 28600/56780 [7:15:01<2:11:29,  3.57it/s]"
     ]
    },
    {
     "name": "stdout",
     "output_type": "stream",
     "text": [
      "{'eval_loss': 0.646621584892273, 'eval_recall': 0.9772607086197779, 'eval_precision': 0.6816672814459609, 'eval_runtime': 63.927, 'eval_samples_per_second': 44.41, 'eval_steps_per_second': 5.553, 'epoch': 10.07}\n"
     ]
    },
    {
     "name": "stderr",
     "output_type": "stream",
     "text": [
      " 51%|█████     | 28700/56780 [7:15:29<2:10:58,  3.57it/s]  The following columns in the evaluation set  don't have a corresponding argument in `BertForSequenceClassification.forward` and have been ignored: sentense. If sentense are not expected by `BertForSequenceClassification.forward`,  you can safely ignore this message.\n",
      "***** Running Evaluation *****\n",
      "  Num examples = 2839\n",
      "  Batch size = 8\n",
      "                                                         \n",
      " 51%|█████     | 28700/56780 [7:16:33<2:10:58,  3.57it/s]"
     ]
    },
    {
     "name": "stdout",
     "output_type": "stream",
     "text": [
      "{'eval_loss': 0.6291980147361755, 'eval_recall': 0.9772607086197779, 'eval_precision': 0.6816672814459609, 'eval_runtime': 63.8577, 'eval_samples_per_second': 44.458, 'eval_steps_per_second': 5.559, 'epoch': 10.11}\n"
     ]
    },
    {
     "name": "stderr",
     "output_type": "stream",
     "text": [
      " 51%|█████     | 28800/56780 [7:17:01<2:10:42,  3.57it/s]  The following columns in the evaluation set  don't have a corresponding argument in `BertForSequenceClassification.forward` and have been ignored: sentense. If sentense are not expected by `BertForSequenceClassification.forward`,  you can safely ignore this message.\n",
      "***** Running Evaluation *****\n",
      "  Num examples = 2839\n",
      "  Batch size = 8\n",
      "                                                         \n",
      " 51%|█████     | 28800/56780 [7:18:05<2:10:42,  3.57it/s]"
     ]
    },
    {
     "name": "stdout",
     "output_type": "stream",
     "text": [
      "{'eval_loss': 0.6318178772926331, 'eval_recall': 0.9772607086197779, 'eval_precision': 0.6816672814459609, 'eval_runtime': 63.8284, 'eval_samples_per_second': 44.479, 'eval_steps_per_second': 5.562, 'epoch': 10.14}\n"
     ]
    },
    {
     "name": "stderr",
     "output_type": "stream",
     "text": [
      " 51%|█████     | 28900/56780 [7:18:33<2:09:19,  3.59it/s]  The following columns in the evaluation set  don't have a corresponding argument in `BertForSequenceClassification.forward` and have been ignored: sentense. If sentense are not expected by `BertForSequenceClassification.forward`,  you can safely ignore this message.\n",
      "***** Running Evaluation *****\n",
      "  Num examples = 2839\n",
      "  Batch size = 8\n",
      "                                                         \n",
      " 51%|█████     | 28900/56780 [7:19:37<2:09:19,  3.59it/s]"
     ]
    },
    {
     "name": "stdout",
     "output_type": "stream",
     "text": [
      "{'eval_loss': 0.6427010893821716, 'eval_recall': 0.9772607086197779, 'eval_precision': 0.6816672814459609, 'eval_runtime': 63.8468, 'eval_samples_per_second': 44.466, 'eval_steps_per_second': 5.56, 'epoch': 10.18}\n"
     ]
    },
    {
     "name": "stderr",
     "output_type": "stream",
     "text": [
      " 51%|█████     | 29000/56780 [7:20:05<2:38:59,  2.91it/s]  The following columns in the evaluation set  don't have a corresponding argument in `BertForSequenceClassification.forward` and have been ignored: sentense. If sentense are not expected by `BertForSequenceClassification.forward`,  you can safely ignore this message.\n",
      "***** Running Evaluation *****\n",
      "  Num examples = 2839\n",
      "  Batch size = 8\n"
     ]
    },
    {
     "name": "stdout",
     "output_type": "stream",
     "text": [
      "{'loss': 0.6145, 'learning_rate': 2.44628390278267e-05, 'epoch': 10.21}\n"
     ]
    },
    {
     "name": "stderr",
     "output_type": "stream",
     "text": [
      "                                                         \n",
      " 51%|█████     | 29000/56780 [7:21:09<2:38:59,  2.91it/s]"
     ]
    },
    {
     "name": "stdout",
     "output_type": "stream",
     "text": [
      "{'eval_loss': 0.6296052932739258, 'eval_recall': 0.9772607086197779, 'eval_precision': 0.6816672814459609, 'eval_runtime': 63.7806, 'eval_samples_per_second': 44.512, 'eval_steps_per_second': 5.566, 'epoch': 10.21}\n"
     ]
    },
    {
     "name": "stderr",
     "output_type": "stream",
     "text": [
      " 51%|█████▏    | 29100/56780 [7:21:37<2:09:19,  3.57it/s]  The following columns in the evaluation set  don't have a corresponding argument in `BertForSequenceClassification.forward` and have been ignored: sentense. If sentense are not expected by `BertForSequenceClassification.forward`,  you can safely ignore this message.\n",
      "***** Running Evaluation *****\n",
      "  Num examples = 2839\n",
      "  Batch size = 8\n",
      "                                                         \n",
      " 51%|█████▏    | 29100/56780 [7:22:40<2:09:19,  3.57it/s]"
     ]
    },
    {
     "name": "stdout",
     "output_type": "stream",
     "text": [
      "{'eval_loss': 0.6306853294372559, 'eval_recall': 0.9772607086197779, 'eval_precision': 0.6816672814459609, 'eval_runtime': 63.7134, 'eval_samples_per_second': 44.559, 'eval_steps_per_second': 5.572, 'epoch': 10.25}\n"
     ]
    },
    {
     "name": "stderr",
     "output_type": "stream",
     "text": [
      " 51%|█████▏    | 29200/56780 [7:23:08<2:08:26,  3.58it/s]  The following columns in the evaluation set  don't have a corresponding argument in `BertForSequenceClassification.forward` and have been ignored: sentense. If sentense are not expected by `BertForSequenceClassification.forward`,  you can safely ignore this message.\n",
      "***** Running Evaluation *****\n",
      "  Num examples = 2839\n",
      "  Batch size = 8\n",
      "                                                         \n",
      " 51%|█████▏    | 29200/56780 [7:24:12<2:08:26,  3.58it/s]"
     ]
    },
    {
     "name": "stdout",
     "output_type": "stream",
     "text": [
      "{'eval_loss': 0.6283165216445923, 'eval_recall': 0.9772607086197779, 'eval_precision': 0.6816672814459609, 'eval_runtime': 63.733, 'eval_samples_per_second': 44.545, 'eval_steps_per_second': 5.57, 'epoch': 10.29}\n"
     ]
    },
    {
     "name": "stderr",
     "output_type": "stream",
     "text": [
      " 52%|█████▏    | 29300/56780 [7:24:40<2:07:48,  3.58it/s]  The following columns in the evaluation set  don't have a corresponding argument in `BertForSequenceClassification.forward` and have been ignored: sentense. If sentense are not expected by `BertForSequenceClassification.forward`,  you can safely ignore this message.\n",
      "***** Running Evaluation *****\n",
      "  Num examples = 2839\n",
      "  Batch size = 8\n",
      "                                                         \n",
      " 52%|█████▏    | 29300/56780 [7:25:44<2:07:48,  3.58it/s]"
     ]
    },
    {
     "name": "stdout",
     "output_type": "stream",
     "text": [
      "{'eval_loss': 0.6284012198448181, 'eval_recall': 0.9772607086197779, 'eval_precision': 0.6816672814459609, 'eval_runtime': 63.738, 'eval_samples_per_second': 44.542, 'eval_steps_per_second': 5.57, 'epoch': 10.32}\n"
     ]
    },
    {
     "name": "stderr",
     "output_type": "stream",
     "text": [
      " 52%|█████▏    | 29400/56780 [7:26:12<2:07:37,  3.58it/s]  The following columns in the evaluation set  don't have a corresponding argument in `BertForSequenceClassification.forward` and have been ignored: sentense. If sentense are not expected by `BertForSequenceClassification.forward`,  you can safely ignore this message.\n",
      "***** Running Evaluation *****\n",
      "  Num examples = 2839\n",
      "  Batch size = 8\n",
      "                                                         \n",
      " 52%|█████▏    | 29400/56780 [7:27:15<2:07:37,  3.58it/s]"
     ]
    },
    {
     "name": "stdout",
     "output_type": "stream",
     "text": [
      "{'eval_loss': 0.6267854571342468, 'eval_recall': 0.9772607086197779, 'eval_precision': 0.6816672814459609, 'eval_runtime': 63.7213, 'eval_samples_per_second': 44.553, 'eval_steps_per_second': 5.571, 'epoch': 10.36}\n"
     ]
    },
    {
     "name": "stderr",
     "output_type": "stream",
     "text": [
      " 52%|█████▏    | 29500/56780 [7:27:44<2:37:18,  2.89it/s]  The following columns in the evaluation set  don't have a corresponding argument in `BertForSequenceClassification.forward` and have been ignored: sentense. If sentense are not expected by `BertForSequenceClassification.forward`,  you can safely ignore this message.\n",
      "***** Running Evaluation *****\n",
      "  Num examples = 2839\n",
      "  Batch size = 8\n"
     ]
    },
    {
     "name": "stdout",
     "output_type": "stream",
     "text": [
      "{'loss': 0.6377, 'learning_rate': 2.4022543148996128e-05, 'epoch': 10.39}\n"
     ]
    },
    {
     "name": "stderr",
     "output_type": "stream",
     "text": [
      "                                                         \n",
      " 52%|█████▏    | 29500/56780 [7:28:47<2:37:18,  2.89it/s]"
     ]
    },
    {
     "name": "stdout",
     "output_type": "stream",
     "text": [
      "{'eval_loss': 0.6274451613426208, 'eval_recall': 0.9772607086197779, 'eval_precision': 0.6816672814459609, 'eval_runtime': 63.6781, 'eval_samples_per_second': 44.584, 'eval_steps_per_second': 5.575, 'epoch': 10.39}\n"
     ]
    },
    {
     "name": "stderr",
     "output_type": "stream",
     "text": [
      " 52%|█████▏    | 29600/56780 [7:29:15<2:06:32,  3.58it/s]  The following columns in the evaluation set  don't have a corresponding argument in `BertForSequenceClassification.forward` and have been ignored: sentense. If sentense are not expected by `BertForSequenceClassification.forward`,  you can safely ignore this message.\n",
      "***** Running Evaluation *****\n",
      "  Num examples = 2839\n",
      "  Batch size = 8\n",
      "                                                         \n",
      " 52%|█████▏    | 29600/56780 [7:30:19<2:06:32,  3.58it/s]"
     ]
    },
    {
     "name": "stdout",
     "output_type": "stream",
     "text": [
      "{'eval_loss': 0.6278554201126099, 'eval_recall': 0.9772607086197779, 'eval_precision': 0.6816672814459609, 'eval_runtime': 63.699, 'eval_samples_per_second': 44.569, 'eval_steps_per_second': 5.573, 'epoch': 10.43}\n"
     ]
    },
    {
     "name": "stderr",
     "output_type": "stream",
     "text": [
      " 52%|█████▏    | 29700/56780 [7:30:47<2:06:07,  3.58it/s]  The following columns in the evaluation set  don't have a corresponding argument in `BertForSequenceClassification.forward` and have been ignored: sentense. If sentense are not expected by `BertForSequenceClassification.forward`,  you can safely ignore this message.\n",
      "***** Running Evaluation *****\n",
      "  Num examples = 2839\n",
      "  Batch size = 8\n",
      "                                                         \n",
      " 52%|█████▏    | 29700/56780 [7:31:50<2:06:07,  3.58it/s]"
     ]
    },
    {
     "name": "stdout",
     "output_type": "stream",
     "text": [
      "{'eval_loss': 0.6270392537117004, 'eval_recall': 0.9772607086197779, 'eval_precision': 0.6816672814459609, 'eval_runtime': 63.668, 'eval_samples_per_second': 44.591, 'eval_steps_per_second': 5.576, 'epoch': 10.46}\n"
     ]
    },
    {
     "name": "stderr",
     "output_type": "stream",
     "text": [
      " 52%|█████▏    | 29800/56780 [7:32:18<2:05:56,  3.57it/s]  The following columns in the evaluation set  don't have a corresponding argument in `BertForSequenceClassification.forward` and have been ignored: sentense. If sentense are not expected by `BertForSequenceClassification.forward`,  you can safely ignore this message.\n",
      "***** Running Evaluation *****\n",
      "  Num examples = 2839\n",
      "  Batch size = 8\n",
      "                                                         \n",
      " 52%|█████▏    | 29800/56780 [7:33:22<2:05:56,  3.57it/s]"
     ]
    },
    {
     "name": "stdout",
     "output_type": "stream",
     "text": [
      "{'eval_loss': 0.6324397325515747, 'eval_recall': 0.9772607086197779, 'eval_precision': 0.6816672814459609, 'eval_runtime': 63.7602, 'eval_samples_per_second': 44.526, 'eval_steps_per_second': 5.568, 'epoch': 10.5}\n"
     ]
    },
    {
     "name": "stderr",
     "output_type": "stream",
     "text": [
      " 53%|█████▎    | 29900/56780 [7:33:50<2:05:25,  3.57it/s]  The following columns in the evaluation set  don't have a corresponding argument in `BertForSequenceClassification.forward` and have been ignored: sentense. If sentense are not expected by `BertForSequenceClassification.forward`,  you can safely ignore this message.\n",
      "***** Running Evaluation *****\n",
      "  Num examples = 2839\n",
      "  Batch size = 8\n",
      "                                                         \n",
      " 53%|█████▎    | 29900/56780 [7:34:54<2:05:25,  3.57it/s]"
     ]
    },
    {
     "name": "stdout",
     "output_type": "stream",
     "text": [
      "{'eval_loss': 0.6406419277191162, 'eval_recall': 0.9772607086197779, 'eval_precision': 0.6816672814459609, 'eval_runtime': 63.8127, 'eval_samples_per_second': 44.49, 'eval_steps_per_second': 5.563, 'epoch': 10.53}\n"
     ]
    },
    {
     "name": "stderr",
     "output_type": "stream",
     "text": [
      " 53%|█████▎    | 30000/56780 [7:35:22<2:34:13,  2.89it/s]  The following columns in the evaluation set  don't have a corresponding argument in `BertForSequenceClassification.forward` and have been ignored: sentense. If sentense are not expected by `BertForSequenceClassification.forward`,  you can safely ignore this message.\n",
      "***** Running Evaluation *****\n",
      "  Num examples = 2839\n",
      "  Batch size = 8\n"
     ]
    },
    {
     "name": "stdout",
     "output_type": "stream",
     "text": [
      "{'loss': 0.6233, 'learning_rate': 2.3582247270165554e-05, 'epoch': 10.57}\n"
     ]
    },
    {
     "name": "stderr",
     "output_type": "stream",
     "text": [
      "                                                         \n",
      " 53%|█████▎    | 30000/56780 [7:36:26<2:34:13,  2.89it/s]Saving model checkpoint to bert-classifier-trainer\\checkpoint-30000\n",
      "Configuration saved in bert-classifier-trainer\\checkpoint-30000\\config.json\n"
     ]
    },
    {
     "name": "stdout",
     "output_type": "stream",
     "text": [
      "{'eval_loss': 0.6400848031044006, 'eval_recall': 0.9772607086197779, 'eval_precision': 0.6816672814459609, 'eval_runtime': 63.8521, 'eval_samples_per_second': 44.462, 'eval_steps_per_second': 5.56, 'epoch': 10.57}\n"
     ]
    },
    {
     "name": "stderr",
     "output_type": "stream",
     "text": [
      "Model weights saved in bert-classifier-trainer\\checkpoint-30000\\pytorch_model.bin\n",
      " 53%|█████▎    | 30100/56780 [7:37:03<2:04:17,  3.58it/s]  The following columns in the evaluation set  don't have a corresponding argument in `BertForSequenceClassification.forward` and have been ignored: sentense. If sentense are not expected by `BertForSequenceClassification.forward`,  you can safely ignore this message.\n",
      "***** Running Evaluation *****\n",
      "  Num examples = 2839\n",
      "  Batch size = 8\n",
      "                                                         \n",
      " 53%|█████▎    | 30100/56780 [7:38:06<2:04:17,  3.58it/s]"
     ]
    },
    {
     "name": "stdout",
     "output_type": "stream",
     "text": [
      "{'eval_loss': 0.6317947506904602, 'eval_recall': 0.9772607086197779, 'eval_precision': 0.6816672814459609, 'eval_runtime': 63.6407, 'eval_samples_per_second': 44.61, 'eval_steps_per_second': 5.578, 'epoch': 10.6}\n"
     ]
    },
    {
     "name": "stderr",
     "output_type": "stream",
     "text": [
      " 53%|█████▎    | 30200/56780 [7:38:34<2:04:11,  3.57it/s]  The following columns in the evaluation set  don't have a corresponding argument in `BertForSequenceClassification.forward` and have been ignored: sentense. If sentense are not expected by `BertForSequenceClassification.forward`,  you can safely ignore this message.\n",
      "***** Running Evaluation *****\n",
      "  Num examples = 2839\n",
      "  Batch size = 8\n",
      "                                                         \n",
      " 53%|█████▎    | 30200/56780 [7:39:38<2:04:11,  3.57it/s]"
     ]
    },
    {
     "name": "stdout",
     "output_type": "stream",
     "text": [
      "{'eval_loss': 0.6277530789375305, 'eval_recall': 0.9772607086197779, 'eval_precision': 0.6816672814459609, 'eval_runtime': 63.8489, 'eval_samples_per_second': 44.464, 'eval_steps_per_second': 5.56, 'epoch': 10.64}\n"
     ]
    },
    {
     "name": "stderr",
     "output_type": "stream",
     "text": [
      " 53%|█████▎    | 30300/56780 [7:40:06<2:03:37,  3.57it/s]  The following columns in the evaluation set  don't have a corresponding argument in `BertForSequenceClassification.forward` and have been ignored: sentense. If sentense are not expected by `BertForSequenceClassification.forward`,  you can safely ignore this message.\n",
      "***** Running Evaluation *****\n",
      "  Num examples = 2839\n",
      "  Batch size = 8\n",
      "                                                         \n",
      " 53%|█████▎    | 30300/56780 [7:41:10<2:03:37,  3.57it/s]"
     ]
    },
    {
     "name": "stdout",
     "output_type": "stream",
     "text": [
      "{'eval_loss': 0.6321483254432678, 'eval_recall': 0.9772607086197779, 'eval_precision': 0.6816672814459609, 'eval_runtime': 63.7889, 'eval_samples_per_second': 44.506, 'eval_steps_per_second': 5.565, 'epoch': 10.67}\n"
     ]
    },
    {
     "name": "stderr",
     "output_type": "stream",
     "text": [
      " 54%|█████▎    | 30400/56780 [7:41:38<2:03:12,  3.57it/s]  The following columns in the evaluation set  don't have a corresponding argument in `BertForSequenceClassification.forward` and have been ignored: sentense. If sentense are not expected by `BertForSequenceClassification.forward`,  you can safely ignore this message.\n",
      "***** Running Evaluation *****\n",
      "  Num examples = 2839\n",
      "  Batch size = 8\n",
      "                                                         \n",
      " 54%|█████▎    | 30400/56780 [7:42:42<2:03:12,  3.57it/s]"
     ]
    },
    {
     "name": "stdout",
     "output_type": "stream",
     "text": [
      "{'eval_loss': 0.6360765099525452, 'eval_recall': 0.9772607086197779, 'eval_precision': 0.6816672814459609, 'eval_runtime': 63.9009, 'eval_samples_per_second': 44.428, 'eval_steps_per_second': 5.555, 'epoch': 10.71}\n"
     ]
    },
    {
     "name": "stderr",
     "output_type": "stream",
     "text": [
      " 54%|█████▎    | 30500/56780 [7:43:10<2:30:27,  2.91it/s]  The following columns in the evaluation set  don't have a corresponding argument in `BertForSequenceClassification.forward` and have been ignored: sentense. If sentense are not expected by `BertForSequenceClassification.forward`,  you can safely ignore this message.\n",
      "***** Running Evaluation *****\n",
      "  Num examples = 2839\n",
      "  Batch size = 8\n"
     ]
    },
    {
     "name": "stdout",
     "output_type": "stream",
     "text": [
      "{'loss': 0.6293, 'learning_rate': 2.314195139133498e-05, 'epoch': 10.74}\n"
     ]
    },
    {
     "name": "stderr",
     "output_type": "stream",
     "text": [
      "                                                         \n",
      " 54%|█████▎    | 30500/56780 [7:44:14<2:30:27,  2.91it/s]"
     ]
    },
    {
     "name": "stdout",
     "output_type": "stream",
     "text": [
      "{'eval_loss': 0.6329219937324524, 'eval_recall': 0.9772607086197779, 'eval_precision': 0.6816672814459609, 'eval_runtime': 63.8753, 'eval_samples_per_second': 44.446, 'eval_steps_per_second': 5.558, 'epoch': 10.74}\n"
     ]
    },
    {
     "name": "stderr",
     "output_type": "stream",
     "text": [
      " 54%|█████▍    | 30600/56780 [7:44:42<2:02:11,  3.57it/s]  The following columns in the evaluation set  don't have a corresponding argument in `BertForSequenceClassification.forward` and have been ignored: sentense. If sentense are not expected by `BertForSequenceClassification.forward`,  you can safely ignore this message.\n",
      "***** Running Evaluation *****\n",
      "  Num examples = 2839\n",
      "  Batch size = 8\n",
      "                                                         \n",
      " 54%|█████▍    | 30600/56780 [7:45:46<2:02:11,  3.57it/s]"
     ]
    },
    {
     "name": "stdout",
     "output_type": "stream",
     "text": [
      "{'eval_loss': 0.6288339495658875, 'eval_recall': 0.9772607086197779, 'eval_precision': 0.6816672814459609, 'eval_runtime': 63.7351, 'eval_samples_per_second': 44.544, 'eval_steps_per_second': 5.57, 'epoch': 10.78}\n"
     ]
    },
    {
     "name": "stderr",
     "output_type": "stream",
     "text": [
      " 54%|█████▍    | 30700/56780 [7:46:14<2:02:01,  3.56it/s]  The following columns in the evaluation set  don't have a corresponding argument in `BertForSequenceClassification.forward` and have been ignored: sentense. If sentense are not expected by `BertForSequenceClassification.forward`,  you can safely ignore this message.\n",
      "***** Running Evaluation *****\n",
      "  Num examples = 2839\n",
      "  Batch size = 8\n",
      "                                                         \n",
      " 54%|█████▍    | 30700/56780 [7:47:17<2:02:01,  3.56it/s]"
     ]
    },
    {
     "name": "stdout",
     "output_type": "stream",
     "text": [
      "{'eval_loss': 0.6267505884170532, 'eval_recall': 0.9772607086197779, 'eval_precision': 0.6816672814459609, 'eval_runtime': 63.7539, 'eval_samples_per_second': 44.531, 'eval_steps_per_second': 5.568, 'epoch': 10.81}\n"
     ]
    },
    {
     "name": "stderr",
     "output_type": "stream",
     "text": [
      " 54%|█████▍    | 30800/56780 [7:47:45<2:01:01,  3.58it/s]  The following columns in the evaluation set  don't have a corresponding argument in `BertForSequenceClassification.forward` and have been ignored: sentense. If sentense are not expected by `BertForSequenceClassification.forward`,  you can safely ignore this message.\n",
      "***** Running Evaluation *****\n",
      "  Num examples = 2839\n",
      "  Batch size = 8\n",
      "                                                         \n",
      " 54%|█████▍    | 30800/56780 [7:48:49<2:01:01,  3.58it/s]"
     ]
    },
    {
     "name": "stdout",
     "output_type": "stream",
     "text": [
      "{'eval_loss': 0.6291741132736206, 'eval_recall': 0.9772607086197779, 'eval_precision': 0.6816672814459609, 'eval_runtime': 63.7506, 'eval_samples_per_second': 44.533, 'eval_steps_per_second': 5.569, 'epoch': 10.85}\n"
     ]
    },
    {
     "name": "stderr",
     "output_type": "stream",
     "text": [
      " 54%|█████▍    | 30900/56780 [7:49:17<2:00:41,  3.57it/s]  The following columns in the evaluation set  don't have a corresponding argument in `BertForSequenceClassification.forward` and have been ignored: sentense. If sentense are not expected by `BertForSequenceClassification.forward`,  you can safely ignore this message.\n",
      "***** Running Evaluation *****\n",
      "  Num examples = 2839\n",
      "  Batch size = 8\n",
      "                                                         \n",
      " 54%|█████▍    | 30900/56780 [7:50:21<2:00:41,  3.57it/s]"
     ]
    },
    {
     "name": "stdout",
     "output_type": "stream",
     "text": [
      "{'eval_loss': 0.626653790473938, 'eval_recall': 0.9772607086197779, 'eval_precision': 0.6816672814459609, 'eval_runtime': 63.7679, 'eval_samples_per_second': 44.521, 'eval_steps_per_second': 5.567, 'epoch': 10.88}\n"
     ]
    },
    {
     "name": "stderr",
     "output_type": "stream",
     "text": [
      " 55%|█████▍    | 31000/56780 [7:50:49<2:29:18,  2.88it/s]  The following columns in the evaluation set  don't have a corresponding argument in `BertForSequenceClassification.forward` and have been ignored: sentense. If sentense are not expected by `BertForSequenceClassification.forward`,  you can safely ignore this message.\n",
      "***** Running Evaluation *****\n",
      "  Num examples = 2839\n",
      "  Batch size = 8\n"
     ]
    },
    {
     "name": "stdout",
     "output_type": "stream",
     "text": [
      "{'loss': 0.6256, 'learning_rate': 2.2701655512504407e-05, 'epoch': 10.92}\n"
     ]
    },
    {
     "name": "stderr",
     "output_type": "stream",
     "text": [
      "                                                         \n",
      " 55%|█████▍    | 31000/56780 [7:51:53<2:29:18,  2.88it/s]"
     ]
    },
    {
     "name": "stdout",
     "output_type": "stream",
     "text": [
      "{'eval_loss': 0.6385074257850647, 'eval_recall': 0.9772607086197779, 'eval_precision': 0.6816672814459609, 'eval_runtime': 63.8028, 'eval_samples_per_second': 44.496, 'eval_steps_per_second': 5.564, 'epoch': 10.92}\n"
     ]
    },
    {
     "name": "stderr",
     "output_type": "stream",
     "text": [
      " 55%|█████▍    | 31100/56780 [7:52:21<1:59:56,  3.57it/s]  The following columns in the evaluation set  don't have a corresponding argument in `BertForSequenceClassification.forward` and have been ignored: sentense. If sentense are not expected by `BertForSequenceClassification.forward`,  you can safely ignore this message.\n",
      "***** Running Evaluation *****\n",
      "  Num examples = 2839\n",
      "  Batch size = 8\n",
      "                                                         \n",
      " 55%|█████▍    | 31100/56780 [7:53:25<1:59:56,  3.57it/s]"
     ]
    },
    {
     "name": "stdout",
     "output_type": "stream",
     "text": [
      "{'eval_loss': 0.631662905216217, 'eval_recall': 0.9772607086197779, 'eval_precision': 0.6816672814459609, 'eval_runtime': 63.7886, 'eval_samples_per_second': 44.506, 'eval_steps_per_second': 5.565, 'epoch': 10.95}\n"
     ]
    },
    {
     "name": "stderr",
     "output_type": "stream",
     "text": [
      " 55%|█████▍    | 31200/56780 [7:53:53<1:59:09,  3.58it/s]  The following columns in the evaluation set  don't have a corresponding argument in `BertForSequenceClassification.forward` and have been ignored: sentense. If sentense are not expected by `BertForSequenceClassification.forward`,  you can safely ignore this message.\n",
      "***** Running Evaluation *****\n",
      "  Num examples = 2839\n",
      "  Batch size = 8\n",
      "                                                         \n",
      " 55%|█████▍    | 31200/56780 [7:54:57<1:59:09,  3.58it/s]"
     ]
    },
    {
     "name": "stdout",
     "output_type": "stream",
     "text": [
      "{'eval_loss': 0.6306198239326477, 'eval_recall': 0.9772607086197779, 'eval_precision': 0.6816672814459609, 'eval_runtime': 63.8268, 'eval_samples_per_second': 44.48, 'eval_steps_per_second': 5.562, 'epoch': 10.99}\n"
     ]
    },
    {
     "name": "stderr",
     "output_type": "stream",
     "text": [
      " 55%|█████▌    | 31300/56780 [7:55:24<1:58:32,  3.58it/s]  The following columns in the evaluation set  don't have a corresponding argument in `BertForSequenceClassification.forward` and have been ignored: sentense. If sentense are not expected by `BertForSequenceClassification.forward`,  you can safely ignore this message.\n",
      "***** Running Evaluation *****\n",
      "  Num examples = 2839\n",
      "  Batch size = 8\n",
      "                                                         \n",
      " 55%|█████▌    | 31300/56780 [7:56:28<1:58:32,  3.58it/s]"
     ]
    },
    {
     "name": "stdout",
     "output_type": "stream",
     "text": [
      "{'eval_loss': 0.6266839504241943, 'eval_recall': 0.9772607086197779, 'eval_precision': 0.6816672814459609, 'eval_runtime': 63.8122, 'eval_samples_per_second': 44.49, 'eval_steps_per_second': 5.563, 'epoch': 11.03}\n"
     ]
    },
    {
     "name": "stderr",
     "output_type": "stream",
     "text": [
      " 55%|█████▌    | 31400/56780 [7:56:56<1:58:03,  3.58it/s]  The following columns in the evaluation set  don't have a corresponding argument in `BertForSequenceClassification.forward` and have been ignored: sentense. If sentense are not expected by `BertForSequenceClassification.forward`,  you can safely ignore this message.\n",
      "***** Running Evaluation *****\n",
      "  Num examples = 2839\n",
      "  Batch size = 8\n",
      "                                                         \n",
      " 55%|█████▌    | 31400/56780 [7:58:00<1:58:03,  3.58it/s]"
     ]
    },
    {
     "name": "stdout",
     "output_type": "stream",
     "text": [
      "{'eval_loss': 0.6364971995353699, 'eval_recall': 0.9772607086197779, 'eval_precision': 0.6816672814459609, 'eval_runtime': 63.808, 'eval_samples_per_second': 44.493, 'eval_steps_per_second': 5.564, 'epoch': 11.06}\n"
     ]
    },
    {
     "name": "stderr",
     "output_type": "stream",
     "text": [
      " 55%|█████▌    | 31500/56780 [7:58:28<2:24:47,  2.91it/s]  The following columns in the evaluation set  don't have a corresponding argument in `BertForSequenceClassification.forward` and have been ignored: sentense. If sentense are not expected by `BertForSequenceClassification.forward`,  you can safely ignore this message.\n",
      "***** Running Evaluation *****\n",
      "  Num examples = 2839\n",
      "  Batch size = 8\n"
     ]
    },
    {
     "name": "stdout",
     "output_type": "stream",
     "text": [
      "{'loss': 0.6253, 'learning_rate': 2.226135963367383e-05, 'epoch': 11.1}\n"
     ]
    },
    {
     "name": "stderr",
     "output_type": "stream",
     "text": [
      "                                                         \n",
      " 55%|█████▌    | 31500/56780 [7:59:32<2:24:47,  2.91it/s]"
     ]
    },
    {
     "name": "stdout",
     "output_type": "stream",
     "text": [
      "{'eval_loss': 0.642235279083252, 'eval_recall': 0.9772607086197779, 'eval_precision': 0.6816672814459609, 'eval_runtime': 63.7975, 'eval_samples_per_second': 44.5, 'eval_steps_per_second': 5.564, 'epoch': 11.1}\n"
     ]
    },
    {
     "name": "stderr",
     "output_type": "stream",
     "text": [
      " 56%|█████▌    | 31600/56780 [8:00:00<1:57:11,  3.58it/s]  The following columns in the evaluation set  don't have a corresponding argument in `BertForSequenceClassification.forward` and have been ignored: sentense. If sentense are not expected by `BertForSequenceClassification.forward`,  you can safely ignore this message.\n",
      "***** Running Evaluation *****\n",
      "  Num examples = 2839\n",
      "  Batch size = 8\n",
      "                                                         \n",
      " 56%|█████▌    | 31600/56780 [8:01:04<1:57:11,  3.58it/s]"
     ]
    },
    {
     "name": "stdout",
     "output_type": "stream",
     "text": [
      "{'eval_loss': 0.6380130052566528, 'eval_recall': 0.9772607086197779, 'eval_precision': 0.6816672814459609, 'eval_runtime': 63.7003, 'eval_samples_per_second': 44.568, 'eval_steps_per_second': 5.573, 'epoch': 11.13}\n"
     ]
    },
    {
     "name": "stderr",
     "output_type": "stream",
     "text": [
      " 56%|█████▌    | 31700/56780 [8:01:32<1:56:49,  3.58it/s]  The following columns in the evaluation set  don't have a corresponding argument in `BertForSequenceClassification.forward` and have been ignored: sentense. If sentense are not expected by `BertForSequenceClassification.forward`,  you can safely ignore this message.\n",
      "***** Running Evaluation *****\n",
      "  Num examples = 2839\n",
      "  Batch size = 8\n",
      "                                                         \n",
      " 56%|█████▌    | 31700/56780 [8:02:35<1:56:49,  3.58it/s]"
     ]
    },
    {
     "name": "stdout",
     "output_type": "stream",
     "text": [
      "{'eval_loss': 0.6285919547080994, 'eval_recall': 0.9772607086197779, 'eval_precision': 0.6816672814459609, 'eval_runtime': 63.7177, 'eval_samples_per_second': 44.556, 'eval_steps_per_second': 5.571, 'epoch': 11.17}\n"
     ]
    },
    {
     "name": "stderr",
     "output_type": "stream",
     "text": [
      " 56%|█████▌    | 31800/56780 [8:03:03<1:56:25,  3.58it/s]  The following columns in the evaluation set  don't have a corresponding argument in `BertForSequenceClassification.forward` and have been ignored: sentense. If sentense are not expected by `BertForSequenceClassification.forward`,  you can safely ignore this message.\n",
      "***** Running Evaluation *****\n",
      "  Num examples = 2839\n",
      "  Batch size = 8\n",
      "                                                         \n",
      " 56%|█████▌    | 31800/56780 [8:04:07<1:56:25,  3.58it/s]"
     ]
    },
    {
     "name": "stdout",
     "output_type": "stream",
     "text": [
      "{'eval_loss': 0.6379305720329285, 'eval_recall': 0.9772607086197779, 'eval_precision': 0.6816672814459609, 'eval_runtime': 63.7284, 'eval_samples_per_second': 44.548, 'eval_steps_per_second': 5.571, 'epoch': 11.2}\n"
     ]
    },
    {
     "name": "stderr",
     "output_type": "stream",
     "text": [
      " 56%|█████▌    | 31900/56780 [8:04:35<1:55:35,  3.59it/s]  The following columns in the evaluation set  don't have a corresponding argument in `BertForSequenceClassification.forward` and have been ignored: sentense. If sentense are not expected by `BertForSequenceClassification.forward`,  you can safely ignore this message.\n",
      "***** Running Evaluation *****\n",
      "  Num examples = 2839\n",
      "  Batch size = 8\n",
      "                                                         \n",
      " 56%|█████▌    | 31900/56780 [8:05:39<1:55:35,  3.59it/s]"
     ]
    },
    {
     "name": "stdout",
     "output_type": "stream",
     "text": [
      "{'eval_loss': 0.6305400133132935, 'eval_recall': 0.9772607086197779, 'eval_precision': 0.6816672814459609, 'eval_runtime': 63.6577, 'eval_samples_per_second': 44.598, 'eval_steps_per_second': 5.577, 'epoch': 11.24}\n"
     ]
    },
    {
     "name": "stderr",
     "output_type": "stream",
     "text": [
      " 56%|█████▋    | 32000/56780 [8:06:07<2:21:42,  2.91it/s]  The following columns in the evaluation set  don't have a corresponding argument in `BertForSequenceClassification.forward` and have been ignored: sentense. If sentense are not expected by `BertForSequenceClassification.forward`,  you can safely ignore this message.\n",
      "***** Running Evaluation *****\n",
      "  Num examples = 2839\n",
      "  Batch size = 8\n"
     ]
    },
    {
     "name": "stdout",
     "output_type": "stream",
     "text": [
      "{'loss': 0.6221, 'learning_rate': 2.1821063754843256e-05, 'epoch': 11.27}\n"
     ]
    },
    {
     "name": "stderr",
     "output_type": "stream",
     "text": [
      "                                                         \n",
      " 56%|█████▋    | 32000/56780 [8:07:11<2:21:42,  2.91it/s]"
     ]
    },
    {
     "name": "stdout",
     "output_type": "stream",
     "text": [
      "{'eval_loss': 0.6311781406402588, 'eval_recall': 0.9772607086197779, 'eval_precision': 0.6816672814459609, 'eval_runtime': 63.7536, 'eval_samples_per_second': 44.531, 'eval_steps_per_second': 5.568, 'epoch': 11.27}\n"
     ]
    },
    {
     "name": "stderr",
     "output_type": "stream",
     "text": [
      " 57%|█████▋    | 32100/56780 [8:07:39<1:55:18,  3.57it/s]  The following columns in the evaluation set  don't have a corresponding argument in `BertForSequenceClassification.forward` and have been ignored: sentense. If sentense are not expected by `BertForSequenceClassification.forward`,  you can safely ignore this message.\n",
      "***** Running Evaluation *****\n",
      "  Num examples = 2839\n",
      "  Batch size = 8\n",
      "                                                         \n",
      " 57%|█████▋    | 32100/56780 [8:08:42<1:55:18,  3.57it/s]"
     ]
    },
    {
     "name": "stdout",
     "output_type": "stream",
     "text": [
      "{'eval_loss': 0.6335442066192627, 'eval_recall': 0.9772607086197779, 'eval_precision': 0.6816672814459609, 'eval_runtime': 63.678, 'eval_samples_per_second': 44.584, 'eval_steps_per_second': 5.575, 'epoch': 11.31}\n"
     ]
    },
    {
     "name": "stderr",
     "output_type": "stream",
     "text": [
      " 57%|█████▋    | 32200/56780 [8:09:10<1:54:52,  3.57it/s]  The following columns in the evaluation set  don't have a corresponding argument in `BertForSequenceClassification.forward` and have been ignored: sentense. If sentense are not expected by `BertForSequenceClassification.forward`,  you can safely ignore this message.\n",
      "***** Running Evaluation *****\n",
      "  Num examples = 2839\n",
      "  Batch size = 8\n",
      "                                                         \n",
      " 57%|█████▋    | 32200/56780 [8:10:14<1:54:52,  3.57it/s]"
     ]
    },
    {
     "name": "stdout",
     "output_type": "stream",
     "text": [
      "{'eval_loss': 0.6362226605415344, 'eval_recall': 0.9772607086197779, 'eval_precision': 0.6816672814459609, 'eval_runtime': 63.69, 'eval_samples_per_second': 44.575, 'eval_steps_per_second': 5.574, 'epoch': 11.34}\n"
     ]
    },
    {
     "name": "stderr",
     "output_type": "stream",
     "text": [
      " 57%|█████▋    | 32300/56780 [8:10:42<1:54:13,  3.57it/s]  The following columns in the evaluation set  don't have a corresponding argument in `BertForSequenceClassification.forward` and have been ignored: sentense. If sentense are not expected by `BertForSequenceClassification.forward`,  you can safely ignore this message.\n",
      "***** Running Evaluation *****\n",
      "  Num examples = 2839\n",
      "  Batch size = 8\n",
      "                                                         \n",
      " 57%|█████▋    | 32300/56780 [8:11:46<1:54:13,  3.57it/s]"
     ]
    },
    {
     "name": "stdout",
     "output_type": "stream",
     "text": [
      "{'eval_loss': 0.6330750584602356, 'eval_recall': 0.9772607086197779, 'eval_precision': 0.6816672814459609, 'eval_runtime': 63.7104, 'eval_samples_per_second': 44.561, 'eval_steps_per_second': 5.572, 'epoch': 11.38}\n"
     ]
    },
    {
     "name": "stderr",
     "output_type": "stream",
     "text": [
      " 57%|█████▋    | 32400/56780 [8:12:14<1:53:43,  3.57it/s]  The following columns in the evaluation set  don't have a corresponding argument in `BertForSequenceClassification.forward` and have been ignored: sentense. If sentense are not expected by `BertForSequenceClassification.forward`,  you can safely ignore this message.\n",
      "***** Running Evaluation *****\n",
      "  Num examples = 2839\n",
      "  Batch size = 8\n",
      "                                                         \n",
      " 57%|█████▋    | 32400/56780 [8:13:17<1:53:43,  3.57it/s]"
     ]
    },
    {
     "name": "stdout",
     "output_type": "stream",
     "text": [
      "{'eval_loss': 0.6335508823394775, 'eval_recall': 0.9772607086197779, 'eval_precision': 0.6816672814459609, 'eval_runtime': 63.7284, 'eval_samples_per_second': 44.548, 'eval_steps_per_second': 5.571, 'epoch': 11.41}\n"
     ]
    },
    {
     "name": "stderr",
     "output_type": "stream",
     "text": [
      " 57%|█████▋    | 32500/56780 [8:13:45<2:19:16,  2.91it/s]  The following columns in the evaluation set  don't have a corresponding argument in `BertForSequenceClassification.forward` and have been ignored: sentense. If sentense are not expected by `BertForSequenceClassification.forward`,  you can safely ignore this message.\n",
      "***** Running Evaluation *****\n",
      "  Num examples = 2839\n",
      "  Batch size = 8\n"
     ]
    },
    {
     "name": "stdout",
     "output_type": "stream",
     "text": [
      "{'loss': 0.6263, 'learning_rate': 2.1380767876012682e-05, 'epoch': 11.45}\n"
     ]
    },
    {
     "name": "stderr",
     "output_type": "stream",
     "text": [
      "                                                         \n",
      " 57%|█████▋    | 32500/56780 [8:14:49<2:19:16,  2.91it/s]"
     ]
    },
    {
     "name": "stdout",
     "output_type": "stream",
     "text": [
      "{'eval_loss': 0.6263681650161743, 'eval_recall': 0.9772607086197779, 'eval_precision': 0.6816672814459609, 'eval_runtime': 63.7323, 'eval_samples_per_second': 44.546, 'eval_steps_per_second': 5.57, 'epoch': 11.45}\n"
     ]
    },
    {
     "name": "stderr",
     "output_type": "stream",
     "text": [
      " 57%|█████▋    | 32600/56780 [8:15:17<1:52:54,  3.57it/s]  The following columns in the evaluation set  don't have a corresponding argument in `BertForSequenceClassification.forward` and have been ignored: sentense. If sentense are not expected by `BertForSequenceClassification.forward`,  you can safely ignore this message.\n",
      "***** Running Evaluation *****\n",
      "  Num examples = 2839\n",
      "  Batch size = 8\n",
      "                                                         \n",
      " 57%|█████▋    | 32600/56780 [8:16:21<1:52:54,  3.57it/s]"
     ]
    },
    {
     "name": "stdout",
     "output_type": "stream",
     "text": [
      "{'eval_loss': 0.6330490708351135, 'eval_recall': 0.9772607086197779, 'eval_precision': 0.6816672814459609, 'eval_runtime': 63.738, 'eval_samples_per_second': 44.542, 'eval_steps_per_second': 5.57, 'epoch': 11.48}\n"
     ]
    },
    {
     "name": "stderr",
     "output_type": "stream",
     "text": [
      " 58%|█████▊    | 32700/56780 [8:16:49<1:51:51,  3.59it/s]  The following columns in the evaluation set  don't have a corresponding argument in `BertForSequenceClassification.forward` and have been ignored: sentense. If sentense are not expected by `BertForSequenceClassification.forward`,  you can safely ignore this message.\n",
      "***** Running Evaluation *****\n",
      "  Num examples = 2839\n",
      "  Batch size = 8\n",
      "                                                         \n",
      " 58%|█████▊    | 32700/56780 [8:17:53<1:51:51,  3.59it/s]"
     ]
    },
    {
     "name": "stdout",
     "output_type": "stream",
     "text": [
      "{'eval_loss': 0.6333339810371399, 'eval_recall': 0.9772607086197779, 'eval_precision': 0.6816672814459609, 'eval_runtime': 63.7462, 'eval_samples_per_second': 44.536, 'eval_steps_per_second': 5.569, 'epoch': 11.52}\n"
     ]
    },
    {
     "name": "stderr",
     "output_type": "stream",
     "text": [
      " 58%|█████▊    | 32800/56780 [8:18:21<1:51:15,  3.59it/s]  The following columns in the evaluation set  don't have a corresponding argument in `BertForSequenceClassification.forward` and have been ignored: sentense. If sentense are not expected by `BertForSequenceClassification.forward`,  you can safely ignore this message.\n",
      "***** Running Evaluation *****\n",
      "  Num examples = 2839\n",
      "  Batch size = 8\n",
      "                                                         \n",
      " 58%|█████▊    | 32800/56780 [8:19:24<1:51:15,  3.59it/s]"
     ]
    },
    {
     "name": "stdout",
     "output_type": "stream",
     "text": [
      "{'eval_loss': 0.6274422407150269, 'eval_recall': 0.9772607086197779, 'eval_precision': 0.6816672814459609, 'eval_runtime': 63.7859, 'eval_samples_per_second': 44.508, 'eval_steps_per_second': 5.565, 'epoch': 11.55}\n"
     ]
    },
    {
     "name": "stderr",
     "output_type": "stream",
     "text": [
      " 58%|█████▊    | 32900/56780 [8:19:52<1:51:14,  3.58it/s]  The following columns in the evaluation set  don't have a corresponding argument in `BertForSequenceClassification.forward` and have been ignored: sentense. If sentense are not expected by `BertForSequenceClassification.forward`,  you can safely ignore this message.\n",
      "***** Running Evaluation *****\n",
      "  Num examples = 2839\n",
      "  Batch size = 8\n",
      "                                                         \n",
      " 58%|█████▊    | 32900/56780 [8:20:56<1:51:14,  3.58it/s]"
     ]
    },
    {
     "name": "stdout",
     "output_type": "stream",
     "text": [
      "{'eval_loss': 0.6313502192497253, 'eval_recall': 0.9772607086197779, 'eval_precision': 0.6816672814459609, 'eval_runtime': 63.7924, 'eval_samples_per_second': 44.504, 'eval_steps_per_second': 5.565, 'epoch': 11.59}\n"
     ]
    },
    {
     "name": "stderr",
     "output_type": "stream",
     "text": [
      " 58%|█████▊    | 33000/56780 [8:21:24<2:16:12,  2.91it/s]  The following columns in the evaluation set  don't have a corresponding argument in `BertForSequenceClassification.forward` and have been ignored: sentense. If sentense are not expected by `BertForSequenceClassification.forward`,  you can safely ignore this message.\n",
      "***** Running Evaluation *****\n",
      "  Num examples = 2839\n",
      "  Batch size = 8\n"
     ]
    },
    {
     "name": "stdout",
     "output_type": "stream",
     "text": [
      "{'loss': 0.6313, 'learning_rate': 2.094047199718211e-05, 'epoch': 11.62}\n"
     ]
    },
    {
     "name": "stderr",
     "output_type": "stream",
     "text": [
      "                                                         \n",
      " 58%|█████▊    | 33000/56780 [8:22:28<2:16:12,  2.91it/s]"
     ]
    },
    {
     "name": "stdout",
     "output_type": "stream",
     "text": [
      "{'eval_loss': 0.6356819272041321, 'eval_recall': 0.9772607086197779, 'eval_precision': 0.6816672814459609, 'eval_runtime': 63.7814, 'eval_samples_per_second': 44.511, 'eval_steps_per_second': 5.566, 'epoch': 11.62}\n"
     ]
    },
    {
     "name": "stderr",
     "output_type": "stream",
     "text": [
      " 58%|█████▊    | 33100/56780 [8:22:56<1:50:09,  3.58it/s]  The following columns in the evaluation set  don't have a corresponding argument in `BertForSequenceClassification.forward` and have been ignored: sentense. If sentense are not expected by `BertForSequenceClassification.forward`,  you can safely ignore this message.\n",
      "***** Running Evaluation *****\n",
      "  Num examples = 2839\n",
      "  Batch size = 8\n",
      "                                                         \n",
      " 58%|█████▊    | 33100/56780 [8:24:00<1:50:09,  3.58it/s]"
     ]
    },
    {
     "name": "stdout",
     "output_type": "stream",
     "text": [
      "{'eval_loss': 0.634152889251709, 'eval_recall': 0.9772607086197779, 'eval_precision': 0.6816672814459609, 'eval_runtime': 63.748, 'eval_samples_per_second': 44.535, 'eval_steps_per_second': 5.569, 'epoch': 11.66}\n"
     ]
    },
    {
     "name": "stderr",
     "output_type": "stream",
     "text": [
      " 58%|█████▊    | 33200/56780 [8:24:28<1:49:49,  3.58it/s]  The following columns in the evaluation set  don't have a corresponding argument in `BertForSequenceClassification.forward` and have been ignored: sentense. If sentense are not expected by `BertForSequenceClassification.forward`,  you can safely ignore this message.\n",
      "***** Running Evaluation *****\n",
      "  Num examples = 2839\n",
      "  Batch size = 8\n",
      "                                                         \n",
      " 58%|█████▊    | 33200/56780 [8:25:32<1:49:49,  3.58it/s]"
     ]
    },
    {
     "name": "stdout",
     "output_type": "stream",
     "text": [
      "{'eval_loss': 0.6397461891174316, 'eval_recall': 0.9772607086197779, 'eval_precision': 0.6816672814459609, 'eval_runtime': 63.7, 'eval_samples_per_second': 44.568, 'eval_steps_per_second': 5.573, 'epoch': 11.69}\n"
     ]
    },
    {
     "name": "stderr",
     "output_type": "stream",
     "text": [
      " 59%|█████▊    | 33300/56780 [8:25:59<1:49:37,  3.57it/s]  The following columns in the evaluation set  don't have a corresponding argument in `BertForSequenceClassification.forward` and have been ignored: sentense. If sentense are not expected by `BertForSequenceClassification.forward`,  you can safely ignore this message.\n",
      "***** Running Evaluation *****\n",
      "  Num examples = 2839\n",
      "  Batch size = 8\n",
      "                                                         \n",
      " 59%|█████▊    | 33300/56780 [8:27:03<1:49:37,  3.57it/s]"
     ]
    },
    {
     "name": "stdout",
     "output_type": "stream",
     "text": [
      "{'eval_loss': 0.6276519298553467, 'eval_recall': 0.9772607086197779, 'eval_precision': 0.6816672814459609, 'eval_runtime': 63.7634, 'eval_samples_per_second': 44.524, 'eval_steps_per_second': 5.567, 'epoch': 11.73}\n"
     ]
    },
    {
     "name": "stderr",
     "output_type": "stream",
     "text": [
      " 59%|█████▉    | 33400/56780 [8:27:31<1:49:03,  3.57it/s]  The following columns in the evaluation set  don't have a corresponding argument in `BertForSequenceClassification.forward` and have been ignored: sentense. If sentense are not expected by `BertForSequenceClassification.forward`,  you can safely ignore this message.\n",
      "***** Running Evaluation *****\n",
      "  Num examples = 2839\n",
      "  Batch size = 8\n",
      "                                                         \n",
      " 59%|█████▉    | 33400/56780 [8:28:35<1:49:03,  3.57it/s]"
     ]
    },
    {
     "name": "stdout",
     "output_type": "stream",
     "text": [
      "{'eval_loss': 0.6263033151626587, 'eval_recall': 0.9772607086197779, 'eval_precision': 0.6816672814459609, 'eval_runtime': 63.7594, 'eval_samples_per_second': 44.527, 'eval_steps_per_second': 5.568, 'epoch': 11.76}\n"
     ]
    },
    {
     "name": "stderr",
     "output_type": "stream",
     "text": [
      " 59%|█████▉    | 33500/56780 [8:29:03<2:13:18,  2.91it/s]  The following columns in the evaluation set  don't have a corresponding argument in `BertForSequenceClassification.forward` and have been ignored: sentense. If sentense are not expected by `BertForSequenceClassification.forward`,  you can safely ignore this message.\n",
      "***** Running Evaluation *****\n",
      "  Num examples = 2839\n",
      "  Batch size = 8\n"
     ]
    },
    {
     "name": "stdout",
     "output_type": "stream",
     "text": [
      "{'loss': 0.6357, 'learning_rate': 2.050017611835153e-05, 'epoch': 11.8}\n"
     ]
    },
    {
     "name": "stderr",
     "output_type": "stream",
     "text": [
      "                                                         \n",
      " 59%|█████▉    | 33500/56780 [8:30:07<2:13:18,  2.91it/s]"
     ]
    },
    {
     "name": "stdout",
     "output_type": "stream",
     "text": [
      "{'eval_loss': 0.6304299831390381, 'eval_recall': 0.9772607086197779, 'eval_precision': 0.6816672814459609, 'eval_runtime': 63.7082, 'eval_samples_per_second': 44.563, 'eval_steps_per_second': 5.572, 'epoch': 11.8}\n"
     ]
    },
    {
     "name": "stderr",
     "output_type": "stream",
     "text": [
      " 59%|█████▉    | 33600/56780 [8:30:35<1:47:50,  3.58it/s]  The following columns in the evaluation set  don't have a corresponding argument in `BertForSequenceClassification.forward` and have been ignored: sentense. If sentense are not expected by `BertForSequenceClassification.forward`,  you can safely ignore this message.\n",
      "***** Running Evaluation *****\n",
      "  Num examples = 2839\n",
      "  Batch size = 8\n",
      "                                                         \n",
      " 59%|█████▉    | 33600/56780 [8:31:39<1:47:50,  3.58it/s]"
     ]
    },
    {
     "name": "stdout",
     "output_type": "stream",
     "text": [
      "{'eval_loss': 0.6339200735092163, 'eval_recall': 0.9772607086197779, 'eval_precision': 0.6816672814459609, 'eval_runtime': 63.7305, 'eval_samples_per_second': 44.547, 'eval_steps_per_second': 5.57, 'epoch': 11.84}\n"
     ]
    },
    {
     "name": "stderr",
     "output_type": "stream",
     "text": [
      " 59%|█████▉    | 33700/56780 [8:32:06<1:47:16,  3.59it/s]  The following columns in the evaluation set  don't have a corresponding argument in `BertForSequenceClassification.forward` and have been ignored: sentense. If sentense are not expected by `BertForSequenceClassification.forward`,  you can safely ignore this message.\n",
      "***** Running Evaluation *****\n",
      "  Num examples = 2839\n",
      "  Batch size = 8\n",
      "                                                         \n",
      " 59%|█████▉    | 33700/56780 [8:33:10<1:47:16,  3.59it/s]"
     ]
    },
    {
     "name": "stdout",
     "output_type": "stream",
     "text": [
      "{'eval_loss': 0.6283957958221436, 'eval_recall': 0.9772607086197779, 'eval_precision': 0.6816672814459609, 'eval_runtime': 63.7722, 'eval_samples_per_second': 44.518, 'eval_steps_per_second': 5.567, 'epoch': 11.87}\n"
     ]
    },
    {
     "name": "stderr",
     "output_type": "stream",
     "text": [
      " 60%|█████▉    | 33800/56780 [8:33:38<1:47:33,  3.56it/s]  The following columns in the evaluation set  don't have a corresponding argument in `BertForSequenceClassification.forward` and have been ignored: sentense. If sentense are not expected by `BertForSequenceClassification.forward`,  you can safely ignore this message.\n",
      "***** Running Evaluation *****\n",
      "  Num examples = 2839\n",
      "  Batch size = 8\n",
      "                                                         \n",
      " 60%|█████▉    | 33800/56780 [8:34:42<1:47:33,  3.56it/s]"
     ]
    },
    {
     "name": "stdout",
     "output_type": "stream",
     "text": [
      "{'eval_loss': 0.6336336731910706, 'eval_recall': 0.9772607086197779, 'eval_precision': 0.6819188191881919, 'eval_runtime': 63.7755, 'eval_samples_per_second': 44.515, 'eval_steps_per_second': 5.566, 'epoch': 11.91}\n"
     ]
    },
    {
     "name": "stderr",
     "output_type": "stream",
     "text": [
      " 60%|█████▉    | 33900/56780 [8:35:10<1:46:44,  3.57it/s]  The following columns in the evaluation set  don't have a corresponding argument in `BertForSequenceClassification.forward` and have been ignored: sentense. If sentense are not expected by `BertForSequenceClassification.forward`,  you can safely ignore this message.\n",
      "***** Running Evaluation *****\n",
      "  Num examples = 2839\n",
      "  Batch size = 8\n",
      "                                                         \n",
      " 60%|█████▉    | 33900/56780 [8:36:14<1:46:44,  3.57it/s]"
     ]
    },
    {
     "name": "stdout",
     "output_type": "stream",
     "text": [
      "{'eval_loss': 0.6285222768783569, 'eval_recall': 0.9772607086197779, 'eval_precision': 0.6819188191881919, 'eval_runtime': 63.7215, 'eval_samples_per_second': 44.553, 'eval_steps_per_second': 5.571, 'epoch': 11.94}\n"
     ]
    },
    {
     "name": "stderr",
     "output_type": "stream",
     "text": [
      " 60%|█████▉    | 34000/56780 [8:36:42<2:10:16,  2.91it/s]  The following columns in the evaluation set  don't have a corresponding argument in `BertForSequenceClassification.forward` and have been ignored: sentense. If sentense are not expected by `BertForSequenceClassification.forward`,  you can safely ignore this message.\n",
      "***** Running Evaluation *****\n",
      "  Num examples = 2839\n",
      "  Batch size = 8\n"
     ]
    },
    {
     "name": "stdout",
     "output_type": "stream",
     "text": [
      "{'loss': 0.6302, 'learning_rate': 2.0059880239520957e-05, 'epoch': 11.98}\n"
     ]
    },
    {
     "name": "stderr",
     "output_type": "stream",
     "text": [
      "                                                         \n",
      " 60%|█████▉    | 34000/56780 [8:37:46<2:10:16,  2.91it/s]"
     ]
    },
    {
     "name": "stdout",
     "output_type": "stream",
     "text": [
      "{'eval_loss': 0.6338814496994019, 'eval_recall': 0.9772607086197779, 'eval_precision': 0.6819188191881919, 'eval_runtime': 63.7216, 'eval_samples_per_second': 44.553, 'eval_steps_per_second': 5.571, 'epoch': 11.98}\n"
     ]
    },
    {
     "name": "stderr",
     "output_type": "stream",
     "text": [
      " 60%|██████    | 34100/56780 [8:38:13<1:45:36,  3.58it/s]  The following columns in the evaluation set  don't have a corresponding argument in `BertForSequenceClassification.forward` and have been ignored: sentense. If sentense are not expected by `BertForSequenceClassification.forward`,  you can safely ignore this message.\n",
      "***** Running Evaluation *****\n",
      "  Num examples = 2839\n",
      "  Batch size = 8\n",
      "                                                         \n",
      " 60%|██████    | 34100/56780 [8:39:17<1:45:36,  3.58it/s]"
     ]
    },
    {
     "name": "stdout",
     "output_type": "stream",
     "text": [
      "{'eval_loss': 0.6351179480552673, 'eval_recall': 0.9772607086197779, 'eval_precision': 0.6819188191881919, 'eval_runtime': 63.7219, 'eval_samples_per_second': 44.553, 'eval_steps_per_second': 5.571, 'epoch': 12.01}\n"
     ]
    },
    {
     "name": "stderr",
     "output_type": "stream",
     "text": [
      " 60%|██████    | 34200/56780 [8:39:45<1:45:05,  3.58it/s]  The following columns in the evaluation set  don't have a corresponding argument in `BertForSequenceClassification.forward` and have been ignored: sentense. If sentense are not expected by `BertForSequenceClassification.forward`,  you can safely ignore this message.\n",
      "***** Running Evaluation *****\n",
      "  Num examples = 2839\n",
      "  Batch size = 8\n",
      "                                                         \n",
      " 60%|██████    | 34200/56780 [8:40:49<1:45:05,  3.58it/s]"
     ]
    },
    {
     "name": "stdout",
     "output_type": "stream",
     "text": [
      "{'eval_loss': 0.6267909407615662, 'eval_recall': 0.9772607086197779, 'eval_precision': 0.6819188191881919, 'eval_runtime': 63.7243, 'eval_samples_per_second': 44.551, 'eval_steps_per_second': 5.571, 'epoch': 12.05}\n"
     ]
    },
    {
     "name": "stderr",
     "output_type": "stream",
     "text": [
      " 60%|██████    | 34300/56780 [8:41:17<1:44:52,  3.57it/s]  The following columns in the evaluation set  don't have a corresponding argument in `BertForSequenceClassification.forward` and have been ignored: sentense. If sentense are not expected by `BertForSequenceClassification.forward`,  you can safely ignore this message.\n",
      "***** Running Evaluation *****\n",
      "  Num examples = 2839\n",
      "  Batch size = 8\n",
      "                                                         \n",
      " 60%|██████    | 34300/56780 [8:42:20<1:44:52,  3.57it/s]"
     ]
    },
    {
     "name": "stdout",
     "output_type": "stream",
     "text": [
      "{'eval_loss': 0.628231406211853, 'eval_recall': 0.9772607086197779, 'eval_precision': 0.6819188191881919, 'eval_runtime': 63.7303, 'eval_samples_per_second': 44.547, 'eval_steps_per_second': 5.57, 'epoch': 12.08}\n"
     ]
    },
    {
     "name": "stderr",
     "output_type": "stream",
     "text": [
      " 61%|██████    | 34400/56780 [8:42:48<1:44:00,  3.59it/s]  The following columns in the evaluation set  don't have a corresponding argument in `BertForSequenceClassification.forward` and have been ignored: sentense. If sentense are not expected by `BertForSequenceClassification.forward`,  you can safely ignore this message.\n",
      "***** Running Evaluation *****\n",
      "  Num examples = 2839\n",
      "  Batch size = 8\n",
      "                                                         \n",
      " 61%|██████    | 34400/56780 [8:43:52<1:44:00,  3.59it/s]"
     ]
    },
    {
     "name": "stdout",
     "output_type": "stream",
     "text": [
      "{'eval_loss': 0.626143753528595, 'eval_recall': 0.9772607086197779, 'eval_precision': 0.6819188191881919, 'eval_runtime': 63.7216, 'eval_samples_per_second': 44.553, 'eval_steps_per_second': 5.571, 'epoch': 12.12}\n"
     ]
    },
    {
     "name": "stderr",
     "output_type": "stream",
     "text": [
      " 61%|██████    | 34500/56780 [8:44:20<2:07:07,  2.92it/s]  The following columns in the evaluation set  don't have a corresponding argument in `BertForSequenceClassification.forward` and have been ignored: sentense. If sentense are not expected by `BertForSequenceClassification.forward`,  you can safely ignore this message.\n",
      "***** Running Evaluation *****\n",
      "  Num examples = 2839\n",
      "  Batch size = 8\n"
     ]
    },
    {
     "name": "stdout",
     "output_type": "stream",
     "text": [
      "{'loss': 0.6255, 'learning_rate': 1.9619584360690384e-05, 'epoch': 12.15}\n"
     ]
    },
    {
     "name": "stderr",
     "output_type": "stream",
     "text": [
      "                                                         \n",
      " 61%|██████    | 34500/56780 [8:45:24<2:07:07,  2.92it/s]"
     ]
    },
    {
     "name": "stdout",
     "output_type": "stream",
     "text": [
      "{'eval_loss': 0.6312969923019409, 'eval_recall': 0.9772607086197779, 'eval_precision': 0.6819188191881919, 'eval_runtime': 63.7032, 'eval_samples_per_second': 44.566, 'eval_steps_per_second': 5.573, 'epoch': 12.15}\n"
     ]
    },
    {
     "name": "stderr",
     "output_type": "stream",
     "text": [
      " 61%|██████    | 34600/56780 [8:45:52<1:43:32,  3.57it/s]  The following columns in the evaluation set  don't have a corresponding argument in `BertForSequenceClassification.forward` and have been ignored: sentense. If sentense are not expected by `BertForSequenceClassification.forward`,  you can safely ignore this message.\n",
      "***** Running Evaluation *****\n",
      "  Num examples = 2839\n",
      "  Batch size = 8\n",
      "                                                         \n",
      " 61%|██████    | 34600/56780 [8:46:56<1:43:32,  3.57it/s]"
     ]
    },
    {
     "name": "stdout",
     "output_type": "stream",
     "text": [
      "{'eval_loss': 0.6342797875404358, 'eval_recall': 0.9772607086197779, 'eval_precision': 0.6819188191881919, 'eval_runtime': 63.7662, 'eval_samples_per_second': 44.522, 'eval_steps_per_second': 5.567, 'epoch': 12.19}\n"
     ]
    },
    {
     "name": "stderr",
     "output_type": "stream",
     "text": [
      " 61%|██████    | 34700/56780 [8:47:24<1:42:46,  3.58it/s]  The following columns in the evaluation set  don't have a corresponding argument in `BertForSequenceClassification.forward` and have been ignored: sentense. If sentense are not expected by `BertForSequenceClassification.forward`,  you can safely ignore this message.\n",
      "***** Running Evaluation *****\n",
      "  Num examples = 2839\n",
      "  Batch size = 8\n",
      "                                                         \n",
      " 61%|██████    | 34700/56780 [8:48:28<1:42:46,  3.58it/s]"
     ]
    },
    {
     "name": "stdout",
     "output_type": "stream",
     "text": [
      "{'eval_loss': 0.6387413740158081, 'eval_recall': 0.9772607086197779, 'eval_precision': 0.6819188191881919, 'eval_runtime': 63.8639, 'eval_samples_per_second': 44.454, 'eval_steps_per_second': 5.559, 'epoch': 12.22}\n"
     ]
    },
    {
     "name": "stderr",
     "output_type": "stream",
     "text": [
      " 61%|██████▏   | 34800/56780 [8:48:56<1:42:30,  3.57it/s]  The following columns in the evaluation set  don't have a corresponding argument in `BertForSequenceClassification.forward` and have been ignored: sentense. If sentense are not expected by `BertForSequenceClassification.forward`,  you can safely ignore this message.\n",
      "***** Running Evaluation *****\n",
      "  Num examples = 2839\n",
      "  Batch size = 8\n",
      "                                                         \n",
      " 61%|██████▏   | 34800/56780 [8:50:00<1:42:30,  3.57it/s]"
     ]
    },
    {
     "name": "stdout",
     "output_type": "stream",
     "text": [
      "{'eval_loss': 0.6340557932853699, 'eval_recall': 0.9772607086197779, 'eval_precision': 0.6819188191881919, 'eval_runtime': 63.8741, 'eval_samples_per_second': 44.447, 'eval_steps_per_second': 5.558, 'epoch': 12.26}\n"
     ]
    },
    {
     "name": "stderr",
     "output_type": "stream",
     "text": [
      " 61%|██████▏   | 34900/56780 [8:50:28<1:41:59,  3.58it/s]  The following columns in the evaluation set  don't have a corresponding argument in `BertForSequenceClassification.forward` and have been ignored: sentense. If sentense are not expected by `BertForSequenceClassification.forward`,  you can safely ignore this message.\n",
      "***** Running Evaluation *****\n",
      "  Num examples = 2839\n",
      "  Batch size = 8\n",
      "                                                         \n",
      " 61%|██████▏   | 34900/56780 [8:51:31<1:41:59,  3.58it/s]"
     ]
    },
    {
     "name": "stdout",
     "output_type": "stream",
     "text": [
      "{'eval_loss': 0.6289670467376709, 'eval_recall': 0.9772607086197779, 'eval_precision': 0.6819188191881919, 'eval_runtime': 63.9223, 'eval_samples_per_second': 44.413, 'eval_steps_per_second': 5.554, 'epoch': 12.29}\n"
     ]
    },
    {
     "name": "stderr",
     "output_type": "stream",
     "text": [
      " 62%|██████▏   | 35000/56780 [8:52:00<2:07:01,  2.86it/s]  The following columns in the evaluation set  don't have a corresponding argument in `BertForSequenceClassification.forward` and have been ignored: sentense. If sentense are not expected by `BertForSequenceClassification.forward`,  you can safely ignore this message.\n",
      "***** Running Evaluation *****\n",
      "  Num examples = 2839\n",
      "  Batch size = 8\n"
     ]
    },
    {
     "name": "stdout",
     "output_type": "stream",
     "text": [
      "{'loss': 0.6185, 'learning_rate': 1.917928848185981e-05, 'epoch': 12.33}\n"
     ]
    },
    {
     "name": "stderr",
     "output_type": "stream",
     "text": [
      "                                                         \n",
      " 62%|██████▏   | 35000/56780 [8:53:04<2:07:01,  2.86it/s]Saving model checkpoint to bert-classifier-trainer\\checkpoint-35000\n",
      "Configuration saved in bert-classifier-trainer\\checkpoint-35000\\config.json\n"
     ]
    },
    {
     "name": "stdout",
     "output_type": "stream",
     "text": [
      "{'eval_loss': 0.6312483549118042, 'eval_recall': 0.9772607086197779, 'eval_precision': 0.6819188191881919, 'eval_runtime': 63.9235, 'eval_samples_per_second': 44.412, 'eval_steps_per_second': 5.554, 'epoch': 12.33}\n"
     ]
    },
    {
     "name": "stderr",
     "output_type": "stream",
     "text": [
      "Model weights saved in bert-classifier-trainer\\checkpoint-35000\\pytorch_model.bin\n",
      " 62%|██████▏   | 35100/56780 [8:53:39<1:40:46,  3.59it/s]  The following columns in the evaluation set  don't have a corresponding argument in `BertForSequenceClassification.forward` and have been ignored: sentense. If sentense are not expected by `BertForSequenceClassification.forward`,  you can safely ignore this message.\n",
      "***** Running Evaluation *****\n",
      "  Num examples = 2839\n",
      "  Batch size = 8\n",
      "                                                         \n",
      " 62%|██████▏   | 35100/56780 [8:54:43<1:40:46,  3.59it/s]"
     ]
    },
    {
     "name": "stdout",
     "output_type": "stream",
     "text": [
      "{'eval_loss': 0.6259480118751526, 'eval_recall': 0.9772607086197779, 'eval_precision': 0.6819188191881919, 'eval_runtime': 63.6089, 'eval_samples_per_second': 44.632, 'eval_steps_per_second': 5.581, 'epoch': 12.36}\n"
     ]
    },
    {
     "name": "stderr",
     "output_type": "stream",
     "text": [
      " 62%|██████▏   | 35200/56780 [8:55:11<1:40:24,  3.58it/s]  The following columns in the evaluation set  don't have a corresponding argument in `BertForSequenceClassification.forward` and have been ignored: sentense. If sentense are not expected by `BertForSequenceClassification.forward`,  you can safely ignore this message.\n",
      "***** Running Evaluation *****\n",
      "  Num examples = 2839\n",
      "  Batch size = 8\n",
      "                                                         \n",
      " 62%|██████▏   | 35200/56780 [8:56:14<1:40:24,  3.58it/s]"
     ]
    },
    {
     "name": "stdout",
     "output_type": "stream",
     "text": [
      "{'eval_loss': 0.6302464604377747, 'eval_recall': 0.9772607086197779, 'eval_precision': 0.6819188191881919, 'eval_runtime': 63.6414, 'eval_samples_per_second': 44.609, 'eval_steps_per_second': 5.578, 'epoch': 12.4}\n"
     ]
    },
    {
     "name": "stderr",
     "output_type": "stream",
     "text": [
      " 62%|██████▏   | 35300/56780 [8:56:42<1:39:54,  3.58it/s]  The following columns in the evaluation set  don't have a corresponding argument in `BertForSequenceClassification.forward` and have been ignored: sentense. If sentense are not expected by `BertForSequenceClassification.forward`,  you can safely ignore this message.\n",
      "***** Running Evaluation *****\n",
      "  Num examples = 2839\n",
      "  Batch size = 8\n",
      "                                                         \n",
      " 62%|██████▏   | 35300/56780 [8:57:46<1:39:54,  3.58it/s]"
     ]
    },
    {
     "name": "stdout",
     "output_type": "stream",
     "text": [
      "{'eval_loss': 0.6259490251541138, 'eval_recall': 0.9772607086197779, 'eval_precision': 0.6819188191881919, 'eval_runtime': 63.6505, 'eval_samples_per_second': 44.603, 'eval_steps_per_second': 5.577, 'epoch': 12.43}\n"
     ]
    },
    {
     "name": "stderr",
     "output_type": "stream",
     "text": [
      " 62%|██████▏   | 35400/56780 [8:58:14<1:39:34,  3.58it/s]  The following columns in the evaluation set  don't have a corresponding argument in `BertForSequenceClassification.forward` and have been ignored: sentense. If sentense are not expected by `BertForSequenceClassification.forward`,  you can safely ignore this message.\n",
      "***** Running Evaluation *****\n",
      "  Num examples = 2839\n",
      "  Batch size = 8\n",
      "                                                         \n",
      " 62%|██████▏   | 35400/56780 [8:59:18<1:39:34,  3.58it/s]"
     ]
    },
    {
     "name": "stdout",
     "output_type": "stream",
     "text": [
      "{'eval_loss': 0.6329251527786255, 'eval_recall': 0.9772607086197779, 'eval_precision': 0.6819188191881919, 'eval_runtime': 63.7448, 'eval_samples_per_second': 44.537, 'eval_steps_per_second': 5.569, 'epoch': 12.47}\n"
     ]
    },
    {
     "name": "stderr",
     "output_type": "stream",
     "text": [
      " 63%|██████▎   | 35500/56780 [8:59:46<2:01:48,  2.91it/s]  The following columns in the evaluation set  don't have a corresponding argument in `BertForSequenceClassification.forward` and have been ignored: sentense. If sentense are not expected by `BertForSequenceClassification.forward`,  you can safely ignore this message.\n",
      "***** Running Evaluation *****\n",
      "  Num examples = 2839\n",
      "  Batch size = 8\n"
     ]
    },
    {
     "name": "stdout",
     "output_type": "stream",
     "text": [
      "{'loss': 0.6194, 'learning_rate': 1.8738992603029236e-05, 'epoch': 12.5}\n"
     ]
    },
    {
     "name": "stderr",
     "output_type": "stream",
     "text": [
      "                                                         \n",
      " 63%|██████▎   | 35500/56780 [9:00:50<2:01:48,  2.91it/s]"
     ]
    },
    {
     "name": "stdout",
     "output_type": "stream",
     "text": [
      "{'eval_loss': 0.64104825258255, 'eval_recall': 0.9772607086197779, 'eval_precision': 0.6819188191881919, 'eval_runtime': 63.6616, 'eval_samples_per_second': 44.595, 'eval_steps_per_second': 5.576, 'epoch': 12.5}\n"
     ]
    },
    {
     "name": "stderr",
     "output_type": "stream",
     "text": [
      " 63%|██████▎   | 35600/56780 [9:01:17<1:38:42,  3.58it/s]  The following columns in the evaluation set  don't have a corresponding argument in `BertForSequenceClassification.forward` and have been ignored: sentense. If sentense are not expected by `BertForSequenceClassification.forward`,  you can safely ignore this message.\n",
      "***** Running Evaluation *****\n",
      "  Num examples = 2839\n",
      "  Batch size = 8\n",
      "                                                         \n",
      " 63%|██████▎   | 35600/56780 [9:02:21<1:38:42,  3.58it/s]"
     ]
    },
    {
     "name": "stdout",
     "output_type": "stream",
     "text": [
      "{'eval_loss': 0.6293463110923767, 'eval_recall': 0.9772607086197779, 'eval_precision': 0.6819188191881919, 'eval_runtime': 63.6479, 'eval_samples_per_second': 44.605, 'eval_steps_per_second': 5.578, 'epoch': 12.54}\n"
     ]
    },
    {
     "name": "stderr",
     "output_type": "stream",
     "text": [
      " 63%|██████▎   | 35700/56780 [9:02:49<1:38:07,  3.58it/s]  The following columns in the evaluation set  don't have a corresponding argument in `BertForSequenceClassification.forward` and have been ignored: sentense. If sentense are not expected by `BertForSequenceClassification.forward`,  you can safely ignore this message.\n",
      "***** Running Evaluation *****\n",
      "  Num examples = 2839\n",
      "  Batch size = 8\n",
      "                                                         \n",
      " 63%|██████▎   | 35700/56780 [9:03:53<1:38:07,  3.58it/s]"
     ]
    },
    {
     "name": "stdout",
     "output_type": "stream",
     "text": [
      "{'eval_loss': 0.6274099946022034, 'eval_recall': 0.9772607086197779, 'eval_precision': 0.6819188191881919, 'eval_runtime': 63.6482, 'eval_samples_per_second': 44.605, 'eval_steps_per_second': 5.578, 'epoch': 12.57}\n"
     ]
    },
    {
     "name": "stderr",
     "output_type": "stream",
     "text": [
      " 63%|██████▎   | 35800/56780 [9:04:21<1:37:20,  3.59it/s]  The following columns in the evaluation set  don't have a corresponding argument in `BertForSequenceClassification.forward` and have been ignored: sentense. If sentense are not expected by `BertForSequenceClassification.forward`,  you can safely ignore this message.\n",
      "***** Running Evaluation *****\n",
      "  Num examples = 2839\n",
      "  Batch size = 8\n",
      "                                                         \n",
      " 63%|██████▎   | 35800/56780 [9:05:24<1:37:20,  3.59it/s]"
     ]
    },
    {
     "name": "stdout",
     "output_type": "stream",
     "text": [
      "{'eval_loss': 0.6315773725509644, 'eval_recall': 0.9772607086197779, 'eval_precision': 0.6819188191881919, 'eval_runtime': 63.7186, 'eval_samples_per_second': 44.555, 'eval_steps_per_second': 5.571, 'epoch': 12.61}\n"
     ]
    },
    {
     "name": "stderr",
     "output_type": "stream",
     "text": [
      " 63%|██████▎   | 35900/56780 [9:05:52<1:37:06,  3.58it/s]  The following columns in the evaluation set  don't have a corresponding argument in `BertForSequenceClassification.forward` and have been ignored: sentense. If sentense are not expected by `BertForSequenceClassification.forward`,  you can safely ignore this message.\n",
      "***** Running Evaluation *****\n",
      "  Num examples = 2839\n",
      "  Batch size = 8\n",
      "                                                         \n",
      " 63%|██████▎   | 35900/56780 [9:06:56<1:37:06,  3.58it/s]"
     ]
    },
    {
     "name": "stdout",
     "output_type": "stream",
     "text": [
      "{'eval_loss': 0.6282157897949219, 'eval_recall': 0.9772607086197779, 'eval_precision': 0.6819188191881919, 'eval_runtime': 63.6942, 'eval_samples_per_second': 44.572, 'eval_steps_per_second': 5.574, 'epoch': 12.65}\n"
     ]
    },
    {
     "name": "stderr",
     "output_type": "stream",
     "text": [
      " 63%|██████▎   | 36000/56780 [9:07:24<1:59:21,  2.90it/s]  The following columns in the evaluation set  don't have a corresponding argument in `BertForSequenceClassification.forward` and have been ignored: sentense. If sentense are not expected by `BertForSequenceClassification.forward`,  you can safely ignore this message.\n",
      "***** Running Evaluation *****\n",
      "  Num examples = 2839\n",
      "  Batch size = 8\n"
     ]
    },
    {
     "name": "stdout",
     "output_type": "stream",
     "text": [
      "{'loss': 0.6276, 'learning_rate': 1.8298696724198662e-05, 'epoch': 12.68}\n"
     ]
    },
    {
     "name": "stderr",
     "output_type": "stream",
     "text": [
      "                                                         \n",
      " 63%|██████▎   | 36000/56780 [9:08:28<1:59:21,  2.90it/s]"
     ]
    },
    {
     "name": "stdout",
     "output_type": "stream",
     "text": [
      "{'eval_loss': 0.6415485143661499, 'eval_recall': 0.9772607086197779, 'eval_precision': 0.6819188191881919, 'eval_runtime': 63.7202, 'eval_samples_per_second': 44.554, 'eval_steps_per_second': 5.571, 'epoch': 12.68}\n"
     ]
    },
    {
     "name": "stderr",
     "output_type": "stream",
     "text": [
      " 64%|██████▎   | 36100/56780 [9:08:56<1:35:56,  3.59it/s]  The following columns in the evaluation set  don't have a corresponding argument in `BertForSequenceClassification.forward` and have been ignored: sentense. If sentense are not expected by `BertForSequenceClassification.forward`,  you can safely ignore this message.\n",
      "***** Running Evaluation *****\n",
      "  Num examples = 2839\n",
      "  Batch size = 8\n",
      "                                                         \n",
      " 64%|██████▎   | 36100/56780 [9:09:59<1:35:56,  3.59it/s]"
     ]
    },
    {
     "name": "stdout",
     "output_type": "stream",
     "text": [
      "{'eval_loss': 0.6387831568717957, 'eval_recall': 0.9777895293495505, 'eval_precision': 0.6815333579063767, 'eval_runtime': 63.7181, 'eval_samples_per_second': 44.556, 'eval_steps_per_second': 5.571, 'epoch': 12.72}\n"
     ]
    },
    {
     "name": "stderr",
     "output_type": "stream",
     "text": [
      " 64%|██████▍   | 36200/56780 [9:10:27<1:35:23,  3.60it/s]  The following columns in the evaluation set  don't have a corresponding argument in `BertForSequenceClassification.forward` and have been ignored: sentense. If sentense are not expected by `BertForSequenceClassification.forward`,  you can safely ignore this message.\n",
      "***** Running Evaluation *****\n",
      "  Num examples = 2839\n",
      "  Batch size = 8\n",
      "                                                         \n",
      " 64%|██████▍   | 36200/56780 [9:11:31<1:35:23,  3.60it/s]"
     ]
    },
    {
     "name": "stdout",
     "output_type": "stream",
     "text": [
      "{'eval_loss': 0.6275292038917542, 'eval_recall': 0.9777895293495505, 'eval_precision': 0.6815333579063767, 'eval_runtime': 63.6468, 'eval_samples_per_second': 44.606, 'eval_steps_per_second': 5.578, 'epoch': 12.75}\n"
     ]
    },
    {
     "name": "stderr",
     "output_type": "stream",
     "text": [
      " 64%|██████▍   | 36300/56780 [9:11:59<1:35:19,  3.58it/s]  The following columns in the evaluation set  don't have a corresponding argument in `BertForSequenceClassification.forward` and have been ignored: sentense. If sentense are not expected by `BertForSequenceClassification.forward`,  you can safely ignore this message.\n",
      "***** Running Evaluation *****\n",
      "  Num examples = 2839\n",
      "  Batch size = 8\n",
      "                                                         \n",
      " 64%|██████▍   | 36300/56780 [9:13:03<1:35:19,  3.58it/s]"
     ]
    },
    {
     "name": "stdout",
     "output_type": "stream",
     "text": [
      "{'eval_loss': 0.643600583076477, 'eval_recall': 0.9772607086197779, 'eval_precision': 0.6816672814459609, 'eval_runtime': 63.6346, 'eval_samples_per_second': 44.614, 'eval_steps_per_second': 5.579, 'epoch': 12.79}\n"
     ]
    },
    {
     "name": "stderr",
     "output_type": "stream",
     "text": [
      " 64%|██████▍   | 36400/56780 [9:13:30<1:35:03,  3.57it/s]  The following columns in the evaluation set  don't have a corresponding argument in `BertForSequenceClassification.forward` and have been ignored: sentense. If sentense are not expected by `BertForSequenceClassification.forward`,  you can safely ignore this message.\n",
      "***** Running Evaluation *****\n",
      "  Num examples = 2839\n",
      "  Batch size = 8\n",
      "                                                         \n",
      " 64%|██████▍   | 36400/56780 [9:14:34<1:35:03,  3.57it/s]"
     ]
    },
    {
     "name": "stdout",
     "output_type": "stream",
     "text": [
      "{'eval_loss': 0.6264260411262512, 'eval_recall': 0.9772607086197779, 'eval_precision': 0.6816672814459609, 'eval_runtime': 63.6672, 'eval_samples_per_second': 44.591, 'eval_steps_per_second': 5.576, 'epoch': 12.82}\n"
     ]
    },
    {
     "name": "stderr",
     "output_type": "stream",
     "text": [
      " 64%|██████▍   | 36500/56780 [9:15:02<1:55:50,  2.92it/s]  The following columns in the evaluation set  don't have a corresponding argument in `BertForSequenceClassification.forward` and have been ignored: sentense. If sentense are not expected by `BertForSequenceClassification.forward`,  you can safely ignore this message.\n",
      "***** Running Evaluation *****\n",
      "  Num examples = 2839\n",
      "  Batch size = 8\n"
     ]
    },
    {
     "name": "stdout",
     "output_type": "stream",
     "text": [
      "{'loss': 0.6246, 'learning_rate': 1.785840084536809e-05, 'epoch': 12.86}\n"
     ]
    },
    {
     "name": "stderr",
     "output_type": "stream",
     "text": [
      "                                                         \n",
      " 64%|██████▍   | 36500/56780 [9:16:06<1:55:50,  2.92it/s]"
     ]
    },
    {
     "name": "stdout",
     "output_type": "stream",
     "text": [
      "{'eval_loss': 0.6316022872924805, 'eval_recall': 0.9777895293495505, 'eval_precision': 0.6817846607669616, 'eval_runtime': 63.6001, 'eval_samples_per_second': 44.638, 'eval_steps_per_second': 5.582, 'epoch': 12.86}\n"
     ]
    },
    {
     "name": "stderr",
     "output_type": "stream",
     "text": [
      " 64%|██████▍   | 36600/56780 [9:16:34<1:33:57,  3.58it/s]  The following columns in the evaluation set  don't have a corresponding argument in `BertForSequenceClassification.forward` and have been ignored: sentense. If sentense are not expected by `BertForSequenceClassification.forward`,  you can safely ignore this message.\n",
      "***** Running Evaluation *****\n",
      "  Num examples = 2839\n",
      "  Batch size = 8\n",
      "                                                         \n",
      " 64%|██████▍   | 36600/56780 [9:17:37<1:33:57,  3.58it/s]"
     ]
    },
    {
     "name": "stdout",
     "output_type": "stream",
     "text": [
      "{'eval_loss': 0.6297151446342468, 'eval_recall': 0.9777895293495505, 'eval_precision': 0.6817846607669616, 'eval_runtime': 63.5652, 'eval_samples_per_second': 44.663, 'eval_steps_per_second': 5.585, 'epoch': 12.89}\n"
     ]
    },
    {
     "name": "stderr",
     "output_type": "stream",
     "text": [
      " 65%|██████▍   | 36700/56780 [9:18:05<1:33:24,  3.58it/s]  The following columns in the evaluation set  don't have a corresponding argument in `BertForSequenceClassification.forward` and have been ignored: sentense. If sentense are not expected by `BertForSequenceClassification.forward`,  you can safely ignore this message.\n",
      "***** Running Evaluation *****\n",
      "  Num examples = 2839\n",
      "  Batch size = 8\n",
      "                                                         \n",
      " 65%|██████▍   | 36700/56780 [9:19:09<1:33:24,  3.58it/s]"
     ]
    },
    {
     "name": "stdout",
     "output_type": "stream",
     "text": [
      "{'eval_loss': 0.6349654793739319, 'eval_recall': 0.9772607086197779, 'eval_precision': 0.6816672814459609, 'eval_runtime': 63.5829, 'eval_samples_per_second': 44.65, 'eval_steps_per_second': 5.583, 'epoch': 12.93}\n"
     ]
    },
    {
     "name": "stderr",
     "output_type": "stream",
     "text": [
      " 65%|██████▍   | 36800/56780 [9:19:37<1:32:41,  3.59it/s]  The following columns in the evaluation set  don't have a corresponding argument in `BertForSequenceClassification.forward` and have been ignored: sentense. If sentense are not expected by `BertForSequenceClassification.forward`,  you can safely ignore this message.\n",
      "***** Running Evaluation *****\n",
      "  Num examples = 2839\n",
      "  Batch size = 8\n",
      "                                                         \n",
      " 65%|██████▍   | 36800/56780 [9:20:40<1:32:41,  3.59it/s]"
     ]
    },
    {
     "name": "stdout",
     "output_type": "stream",
     "text": [
      "{'eval_loss': 0.63592529296875, 'eval_recall': 0.9772607086197779, 'eval_precision': 0.6816672814459609, 'eval_runtime': 63.5942, 'eval_samples_per_second': 44.642, 'eval_steps_per_second': 5.582, 'epoch': 12.96}\n"
     ]
    },
    {
     "name": "stderr",
     "output_type": "stream",
     "text": [
      " 65%|██████▍   | 36900/56780 [9:21:08<1:32:32,  3.58it/s]  The following columns in the evaluation set  don't have a corresponding argument in `BertForSequenceClassification.forward` and have been ignored: sentense. If sentense are not expected by `BertForSequenceClassification.forward`,  you can safely ignore this message.\n",
      "***** Running Evaluation *****\n",
      "  Num examples = 2839\n",
      "  Batch size = 8\n",
      "                                                         \n",
      " 65%|██████▍   | 36900/56780 [9:22:12<1:32:32,  3.58it/s]"
     ]
    },
    {
     "name": "stdout",
     "output_type": "stream",
     "text": [
      "{'eval_loss': 0.6335825324058533, 'eval_recall': 0.9772607086197779, 'eval_precision': 0.6816672814459609, 'eval_runtime': 63.6125, 'eval_samples_per_second': 44.63, 'eval_steps_per_second': 5.581, 'epoch': 13.0}\n"
     ]
    },
    {
     "name": "stderr",
     "output_type": "stream",
     "text": [
      " 65%|██████▌   | 37000/56780 [9:22:40<1:53:14,  2.91it/s]  The following columns in the evaluation set  don't have a corresponding argument in `BertForSequenceClassification.forward` and have been ignored: sentense. If sentense are not expected by `BertForSequenceClassification.forward`,  you can safely ignore this message.\n",
      "***** Running Evaluation *****\n",
      "  Num examples = 2839\n",
      "  Batch size = 8\n"
     ]
    },
    {
     "name": "stdout",
     "output_type": "stream",
     "text": [
      "{'loss': 0.6209, 'learning_rate': 1.741810496653751e-05, 'epoch': 13.03}\n"
     ]
    },
    {
     "name": "stderr",
     "output_type": "stream",
     "text": [
      "                                                         \n",
      " 65%|██████▌   | 37000/56780 [9:23:43<1:53:14,  2.91it/s]"
     ]
    },
    {
     "name": "stdout",
     "output_type": "stream",
     "text": [
      "{'eval_loss': 0.6315863132476807, 'eval_recall': 0.9772607086197779, 'eval_precision': 0.6816672814459609, 'eval_runtime': 63.5828, 'eval_samples_per_second': 44.65, 'eval_steps_per_second': 5.583, 'epoch': 13.03}\n"
     ]
    },
    {
     "name": "stderr",
     "output_type": "stream",
     "text": [
      " 65%|██████▌   | 37100/56780 [9:24:11<1:31:24,  3.59it/s]  The following columns in the evaluation set  don't have a corresponding argument in `BertForSequenceClassification.forward` and have been ignored: sentense. If sentense are not expected by `BertForSequenceClassification.forward`,  you can safely ignore this message.\n",
      "***** Running Evaluation *****\n",
      "  Num examples = 2839\n",
      "  Batch size = 8\n",
      "                                                         \n",
      " 65%|██████▌   | 37100/56780 [9:25:15<1:31:24,  3.59it/s]"
     ]
    },
    {
     "name": "stdout",
     "output_type": "stream",
     "text": [
      "{'eval_loss': 0.632444441318512, 'eval_recall': 0.9772607086197779, 'eval_precision': 0.6816672814459609, 'eval_runtime': 63.5779, 'eval_samples_per_second': 44.654, 'eval_steps_per_second': 5.584, 'epoch': 13.07}\n"
     ]
    },
    {
     "name": "stderr",
     "output_type": "stream",
     "text": [
      " 66%|██████▌   | 37200/56780 [9:25:43<1:31:01,  3.58it/s]  The following columns in the evaluation set  don't have a corresponding argument in `BertForSequenceClassification.forward` and have been ignored: sentense. If sentense are not expected by `BertForSequenceClassification.forward`,  you can safely ignore this message.\n",
      "***** Running Evaluation *****\n",
      "  Num examples = 2839\n",
      "  Batch size = 8\n",
      "                                                         \n",
      " 66%|██████▌   | 37200/56780 [9:26:46<1:31:01,  3.58it/s]"
     ]
    },
    {
     "name": "stdout",
     "output_type": "stream",
     "text": [
      "{'eval_loss': 0.6286765336990356, 'eval_recall': 0.9772607086197779, 'eval_precision': 0.6816672814459609, 'eval_runtime': 63.5629, 'eval_samples_per_second': 44.664, 'eval_steps_per_second': 5.585, 'epoch': 13.1}\n"
     ]
    },
    {
     "name": "stderr",
     "output_type": "stream",
     "text": [
      " 66%|██████▌   | 37300/56780 [9:27:14<1:30:48,  3.58it/s]  The following columns in the evaluation set  don't have a corresponding argument in `BertForSequenceClassification.forward` and have been ignored: sentense. If sentense are not expected by `BertForSequenceClassification.forward`,  you can safely ignore this message.\n",
      "***** Running Evaluation *****\n",
      "  Num examples = 2839\n",
      "  Batch size = 8\n",
      "                                                         \n",
      " 66%|██████▌   | 37300/56780 [9:28:18<1:30:48,  3.58it/s]"
     ]
    },
    {
     "name": "stdout",
     "output_type": "stream",
     "text": [
      "{'eval_loss': 0.6320326328277588, 'eval_recall': 0.9772607086197779, 'eval_precision': 0.6816672814459609, 'eval_runtime': 63.6527, 'eval_samples_per_second': 44.601, 'eval_steps_per_second': 5.577, 'epoch': 13.14}\n"
     ]
    },
    {
     "name": "stderr",
     "output_type": "stream",
     "text": [
      " 66%|██████▌   | 37400/56780 [9:28:46<1:30:39,  3.56it/s]  The following columns in the evaluation set  don't have a corresponding argument in `BertForSequenceClassification.forward` and have been ignored: sentense. If sentense are not expected by `BertForSequenceClassification.forward`,  you can safely ignore this message.\n",
      "***** Running Evaluation *****\n",
      "  Num examples = 2839\n",
      "  Batch size = 8\n",
      "                                                         \n",
      " 66%|██████▌   | 37400/56780 [9:29:49<1:30:39,  3.56it/s]"
     ]
    },
    {
     "name": "stdout",
     "output_type": "stream",
     "text": [
      "{'eval_loss': 0.6370505094528198, 'eval_recall': 0.9772607086197779, 'eval_precision': 0.6816672814459609, 'eval_runtime': 63.6164, 'eval_samples_per_second': 44.627, 'eval_steps_per_second': 5.58, 'epoch': 13.17}\n"
     ]
    },
    {
     "name": "stderr",
     "output_type": "stream",
     "text": [
      " 66%|██████▌   | 37500/56780 [9:30:17<1:50:38,  2.90it/s]  The following columns in the evaluation set  don't have a corresponding argument in `BertForSequenceClassification.forward` and have been ignored: sentense. If sentense are not expected by `BertForSequenceClassification.forward`,  you can safely ignore this message.\n",
      "***** Running Evaluation *****\n",
      "  Num examples = 2839\n",
      "  Batch size = 8\n"
     ]
    },
    {
     "name": "stdout",
     "output_type": "stream",
     "text": [
      "{'loss': 0.6161, 'learning_rate': 1.6977809087706938e-05, 'epoch': 13.21}\n"
     ]
    },
    {
     "name": "stderr",
     "output_type": "stream",
     "text": [
      "                                                         \n",
      " 66%|██████▌   | 37500/56780 [9:31:21<1:50:38,  2.90it/s]"
     ]
    },
    {
     "name": "stdout",
     "output_type": "stream",
     "text": [
      "{'eval_loss': 0.6356559991836548, 'eval_recall': 0.9772607086197779, 'eval_precision': 0.6816672814459609, 'eval_runtime': 63.5802, 'eval_samples_per_second': 44.652, 'eval_steps_per_second': 5.583, 'epoch': 13.21}\n"
     ]
    },
    {
     "name": "stderr",
     "output_type": "stream",
     "text": [
      " 66%|██████▌   | 37600/56780 [9:31:49<1:29:21,  3.58it/s]  The following columns in the evaluation set  don't have a corresponding argument in `BertForSequenceClassification.forward` and have been ignored: sentense. If sentense are not expected by `BertForSequenceClassification.forward`,  you can safely ignore this message.\n",
      "***** Running Evaluation *****\n",
      "  Num examples = 2839\n",
      "  Batch size = 8\n",
      "                                                         \n",
      " 66%|██████▌   | 37600/56780 [9:32:53<1:29:21,  3.58it/s]"
     ]
    },
    {
     "name": "stdout",
     "output_type": "stream",
     "text": [
      "{'eval_loss': 0.632628321647644, 'eval_recall': 0.9772607086197779, 'eval_precision': 0.6816672814459609, 'eval_runtime': 63.682, 'eval_samples_per_second': 44.581, 'eval_steps_per_second': 5.575, 'epoch': 13.24}\n"
     ]
    },
    {
     "name": "stderr",
     "output_type": "stream",
     "text": [
      " 66%|██████▋   | 37700/56780 [9:33:21<1:28:46,  3.58it/s]  The following columns in the evaluation set  don't have a corresponding argument in `BertForSequenceClassification.forward` and have been ignored: sentense. If sentense are not expected by `BertForSequenceClassification.forward`,  you can safely ignore this message.\n",
      "***** Running Evaluation *****\n",
      "  Num examples = 2839\n",
      "  Batch size = 8\n",
      "                                                         \n",
      " 66%|██████▋   | 37700/56780 [9:34:24<1:28:46,  3.58it/s]"
     ]
    },
    {
     "name": "stdout",
     "output_type": "stream",
     "text": [
      "{'eval_loss': 0.6270110607147217, 'eval_recall': 0.9772607086197779, 'eval_precision': 0.6816672814459609, 'eval_runtime': 63.6298, 'eval_samples_per_second': 44.617, 'eval_steps_per_second': 5.579, 'epoch': 13.28}\n"
     ]
    },
    {
     "name": "stderr",
     "output_type": "stream",
     "text": [
      " 67%|██████▋   | 37800/56780 [9:34:52<1:28:06,  3.59it/s]  The following columns in the evaluation set  don't have a corresponding argument in `BertForSequenceClassification.forward` and have been ignored: sentense. If sentense are not expected by `BertForSequenceClassification.forward`,  you can safely ignore this message.\n",
      "***** Running Evaluation *****\n",
      "  Num examples = 2839\n",
      "  Batch size = 8\n",
      "                                                         \n",
      " 67%|██████▋   | 37800/56780 [9:35:56<1:28:06,  3.59it/s]"
     ]
    },
    {
     "name": "stdout",
     "output_type": "stream",
     "text": [
      "{'eval_loss': 0.6353359818458557, 'eval_recall': 0.9772607086197779, 'eval_precision': 0.6816672814459609, 'eval_runtime': 63.6394, 'eval_samples_per_second': 44.611, 'eval_steps_per_second': 5.578, 'epoch': 13.31}\n"
     ]
    },
    {
     "name": "stderr",
     "output_type": "stream",
     "text": [
      " 67%|██████▋   | 37900/56780 [9:36:24<1:28:04,  3.57it/s]  The following columns in the evaluation set  don't have a corresponding argument in `BertForSequenceClassification.forward` and have been ignored: sentense. If sentense are not expected by `BertForSequenceClassification.forward`,  you can safely ignore this message.\n",
      "***** Running Evaluation *****\n",
      "  Num examples = 2839\n",
      "  Batch size = 8\n",
      "                                                         \n",
      " 67%|██████▋   | 37900/56780 [9:37:27<1:28:04,  3.57it/s]"
     ]
    },
    {
     "name": "stdout",
     "output_type": "stream",
     "text": [
      "{'eval_loss': 0.6323849558830261, 'eval_recall': 0.9772607086197779, 'eval_precision': 0.6816672814459609, 'eval_runtime': 63.6458, 'eval_samples_per_second': 44.606, 'eval_steps_per_second': 5.578, 'epoch': 13.35}\n"
     ]
    },
    {
     "name": "stderr",
     "output_type": "stream",
     "text": [
      " 67%|██████▋   | 38000/56780 [9:37:55<1:47:14,  2.92it/s]  The following columns in the evaluation set  don't have a corresponding argument in `BertForSequenceClassification.forward` and have been ignored: sentense. If sentense are not expected by `BertForSequenceClassification.forward`,  you can safely ignore this message.\n",
      "***** Running Evaluation *****\n",
      "  Num examples = 2839\n",
      "  Batch size = 8\n"
     ]
    },
    {
     "name": "stdout",
     "output_type": "stream",
     "text": [
      "{'loss': 0.6366, 'learning_rate': 1.6537513208876364e-05, 'epoch': 13.38}\n"
     ]
    },
    {
     "name": "stderr",
     "output_type": "stream",
     "text": [
      "                                                         \n",
      " 67%|██████▋   | 38000/56780 [9:38:59<1:47:14,  2.92it/s]"
     ]
    },
    {
     "name": "stdout",
     "output_type": "stream",
     "text": [
      "{'eval_loss': 0.628207802772522, 'eval_recall': 0.9772607086197779, 'eval_precision': 0.6816672814459609, 'eval_runtime': 63.6006, 'eval_samples_per_second': 44.638, 'eval_steps_per_second': 5.582, 'epoch': 13.38}\n"
     ]
    },
    {
     "name": "stderr",
     "output_type": "stream",
     "text": [
      " 67%|██████▋   | 38100/56780 [9:39:27<1:27:10,  3.57it/s]  The following columns in the evaluation set  don't have a corresponding argument in `BertForSequenceClassification.forward` and have been ignored: sentense. If sentense are not expected by `BertForSequenceClassification.forward`,  you can safely ignore this message.\n",
      "***** Running Evaluation *****\n",
      "  Num examples = 2839\n",
      "  Batch size = 8\n",
      "                                                         \n",
      " 67%|██████▋   | 38100/56780 [9:40:30<1:27:10,  3.57it/s]"
     ]
    },
    {
     "name": "stdout",
     "output_type": "stream",
     "text": [
      "{'eval_loss': 0.627866804599762, 'eval_recall': 0.9772607086197779, 'eval_precision': 0.6816672814459609, 'eval_runtime': 63.6065, 'eval_samples_per_second': 44.634, 'eval_steps_per_second': 5.581, 'epoch': 13.42}\n"
     ]
    },
    {
     "name": "stderr",
     "output_type": "stream",
     "text": [
      " 67%|██████▋   | 38200/56780 [9:40:58<1:26:35,  3.58it/s]  The following columns in the evaluation set  don't have a corresponding argument in `BertForSequenceClassification.forward` and have been ignored: sentense. If sentense are not expected by `BertForSequenceClassification.forward`,  you can safely ignore this message.\n",
      "***** Running Evaluation *****\n",
      "  Num examples = 2839\n",
      "  Batch size = 8\n",
      "                                                         \n",
      " 67%|██████▋   | 38200/56780 [9:42:02<1:26:35,  3.58it/s]"
     ]
    },
    {
     "name": "stdout",
     "output_type": "stream",
     "text": [
      "{'eval_loss': 0.6298788785934448, 'eval_recall': 0.9772607086197779, 'eval_precision': 0.6819188191881919, 'eval_runtime': 63.5951, 'eval_samples_per_second': 44.642, 'eval_steps_per_second': 5.582, 'epoch': 13.46}\n"
     ]
    },
    {
     "name": "stderr",
     "output_type": "stream",
     "text": [
      " 67%|██████▋   | 38300/56780 [9:42:30<1:26:11,  3.57it/s] The following columns in the evaluation set  don't have a corresponding argument in `BertForSequenceClassification.forward` and have been ignored: sentense. If sentense are not expected by `BertForSequenceClassification.forward`,  you can safely ignore this message.\n",
      "***** Running Evaluation *****\n",
      "  Num examples = 2839\n",
      "  Batch size = 8\n",
      "                                                         \n",
      " 67%|██████▋   | 38300/56780 [9:43:34<1:26:11,  3.57it/s]"
     ]
    },
    {
     "name": "stdout",
     "output_type": "stream",
     "text": [
      "{'eval_loss': 0.6259311437606812, 'eval_recall': 0.9772607086197779, 'eval_precision': 0.6819188191881919, 'eval_runtime': 63.6061, 'eval_samples_per_second': 44.634, 'eval_steps_per_second': 5.581, 'epoch': 13.49}\n"
     ]
    },
    {
     "name": "stderr",
     "output_type": "stream",
     "text": [
      " 68%|██████▊   | 38400/56780 [9:44:01<1:25:33,  3.58it/s] The following columns in the evaluation set  don't have a corresponding argument in `BertForSequenceClassification.forward` and have been ignored: sentense. If sentense are not expected by `BertForSequenceClassification.forward`,  you can safely ignore this message.\n",
      "***** Running Evaluation *****\n",
      "  Num examples = 2839\n",
      "  Batch size = 8\n",
      "                                                         \n",
      " 68%|██████▊   | 38400/56780 [9:45:05<1:25:33,  3.58it/s]"
     ]
    },
    {
     "name": "stdout",
     "output_type": "stream",
     "text": [
      "{'eval_loss': 0.634699821472168, 'eval_recall': 0.9772607086197779, 'eval_precision': 0.6819188191881919, 'eval_runtime': 63.5986, 'eval_samples_per_second': 44.639, 'eval_steps_per_second': 5.582, 'epoch': 13.53}\n"
     ]
    },
    {
     "name": "stderr",
     "output_type": "stream",
     "text": [
      " 68%|██████▊   | 38500/56780 [9:45:33<1:44:34,  2.91it/s] The following columns in the evaluation set  don't have a corresponding argument in `BertForSequenceClassification.forward` and have been ignored: sentense. If sentense are not expected by `BertForSequenceClassification.forward`,  you can safely ignore this message.\n",
      "***** Running Evaluation *****\n",
      "  Num examples = 2839\n",
      "  Batch size = 8\n"
     ]
    },
    {
     "name": "stdout",
     "output_type": "stream",
     "text": [
      "{'loss': 0.6331, 'learning_rate': 1.609721733004579e-05, 'epoch': 13.56}\n"
     ]
    },
    {
     "name": "stderr",
     "output_type": "stream",
     "text": [
      "                                                         \n",
      " 68%|██████▊   | 38500/56780 [9:46:37<1:44:34,  2.91it/s]"
     ]
    },
    {
     "name": "stdout",
     "output_type": "stream",
     "text": [
      "{'eval_loss': 0.6348146200180054, 'eval_recall': 0.9772607086197779, 'eval_precision': 0.6819188191881919, 'eval_runtime': 63.6272, 'eval_samples_per_second': 44.619, 'eval_steps_per_second': 5.579, 'epoch': 13.56}\n"
     ]
    },
    {
     "name": "stderr",
     "output_type": "stream",
     "text": [
      " 68%|██████▊   | 38600/56780 [9:47:05<1:24:12,  3.60it/s] The following columns in the evaluation set  don't have a corresponding argument in `BertForSequenceClassification.forward` and have been ignored: sentense. If sentense are not expected by `BertForSequenceClassification.forward`,  you can safely ignore this message.\n",
      "***** Running Evaluation *****\n",
      "  Num examples = 2839\n",
      "  Batch size = 8\n",
      "                                                         \n",
      " 68%|██████▊   | 38600/56780 [9:48:08<1:24:12,  3.60it/s]"
     ]
    },
    {
     "name": "stdout",
     "output_type": "stream",
     "text": [
      "{'eval_loss': 0.6328729391098022, 'eval_recall': 0.9777895293495505, 'eval_precision': 0.6815333579063767, 'eval_runtime': 63.6176, 'eval_samples_per_second': 44.626, 'eval_steps_per_second': 5.58, 'epoch': 13.6}\n"
     ]
    },
    {
     "name": "stderr",
     "output_type": "stream",
     "text": [
      " 68%|██████▊   | 38700/56780 [9:48:36<1:23:52,  3.59it/s] The following columns in the evaluation set  don't have a corresponding argument in `BertForSequenceClassification.forward` and have been ignored: sentense. If sentense are not expected by `BertForSequenceClassification.forward`,  you can safely ignore this message.\n",
      "***** Running Evaluation *****\n",
      "  Num examples = 2839\n",
      "  Batch size = 8\n",
      "                                                         \n",
      " 68%|██████▊   | 38700/56780 [9:49:40<1:23:52,  3.59it/s]"
     ]
    },
    {
     "name": "stdout",
     "output_type": "stream",
     "text": [
      "{'eval_loss': 0.6268279552459717, 'eval_recall': 0.9777895293495505, 'eval_precision': 0.6815333579063767, 'eval_runtime': 63.6013, 'eval_samples_per_second': 44.637, 'eval_steps_per_second': 5.582, 'epoch': 13.63}\n"
     ]
    },
    {
     "name": "stderr",
     "output_type": "stream",
     "text": [
      " 68%|██████▊   | 38800/56780 [9:50:08<1:23:25,  3.59it/s] The following columns in the evaluation set  don't have a corresponding argument in `BertForSequenceClassification.forward` and have been ignored: sentense. If sentense are not expected by `BertForSequenceClassification.forward`,  you can safely ignore this message.\n",
      "***** Running Evaluation *****\n",
      "  Num examples = 2839\n",
      "  Batch size = 8\n",
      "                                                         \n",
      " 68%|██████▊   | 38800/56780 [9:51:11<1:23:25,  3.59it/s]"
     ]
    },
    {
     "name": "stdout",
     "output_type": "stream",
     "text": [
      "{'eval_loss': 0.6384128332138062, 'eval_recall': 0.9777895293495505, 'eval_precision': 0.6815333579063767, 'eval_runtime': 63.5707, 'eval_samples_per_second': 44.659, 'eval_steps_per_second': 5.584, 'epoch': 13.67}\n"
     ]
    },
    {
     "name": "stderr",
     "output_type": "stream",
     "text": [
      " 69%|██████▊   | 38900/56780 [9:51:39<1:23:06,  3.59it/s] The following columns in the evaluation set  don't have a corresponding argument in `BertForSequenceClassification.forward` and have been ignored: sentense. If sentense are not expected by `BertForSequenceClassification.forward`,  you can safely ignore this message.\n",
      "***** Running Evaluation *****\n",
      "  Num examples = 2839\n",
      "  Batch size = 8\n",
      "                                                         \n",
      " 69%|██████▊   | 38900/56780 [9:52:43<1:23:06,  3.59it/s]"
     ]
    },
    {
     "name": "stdout",
     "output_type": "stream",
     "text": [
      "{'eval_loss': 0.6378639340400696, 'eval_recall': 0.9772607086197779, 'eval_precision': 0.6814159292035398, 'eval_runtime': 63.5418, 'eval_samples_per_second': 44.679, 'eval_steps_per_second': 5.587, 'epoch': 13.7}\n"
     ]
    },
    {
     "name": "stderr",
     "output_type": "stream",
     "text": [
      " 69%|██████▊   | 39000/56780 [9:53:11<1:42:00,  2.90it/s] The following columns in the evaluation set  don't have a corresponding argument in `BertForSequenceClassification.forward` and have been ignored: sentense. If sentense are not expected by `BertForSequenceClassification.forward`,  you can safely ignore this message.\n",
      "***** Running Evaluation *****\n",
      "  Num examples = 2839\n",
      "  Batch size = 8\n"
     ]
    },
    {
     "name": "stdout",
     "output_type": "stream",
     "text": [
      "{'loss': 0.631, 'learning_rate': 1.5656921451215217e-05, 'epoch': 13.74}\n"
     ]
    },
    {
     "name": "stderr",
     "output_type": "stream",
     "text": [
      "                                                         \n",
      " 69%|██████▊   | 39000/56780 [9:54:14<1:42:00,  2.90it/s]"
     ]
    },
    {
     "name": "stdout",
     "output_type": "stream",
     "text": [
      "{'eval_loss': 0.630560040473938, 'eval_recall': 0.9772607086197779, 'eval_precision': 0.6814159292035398, 'eval_runtime': 63.5515, 'eval_samples_per_second': 44.672, 'eval_steps_per_second': 5.586, 'epoch': 13.74}\n"
     ]
    },
    {
     "name": "stderr",
     "output_type": "stream",
     "text": [
      " 69%|██████▉   | 39100/56780 [9:54:42<1:22:23,  3.58it/s] The following columns in the evaluation set  don't have a corresponding argument in `BertForSequenceClassification.forward` and have been ignored: sentense. If sentense are not expected by `BertForSequenceClassification.forward`,  you can safely ignore this message.\n",
      "***** Running Evaluation *****\n",
      "  Num examples = 2839\n",
      "  Batch size = 8\n",
      "                                                         \n",
      " 69%|██████▉   | 39100/56780 [9:55:46<1:22:23,  3.58it/s]"
     ]
    },
    {
     "name": "stdout",
     "output_type": "stream",
     "text": [
      "{'eval_loss': 0.6292108297348022, 'eval_recall': 0.9777895293495505, 'eval_precision': 0.6815333579063767, 'eval_runtime': 63.6454, 'eval_samples_per_second': 44.607, 'eval_steps_per_second': 5.578, 'epoch': 13.77}\n"
     ]
    },
    {
     "name": "stderr",
     "output_type": "stream",
     "text": [
      " 69%|██████▉   | 39200/56780 [9:56:14<1:22:10,  3.57it/s] The following columns in the evaluation set  don't have a corresponding argument in `BertForSequenceClassification.forward` and have been ignored: sentense. If sentense are not expected by `BertForSequenceClassification.forward`,  you can safely ignore this message.\n",
      "***** Running Evaluation *****\n",
      "  Num examples = 2839\n",
      "  Batch size = 8\n",
      "                                                         \n",
      " 69%|██████▉   | 39200/56780 [9:57:18<1:22:10,  3.57it/s]"
     ]
    },
    {
     "name": "stdout",
     "output_type": "stream",
     "text": [
      "{'eval_loss': 0.6343977451324463, 'eval_recall': 0.9777895293495505, 'eval_precision': 0.6812822402358143, 'eval_runtime': 63.6691, 'eval_samples_per_second': 44.59, 'eval_steps_per_second': 5.576, 'epoch': 13.81}\n"
     ]
    },
    {
     "name": "stderr",
     "output_type": "stream",
     "text": [
      " 69%|██████▉   | 39300/56780 [9:57:45<1:21:40,  3.57it/s] The following columns in the evaluation set  don't have a corresponding argument in `BertForSequenceClassification.forward` and have been ignored: sentense. If sentense are not expected by `BertForSequenceClassification.forward`,  you can safely ignore this message.\n",
      "***** Running Evaluation *****\n",
      "  Num examples = 2839\n",
      "  Batch size = 8\n",
      "                                                         \n",
      " 69%|██████▉   | 39300/56780 [9:58:49<1:21:40,  3.57it/s]"
     ]
    },
    {
     "name": "stdout",
     "output_type": "stream",
     "text": [
      "{'eval_loss': 0.6356348991394043, 'eval_recall': 0.9777895293495505, 'eval_precision': 0.6812822402358143, 'eval_runtime': 63.713, 'eval_samples_per_second': 44.559, 'eval_steps_per_second': 5.572, 'epoch': 13.84}\n"
     ]
    },
    {
     "name": "stderr",
     "output_type": "stream",
     "text": [
      " 69%|██████▉   | 39400/56780 [9:59:17<1:20:42,  3.59it/s] The following columns in the evaluation set  don't have a corresponding argument in `BertForSequenceClassification.forward` and have been ignored: sentense. If sentense are not expected by `BertForSequenceClassification.forward`,  you can safely ignore this message.\n",
      "***** Running Evaluation *****\n",
      "  Num examples = 2839\n",
      "  Batch size = 8\n",
      "                                                         \n",
      " 69%|██████▉   | 39400/56780 [10:00:21<1:20:42,  3.59it/s]"
     ]
    },
    {
     "name": "stdout",
     "output_type": "stream",
     "text": [
      "{'eval_loss': 0.6280303001403809, 'eval_recall': 0.9777895293495505, 'eval_precision': 0.6812822402358143, 'eval_runtime': 63.7019, 'eval_samples_per_second': 44.567, 'eval_steps_per_second': 5.573, 'epoch': 13.88}\n"
     ]
    },
    {
     "name": "stderr",
     "output_type": "stream",
     "text": [
      " 70%|██████▉   | 39500/56780 [10:00:49<1:38:37,  2.92it/s] The following columns in the evaluation set  don't have a corresponding argument in `BertForSequenceClassification.forward` and have been ignored: sentense. If sentense are not expected by `BertForSequenceClassification.forward`,  you can safely ignore this message.\n",
      "***** Running Evaluation *****\n",
      "  Num examples = 2839\n",
      "  Batch size = 8\n"
     ]
    },
    {
     "name": "stdout",
     "output_type": "stream",
     "text": [
      "{'loss': 0.6134, 'learning_rate': 1.5216625572384643e-05, 'epoch': 13.91}\n"
     ]
    },
    {
     "name": "stderr",
     "output_type": "stream",
     "text": [
      "                                                          \n",
      " 70%|██████▉   | 39500/56780 [10:01:53<1:38:37,  2.92it/s]"
     ]
    },
    {
     "name": "stdout",
     "output_type": "stream",
     "text": [
      "{'eval_loss': 0.6347889304161072, 'eval_recall': 0.9777895293495505, 'eval_precision': 0.6812822402358143, 'eval_runtime': 63.6623, 'eval_samples_per_second': 44.595, 'eval_steps_per_second': 5.576, 'epoch': 13.91}\n"
     ]
    },
    {
     "name": "stderr",
     "output_type": "stream",
     "text": [
      " 70%|██████▉   | 39600/56780 [10:02:21<1:19:45,  3.59it/s] The following columns in the evaluation set  don't have a corresponding argument in `BertForSequenceClassification.forward` and have been ignored: sentense. If sentense are not expected by `BertForSequenceClassification.forward`,  you can safely ignore this message.\n",
      "***** Running Evaluation *****\n",
      "  Num examples = 2839\n",
      "  Batch size = 8\n",
      "                                                          \n",
      " 70%|██████▉   | 39600/56780 [10:03:24<1:19:45,  3.59it/s]"
     ]
    },
    {
     "name": "stdout",
     "output_type": "stream",
     "text": [
      "{'eval_loss': 0.6316566467285156, 'eval_recall': 0.9777895293495505, 'eval_precision': 0.6812822402358143, 'eval_runtime': 63.5746, 'eval_samples_per_second': 44.656, 'eval_steps_per_second': 5.584, 'epoch': 13.95}\n"
     ]
    },
    {
     "name": "stderr",
     "output_type": "stream",
     "text": [
      " 70%|██████▉   | 39700/56780 [10:03:52<1:19:19,  3.59it/s] The following columns in the evaluation set  don't have a corresponding argument in `BertForSequenceClassification.forward` and have been ignored: sentense. If sentense are not expected by `BertForSequenceClassification.forward`,  you can safely ignore this message.\n",
      "***** Running Evaluation *****\n",
      "  Num examples = 2839\n",
      "  Batch size = 8\n",
      "                                                          \n",
      " 70%|██████▉   | 39700/56780 [10:04:56<1:19:19,  3.59it/s]"
     ]
    },
    {
     "name": "stdout",
     "output_type": "stream",
     "text": [
      "{'eval_loss': 0.6295106410980225, 'eval_recall': 0.9777895293495505, 'eval_precision': 0.6812822402358143, 'eval_runtime': 63.5825, 'eval_samples_per_second': 44.651, 'eval_steps_per_second': 5.583, 'epoch': 13.98}\n"
     ]
    },
    {
     "name": "stderr",
     "output_type": "stream",
     "text": [
      " 70%|███████   | 39800/56780 [10:05:23<1:19:03,  3.58it/s] The following columns in the evaluation set  don't have a corresponding argument in `BertForSequenceClassification.forward` and have been ignored: sentense. If sentense are not expected by `BertForSequenceClassification.forward`,  you can safely ignore this message.\n",
      "***** Running Evaluation *****\n",
      "  Num examples = 2839\n",
      "  Batch size = 8\n",
      "                                                          \n",
      " 70%|███████   | 39800/56780 [10:06:27<1:19:03,  3.58it/s]"
     ]
    },
    {
     "name": "stdout",
     "output_type": "stream",
     "text": [
      "{'eval_loss': 0.6325604319572449, 'eval_recall': 0.9777895293495505, 'eval_precision': 0.6812822402358143, 'eval_runtime': 63.617, 'eval_samples_per_second': 44.626, 'eval_steps_per_second': 5.58, 'epoch': 14.02}\n"
     ]
    },
    {
     "name": "stderr",
     "output_type": "stream",
     "text": [
      " 70%|███████   | 39900/56780 [10:06:55<1:18:21,  3.59it/s] The following columns in the evaluation set  don't have a corresponding argument in `BertForSequenceClassification.forward` and have been ignored: sentense. If sentense are not expected by `BertForSequenceClassification.forward`,  you can safely ignore this message.\n",
      "***** Running Evaluation *****\n",
      "  Num examples = 2839\n",
      "  Batch size = 8\n",
      "                                                          \n",
      " 70%|███████   | 39900/56780 [10:07:58<1:18:21,  3.59it/s]"
     ]
    },
    {
     "name": "stdout",
     "output_type": "stream",
     "text": [
      "{'eval_loss': 0.6337186098098755, 'eval_recall': 0.9777895293495505, 'eval_precision': 0.6812822402358143, 'eval_runtime': 63.5626, 'eval_samples_per_second': 44.665, 'eval_steps_per_second': 5.585, 'epoch': 14.05}\n"
     ]
    },
    {
     "name": "stderr",
     "output_type": "stream",
     "text": [
      " 70%|███████   | 40000/56780 [10:08:27<1:35:53,  2.92it/s] The following columns in the evaluation set  don't have a corresponding argument in `BertForSequenceClassification.forward` and have been ignored: sentense. If sentense are not expected by `BertForSequenceClassification.forward`,  you can safely ignore this message.\n",
      "***** Running Evaluation *****\n",
      "  Num examples = 2839\n",
      "  Batch size = 8\n"
     ]
    },
    {
     "name": "stdout",
     "output_type": "stream",
     "text": [
      "{'loss': 0.6329, 'learning_rate': 1.4776329693554069e-05, 'epoch': 14.09}\n"
     ]
    },
    {
     "name": "stderr",
     "output_type": "stream",
     "text": [
      "                                                          \n",
      " 70%|███████   | 40000/56780 [10:09:30<1:35:53,  2.92it/s]Saving model checkpoint to bert-classifier-trainer\\checkpoint-40000\n",
      "Configuration saved in bert-classifier-trainer\\checkpoint-40000\\config.json\n"
     ]
    },
    {
     "name": "stdout",
     "output_type": "stream",
     "text": [
      "{'eval_loss': 0.6309369206428528, 'eval_recall': 0.9777895293495505, 'eval_precision': 0.6812822402358143, 'eval_runtime': 63.6304, 'eval_samples_per_second': 44.617, 'eval_steps_per_second': 5.579, 'epoch': 14.09}\n"
     ]
    },
    {
     "name": "stderr",
     "output_type": "stream",
     "text": [
      "Model weights saved in bert-classifier-trainer\\checkpoint-40000\\pytorch_model.bin\n",
      " 71%|███████   | 40100/56780 [10:10:07<1:17:40,  3.58it/s]  The following columns in the evaluation set  don't have a corresponding argument in `BertForSequenceClassification.forward` and have been ignored: sentense. If sentense are not expected by `BertForSequenceClassification.forward`,  you can safely ignore this message.\n",
      "***** Running Evaluation *****\n",
      "  Num examples = 2839\n",
      "  Batch size = 8\n",
      "                                                          \n",
      " 71%|███████   | 40100/56780 [10:11:11<1:17:40,  3.58it/s]"
     ]
    },
    {
     "name": "stdout",
     "output_type": "stream",
     "text": [
      "{'eval_loss': 0.6275334358215332, 'eval_recall': 0.9777895293495505, 'eval_precision': 0.6812822402358143, 'eval_runtime': 63.6158, 'eval_samples_per_second': 44.627, 'eval_steps_per_second': 5.58, 'epoch': 14.12}\n"
     ]
    },
    {
     "name": "stderr",
     "output_type": "stream",
     "text": [
      " 71%|███████   | 40200/56780 [10:11:39<1:17:09,  3.58it/s] The following columns in the evaluation set  don't have a corresponding argument in `BertForSequenceClassification.forward` and have been ignored: sentense. If sentense are not expected by `BertForSequenceClassification.forward`,  you can safely ignore this message.\n",
      "***** Running Evaluation *****\n",
      "  Num examples = 2839\n",
      "  Batch size = 8\n",
      "                                                          \n",
      " 71%|███████   | 40200/56780 [10:12:42<1:17:09,  3.58it/s]"
     ]
    },
    {
     "name": "stdout",
     "output_type": "stream",
     "text": [
      "{'eval_loss': 0.6296998858451843, 'eval_recall': 0.9777895293495505, 'eval_precision': 0.6812822402358143, 'eval_runtime': 63.6962, 'eval_samples_per_second': 44.571, 'eval_steps_per_second': 5.573, 'epoch': 14.16}\n"
     ]
    },
    {
     "name": "stderr",
     "output_type": "stream",
     "text": [
      " 71%|███████   | 40300/56780 [10:13:10<1:16:49,  3.58it/s] The following columns in the evaluation set  don't have a corresponding argument in `BertForSequenceClassification.forward` and have been ignored: sentense. If sentense are not expected by `BertForSequenceClassification.forward`,  you can safely ignore this message.\n",
      "***** Running Evaluation *****\n",
      "  Num examples = 2839\n",
      "  Batch size = 8\n",
      "                                                          \n",
      " 71%|███████   | 40300/56780 [10:14:14<1:16:49,  3.58it/s]"
     ]
    },
    {
     "name": "stdout",
     "output_type": "stream",
     "text": [
      "{'eval_loss': 0.6336402297019958, 'eval_recall': 0.9777895293495505, 'eval_precision': 0.6812822402358143, 'eval_runtime': 63.7026, 'eval_samples_per_second': 44.566, 'eval_steps_per_second': 5.573, 'epoch': 14.2}\n"
     ]
    },
    {
     "name": "stderr",
     "output_type": "stream",
     "text": [
      " 71%|███████   | 40400/56780 [10:14:42<1:16:18,  3.58it/s] The following columns in the evaluation set  don't have a corresponding argument in `BertForSequenceClassification.forward` and have been ignored: sentense. If sentense are not expected by `BertForSequenceClassification.forward`,  you can safely ignore this message.\n",
      "***** Running Evaluation *****\n",
      "  Num examples = 2839\n",
      "  Batch size = 8\n",
      "                                                          \n",
      " 71%|███████   | 40400/56780 [10:15:46<1:16:18,  3.58it/s]"
     ]
    },
    {
     "name": "stdout",
     "output_type": "stream",
     "text": [
      "{'eval_loss': 0.631940484046936, 'eval_recall': 0.9777895293495505, 'eval_precision': 0.6812822402358143, 'eval_runtime': 63.7238, 'eval_samples_per_second': 44.552, 'eval_steps_per_second': 5.571, 'epoch': 14.23}\n"
     ]
    },
    {
     "name": "stderr",
     "output_type": "stream",
     "text": [
      " 71%|███████▏  | 40500/56780 [10:16:14<1:33:27,  2.90it/s] The following columns in the evaluation set  don't have a corresponding argument in `BertForSequenceClassification.forward` and have been ignored: sentense. If sentense are not expected by `BertForSequenceClassification.forward`,  you can safely ignore this message.\n",
      "***** Running Evaluation *****\n",
      "  Num examples = 2839\n",
      "  Batch size = 8\n"
     ]
    },
    {
     "name": "stdout",
     "output_type": "stream",
     "text": [
      "{'loss': 0.628, 'learning_rate': 1.4336033814723495e-05, 'epoch': 14.27}\n"
     ]
    },
    {
     "name": "stderr",
     "output_type": "stream",
     "text": [
      "                                                          \n",
      " 71%|███████▏  | 40500/56780 [10:17:18<1:33:27,  2.90it/s]"
     ]
    },
    {
     "name": "stdout",
     "output_type": "stream",
     "text": [
      "{'eval_loss': 0.6302052736282349, 'eval_recall': 0.9777895293495505, 'eval_precision': 0.6812822402358143, 'eval_runtime': 63.7473, 'eval_samples_per_second': 44.535, 'eval_steps_per_second': 5.569, 'epoch': 14.27}\n"
     ]
    },
    {
     "name": "stderr",
     "output_type": "stream",
     "text": [
      " 72%|███████▏  | 40600/56780 [10:17:45<1:15:35,  3.57it/s] The following columns in the evaluation set  don't have a corresponding argument in `BertForSequenceClassification.forward` and have been ignored: sentense. If sentense are not expected by `BertForSequenceClassification.forward`,  you can safely ignore this message.\n",
      "***** Running Evaluation *****\n",
      "  Num examples = 2839\n",
      "  Batch size = 8\n",
      "                                                          \n",
      " 72%|███████▏  | 40600/56780 [10:18:49<1:15:35,  3.57it/s]"
     ]
    },
    {
     "name": "stdout",
     "output_type": "stream",
     "text": [
      "{'eval_loss': 0.6343905925750732, 'eval_recall': 0.9777895293495505, 'eval_precision': 0.6812822402358143, 'eval_runtime': 63.7048, 'eval_samples_per_second': 44.565, 'eval_steps_per_second': 5.573, 'epoch': 14.3}\n"
     ]
    },
    {
     "name": "stderr",
     "output_type": "stream",
     "text": [
      " 72%|███████▏  | 40700/56780 [10:19:17<1:15:03,  3.57it/s] The following columns in the evaluation set  don't have a corresponding argument in `BertForSequenceClassification.forward` and have been ignored: sentense. If sentense are not expected by `BertForSequenceClassification.forward`,  you can safely ignore this message.\n",
      "***** Running Evaluation *****\n",
      "  Num examples = 2839\n",
      "  Batch size = 8\n",
      "                                                          \n",
      " 72%|███████▏  | 40700/56780 [10:20:21<1:15:03,  3.57it/s]"
     ]
    },
    {
     "name": "stdout",
     "output_type": "stream",
     "text": [
      "{'eval_loss': 0.6272658705711365, 'eval_recall': 0.9777895293495505, 'eval_precision': 0.6812822402358143, 'eval_runtime': 63.6664, 'eval_samples_per_second': 44.592, 'eval_steps_per_second': 5.576, 'epoch': 14.34}\n"
     ]
    },
    {
     "name": "stderr",
     "output_type": "stream",
     "text": [
      " 72%|███████▏  | 40800/56780 [10:20:49<1:14:29,  3.58it/s] The following columns in the evaluation set  don't have a corresponding argument in `BertForSequenceClassification.forward` and have been ignored: sentense. If sentense are not expected by `BertForSequenceClassification.forward`,  you can safely ignore this message.\n",
      "***** Running Evaluation *****\n",
      "  Num examples = 2839\n",
      "  Batch size = 8\n",
      "                                                          \n",
      " 72%|███████▏  | 40800/56780 [10:21:52<1:14:29,  3.58it/s]"
     ]
    },
    {
     "name": "stdout",
     "output_type": "stream",
     "text": [
      "{'eval_loss': 0.6373316645622253, 'eval_recall': 0.9777895293495505, 'eval_precision': 0.6812822402358143, 'eval_runtime': 63.6766, 'eval_samples_per_second': 44.585, 'eval_steps_per_second': 5.575, 'epoch': 14.37}\n"
     ]
    },
    {
     "name": "stderr",
     "output_type": "stream",
     "text": [
      " 72%|███████▏  | 40900/56780 [10:22:20<1:13:41,  3.59it/s] The following columns in the evaluation set  don't have a corresponding argument in `BertForSequenceClassification.forward` and have been ignored: sentense. If sentense are not expected by `BertForSequenceClassification.forward`,  you can safely ignore this message.\n",
      "***** Running Evaluation *****\n",
      "  Num examples = 2839\n",
      "  Batch size = 8\n",
      "                                                          \n",
      " 72%|███████▏  | 40900/56780 [10:23:24<1:13:41,  3.59it/s]"
     ]
    },
    {
     "name": "stdout",
     "output_type": "stream",
     "text": [
      "{'eval_loss': 0.6384539604187012, 'eval_recall': 0.9777895293495505, 'eval_precision': 0.6812822402358143, 'eval_runtime': 63.7012, 'eval_samples_per_second': 44.567, 'eval_steps_per_second': 5.573, 'epoch': 14.41}\n"
     ]
    },
    {
     "name": "stderr",
     "output_type": "stream",
     "text": [
      " 72%|███████▏  | 41000/56780 [10:23:52<1:29:52,  2.93it/s] The following columns in the evaluation set  don't have a corresponding argument in `BertForSequenceClassification.forward` and have been ignored: sentense. If sentense are not expected by `BertForSequenceClassification.forward`,  you can safely ignore this message.\n",
      "***** Running Evaluation *****\n",
      "  Num examples = 2839\n",
      "  Batch size = 8\n"
     ]
    },
    {
     "name": "stdout",
     "output_type": "stream",
     "text": [
      "{'loss': 0.6201, 'learning_rate': 1.3895737935892922e-05, 'epoch': 14.44}\n"
     ]
    },
    {
     "name": "stderr",
     "output_type": "stream",
     "text": [
      "                                                          \n",
      " 72%|███████▏  | 41000/56780 [10:24:56<1:29:52,  2.93it/s]"
     ]
    },
    {
     "name": "stdout",
     "output_type": "stream",
     "text": [
      "{'eval_loss': 0.6307968497276306, 'eval_recall': 0.9777895293495505, 'eval_precision': 0.6812822402358143, 'eval_runtime': 63.7118, 'eval_samples_per_second': 44.56, 'eval_steps_per_second': 5.572, 'epoch': 14.44}\n"
     ]
    },
    {
     "name": "stderr",
     "output_type": "stream",
     "text": [
      " 72%|███████▏  | 41100/56780 [10:25:24<1:12:57,  3.58it/s] The following columns in the evaluation set  don't have a corresponding argument in `BertForSequenceClassification.forward` and have been ignored: sentense. If sentense are not expected by `BertForSequenceClassification.forward`,  you can safely ignore this message.\n",
      "***** Running Evaluation *****\n",
      "  Num examples = 2839\n",
      "  Batch size = 8\n",
      "                                                          \n",
      " 72%|███████▏  | 41100/56780 [10:26:27<1:12:57,  3.58it/s]"
     ]
    },
    {
     "name": "stdout",
     "output_type": "stream",
     "text": [
      "{'eval_loss': 0.6303039789199829, 'eval_recall': 0.9777895293495505, 'eval_precision': 0.6812822402358143, 'eval_runtime': 63.6404, 'eval_samples_per_second': 44.61, 'eval_steps_per_second': 5.578, 'epoch': 14.48}\n"
     ]
    },
    {
     "name": "stderr",
     "output_type": "stream",
     "text": [
      " 73%|███████▎  | 41200/56780 [10:26:55<1:12:23,  3.59it/s] The following columns in the evaluation set  don't have a corresponding argument in `BertForSequenceClassification.forward` and have been ignored: sentense. If sentense are not expected by `BertForSequenceClassification.forward`,  you can safely ignore this message.\n",
      "***** Running Evaluation *****\n",
      "  Num examples = 2839\n",
      "  Batch size = 8\n",
      "                                                          \n",
      " 73%|███████▎  | 41200/56780 [10:27:59<1:12:23,  3.59it/s]"
     ]
    },
    {
     "name": "stdout",
     "output_type": "stream",
     "text": [
      "{'eval_loss': 0.6366564631462097, 'eval_recall': 0.9777895293495505, 'eval_precision': 0.6812822402358143, 'eval_runtime': 63.5842, 'eval_samples_per_second': 44.649, 'eval_steps_per_second': 5.583, 'epoch': 14.51}\n"
     ]
    },
    {
     "name": "stderr",
     "output_type": "stream",
     "text": [
      " 73%|███████▎  | 41300/56780 [10:28:27<1:11:48,  3.59it/s] The following columns in the evaluation set  don't have a corresponding argument in `BertForSequenceClassification.forward` and have been ignored: sentense. If sentense are not expected by `BertForSequenceClassification.forward`,  you can safely ignore this message.\n",
      "***** Running Evaluation *****\n",
      "  Num examples = 2839\n",
      "  Batch size = 8\n",
      "                                                          \n",
      " 73%|███████▎  | 41300/56780 [10:29:30<1:11:48,  3.59it/s]"
     ]
    },
    {
     "name": "stdout",
     "output_type": "stream",
     "text": [
      "{'eval_loss': 0.6298106908798218, 'eval_recall': 0.9777895293495505, 'eval_precision': 0.6812822402358143, 'eval_runtime': 63.6261, 'eval_samples_per_second': 44.62, 'eval_steps_per_second': 5.579, 'epoch': 14.55}\n"
     ]
    },
    {
     "name": "stderr",
     "output_type": "stream",
     "text": [
      " 73%|███████▎  | 41400/56780 [10:29:58<1:11:30,  3.58it/s] The following columns in the evaluation set  don't have a corresponding argument in `BertForSequenceClassification.forward` and have been ignored: sentense. If sentense are not expected by `BertForSequenceClassification.forward`,  you can safely ignore this message.\n",
      "***** Running Evaluation *****\n",
      "  Num examples = 2839\n",
      "  Batch size = 8\n",
      "                                                          \n",
      " 73%|███████▎  | 41400/56780 [10:31:02<1:11:30,  3.58it/s]"
     ]
    },
    {
     "name": "stdout",
     "output_type": "stream",
     "text": [
      "{'eval_loss': 0.6346390843391418, 'eval_recall': 0.9777895293495505, 'eval_precision': 0.6812822402358143, 'eval_runtime': 63.5762, 'eval_samples_per_second': 44.655, 'eval_steps_per_second': 5.584, 'epoch': 14.58}\n"
     ]
    },
    {
     "name": "stderr",
     "output_type": "stream",
     "text": [
      " 73%|███████▎  | 41500/56780 [10:31:30<1:27:10,  2.92it/s] The following columns in the evaluation set  don't have a corresponding argument in `BertForSequenceClassification.forward` and have been ignored: sentense. If sentense are not expected by `BertForSequenceClassification.forward`,  you can safely ignore this message.\n",
      "***** Running Evaluation *****\n",
      "  Num examples = 2839\n",
      "  Batch size = 8\n"
     ]
    },
    {
     "name": "stdout",
     "output_type": "stream",
     "text": [
      "{'loss': 0.6195, 'learning_rate': 1.3455442057062345e-05, 'epoch': 14.62}\n"
     ]
    },
    {
     "name": "stderr",
     "output_type": "stream",
     "text": [
      "                                                          \n",
      " 73%|███████▎  | 41500/56780 [10:32:34<1:27:10,  2.92it/s]"
     ]
    },
    {
     "name": "stdout",
     "output_type": "stream",
     "text": [
      "{'eval_loss': 0.6323446035385132, 'eval_recall': 0.9777895293495505, 'eval_precision': 0.6812822402358143, 'eval_runtime': 63.5441, 'eval_samples_per_second': 44.678, 'eval_steps_per_second': 5.587, 'epoch': 14.62}\n"
     ]
    },
    {
     "name": "stderr",
     "output_type": "stream",
     "text": [
      " 73%|███████▎  | 41600/56780 [10:33:01<1:10:37,  3.58it/s] The following columns in the evaluation set  don't have a corresponding argument in `BertForSequenceClassification.forward` and have been ignored: sentense. If sentense are not expected by `BertForSequenceClassification.forward`,  you can safely ignore this message.\n",
      "***** Running Evaluation *****\n",
      "  Num examples = 2839\n",
      "  Batch size = 8\n",
      "                                                          \n",
      " 73%|███████▎  | 41600/56780 [10:34:05<1:10:37,  3.58it/s]"
     ]
    },
    {
     "name": "stdout",
     "output_type": "stream",
     "text": [
      "{'eval_loss': 0.6378180384635925, 'eval_recall': 0.9777895293495505, 'eval_precision': 0.6815333579063767, 'eval_runtime': 63.544, 'eval_samples_per_second': 44.678, 'eval_steps_per_second': 5.587, 'epoch': 14.65}\n"
     ]
    },
    {
     "name": "stderr",
     "output_type": "stream",
     "text": [
      " 73%|███████▎  | 41700/56780 [10:34:33<1:10:09,  3.58it/s] The following columns in the evaluation set  don't have a corresponding argument in `BertForSequenceClassification.forward` and have been ignored: sentense. If sentense are not expected by `BertForSequenceClassification.forward`,  you can safely ignore this message.\n",
      "***** Running Evaluation *****\n",
      "  Num examples = 2839\n",
      "  Batch size = 8\n",
      "                                                          \n",
      " 73%|███████▎  | 41700/56780 [10:35:36<1:10:09,  3.58it/s]"
     ]
    },
    {
     "name": "stdout",
     "output_type": "stream",
     "text": [
      "{'eval_loss': 0.6287950873374939, 'eval_recall': 0.9777895293495505, 'eval_precision': 0.6815333579063767, 'eval_runtime': 63.5804, 'eval_samples_per_second': 44.652, 'eval_steps_per_second': 5.583, 'epoch': 14.69}\n"
     ]
    },
    {
     "name": "stderr",
     "output_type": "stream",
     "text": [
      " 74%|███████▎  | 41800/56780 [10:36:04<1:09:34,  3.59it/s] The following columns in the evaluation set  don't have a corresponding argument in `BertForSequenceClassification.forward` and have been ignored: sentense. If sentense are not expected by `BertForSequenceClassification.forward`,  you can safely ignore this message.\n",
      "***** Running Evaluation *****\n",
      "  Num examples = 2839\n",
      "  Batch size = 8\n",
      "                                                          \n",
      " 74%|███████▎  | 41800/56780 [10:37:08<1:09:34,  3.59it/s]"
     ]
    },
    {
     "name": "stdout",
     "output_type": "stream",
     "text": [
      "{'eval_loss': 0.6283578276634216, 'eval_recall': 0.9772607086197779, 'eval_precision': 0.6814159292035398, 'eval_runtime': 63.6002, 'eval_samples_per_second': 44.638, 'eval_steps_per_second': 5.582, 'epoch': 14.72}\n"
     ]
    },
    {
     "name": "stderr",
     "output_type": "stream",
     "text": [
      " 74%|███████▍  | 41900/56780 [10:37:36<1:09:06,  3.59it/s] The following columns in the evaluation set  don't have a corresponding argument in `BertForSequenceClassification.forward` and have been ignored: sentense. If sentense are not expected by `BertForSequenceClassification.forward`,  you can safely ignore this message.\n",
      "***** Running Evaluation *****\n",
      "  Num examples = 2839\n",
      "  Batch size = 8\n",
      "                                                          \n",
      " 74%|███████▍  | 41900/56780 [10:38:39<1:09:06,  3.59it/s]"
     ]
    },
    {
     "name": "stdout",
     "output_type": "stream",
     "text": [
      "{'eval_loss': 0.6313574314117432, 'eval_recall': 0.9777895293495505, 'eval_precision': 0.6815333579063767, 'eval_runtime': 63.6281, 'eval_samples_per_second': 44.619, 'eval_steps_per_second': 5.579, 'epoch': 14.76}\n"
     ]
    },
    {
     "name": "stderr",
     "output_type": "stream",
     "text": [
      " 74%|███████▍  | 42000/56780 [10:39:08<1:24:28,  2.92it/s] The following columns in the evaluation set  don't have a corresponding argument in `BertForSequenceClassification.forward` and have been ignored: sentense. If sentense are not expected by `BertForSequenceClassification.forward`,  you can safely ignore this message.\n",
      "***** Running Evaluation *****\n",
      "  Num examples = 2839\n",
      "  Batch size = 8\n"
     ]
    },
    {
     "name": "stdout",
     "output_type": "stream",
     "text": [
      "{'loss': 0.6253, 'learning_rate': 1.301514617823177e-05, 'epoch': 14.79}\n"
     ]
    },
    {
     "name": "stderr",
     "output_type": "stream",
     "text": [
      "                                                          \n",
      " 74%|███████▍  | 42000/56780 [10:40:11<1:24:28,  2.92it/s]"
     ]
    },
    {
     "name": "stdout",
     "output_type": "stream",
     "text": [
      "{'eval_loss': 0.6312962174415588, 'eval_recall': 0.9772607086197779, 'eval_precision': 0.6814159292035398, 'eval_runtime': 63.6557, 'eval_samples_per_second': 44.599, 'eval_steps_per_second': 5.577, 'epoch': 14.79}\n"
     ]
    },
    {
     "name": "stderr",
     "output_type": "stream",
     "text": [
      " 74%|███████▍  | 42100/56780 [10:40:39<1:08:19,  3.58it/s] The following columns in the evaluation set  don't have a corresponding argument in `BertForSequenceClassification.forward` and have been ignored: sentense. If sentense are not expected by `BertForSequenceClassification.forward`,  you can safely ignore this message.\n",
      "***** Running Evaluation *****\n",
      "  Num examples = 2839\n",
      "  Batch size = 8\n",
      "                                                          \n",
      " 74%|███████▍  | 42100/56780 [10:41:43<1:08:19,  3.58it/s]"
     ]
    },
    {
     "name": "stdout",
     "output_type": "stream",
     "text": [
      "{'eval_loss': 0.6369414925575256, 'eval_recall': 0.9772607086197779, 'eval_precision': 0.6814159292035398, 'eval_runtime': 63.6415, 'eval_samples_per_second': 44.609, 'eval_steps_per_second': 5.578, 'epoch': 14.83}\n"
     ]
    },
    {
     "name": "stderr",
     "output_type": "stream",
     "text": [
      " 74%|███████▍  | 42200/56780 [10:42:11<1:07:41,  3.59it/s] The following columns in the evaluation set  don't have a corresponding argument in `BertForSequenceClassification.forward` and have been ignored: sentense. If sentense are not expected by `BertForSequenceClassification.forward`,  you can safely ignore this message.\n",
      "***** Running Evaluation *****\n",
      "  Num examples = 2839\n",
      "  Batch size = 8\n",
      "                                                          \n",
      " 74%|███████▍  | 42200/56780 [10:43:14<1:07:41,  3.59it/s]"
     ]
    },
    {
     "name": "stdout",
     "output_type": "stream",
     "text": [
      "{'eval_loss': 0.6283566355705261, 'eval_recall': 0.9772607086197779, 'eval_precision': 0.6814159292035398, 'eval_runtime': 63.6589, 'eval_samples_per_second': 44.597, 'eval_steps_per_second': 5.577, 'epoch': 14.86}\n"
     ]
    },
    {
     "name": "stderr",
     "output_type": "stream",
     "text": [
      " 74%|███████▍  | 42300/56780 [10:43:42<1:07:49,  3.56it/s] The following columns in the evaluation set  don't have a corresponding argument in `BertForSequenceClassification.forward` and have been ignored: sentense. If sentense are not expected by `BertForSequenceClassification.forward`,  you can safely ignore this message.\n",
      "***** Running Evaluation *****\n",
      "  Num examples = 2839\n",
      "  Batch size = 8\n",
      "                                                          \n",
      " 74%|███████▍  | 42300/56780 [10:44:46<1:07:49,  3.56it/s]"
     ]
    },
    {
     "name": "stdout",
     "output_type": "stream",
     "text": [
      "{'eval_loss': 0.6305445432662964, 'eval_recall': 0.9772607086197779, 'eval_precision': 0.6814159292035398, 'eval_runtime': 63.6993, 'eval_samples_per_second': 44.569, 'eval_steps_per_second': 5.573, 'epoch': 14.9}\n"
     ]
    },
    {
     "name": "stderr",
     "output_type": "stream",
     "text": [
      " 75%|███████▍  | 42400/56780 [10:45:14<1:07:05,  3.57it/s] The following columns in the evaluation set  don't have a corresponding argument in `BertForSequenceClassification.forward` and have been ignored: sentense. If sentense are not expected by `BertForSequenceClassification.forward`,  you can safely ignore this message.\n",
      "***** Running Evaluation *****\n",
      "  Num examples = 2839\n",
      "  Batch size = 8\n",
      "                                                          \n",
      " 75%|███████▍  | 42400/56780 [10:46:18<1:07:05,  3.57it/s]"
     ]
    },
    {
     "name": "stdout",
     "output_type": "stream",
     "text": [
      "{'eval_loss': 0.6325486898422241, 'eval_recall': 0.9772607086197779, 'eval_precision': 0.6814159292035398, 'eval_runtime': 63.6673, 'eval_samples_per_second': 44.591, 'eval_steps_per_second': 5.576, 'epoch': 14.93}\n"
     ]
    },
    {
     "name": "stderr",
     "output_type": "stream",
     "text": [
      " 75%|███████▍  | 42500/56780 [10:46:46<1:21:19,  2.93it/s] The following columns in the evaluation set  don't have a corresponding argument in `BertForSequenceClassification.forward` and have been ignored: sentense. If sentense are not expected by `BertForSequenceClassification.forward`,  you can safely ignore this message.\n",
      "***** Running Evaluation *****\n",
      "  Num examples = 2839\n",
      "  Batch size = 8\n"
     ]
    },
    {
     "name": "stdout",
     "output_type": "stream",
     "text": [
      "{'loss': 0.63, 'learning_rate': 1.2574850299401197e-05, 'epoch': 14.97}\n"
     ]
    },
    {
     "name": "stderr",
     "output_type": "stream",
     "text": [
      "                                                          \n",
      " 75%|███████▍  | 42500/56780 [10:47:49<1:21:19,  2.93it/s]"
     ]
    },
    {
     "name": "stdout",
     "output_type": "stream",
     "text": [
      "{'eval_loss': 0.6281535029411316, 'eval_recall': 0.9772607086197779, 'eval_precision': 0.6814159292035398, 'eval_runtime': 63.5519, 'eval_samples_per_second': 44.672, 'eval_steps_per_second': 5.586, 'epoch': 14.97}\n"
     ]
    },
    {
     "name": "stderr",
     "output_type": "stream",
     "text": [
      " 75%|███████▌  | 42600/56780 [10:48:17<1:05:48,  3.59it/s] The following columns in the evaluation set  don't have a corresponding argument in `BertForSequenceClassification.forward` and have been ignored: sentense. If sentense are not expected by `BertForSequenceClassification.forward`,  you can safely ignore this message.\n",
      "***** Running Evaluation *****\n",
      "  Num examples = 2839\n",
      "  Batch size = 8\n",
      "                                                          \n",
      " 75%|███████▌  | 42600/56780 [10:49:21<1:05:48,  3.59it/s]"
     ]
    },
    {
     "name": "stdout",
     "output_type": "stream",
     "text": [
      "{'eval_loss': 0.6343214511871338, 'eval_recall': 0.9772607086197779, 'eval_precision': 0.6814159292035398, 'eval_runtime': 63.5704, 'eval_samples_per_second': 44.659, 'eval_steps_per_second': 5.584, 'epoch': 15.01}\n"
     ]
    },
    {
     "name": "stderr",
     "output_type": "stream",
     "text": [
      " 75%|███████▌  | 42700/56780 [10:49:48<1:05:40,  3.57it/s] The following columns in the evaluation set  don't have a corresponding argument in `BertForSequenceClassification.forward` and have been ignored: sentense. If sentense are not expected by `BertForSequenceClassification.forward`,  you can safely ignore this message.\n",
      "***** Running Evaluation *****\n",
      "  Num examples = 2839\n",
      "  Batch size = 8\n",
      "                                                          \n",
      " 75%|███████▌  | 42700/56780 [10:50:52<1:05:40,  3.57it/s]"
     ]
    },
    {
     "name": "stdout",
     "output_type": "stream",
     "text": [
      "{'eval_loss': 0.6299679279327393, 'eval_recall': 0.9772607086197779, 'eval_precision': 0.6814159292035398, 'eval_runtime': 63.6128, 'eval_samples_per_second': 44.629, 'eval_steps_per_second': 5.581, 'epoch': 15.04}\n"
     ]
    },
    {
     "name": "stderr",
     "output_type": "stream",
     "text": [
      " 75%|███████▌  | 42800/56780 [10:51:20<1:05:06,  3.58it/s] The following columns in the evaluation set  don't have a corresponding argument in `BertForSequenceClassification.forward` and have been ignored: sentense. If sentense are not expected by `BertForSequenceClassification.forward`,  you can safely ignore this message.\n",
      "***** Running Evaluation *****\n",
      "  Num examples = 2839\n",
      "  Batch size = 8\n",
      "                                                          \n",
      " 75%|███████▌  | 42800/56780 [10:52:24<1:05:06,  3.58it/s]"
     ]
    },
    {
     "name": "stdout",
     "output_type": "stream",
     "text": [
      "{'eval_loss': 0.6325045824050903, 'eval_recall': 0.9772607086197779, 'eval_precision': 0.6814159292035398, 'eval_runtime': 63.6091, 'eval_samples_per_second': 44.632, 'eval_steps_per_second': 5.581, 'epoch': 15.08}\n"
     ]
    },
    {
     "name": "stderr",
     "output_type": "stream",
     "text": [
      " 76%|███████▌  | 42900/56780 [10:52:52<1:04:23,  3.59it/s] The following columns in the evaluation set  don't have a corresponding argument in `BertForSequenceClassification.forward` and have been ignored: sentense. If sentense are not expected by `BertForSequenceClassification.forward`,  you can safely ignore this message.\n",
      "***** Running Evaluation *****\n",
      "  Num examples = 2839\n",
      "  Batch size = 8\n",
      "                                                          \n",
      " 76%|███████▌  | 42900/56780 [10:53:55<1:04:23,  3.59it/s]"
     ]
    },
    {
     "name": "stdout",
     "output_type": "stream",
     "text": [
      "{'eval_loss': 0.629848301410675, 'eval_recall': 0.9772607086197779, 'eval_precision': 0.6814159292035398, 'eval_runtime': 63.6378, 'eval_samples_per_second': 44.612, 'eval_steps_per_second': 5.578, 'epoch': 15.11}\n"
     ]
    },
    {
     "name": "stderr",
     "output_type": "stream",
     "text": [
      " 76%|███████▌  | 43000/56780 [10:54:23<1:18:42,  2.92it/s] The following columns in the evaluation set  don't have a corresponding argument in `BertForSequenceClassification.forward` and have been ignored: sentense. If sentense are not expected by `BertForSequenceClassification.forward`,  you can safely ignore this message.\n",
      "***** Running Evaluation *****\n",
      "  Num examples = 2839\n",
      "  Batch size = 8\n"
     ]
    },
    {
     "name": "stdout",
     "output_type": "stream",
     "text": [
      "{'loss': 0.6265, 'learning_rate': 1.2134554420570623e-05, 'epoch': 15.15}\n"
     ]
    },
    {
     "name": "stderr",
     "output_type": "stream",
     "text": [
      "                                                          \n",
      " 76%|███████▌  | 43000/56780 [10:55:27<1:18:42,  2.92it/s]"
     ]
    },
    {
     "name": "stdout",
     "output_type": "stream",
     "text": [
      "{'eval_loss': 0.6348158717155457, 'eval_recall': 0.9772607086197779, 'eval_precision': 0.6814159292035398, 'eval_runtime': 63.6516, 'eval_samples_per_second': 44.602, 'eval_steps_per_second': 5.577, 'epoch': 15.15}\n"
     ]
    },
    {
     "name": "stderr",
     "output_type": "stream",
     "text": [
      " 76%|███████▌  | 43100/56780 [10:55:55<1:03:28,  3.59it/s] The following columns in the evaluation set  don't have a corresponding argument in `BertForSequenceClassification.forward` and have been ignored: sentense. If sentense are not expected by `BertForSequenceClassification.forward`,  you can safely ignore this message.\n",
      "***** Running Evaluation *****\n",
      "  Num examples = 2839\n",
      "  Batch size = 8\n",
      "                                                          \n",
      " 76%|███████▌  | 43100/56780 [10:56:58<1:03:28,  3.59it/s]"
     ]
    },
    {
     "name": "stdout",
     "output_type": "stream",
     "text": [
      "{'eval_loss': 0.6300831437110901, 'eval_recall': 0.9772607086197779, 'eval_precision': 0.6814159292035398, 'eval_runtime': 63.5846, 'eval_samples_per_second': 44.649, 'eval_steps_per_second': 5.583, 'epoch': 15.18}\n"
     ]
    },
    {
     "name": "stderr",
     "output_type": "stream",
     "text": [
      " 76%|███████▌  | 43200/56780 [10:57:26<1:03:10,  3.58it/s] The following columns in the evaluation set  don't have a corresponding argument in `BertForSequenceClassification.forward` and have been ignored: sentense. If sentense are not expected by `BertForSequenceClassification.forward`,  you can safely ignore this message.\n",
      "***** Running Evaluation *****\n",
      "  Num examples = 2839\n",
      "  Batch size = 8\n",
      "                                                          \n",
      " 76%|███████▌  | 43200/56780 [10:58:30<1:03:10,  3.58it/s]"
     ]
    },
    {
     "name": "stdout",
     "output_type": "stream",
     "text": [
      "{'eval_loss': 0.6272614002227783, 'eval_recall': 0.9772607086197779, 'eval_precision': 0.6814159292035398, 'eval_runtime': 63.6506, 'eval_samples_per_second': 44.603, 'eval_steps_per_second': 5.577, 'epoch': 15.22}\n"
     ]
    },
    {
     "name": "stderr",
     "output_type": "stream",
     "text": [
      " 76%|███████▋  | 43300/56780 [10:58:58<1:02:39,  3.59it/s] The following columns in the evaluation set  don't have a corresponding argument in `BertForSequenceClassification.forward` and have been ignored: sentense. If sentense are not expected by `BertForSequenceClassification.forward`,  you can safely ignore this message.\n",
      "***** Running Evaluation *****\n",
      "  Num examples = 2839\n",
      "  Batch size = 8\n",
      "                                                          \n",
      " 76%|███████▋  | 43300/56780 [11:00:02<1:02:39,  3.59it/s]"
     ]
    },
    {
     "name": "stdout",
     "output_type": "stream",
     "text": [
      "{'eval_loss': 0.6324152946472168, 'eval_recall': 0.9767318878900053, 'eval_precision': 0.6812984138694209, 'eval_runtime': 63.6572, 'eval_samples_per_second': 44.598, 'eval_steps_per_second': 5.577, 'epoch': 15.25}\n"
     ]
    },
    {
     "name": "stderr",
     "output_type": "stream",
     "text": [
      " 76%|███████▋  | 43400/56780 [11:00:29<1:02:26,  3.57it/s] The following columns in the evaluation set  don't have a corresponding argument in `BertForSequenceClassification.forward` and have been ignored: sentense. If sentense are not expected by `BertForSequenceClassification.forward`,  you can safely ignore this message.\n",
      "***** Running Evaluation *****\n",
      "  Num examples = 2839\n",
      "  Batch size = 8\n",
      "                                                          \n",
      " 76%|███████▋  | 43400/56780 [11:01:33<1:02:26,  3.57it/s]"
     ]
    },
    {
     "name": "stdout",
     "output_type": "stream",
     "text": [
      "{'eval_loss': 0.6307811737060547, 'eval_recall': 0.9767318878900053, 'eval_precision': 0.6812984138694209, 'eval_runtime': 63.6548, 'eval_samples_per_second': 44.6, 'eval_steps_per_second': 5.577, 'epoch': 15.29}\n"
     ]
    },
    {
     "name": "stderr",
     "output_type": "stream",
     "text": [
      " 77%|███████▋  | 43500/56780 [11:02:01<1:17:20,  2.86it/s] The following columns in the evaluation set  don't have a corresponding argument in `BertForSequenceClassification.forward` and have been ignored: sentense. If sentense are not expected by `BertForSequenceClassification.forward`,  you can safely ignore this message.\n",
      "***** Running Evaluation *****\n",
      "  Num examples = 2839\n",
      "  Batch size = 8\n"
     ]
    },
    {
     "name": "stdout",
     "output_type": "stream",
     "text": [
      "{'loss': 0.6287, 'learning_rate': 1.169425854174005e-05, 'epoch': 15.32}\n"
     ]
    },
    {
     "name": "stderr",
     "output_type": "stream",
     "text": [
      "                                                          \n",
      " 77%|███████▋  | 43500/56780 [11:03:05<1:17:20,  2.86it/s]"
     ]
    },
    {
     "name": "stdout",
     "output_type": "stream",
     "text": [
      "{'eval_loss': 0.6315560936927795, 'eval_recall': 0.9767318878900053, 'eval_precision': 0.6812984138694209, 'eval_runtime': 63.668, 'eval_samples_per_second': 44.591, 'eval_steps_per_second': 5.576, 'epoch': 15.32}\n"
     ]
    },
    {
     "name": "stderr",
     "output_type": "stream",
     "text": [
      " 77%|███████▋  | 43600/56780 [11:03:33<1:01:12,  3.59it/s] The following columns in the evaluation set  don't have a corresponding argument in `BertForSequenceClassification.forward` and have been ignored: sentense. If sentense are not expected by `BertForSequenceClassification.forward`,  you can safely ignore this message.\n",
      "***** Running Evaluation *****\n",
      "  Num examples = 2839\n",
      "  Batch size = 8\n",
      "                                                          \n",
      " 77%|███████▋  | 43600/56780 [11:04:37<1:01:12,  3.59it/s]"
     ]
    },
    {
     "name": "stdout",
     "output_type": "stream",
     "text": [
      "{'eval_loss': 0.631034791469574, 'eval_recall': 0.9767318878900053, 'eval_precision': 0.6812984138694209, 'eval_runtime': 63.6482, 'eval_samples_per_second': 44.605, 'eval_steps_per_second': 5.578, 'epoch': 15.36}\n"
     ]
    },
    {
     "name": "stderr",
     "output_type": "stream",
     "text": [
      " 77%|███████▋  | 43700/56780 [11:05:04<1:00:46,  3.59it/s] The following columns in the evaluation set  don't have a corresponding argument in `BertForSequenceClassification.forward` and have been ignored: sentense. If sentense are not expected by `BertForSequenceClassification.forward`,  you can safely ignore this message.\n",
      "***** Running Evaluation *****\n",
      "  Num examples = 2839\n",
      "  Batch size = 8\n",
      "                                                          \n",
      " 77%|███████▋  | 43700/56780 [11:06:08<1:00:46,  3.59it/s]"
     ]
    },
    {
     "name": "stdout",
     "output_type": "stream",
     "text": [
      "{'eval_loss': 0.6306904554367065, 'eval_recall': 0.9772607086197779, 'eval_precision': 0.6814159292035398, 'eval_runtime': 63.692, 'eval_samples_per_second': 44.574, 'eval_steps_per_second': 5.574, 'epoch': 15.39}\n"
     ]
    },
    {
     "name": "stderr",
     "output_type": "stream",
     "text": [
      " 77%|███████▋  | 43800/56780 [11:06:36<1:00:13,  3.59it/s] The following columns in the evaluation set  don't have a corresponding argument in `BertForSequenceClassification.forward` and have been ignored: sentense. If sentense are not expected by `BertForSequenceClassification.forward`,  you can safely ignore this message.\n",
      "***** Running Evaluation *****\n",
      "  Num examples = 2839\n",
      "  Batch size = 8\n",
      "                                                          \n",
      " 77%|███████▋  | 43800/56780 [11:07:40<1:00:13,  3.59it/s]"
     ]
    },
    {
     "name": "stdout",
     "output_type": "stream",
     "text": [
      "{'eval_loss': 0.6368756294250488, 'eval_recall': 0.9772607086197779, 'eval_precision': 0.6814159292035398, 'eval_runtime': 63.6741, 'eval_samples_per_second': 44.586, 'eval_steps_per_second': 5.575, 'epoch': 15.43}\n"
     ]
    },
    {
     "name": "stderr",
     "output_type": "stream",
     "text": [
      " 77%|███████▋  | 43900/56780 [11:08:08<59:46,  3.59it/s]   The following columns in the evaluation set  don't have a corresponding argument in `BertForSequenceClassification.forward` and have been ignored: sentense. If sentense are not expected by `BertForSequenceClassification.forward`,  you can safely ignore this message.\n",
      "***** Running Evaluation *****\n",
      "  Num examples = 2839\n",
      "  Batch size = 8\n",
      "                                                        \n",
      " 77%|███████▋  | 43900/56780 [11:09:11<59:46,  3.59it/s]"
     ]
    },
    {
     "name": "stdout",
     "output_type": "stream",
     "text": [
      "{'eval_loss': 0.6346823573112488, 'eval_recall': 0.9777895293495505, 'eval_precision': 0.6815333579063767, 'eval_runtime': 63.6647, 'eval_samples_per_second': 44.593, 'eval_steps_per_second': 5.576, 'epoch': 15.46}\n"
     ]
    },
    {
     "name": "stderr",
     "output_type": "stream",
     "text": [
      " 77%|███████▋  | 44000/56780 [11:09:39<1:12:40,  2.93it/s] The following columns in the evaluation set  don't have a corresponding argument in `BertForSequenceClassification.forward` and have been ignored: sentense. If sentense are not expected by `BertForSequenceClassification.forward`,  you can safely ignore this message.\n",
      "***** Running Evaluation *****\n",
      "  Num examples = 2839\n",
      "  Batch size = 8\n"
     ]
    },
    {
     "name": "stdout",
     "output_type": "stream",
     "text": [
      "{'loss': 0.6235, 'learning_rate': 1.1253962662909476e-05, 'epoch': 15.5}\n"
     ]
    },
    {
     "name": "stderr",
     "output_type": "stream",
     "text": [
      "                                                          \n",
      " 77%|███████▋  | 44000/56780 [11:10:43<1:12:40,  2.93it/s]"
     ]
    },
    {
     "name": "stdout",
     "output_type": "stream",
     "text": [
      "{'eval_loss': 0.6280626654624939, 'eval_recall': 0.9777895293495505, 'eval_precision': 0.6815333579063767, 'eval_runtime': 63.6139, 'eval_samples_per_second': 44.629, 'eval_steps_per_second': 5.581, 'epoch': 15.5}\n"
     ]
    },
    {
     "name": "stderr",
     "output_type": "stream",
     "text": [
      " 78%|███████▊  | 44100/56780 [11:11:11<59:03,  3.58it/s]   The following columns in the evaluation set  don't have a corresponding argument in `BertForSequenceClassification.forward` and have been ignored: sentense. If sentense are not expected by `BertForSequenceClassification.forward`,  you can safely ignore this message.\n",
      "***** Running Evaluation *****\n",
      "  Num examples = 2839\n",
      "  Batch size = 8\n",
      "                                                        \n",
      " 78%|███████▊  | 44100/56780 [11:12:15<59:03,  3.58it/s]"
     ]
    },
    {
     "name": "stdout",
     "output_type": "stream",
     "text": [
      "{'eval_loss': 0.6287679076194763, 'eval_recall': 0.9777895293495505, 'eval_precision': 0.6812822402358143, 'eval_runtime': 63.5798, 'eval_samples_per_second': 44.653, 'eval_steps_per_second': 5.584, 'epoch': 15.53}\n"
     ]
    },
    {
     "name": "stderr",
     "output_type": "stream",
     "text": [
      " 78%|███████▊  | 44200/56780 [11:12:42<58:40,  3.57it/s]   The following columns in the evaluation set  don't have a corresponding argument in `BertForSequenceClassification.forward` and have been ignored: sentense. If sentense are not expected by `BertForSequenceClassification.forward`,  you can safely ignore this message.\n",
      "***** Running Evaluation *****\n",
      "  Num examples = 2839\n",
      "  Batch size = 8\n",
      "                                                        \n",
      " 78%|███████▊  | 44200/56780 [11:13:46<58:40,  3.57it/s]"
     ]
    },
    {
     "name": "stdout",
     "output_type": "stream",
     "text": [
      "{'eval_loss': 0.630229115486145, 'eval_recall': 0.9788471708090957, 'eval_precision': 0.6815169366715759, 'eval_runtime': 63.6148, 'eval_samples_per_second': 44.628, 'eval_steps_per_second': 5.58, 'epoch': 15.57}\n"
     ]
    },
    {
     "name": "stderr",
     "output_type": "stream",
     "text": [
      " 78%|███████▊  | 44300/56780 [11:14:14<58:09,  3.58it/s]   The following columns in the evaluation set  don't have a corresponding argument in `BertForSequenceClassification.forward` and have been ignored: sentense. If sentense are not expected by `BertForSequenceClassification.forward`,  you can safely ignore this message.\n",
      "***** Running Evaluation *****\n",
      "  Num examples = 2839\n",
      "  Batch size = 8\n",
      "                                                        \n",
      " 78%|███████▊  | 44300/56780 [11:15:18<58:09,  3.58it/s]"
     ]
    },
    {
     "name": "stdout",
     "output_type": "stream",
     "text": [
      "{'eval_loss': 0.6326489448547363, 'eval_recall': 0.9788471708090957, 'eval_precision': 0.6815169366715759, 'eval_runtime': 63.6229, 'eval_samples_per_second': 44.622, 'eval_steps_per_second': 5.58, 'epoch': 15.6}\n"
     ]
    },
    {
     "name": "stderr",
     "output_type": "stream",
     "text": [
      " 78%|███████▊  | 44400/56780 [11:15:46<57:38,  3.58it/s]   The following columns in the evaluation set  don't have a corresponding argument in `BertForSequenceClassification.forward` and have been ignored: sentense. If sentense are not expected by `BertForSequenceClassification.forward`,  you can safely ignore this message.\n",
      "***** Running Evaluation *****\n",
      "  Num examples = 2839\n",
      "  Batch size = 8\n",
      "                                                        \n",
      " 78%|███████▊  | 44400/56780 [11:16:49<57:38,  3.58it/s]"
     ]
    },
    {
     "name": "stdout",
     "output_type": "stream",
     "text": [
      "{'eval_loss': 0.6365352272987366, 'eval_recall': 0.9788471708090957, 'eval_precision': 0.6815169366715759, 'eval_runtime': 63.6549, 'eval_samples_per_second': 44.6, 'eval_steps_per_second': 5.577, 'epoch': 15.64}\n"
     ]
    },
    {
     "name": "stderr",
     "output_type": "stream",
     "text": [
      " 78%|███████▊  | 44500/56780 [11:17:17<1:10:20,  2.91it/s] The following columns in the evaluation set  don't have a corresponding argument in `BertForSequenceClassification.forward` and have been ignored: sentense. If sentense are not expected by `BertForSequenceClassification.forward`,  you can safely ignore this message.\n",
      "***** Running Evaluation *****\n",
      "  Num examples = 2839\n",
      "  Batch size = 8\n"
     ]
    },
    {
     "name": "stdout",
     "output_type": "stream",
     "text": [
      "{'loss': 0.6094, 'learning_rate': 1.0813666784078902e-05, 'epoch': 15.67}\n"
     ]
    },
    {
     "name": "stderr",
     "output_type": "stream",
     "text": [
      "                                                          \n",
      " 78%|███████▊  | 44500/56780 [11:18:21<1:10:20,  2.91it/s]"
     ]
    },
    {
     "name": "stdout",
     "output_type": "stream",
     "text": [
      "{'eval_loss': 0.6393162608146667, 'eval_recall': 0.9788471708090957, 'eval_precision': 0.6815169366715759, 'eval_runtime': 63.6001, 'eval_samples_per_second': 44.638, 'eval_steps_per_second': 5.582, 'epoch': 15.67}\n"
     ]
    },
    {
     "name": "stderr",
     "output_type": "stream",
     "text": [
      " 79%|███████▊  | 44600/56780 [11:18:49<56:41,  3.58it/s]   The following columns in the evaluation set  don't have a corresponding argument in `BertForSequenceClassification.forward` and have been ignored: sentense. If sentense are not expected by `BertForSequenceClassification.forward`,  you can safely ignore this message.\n",
      "***** Running Evaluation *****\n",
      "  Num examples = 2839\n",
      "  Batch size = 8\n",
      "                                                        \n",
      " 79%|███████▊  | 44600/56780 [11:19:53<56:41,  3.58it/s]"
     ]
    },
    {
     "name": "stdout",
     "output_type": "stream",
     "text": [
      "{'eval_loss': 0.6311286687850952, 'eval_recall': 0.9788471708090957, 'eval_precision': 0.6817679558011049, 'eval_runtime': 63.6355, 'eval_samples_per_second': 44.613, 'eval_steps_per_second': 5.579, 'epoch': 15.71}\n"
     ]
    },
    {
     "name": "stderr",
     "output_type": "stream",
     "text": [
      " 79%|███████▊  | 44700/56780 [11:20:20<56:07,  3.59it/s]   The following columns in the evaluation set  don't have a corresponding argument in `BertForSequenceClassification.forward` and have been ignored: sentense. If sentense are not expected by `BertForSequenceClassification.forward`,  you can safely ignore this message.\n",
      "***** Running Evaluation *****\n",
      "  Num examples = 2839\n",
      "  Batch size = 8\n",
      "                                                        \n",
      " 79%|███████▊  | 44700/56780 [11:21:24<56:07,  3.59it/s]"
     ]
    },
    {
     "name": "stdout",
     "output_type": "stream",
     "text": [
      "{'eval_loss': 0.6320641040802002, 'eval_recall': 0.9783183500793231, 'eval_precision': 0.681650700073692, 'eval_runtime': 63.6447, 'eval_samples_per_second': 44.607, 'eval_steps_per_second': 5.578, 'epoch': 15.74}\n"
     ]
    },
    {
     "name": "stderr",
     "output_type": "stream",
     "text": [
      " 79%|███████▉  | 44800/56780 [11:21:52<55:44,  3.58it/s]   The following columns in the evaluation set  don't have a corresponding argument in `BertForSequenceClassification.forward` and have been ignored: sentense. If sentense are not expected by `BertForSequenceClassification.forward`,  you can safely ignore this message.\n",
      "***** Running Evaluation *****\n",
      "  Num examples = 2839\n",
      "  Batch size = 8\n",
      "                                                        \n",
      " 79%|███████▉  | 44800/56780 [11:22:56<55:44,  3.58it/s]"
     ]
    },
    {
     "name": "stdout",
     "output_type": "stream",
     "text": [
      "{'eval_loss': 0.6315141320228577, 'eval_recall': 0.9783183500793231, 'eval_precision': 0.681650700073692, 'eval_runtime': 63.6655, 'eval_samples_per_second': 44.592, 'eval_steps_per_second': 5.576, 'epoch': 15.78}\n"
     ]
    },
    {
     "name": "stderr",
     "output_type": "stream",
     "text": [
      " 79%|███████▉  | 44900/56780 [11:23:24<55:15,  3.58it/s]   The following columns in the evaluation set  don't have a corresponding argument in `BertForSequenceClassification.forward` and have been ignored: sentense. If sentense are not expected by `BertForSequenceClassification.forward`,  you can safely ignore this message.\n",
      "***** Running Evaluation *****\n",
      "  Num examples = 2839\n",
      "  Batch size = 8\n",
      "                                                        \n",
      " 79%|███████▉  | 44900/56780 [11:24:27<55:15,  3.58it/s]"
     ]
    },
    {
     "name": "stdout",
     "output_type": "stream",
     "text": [
      "{'eval_loss': 0.6275405883789062, 'eval_recall': 0.9777895293495505, 'eval_precision': 0.6815333579063767, 'eval_runtime': 63.6818, 'eval_samples_per_second': 44.581, 'eval_steps_per_second': 5.575, 'epoch': 15.82}\n"
     ]
    },
    {
     "name": "stderr",
     "output_type": "stream",
     "text": [
      " 79%|███████▉  | 45000/56780 [11:24:55<1:07:29,  2.91it/s] The following columns in the evaluation set  don't have a corresponding argument in `BertForSequenceClassification.forward` and have been ignored: sentense. If sentense are not expected by `BertForSequenceClassification.forward`,  you can safely ignore this message.\n",
      "***** Running Evaluation *****\n",
      "  Num examples = 2839\n",
      "  Batch size = 8\n"
     ]
    },
    {
     "name": "stdout",
     "output_type": "stream",
     "text": [
      "{'loss': 0.6262, 'learning_rate': 1.0373370905248328e-05, 'epoch': 15.85}\n"
     ]
    },
    {
     "name": "stderr",
     "output_type": "stream",
     "text": [
      "                                                          \n",
      " 79%|███████▉  | 45000/56780 [11:25:59<1:07:29,  2.91it/s]Saving model checkpoint to bert-classifier-trainer\\checkpoint-45000\n",
      "Configuration saved in bert-classifier-trainer\\checkpoint-45000\\config.json\n"
     ]
    },
    {
     "name": "stdout",
     "output_type": "stream",
     "text": [
      "{'eval_loss': 0.632630467414856, 'eval_recall': 0.9772607086197779, 'eval_precision': 0.6814159292035398, 'eval_runtime': 63.7187, 'eval_samples_per_second': 44.555, 'eval_steps_per_second': 5.571, 'epoch': 15.85}\n"
     ]
    },
    {
     "name": "stderr",
     "output_type": "stream",
     "text": [
      "Model weights saved in bert-classifier-trainer\\checkpoint-45000\\pytorch_model.bin\n",
      " 79%|███████▉  | 45100/56780 [11:26:37<54:11,  3.59it/s]   The following columns in the evaluation set  don't have a corresponding argument in `BertForSequenceClassification.forward` and have been ignored: sentense. If sentense are not expected by `BertForSequenceClassification.forward`,  you can safely ignore this message.\n",
      "***** Running Evaluation *****\n",
      "  Num examples = 2839\n",
      "  Batch size = 8\n",
      "                                                        \n",
      " 79%|███████▉  | 45100/56780 [11:27:40<54:11,  3.59it/s]"
     ]
    },
    {
     "name": "stdout",
     "output_type": "stream",
     "text": [
      "{'eval_loss': 0.6352494359016418, 'eval_recall': 0.9772607086197779, 'eval_precision': 0.6814159292035398, 'eval_runtime': 63.6153, 'eval_samples_per_second': 44.628, 'eval_steps_per_second': 5.58, 'epoch': 15.89}\n"
     ]
    },
    {
     "name": "stderr",
     "output_type": "stream",
     "text": [
      " 80%|███████▉  | 45200/56780 [11:28:08<53:47,  3.59it/s]   The following columns in the evaluation set  don't have a corresponding argument in `BertForSequenceClassification.forward` and have been ignored: sentense. If sentense are not expected by `BertForSequenceClassification.forward`,  you can safely ignore this message.\n",
      "***** Running Evaluation *****\n",
      "  Num examples = 2839\n",
      "  Batch size = 8\n",
      "                                                        \n",
      " 80%|███████▉  | 45200/56780 [11:29:12<53:47,  3.59it/s]"
     ]
    },
    {
     "name": "stdout",
     "output_type": "stream",
     "text": [
      "{'eval_loss': 0.6286289095878601, 'eval_recall': 0.9772607086197779, 'eval_precision': 0.6814159292035398, 'eval_runtime': 63.6599, 'eval_samples_per_second': 44.596, 'eval_steps_per_second': 5.577, 'epoch': 15.92}\n"
     ]
    },
    {
     "name": "stderr",
     "output_type": "stream",
     "text": [
      " 80%|███████▉  | 45300/56780 [11:29:40<53:19,  3.59it/s]   The following columns in the evaluation set  don't have a corresponding argument in `BertForSequenceClassification.forward` and have been ignored: sentense. If sentense are not expected by `BertForSequenceClassification.forward`,  you can safely ignore this message.\n",
      "***** Running Evaluation *****\n",
      "  Num examples = 2839\n",
      "  Batch size = 8\n",
      "                                                        \n",
      " 80%|███████▉  | 45300/56780 [11:30:44<53:19,  3.59it/s]"
     ]
    },
    {
     "name": "stdout",
     "output_type": "stream",
     "text": [
      "{'eval_loss': 0.630664050579071, 'eval_recall': 0.9762030671602326, 'eval_precision': 0.6816838995568686, 'eval_runtime': 63.6977, 'eval_samples_per_second': 44.57, 'eval_steps_per_second': 5.573, 'epoch': 15.96}\n"
     ]
    },
    {
     "name": "stderr",
     "output_type": "stream",
     "text": [
      " 80%|███████▉  | 45400/56780 [11:31:12<52:41,  3.60it/s]   The following columns in the evaluation set  don't have a corresponding argument in `BertForSequenceClassification.forward` and have been ignored: sentense. If sentense are not expected by `BertForSequenceClassification.forward`,  you can safely ignore this message.\n",
      "***** Running Evaluation *****\n",
      "  Num examples = 2839\n",
      "  Batch size = 8\n",
      "                                                        \n",
      " 80%|███████▉  | 45400/56780 [11:32:15<52:41,  3.60it/s]"
     ]
    },
    {
     "name": "stdout",
     "output_type": "stream",
     "text": [
      "{'eval_loss': 0.6324280500411987, 'eval_recall': 0.9762030671602326, 'eval_precision': 0.6816838995568686, 'eval_runtime': 63.6375, 'eval_samples_per_second': 44.612, 'eval_steps_per_second': 5.578, 'epoch': 15.99}\n"
     ]
    },
    {
     "name": "stderr",
     "output_type": "stream",
     "text": [
      " 80%|████████  | 45500/56780 [11:32:43<1:04:21,  2.92it/s] The following columns in the evaluation set  don't have a corresponding argument in `BertForSequenceClassification.forward` and have been ignored: sentense. If sentense are not expected by `BertForSequenceClassification.forward`,  you can safely ignore this message.\n",
      "***** Running Evaluation *****\n",
      "  Num examples = 2839\n",
      "  Batch size = 8\n"
     ]
    },
    {
     "name": "stdout",
     "output_type": "stream",
     "text": [
      "{'loss': 0.6286, 'learning_rate': 9.933075026417753e-06, 'epoch': 16.03}\n"
     ]
    },
    {
     "name": "stderr",
     "output_type": "stream",
     "text": [
      "                                                          \n",
      " 80%|████████  | 45500/56780 [11:33:47<1:04:21,  2.92it/s]"
     ]
    },
    {
     "name": "stdout",
     "output_type": "stream",
     "text": [
      "{'eval_loss': 0.6356959939002991, 'eval_recall': 0.9762030671602326, 'eval_precision': 0.6816838995568686, 'eval_runtime': 63.5841, 'eval_samples_per_second': 44.65, 'eval_steps_per_second': 5.583, 'epoch': 16.03}\n"
     ]
    },
    {
     "name": "stderr",
     "output_type": "stream",
     "text": [
      " 80%|████████  | 45600/56780 [11:34:15<52:05,  3.58it/s]   The following columns in the evaluation set  don't have a corresponding argument in `BertForSequenceClassification.forward` and have been ignored: sentense. If sentense are not expected by `BertForSequenceClassification.forward`,  you can safely ignore this message.\n",
      "***** Running Evaluation *****\n",
      "  Num examples = 2839\n",
      "  Batch size = 8\n",
      "                                                        \n",
      " 80%|████████  | 45600/56780 [11:35:18<52:05,  3.58it/s]"
     ]
    },
    {
     "name": "stdout",
     "output_type": "stream",
     "text": [
      "{'eval_loss': 0.632746696472168, 'eval_recall': 0.9756742464304601, 'eval_precision': 0.6818181818181818, 'eval_runtime': 63.6176, 'eval_samples_per_second': 44.626, 'eval_steps_per_second': 5.58, 'epoch': 16.06}\n"
     ]
    },
    {
     "name": "stderr",
     "output_type": "stream",
     "text": [
      " 80%|████████  | 45700/56780 [11:35:46<51:38,  3.58it/s]   The following columns in the evaluation set  don't have a corresponding argument in `BertForSequenceClassification.forward` and have been ignored: sentense. If sentense are not expected by `BertForSequenceClassification.forward`,  you can safely ignore this message.\n",
      "***** Running Evaluation *****\n",
      "  Num examples = 2839\n",
      "  Batch size = 8\n",
      "                                                        \n",
      " 80%|████████  | 45700/56780 [11:36:50<51:38,  3.58it/s]"
     ]
    },
    {
     "name": "stdout",
     "output_type": "stream",
     "text": [
      "{'eval_loss': 0.6320698261260986, 'eval_recall': 0.9751454257006875, 'eval_precision': 0.68220495745468, 'eval_runtime': 63.5614, 'eval_samples_per_second': 44.665, 'eval_steps_per_second': 5.585, 'epoch': 16.1}\n"
     ]
    },
    {
     "name": "stderr",
     "output_type": "stream",
     "text": [
      " 81%|████████  | 45800/56780 [11:37:18<51:07,  3.58it/s]   The following columns in the evaluation set  don't have a corresponding argument in `BertForSequenceClassification.forward` and have been ignored: sentense. If sentense are not expected by `BertForSequenceClassification.forward`,  you can safely ignore this message.\n",
      "***** Running Evaluation *****\n",
      "  Num examples = 2839\n",
      "  Batch size = 8\n",
      "                                                        \n",
      " 81%|████████  | 45800/56780 [11:38:21<51:07,  3.58it/s]"
     ]
    },
    {
     "name": "stdout",
     "output_type": "stream",
     "text": [
      "{'eval_loss': 0.6266749501228333, 'eval_recall': 0.9746166049709148, 'eval_precision': 0.6820873427091043, 'eval_runtime': 63.5625, 'eval_samples_per_second': 44.665, 'eval_steps_per_second': 5.585, 'epoch': 16.13}\n"
     ]
    },
    {
     "name": "stderr",
     "output_type": "stream",
     "text": [
      " 81%|████████  | 45900/56780 [11:38:49<50:25,  3.60it/s]   The following columns in the evaluation set  don't have a corresponding argument in `BertForSequenceClassification.forward` and have been ignored: sentense. If sentense are not expected by `BertForSequenceClassification.forward`,  you can safely ignore this message.\n",
      "***** Running Evaluation *****\n",
      "  Num examples = 2839\n",
      "  Batch size = 8\n",
      "                                                        \n",
      " 81%|████████  | 45900/56780 [11:39:53<50:25,  3.60it/s]"
     ]
    },
    {
     "name": "stdout",
     "output_type": "stream",
     "text": [
      "{'eval_loss': 0.6267150640487671, 'eval_recall': 0.9751454257006875, 'eval_precision': 0.68220495745468, 'eval_runtime': 63.6219, 'eval_samples_per_second': 44.623, 'eval_steps_per_second': 5.58, 'epoch': 16.17}\n"
     ]
    },
    {
     "name": "stderr",
     "output_type": "stream",
     "text": [
      " 81%|████████  | 46000/56780 [11:40:21<1:01:34,  2.92it/s] The following columns in the evaluation set  don't have a corresponding argument in `BertForSequenceClassification.forward` and have been ignored: sentense. If sentense are not expected by `BertForSequenceClassification.forward`,  you can safely ignore this message.\n",
      "***** Running Evaluation *****\n",
      "  Num examples = 2839\n",
      "  Batch size = 8\n"
     ]
    },
    {
     "name": "stdout",
     "output_type": "stream",
     "text": [
      "{'loss': 0.6352, 'learning_rate': 9.49277914758718e-06, 'epoch': 16.2}\n"
     ]
    },
    {
     "name": "stderr",
     "output_type": "stream",
     "text": [
      "                                                          \n",
      " 81%|████████  | 46000/56780 [11:41:24<1:01:34,  2.92it/s]"
     ]
    },
    {
     "name": "stdout",
     "output_type": "stream",
     "text": [
      "{'eval_loss': 0.6291103363037109, 'eval_recall': 0.9746166049709148, 'eval_precision': 0.6820873427091043, 'eval_runtime': 63.5556, 'eval_samples_per_second': 44.67, 'eval_steps_per_second': 5.586, 'epoch': 16.2}\n"
     ]
    },
    {
     "name": "stderr",
     "output_type": "stream",
     "text": [
      " 81%|████████  | 46100/56780 [11:41:52<49:40,  3.58it/s]   The following columns in the evaluation set  don't have a corresponding argument in `BertForSequenceClassification.forward` and have been ignored: sentense. If sentense are not expected by `BertForSequenceClassification.forward`,  you can safely ignore this message.\n",
      "***** Running Evaluation *****\n",
      "  Num examples = 2839\n",
      "  Batch size = 8\n",
      "                                                        \n",
      " 81%|████████  | 46100/56780 [11:42:56<49:40,  3.58it/s]"
     ]
    },
    {
     "name": "stdout",
     "output_type": "stream",
     "text": [
      "{'eval_loss': 0.6304889917373657, 'eval_recall': 0.9751454257006875, 'eval_precision': 0.6819526627218935, 'eval_runtime': 63.5352, 'eval_samples_per_second': 44.684, 'eval_steps_per_second': 5.587, 'epoch': 16.24}\n"
     ]
    },
    {
     "name": "stderr",
     "output_type": "stream",
     "text": [
      " 81%|████████▏ | 46200/56780 [11:43:24<49:05,  3.59it/s]   The following columns in the evaluation set  don't have a corresponding argument in `BertForSequenceClassification.forward` and have been ignored: sentense. If sentense are not expected by `BertForSequenceClassification.forward`,  you can safely ignore this message.\n",
      "***** Running Evaluation *****\n",
      "  Num examples = 2839\n",
      "  Batch size = 8\n",
      "                                                        \n",
      " 81%|████████▏ | 46200/56780 [11:44:27<49:05,  3.59it/s]"
     ]
    },
    {
     "name": "stdout",
     "output_type": "stream",
     "text": [
      "{'eval_loss': 0.6321526169776917, 'eval_recall': 0.9756742464304601, 'eval_precision': 0.681314623338257, 'eval_runtime': 63.6066, 'eval_samples_per_second': 44.634, 'eval_steps_per_second': 5.581, 'epoch': 16.27}\n"
     ]
    },
    {
     "name": "stderr",
     "output_type": "stream",
     "text": [
      " 82%|████████▏ | 46300/56780 [11:44:55<48:38,  3.59it/s]   The following columns in the evaluation set  don't have a corresponding argument in `BertForSequenceClassification.forward` and have been ignored: sentense. If sentense are not expected by `BertForSequenceClassification.forward`,  you can safely ignore this message.\n",
      "***** Running Evaluation *****\n",
      "  Num examples = 2839\n",
      "  Batch size = 8\n",
      "                                                        \n",
      " 82%|████████▏ | 46300/56780 [11:45:59<48:38,  3.59it/s]"
     ]
    },
    {
     "name": "stdout",
     "output_type": "stream",
     "text": [
      "{'eval_loss': 0.630437970161438, 'eval_recall': 0.9756742464304601, 'eval_precision': 0.681314623338257, 'eval_runtime': 63.635, 'eval_samples_per_second': 44.614, 'eval_steps_per_second': 5.579, 'epoch': 16.31}\n"
     ]
    },
    {
     "name": "stderr",
     "output_type": "stream",
     "text": [
      " 82%|████████▏ | 46400/56780 [11:46:27<48:21,  3.58it/s]   The following columns in the evaluation set  don't have a corresponding argument in `BertForSequenceClassification.forward` and have been ignored: sentense. If sentense are not expected by `BertForSequenceClassification.forward`,  you can safely ignore this message.\n",
      "***** Running Evaluation *****\n",
      "  Num examples = 2839\n",
      "  Batch size = 8\n",
      "                                                        \n",
      " 82%|████████▏ | 46400/56780 [11:47:30<48:21,  3.58it/s]"
     ]
    },
    {
     "name": "stdout",
     "output_type": "stream",
     "text": [
      "{'eval_loss': 0.6296416521072388, 'eval_recall': 0.9762030671602326, 'eval_precision': 0.6814322628276117, 'eval_runtime': 63.7171, 'eval_samples_per_second': 44.556, 'eval_steps_per_second': 5.572, 'epoch': 16.34}\n"
     ]
    },
    {
     "name": "stderr",
     "output_type": "stream",
     "text": [
      " 82%|████████▏ | 46500/56780 [11:47:59<58:31,  2.93it/s]   The following columns in the evaluation set  don't have a corresponding argument in `BertForSequenceClassification.forward` and have been ignored: sentense. If sentense are not expected by `BertForSequenceClassification.forward`,  you can safely ignore this message.\n",
      "***** Running Evaluation *****\n",
      "  Num examples = 2839\n",
      "  Batch size = 8\n"
     ]
    },
    {
     "name": "stdout",
     "output_type": "stream",
     "text": [
      "{'loss': 0.6284, 'learning_rate': 9.052483268756605e-06, 'epoch': 16.38}\n"
     ]
    },
    {
     "name": "stderr",
     "output_type": "stream",
     "text": [
      "                                                        \n",
      " 82%|████████▏ | 46500/56780 [11:49:02<58:31,  2.93it/s]"
     ]
    },
    {
     "name": "stdout",
     "output_type": "stream",
     "text": [
      "{'eval_loss': 0.634742259979248, 'eval_recall': 0.9762030671602326, 'eval_precision': 0.6814322628276117, 'eval_runtime': 63.6129, 'eval_samples_per_second': 44.629, 'eval_steps_per_second': 5.581, 'epoch': 16.38}\n"
     ]
    },
    {
     "name": "stderr",
     "output_type": "stream",
     "text": [
      " 82%|████████▏ | 46600/56780 [11:49:30<47:27,  3.57it/s]   The following columns in the evaluation set  don't have a corresponding argument in `BertForSequenceClassification.forward` and have been ignored: sentense. If sentense are not expected by `BertForSequenceClassification.forward`,  you can safely ignore this message.\n",
      "***** Running Evaluation *****\n",
      "  Num examples = 2839\n",
      "  Batch size = 8\n",
      "                                                        \n",
      " 82%|████████▏ | 46600/56780 [11:50:34<47:27,  3.57it/s]"
     ]
    },
    {
     "name": "stdout",
     "output_type": "stream",
     "text": [
      "{'eval_loss': 0.6305677890777588, 'eval_recall': 0.9762030671602326, 'eval_precision': 0.6814322628276117, 'eval_runtime': 63.6707, 'eval_samples_per_second': 44.589, 'eval_steps_per_second': 5.576, 'epoch': 16.41}\n"
     ]
    },
    {
     "name": "stderr",
     "output_type": "stream",
     "text": [
      " 82%|████████▏ | 46700/56780 [11:51:02<46:56,  3.58it/s]   The following columns in the evaluation set  don't have a corresponding argument in `BertForSequenceClassification.forward` and have been ignored: sentense. If sentense are not expected by `BertForSequenceClassification.forward`,  you can safely ignore this message.\n",
      "***** Running Evaluation *****\n",
      "  Num examples = 2839\n",
      "  Batch size = 8\n",
      "                                                        \n",
      " 82%|████████▏ | 46700/56780 [11:52:05<46:56,  3.58it/s]"
     ]
    },
    {
     "name": "stdout",
     "output_type": "stream",
     "text": [
      "{'eval_loss': 0.633082926273346, 'eval_recall': 0.9762030671602326, 'eval_precision': 0.6814322628276117, 'eval_runtime': 63.578, 'eval_samples_per_second': 44.654, 'eval_steps_per_second': 5.584, 'epoch': 16.45}\n"
     ]
    },
    {
     "name": "stderr",
     "output_type": "stream",
     "text": [
      " 82%|████████▏ | 46800/56780 [11:52:33<46:23,  3.59it/s]   The following columns in the evaluation set  don't have a corresponding argument in `BertForSequenceClassification.forward` and have been ignored: sentense. If sentense are not expected by `BertForSequenceClassification.forward`,  you can safely ignore this message.\n",
      "***** Running Evaluation *****\n",
      "  Num examples = 2839\n",
      "  Batch size = 8\n",
      "                                                        \n",
      " 82%|████████▏ | 46800/56780 [11:53:37<46:23,  3.59it/s]"
     ]
    },
    {
     "name": "stdout",
     "output_type": "stream",
     "text": [
      "{'eval_loss': 0.6336914300918579, 'eval_recall': 0.9762030671602326, 'eval_precision': 0.6814322628276117, 'eval_runtime': 63.6308, 'eval_samples_per_second': 44.617, 'eval_steps_per_second': 5.579, 'epoch': 16.48}\n"
     ]
    },
    {
     "name": "stderr",
     "output_type": "stream",
     "text": [
      " 83%|████████▎ | 46900/56780 [11:54:05<45:53,  3.59it/s]   The following columns in the evaluation set  don't have a corresponding argument in `BertForSequenceClassification.forward` and have been ignored: sentense. If sentense are not expected by `BertForSequenceClassification.forward`,  you can safely ignore this message.\n",
      "***** Running Evaluation *****\n",
      "  Num examples = 2839\n",
      "  Batch size = 8\n",
      "                                                        \n",
      " 83%|████████▎ | 46900/56780 [11:55:08<45:53,  3.59it/s]"
     ]
    },
    {
     "name": "stdout",
     "output_type": "stream",
     "text": [
      "{'eval_loss': 0.6325153112411499, 'eval_recall': 0.9762030671602326, 'eval_precision': 0.6814322628276117, 'eval_runtime': 63.6667, 'eval_samples_per_second': 44.592, 'eval_steps_per_second': 5.576, 'epoch': 16.52}\n"
     ]
    },
    {
     "name": "stderr",
     "output_type": "stream",
     "text": [
      " 83%|████████▎ | 47000/56780 [11:55:36<55:46,  2.92it/s]   The following columns in the evaluation set  don't have a corresponding argument in `BertForSequenceClassification.forward` and have been ignored: sentense. If sentense are not expected by `BertForSequenceClassification.forward`,  you can safely ignore this message.\n",
      "***** Running Evaluation *****\n",
      "  Num examples = 2839\n",
      "  Batch size = 8\n"
     ]
    },
    {
     "name": "stdout",
     "output_type": "stream",
     "text": [
      "{'loss': 0.6263, 'learning_rate': 8.612187389926032e-06, 'epoch': 16.56}\n"
     ]
    },
    {
     "name": "stderr",
     "output_type": "stream",
     "text": [
      "                                                        \n",
      " 83%|████████▎ | 47000/56780 [11:56:40<55:46,  2.92it/s]"
     ]
    },
    {
     "name": "stdout",
     "output_type": "stream",
     "text": [
      "{'eval_loss': 0.6342981457710266, 'eval_recall': 0.9762030671602326, 'eval_precision': 0.6814322628276117, 'eval_runtime': 63.5688, 'eval_samples_per_second': 44.66, 'eval_steps_per_second': 5.584, 'epoch': 16.56}\n"
     ]
    },
    {
     "name": "stderr",
     "output_type": "stream",
     "text": [
      " 83%|████████▎ | 47100/56780 [11:57:08<44:53,  3.59it/s]   The following columns in the evaluation set  don't have a corresponding argument in `BertForSequenceClassification.forward` and have been ignored: sentense. If sentense are not expected by `BertForSequenceClassification.forward`,  you can safely ignore this message.\n",
      "***** Running Evaluation *****\n",
      "  Num examples = 2839\n",
      "  Batch size = 8\n",
      "                                                        \n",
      " 83%|████████▎ | 47100/56780 [11:58:12<44:53,  3.59it/s]"
     ]
    },
    {
     "name": "stdout",
     "output_type": "stream",
     "text": [
      "{'eval_loss': 0.6322670578956604, 'eval_recall': 0.9762030671602326, 'eval_precision': 0.6814322628276117, 'eval_runtime': 63.6021, 'eval_samples_per_second': 44.637, 'eval_steps_per_second': 5.582, 'epoch': 16.59}\n"
     ]
    },
    {
     "name": "stderr",
     "output_type": "stream",
     "text": [
      " 83%|████████▎ | 47200/56780 [11:58:39<44:42,  3.57it/s]   The following columns in the evaluation set  don't have a corresponding argument in `BertForSequenceClassification.forward` and have been ignored: sentense. If sentense are not expected by `BertForSequenceClassification.forward`,  you can safely ignore this message.\n",
      "***** Running Evaluation *****\n",
      "  Num examples = 2839\n",
      "  Batch size = 8\n",
      "                                                        \n",
      " 83%|████████▎ | 47200/56780 [11:59:43<44:42,  3.57it/s]"
     ]
    },
    {
     "name": "stdout",
     "output_type": "stream",
     "text": [
      "{'eval_loss': 0.6332849860191345, 'eval_recall': 0.9788471708090957, 'eval_precision': 0.6817679558011049, 'eval_runtime': 63.6294, 'eval_samples_per_second': 44.618, 'eval_steps_per_second': 5.579, 'epoch': 16.63}\n"
     ]
    },
    {
     "name": "stderr",
     "output_type": "stream",
     "text": [
      " 83%|████████▎ | 47300/56780 [12:00:11<44:04,  3.58it/s]   The following columns in the evaluation set  don't have a corresponding argument in `BertForSequenceClassification.forward` and have been ignored: sentense. If sentense are not expected by `BertForSequenceClassification.forward`,  you can safely ignore this message.\n",
      "***** Running Evaluation *****\n",
      "  Num examples = 2839\n",
      "  Batch size = 8\n",
      "                                                        \n",
      " 83%|████████▎ | 47300/56780 [12:01:15<44:04,  3.58it/s]"
     ]
    },
    {
     "name": "stdout",
     "output_type": "stream",
     "text": [
      "{'eval_loss': 0.6391315460205078, 'eval_recall': 0.9788471708090957, 'eval_precision': 0.6817679558011049, 'eval_runtime': 63.6161, 'eval_samples_per_second': 44.627, 'eval_steps_per_second': 5.58, 'epoch': 16.66}\n"
     ]
    },
    {
     "name": "stderr",
     "output_type": "stream",
     "text": [
      " 83%|████████▎ | 47400/56780 [12:01:42<43:39,  3.58it/s]   The following columns in the evaluation set  don't have a corresponding argument in `BertForSequenceClassification.forward` and have been ignored: sentense. If sentense are not expected by `BertForSequenceClassification.forward`,  you can safely ignore this message.\n",
      "***** Running Evaluation *****\n",
      "  Num examples = 2839\n",
      "  Batch size = 8\n",
      "                                                        \n",
      " 83%|████████▎ | 47400/56780 [12:02:46<43:39,  3.58it/s]"
     ]
    },
    {
     "name": "stdout",
     "output_type": "stream",
     "text": [
      "{'eval_loss': 0.6386800408363342, 'eval_recall': 0.9788471708090957, 'eval_precision': 0.6812661023187339, 'eval_runtime': 63.6497, 'eval_samples_per_second': 44.604, 'eval_steps_per_second': 5.577, 'epoch': 16.7}\n"
     ]
    },
    {
     "name": "stderr",
     "output_type": "stream",
     "text": [
      " 84%|████████▎ | 47500/56780 [12:03:14<52:46,  2.93it/s]   The following columns in the evaluation set  don't have a corresponding argument in `BertForSequenceClassification.forward` and have been ignored: sentense. If sentense are not expected by `BertForSequenceClassification.forward`,  you can safely ignore this message.\n",
      "***** Running Evaluation *****\n",
      "  Num examples = 2839\n",
      "  Batch size = 8\n"
     ]
    },
    {
     "name": "stdout",
     "output_type": "stream",
     "text": [
      "{'loss': 0.6066, 'learning_rate': 8.171891511095458e-06, 'epoch': 16.73}\n"
     ]
    },
    {
     "name": "stderr",
     "output_type": "stream",
     "text": [
      "                                                        \n",
      " 84%|████████▎ | 47500/56780 [12:04:18<52:46,  2.93it/s]"
     ]
    },
    {
     "name": "stdout",
     "output_type": "stream",
     "text": [
      "{'eval_loss': 0.6335253119468689, 'eval_recall': 0.9788471708090957, 'eval_precision': 0.6812661023187339, 'eval_runtime': 63.6491, 'eval_samples_per_second': 44.604, 'eval_steps_per_second': 5.577, 'epoch': 16.73}\n"
     ]
    },
    {
     "name": "stderr",
     "output_type": "stream",
     "text": [
      " 84%|████████▍ | 47600/56780 [12:04:46<42:38,  3.59it/s]   The following columns in the evaluation set  don't have a corresponding argument in `BertForSequenceClassification.forward` and have been ignored: sentense. If sentense are not expected by `BertForSequenceClassification.forward`,  you can safely ignore this message.\n",
      "***** Running Evaluation *****\n",
      "  Num examples = 2839\n",
      "  Batch size = 8\n",
      "                                                        \n",
      " 84%|████████▍ | 47600/56780 [12:05:49<42:38,  3.59it/s]"
     ]
    },
    {
     "name": "stdout",
     "output_type": "stream",
     "text": [
      "{'eval_loss': 0.628728985786438, 'eval_recall': 0.9788471708090957, 'eval_precision': 0.6815169366715759, 'eval_runtime': 63.5976, 'eval_samples_per_second': 44.64, 'eval_steps_per_second': 5.582, 'epoch': 16.77}\n"
     ]
    },
    {
     "name": "stderr",
     "output_type": "stream",
     "text": [
      " 84%|████████▍ | 47700/56780 [12:06:17<42:15,  3.58it/s]   The following columns in the evaluation set  don't have a corresponding argument in `BertForSequenceClassification.forward` and have been ignored: sentense. If sentense are not expected by `BertForSequenceClassification.forward`,  you can safely ignore this message.\n",
      "***** Running Evaluation *****\n",
      "  Num examples = 2839\n",
      "  Batch size = 8\n",
      "                                                        \n",
      " 84%|████████▍ | 47700/56780 [12:07:21<42:15,  3.58it/s]"
     ]
    },
    {
     "name": "stdout",
     "output_type": "stream",
     "text": [
      "{'eval_loss': 0.6283433437347412, 'eval_recall': 0.9788471708090957, 'eval_precision': 0.6812661023187339, 'eval_runtime': 63.6943, 'eval_samples_per_second': 44.572, 'eval_steps_per_second': 5.573, 'epoch': 16.8}\n"
     ]
    },
    {
     "name": "stderr",
     "output_type": "stream",
     "text": [
      " 84%|████████▍ | 47800/56780 [12:07:49<41:52,  3.57it/s]   The following columns in the evaluation set  don't have a corresponding argument in `BertForSequenceClassification.forward` and have been ignored: sentense. If sentense are not expected by `BertForSequenceClassification.forward`,  you can safely ignore this message.\n",
      "***** Running Evaluation *****\n",
      "  Num examples = 2839\n",
      "  Batch size = 8\n",
      "                                                        \n",
      " 84%|████████▍ | 47800/56780 [12:08:53<41:52,  3.57it/s]"
     ]
    },
    {
     "name": "stdout",
     "output_type": "stream",
     "text": [
      "{'eval_loss': 0.6303048133850098, 'eval_recall': 0.9788471708090957, 'eval_precision': 0.6817679558011049, 'eval_runtime': 63.6683, 'eval_samples_per_second': 44.59, 'eval_steps_per_second': 5.576, 'epoch': 16.84}\n"
     ]
    },
    {
     "name": "stderr",
     "output_type": "stream",
     "text": [
      " 84%|████████▍ | 47900/56780 [12:09:21<41:18,  3.58it/s]   The following columns in the evaluation set  don't have a corresponding argument in `BertForSequenceClassification.forward` and have been ignored: sentense. If sentense are not expected by `BertForSequenceClassification.forward`,  you can safely ignore this message.\n",
      "***** Running Evaluation *****\n",
      "  Num examples = 2839\n",
      "  Batch size = 8\n",
      "                                                        \n",
      " 84%|████████▍ | 47900/56780 [12:10:24<41:18,  3.58it/s]"
     ]
    },
    {
     "name": "stdout",
     "output_type": "stream",
     "text": [
      "{'eval_loss': 0.6354199051856995, 'eval_recall': 0.9788471708090957, 'eval_precision': 0.6817679558011049, 'eval_runtime': 63.7326, 'eval_samples_per_second': 44.546, 'eval_steps_per_second': 5.57, 'epoch': 16.87}\n"
     ]
    },
    {
     "name": "stderr",
     "output_type": "stream",
     "text": [
      " 85%|████████▍ | 48000/56780 [12:10:52<51:14,  2.86it/s]   The following columns in the evaluation set  don't have a corresponding argument in `BertForSequenceClassification.forward` and have been ignored: sentense. If sentense are not expected by `BertForSequenceClassification.forward`,  you can safely ignore this message.\n",
      "***** Running Evaluation *****\n",
      "  Num examples = 2839\n",
      "  Batch size = 8\n"
     ]
    },
    {
     "name": "stdout",
     "output_type": "stream",
     "text": [
      "{'loss': 0.6256, 'learning_rate': 7.731595632264883e-06, 'epoch': 16.91}\n"
     ]
    },
    {
     "name": "stderr",
     "output_type": "stream",
     "text": [
      "                                                        \n",
      " 85%|████████▍ | 48000/56780 [12:11:56<51:14,  2.86it/s]"
     ]
    },
    {
     "name": "stdout",
     "output_type": "stream",
     "text": [
      "{'eval_loss': 0.63047194480896, 'eval_recall': 0.9788471708090957, 'eval_precision': 0.6817679558011049, 'eval_runtime': 63.7181, 'eval_samples_per_second': 44.556, 'eval_steps_per_second': 5.571, 'epoch': 16.91}\n"
     ]
    },
    {
     "name": "stderr",
     "output_type": "stream",
     "text": [
      " 85%|████████▍ | 48100/56780 [12:12:24<40:20,  3.59it/s]   The following columns in the evaluation set  don't have a corresponding argument in `BertForSequenceClassification.forward` and have been ignored: sentense. If sentense are not expected by `BertForSequenceClassification.forward`,  you can safely ignore this message.\n",
      "***** Running Evaluation *****\n",
      "  Num examples = 2839\n",
      "  Batch size = 8\n",
      "                                                        \n",
      " 85%|████████▍ | 48100/56780 [12:13:28<40:20,  3.59it/s]"
     ]
    },
    {
     "name": "stdout",
     "output_type": "stream",
     "text": [
      "{'eval_loss': 0.6325610280036926, 'eval_recall': 0.9788471708090957, 'eval_precision': 0.6817679558011049, 'eval_runtime': 63.6819, 'eval_samples_per_second': 44.581, 'eval_steps_per_second': 5.575, 'epoch': 16.94}\n"
     ]
    },
    {
     "name": "stderr",
     "output_type": "stream",
     "text": [
      " 85%|████████▍ | 48200/56780 [12:13:56<39:54,  3.58it/s]   The following columns in the evaluation set  don't have a corresponding argument in `BertForSequenceClassification.forward` and have been ignored: sentense. If sentense are not expected by `BertForSequenceClassification.forward`,  you can safely ignore this message.\n",
      "***** Running Evaluation *****\n",
      "  Num examples = 2839\n",
      "  Batch size = 8\n",
      "                                                        \n",
      " 85%|████████▍ | 48200/56780 [12:14:59<39:54,  3.58it/s]"
     ]
    },
    {
     "name": "stdout",
     "output_type": "stream",
     "text": [
      "{'eval_loss': 0.6324650049209595, 'eval_recall': 0.9788471708090957, 'eval_precision': 0.6817679558011049, 'eval_runtime': 63.6793, 'eval_samples_per_second': 44.583, 'eval_steps_per_second': 5.575, 'epoch': 16.98}\n"
     ]
    },
    {
     "name": "stderr",
     "output_type": "stream",
     "text": [
      " 85%|████████▌ | 48300/56780 [12:15:27<39:29,  3.58it/s]   The following columns in the evaluation set  don't have a corresponding argument in `BertForSequenceClassification.forward` and have been ignored: sentense. If sentense are not expected by `BertForSequenceClassification.forward`,  you can safely ignore this message.\n",
      "***** Running Evaluation *****\n",
      "  Num examples = 2839\n",
      "  Batch size = 8\n",
      "                                                        \n",
      " 85%|████████▌ | 48300/56780 [12:16:31<39:29,  3.58it/s]"
     ]
    },
    {
     "name": "stdout",
     "output_type": "stream",
     "text": [
      "{'eval_loss': 0.6297712326049805, 'eval_recall': 0.9788471708090957, 'eval_precision': 0.6817679558011049, 'eval_runtime': 63.7437, 'eval_samples_per_second': 44.538, 'eval_steps_per_second': 5.569, 'epoch': 17.01}\n"
     ]
    },
    {
     "name": "stderr",
     "output_type": "stream",
     "text": [
      " 85%|████████▌ | 48400/56780 [12:16:59<38:59,  3.58it/s]   The following columns in the evaluation set  don't have a corresponding argument in `BertForSequenceClassification.forward` and have been ignored: sentense. If sentense are not expected by `BertForSequenceClassification.forward`,  you can safely ignore this message.\n",
      "***** Running Evaluation *****\n",
      "  Num examples = 2839\n",
      "  Batch size = 8\n",
      "                                                        \n",
      " 85%|████████▌ | 48400/56780 [12:18:02<38:59,  3.58it/s]"
     ]
    },
    {
     "name": "stdout",
     "output_type": "stream",
     "text": [
      "{'eval_loss': 0.6309646368026733, 'eval_recall': 0.9788471708090957, 'eval_precision': 0.6817679558011049, 'eval_runtime': 63.7057, 'eval_samples_per_second': 44.564, 'eval_steps_per_second': 5.573, 'epoch': 17.05}\n"
     ]
    },
    {
     "name": "stderr",
     "output_type": "stream",
     "text": [
      " 85%|████████▌ | 48500/56780 [12:18:31<47:00,  2.94it/s]   The following columns in the evaluation set  don't have a corresponding argument in `BertForSequenceClassification.forward` and have been ignored: sentense. If sentense are not expected by `BertForSequenceClassification.forward`,  you can safely ignore this message.\n",
      "***** Running Evaluation *****\n",
      "  Num examples = 2839\n",
      "  Batch size = 8\n"
     ]
    },
    {
     "name": "stdout",
     "output_type": "stream",
     "text": [
      "{'loss': 0.623, 'learning_rate': 7.291299753434308e-06, 'epoch': 17.08}\n"
     ]
    },
    {
     "name": "stderr",
     "output_type": "stream",
     "text": [
      "                                                        \n",
      " 85%|████████▌ | 48500/56780 [12:19:34<47:00,  2.94it/s]"
     ]
    },
    {
     "name": "stdout",
     "output_type": "stream",
     "text": [
      "{'eval_loss': 0.6327868103981018, 'eval_recall': 0.9788471708090957, 'eval_precision': 0.6815169366715759, 'eval_runtime': 63.6642, 'eval_samples_per_second': 44.593, 'eval_steps_per_second': 5.576, 'epoch': 17.08}\n"
     ]
    },
    {
     "name": "stderr",
     "output_type": "stream",
     "text": [
      " 86%|████████▌ | 48600/56780 [12:20:02<38:14,  3.56it/s]   The following columns in the evaluation set  don't have a corresponding argument in `BertForSequenceClassification.forward` and have been ignored: sentense. If sentense are not expected by `BertForSequenceClassification.forward`,  you can safely ignore this message.\n",
      "***** Running Evaluation *****\n",
      "  Num examples = 2839\n",
      "  Batch size = 8\n",
      "                                                        \n",
      " 86%|████████▌ | 48600/56780 [12:21:06<38:14,  3.56it/s]"
     ]
    },
    {
     "name": "stdout",
     "output_type": "stream",
     "text": [
      "{'eval_loss': 0.6326588988304138, 'eval_recall': 0.9788471708090957, 'eval_precision': 0.6815169366715759, 'eval_runtime': 63.609, 'eval_samples_per_second': 44.632, 'eval_steps_per_second': 5.581, 'epoch': 17.12}\n"
     ]
    },
    {
     "name": "stderr",
     "output_type": "stream",
     "text": [
      " 86%|████████▌ | 48700/56780 [12:21:34<37:34,  3.58it/s]   The following columns in the evaluation set  don't have a corresponding argument in `BertForSequenceClassification.forward` and have been ignored: sentense. If sentense are not expected by `BertForSequenceClassification.forward`,  you can safely ignore this message.\n",
      "***** Running Evaluation *****\n",
      "  Num examples = 2839\n",
      "  Batch size = 8\n",
      "                                                        \n",
      " 86%|████████▌ | 48700/56780 [12:22:37<37:34,  3.58it/s]"
     ]
    },
    {
     "name": "stdout",
     "output_type": "stream",
     "text": [
      "{'eval_loss': 0.6306041479110718, 'eval_recall': 0.9788471708090957, 'eval_precision': 0.6815169366715759, 'eval_runtime': 63.5818, 'eval_samples_per_second': 44.651, 'eval_steps_per_second': 5.583, 'epoch': 17.15}\n"
     ]
    },
    {
     "name": "stderr",
     "output_type": "stream",
     "text": [
      " 86%|████████▌ | 48800/56780 [12:23:05<37:02,  3.59it/s]   The following columns in the evaluation set  don't have a corresponding argument in `BertForSequenceClassification.forward` and have been ignored: sentense. If sentense are not expected by `BertForSequenceClassification.forward`,  you can safely ignore this message.\n",
      "***** Running Evaluation *****\n",
      "  Num examples = 2839\n",
      "  Batch size = 8\n",
      "                                                        \n",
      " 86%|████████▌ | 48800/56780 [12:24:09<37:02,  3.59it/s]"
     ]
    },
    {
     "name": "stdout",
     "output_type": "stream",
     "text": [
      "{'eval_loss': 0.6373697519302368, 'eval_recall': 0.9788471708090957, 'eval_precision': 0.6815169366715759, 'eval_runtime': 63.5887, 'eval_samples_per_second': 44.646, 'eval_steps_per_second': 5.583, 'epoch': 17.19}\n"
     ]
    },
    {
     "name": "stderr",
     "output_type": "stream",
     "text": [
      " 86%|████████▌ | 48900/56780 [12:24:37<36:33,  3.59it/s]   The following columns in the evaluation set  don't have a corresponding argument in `BertForSequenceClassification.forward` and have been ignored: sentense. If sentense are not expected by `BertForSequenceClassification.forward`,  you can safely ignore this message.\n",
      "***** Running Evaluation *****\n",
      "  Num examples = 2839\n",
      "  Batch size = 8\n",
      "                                                        \n",
      " 86%|████████▌ | 48900/56780 [12:25:40<36:33,  3.59it/s]"
     ]
    },
    {
     "name": "stdout",
     "output_type": "stream",
     "text": [
      "{'eval_loss': 0.6345342397689819, 'eval_recall': 0.9788471708090957, 'eval_precision': 0.6815169366715759, 'eval_runtime': 63.5938, 'eval_samples_per_second': 44.643, 'eval_steps_per_second': 5.582, 'epoch': 17.22}\n"
     ]
    },
    {
     "name": "stderr",
     "output_type": "stream",
     "text": [
      " 86%|████████▋ | 49000/56780 [12:26:08<44:43,  2.90it/s]   The following columns in the evaluation set  don't have a corresponding argument in `BertForSequenceClassification.forward` and have been ignored: sentense. If sentense are not expected by `BertForSequenceClassification.forward`,  you can safely ignore this message.\n",
      "***** Running Evaluation *****\n",
      "  Num examples = 2839\n",
      "  Batch size = 8\n"
     ]
    },
    {
     "name": "stdout",
     "output_type": "stream",
     "text": [
      "{'loss': 0.6176, 'learning_rate': 6.851003874603734e-06, 'epoch': 17.26}\n"
     ]
    },
    {
     "name": "stderr",
     "output_type": "stream",
     "text": [
      "                                                        \n",
      " 86%|████████▋ | 49000/56780 [12:27:12<44:43,  2.90it/s]"
     ]
    },
    {
     "name": "stdout",
     "output_type": "stream",
     "text": [
      "{'eval_loss': 0.6303089261054993, 'eval_recall': 0.9788471708090957, 'eval_precision': 0.6815169366715759, 'eval_runtime': 63.6029, 'eval_samples_per_second': 44.636, 'eval_steps_per_second': 5.582, 'epoch': 17.26}\n"
     ]
    },
    {
     "name": "stderr",
     "output_type": "stream",
     "text": [
      " 86%|████████▋ | 49100/56780 [12:27:40<35:45,  3.58it/s]   The following columns in the evaluation set  don't have a corresponding argument in `BertForSequenceClassification.forward` and have been ignored: sentense. If sentense are not expected by `BertForSequenceClassification.forward`,  you can safely ignore this message.\n",
      "***** Running Evaluation *****\n",
      "  Num examples = 2839\n",
      "  Batch size = 8\n",
      "                                                        \n",
      " 86%|████████▋ | 49100/56780 [12:28:44<35:45,  3.58it/s]"
     ]
    },
    {
     "name": "stdout",
     "output_type": "stream",
     "text": [
      "{'eval_loss': 0.63082355260849, 'eval_recall': 0.9788471708090957, 'eval_precision': 0.6810154525386314, 'eval_runtime': 63.6096, 'eval_samples_per_second': 44.632, 'eval_steps_per_second': 5.581, 'epoch': 17.29}\n"
     ]
    },
    {
     "name": "stderr",
     "output_type": "stream",
     "text": [
      " 87%|████████▋ | 49200/56780 [12:29:11<35:10,  3.59it/s]   The following columns in the evaluation set  don't have a corresponding argument in `BertForSequenceClassification.forward` and have been ignored: sentense. If sentense are not expected by `BertForSequenceClassification.forward`,  you can safely ignore this message.\n",
      "***** Running Evaluation *****\n",
      "  Num examples = 2839\n",
      "  Batch size = 8\n",
      "                                                        \n",
      " 87%|████████▋ | 49200/56780 [12:30:15<35:10,  3.59it/s]"
     ]
    },
    {
     "name": "stdout",
     "output_type": "stream",
     "text": [
      "{'eval_loss': 0.6280705332756042, 'eval_recall': 0.9788471708090957, 'eval_precision': 0.6810154525386314, 'eval_runtime': 63.6692, 'eval_samples_per_second': 44.59, 'eval_steps_per_second': 5.576, 'epoch': 17.33}\n"
     ]
    },
    {
     "name": "stderr",
     "output_type": "stream",
     "text": [
      " 87%|████████▋ | 49300/56780 [12:30:43<34:47,  3.58it/s]   The following columns in the evaluation set  don't have a corresponding argument in `BertForSequenceClassification.forward` and have been ignored: sentense. If sentense are not expected by `BertForSequenceClassification.forward`,  you can safely ignore this message.\n",
      "***** Running Evaluation *****\n",
      "  Num examples = 2839\n",
      "  Batch size = 8\n",
      "                                                        \n",
      " 87%|████████▋ | 49300/56780 [12:31:47<34:47,  3.58it/s]"
     ]
    },
    {
     "name": "stdout",
     "output_type": "stream",
     "text": [
      "{'eval_loss': 0.6360403895378113, 'eval_recall': 0.9767318878900053, 'eval_precision': 0.6812984138694209, 'eval_runtime': 63.6216, 'eval_samples_per_second': 44.623, 'eval_steps_per_second': 5.58, 'epoch': 17.37}\n"
     ]
    },
    {
     "name": "stderr",
     "output_type": "stream",
     "text": [
      " 87%|████████▋ | 49400/56780 [12:32:15<34:25,  3.57it/s]   The following columns in the evaluation set  don't have a corresponding argument in `BertForSequenceClassification.forward` and have been ignored: sentense. If sentense are not expected by `BertForSequenceClassification.forward`,  you can safely ignore this message.\n",
      "***** Running Evaluation *****\n",
      "  Num examples = 2839\n",
      "  Batch size = 8\n",
      "                                                        \n",
      " 87%|████████▋ | 49400/56780 [12:33:18<34:25,  3.57it/s]"
     ]
    },
    {
     "name": "stdout",
     "output_type": "stream",
     "text": [
      "{'eval_loss': 0.6287881135940552, 'eval_recall': 0.9767318878900053, 'eval_precision': 0.6812984138694209, 'eval_runtime': 63.6961, 'eval_samples_per_second': 44.571, 'eval_steps_per_second': 5.573, 'epoch': 17.4}\n"
     ]
    },
    {
     "name": "stderr",
     "output_type": "stream",
     "text": [
      " 87%|████████▋ | 49500/56780 [12:33:46<42:32,  2.85it/s]   The following columns in the evaluation set  don't have a corresponding argument in `BertForSequenceClassification.forward` and have been ignored: sentense. If sentense are not expected by `BertForSequenceClassification.forward`,  you can safely ignore this message.\n",
      "***** Running Evaluation *****\n",
      "  Num examples = 2839\n",
      "  Batch size = 8\n"
     ]
    },
    {
     "name": "stdout",
     "output_type": "stream",
     "text": [
      "{'loss': 0.6419, 'learning_rate': 6.4107079957731604e-06, 'epoch': 17.44}\n"
     ]
    },
    {
     "name": "stderr",
     "output_type": "stream",
     "text": [
      "                                                        \n",
      " 87%|████████▋ | 49500/56780 [12:34:50<42:32,  2.85it/s]"
     ]
    },
    {
     "name": "stdout",
     "output_type": "stream",
     "text": [
      "{'eval_loss': 0.6274833083152771, 'eval_recall': 0.9767318878900053, 'eval_precision': 0.6812984138694209, 'eval_runtime': 63.6845, 'eval_samples_per_second': 44.579, 'eval_steps_per_second': 5.574, 'epoch': 17.44}\n"
     ]
    },
    {
     "name": "stderr",
     "output_type": "stream",
     "text": [
      " 87%|████████▋ | 49600/56780 [12:35:18<33:26,  3.58it/s]   The following columns in the evaluation set  don't have a corresponding argument in `BertForSequenceClassification.forward` and have been ignored: sentense. If sentense are not expected by `BertForSequenceClassification.forward`,  you can safely ignore this message.\n",
      "***** Running Evaluation *****\n",
      "  Num examples = 2839\n",
      "  Batch size = 8\n",
      "                                                        \n",
      " 87%|████████▋ | 49600/56780 [12:36:22<33:26,  3.58it/s]"
     ]
    },
    {
     "name": "stdout",
     "output_type": "stream",
     "text": [
      "{'eval_loss': 0.6319061517715454, 'eval_recall': 0.9767318878900053, 'eval_precision': 0.6812984138694209, 'eval_runtime': 63.6487, 'eval_samples_per_second': 44.604, 'eval_steps_per_second': 5.577, 'epoch': 17.47}\n"
     ]
    },
    {
     "name": "stderr",
     "output_type": "stream",
     "text": [
      " 88%|████████▊ | 49700/56780 [12:36:50<32:54,  3.58it/s]   The following columns in the evaluation set  don't have a corresponding argument in `BertForSequenceClassification.forward` and have been ignored: sentense. If sentense are not expected by `BertForSequenceClassification.forward`,  you can safely ignore this message.\n",
      "***** Running Evaluation *****\n",
      "  Num examples = 2839\n",
      "  Batch size = 8\n",
      "                                                        \n",
      " 88%|████████▊ | 49700/56780 [12:37:53<32:54,  3.58it/s]"
     ]
    },
    {
     "name": "stdout",
     "output_type": "stream",
     "text": [
      "{'eval_loss': 0.6345044374465942, 'eval_recall': 0.9767318878900053, 'eval_precision': 0.6812984138694209, 'eval_runtime': 63.6419, 'eval_samples_per_second': 44.609, 'eval_steps_per_second': 5.578, 'epoch': 17.51}\n"
     ]
    },
    {
     "name": "stderr",
     "output_type": "stream",
     "text": [
      " 88%|████████▊ | 49800/56780 [12:38:21<32:26,  3.59it/s]   The following columns in the evaluation set  don't have a corresponding argument in `BertForSequenceClassification.forward` and have been ignored: sentense. If sentense are not expected by `BertForSequenceClassification.forward`,  you can safely ignore this message.\n",
      "***** Running Evaluation *****\n",
      "  Num examples = 2839\n",
      "  Batch size = 8\n",
      "                                                        \n",
      " 88%|████████▊ | 49800/56780 [12:39:25<32:26,  3.59it/s]"
     ]
    },
    {
     "name": "stdout",
     "output_type": "stream",
     "text": [
      "{'eval_loss': 0.6325773000717163, 'eval_recall': 0.9767318878900053, 'eval_precision': 0.6812984138694209, 'eval_runtime': 63.5993, 'eval_samples_per_second': 44.639, 'eval_steps_per_second': 5.582, 'epoch': 17.54}\n"
     ]
    },
    {
     "name": "stderr",
     "output_type": "stream",
     "text": [
      " 88%|████████▊ | 49900/56780 [12:39:53<31:56,  3.59it/s]   The following columns in the evaluation set  don't have a corresponding argument in `BertForSequenceClassification.forward` and have been ignored: sentense. If sentense are not expected by `BertForSequenceClassification.forward`,  you can safely ignore this message.\n",
      "***** Running Evaluation *****\n",
      "  Num examples = 2839\n",
      "  Batch size = 8\n",
      "                                                        \n",
      " 88%|████████▊ | 49900/56780 [12:40:56<31:56,  3.59it/s]"
     ]
    },
    {
     "name": "stdout",
     "output_type": "stream",
     "text": [
      "{'eval_loss': 0.637702465057373, 'eval_recall': 0.9772607086197779, 'eval_precision': 0.6814159292035398, 'eval_runtime': 63.6511, 'eval_samples_per_second': 44.603, 'eval_steps_per_second': 5.577, 'epoch': 17.58}\n"
     ]
    },
    {
     "name": "stderr",
     "output_type": "stream",
     "text": [
      " 88%|████████▊ | 50000/56780 [12:41:24<38:46,  2.91it/s]   The following columns in the evaluation set  don't have a corresponding argument in `BertForSequenceClassification.forward` and have been ignored: sentense. If sentense are not expected by `BertForSequenceClassification.forward`,  you can safely ignore this message.\n",
      "***** Running Evaluation *****\n",
      "  Num examples = 2839\n",
      "  Batch size = 8\n"
     ]
    },
    {
     "name": "stdout",
     "output_type": "stream",
     "text": [
      "{'loss': 0.6099, 'learning_rate': 5.970412116942586e-06, 'epoch': 17.61}\n"
     ]
    },
    {
     "name": "stderr",
     "output_type": "stream",
     "text": [
      "                                                        \n",
      " 88%|████████▊ | 50000/56780 [12:42:28<38:46,  2.91it/s]Saving model checkpoint to bert-classifier-trainer\\checkpoint-50000\n",
      "Configuration saved in bert-classifier-trainer\\checkpoint-50000\\config.json\n"
     ]
    },
    {
     "name": "stdout",
     "output_type": "stream",
     "text": [
      "{'eval_loss': 0.6384929418563843, 'eval_recall': 0.9772607086197779, 'eval_precision': 0.6814159292035398, 'eval_runtime': 63.62, 'eval_samples_per_second': 44.624, 'eval_steps_per_second': 5.58, 'epoch': 17.61}\n"
     ]
    },
    {
     "name": "stderr",
     "output_type": "stream",
     "text": [
      "Model weights saved in bert-classifier-trainer\\checkpoint-50000\\pytorch_model.bin\n",
      " 88%|████████▊ | 50100/56780 [12:43:07<30:38,  3.63it/s]   The following columns in the evaluation set  don't have a corresponding argument in `BertForSequenceClassification.forward` and have been ignored: sentense. If sentense are not expected by `BertForSequenceClassification.forward`,  you can safely ignore this message.\n",
      "***** Running Evaluation *****\n",
      "  Num examples = 2839\n",
      "  Batch size = 8\n",
      "                                                        \n",
      " 88%|████████▊ | 50100/56780 [12:44:10<30:38,  3.63it/s]"
     ]
    },
    {
     "name": "stdout",
     "output_type": "stream",
     "text": [
      "{'eval_loss': 0.6283732652664185, 'eval_recall': 0.9740877842411423, 'eval_precision': 0.6832344213649851, 'eval_runtime': 62.6845, 'eval_samples_per_second': 45.29, 'eval_steps_per_second': 5.663, 'epoch': 17.65}\n"
     ]
    },
    {
     "name": "stderr",
     "output_type": "stream",
     "text": [
      " 88%|████████▊ | 50200/56780 [12:44:37<30:10,  3.63it/s]   The following columns in the evaluation set  don't have a corresponding argument in `BertForSequenceClassification.forward` and have been ignored: sentense. If sentense are not expected by `BertForSequenceClassification.forward`,  you can safely ignore this message.\n",
      "***** Running Evaluation *****\n",
      "  Num examples = 2839\n",
      "  Batch size = 8\n",
      "                                                        \n",
      " 88%|████████▊ | 50200/56780 [12:45:40<30:10,  3.63it/s]"
     ]
    },
    {
     "name": "stdout",
     "output_type": "stream",
     "text": [
      "{'eval_loss': 0.6278718709945679, 'eval_recall': 0.9740877842411423, 'eval_precision': 0.6837416481069042, 'eval_runtime': 62.7995, 'eval_samples_per_second': 45.207, 'eval_steps_per_second': 5.653, 'epoch': 17.68}\n"
     ]
    },
    {
     "name": "stderr",
     "output_type": "stream",
     "text": [
      " 89%|████████▊ | 50300/56780 [12:46:08<29:42,  3.63it/s]   The following columns in the evaluation set  don't have a corresponding argument in `BertForSequenceClassification.forward` and have been ignored: sentense. If sentense are not expected by `BertForSequenceClassification.forward`,  you can safely ignore this message.\n",
      "***** Running Evaluation *****\n",
      "  Num examples = 2839\n",
      "  Batch size = 8\n",
      "                                                        \n",
      " 89%|████████▊ | 50300/56780 [12:47:10<29:42,  3.63it/s]"
     ]
    },
    {
     "name": "stdout",
     "output_type": "stream",
     "text": [
      "{'eval_loss': 0.6293714046478271, 'eval_recall': 0.9740877842411423, 'eval_precision': 0.6837416481069042, 'eval_runtime': 62.683, 'eval_samples_per_second': 45.291, 'eval_steps_per_second': 5.663, 'epoch': 17.72}\n"
     ]
    },
    {
     "name": "stderr",
     "output_type": "stream",
     "text": [
      " 89%|████████▉ | 50400/56780 [12:47:38<29:15,  3.63it/s]   The following columns in the evaluation set  don't have a corresponding argument in `BertForSequenceClassification.forward` and have been ignored: sentense. If sentense are not expected by `BertForSequenceClassification.forward`,  you can safely ignore this message.\n",
      "***** Running Evaluation *****\n",
      "  Num examples = 2839\n",
      "  Batch size = 8\n",
      "                                                        \n",
      " 89%|████████▉ | 50400/56780 [12:48:40<29:15,  3.63it/s]"
     ]
    },
    {
     "name": "stdout",
     "output_type": "stream",
     "text": [
      "{'eval_loss': 0.6303192973136902, 'eval_recall': 0.9740877842411423, 'eval_precision': 0.6837416481069042, 'eval_runtime': 62.6762, 'eval_samples_per_second': 45.296, 'eval_steps_per_second': 5.664, 'epoch': 17.75}\n"
     ]
    },
    {
     "name": "stderr",
     "output_type": "stream",
     "text": [
      " 89%|████████▉ | 50500/56780 [12:49:08<35:30,  2.95it/s]   The following columns in the evaluation set  don't have a corresponding argument in `BertForSequenceClassification.forward` and have been ignored: sentense. If sentense are not expected by `BertForSequenceClassification.forward`,  you can safely ignore this message.\n",
      "***** Running Evaluation *****\n",
      "  Num examples = 2839\n",
      "  Batch size = 8\n"
     ]
    },
    {
     "name": "stdout",
     "output_type": "stream",
     "text": [
      "{'loss': 0.6207, 'learning_rate': 5.530116238112012e-06, 'epoch': 17.79}\n"
     ]
    },
    {
     "name": "stderr",
     "output_type": "stream",
     "text": [
      "                                                        \n",
      " 89%|████████▉ | 50500/56780 [12:50:11<35:30,  2.95it/s]"
     ]
    },
    {
     "name": "stdout",
     "output_type": "stream",
     "text": [
      "{'eval_loss': 0.6334140300750732, 'eval_recall': 0.9740877842411423, 'eval_precision': 0.6837416481069042, 'eval_runtime': 62.6602, 'eval_samples_per_second': 45.308, 'eval_steps_per_second': 5.665, 'epoch': 17.79}\n"
     ]
    },
    {
     "name": "stderr",
     "output_type": "stream",
     "text": [
      " 89%|████████▉ | 50600/56780 [12:50:38<28:15,  3.64it/s]   The following columns in the evaluation set  don't have a corresponding argument in `BertForSequenceClassification.forward` and have been ignored: sentense. If sentense are not expected by `BertForSequenceClassification.forward`,  you can safely ignore this message.\n",
      "***** Running Evaluation *****\n",
      "  Num examples = 2839\n",
      "  Batch size = 8\n",
      "                                                        \n",
      " 89%|████████▉ | 50600/56780 [12:51:41<28:15,  3.64it/s]"
     ]
    },
    {
     "name": "stdout",
     "output_type": "stream",
     "text": [
      "{'eval_loss': 0.6327093839645386, 'eval_recall': 0.9740877842411423, 'eval_precision': 0.6837416481069042, 'eval_runtime': 62.6559, 'eval_samples_per_second': 45.311, 'eval_steps_per_second': 5.666, 'epoch': 17.82}\n"
     ]
    },
    {
     "name": "stderr",
     "output_type": "stream",
     "text": [
      " 89%|████████▉ | 50700/56780 [12:52:08<27:56,  3.63it/s]   The following columns in the evaluation set  don't have a corresponding argument in `BertForSequenceClassification.forward` and have been ignored: sentense. If sentense are not expected by `BertForSequenceClassification.forward`,  you can safely ignore this message.\n",
      "***** Running Evaluation *****\n",
      "  Num examples = 2839\n",
      "  Batch size = 8\n",
      "                                                        \n",
      " 89%|████████▉ | 50700/56780 [12:53:11<27:56,  3.63it/s]"
     ]
    },
    {
     "name": "stdout",
     "output_type": "stream",
     "text": [
      "{'eval_loss': 0.6305547952651978, 'eval_recall': 0.9740877842411423, 'eval_precision': 0.6837416481069042, 'eval_runtime': 62.6585, 'eval_samples_per_second': 45.309, 'eval_steps_per_second': 5.666, 'epoch': 17.86}\n"
     ]
    },
    {
     "name": "stderr",
     "output_type": "stream",
     "text": [
      " 89%|████████▉ | 50800/56780 [12:53:39<27:21,  3.64it/s]   The following columns in the evaluation set  don't have a corresponding argument in `BertForSequenceClassification.forward` and have been ignored: sentense. If sentense are not expected by `BertForSequenceClassification.forward`,  you can safely ignore this message.\n",
      "***** Running Evaluation *****\n",
      "  Num examples = 2839\n",
      "  Batch size = 8\n",
      "                                                        \n",
      " 89%|████████▉ | 50800/56780 [12:54:41<27:21,  3.64it/s]"
     ]
    },
    {
     "name": "stdout",
     "output_type": "stream",
     "text": [
      "{'eval_loss': 0.6307471990585327, 'eval_recall': 0.9740877842411423, 'eval_precision': 0.6837416481069042, 'eval_runtime': 62.5687, 'eval_samples_per_second': 45.374, 'eval_steps_per_second': 5.674, 'epoch': 17.89}\n"
     ]
    },
    {
     "name": "stderr",
     "output_type": "stream",
     "text": [
      " 90%|████████▉ | 50900/56780 [12:55:09<26:56,  3.64it/s]   The following columns in the evaluation set  don't have a corresponding argument in `BertForSequenceClassification.forward` and have been ignored: sentense. If sentense are not expected by `BertForSequenceClassification.forward`,  you can safely ignore this message.\n",
      "***** Running Evaluation *****\n",
      "  Num examples = 2839\n",
      "  Batch size = 8\n",
      "                                                        \n",
      " 90%|████████▉ | 50900/56780 [12:56:11<26:56,  3.64it/s]"
     ]
    },
    {
     "name": "stdout",
     "output_type": "stream",
     "text": [
      "{'eval_loss': 0.6274949908256531, 'eval_recall': 0.9740877842411423, 'eval_precision': 0.6837416481069042, 'eval_runtime': 62.6265, 'eval_samples_per_second': 45.332, 'eval_steps_per_second': 5.669, 'epoch': 17.93}\n"
     ]
    },
    {
     "name": "stderr",
     "output_type": "stream",
     "text": [
      " 90%|████████▉ | 51000/56780 [12:56:39<32:34,  2.96it/s]   The following columns in the evaluation set  don't have a corresponding argument in `BertForSequenceClassification.forward` and have been ignored: sentense. If sentense are not expected by `BertForSequenceClassification.forward`,  you can safely ignore this message.\n",
      "***** Running Evaluation *****\n",
      "  Num examples = 2839\n",
      "  Batch size = 8\n"
     ]
    },
    {
     "name": "stdout",
     "output_type": "stream",
     "text": [
      "{'loss': 0.6275, 'learning_rate': 5.0898203592814375e-06, 'epoch': 17.96}\n"
     ]
    },
    {
     "name": "stderr",
     "output_type": "stream",
     "text": [
      "                                                        \n",
      " 90%|████████▉ | 51000/56780 [12:57:42<32:34,  2.96it/s]"
     ]
    },
    {
     "name": "stdout",
     "output_type": "stream",
     "text": [
      "{'eval_loss': 0.6305041909217834, 'eval_recall': 0.9740877842411423, 'eval_precision': 0.6837416481069042, 'eval_runtime': 62.632, 'eval_samples_per_second': 45.328, 'eval_steps_per_second': 5.668, 'epoch': 17.96}\n"
     ]
    },
    {
     "name": "stderr",
     "output_type": "stream",
     "text": [
      " 90%|████████▉ | 51100/56780 [12:58:09<26:06,  3.63it/s]   The following columns in the evaluation set  don't have a corresponding argument in `BertForSequenceClassification.forward` and have been ignored: sentense. If sentense are not expected by `BertForSequenceClassification.forward`,  you can safely ignore this message.\n",
      "***** Running Evaluation *****\n",
      "  Num examples = 2839\n",
      "  Batch size = 8\n",
      "                                                        \n",
      " 90%|████████▉ | 51100/56780 [12:59:12<26:06,  3.63it/s]"
     ]
    },
    {
     "name": "stdout",
     "output_type": "stream",
     "text": [
      "{'eval_loss': 0.6330333948135376, 'eval_recall': 0.9740877842411423, 'eval_precision': 0.6837416481069042, 'eval_runtime': 62.6747, 'eval_samples_per_second': 45.297, 'eval_steps_per_second': 5.664, 'epoch': 18.0}\n"
     ]
    },
    {
     "name": "stderr",
     "output_type": "stream",
     "text": [
      " 90%|█████████ | 51200/56780 [12:59:39<25:36,  3.63it/s]   The following columns in the evaluation set  don't have a corresponding argument in `BertForSequenceClassification.forward` and have been ignored: sentense. If sentense are not expected by `BertForSequenceClassification.forward`,  you can safely ignore this message.\n",
      "***** Running Evaluation *****\n",
      "  Num examples = 2839\n",
      "  Batch size = 8\n",
      "                                                        \n",
      " 90%|█████████ | 51200/56780 [13:00:42<25:36,  3.63it/s]"
     ]
    },
    {
     "name": "stdout",
     "output_type": "stream",
     "text": [
      "{'eval_loss': 0.6316115856170654, 'eval_recall': 0.9740877842411423, 'eval_precision': 0.6837416481069042, 'eval_runtime': 62.5915, 'eval_samples_per_second': 45.358, 'eval_steps_per_second': 5.672, 'epoch': 18.03}\n"
     ]
    },
    {
     "name": "stderr",
     "output_type": "stream",
     "text": [
      " 90%|█████████ | 51300/56780 [13:01:09<25:05,  3.64it/s]   The following columns in the evaluation set  don't have a corresponding argument in `BertForSequenceClassification.forward` and have been ignored: sentense. If sentense are not expected by `BertForSequenceClassification.forward`,  you can safely ignore this message.\n",
      "***** Running Evaluation *****\n",
      "  Num examples = 2839\n",
      "  Batch size = 8\n",
      "                                                        \n",
      " 90%|█████████ | 51300/56780 [13:02:12<25:05,  3.64it/s]"
     ]
    },
    {
     "name": "stdout",
     "output_type": "stream",
     "text": [
      "{'eval_loss': 0.6316598057746887, 'eval_recall': 0.9740877842411423, 'eval_precision': 0.6837416481069042, 'eval_runtime': 62.6568, 'eval_samples_per_second': 45.31, 'eval_steps_per_second': 5.666, 'epoch': 18.07}\n"
     ]
    },
    {
     "name": "stderr",
     "output_type": "stream",
     "text": [
      " 91%|█████████ | 51400/56780 [13:02:39<24:42,  3.63it/s]   The following columns in the evaluation set  don't have a corresponding argument in `BertForSequenceClassification.forward` and have been ignored: sentense. If sentense are not expected by `BertForSequenceClassification.forward`,  you can safely ignore this message.\n",
      "***** Running Evaluation *****\n",
      "  Num examples = 2839\n",
      "  Batch size = 8\n",
      "                                                        \n",
      " 91%|█████████ | 51400/56780 [13:03:42<24:42,  3.63it/s]"
     ]
    },
    {
     "name": "stdout",
     "output_type": "stream",
     "text": [
      "{'eval_loss': 0.6299286484718323, 'eval_recall': 0.9740877842411423, 'eval_precision': 0.6837416481069042, 'eval_runtime': 62.6995, 'eval_samples_per_second': 45.279, 'eval_steps_per_second': 5.662, 'epoch': 18.1}\n"
     ]
    },
    {
     "name": "stderr",
     "output_type": "stream",
     "text": [
      " 91%|█████████ | 51500/56780 [13:04:10<29:53,  2.94it/s]   The following columns in the evaluation set  don't have a corresponding argument in `BertForSequenceClassification.forward` and have been ignored: sentense. If sentense are not expected by `BertForSequenceClassification.forward`,  you can safely ignore this message.\n",
      "***** Running Evaluation *****\n",
      "  Num examples = 2839\n",
      "  Batch size = 8\n"
     ]
    },
    {
     "name": "stdout",
     "output_type": "stream",
     "text": [
      "{'loss': 0.6186, 'learning_rate': 4.649524480450864e-06, 'epoch': 18.14}\n"
     ]
    },
    {
     "name": "stderr",
     "output_type": "stream",
     "text": [
      "                                                        \n",
      " 91%|█████████ | 51500/56780 [13:05:13<29:53,  2.94it/s]"
     ]
    },
    {
     "name": "stdout",
     "output_type": "stream",
     "text": [
      "{'eval_loss': 0.6305224299430847, 'eval_recall': 0.9740877842411423, 'eval_precision': 0.6837416481069042, 'eval_runtime': 62.8656, 'eval_samples_per_second': 45.16, 'eval_steps_per_second': 5.647, 'epoch': 18.14}\n"
     ]
    },
    {
     "name": "stderr",
     "output_type": "stream",
     "text": [
      " 91%|█████████ | 51600/56780 [13:05:40<23:48,  3.63it/s]   The following columns in the evaluation set  don't have a corresponding argument in `BertForSequenceClassification.forward` and have been ignored: sentense. If sentense are not expected by `BertForSequenceClassification.forward`,  you can safely ignore this message.\n",
      "***** Running Evaluation *****\n",
      "  Num examples = 2839\n",
      "  Batch size = 8\n",
      "                                                        \n",
      " 91%|█████████ | 51600/56780 [13:06:43<23:48,  3.63it/s]"
     ]
    },
    {
     "name": "stdout",
     "output_type": "stream",
     "text": [
      "{'eval_loss': 0.6336376070976257, 'eval_recall': 0.9740877842411423, 'eval_precision': 0.6837416481069042, 'eval_runtime': 62.8241, 'eval_samples_per_second': 45.19, 'eval_steps_per_second': 5.651, 'epoch': 18.18}\n"
     ]
    },
    {
     "name": "stderr",
     "output_type": "stream",
     "text": [
      " 91%|█████████ | 51700/56780 [13:07:11<23:21,  3.62it/s]   The following columns in the evaluation set  don't have a corresponding argument in `BertForSequenceClassification.forward` and have been ignored: sentense. If sentense are not expected by `BertForSequenceClassification.forward`,  you can safely ignore this message.\n",
      "***** Running Evaluation *****\n",
      "  Num examples = 2839\n",
      "  Batch size = 8\n",
      "                                                        \n",
      " 91%|█████████ | 51700/56780 [13:08:14<23:21,  3.62it/s]"
     ]
    },
    {
     "name": "stdout",
     "output_type": "stream",
     "text": [
      "{'eval_loss': 0.6288480162620544, 'eval_recall': 0.9740877842411423, 'eval_precision': 0.6837416481069042, 'eval_runtime': 62.8484, 'eval_samples_per_second': 45.172, 'eval_steps_per_second': 5.649, 'epoch': 18.21}\n"
     ]
    },
    {
     "name": "stderr",
     "output_type": "stream",
     "text": [
      " 91%|█████████ | 51800/56780 [13:08:41<22:53,  3.63it/s]   The following columns in the evaluation set  don't have a corresponding argument in `BertForSequenceClassification.forward` and have been ignored: sentense. If sentense are not expected by `BertForSequenceClassification.forward`,  you can safely ignore this message.\n",
      "***** Running Evaluation *****\n",
      "  Num examples = 2839\n",
      "  Batch size = 8\n",
      "                                                        \n",
      " 91%|█████████ | 51800/56780 [13:09:44<22:53,  3.63it/s]"
     ]
    },
    {
     "name": "stdout",
     "output_type": "stream",
     "text": [
      "{'eval_loss': 0.629558265209198, 'eval_recall': 0.9740877842411423, 'eval_precision': 0.6837416481069042, 'eval_runtime': 62.7909, 'eval_samples_per_second': 45.214, 'eval_steps_per_second': 5.654, 'epoch': 18.25}\n"
     ]
    },
    {
     "name": "stderr",
     "output_type": "stream",
     "text": [
      " 91%|█████████▏| 51900/56780 [13:10:11<22:22,  3.63it/s]   The following columns in the evaluation set  don't have a corresponding argument in `BertForSequenceClassification.forward` and have been ignored: sentense. If sentense are not expected by `BertForSequenceClassification.forward`,  you can safely ignore this message.\n",
      "***** Running Evaluation *****\n",
      "  Num examples = 2839\n",
      "  Batch size = 8\n",
      "                                                        \n",
      " 91%|█████████▏| 51900/56780 [13:11:14<22:22,  3.63it/s]"
     ]
    },
    {
     "name": "stdout",
     "output_type": "stream",
     "text": [
      "{'eval_loss': 0.632064163684845, 'eval_recall': 0.9740877842411423, 'eval_precision': 0.6837416481069042, 'eval_runtime': 62.8064, 'eval_samples_per_second': 45.202, 'eval_steps_per_second': 5.652, 'epoch': 18.28}\n"
     ]
    },
    {
     "name": "stderr",
     "output_type": "stream",
     "text": [
      " 92%|█████████▏| 52000/56780 [13:11:42<27:06,  2.94it/s]   The following columns in the evaluation set  don't have a corresponding argument in `BertForSequenceClassification.forward` and have been ignored: sentense. If sentense are not expected by `BertForSequenceClassification.forward`,  you can safely ignore this message.\n",
      "***** Running Evaluation *****\n",
      "  Num examples = 2839\n",
      "  Batch size = 8\n"
     ]
    },
    {
     "name": "stdout",
     "output_type": "stream",
     "text": [
      "{'loss': 0.6111, 'learning_rate': 4.209228601620289e-06, 'epoch': 18.32}\n"
     ]
    },
    {
     "name": "stderr",
     "output_type": "stream",
     "text": [
      "                                                        \n",
      " 92%|█████████▏| 52000/56780 [13:12:45<27:06,  2.94it/s]"
     ]
    },
    {
     "name": "stdout",
     "output_type": "stream",
     "text": [
      "{'eval_loss': 0.631844699382782, 'eval_recall': 0.9740877842411423, 'eval_precision': 0.6837416481069042, 'eval_runtime': 62.6558, 'eval_samples_per_second': 45.311, 'eval_steps_per_second': 5.666, 'epoch': 18.32}\n"
     ]
    },
    {
     "name": "stderr",
     "output_type": "stream",
     "text": [
      " 92%|█████████▏| 52100/56780 [13:13:12<21:26,  3.64it/s]   The following columns in the evaluation set  don't have a corresponding argument in `BertForSequenceClassification.forward` and have been ignored: sentense. If sentense are not expected by `BertForSequenceClassification.forward`,  you can safely ignore this message.\n",
      "***** Running Evaluation *****\n",
      "  Num examples = 2839\n",
      "  Batch size = 8\n",
      "                                                        \n",
      " 92%|█████████▏| 52100/56780 [13:14:15<21:26,  3.64it/s]"
     ]
    },
    {
     "name": "stdout",
     "output_type": "stream",
     "text": [
      "{'eval_loss': 0.629235029220581, 'eval_recall': 0.9740877842411423, 'eval_precision': 0.6837416481069042, 'eval_runtime': 62.7078, 'eval_samples_per_second': 45.273, 'eval_steps_per_second': 5.661, 'epoch': 18.35}\n"
     ]
    },
    {
     "name": "stderr",
     "output_type": "stream",
     "text": [
      " 92%|█████████▏| 52200/56780 [13:14:42<21:02,  3.63it/s]   The following columns in the evaluation set  don't have a corresponding argument in `BertForSequenceClassification.forward` and have been ignored: sentense. If sentense are not expected by `BertForSequenceClassification.forward`,  you can safely ignore this message.\n",
      "***** Running Evaluation *****\n",
      "  Num examples = 2839\n",
      "  Batch size = 8\n",
      "                                                        \n",
      " 92%|█████████▏| 52200/56780 [13:15:45<21:02,  3.63it/s]"
     ]
    },
    {
     "name": "stdout",
     "output_type": "stream",
     "text": [
      "{'eval_loss': 0.6293092370033264, 'eval_recall': 0.9740877842411423, 'eval_precision': 0.6837416481069042, 'eval_runtime': 62.6496, 'eval_samples_per_second': 45.316, 'eval_steps_per_second': 5.666, 'epoch': 18.39}\n"
     ]
    },
    {
     "name": "stderr",
     "output_type": "stream",
     "text": [
      " 92%|█████████▏| 52300/56780 [13:16:13<20:37,  3.62it/s]   The following columns in the evaluation set  don't have a corresponding argument in `BertForSequenceClassification.forward` and have been ignored: sentense. If sentense are not expected by `BertForSequenceClassification.forward`,  you can safely ignore this message.\n",
      "***** Running Evaluation *****\n",
      "  Num examples = 2839\n",
      "  Batch size = 8\n",
      "                                                        \n",
      " 92%|█████████▏| 52300/56780 [13:17:15<20:37,  3.62it/s]"
     ]
    },
    {
     "name": "stdout",
     "output_type": "stream",
     "text": [
      "{'eval_loss': 0.6280025839805603, 'eval_recall': 0.9740877842411423, 'eval_precision': 0.6837416481069042, 'eval_runtime': 62.7166, 'eval_samples_per_second': 45.267, 'eval_steps_per_second': 5.66, 'epoch': 18.42}\n"
     ]
    },
    {
     "name": "stderr",
     "output_type": "stream",
     "text": [
      " 92%|█████████▏| 52400/56780 [13:17:43<20:03,  3.64it/s]   The following columns in the evaluation set  don't have a corresponding argument in `BertForSequenceClassification.forward` and have been ignored: sentense. If sentense are not expected by `BertForSequenceClassification.forward`,  you can safely ignore this message.\n",
      "***** Running Evaluation *****\n",
      "  Num examples = 2839\n",
      "  Batch size = 8\n",
      "                                                        \n",
      " 92%|█████████▏| 52400/56780 [13:18:45<20:03,  3.64it/s]"
     ]
    },
    {
     "name": "stdout",
     "output_type": "stream",
     "text": [
      "{'eval_loss': 0.6305108070373535, 'eval_recall': 0.9740877842411423, 'eval_precision': 0.6837416481069042, 'eval_runtime': 62.6734, 'eval_samples_per_second': 45.298, 'eval_steps_per_second': 5.664, 'epoch': 18.46}\n"
     ]
    },
    {
     "name": "stderr",
     "output_type": "stream",
     "text": [
      " 92%|█████████▏| 52500/56780 [13:19:13<24:14,  2.94it/s]   The following columns in the evaluation set  don't have a corresponding argument in `BertForSequenceClassification.forward` and have been ignored: sentense. If sentense are not expected by `BertForSequenceClassification.forward`,  you can safely ignore this message.\n",
      "***** Running Evaluation *****\n",
      "  Num examples = 2839\n",
      "  Batch size = 8\n"
     ]
    },
    {
     "name": "stdout",
     "output_type": "stream",
     "text": [
      "{'loss': 0.6339, 'learning_rate': 3.768932722789715e-06, 'epoch': 18.49}\n"
     ]
    },
    {
     "name": "stderr",
     "output_type": "stream",
     "text": [
      "                                                        \n",
      " 92%|█████████▏| 52500/56780 [13:20:16<24:14,  2.94it/s]"
     ]
    },
    {
     "name": "stdout",
     "output_type": "stream",
     "text": [
      "{'eval_loss': 0.6312460899353027, 'eval_recall': 0.9740877842411423, 'eval_precision': 0.6837416481069042, 'eval_runtime': 62.6773, 'eval_samples_per_second': 45.296, 'eval_steps_per_second': 5.664, 'epoch': 18.49}\n"
     ]
    },
    {
     "name": "stderr",
     "output_type": "stream",
     "text": [
      " 93%|█████████▎| 52600/56780 [13:20:43<19:07,  3.64it/s]   The following columns in the evaluation set  don't have a corresponding argument in `BertForSequenceClassification.forward` and have been ignored: sentense. If sentense are not expected by `BertForSequenceClassification.forward`,  you can safely ignore this message.\n",
      "***** Running Evaluation *****\n",
      "  Num examples = 2839\n",
      "  Batch size = 8\n",
      "                                                        \n",
      " 93%|█████████▎| 52600/56780 [13:21:46<19:07,  3.64it/s]"
     ]
    },
    {
     "name": "stdout",
     "output_type": "stream",
     "text": [
      "{'eval_loss': 0.630460262298584, 'eval_recall': 0.9740877842411423, 'eval_precision': 0.6837416481069042, 'eval_runtime': 62.6741, 'eval_samples_per_second': 45.298, 'eval_steps_per_second': 5.664, 'epoch': 18.53}\n"
     ]
    },
    {
     "name": "stderr",
     "output_type": "stream",
     "text": [
      " 93%|█████████▎| 52700/56780 [13:22:14<18:44,  3.63it/s]   The following columns in the evaluation set  don't have a corresponding argument in `BertForSequenceClassification.forward` and have been ignored: sentense. If sentense are not expected by `BertForSequenceClassification.forward`,  you can safely ignore this message.\n",
      "***** Running Evaluation *****\n",
      "  Num examples = 2839\n",
      "  Batch size = 8\n",
      "                                                        \n",
      " 93%|█████████▎| 52700/56780 [13:23:16<18:44,  3.63it/s]"
     ]
    },
    {
     "name": "stdout",
     "output_type": "stream",
     "text": [
      "{'eval_loss': 0.6305526494979858, 'eval_recall': 0.9740877842411423, 'eval_precision': 0.6837416481069042, 'eval_runtime': 62.6419, 'eval_samples_per_second': 45.321, 'eval_steps_per_second': 5.667, 'epoch': 18.56}\n"
     ]
    },
    {
     "name": "stderr",
     "output_type": "stream",
     "text": [
      " 93%|█████████▎| 52800/56780 [13:23:44<18:11,  3.65it/s]   The following columns in the evaluation set  don't have a corresponding argument in `BertForSequenceClassification.forward` and have been ignored: sentense. If sentense are not expected by `BertForSequenceClassification.forward`,  you can safely ignore this message.\n",
      "***** Running Evaluation *****\n",
      "  Num examples = 2839\n",
      "  Batch size = 8\n",
      "                                                        \n",
      " 93%|█████████▎| 52800/56780 [13:24:46<18:11,  3.65it/s]"
     ]
    },
    {
     "name": "stdout",
     "output_type": "stream",
     "text": [
      "{'eval_loss': 0.6338516473770142, 'eval_recall': 0.9740877842411423, 'eval_precision': 0.6837416481069042, 'eval_runtime': 62.6582, 'eval_samples_per_second': 45.309, 'eval_steps_per_second': 5.666, 'epoch': 18.6}\n"
     ]
    },
    {
     "name": "stderr",
     "output_type": "stream",
     "text": [
      " 93%|█████████▎| 52900/56780 [13:25:14<17:46,  3.64it/s]   The following columns in the evaluation set  don't have a corresponding argument in `BertForSequenceClassification.forward` and have been ignored: sentense. If sentense are not expected by `BertForSequenceClassification.forward`,  you can safely ignore this message.\n",
      "***** Running Evaluation *****\n",
      "  Num examples = 2839\n",
      "  Batch size = 8\n",
      "                                                        \n",
      " 93%|█████████▎| 52900/56780 [13:26:17<17:46,  3.64it/s]"
     ]
    },
    {
     "name": "stdout",
     "output_type": "stream",
     "text": [
      "{'eval_loss': 0.6310122609138489, 'eval_recall': 0.9740877842411423, 'eval_precision': 0.6837416481069042, 'eval_runtime': 62.7339, 'eval_samples_per_second': 45.255, 'eval_steps_per_second': 5.659, 'epoch': 18.63}\n"
     ]
    },
    {
     "name": "stderr",
     "output_type": "stream",
     "text": [
      " 93%|█████████▎| 53000/56780 [13:26:44<21:26,  2.94it/s]   The following columns in the evaluation set  don't have a corresponding argument in `BertForSequenceClassification.forward` and have been ignored: sentense. If sentense are not expected by `BertForSequenceClassification.forward`,  you can safely ignore this message.\n",
      "***** Running Evaluation *****\n",
      "  Num examples = 2839\n",
      "  Batch size = 8\n"
     ]
    },
    {
     "name": "stdout",
     "output_type": "stream",
     "text": [
      "{'loss': 0.6245, 'learning_rate': 3.328636843959141e-06, 'epoch': 18.67}\n"
     ]
    },
    {
     "name": "stderr",
     "output_type": "stream",
     "text": [
      "                                                        \n",
      " 93%|█████████▎| 53000/56780 [13:27:47<21:26,  2.94it/s]"
     ]
    },
    {
     "name": "stdout",
     "output_type": "stream",
     "text": [
      "{'eval_loss': 0.6308003664016724, 'eval_recall': 0.9740877842411423, 'eval_precision': 0.6837416481069042, 'eval_runtime': 62.8004, 'eval_samples_per_second': 45.207, 'eval_steps_per_second': 5.653, 'epoch': 18.67}\n"
     ]
    },
    {
     "name": "stderr",
     "output_type": "stream",
     "text": [
      " 94%|█████████▎| 53100/56780 [13:28:15<16:50,  3.64it/s]   The following columns in the evaluation set  don't have a corresponding argument in `BertForSequenceClassification.forward` and have been ignored: sentense. If sentense are not expected by `BertForSequenceClassification.forward`,  you can safely ignore this message.\n",
      "***** Running Evaluation *****\n",
      "  Num examples = 2839\n",
      "  Batch size = 8\n",
      "                                                        \n",
      " 94%|█████████▎| 53100/56780 [13:29:18<16:50,  3.64it/s]"
     ]
    },
    {
     "name": "stdout",
     "output_type": "stream",
     "text": [
      "{'eval_loss': 0.6299920082092285, 'eval_recall': 0.9740877842411423, 'eval_precision': 0.6837416481069042, 'eval_runtime': 62.762, 'eval_samples_per_second': 45.234, 'eval_steps_per_second': 5.656, 'epoch': 18.7}\n"
     ]
    },
    {
     "name": "stderr",
     "output_type": "stream",
     "text": [
      " 94%|█████████▎| 53200/56780 [13:29:45<16:26,  3.63it/s]   The following columns in the evaluation set  don't have a corresponding argument in `BertForSequenceClassification.forward` and have been ignored: sentense. If sentense are not expected by `BertForSequenceClassification.forward`,  you can safely ignore this message.\n",
      "***** Running Evaluation *****\n",
      "  Num examples = 2839\n",
      "  Batch size = 8\n",
      "                                                        \n",
      " 94%|█████████▎| 53200/56780 [13:30:48<16:26,  3.63it/s]"
     ]
    },
    {
     "name": "stdout",
     "output_type": "stream",
     "text": [
      "{'eval_loss': 0.6302228569984436, 'eval_recall': 0.9740877842411423, 'eval_precision': 0.6837416481069042, 'eval_runtime': 62.8355, 'eval_samples_per_second': 45.181, 'eval_steps_per_second': 5.65, 'epoch': 18.74}\n"
     ]
    },
    {
     "name": "stderr",
     "output_type": "stream",
     "text": [
      " 94%|█████████▍| 53300/56780 [13:31:15<16:00,  3.62it/s]   The following columns in the evaluation set  don't have a corresponding argument in `BertForSequenceClassification.forward` and have been ignored: sentense. If sentense are not expected by `BertForSequenceClassification.forward`,  you can safely ignore this message.\n",
      "***** Running Evaluation *****\n",
      "  Num examples = 2839\n",
      "  Batch size = 8\n",
      "                                                        \n",
      " 94%|█████████▍| 53300/56780 [13:32:18<16:00,  3.62it/s]"
     ]
    },
    {
     "name": "stdout",
     "output_type": "stream",
     "text": [
      "{'eval_loss': 0.631454348564148, 'eval_recall': 0.9740877842411423, 'eval_precision': 0.6837416481069042, 'eval_runtime': 62.7459, 'eval_samples_per_second': 45.246, 'eval_steps_per_second': 5.658, 'epoch': 18.77}\n"
     ]
    },
    {
     "name": "stderr",
     "output_type": "stream",
     "text": [
      " 94%|█████████▍| 53400/56780 [13:32:46<15:31,  3.63it/s]   The following columns in the evaluation set  don't have a corresponding argument in `BertForSequenceClassification.forward` and have been ignored: sentense. If sentense are not expected by `BertForSequenceClassification.forward`,  you can safely ignore this message.\n",
      "***** Running Evaluation *****\n",
      "  Num examples = 2839\n",
      "  Batch size = 8\n",
      "                                                        \n",
      " 94%|█████████▍| 53400/56780 [13:33:48<15:31,  3.63it/s]"
     ]
    },
    {
     "name": "stdout",
     "output_type": "stream",
     "text": [
      "{'eval_loss': 0.6310158967971802, 'eval_recall': 0.9740877842411423, 'eval_precision': 0.6837416481069042, 'eval_runtime': 62.6431, 'eval_samples_per_second': 45.32, 'eval_steps_per_second': 5.667, 'epoch': 18.81}\n"
     ]
    },
    {
     "name": "stderr",
     "output_type": "stream",
     "text": [
      " 94%|█████████▍| 53500/56780 [13:34:16<18:32,  2.95it/s]   The following columns in the evaluation set  don't have a corresponding argument in `BertForSequenceClassification.forward` and have been ignored: sentense. If sentense are not expected by `BertForSequenceClassification.forward`,  you can safely ignore this message.\n",
      "***** Running Evaluation *****\n",
      "  Num examples = 2839\n",
      "  Batch size = 8\n"
     ]
    },
    {
     "name": "stdout",
     "output_type": "stream",
     "text": [
      "{'loss': 0.6249, 'learning_rate': 2.8883409651285663e-06, 'epoch': 18.84}\n"
     ]
    },
    {
     "name": "stderr",
     "output_type": "stream",
     "text": [
      "                                                        \n",
      " 94%|█████████▍| 53500/56780 [13:35:19<18:32,  2.95it/s]"
     ]
    },
    {
     "name": "stdout",
     "output_type": "stream",
     "text": [
      "{'eval_loss': 0.6298630833625793, 'eval_recall': 0.9740877842411423, 'eval_precision': 0.6837416481069042, 'eval_runtime': 62.5689, 'eval_samples_per_second': 45.374, 'eval_steps_per_second': 5.674, 'epoch': 18.84}\n"
     ]
    },
    {
     "name": "stderr",
     "output_type": "stream",
     "text": [
      " 94%|█████████▍| 53600/56780 [13:35:46<14:35,  3.63it/s]   The following columns in the evaluation set  don't have a corresponding argument in `BertForSequenceClassification.forward` and have been ignored: sentense. If sentense are not expected by `BertForSequenceClassification.forward`,  you can safely ignore this message.\n",
      "***** Running Evaluation *****\n",
      "  Num examples = 2839\n",
      "  Batch size = 8\n",
      "                                                        \n",
      " 94%|█████████▍| 53600/56780 [13:36:49<14:35,  3.63it/s]"
     ]
    },
    {
     "name": "stdout",
     "output_type": "stream",
     "text": [
      "{'eval_loss': 0.6285902857780457, 'eval_recall': 0.9740877842411423, 'eval_precision': 0.6837416481069042, 'eval_runtime': 62.5574, 'eval_samples_per_second': 45.382, 'eval_steps_per_second': 5.675, 'epoch': 18.88}\n"
     ]
    },
    {
     "name": "stderr",
     "output_type": "stream",
     "text": [
      " 95%|█████████▍| 53700/56780 [13:37:16<14:08,  3.63it/s]   The following columns in the evaluation set  don't have a corresponding argument in `BertForSequenceClassification.forward` and have been ignored: sentense. If sentense are not expected by `BertForSequenceClassification.forward`,  you can safely ignore this message.\n",
      "***** Running Evaluation *****\n",
      "  Num examples = 2839\n",
      "  Batch size = 8\n",
      "                                                        \n",
      " 95%|█████████▍| 53700/56780 [13:38:19<14:08,  3.63it/s]"
     ]
    },
    {
     "name": "stdout",
     "output_type": "stream",
     "text": [
      "{'eval_loss': 0.6291307210922241, 'eval_recall': 0.9740877842411423, 'eval_precision': 0.6837416481069042, 'eval_runtime': 62.5651, 'eval_samples_per_second': 45.377, 'eval_steps_per_second': 5.674, 'epoch': 18.92}\n"
     ]
    },
    {
     "name": "stderr",
     "output_type": "stream",
     "text": [
      " 95%|█████████▍| 53800/56780 [13:38:46<13:38,  3.64it/s]   The following columns in the evaluation set  don't have a corresponding argument in `BertForSequenceClassification.forward` and have been ignored: sentense. If sentense are not expected by `BertForSequenceClassification.forward`,  you can safely ignore this message.\n",
      "***** Running Evaluation *****\n",
      "  Num examples = 2839\n",
      "  Batch size = 8\n",
      "                                                        \n",
      " 95%|█████████▍| 53800/56780 [13:39:49<13:38,  3.64it/s]"
     ]
    },
    {
     "name": "stdout",
     "output_type": "stream",
     "text": [
      "{'eval_loss': 0.6299853920936584, 'eval_recall': 0.9740877842411423, 'eval_precision': 0.6837416481069042, 'eval_runtime': 62.5774, 'eval_samples_per_second': 45.368, 'eval_steps_per_second': 5.673, 'epoch': 18.95}\n"
     ]
    },
    {
     "name": "stderr",
     "output_type": "stream",
     "text": [
      " 95%|█████████▍| 53900/56780 [13:40:16<13:12,  3.64it/s]   The following columns in the evaluation set  don't have a corresponding argument in `BertForSequenceClassification.forward` and have been ignored: sentense. If sentense are not expected by `BertForSequenceClassification.forward`,  you can safely ignore this message.\n",
      "***** Running Evaluation *****\n",
      "  Num examples = 2839\n",
      "  Batch size = 8\n",
      "                                                        \n",
      " 95%|█████████▍| 53900/56780 [13:41:19<13:12,  3.64it/s]"
     ]
    },
    {
     "name": "stdout",
     "output_type": "stream",
     "text": [
      "{'eval_loss': 0.6319106817245483, 'eval_recall': 0.9740877842411423, 'eval_precision': 0.6837416481069042, 'eval_runtime': 62.5626, 'eval_samples_per_second': 45.379, 'eval_steps_per_second': 5.674, 'epoch': 18.99}\n"
     ]
    },
    {
     "name": "stderr",
     "output_type": "stream",
     "text": [
      " 95%|█████████▌| 54000/56780 [13:41:46<15:42,  2.95it/s]   The following columns in the evaluation set  don't have a corresponding argument in `BertForSequenceClassification.forward` and have been ignored: sentense. If sentense are not expected by `BertForSequenceClassification.forward`,  you can safely ignore this message.\n",
      "***** Running Evaluation *****\n",
      "  Num examples = 2839\n",
      "  Batch size = 8\n"
     ]
    },
    {
     "name": "stdout",
     "output_type": "stream",
     "text": [
      "{'loss': 0.6242, 'learning_rate': 2.448045086297992e-06, 'epoch': 19.02}\n"
     ]
    },
    {
     "name": "stderr",
     "output_type": "stream",
     "text": [
      "                                                        \n",
      " 95%|█████████▌| 54000/56780 [13:42:49<15:42,  2.95it/s]"
     ]
    },
    {
     "name": "stdout",
     "output_type": "stream",
     "text": [
      "{'eval_loss': 0.6301122307777405, 'eval_recall': 0.9740877842411423, 'eval_precision': 0.6837416481069042, 'eval_runtime': 62.5928, 'eval_samples_per_second': 45.357, 'eval_steps_per_second': 5.672, 'epoch': 19.02}\n"
     ]
    },
    {
     "name": "stderr",
     "output_type": "stream",
     "text": [
      " 95%|█████████▌| 54100/56780 [13:43:16<12:17,  3.63it/s]   The following columns in the evaluation set  don't have a corresponding argument in `BertForSequenceClassification.forward` and have been ignored: sentense. If sentense are not expected by `BertForSequenceClassification.forward`,  you can safely ignore this message.\n",
      "***** Running Evaluation *****\n",
      "  Num examples = 2839\n",
      "  Batch size = 8\n",
      "                                                        \n",
      " 95%|█████████▌| 54100/56780 [13:44:19<12:17,  3.63it/s]"
     ]
    },
    {
     "name": "stdout",
     "output_type": "stream",
     "text": [
      "{'eval_loss': 0.6293018460273743, 'eval_recall': 0.9740877842411423, 'eval_precision': 0.6837416481069042, 'eval_runtime': 62.6337, 'eval_samples_per_second': 45.327, 'eval_steps_per_second': 5.668, 'epoch': 19.06}\n"
     ]
    },
    {
     "name": "stderr",
     "output_type": "stream",
     "text": [
      " 95%|█████████▌| 54200/56780 [13:44:47<11:48,  3.64it/s]   The following columns in the evaluation set  don't have a corresponding argument in `BertForSequenceClassification.forward` and have been ignored: sentense. If sentense are not expected by `BertForSequenceClassification.forward`,  you can safely ignore this message.\n",
      "***** Running Evaluation *****\n",
      "  Num examples = 2839\n",
      "  Batch size = 8\n",
      "                                                        \n",
      " 95%|█████████▌| 54200/56780 [13:45:49<11:48,  3.64it/s]"
     ]
    },
    {
     "name": "stdout",
     "output_type": "stream",
     "text": [
      "{'eval_loss': 0.6302366256713867, 'eval_recall': 0.9740877842411423, 'eval_precision': 0.6837416481069042, 'eval_runtime': 62.6274, 'eval_samples_per_second': 45.332, 'eval_steps_per_second': 5.668, 'epoch': 19.09}\n"
     ]
    },
    {
     "name": "stderr",
     "output_type": "stream",
     "text": [
      " 96%|█████████▌| 54300/56780 [13:46:17<11:25,  3.62it/s]   The following columns in the evaluation set  don't have a corresponding argument in `BertForSequenceClassification.forward` and have been ignored: sentense. If sentense are not expected by `BertForSequenceClassification.forward`,  you can safely ignore this message.\n",
      "***** Running Evaluation *****\n",
      "  Num examples = 2839\n",
      "  Batch size = 8\n",
      "                                                        \n",
      " 96%|█████████▌| 54300/56780 [13:47:19<11:25,  3.62it/s]"
     ]
    },
    {
     "name": "stdout",
     "output_type": "stream",
     "text": [
      "{'eval_loss': 0.6305971741676331, 'eval_recall': 0.9740877842411423, 'eval_precision': 0.6837416481069042, 'eval_runtime': 62.6394, 'eval_samples_per_second': 45.323, 'eval_steps_per_second': 5.667, 'epoch': 19.13}\n"
     ]
    },
    {
     "name": "stderr",
     "output_type": "stream",
     "text": [
      " 96%|█████████▌| 54400/56780 [13:47:47<10:52,  3.65it/s]   The following columns in the evaluation set  don't have a corresponding argument in `BertForSequenceClassification.forward` and have been ignored: sentense. If sentense are not expected by `BertForSequenceClassification.forward`,  you can safely ignore this message.\n",
      "***** Running Evaluation *****\n",
      "  Num examples = 2839\n",
      "  Batch size = 8\n",
      "                                                        \n",
      " 96%|█████████▌| 54400/56780 [13:48:50<10:52,  3.65it/s]"
     ]
    },
    {
     "name": "stdout",
     "output_type": "stream",
     "text": [
      "{'eval_loss': 0.6326119303703308, 'eval_recall': 0.9740877842411423, 'eval_precision': 0.6837416481069042, 'eval_runtime': 62.6025, 'eval_samples_per_second': 45.35, 'eval_steps_per_second': 5.671, 'epoch': 19.16}\n"
     ]
    },
    {
     "name": "stderr",
     "output_type": "stream",
     "text": [
      " 96%|█████████▌| 54500/56780 [13:49:17<12:53,  2.95it/s]   The following columns in the evaluation set  don't have a corresponding argument in `BertForSequenceClassification.forward` and have been ignored: sentense. If sentense are not expected by `BertForSequenceClassification.forward`,  you can safely ignore this message.\n",
      "***** Running Evaluation *****\n",
      "  Num examples = 2839\n",
      "  Batch size = 8\n"
     ]
    },
    {
     "name": "stdout",
     "output_type": "stream",
     "text": [
      "{'loss': 0.6187, 'learning_rate': 2.0077492074674183e-06, 'epoch': 19.2}\n"
     ]
    },
    {
     "name": "stderr",
     "output_type": "stream",
     "text": [
      "                                                        \n",
      " 96%|█████████▌| 54500/56780 [13:50:20<12:53,  2.95it/s]"
     ]
    },
    {
     "name": "stdout",
     "output_type": "stream",
     "text": [
      "{'eval_loss': 0.6317588090896606, 'eval_recall': 0.9740877842411423, 'eval_precision': 0.6837416481069042, 'eval_runtime': 62.7339, 'eval_samples_per_second': 45.255, 'eval_steps_per_second': 5.659, 'epoch': 19.2}\n"
     ]
    },
    {
     "name": "stderr",
     "output_type": "stream",
     "text": [
      " 96%|█████████▌| 54600/56780 [13:50:48<09:59,  3.64it/s]   The following columns in the evaluation set  don't have a corresponding argument in `BertForSequenceClassification.forward` and have been ignored: sentense. If sentense are not expected by `BertForSequenceClassification.forward`,  you can safely ignore this message.\n",
      "***** Running Evaluation *****\n",
      "  Num examples = 2839\n",
      "  Batch size = 8\n",
      "                                                        \n",
      " 96%|█████████▌| 54600/56780 [13:51:50<09:59,  3.64it/s]"
     ]
    },
    {
     "name": "stdout",
     "output_type": "stream",
     "text": [
      "{'eval_loss': 0.6306862831115723, 'eval_recall': 0.9740877842411423, 'eval_precision': 0.6837416481069042, 'eval_runtime': 62.7316, 'eval_samples_per_second': 45.256, 'eval_steps_per_second': 5.659, 'epoch': 19.23}\n"
     ]
    },
    {
     "name": "stderr",
     "output_type": "stream",
     "text": [
      " 96%|█████████▋| 54700/56780 [13:52:18<09:31,  3.64it/s]   The following columns in the evaluation set  don't have a corresponding argument in `BertForSequenceClassification.forward` and have been ignored: sentense. If sentense are not expected by `BertForSequenceClassification.forward`,  you can safely ignore this message.\n",
      "***** Running Evaluation *****\n",
      "  Num examples = 2839\n",
      "  Batch size = 8\n",
      "                                                        \n",
      " 96%|█████████▋| 54700/56780 [13:53:21<09:31,  3.64it/s]"
     ]
    },
    {
     "name": "stdout",
     "output_type": "stream",
     "text": [
      "{'eval_loss': 0.6326937675476074, 'eval_recall': 0.9740877842411423, 'eval_precision': 0.6837416481069042, 'eval_runtime': 62.6958, 'eval_samples_per_second': 45.282, 'eval_steps_per_second': 5.662, 'epoch': 19.27}\n"
     ]
    },
    {
     "name": "stderr",
     "output_type": "stream",
     "text": [
      " 97%|█████████▋| 54800/56780 [13:53:48<09:06,  3.62it/s]   The following columns in the evaluation set  don't have a corresponding argument in `BertForSequenceClassification.forward` and have been ignored: sentense. If sentense are not expected by `BertForSequenceClassification.forward`,  you can safely ignore this message.\n",
      "***** Running Evaluation *****\n",
      "  Num examples = 2839\n",
      "  Batch size = 8\n",
      "                                                        \n",
      " 97%|█████████▋| 54800/56780 [13:54:51<09:06,  3.62it/s]"
     ]
    },
    {
     "name": "stdout",
     "output_type": "stream",
     "text": [
      "{'eval_loss': 0.6320197582244873, 'eval_recall': 0.9740877842411423, 'eval_precision': 0.6837416481069042, 'eval_runtime': 62.8975, 'eval_samples_per_second': 45.137, 'eval_steps_per_second': 5.644, 'epoch': 19.3}\n"
     ]
    },
    {
     "name": "stderr",
     "output_type": "stream",
     "text": [
      " 97%|█████████▋| 54900/56780 [13:55:18<08:36,  3.64it/s]   The following columns in the evaluation set  don't have a corresponding argument in `BertForSequenceClassification.forward` and have been ignored: sentense. If sentense are not expected by `BertForSequenceClassification.forward`,  you can safely ignore this message.\n",
      "***** Running Evaluation *****\n",
      "  Num examples = 2839\n",
      "  Batch size = 8\n",
      "                                                        \n",
      " 97%|█████████▋| 54900/56780 [13:56:21<08:36,  3.64it/s]"
     ]
    },
    {
     "name": "stdout",
     "output_type": "stream",
     "text": [
      "{'eval_loss': 0.6306820511817932, 'eval_recall': 0.9740877842411423, 'eval_precision': 0.6837416481069042, 'eval_runtime': 62.7634, 'eval_samples_per_second': 45.233, 'eval_steps_per_second': 5.656, 'epoch': 19.34}\n"
     ]
    },
    {
     "name": "stderr",
     "output_type": "stream",
     "text": [
      " 97%|█████████▋| 55000/56780 [13:56:49<10:03,  2.95it/s]  The following columns in the evaluation set  don't have a corresponding argument in `BertForSequenceClassification.forward` and have been ignored: sentense. If sentense are not expected by `BertForSequenceClassification.forward`,  you can safely ignore this message.\n",
      "***** Running Evaluation *****\n",
      "  Num examples = 2839\n",
      "  Batch size = 8\n"
     ]
    },
    {
     "name": "stdout",
     "output_type": "stream",
     "text": [
      "{'loss': 0.6236, 'learning_rate': 1.5674533286368442e-06, 'epoch': 19.37}\n"
     ]
    },
    {
     "name": "stderr",
     "output_type": "stream",
     "text": [
      "                                                        \n",
      " 97%|█████████▋| 55000/56780 [13:57:52<10:03,  2.95it/s]Saving model checkpoint to bert-classifier-trainer\\checkpoint-55000\n",
      "Configuration saved in bert-classifier-trainer\\checkpoint-55000\\config.json\n"
     ]
    },
    {
     "name": "stdout",
     "output_type": "stream",
     "text": [
      "{'eval_loss': 0.6302911043167114, 'eval_recall': 0.9740877842411423, 'eval_precision': 0.6837416481069042, 'eval_runtime': 62.7121, 'eval_samples_per_second': 45.27, 'eval_steps_per_second': 5.661, 'epoch': 19.37}\n"
     ]
    },
    {
     "name": "stderr",
     "output_type": "stream",
     "text": [
      "Model weights saved in bert-classifier-trainer\\checkpoint-55000\\pytorch_model.bin\n",
      " 97%|█████████▋| 55100/56780 [13:58:29<07:42,  3.63it/s]   The following columns in the evaluation set  don't have a corresponding argument in `BertForSequenceClassification.forward` and have been ignored: sentense. If sentense are not expected by `BertForSequenceClassification.forward`,  you can safely ignore this message.\n",
      "***** Running Evaluation *****\n",
      "  Num examples = 2839\n",
      "  Batch size = 8\n",
      "                                                        \n",
      " 97%|█████████▋| 55100/56780 [13:59:32<07:42,  3.63it/s]"
     ]
    },
    {
     "name": "stdout",
     "output_type": "stream",
     "text": [
      "{'eval_loss': 0.630723774433136, 'eval_recall': 0.9740877842411423, 'eval_precision': 0.6837416481069042, 'eval_runtime': 62.6487, 'eval_samples_per_second': 45.316, 'eval_steps_per_second': 5.667, 'epoch': 19.41}\n"
     ]
    },
    {
     "name": "stderr",
     "output_type": "stream",
     "text": [
      " 97%|█████████▋| 55200/56780 [13:59:59<07:15,  3.63it/s]  The following columns in the evaluation set  don't have a corresponding argument in `BertForSequenceClassification.forward` and have been ignored: sentense. If sentense are not expected by `BertForSequenceClassification.forward`,  you can safely ignore this message.\n",
      "***** Running Evaluation *****\n",
      "  Num examples = 2839\n",
      "  Batch size = 8\n",
      "                                                        \n",
      " 97%|█████████▋| 55200/56780 [14:01:02<07:15,  3.63it/s]"
     ]
    },
    {
     "name": "stdout",
     "output_type": "stream",
     "text": [
      "{'eval_loss': 0.6308591961860657, 'eval_recall': 0.9740877842411423, 'eval_precision': 0.6837416481069042, 'eval_runtime': 62.6441, 'eval_samples_per_second': 45.32, 'eval_steps_per_second': 5.667, 'epoch': 19.44}\n"
     ]
    },
    {
     "name": "stderr",
     "output_type": "stream",
     "text": [
      " 97%|█████████▋| 55300/56780 [14:01:30<06:48,  3.62it/s]  The following columns in the evaluation set  don't have a corresponding argument in `BertForSequenceClassification.forward` and have been ignored: sentense. If sentense are not expected by `BertForSequenceClassification.forward`,  you can safely ignore this message.\n",
      "***** Running Evaluation *****\n",
      "  Num examples = 2839\n",
      "  Batch size = 8\n",
      "                                                        \n",
      " 97%|█████████▋| 55300/56780 [14:02:32<06:48,  3.62it/s]"
     ]
    },
    {
     "name": "stdout",
     "output_type": "stream",
     "text": [
      "{'eval_loss': 0.6297664642333984, 'eval_recall': 0.9740877842411423, 'eval_precision': 0.6837416481069042, 'eval_runtime': 62.6934, 'eval_samples_per_second': 45.284, 'eval_steps_per_second': 5.662, 'epoch': 19.48}\n"
     ]
    },
    {
     "name": "stderr",
     "output_type": "stream",
     "text": [
      " 98%|█████████▊| 55400/56780 [14:03:00<06:18,  3.65it/s]  The following columns in the evaluation set  don't have a corresponding argument in `BertForSequenceClassification.forward` and have been ignored: sentense. If sentense are not expected by `BertForSequenceClassification.forward`,  you can safely ignore this message.\n",
      "***** Running Evaluation *****\n",
      "  Num examples = 2839\n",
      "  Batch size = 8\n",
      "                                                        \n",
      " 98%|█████████▊| 55400/56780 [14:04:02<06:18,  3.65it/s]"
     ]
    },
    {
     "name": "stdout",
     "output_type": "stream",
     "text": [
      "{'eval_loss': 0.6291818022727966, 'eval_recall': 0.9740877842411423, 'eval_precision': 0.6837416481069042, 'eval_runtime': 62.6777, 'eval_samples_per_second': 45.295, 'eval_steps_per_second': 5.664, 'epoch': 19.51}\n"
     ]
    },
    {
     "name": "stderr",
     "output_type": "stream",
     "text": [
      " 98%|█████████▊| 55500/56780 [14:04:30<07:13,  2.95it/s]  The following columns in the evaluation set  don't have a corresponding argument in `BertForSequenceClassification.forward` and have been ignored: sentense. If sentense are not expected by `BertForSequenceClassification.forward`,  you can safely ignore this message.\n",
      "***** Running Evaluation *****\n",
      "  Num examples = 2839\n",
      "  Batch size = 8\n"
     ]
    },
    {
     "name": "stdout",
     "output_type": "stream",
     "text": [
      "{'loss': 0.6291, 'learning_rate': 1.1271574498062698e-06, 'epoch': 19.55}\n"
     ]
    },
    {
     "name": "stderr",
     "output_type": "stream",
     "text": [
      "                                                        \n",
      " 98%|█████████▊| 55500/56780 [14:05:33<07:13,  2.95it/s]"
     ]
    },
    {
     "name": "stdout",
     "output_type": "stream",
     "text": [
      "{'eval_loss': 0.6292867064476013, 'eval_recall': 0.9740877842411423, 'eval_precision': 0.6837416481069042, 'eval_runtime': 62.6344, 'eval_samples_per_second': 45.327, 'eval_steps_per_second': 5.668, 'epoch': 19.55}\n"
     ]
    },
    {
     "name": "stderr",
     "output_type": "stream",
     "text": [
      " 98%|█████████▊| 55600/56780 [14:06:00<05:23,  3.65it/s]  The following columns in the evaluation set  don't have a corresponding argument in `BertForSequenceClassification.forward` and have been ignored: sentense. If sentense are not expected by `BertForSequenceClassification.forward`,  you can safely ignore this message.\n",
      "***** Running Evaluation *****\n",
      "  Num examples = 2839\n",
      "  Batch size = 8\n",
      "                                                        \n",
      " 98%|█████████▊| 55600/56780 [14:07:03<05:23,  3.65it/s]"
     ]
    },
    {
     "name": "stdout",
     "output_type": "stream",
     "text": [
      "{'eval_loss': 0.629756510257721, 'eval_recall': 0.9740877842411423, 'eval_precision': 0.6837416481069042, 'eval_runtime': 62.6475, 'eval_samples_per_second': 45.317, 'eval_steps_per_second': 5.667, 'epoch': 19.58}\n"
     ]
    },
    {
     "name": "stderr",
     "output_type": "stream",
     "text": [
      " 98%|█████████▊| 55700/56780 [14:07:30<04:57,  3.63it/s]  The following columns in the evaluation set  don't have a corresponding argument in `BertForSequenceClassification.forward` and have been ignored: sentense. If sentense are not expected by `BertForSequenceClassification.forward`,  you can safely ignore this message.\n",
      "***** Running Evaluation *****\n",
      "  Num examples = 2839\n",
      "  Batch size = 8\n",
      "                                                        \n",
      " 98%|█████████▊| 55700/56780 [14:08:33<04:57,  3.63it/s]"
     ]
    },
    {
     "name": "stdout",
     "output_type": "stream",
     "text": [
      "{'eval_loss': 0.6297399997711182, 'eval_recall': 0.9740877842411423, 'eval_precision': 0.6837416481069042, 'eval_runtime': 62.6263, 'eval_samples_per_second': 45.332, 'eval_steps_per_second': 5.669, 'epoch': 19.62}\n"
     ]
    },
    {
     "name": "stderr",
     "output_type": "stream",
     "text": [
      " 98%|█████████▊| 55800/56780 [14:09:01<04:29,  3.64it/s]  The following columns in the evaluation set  don't have a corresponding argument in `BertForSequenceClassification.forward` and have been ignored: sentense. If sentense are not expected by `BertForSequenceClassification.forward`,  you can safely ignore this message.\n",
      "***** Running Evaluation *****\n",
      "  Num examples = 2839\n",
      "  Batch size = 8\n",
      "                                                        \n",
      " 98%|█████████▊| 55800/56780 [14:10:03<04:29,  3.64it/s]"
     ]
    },
    {
     "name": "stdout",
     "output_type": "stream",
     "text": [
      "{'eval_loss': 0.6304420232772827, 'eval_recall': 0.9740877842411423, 'eval_precision': 0.6837416481069042, 'eval_runtime': 62.6342, 'eval_samples_per_second': 45.327, 'eval_steps_per_second': 5.668, 'epoch': 19.65}\n"
     ]
    },
    {
     "name": "stderr",
     "output_type": "stream",
     "text": [
      " 98%|█████████▊| 55900/56780 [14:10:31<04:02,  3.63it/s]  The following columns in the evaluation set  don't have a corresponding argument in `BertForSequenceClassification.forward` and have been ignored: sentense. If sentense are not expected by `BertForSequenceClassification.forward`,  you can safely ignore this message.\n",
      "***** Running Evaluation *****\n",
      "  Num examples = 2839\n",
      "  Batch size = 8\n",
      "                                                        \n",
      " 98%|█████████▊| 55900/56780 [14:11:33<04:02,  3.63it/s]"
     ]
    },
    {
     "name": "stdout",
     "output_type": "stream",
     "text": [
      "{'eval_loss': 0.6305102109909058, 'eval_recall': 0.9740877842411423, 'eval_precision': 0.6837416481069042, 'eval_runtime': 62.7195, 'eval_samples_per_second': 45.265, 'eval_steps_per_second': 5.66, 'epoch': 19.69}\n"
     ]
    },
    {
     "name": "stderr",
     "output_type": "stream",
     "text": [
      " 99%|█████████▊| 56000/56780 [14:12:01<04:25,  2.94it/s]  The following columns in the evaluation set  don't have a corresponding argument in `BertForSequenceClassification.forward` and have been ignored: sentense. If sentense are not expected by `BertForSequenceClassification.forward`,  you can safely ignore this message.\n",
      "***** Running Evaluation *****\n",
      "  Num examples = 2839\n",
      "  Batch size = 8\n"
     ]
    },
    {
     "name": "stdout",
     "output_type": "stream",
     "text": [
      "{'loss': 0.6174, 'learning_rate': 6.868615709756957e-07, 'epoch': 19.73}\n"
     ]
    },
    {
     "name": "stderr",
     "output_type": "stream",
     "text": [
      "                                                        \n",
      " 99%|█████████▊| 56000/56780 [14:13:04<04:25,  2.94it/s]"
     ]
    },
    {
     "name": "stdout",
     "output_type": "stream",
     "text": [
      "{'eval_loss': 0.6299765110015869, 'eval_recall': 0.9740877842411423, 'eval_precision': 0.6837416481069042, 'eval_runtime': 62.8082, 'eval_samples_per_second': 45.201, 'eval_steps_per_second': 5.652, 'epoch': 19.73}\n"
     ]
    },
    {
     "name": "stderr",
     "output_type": "stream",
     "text": [
      " 99%|█████████▉| 56100/56780 [14:13:32<03:07,  3.63it/s]  The following columns in the evaluation set  don't have a corresponding argument in `BertForSequenceClassification.forward` and have been ignored: sentense. If sentense are not expected by `BertForSequenceClassification.forward`,  you can safely ignore this message.\n",
      "***** Running Evaluation *****\n",
      "  Num examples = 2839\n",
      "  Batch size = 8\n",
      "                                                        \n",
      " 99%|█████████▉| 56100/56780 [14:14:34<03:07,  3.63it/s]"
     ]
    },
    {
     "name": "stdout",
     "output_type": "stream",
     "text": [
      "{'eval_loss': 0.6297154426574707, 'eval_recall': 0.9740877842411423, 'eval_precision': 0.6837416481069042, 'eval_runtime': 62.7826, 'eval_samples_per_second': 45.22, 'eval_steps_per_second': 5.654, 'epoch': 19.76}\n"
     ]
    },
    {
     "name": "stderr",
     "output_type": "stream",
     "text": [
      " 99%|█████████▉| 56200/56780 [14:15:02<02:39,  3.63it/s]  The following columns in the evaluation set  don't have a corresponding argument in `BertForSequenceClassification.forward` and have been ignored: sentense. If sentense are not expected by `BertForSequenceClassification.forward`,  you can safely ignore this message.\n",
      "***** Running Evaluation *****\n",
      "  Num examples = 2839\n",
      "  Batch size = 8\n",
      "                                                        \n",
      " 99%|█████████▉| 56200/56780 [14:16:05<02:39,  3.63it/s]"
     ]
    },
    {
     "name": "stdout",
     "output_type": "stream",
     "text": [
      "{'eval_loss': 0.6305952072143555, 'eval_recall': 0.9740877842411423, 'eval_precision': 0.6834879406307978, 'eval_runtime': 62.7603, 'eval_samples_per_second': 45.236, 'eval_steps_per_second': 5.656, 'epoch': 19.8}\n"
     ]
    },
    {
     "name": "stderr",
     "output_type": "stream",
     "text": [
      " 99%|█████████▉| 56300/56780 [14:16:32<02:12,  3.63it/s]  The following columns in the evaluation set  don't have a corresponding argument in `BertForSequenceClassification.forward` and have been ignored: sentense. If sentense are not expected by `BertForSequenceClassification.forward`,  you can safely ignore this message.\n",
      "***** Running Evaluation *****\n",
      "  Num examples = 2839\n",
      "  Batch size = 8\n",
      "                                                        \n",
      " 99%|█████████▉| 56300/56780 [14:17:35<02:12,  3.63it/s]"
     ]
    },
    {
     "name": "stdout",
     "output_type": "stream",
     "text": [
      "{'eval_loss': 0.6307327151298523, 'eval_recall': 0.9740877842411423, 'eval_precision': 0.6834879406307978, 'eval_runtime': 62.708, 'eval_samples_per_second': 45.273, 'eval_steps_per_second': 5.661, 'epoch': 19.83}\n"
     ]
    },
    {
     "name": "stderr",
     "output_type": "stream",
     "text": [
      " 99%|█████████▉| 56400/56780 [14:18:02<01:44,  3.64it/s]  The following columns in the evaluation set  don't have a corresponding argument in `BertForSequenceClassification.forward` and have been ignored: sentense. If sentense are not expected by `BertForSequenceClassification.forward`,  you can safely ignore this message.\n",
      "***** Running Evaluation *****\n",
      "  Num examples = 2839\n",
      "  Batch size = 8\n",
      "                                                        \n",
      " 99%|█████████▉| 56400/56780 [14:19:05<01:44,  3.64it/s]"
     ]
    },
    {
     "name": "stdout",
     "output_type": "stream",
     "text": [
      "{'eval_loss': 0.6308518052101135, 'eval_recall': 0.9740877842411423, 'eval_precision': 0.6834879406307978, 'eval_runtime': 62.6546, 'eval_samples_per_second': 45.312, 'eval_steps_per_second': 5.666, 'epoch': 19.87}\n"
     ]
    },
    {
     "name": "stderr",
     "output_type": "stream",
     "text": [
      "100%|█████████▉| 56500/56780 [14:19:33<01:33,  2.98it/s]  The following columns in the evaluation set  don't have a corresponding argument in `BertForSequenceClassification.forward` and have been ignored: sentense. If sentense are not expected by `BertForSequenceClassification.forward`,  you can safely ignore this message.\n",
      "***** Running Evaluation *****\n",
      "  Num examples = 2839\n",
      "  Batch size = 8\n"
     ]
    },
    {
     "name": "stdout",
     "output_type": "stream",
     "text": [
      "{'loss': 0.6135, 'learning_rate': 2.465656921451215e-07, 'epoch': 19.9}\n"
     ]
    },
    {
     "name": "stderr",
     "output_type": "stream",
     "text": [
      "                                                        \n",
      "100%|█████████▉| 56500/56780 [14:20:35<01:33,  2.98it/s]"
     ]
    },
    {
     "name": "stdout",
     "output_type": "stream",
     "text": [
      "{'eval_loss': 0.6308178901672363, 'eval_recall': 0.9740877842411423, 'eval_precision': 0.6834879406307978, 'eval_runtime': 62.6489, 'eval_samples_per_second': 45.316, 'eval_steps_per_second': 5.666, 'epoch': 19.9}\n"
     ]
    },
    {
     "name": "stderr",
     "output_type": "stream",
     "text": [
      "100%|█████████▉| 56600/56780 [14:21:03<00:49,  3.65it/s]  The following columns in the evaluation set  don't have a corresponding argument in `BertForSequenceClassification.forward` and have been ignored: sentense. If sentense are not expected by `BertForSequenceClassification.forward`,  you can safely ignore this message.\n",
      "***** Running Evaluation *****\n",
      "  Num examples = 2839\n",
      "  Batch size = 8\n",
      "                                                        \n",
      "100%|█████████▉| 56600/56780 [14:22:06<00:49,  3.65it/s]"
     ]
    },
    {
     "name": "stdout",
     "output_type": "stream",
     "text": [
      "{'eval_loss': 0.6308563947677612, 'eval_recall': 0.9740877842411423, 'eval_precision': 0.6834879406307978, 'eval_runtime': 62.636, 'eval_samples_per_second': 45.325, 'eval_steps_per_second': 5.668, 'epoch': 19.94}\n"
     ]
    },
    {
     "name": "stderr",
     "output_type": "stream",
     "text": [
      "100%|█████████▉| 56700/56780 [14:22:33<00:22,  3.64it/s]The following columns in the evaluation set  don't have a corresponding argument in `BertForSequenceClassification.forward` and have been ignored: sentense. If sentense are not expected by `BertForSequenceClassification.forward`,  you can safely ignore this message.\n",
      "***** Running Evaluation *****\n",
      "  Num examples = 2839\n",
      "  Batch size = 8\n",
      "                                                        \n",
      "100%|█████████▉| 56700/56780 [14:23:36<00:22,  3.64it/s]"
     ]
    },
    {
     "name": "stdout",
     "output_type": "stream",
     "text": [
      "{'eval_loss': 0.6307917833328247, 'eval_recall': 0.9740877842411423, 'eval_precision': 0.6834879406307978, 'eval_runtime': 62.5514, 'eval_samples_per_second': 45.387, 'eval_steps_per_second': 5.675, 'epoch': 19.97}\n"
     ]
    },
    {
     "name": "stderr",
     "output_type": "stream",
     "text": [
      "100%|█████████▉| 56779/56780 [14:23:57<00:00,  3.63it/s]\n",
      "\n",
      "Training completed. Do not forget to share your model on huggingface.co/models =)\n",
      "\n",
      "\n",
      "100%|██████████| 56780/56780 [14:23:57<00:00,  1.10it/s]\n"
     ]
    },
    {
     "name": "stdout",
     "output_type": "stream",
     "text": [
      "{'train_runtime': 51841.6593, 'train_samples_per_second': 4.38, 'train_steps_per_second': 1.095, 'train_loss': 0.6198767188738332, 'epoch': 20.0}\n",
      "\n"
     ]
    },
    {
     "data": {
      "text/html": [
       "Waiting for W&B process to finish... <strong style=\"color:green\">(success).</strong>"
      ],
      "text/plain": [
       "<IPython.core.display.HTML object>"
      ]
     },
     "metadata": {},
     "output_type": "display_data"
    },
    {
     "data": {
      "application/vnd.jupyter.widget-view+json": {
       "model_id": "27449c11221b4937886fd0ed1e34edcd",
       "version_major": 2,
       "version_minor": 0
      },
      "text/plain": [
       "VBox(children=(Label(value='0.001 MB of 0.001 MB uploaded (0.000 MB deduped)\\r'), FloatProgress(value=1.0, max…"
      ]
     },
     "metadata": {},
     "output_type": "display_data"
    },
    {
     "data": {
      "text/html": [
       "<style>\n",
       "    table.wandb td:nth-child(1) { padding: 0 10px; text-align: right }\n",
       "    .wandb-row { display: flex; flex-direction: row; flex-wrap: wrap; width: 100% }\n",
       "    .wandb-col { display: flex; flex-direction: column; flex-basis: 100%; flex: 1; padding: 10px; }\n",
       "    </style>\n",
       "<div class=\"wandb-row\"><div class=\"wandb-col\"><h3>Run history:</h3><br/><table class=\"wandb\"><tr><td>eval/loss</td><td>▄█▁▁▄▁▅▆▆▇▃▃▄▃▇▄▅▅▅▅▅▆▅▄▄▆▅▆▅▆▄▅▅▅▆▅▅▅▅▅</td></tr><tr><td>eval/precision</td><td>▂▁█▄▅▄▂▁▁▂▄▃▃▃▃▃▂▂▂▂▂▂▂▂▂▂▂▂▂▂▂▂▂▂▂▂▂▂▂▂</td></tr><tr><td>eval/recall</td><td>██▁▆▅▆███▇▆▆▆▆▆▆▇▇▇▇▇▇▇▇▇▇▇▇▇▇▇▇▇▇▇▇▇▇▇▇</td></tr><tr><td>eval/runtime</td><td>█▄▃▃▃▃▂▂▂▃▃▂▂▂▂▅▅▅▆▅▅▆▅▅▅▅▅▄▅▄▅▅▅▅▄▅▁▁▁▂</td></tr><tr><td>eval/samples_per_second</td><td>▁▅▆▆▆▆▆▇▇▆▆▇▇▇▇▄▄▄▃▄▄▃▄▄▄▄▄▄▄▅▄▄▄▄▄▄███▇</td></tr><tr><td>eval/steps_per_second</td><td>▁▅▆▆▆▆▆▇▇▆▆▇▇▇▇▄▄▄▃▄▄▃▄▄▄▄▄▄▄▅▄▄▄▄▅▄███▇</td></tr><tr><td>train/epoch</td><td>▁▁▁▂▂▂▂▂▂▃▃▃▃▃▃▄▄▄▄▄▅▅▅▅▅▅▆▆▆▆▆▆▇▇▇▇▇███</td></tr><tr><td>train/global_step</td><td>▁▁▁▁▂▂▂▂▂▃▃▃▃▃▃▄▄▄▄▄▅▅▅▅▅▅▆▆▆▆▆▇▇▇▇▇▇███</td></tr><tr><td>train/learning_rate</td><td>███▇▇▇▇▇▇▆▆▆▆▆▅▅▅▅▅▅▄▄▄▄▄▄▃▃▃▃▃▂▂▂▂▂▂▁▁▁</td></tr><tr><td>train/loss</td><td>█▅▄▁▄▃▅▅▅▄▄▃▂▅▄▄▅▅▅▅▄▅▅▆▅▅▄▅▅▅▅▅▅▄▄▅▄▅▅▄</td></tr><tr><td>train/total_flos</td><td>▁</td></tr><tr><td>train/train_loss</td><td>▁</td></tr><tr><td>train/train_runtime</td><td>▁</td></tr><tr><td>train/train_samples_per_second</td><td>▁</td></tr><tr><td>train/train_steps_per_second</td><td>▁</td></tr></table><br/></div><div class=\"wandb-col\"><h3>Run summary:</h3><br/><table class=\"wandb\"><tr><td>eval/loss</td><td>0.63079</td></tr><tr><td>eval/precision</td><td>0.68349</td></tr><tr><td>eval/recall</td><td>0.97409</td></tr><tr><td>eval/runtime</td><td>62.5514</td></tr><tr><td>eval/samples_per_second</td><td>45.387</td></tr><tr><td>eval/steps_per_second</td><td>5.675</td></tr><tr><td>train/epoch</td><td>20.0</td></tr><tr><td>train/global_step</td><td>56780</td></tr><tr><td>train/learning_rate</td><td>0.0</td></tr><tr><td>train/loss</td><td>0.6135</td></tr><tr><td>train/total_flos</td><td>5.97419962300416e+16</td></tr><tr><td>train/train_loss</td><td>0.61988</td></tr><tr><td>train/train_runtime</td><td>51841.6593</td></tr><tr><td>train/train_samples_per_second</td><td>4.38</td></tr><tr><td>train/train_steps_per_second</td><td>1.095</td></tr></table><br/></div></div>"
      ],
      "text/plain": [
       "<IPython.core.display.HTML object>"
      ]
     },
     "metadata": {},
     "output_type": "display_data"
    },
    {
     "data": {
      "text/html": [
       "Synced <strong style=\"color:#cdcd00\">fin-bert-sentiment-classifier-20-epoch</strong>: <a href=\"https://wandb.ai/alan8365/Stocktwit_sentiment_analysis/runs/roscy0vb\" target=\"_blank\">https://wandb.ai/alan8365/Stocktwit_sentiment_analysis/runs/roscy0vb</a><br/>Synced 5 W&B file(s), 0 media file(s), 0 artifact file(s) and 0 other file(s)"
      ],
      "text/plain": [
       "<IPython.core.display.HTML object>"
      ]
     },
     "metadata": {},
     "output_type": "display_data"
    },
    {
     "data": {
      "text/html": [
       "Find logs at: <code>.\\wandb\\run-20220324_025651-roscy0vb\\logs</code>"
      ],
      "text/plain": [
       "<IPython.core.display.HTML object>"
      ]
     },
     "metadata": {},
     "output_type": "display_data"
    }
   ],
   "source": [
    "from transformers import TrainingArguments, Trainer\n",
    "from datasets import load_metric\n",
    "\n",
    "import numpy as np\n",
    "import wandb\n",
    "\n",
    "%env WANDB_PROJECT=Stocktwit_sentiment_analysis\n",
    "training_args = TrainingArguments(\n",
    "    output_dir=\"bert-classifier-trainer\",\n",
    "    evaluation_strategy=\"steps\",\n",
    "    eval_steps=100,\n",
    "    num_train_epochs=20,\n",
    "    save_steps=5000,\n",
    "    per_device_train_batch_size=4,\n",
    "    report_to=\"wandb\",\n",
    "    run_name=\"fin-bert-sentiment-classifier-20-epoch\"\n",
    ")\n",
    "\n",
    "recall_metric = load_metric(\"recall\")\n",
    "precision_metric = load_metric(\"precision\")\n",
    "\n",
    "def compute_metrics(eval_pred):\n",
    "    logits, labels = eval_pred\n",
    "    predictions = np.argmax(logits, axis=-1)\n",
    "    result = recall_metric.compute(predictions=predictions, references=labels)\n",
    "    result.update(precision_metric.compute(predictions=predictions, references=labels))\n",
    "    return result\n",
    "\n",
    "trainer = Trainer(\n",
    "    model=model,\n",
    "    args=training_args,\n",
    "    train_dataset=encoded_dataset['train'],\n",
    "    eval_dataset=encoded_dataset['test'],\n",
    "    compute_metrics=compute_metrics,\n",
    ")\n",
    "\n",
    "trainer.train()\n",
    "\n",
    "wandb.finish()"
   ]
  }
 ],
 "metadata": {
  "interpreter": {
   "hash": "152c7e0fd5b2c01bebd317ef10822ff01094aee6d45d80a66ab90147e1c50abf"
  },
  "kernelspec": {
   "display_name": "Python 3.8.12 ('stock-nlp')",
   "language": "python",
   "name": "python3"
  },
  "language_info": {
   "codemirror_mode": {
    "name": "ipython",
    "version": 3
   },
   "file_extension": ".py",
   "mimetype": "text/x-python",
   "name": "python",
   "nbconvert_exporter": "python",
   "pygments_lexer": "ipython3",
   "version": "3.8.12"
  },
  "orig_nbformat": 4
 },
 "nbformat": 4,
 "nbformat_minor": 2
}
